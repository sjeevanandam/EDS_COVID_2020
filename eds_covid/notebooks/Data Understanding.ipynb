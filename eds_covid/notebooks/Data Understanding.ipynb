{
 "metadata": {
  "language_info": {
   "codemirror_mode": {
    "name": "ipython",
    "version": 3
   },
   "file_extension": ".py",
   "mimetype": "text/x-python",
   "name": "python",
   "nbconvert_exporter": "python",
   "pygments_lexer": "ipython3",
   "version": "3.7.4-final"
  },
  "orig_nbformat": 2,
  "kernelspec": {
   "name": "python_defaultSpec_1599577910333",
   "display_name": "Python 3.7.4 64-bit ('base': conda)"
  }
 },
 "nbformat": 4,
 "nbformat_minor": 2,
 "cells": [
  {
   "cell_type": "code",
   "execution_count": 19,
   "metadata": {},
   "outputs": [],
   "source": [
    "import pandas as pd\n",
    "import json\n",
    "\n",
    "pd.set_option('display.max_rows', 500)\n",
    "\n",
    "import requests\n",
    "from bs4 import BeautifulSoup"
   ]
  },
  {
   "cell_type": "markdown",
   "metadata": {},
   "source": [
    "# Data Understanding\n",
    "\n",
    "## Data Sources\n",
    "* RKI, webscraping https://www.rki.de/DE/Content/InfAZ/N/Neuartiges_Coronavirus/Fallzahlen.html\n",
    "* John Hopkins (GIT) https://github.com/CSSEGISandData/COVID-19.git\n",
    "* Rest API to retrieve covid data from NPGEO https://npgeo-corona-npgeo-de.hub.arcgis.com/\n"
   ]
  },
  {
   "cell_type": "markdown",
   "metadata": {},
   "source": [
    "###  John Hopkins Source"
   ]
  },
  {
   "cell_type": "code",
   "execution_count": 3,
   "metadata": {},
   "outputs": [],
   "source": [
    "data_path='../data/raw/COVID-19/csse_covid_19_data/csse_covid_19_time_series/time_series_covid19_confirmed_global.csv'\n",
    "pd_raw=pd.read_csv(data_path)"
   ]
  },
  {
   "cell_type": "code",
   "execution_count": 4,
   "metadata": {},
   "outputs": [
    {
     "output_type": "execute_result",
     "data": {
      "text/plain": "  Province/State Country/Region       Lat       Long  1/22/20  1/23/20  \\\n0            NaN    Afghanistan  33.93911  67.709953        0        0   \n1            NaN        Albania  41.15330  20.168300        0        0   \n2            NaN        Algeria  28.03390   1.659600        0        0   \n3            NaN        Andorra  42.50630   1.521800        0        0   \n4            NaN         Angola -11.20270  17.873900        0        0   \n\n   1/24/20  1/25/20  1/26/20  1/27/20  ...  8/24/20  8/25/20  8/26/20  \\\n0        0        0        0        0  ...    38054    38070    38113   \n1        0        0        0        0  ...     8605     8759     8927   \n2        0        0        0        0  ...    41858    42228    42619   \n3        0        0        0        0  ...     1060     1060     1098   \n4        0        0        0        0  ...     2222     2283     2332   \n\n   8/27/20  8/28/20  8/29/20  8/30/20  8/31/20  9/1/20  9/2/20  \n0    38129    38140    38143    38162    38165   38196   38243  \n1     9083     9195     9279     9380     9513    9606    9728  \n2    43016    43403    43781    44146    44494   44833   45158  \n3     1098     1124     1124     1124     1176    1184    1199  \n4     2415     2471     2551     2624     2654    2729    2777  \n\n[5 rows x 229 columns]",
      "text/html": "<div>\n<style scoped>\n    .dataframe tbody tr th:only-of-type {\n        vertical-align: middle;\n    }\n\n    .dataframe tbody tr th {\n        vertical-align: top;\n    }\n\n    .dataframe thead th {\n        text-align: right;\n    }\n</style>\n<table border=\"1\" class=\"dataframe\">\n  <thead>\n    <tr style=\"text-align: right;\">\n      <th></th>\n      <th>Province/State</th>\n      <th>Country/Region</th>\n      <th>Lat</th>\n      <th>Long</th>\n      <th>1/22/20</th>\n      <th>1/23/20</th>\n      <th>1/24/20</th>\n      <th>1/25/20</th>\n      <th>1/26/20</th>\n      <th>1/27/20</th>\n      <th>...</th>\n      <th>8/24/20</th>\n      <th>8/25/20</th>\n      <th>8/26/20</th>\n      <th>8/27/20</th>\n      <th>8/28/20</th>\n      <th>8/29/20</th>\n      <th>8/30/20</th>\n      <th>8/31/20</th>\n      <th>9/1/20</th>\n      <th>9/2/20</th>\n    </tr>\n  </thead>\n  <tbody>\n    <tr>\n      <td>0</td>\n      <td>NaN</td>\n      <td>Afghanistan</td>\n      <td>33.93911</td>\n      <td>67.709953</td>\n      <td>0</td>\n      <td>0</td>\n      <td>0</td>\n      <td>0</td>\n      <td>0</td>\n      <td>0</td>\n      <td>...</td>\n      <td>38054</td>\n      <td>38070</td>\n      <td>38113</td>\n      <td>38129</td>\n      <td>38140</td>\n      <td>38143</td>\n      <td>38162</td>\n      <td>38165</td>\n      <td>38196</td>\n      <td>38243</td>\n    </tr>\n    <tr>\n      <td>1</td>\n      <td>NaN</td>\n      <td>Albania</td>\n      <td>41.15330</td>\n      <td>20.168300</td>\n      <td>0</td>\n      <td>0</td>\n      <td>0</td>\n      <td>0</td>\n      <td>0</td>\n      <td>0</td>\n      <td>...</td>\n      <td>8605</td>\n      <td>8759</td>\n      <td>8927</td>\n      <td>9083</td>\n      <td>9195</td>\n      <td>9279</td>\n      <td>9380</td>\n      <td>9513</td>\n      <td>9606</td>\n      <td>9728</td>\n    </tr>\n    <tr>\n      <td>2</td>\n      <td>NaN</td>\n      <td>Algeria</td>\n      <td>28.03390</td>\n      <td>1.659600</td>\n      <td>0</td>\n      <td>0</td>\n      <td>0</td>\n      <td>0</td>\n      <td>0</td>\n      <td>0</td>\n      <td>...</td>\n      <td>41858</td>\n      <td>42228</td>\n      <td>42619</td>\n      <td>43016</td>\n      <td>43403</td>\n      <td>43781</td>\n      <td>44146</td>\n      <td>44494</td>\n      <td>44833</td>\n      <td>45158</td>\n    </tr>\n    <tr>\n      <td>3</td>\n      <td>NaN</td>\n      <td>Andorra</td>\n      <td>42.50630</td>\n      <td>1.521800</td>\n      <td>0</td>\n      <td>0</td>\n      <td>0</td>\n      <td>0</td>\n      <td>0</td>\n      <td>0</td>\n      <td>...</td>\n      <td>1060</td>\n      <td>1060</td>\n      <td>1098</td>\n      <td>1098</td>\n      <td>1124</td>\n      <td>1124</td>\n      <td>1124</td>\n      <td>1176</td>\n      <td>1184</td>\n      <td>1199</td>\n    </tr>\n    <tr>\n      <td>4</td>\n      <td>NaN</td>\n      <td>Angola</td>\n      <td>-11.20270</td>\n      <td>17.873900</td>\n      <td>0</td>\n      <td>0</td>\n      <td>0</td>\n      <td>0</td>\n      <td>0</td>\n      <td>0</td>\n      <td>...</td>\n      <td>2222</td>\n      <td>2283</td>\n      <td>2332</td>\n      <td>2415</td>\n      <td>2471</td>\n      <td>2551</td>\n      <td>2624</td>\n      <td>2654</td>\n      <td>2729</td>\n      <td>2777</td>\n    </tr>\n  </tbody>\n</table>\n<p>5 rows × 229 columns</p>\n</div>"
     },
     "metadata": {},
     "execution_count": 4
    }
   ],
   "source": [
    "pd_raw.head()"
   ]
  },
  {
   "cell_type": "markdown",
   "metadata": {},
   "source": [
    "### Web Scraping from RKI\n"
   ]
  },
  {
   "cell_type": "code",
   "execution_count": 5,
   "metadata": {},
   "outputs": [],
   "source": [
    "page = requests.get(\"https://www.rki.de/DE/Content/InfAZ/N/Neuartiges_Coronavirus/Fallzahlen.html\")"
   ]
  },
  {
   "cell_type": "code",
   "execution_count": 6,
   "metadata": {
    "tags": []
   },
   "outputs": [
    {
     "output_type": "stream",
     "name": "stdout",
     "text": "[<tr><th colspan=\"1\" rowspan=\"1\">Bundes­land</th><th class=\"center\" colspan=\"5\" rowspan=\"1\">Elektro­nisch über­mittelte Fälle</th></tr>, <tr><th colspan=\"1\" rowspan=\"1\"></th><th class=\"center\" colspan=\"1\" rowspan=\"1\">An­zahl</th><th class=\"center\" colspan=\"1\" rowspan=\"1\">Dif­fe­renz<br/>\nzum <br/>\nVor­tag</th><th class=\"center\" colspan=\"1\" rowspan=\"1\">Fälle<br/>\nin den <br/>\nletzten<br/>\n7 Tagen</th><th class=\"right\" colspan=\"1\" rowspan=\"1\">7-Tage-<br/>\nInzi­denz</th><th class=\"center\" colspan=\"1\" rowspan=\"1\">Todes­fälle</th></tr>, <tr class=\"even\"><td colspan=\"1\" rowspan=\"1\">Baden-Württem­berg</td><td class=\"right\" colspan=\"1\" rowspan=\"1\">43.861</td><td class=\"right\" colspan=\"1\" rowspan=\"1\">+269</td><td class=\"right\" colspan=\"1\" rowspan=\"1\">1.552</td><td class=\"right\" colspan=\"1\" rowspan=\"1\">14,0</td><td class=\"right\" colspan=\"1\" rowspan=\"1\">1.867</td></tr>, <tr><td colspan=\"1\" rowspan=\"1\">Bayern</td><td class=\"right\" colspan=\"1\" rowspan=\"1\">59.804</td><td class=\"right\" colspan=\"1\" rowspan=\"1\">+506</td><td class=\"right\" colspan=\"1\" rowspan=\"1\">2.125</td><td class=\"right\" colspan=\"1\" rowspan=\"1\">16,3</td><td class=\"right\" colspan=\"1\" rowspan=\"1\">2.643</td></tr>, <tr class=\"even\"><td colspan=\"1\" rowspan=\"1\">Berlin</td><td class=\"right\" colspan=\"1\" rowspan=\"1\">11.792</td><td class=\"right\" colspan=\"1\" rowspan=\"1\">+65</td><td class=\"right\" colspan=\"1\" rowspan=\"1\">455</td><td class=\"right\" colspan=\"1\" rowspan=\"1\">12,1</td><td class=\"right\" colspan=\"1\" rowspan=\"1\">226</td></tr>, <tr><td colspan=\"1\" rowspan=\"1\">Branden­burg</td><td class=\"right\" colspan=\"1\" rowspan=\"1\">3.943</td><td class=\"right\" colspan=\"1\" rowspan=\"1\">+12</td><td class=\"right\" colspan=\"1\" rowspan=\"1\">59</td><td class=\"right\" colspan=\"1\" rowspan=\"1\">2,3</td><td class=\"right\" colspan=\"1\" rowspan=\"1\">169</td></tr>, <tr class=\"even\"><td colspan=\"1\" rowspan=\"1\">Bremen</td><td class=\"right\" colspan=\"1\" rowspan=\"1\">2.073</td><td class=\"right\" colspan=\"1\" rowspan=\"1\">+3</td><td class=\"right\" colspan=\"1\" rowspan=\"1\">74</td><td class=\"right\" colspan=\"1\" rowspan=\"1\">10,8</td><td class=\"right\" colspan=\"1\" rowspan=\"1\">58</td></tr>, <tr><td colspan=\"1\" rowspan=\"1\">Hamburg</td><td class=\"right\" colspan=\"1\" rowspan=\"1\">6.527</td><td class=\"right\" colspan=\"1\" rowspan=\"1\">+41</td><td class=\"right\" colspan=\"1\" rowspan=\"1\">200</td><td class=\"right\" colspan=\"1\" rowspan=\"1\">10,9</td><td class=\"right\" colspan=\"1\" rowspan=\"1\">267</td></tr>, <tr class=\"even\"><td colspan=\"1\" rowspan=\"1\">Hessen</td><td class=\"right\" colspan=\"1\" rowspan=\"1\">16.278</td><td class=\"right\" colspan=\"1\" rowspan=\"1\">+133</td><td class=\"right\" colspan=\"1\" rowspan=\"1\">669</td><td class=\"right\" colspan=\"1\" rowspan=\"1\">10,7</td><td class=\"right\" colspan=\"1\" rowspan=\"1\">535</td></tr>, <tr><td colspan=\"1\" rowspan=\"1\">Meck­lenburg-<br/>\nVor­pommern</td><td class=\"right\" colspan=\"1\" rowspan=\"1\">1.034</td><td class=\"right\" colspan=\"1\" rowspan=\"1\">+11</td><td class=\"right\" colspan=\"1\" rowspan=\"1\">26</td><td class=\"right\" colspan=\"1\" rowspan=\"1\">1,6</td><td class=\"right\" colspan=\"1\" rowspan=\"1\">20</td></tr>, <tr class=\"even\"><td colspan=\"1\" rowspan=\"1\">Nieder­sachsen</td><td class=\"right\" colspan=\"1\" rowspan=\"1\">17.372</td><td class=\"right\" colspan=\"1\" rowspan=\"1\">+88</td><td class=\"right\" colspan=\"1\" rowspan=\"1\">496</td><td class=\"right\" colspan=\"1\" rowspan=\"1\">6,2</td><td class=\"right\" colspan=\"1\" rowspan=\"1\">665</td></tr>, <tr><td colspan=\"1\" rowspan=\"1\">Nord­rhein-West­falen</td><td class=\"right\" colspan=\"1\" rowspan=\"1\">60.695</td><td class=\"right\" colspan=\"1\" rowspan=\"1\">+262</td><td class=\"right\" colspan=\"1\" rowspan=\"1\">1.617</td><td class=\"right\" colspan=\"1\" rowspan=\"1\">9,0</td><td class=\"right\" colspan=\"1\" rowspan=\"1\">1.823</td></tr>, <tr class=\"even\"><td colspan=\"1\" rowspan=\"1\">Rhein­land-Pfalz</td><td class=\"right\" colspan=\"1\" rowspan=\"1\">9.434</td><td class=\"right\" colspan=\"1\" rowspan=\"1\">+70</td><td class=\"right\" colspan=\"1\" rowspan=\"1\">300</td><td class=\"right\" colspan=\"1\" rowspan=\"1\">7,3</td><td class=\"right\" colspan=\"1\" rowspan=\"1\">243</td></tr>, <tr><td colspan=\"1\" rowspan=\"1\">Saarland</td><td class=\"right\" colspan=\"1\" rowspan=\"1\">3.199</td><td class=\"right\" colspan=\"1\" rowspan=\"1\">0</td><td class=\"right\" colspan=\"1\" rowspan=\"1\">44</td><td class=\"right\" colspan=\"1\" rowspan=\"1\">4,4</td><td class=\"right\" colspan=\"1\" rowspan=\"1\">174</td></tr>, <tr class=\"even\"><td colspan=\"1\" rowspan=\"1\">Sachsen</td><td class=\"right\" colspan=\"1\" rowspan=\"1\">6.155</td><td class=\"right\" colspan=\"1\" rowspan=\"1\">+6</td><td class=\"right\" colspan=\"1\" rowspan=\"1\">126</td><td class=\"right\" colspan=\"1\" rowspan=\"1\">3,1</td><td class=\"right\" colspan=\"1\" rowspan=\"1\">225</td></tr>, <tr><td colspan=\"1\" rowspan=\"1\">Sachsen-Anhalt</td><td class=\"right\" colspan=\"1\" rowspan=\"1\">2.287</td><td class=\"right\" colspan=\"1\" rowspan=\"1\">+5</td><td class=\"right\" colspan=\"1\" rowspan=\"1\">39</td><td class=\"right\" colspan=\"1\" rowspan=\"1\">1,8</td><td class=\"right\" colspan=\"1\" rowspan=\"1\">66</td></tr>, <tr class=\"even\"><td colspan=\"1\" rowspan=\"1\">Schles­wig-Holstein</td><td class=\"right\" colspan=\"1\" rowspan=\"1\">4.150</td><td class=\"right\" colspan=\"1\" rowspan=\"1\">+24</td><td class=\"right\" colspan=\"1\" rowspan=\"1\">103</td><td class=\"right\" colspan=\"1\" rowspan=\"1\">3,6</td><td class=\"right\" colspan=\"1\" rowspan=\"1\">161</td></tr>, <tr><td colspan=\"1\" rowspan=\"1\">Thüringen</td><td class=\"right\" colspan=\"1\" rowspan=\"1\">3.694</td><td class=\"right\" colspan=\"1\" rowspan=\"1\">+4</td><td class=\"right\" colspan=\"1\" rowspan=\"1\">59</td><td class=\"right\" colspan=\"1\" rowspan=\"1\">2,8</td><td class=\"right\" colspan=\"1\" rowspan=\"1\">187</td></tr>, <tr class=\"even\"><td colspan=\"1\" rowspan=\"1\"><strong>Gesamt</strong></td><td class=\"right\" colspan=\"1\" rowspan=\"1\"><strong>252.298</strong></td><td class=\"right\" colspan=\"1\" rowspan=\"1\"><strong>+1.499</strong></td><td class=\"right\" colspan=\"1\" rowspan=\"1\"><strong>7.944</strong></td><td class=\"right\" colspan=\"1\" rowspan=\"1\"><strong>9,6</strong></td><td class=\"right\" colspan=\"1\" rowspan=\"1\"><strong>9.329</strong></td></tr>]\n"
    }
   ],
   "source": [
    "soup = BeautifulSoup(page.content, 'html.parser')\n",
    "\n",
    "html_table = soup.find('table')\n",
    "all_rows = html_table.find_all('tr')\n",
    "print(all_rows)"
   ]
  },
  {
   "cell_type": "code",
   "execution_count": 8,
   "metadata": {
    "tags": []
   },
   "outputs": [
    {
     "output_type": "stream",
     "name": "stdout",
     "text": "[[], [], ['Baden-Württem\\xadberg', '43.861', '+269', '1.552', '14,0', '1.867'], ['Bayern', '59.804', '+506', '2.125', '16,3', '2.643'], ['Berlin', '11.792', '+65', '455', '12,1', '226'], ['Branden\\xadburg', '3.943', '+12', '59', '2,3', '169'], ['Bremen', '2.073', '+3', '74', '10,8', '58'], ['Hamburg', '6.527', '+41', '200', '10,9', '267'], ['Hessen', '16.278', '+133', '669', '10,7', '535'], ['Meck\\xadlenburg-Vor\\xadpommern', '1.034', '+11', '26', '1,6', '20'], ['Nieder\\xadsachsen', '17.372', '+88', '496', '6,2', '665'], ['Nord\\xadrhein-West\\xadfalen', '60.695', '+262', '1.617', '9,0', '1.823'], ['Rhein\\xadland-Pfalz', '9.434', '+70', '300', '7,3', '243'], ['Saarland', '3.199', '0', '44', '4,4', '174'], ['Sachsen', '6.155', '+6', '126', '3,1', '225'], ['Sachsen-Anhalt', '2.287', '+5', '39', '1,8', '66'], ['Schles\\xadwig-Holstein', '4.150', '+24', '103', '3,6', '161'], ['Thüringen', '3.694', '+4', '59', '2,8', '187'], ['Gesamt', '252.298', '+1.499', '7.944', '9,6', '9.329']]\n"
    }
   ],
   "source": [
    "final_table_data = []\n",
    "for pos,rows in enumerate(all_rows):\n",
    "    col_list=[each_col.get_text(strip=True) for each_col in rows.find_all('td')] #td for data element\n",
    "    final_table_data.append(col_list)\n",
    "print(final_table_data)"
   ]
  },
  {
   "cell_type": "code",
   "execution_count": 16,
   "metadata": {
    "tags": []
   },
   "outputs": [
    {
     "output_type": "execute_result",
     "data": {
      "text/plain": "                state   cases changes cases_per_100k fatality comment\n2  Baden-Württem­berg  43.861    +269          1.552     14,0   1.867\n3              Bayern  59.804    +506          2.125     16,3   2.643\n4              Berlin  11.792     +65            455     12,1     226\n5        Branden­burg   3.943     +12             59      2,3     169\n6              Bremen   2.073      +3             74     10,8      58",
      "text/html": "<div>\n<style scoped>\n    .dataframe tbody tr th:only-of-type {\n        vertical-align: middle;\n    }\n\n    .dataframe tbody tr th {\n        vertical-align: top;\n    }\n\n    .dataframe thead th {\n        text-align: right;\n    }\n</style>\n<table border=\"1\" class=\"dataframe\">\n  <thead>\n    <tr style=\"text-align: right;\">\n      <th></th>\n      <th>state</th>\n      <th>cases</th>\n      <th>changes</th>\n      <th>cases_per_100k</th>\n      <th>fatality</th>\n      <th>comment</th>\n    </tr>\n  </thead>\n  <tbody>\n    <tr>\n      <td>2</td>\n      <td>Baden-Württem­berg</td>\n      <td>43.861</td>\n      <td>+269</td>\n      <td>1.552</td>\n      <td>14,0</td>\n      <td>1.867</td>\n    </tr>\n    <tr>\n      <td>3</td>\n      <td>Bayern</td>\n      <td>59.804</td>\n      <td>+506</td>\n      <td>2.125</td>\n      <td>16,3</td>\n      <td>2.643</td>\n    </tr>\n    <tr>\n      <td>4</td>\n      <td>Berlin</td>\n      <td>11.792</td>\n      <td>+65</td>\n      <td>455</td>\n      <td>12,1</td>\n      <td>226</td>\n    </tr>\n    <tr>\n      <td>5</td>\n      <td>Branden­burg</td>\n      <td>3.943</td>\n      <td>+12</td>\n      <td>59</td>\n      <td>2,3</td>\n      <td>169</td>\n    </tr>\n    <tr>\n      <td>6</td>\n      <td>Bremen</td>\n      <td>2.073</td>\n      <td>+3</td>\n      <td>74</td>\n      <td>10,8</td>\n      <td>58</td>\n    </tr>\n  </tbody>\n</table>\n</div>"
     },
     "metadata": {},
     "execution_count": 16
    }
   ],
   "source": [
    "pd.DataFrame(final_table_data).dropna().rename(columns={0:'state',\n",
    "                                                       1:'cases',\n",
    "                                                       2:'changes',\n",
    "                                                       3:'cases_per_100k',\n",
    "                                                       4:'fatality',\n",
    "                                                       5:'comment'}).head()"
   ]
  },
  {
   "cell_type": "markdown",
   "metadata": {},
   "source": [
    "## REST API CALLS"
   ]
  },
  {
   "cell_type": "code",
   "execution_count": 17,
   "metadata": {},
   "outputs": [],
   "source": [
    "## data request for Germany\n",
    "data=requests.get('https://services7.arcgis.com/mOBPykOjAyBO2ZKk/arcgis/rest/services/Coronaf%C3%A4lle_in_den_Bundesl%C3%A4ndern/FeatureServer/0/query?where=1%3D1&outFields=*&outSR=4326&f=json')"
   ]
  },
  {
   "cell_type": "code",
   "execution_count": 21,
   "metadata": {},
   "outputs": [
    {
     "output_type": "execute_result",
     "data": {
      "text/plain": "dict_keys(['objectIdFieldName', 'uniqueIdField', 'globalIdFieldName', 'geometryProperties', 'serverGens', 'geometryType', 'spatialReference', 'fields', 'features'])"
     },
     "metadata": {},
     "execution_count": 21
    }
   ],
   "source": [
    "json_object=json.loads(data.content) \n",
    "json_object.keys()"
   ]
  },
  {
   "cell_type": "code",
   "execution_count": 22,
   "metadata": {},
   "outputs": [],
   "source": [
    "full_list=[]\n",
    "for pos,each_dict in enumerate (json_object['features'][:]):\n",
    "    full_list.append(each_dict['attributes'])"
   ]
  },
  {
   "cell_type": "code",
   "execution_count": 24,
   "metadata": {},
   "outputs": [
    {
     "output_type": "execute_result",
     "data": {
      "text/plain": "   OBJECTID_1 LAN_ew_AGS           LAN_ew_GEN            LAN_ew_BEZ  \\\n0           1         01   Schleswig-Holstein                  Land   \n1           2         02              Hamburg  Freie und Hansestadt   \n2           3         03        Niedersachsen                  Land   \n3           4         04               Bremen      Freie Hansestadt   \n4           5         05  Nordrhein-Westfalen                  Land   \n\n   LAN_ew_EWZ  OBJECTID  Fallzahl  Aktualisierung AGS_TXT  \\\n0     2896712        15      4197   1599688800000      01   \n1     1841179         6      6626   1599688800000      02   \n2     7982448         9     17572   1599688800000      03   \n3      682986         5      2094   1599688800000      04   \n4    17932651        10     61201   1599688800000      05   \n\n                               GlobalID  faelle_100000_EW   Shape__Area  \\\n0  fc5ba936-c95c-432c-8a33-9eb2f30b660f        144.888411  4.573731e+10   \n1  0f3e860c-5181-4d3f-a421-1d51f50315ea        359.878100  2.089396e+09   \n2  3fd77024-c29b-4843-9be8-682ad48e60c9        220.132972  1.299836e+11   \n3  4132268b-54de-4327-ac1e-760e915112f1        306.594864  1.119157e+09   \n4  561d658f-3ee5-46e3-bc95-3528c6558ab9        341.282502  8.782936e+10   \n\n   Shape__Length  Death  \n0   2.881496e+06    161  \n1   4.188002e+05    267  \n2   4.008988e+06    665  \n3   3.357177e+05     58  \n4   2.648673e+06   1827  ",
      "text/html": "<div>\n<style scoped>\n    .dataframe tbody tr th:only-of-type {\n        vertical-align: middle;\n    }\n\n    .dataframe tbody tr th {\n        vertical-align: top;\n    }\n\n    .dataframe thead th {\n        text-align: right;\n    }\n</style>\n<table border=\"1\" class=\"dataframe\">\n  <thead>\n    <tr style=\"text-align: right;\">\n      <th></th>\n      <th>OBJECTID_1</th>\n      <th>LAN_ew_AGS</th>\n      <th>LAN_ew_GEN</th>\n      <th>LAN_ew_BEZ</th>\n      <th>LAN_ew_EWZ</th>\n      <th>OBJECTID</th>\n      <th>Fallzahl</th>\n      <th>Aktualisierung</th>\n      <th>AGS_TXT</th>\n      <th>GlobalID</th>\n      <th>faelle_100000_EW</th>\n      <th>Shape__Area</th>\n      <th>Shape__Length</th>\n      <th>Death</th>\n    </tr>\n  </thead>\n  <tbody>\n    <tr>\n      <td>0</td>\n      <td>1</td>\n      <td>01</td>\n      <td>Schleswig-Holstein</td>\n      <td>Land</td>\n      <td>2896712</td>\n      <td>15</td>\n      <td>4197</td>\n      <td>1599688800000</td>\n      <td>01</td>\n      <td>fc5ba936-c95c-432c-8a33-9eb2f30b660f</td>\n      <td>144.888411</td>\n      <td>4.573731e+10</td>\n      <td>2.881496e+06</td>\n      <td>161</td>\n    </tr>\n    <tr>\n      <td>1</td>\n      <td>2</td>\n      <td>02</td>\n      <td>Hamburg</td>\n      <td>Freie und Hansestadt</td>\n      <td>1841179</td>\n      <td>6</td>\n      <td>6626</td>\n      <td>1599688800000</td>\n      <td>02</td>\n      <td>0f3e860c-5181-4d3f-a421-1d51f50315ea</td>\n      <td>359.878100</td>\n      <td>2.089396e+09</td>\n      <td>4.188002e+05</td>\n      <td>267</td>\n    </tr>\n    <tr>\n      <td>2</td>\n      <td>3</td>\n      <td>03</td>\n      <td>Niedersachsen</td>\n      <td>Land</td>\n      <td>7982448</td>\n      <td>9</td>\n      <td>17572</td>\n      <td>1599688800000</td>\n      <td>03</td>\n      <td>3fd77024-c29b-4843-9be8-682ad48e60c9</td>\n      <td>220.132972</td>\n      <td>1.299836e+11</td>\n      <td>4.008988e+06</td>\n      <td>665</td>\n    </tr>\n    <tr>\n      <td>3</td>\n      <td>4</td>\n      <td>04</td>\n      <td>Bremen</td>\n      <td>Freie Hansestadt</td>\n      <td>682986</td>\n      <td>5</td>\n      <td>2094</td>\n      <td>1599688800000</td>\n      <td>04</td>\n      <td>4132268b-54de-4327-ac1e-760e915112f1</td>\n      <td>306.594864</td>\n      <td>1.119157e+09</td>\n      <td>3.357177e+05</td>\n      <td>58</td>\n    </tr>\n    <tr>\n      <td>4</td>\n      <td>5</td>\n      <td>05</td>\n      <td>Nordrhein-Westfalen</td>\n      <td>Land</td>\n      <td>17932651</td>\n      <td>10</td>\n      <td>61201</td>\n      <td>1599688800000</td>\n      <td>05</td>\n      <td>561d658f-3ee5-46e3-bc95-3528c6558ab9</td>\n      <td>341.282502</td>\n      <td>8.782936e+10</td>\n      <td>2.648673e+06</td>\n      <td>1827</td>\n    </tr>\n  </tbody>\n</table>\n</div>"
     },
     "metadata": {},
     "execution_count": 24
    }
   ],
   "source": [
    "pd_full_list=pd.DataFrame(full_list)\n",
    "pd_full_list.head()"
   ]
  },
  {
   "cell_type": "code",
   "execution_count": 36,
   "metadata": {},
   "outputs": [
    {
     "output_type": "execute_result",
     "data": {
      "text/plain": "    OBJECTID_1 LAN_ew_AGS              LAN_ew_GEN            LAN_ew_BEZ  \\\n0            1         01      Schleswig-Holstein                  Land   \n1            2         02                 Hamburg  Freie und Hansestadt   \n2            3         03           Niedersachsen                  Land   \n3            4         04                  Bremen      Freie Hansestadt   \n4            5         05     Nordrhein-Westfalen                  Land   \n5            6         06                  Hessen                  Land   \n6            7         07         Rheinland-Pfalz                  Land   \n7            8         08       Baden-Württemberg                  Land   \n8            9         09                  Bayern             Freistaat   \n9           10         10                Saarland                  Land   \n10          11         11                  Berlin                  Land   \n11          12         12             Brandenburg                  Land   \n12          13         13  Mecklenburg-Vorpommern                  Land   \n13          14         14                 Sachsen             Freistaat   \n14          15         15          Sachsen-Anhalt                  Land   \n15          16         16               Thüringen             Freistaat   \n\n    LAN_ew_EWZ  OBJECTID  Fallzahl  Aktualisierung AGS_TXT  \\\n0      2896712        15      4197   1599688800000      01   \n1      1841179         6      6626   1599688800000      02   \n2      7982448         9     17572   1599688800000      03   \n3       682986         5      2094   1599688800000      04   \n4     17932651        10     61201   1599688800000      05   \n5      6265809         7     16500   1599688800000      06   \n6      4084844        11      9560   1599688800000      07   \n7     11069533         1     44396   1599688800000      08   \n8     13076721         2     60759   1599688800000      09   \n9       990509        12      3218   1599688800000      10   \n10     3644826         3     11951   1599688800000      11   \n11     2511917         4      3966   1599688800000      12   \n12     1609675         8      1044   1599688800000      13   \n13     4077937        13      6255   1599688800000      14   \n14     2208321        14      2305   1599688800000      15   \n15     2143145        16      3722   1599688800000      16   \n\n                                GlobalID  faelle_100000_EW   Shape__Area  \\\n0   fc5ba936-c95c-432c-8a33-9eb2f30b660f        144.888411  4.573731e+10   \n1   0f3e860c-5181-4d3f-a421-1d51f50315ea        359.878100  2.089396e+09   \n2   3fd77024-c29b-4843-9be8-682ad48e60c9        220.132972  1.299836e+11   \n3   4132268b-54de-4327-ac1e-760e915112f1        306.594864  1.119157e+09   \n4   561d658f-3ee5-46e3-bc95-3528c6558ab9        341.282502  8.782936e+10   \n5   93277ac4-e8fc-48c7-8940-028dc2ed66af        263.333913  5.235913e+10   \n6   e9b4296f-9be2-4e53-9a58-ccf1396cb03d        234.035865  4.783877e+10   \n7   80394ddf-c6a4-4a6e-be8e-0259a81b22a9        401.064797  8.151732e+10   \n8   1ff920f4-62cd-4a4f-b8c9-f042f2a3e00a        464.634827  1.634855e+11   \n9   e3396a6f-8a30-4fdf-8df7-def77dd38bea        324.883469  6.060692e+09   \n10  c7033073-2bb0-486b-97af-5b3c639e7219        327.889452  2.402458e+09   \n11  b560af89-5895-4be4-96f8-0f581cd8a858        157.887382  7.980197e+10   \n12  a27f5628-e790-45be-898d-f0a6841c0f7e         64.857813  6.587352e+10   \n13  256d2405-a7c8-4fec-93df-29f3c808cd25        153.386381  4.662650e+10   \n14  66106bbe-f04b-4f92-80e1-5b5b30da25b5        104.377941  5.417701e+10   \n15  3a3e2817-bb19-4f8c-8bca-d8ff591140d4        173.670004  4.068521e+10   \n\n    Shape__Length  Death  \n0    2.881496e+06    161  \n1    4.188002e+05    267  \n2    4.008988e+06    665  \n3    3.357177e+05     58  \n4    2.648673e+06   1827  \n5    2.148244e+06    537  \n6    1.774430e+06    245  \n7    2.544320e+06   1868  \n8    3.898618e+06   2644  \n9    5.626789e+05    175  \n10   3.639792e+05    226  \n11   2.571385e+06    169  \n12   4.131181e+06     20  \n13   2.048280e+06    225  \n14   1.920387e+06     66  \n15   2.015719e+06    188  ",
      "text/html": "<div>\n<style scoped>\n    .dataframe tbody tr th:only-of-type {\n        vertical-align: middle;\n    }\n\n    .dataframe tbody tr th {\n        vertical-align: top;\n    }\n\n    .dataframe thead th {\n        text-align: right;\n    }\n</style>\n<table border=\"1\" class=\"dataframe\">\n  <thead>\n    <tr style=\"text-align: right;\">\n      <th></th>\n      <th>OBJECTID_1</th>\n      <th>LAN_ew_AGS</th>\n      <th>LAN_ew_GEN</th>\n      <th>LAN_ew_BEZ</th>\n      <th>LAN_ew_EWZ</th>\n      <th>OBJECTID</th>\n      <th>Fallzahl</th>\n      <th>Aktualisierung</th>\n      <th>AGS_TXT</th>\n      <th>GlobalID</th>\n      <th>faelle_100000_EW</th>\n      <th>Shape__Area</th>\n      <th>Shape__Length</th>\n      <th>Death</th>\n    </tr>\n  </thead>\n  <tbody>\n    <tr>\n      <td>0</td>\n      <td>1</td>\n      <td>01</td>\n      <td>Schleswig-Holstein</td>\n      <td>Land</td>\n      <td>2896712</td>\n      <td>15</td>\n      <td>4197</td>\n      <td>1599688800000</td>\n      <td>01</td>\n      <td>fc5ba936-c95c-432c-8a33-9eb2f30b660f</td>\n      <td>144.888411</td>\n      <td>4.573731e+10</td>\n      <td>2.881496e+06</td>\n      <td>161</td>\n    </tr>\n    <tr>\n      <td>1</td>\n      <td>2</td>\n      <td>02</td>\n      <td>Hamburg</td>\n      <td>Freie und Hansestadt</td>\n      <td>1841179</td>\n      <td>6</td>\n      <td>6626</td>\n      <td>1599688800000</td>\n      <td>02</td>\n      <td>0f3e860c-5181-4d3f-a421-1d51f50315ea</td>\n      <td>359.878100</td>\n      <td>2.089396e+09</td>\n      <td>4.188002e+05</td>\n      <td>267</td>\n    </tr>\n    <tr>\n      <td>2</td>\n      <td>3</td>\n      <td>03</td>\n      <td>Niedersachsen</td>\n      <td>Land</td>\n      <td>7982448</td>\n      <td>9</td>\n      <td>17572</td>\n      <td>1599688800000</td>\n      <td>03</td>\n      <td>3fd77024-c29b-4843-9be8-682ad48e60c9</td>\n      <td>220.132972</td>\n      <td>1.299836e+11</td>\n      <td>4.008988e+06</td>\n      <td>665</td>\n    </tr>\n    <tr>\n      <td>3</td>\n      <td>4</td>\n      <td>04</td>\n      <td>Bremen</td>\n      <td>Freie Hansestadt</td>\n      <td>682986</td>\n      <td>5</td>\n      <td>2094</td>\n      <td>1599688800000</td>\n      <td>04</td>\n      <td>4132268b-54de-4327-ac1e-760e915112f1</td>\n      <td>306.594864</td>\n      <td>1.119157e+09</td>\n      <td>3.357177e+05</td>\n      <td>58</td>\n    </tr>\n    <tr>\n      <td>4</td>\n      <td>5</td>\n      <td>05</td>\n      <td>Nordrhein-Westfalen</td>\n      <td>Land</td>\n      <td>17932651</td>\n      <td>10</td>\n      <td>61201</td>\n      <td>1599688800000</td>\n      <td>05</td>\n      <td>561d658f-3ee5-46e3-bc95-3528c6558ab9</td>\n      <td>341.282502</td>\n      <td>8.782936e+10</td>\n      <td>2.648673e+06</td>\n      <td>1827</td>\n    </tr>\n    <tr>\n      <td>5</td>\n      <td>6</td>\n      <td>06</td>\n      <td>Hessen</td>\n      <td>Land</td>\n      <td>6265809</td>\n      <td>7</td>\n      <td>16500</td>\n      <td>1599688800000</td>\n      <td>06</td>\n      <td>93277ac4-e8fc-48c7-8940-028dc2ed66af</td>\n      <td>263.333913</td>\n      <td>5.235913e+10</td>\n      <td>2.148244e+06</td>\n      <td>537</td>\n    </tr>\n    <tr>\n      <td>6</td>\n      <td>7</td>\n      <td>07</td>\n      <td>Rheinland-Pfalz</td>\n      <td>Land</td>\n      <td>4084844</td>\n      <td>11</td>\n      <td>9560</td>\n      <td>1599688800000</td>\n      <td>07</td>\n      <td>e9b4296f-9be2-4e53-9a58-ccf1396cb03d</td>\n      <td>234.035865</td>\n      <td>4.783877e+10</td>\n      <td>1.774430e+06</td>\n      <td>245</td>\n    </tr>\n    <tr>\n      <td>7</td>\n      <td>8</td>\n      <td>08</td>\n      <td>Baden-Württemberg</td>\n      <td>Land</td>\n      <td>11069533</td>\n      <td>1</td>\n      <td>44396</td>\n      <td>1599688800000</td>\n      <td>08</td>\n      <td>80394ddf-c6a4-4a6e-be8e-0259a81b22a9</td>\n      <td>401.064797</td>\n      <td>8.151732e+10</td>\n      <td>2.544320e+06</td>\n      <td>1868</td>\n    </tr>\n    <tr>\n      <td>8</td>\n      <td>9</td>\n      <td>09</td>\n      <td>Bayern</td>\n      <td>Freistaat</td>\n      <td>13076721</td>\n      <td>2</td>\n      <td>60759</td>\n      <td>1599688800000</td>\n      <td>09</td>\n      <td>1ff920f4-62cd-4a4f-b8c9-f042f2a3e00a</td>\n      <td>464.634827</td>\n      <td>1.634855e+11</td>\n      <td>3.898618e+06</td>\n      <td>2644</td>\n    </tr>\n    <tr>\n      <td>9</td>\n      <td>10</td>\n      <td>10</td>\n      <td>Saarland</td>\n      <td>Land</td>\n      <td>990509</td>\n      <td>12</td>\n      <td>3218</td>\n      <td>1599688800000</td>\n      <td>10</td>\n      <td>e3396a6f-8a30-4fdf-8df7-def77dd38bea</td>\n      <td>324.883469</td>\n      <td>6.060692e+09</td>\n      <td>5.626789e+05</td>\n      <td>175</td>\n    </tr>\n    <tr>\n      <td>10</td>\n      <td>11</td>\n      <td>11</td>\n      <td>Berlin</td>\n      <td>Land</td>\n      <td>3644826</td>\n      <td>3</td>\n      <td>11951</td>\n      <td>1599688800000</td>\n      <td>11</td>\n      <td>c7033073-2bb0-486b-97af-5b3c639e7219</td>\n      <td>327.889452</td>\n      <td>2.402458e+09</td>\n      <td>3.639792e+05</td>\n      <td>226</td>\n    </tr>\n    <tr>\n      <td>11</td>\n      <td>12</td>\n      <td>12</td>\n      <td>Brandenburg</td>\n      <td>Land</td>\n      <td>2511917</td>\n      <td>4</td>\n      <td>3966</td>\n      <td>1599688800000</td>\n      <td>12</td>\n      <td>b560af89-5895-4be4-96f8-0f581cd8a858</td>\n      <td>157.887382</td>\n      <td>7.980197e+10</td>\n      <td>2.571385e+06</td>\n      <td>169</td>\n    </tr>\n    <tr>\n      <td>12</td>\n      <td>13</td>\n      <td>13</td>\n      <td>Mecklenburg-Vorpommern</td>\n      <td>Land</td>\n      <td>1609675</td>\n      <td>8</td>\n      <td>1044</td>\n      <td>1599688800000</td>\n      <td>13</td>\n      <td>a27f5628-e790-45be-898d-f0a6841c0f7e</td>\n      <td>64.857813</td>\n      <td>6.587352e+10</td>\n      <td>4.131181e+06</td>\n      <td>20</td>\n    </tr>\n    <tr>\n      <td>13</td>\n      <td>14</td>\n      <td>14</td>\n      <td>Sachsen</td>\n      <td>Freistaat</td>\n      <td>4077937</td>\n      <td>13</td>\n      <td>6255</td>\n      <td>1599688800000</td>\n      <td>14</td>\n      <td>256d2405-a7c8-4fec-93df-29f3c808cd25</td>\n      <td>153.386381</td>\n      <td>4.662650e+10</td>\n      <td>2.048280e+06</td>\n      <td>225</td>\n    </tr>\n    <tr>\n      <td>14</td>\n      <td>15</td>\n      <td>15</td>\n      <td>Sachsen-Anhalt</td>\n      <td>Land</td>\n      <td>2208321</td>\n      <td>14</td>\n      <td>2305</td>\n      <td>1599688800000</td>\n      <td>15</td>\n      <td>66106bbe-f04b-4f92-80e1-5b5b30da25b5</td>\n      <td>104.377941</td>\n      <td>5.417701e+10</td>\n      <td>1.920387e+06</td>\n      <td>66</td>\n    </tr>\n    <tr>\n      <td>15</td>\n      <td>16</td>\n      <td>16</td>\n      <td>Thüringen</td>\n      <td>Freistaat</td>\n      <td>2143145</td>\n      <td>16</td>\n      <td>3722</td>\n      <td>1599688800000</td>\n      <td>16</td>\n      <td>3a3e2817-bb19-4f8c-8bca-d8ff591140d4</td>\n      <td>173.670004</td>\n      <td>4.068521e+10</td>\n      <td>2.015719e+06</td>\n      <td>188</td>\n    </tr>\n  </tbody>\n</table>\n</div>"
     },
     "metadata": {},
     "execution_count": 36
    }
   ],
   "source": [
    "pd_full_list.to_csv('../data/raw/NPGEO/GER_state_data.csv',sep=';')\n",
    "pd_full_list"
   ]
  },
  {
   "cell_type": "code",
   "execution_count": 37,
   "metadata": {},
   "outputs": [
    {
     "output_type": "execute_result",
     "data": {
      "text/plain": "16"
     },
     "metadata": {},
     "execution_count": 37
    }
   ],
   "source": [
    "pd_full_list.shape[0]"
   ]
  },
  {
   "cell_type": "markdown",
   "metadata": {},
   "source": [
    "## API access via REST service, e.g. USA data \n"
   ]
  },
  {
   "cell_type": "code",
   "execution_count": 39,
   "metadata": {
    "tags": []
   },
   "outputs": [
    {
     "output_type": "stream",
     "name": "stdout",
     "text": "Request Success!\n"
    }
   ],
   "source": [
    "# US for full list\n",
    "headers = {\n",
    "    'Cache-Control': 'no-cache',\n",
    "    'Subscription-Key': '28ee4219700f48718be78b057beb7eb4',\n",
    "}\n",
    "\n",
    "response = requests.get('https://api.smartable.ai/coronavirus/stats/US', headers=headers)\n",
    "if response.status_code != 200:\n",
    "    print(\"Something Wrong with Request!!\")\n",
    "else: \n",
    "    print(\"Request Success!\")"
   ]
  },
  {
   "cell_type": "code",
   "execution_count": 43,
   "metadata": {},
   "outputs": [],
   "source": [
    "US_dict=json.loads(response.content) # imports string\n",
    "with open('../data/raw/SMARTABLE/US_data.json', 'w') as outfile:\n",
    "    json.dump(US_dict, outfile,indent=2)"
   ]
  },
  {
   "cell_type": "code",
   "execution_count": 44,
   "metadata": {
    "tags": [
     "outputPrepend"
    ]
   },
   "outputs": [
    {
     "output_type": "stream",
     "name": "stdout",
     "text": "ion\": {\n          \"long\": -114.742041,\n          \"countryOrRegion\": \"United States\",\n          \"provinceOrState\": \"Idaho\",\n          \"county\": null,\n          \"isoCode\": \"US-ID\",\n          \"lat\": 44.068202\n        },\n        \"totalConfirmedCases\": 35795,\n        \"newlyConfirmedCases\": 0,\n        \"totalDeaths\": 424,\n        \"newDeaths\": 0,\n        \"totalRecoveredCases\": 10369,\n        \"newlyRecoveredCases\": 0\n      },\n      {\n        \"location\": {\n          \"long\": -89.398528,\n          \"countryOrRegion\": \"United States\",\n          \"provinceOrState\": \"Illinois\",\n          \"county\": null,\n          \"isoCode\": \"US-IL\",\n          \"lat\": 40.633125\n        },\n        \"totalConfirmedCases\": 256949,\n        \"newlyConfirmedCases\": 0,\n        \"totalDeaths\": 8466,\n        \"newDeaths\": 0,\n        \"totalRecoveredCases\": 146699,\n        \"newlyRecoveredCases\": 0\n      },\n      {\n        \"location\": {\n          \"long\": -85.602364,\n          \"countryOrRegion\": \"United States\",\n          \"provinceOrState\": \"Indiana\",\n          \"county\": null,\n          \"isoCode\": \"US-IN\",\n          \"lat\": 40.551217\n        },\n        \"totalConfirmedCases\": 109955,\n        \"newlyConfirmedCases\": 0,\n        \"totalDeaths\": 3595,\n        \"newDeaths\": 0,\n        \"totalRecoveredCases\": 59073,\n        \"newlyRecoveredCases\": 0\n      },\n      {\n        \"location\": {\n          \"long\": -93.097702,\n          \"countryOrRegion\": \"United States\",\n          \"provinceOrState\": \"Iowa\",\n          \"county\": null,\n          \"isoCode\": \"US-IA\",\n          \"lat\": 41.878003\n        },\n        \"totalConfirmedCases\": 71628,\n        \"newlyConfirmedCases\": 0,\n        \"totalDeaths\": 1205,\n        \"newDeaths\": 0,\n        \"totalRecoveredCases\": 39943,\n        \"newlyRecoveredCases\": 0\n      },\n      {\n        \"location\": {\n          \"long\": -98.484246,\n          \"countryOrRegion\": \"United States\",\n          \"provinceOrState\": \"Kansas\",\n          \"county\": null,\n          \"isoCode\": \"US-KS\",\n          \"lat\": 39.011902\n        },\n        \"totalConfirmedCases\": 48703,\n        \"newlyConfirmedCases\": 0,\n        \"totalDeaths\": 509,\n        \"newDeaths\": 0,\n        \"totalRecoveredCases\": 21063,\n        \"newlyRecoveredCases\": 0\n      },\n      {\n        \"location\": {\n          \"long\": -84.270018,\n          \"countryOrRegion\": \"United States\",\n          \"provinceOrState\": \"Kentucky\",\n          \"county\": null,\n          \"isoCode\": \"US-KY\",\n          \"lat\": 37.839333\n        },\n        \"totalConfirmedCases\": 57528,\n        \"newlyConfirmedCases\": 0,\n        \"totalDeaths\": 1060,\n        \"newDeaths\": 0,\n        \"totalRecoveredCases\": 9021,\n        \"newlyRecoveredCases\": 0\n      },\n      {\n        \"location\": {\n          \"long\": -92.145024,\n          \"countryOrRegion\": \"United States\",\n          \"provinceOrState\": \"Louisiana\",\n          \"county\": null,\n          \"isoCode\": \"US-LA\",\n          \"lat\": 31.244823\n        },\n        \"totalConfirmedCases\": 155429,\n        \"newlyConfirmedCases\": 0,\n        \"totalDeaths\": 5147,\n        \"newDeaths\": 0,\n        \"totalRecoveredCases\": 103512,\n        \"newlyRecoveredCases\": 0\n      },\n      {\n        \"location\": {\n          \"long\": -69.445469,\n          \"countryOrRegion\": \"United States\",\n          \"provinceOrState\": \"Maine\",\n          \"county\": null,\n          \"isoCode\": \"US-ME\",\n          \"lat\": 45.253783\n        },\n        \"totalConfirmedCases\": 4742,\n        \"newlyConfirmedCases\": 0,\n        \"totalDeaths\": 134,\n        \"newDeaths\": 0,\n        \"totalRecoveredCases\": 3604,\n        \"newlyRecoveredCases\": 0\n      },\n      {\n        \"location\": {\n          \"long\": -76.641271,\n          \"countryOrRegion\": \"United States\",\n          \"provinceOrState\": \"Maryland\",\n          \"county\": null,\n          \"isoCode\": \"US-MD\",\n          \"lat\": 39.045755\n        },\n        \"totalConfirmedCases\": 111682,\n        \"newlyConfirmedCases\": 0,\n        \"totalDeaths\": 3782,\n        \"newDeaths\": 0,\n        \"totalRecoveredCases\": 5986,\n        \"newlyRecoveredCases\": 0\n      },\n      {\n        \"location\": {\n          \"long\": -71.382437,\n          \"countryOrRegion\": \"United States\",\n          \"provinceOrState\": \"Massachusetts\",\n          \"county\": null,\n          \"isoCode\": \"US-MA\",\n          \"lat\": 42.407211\n        },\n        \"totalConfirmedCases\": 139420,\n        \"newlyConfirmedCases\": 0,\n        \"totalDeaths\": 9268,\n        \"newDeaths\": 0,\n        \"totalRecoveredCases\": 100486,\n        \"newlyRecoveredCases\": 0\n      },\n      {\n        \"location\": {\n          \"long\": -85.602364,\n          \"countryOrRegion\": \"United States\",\n          \"provinceOrState\": \"Michigan\",\n          \"county\": null,\n          \"isoCode\": \"US-MI\",\n          \"lat\": 44.314844\n        },\n        \"totalConfirmedCases\": 119990,\n        \"newlyConfirmedCases\": 0,\n        \"totalDeaths\": 6900,\n        \"newDeaths\": 0,\n        \"totalRecoveredCases\": 63636,\n        \"newlyRecoveredCases\": 0\n      },\n      {\n        \"location\": {\n          \"long\": -94.6859,\n          \"countryOrRegion\": \"United States\",\n          \"provinceOrState\": \"Minnesota\",\n          \"county\": null,\n          \"isoCode\": \"US-MN\",\n          \"lat\": 46.729553\n        },\n        \"totalConfirmedCases\": 81924,\n        \"newlyConfirmedCases\": 0,\n        \"totalDeaths\": 1925,\n        \"newDeaths\": 0,\n        \"totalRecoveredCases\": 56659,\n        \"newlyRecoveredCases\": 0\n      },\n      {\n        \"location\": {\n          \"long\": -89.398528,\n          \"countryOrRegion\": \"United States\",\n          \"provinceOrState\": \"Mississippi\",\n          \"county\": null,\n          \"isoCode\": \"US-MS\",\n          \"lat\": 32.354668\n        },\n        \"totalConfirmedCases\": 87807,\n        \"newlyConfirmedCases\": 0,\n        \"totalDeaths\": 2624,\n        \"newDeaths\": 0,\n        \"totalRecoveredCases\": 49836,\n        \"newlyRecoveredCases\": 0\n      },\n      {\n        \"location\": {\n          \"long\": -91.831833,\n          \"countryOrRegion\": \"United States\",\n          \"provinceOrState\": \"Missouri\",\n          \"county\": null,\n          \"isoCode\": \"US-MO\",\n          \"lat\": 37.964253\n        },\n        \"totalConfirmedCases\": 97426,\n        \"newlyConfirmedCases\": 0,\n        \"totalDeaths\": 1772,\n        \"newDeaths\": 0,\n        \"totalRecoveredCases\": 9997,\n        \"newlyRecoveredCases\": 0\n      },\n      {\n        \"location\": {\n          \"long\": -110.362566,\n          \"countryOrRegion\": \"United States\",\n          \"provinceOrState\": \"Montana\",\n          \"county\": null,\n          \"isoCode\": \"US-MT\",\n          \"lat\": 46.879682\n        },\n        \"totalConfirmedCases\": 8504,\n        \"newlyConfirmedCases\": 0,\n        \"totalDeaths\": 121,\n        \"newDeaths\": 0,\n        \"totalRecoveredCases\": 4011,\n        \"newlyRecoveredCases\": 0\n      },\n      {\n        \"location\": {\n          \"long\": -99.901813,\n          \"countryOrRegion\": \"United States\",\n          \"provinceOrState\": \"Nebraska\",\n          \"county\": null,\n          \"isoCode\": \"US-NE\",\n          \"lat\": 41.492537\n        },\n        \"totalConfirmedCases\": 37027,\n        \"newlyConfirmedCases\": 0,\n        \"totalDeaths\": 436,\n        \"newDeaths\": 0,\n        \"totalRecoveredCases\": 22004,\n        \"newlyRecoveredCases\": 0\n      },\n      {\n        \"location\": {\n          \"long\": -116.419389,\n          \"countryOrRegion\": \"United States\",\n          \"provinceOrState\": \"Nevada\",\n          \"county\": null,\n          \"isoCode\": \"US-NV\",\n          \"lat\": 38.80261\n        },\n        \"totalConfirmedCases\": 72350,\n        \"newlyConfirmedCases\": 0,\n        \"totalDeaths\": 1423,\n        \"newDeaths\": 0,\n        \"totalRecoveredCases\": 26011,\n        \"newlyRecoveredCases\": 0\n      },\n      {\n        \"location\": {\n          \"long\": -71.572395,\n          \"countryOrRegion\": \"United States\",\n          \"provinceOrState\": \"New Hampshire\",\n          \"county\": null,\n          \"isoCode\": \"US-NH\",\n          \"lat\": 43.193852\n        },\n        \"totalConfirmedCases\": 7503,\n        \"newlyConfirmedCases\": 0,\n        \"totalDeaths\": 433,\n        \"newDeaths\": 0,\n        \"totalRecoveredCases\": 6218,\n        \"newlyRecoveredCases\": 0\n      },\n      {\n        \"location\": {\n          \"long\": -74.405661,\n          \"countryOrRegion\": \"United States\",\n          \"provinceOrState\": \"New Jersey\",\n          \"county\": null,\n          \"isoCode\": \"US-NJ\",\n          \"lat\": 40.058324\n        },\n        \"totalConfirmedCases\": 200875,\n        \"newlyConfirmedCases\": 0,\n        \"totalDeaths\": 16071,\n        \"newDeaths\": 0,\n        \"totalRecoveredCases\": 155415,\n        \"newlyRecoveredCases\": 0\n      },\n      {\n        \"location\": {\n          \"long\": -105.032363,\n          \"countryOrRegion\": \"United States\",\n          \"provinceOrState\": \"New Mexico\",\n          \"county\": null,\n          \"isoCode\": \"US-NM\",\n          \"lat\": 34.97273\n        },\n        \"totalConfirmedCases\": 28248,\n        \"newlyConfirmedCases\": 0,\n        \"totalDeaths\": 818,\n        \"newDeaths\": 0,\n        \"totalRecoveredCases\": 10182,\n        \"newlyRecoveredCases\": 0\n      },\n      {\n        \"location\": {\n          \"long\": -74.217933,\n          \"countryOrRegion\": \"United States\",\n          \"provinceOrState\": \"New York\",\n          \"county\": null,\n          \"isoCode\": \"US-NY\",\n          \"lat\": 43.299428\n        },\n        \"totalConfirmedCases\": 468330,\n        \"newlyConfirmedCases\": 0,\n        \"totalDeaths\": 33739,\n        \"newDeaths\": 0,\n        \"totalRecoveredCases\": 350527,\n        \"newlyRecoveredCases\": 0\n      },\n      {\n        \"location\": {\n          \"long\": -79.0193,\n          \"countryOrRegion\": \"United States\",\n          \"provinceOrState\": \"North Carolina\",\n          \"county\": null,\n          \"isoCode\": \"US-NC\",\n          \"lat\": 35.759573\n        },\n        \"totalConfirmedCases\": 180116,\n        \"newlyConfirmedCases\": 0,\n        \"totalDeaths\": 3004,\n        \"newDeaths\": 0,\n        \"totalRecoveredCases\": 116969,\n        \"newlyRecoveredCases\": 0\n      },\n      {\n        \"location\": {\n          \"long\": -101.002012,\n          \"countryOrRegion\": \"United States\",\n          \"provinceOrState\": \"North Dakota\",\n          \"county\": null,\n          \"isoCode\": \"US-ND\",\n          \"lat\": 47.551493\n        },\n        \"totalConfirmedCases\": 14132,\n        \"newlyConfirmedCases\": 0,\n        \"totalDeaths\": 158,\n        \"newDeaths\": 0,\n        \"totalRecoveredCases\": 7066,\n        \"newlyRecoveredCases\": 0\n      },\n      {\n        \"location\": {\n          \"long\": 145.75,\n          \"countryOrRegion\": \"United States\",\n          \"provinceOrState\": \"Northern Mariana Islands\",\n          \"county\": null,\n          \"isoCode\": null,\n          \"lat\": 15.183333\n        },\n        \"totalConfirmedCases\": 68,\n        \"newlyConfirmedCases\": 0,\n        \"totalDeaths\": 4,\n        \"newDeaths\": 0,\n        \"totalRecoveredCases\": 11,\n        \"newlyRecoveredCases\": 0\n      },\n      {\n        \"location\": {\n          \"long\": -82.907123,\n          \"countryOrRegion\": \"United States\",\n          \"provinceOrState\": \"Ohio\",\n          \"county\": null,\n          \"isoCode\": \"US-OH\",\n          \"lat\": 40.417287\n        },\n        \"totalConfirmedCases\": 132996,\n        \"newlyConfirmedCases\": 0,\n        \"totalDeaths\": 4359,\n        \"newDeaths\": 0,\n        \"totalRecoveredCases\": 84904,\n        \"newlyRecoveredCases\": 0\n      },\n      {\n        \"location\": {\n          \"long\": -97.092877,\n          \"countryOrRegion\": \"United States\",\n          \"provinceOrState\": \"Oklahoma\",\n          \"county\": null,\n          \"isoCode\": \"US-OK\",\n          \"lat\": 35.007752\n        },\n        \"totalConfirmedCases\": 65983,\n        \"newlyConfirmedCases\": 0,\n        \"totalDeaths\": 864,\n        \"newDeaths\": 0,\n        \"totalRecoveredCases\": 39282,\n        \"newlyRecoveredCases\": 0\n      },\n      {\n        \"location\": {\n          \"long\": -120.554201,\n          \"countryOrRegion\": \"United States\",\n          \"provinceOrState\": \"Oregon\",\n          \"county\": null,\n          \"isoCode\": \"US-OR\",\n          \"lat\": 43.804133\n        },\n        \"totalConfirmedCases\": 28476,\n        \"newlyConfirmedCases\": 0,\n        \"totalDeaths\": 499,\n        \"newDeaths\": 0,\n        \"totalRecoveredCases\": 4355,\n        \"newlyRecoveredCases\": 0\n      },\n      {\n        \"location\": {\n          \"long\": -77.194525,\n          \"countryOrRegion\": \"United States\",\n          \"provinceOrState\": \"Pennsylvania\",\n          \"county\": null,\n          \"isoCode\": \"US-PA\",\n          \"lat\": 41.203322\n        },\n        \"totalConfirmedCases\": 146066,\n        \"newlyConfirmedCases\": 0,\n        \"totalDeaths\": 7905,\n        \"newDeaths\": 0,\n        \"totalRecoveredCases\": 95901,\n        \"newlyRecoveredCases\": 0\n      },\n      {\n        \"location\": {\n          \"long\": -71.477429,\n          \"countryOrRegion\": \"United States\",\n          \"provinceOrState\": \"Rhode Island\",\n          \"county\": null,\n          \"isoCode\": \"US-RI\",\n          \"lat\": 41.580095\n        },\n        \"totalConfirmedCases\": 23066,\n        \"newlyConfirmedCases\": 0,\n        \"totalDeaths\": 2111,\n        \"newDeaths\": 0,\n        \"totalRecoveredCases\": 1953,\n        \"newlyRecoveredCases\": 0\n      },\n      {\n        \"location\": {\n          \"long\": -81.163725,\n          \"countryOrRegion\": \"United States\",\n          \"provinceOrState\": \"South Carolina\",\n          \"county\": null,\n          \"isoCode\": \"US-SC\",\n          \"lat\": 33.836081\n        },\n        \"totalConfirmedCases\": 127392,\n        \"newlyConfirmedCases\": 0,\n        \"totalDeaths\": 2942,\n        \"newDeaths\": 0,\n        \"totalRecoveredCases\": 42730,\n        \"newlyRecoveredCases\": 0\n      },\n      {\n        \"location\": {\n          \"long\": -99.901813,\n          \"countryOrRegion\": \"United States\",\n          \"provinceOrState\": \"South Dakota\",\n          \"county\": null,\n          \"isoCode\": \"US-SD\",\n          \"lat\": 43.969515\n        },\n        \"totalConfirmedCases\": 15582,\n        \"newlyConfirmedCases\": 0,\n        \"totalDeaths\": 174,\n        \"newDeaths\": 0,\n        \"totalRecoveredCases\": 8773,\n        \"newlyRecoveredCases\": 0\n      },\n      {\n        \"location\": {\n          \"long\": -86.580447,\n          \"countryOrRegion\": \"United States\",\n          \"provinceOrState\": \"Tennessee\",\n          \"county\": null,\n          \"isoCode\": \"US-TN\",\n          \"lat\": 35.517491\n        },\n        \"totalConfirmedCases\": 170566,\n        \"newlyConfirmedCases\": 0,\n        \"totalDeaths\": 2103,\n        \"newDeaths\": 0,\n        \"totalRecoveredCases\": 91323,\n        \"newlyRecoveredCases\": 0\n      },\n      {\n        \"location\": {\n          \"long\": -99.901813,\n          \"countryOrRegion\": \"United States\",\n          \"provinceOrState\": \"Texas\",\n          \"county\": null,\n          \"isoCode\": \"US-TX\",\n          \"lat\": 31.968599\n        },\n        \"totalConfirmedCases\": 679799,\n        \"newlyConfirmedCases\": 0,\n        \"totalDeaths\": 14031,\n        \"newDeaths\": 0,\n        \"totalRecoveredCases\": 383717,\n        \"newlyRecoveredCases\": 0\n      },\n      {\n        \"location\": {\n          \"long\": -111.093731,\n          \"countryOrRegion\": \"United States\",\n          \"provinceOrState\": \"Utah\",\n          \"county\": null,\n          \"isoCode\": \"US-UT\",\n          \"lat\": 39.32098\n        },\n        \"totalConfirmedCases\": 56131,\n        \"newlyConfirmedCases\": 0,\n        \"totalDeaths\": 435,\n        \"newDeaths\": 0,\n        \"totalRecoveredCases\": 36679,\n        \"newlyRecoveredCases\": 0\n      },\n      {\n        \"location\": {\n          \"long\": -72.577841,\n          \"countryOrRegion\": \"United States\",\n          \"provinceOrState\": \"Vermont\",\n          \"county\": null,\n          \"isoCode\": \"US-VT\",\n          \"lat\": 44.558803\n        },\n        \"totalConfirmedCases\": 1658,\n        \"newlyConfirmedCases\": 0,\n        \"totalDeaths\": 59,\n        \"newDeaths\": 0,\n        \"totalRecoveredCases\": 1321,\n        \"newlyRecoveredCases\": 0\n      },\n      {\n        \"location\": {\n          \"long\": -78.656894,\n          \"countryOrRegion\": \"United States\",\n          \"provinceOrState\": \"Virginia\",\n          \"county\": null,\n          \"isoCode\": \"US-VA\",\n          \"lat\": 37.431573\n        },\n        \"totalConfirmedCases\": 129021,\n        \"newlyConfirmedCases\": 0,\n        \"totalDeaths\": 2693,\n        \"newDeaths\": 0,\n        \"totalRecoveredCases\": 13477,\n        \"newlyRecoveredCases\": 0\n      },\n      {\n        \"location\": {\n          \"long\": -120.740139,\n          \"countryOrRegion\": \"United States\",\n          \"provinceOrState\": \"Washington\",\n          \"county\": null,\n          \"isoCode\": \"US-WA\",\n          \"lat\": 47.751074\n        },\n        \"totalConfirmedCases\": 81843,\n        \"newlyConfirmedCases\": 0,\n        \"totalDeaths\": 2079,\n        \"newDeaths\": 0,\n        \"totalRecoveredCases\": 23404,\n        \"newlyRecoveredCases\": 0\n      },\n      {\n        \"location\": {\n          \"long\": -80.454903,\n          \"countryOrRegion\": \"United States\",\n          \"provinceOrState\": \"West Virginia\",\n          \"county\": null,\n          \"isoCode\": null,\n          \"lat\": 38.597626\n        },\n        \"totalConfirmedCases\": 11835,\n        \"newlyConfirmedCases\": 0,\n        \"totalDeaths\": 257,\n        \"newDeaths\": 0,\n        \"totalRecoveredCases\": 6144,\n        \"newlyRecoveredCases\": 0\n      },\n      {\n        \"location\": {\n          \"long\": -88.787868,\n          \"countryOrRegion\": \"United States\",\n          \"provinceOrState\": \"Wisconsin\",\n          \"county\": null,\n          \"isoCode\": \"US-WI\",\n          \"lat\": 43.78444\n        },\n        \"totalConfirmedCases\": 88652,\n        \"newlyConfirmedCases\": 0,\n        \"totalDeaths\": 1187,\n        \"newDeaths\": 0,\n        \"totalRecoveredCases\": 54181,\n        \"newlyRecoveredCases\": 0\n      },\n      {\n        \"location\": {\n          \"long\": -107.290284,\n          \"countryOrRegion\": \"United States\",\n          \"provinceOrState\": \"Wyoming\",\n          \"county\": null,\n          \"isoCode\": \"US-WY\",\n          \"lat\": 43.075968\n        },\n        \"totalConfirmedCases\": 4226,\n        \"newlyConfirmedCases\": 0,\n        \"totalDeaths\": 78,\n        \"newDeaths\": 0,\n        \"totalRecoveredCases\": 2641,\n        \"newlyRecoveredCases\": 0\n      },\n      {\n        \"location\": {\n          \"long\": null,\n          \"countryOrRegion\": \"United States\",\n          \"provinceOrState\": \"Veteran Affairs\",\n          \"county\": null,\n          \"isoCode\": null,\n          \"lat\": null\n        },\n        \"totalConfirmedCases\": 6692,\n        \"newlyConfirmedCases\": 0,\n        \"totalDeaths\": 413,\n        \"newDeaths\": 0,\n        \"totalRecoveredCases\": 0,\n        \"newlyRecoveredCases\": 0\n      },\n      {\n        \"location\": {\n          \"long\": null,\n          \"countryOrRegion\": \"United States\",\n          \"provinceOrState\": \"US Military\",\n          \"county\": null,\n          \"isoCode\": null,\n          \"lat\": null\n        },\n        \"totalConfirmedCases\": 6213,\n        \"newlyConfirmedCases\": 0,\n        \"totalDeaths\": 26,\n        \"newDeaths\": 0,\n        \"totalRecoveredCases\": 1947,\n        \"newlyRecoveredCases\": 0\n      },\n      {\n        \"location\": {\n          \"long\": null,\n          \"countryOrRegion\": \"United States\",\n          \"provinceOrState\": \"Navajo Nation\",\n          \"county\": null,\n          \"isoCode\": null,\n          \"lat\": null\n        },\n        \"totalConfirmedCases\": 1540,\n        \"newlyConfirmedCases\": 0,\n        \"totalDeaths\": 58,\n        \"newDeaths\": 0,\n        \"totalRecoveredCases\": 0,\n        \"newlyRecoveredCases\": 0\n      },\n      {\n        \"location\": {\n          \"long\": null,\n          \"countryOrRegion\": \"United States\",\n          \"provinceOrState\": \"Federal Prisons\",\n          \"county\": null,\n          \"isoCode\": null,\n          \"lat\": null\n        },\n        \"totalConfirmedCases\": 1047,\n        \"newlyConfirmedCases\": 0,\n        \"totalDeaths\": 26,\n        \"newDeaths\": 0,\n        \"totalRecoveredCases\": 507,\n        \"newlyRecoveredCases\": 0\n      },\n      {\n        \"location\": {\n          \"long\": null,\n          \"countryOrRegion\": \"United States\",\n          \"provinceOrState\": \"Wuhan Repatriated\",\n          \"county\": null,\n          \"isoCode\": null,\n          \"lat\": null\n        },\n        \"totalConfirmedCases\": 3,\n        \"newlyConfirmedCases\": 0,\n        \"totalDeaths\": 0,\n        \"newDeaths\": 0,\n        \"totalRecoveredCases\": 0,\n        \"newlyRecoveredCases\": 0\n      }\n    ]\n  }\n}\n"
    }
   ],
   "source": [
    "print(json.dumps(US_dict,indent=2))"
   ]
  },
  {
   "cell_type": "code",
   "execution_count": 56,
   "metadata": {
    "tags": []
   },
   "outputs": [],
   "source": [
    "full_list_US_country=[]\n",
    "for pos,each_dict in enumerate (US_dict['stats']['breakdowns'][:]):\n",
    "    flatten_dict=each_dict['location']\n",
    "    flatten_dict.update(dict(list(US_dict['stats']['breakdowns'][pos].items())[1: 7]) \n",
    "    )\n",
    "    full_list_US_country.append(flatten_dict)"
   ]
  },
  {
   "cell_type": "code",
   "execution_count": 68,
   "metadata": {},
   "outputs": [],
   "source": [
    "pd.DataFrame(full_list_US_country).to_csv('../data/raw/SMARTABLE/full_list_US_country.csv',sep=';',index=False)"
   ]
  }
 ]
}