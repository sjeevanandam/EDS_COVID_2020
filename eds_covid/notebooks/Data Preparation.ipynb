{
 "cells": [
  {
   "cell_type": "code",
   "execution_count": null,
   "metadata": {},
   "outputs": [],
   "source": []
  },
  {
   "cell_type": "code",
   "execution_count": 1,
   "metadata": {},
   "outputs": [],
   "source": [
    "import pandas as pd\n",
    "import numpy as np\n",
    "\n",
    "from datetime import datetime\n",
    "\n",
    "%matplotlib inline\n",
    "pd.set_option('display.max_rows', 500)"
   ]
  },
  {
   "cell_type": "code",
   "execution_count": 2,
   "metadata": {},
   "outputs": [],
   "source": [
    "data_path='../data/raw/COVID-19/csse_covid_19_data/csse_covid_19_time_series/time_series_covid19_confirmed_global.csv'\n",
    "pd_raw=pd.read_csv(data_path)"
   ]
  },
  {
   "cell_type": "code",
   "execution_count": 3,
   "metadata": {},
   "outputs": [
    {
     "output_type": "execute_result",
     "data": {
      "text/plain": "  Province/State Country/Region       Lat       Long  1/22/20  1/23/20  \\\n0            NaN    Afghanistan  33.93911  67.709953        0        0   \n1            NaN        Albania  41.15330  20.168300        0        0   \n2            NaN        Algeria  28.03390   1.659600        0        0   \n3            NaN        Andorra  42.50630   1.521800        0        0   \n4            NaN         Angola -11.20270  17.873900        0        0   \n\n   1/24/20  1/25/20  1/26/20  1/27/20  ...  9/4/20  9/5/20  9/6/20  9/7/20  \\\n0        0        0        0        0  ...   38304   38324   38398   38494   \n1        0        0        0        0  ...    9967   10102   10255   10406   \n2        0        0        0        0  ...   45773   46071   46364   46653   \n3        0        0        0        0  ...    1215    1215    1215    1261   \n4        0        0        0        0  ...    2876    2935    2965    2981   \n\n   9/8/20  9/9/20  9/10/20  9/11/20  9/12/20  9/13/20  \n0   38520   38544    38572    38606    38641    38716  \n1   10553   10704    10860    11021    11185    11353  \n2   46938   47216    47488    47752    48007    48254  \n3    1261    1301     1301     1344     1344     1344  \n4    3033    3092     3217     3279     3335     3388  \n\n[5 rows x 240 columns]",
      "text/html": "<div>\n<style scoped>\n    .dataframe tbody tr th:only-of-type {\n        vertical-align: middle;\n    }\n\n    .dataframe tbody tr th {\n        vertical-align: top;\n    }\n\n    .dataframe thead th {\n        text-align: right;\n    }\n</style>\n<table border=\"1\" class=\"dataframe\">\n  <thead>\n    <tr style=\"text-align: right;\">\n      <th></th>\n      <th>Province/State</th>\n      <th>Country/Region</th>\n      <th>Lat</th>\n      <th>Long</th>\n      <th>1/22/20</th>\n      <th>1/23/20</th>\n      <th>1/24/20</th>\n      <th>1/25/20</th>\n      <th>1/26/20</th>\n      <th>1/27/20</th>\n      <th>...</th>\n      <th>9/4/20</th>\n      <th>9/5/20</th>\n      <th>9/6/20</th>\n      <th>9/7/20</th>\n      <th>9/8/20</th>\n      <th>9/9/20</th>\n      <th>9/10/20</th>\n      <th>9/11/20</th>\n      <th>9/12/20</th>\n      <th>9/13/20</th>\n    </tr>\n  </thead>\n  <tbody>\n    <tr>\n      <th>0</th>\n      <td>NaN</td>\n      <td>Afghanistan</td>\n      <td>33.93911</td>\n      <td>67.709953</td>\n      <td>0</td>\n      <td>0</td>\n      <td>0</td>\n      <td>0</td>\n      <td>0</td>\n      <td>0</td>\n      <td>...</td>\n      <td>38304</td>\n      <td>38324</td>\n      <td>38398</td>\n      <td>38494</td>\n      <td>38520</td>\n      <td>38544</td>\n      <td>38572</td>\n      <td>38606</td>\n      <td>38641</td>\n      <td>38716</td>\n    </tr>\n    <tr>\n      <th>1</th>\n      <td>NaN</td>\n      <td>Albania</td>\n      <td>41.15330</td>\n      <td>20.168300</td>\n      <td>0</td>\n      <td>0</td>\n      <td>0</td>\n      <td>0</td>\n      <td>0</td>\n      <td>0</td>\n      <td>...</td>\n      <td>9967</td>\n      <td>10102</td>\n      <td>10255</td>\n      <td>10406</td>\n      <td>10553</td>\n      <td>10704</td>\n      <td>10860</td>\n      <td>11021</td>\n      <td>11185</td>\n      <td>11353</td>\n    </tr>\n    <tr>\n      <th>2</th>\n      <td>NaN</td>\n      <td>Algeria</td>\n      <td>28.03390</td>\n      <td>1.659600</td>\n      <td>0</td>\n      <td>0</td>\n      <td>0</td>\n      <td>0</td>\n      <td>0</td>\n      <td>0</td>\n      <td>...</td>\n      <td>45773</td>\n      <td>46071</td>\n      <td>46364</td>\n      <td>46653</td>\n      <td>46938</td>\n      <td>47216</td>\n      <td>47488</td>\n      <td>47752</td>\n      <td>48007</td>\n      <td>48254</td>\n    </tr>\n    <tr>\n      <th>3</th>\n      <td>NaN</td>\n      <td>Andorra</td>\n      <td>42.50630</td>\n      <td>1.521800</td>\n      <td>0</td>\n      <td>0</td>\n      <td>0</td>\n      <td>0</td>\n      <td>0</td>\n      <td>0</td>\n      <td>...</td>\n      <td>1215</td>\n      <td>1215</td>\n      <td>1215</td>\n      <td>1261</td>\n      <td>1261</td>\n      <td>1301</td>\n      <td>1301</td>\n      <td>1344</td>\n      <td>1344</td>\n      <td>1344</td>\n    </tr>\n    <tr>\n      <th>4</th>\n      <td>NaN</td>\n      <td>Angola</td>\n      <td>-11.20270</td>\n      <td>17.873900</td>\n      <td>0</td>\n      <td>0</td>\n      <td>0</td>\n      <td>0</td>\n      <td>0</td>\n      <td>0</td>\n      <td>...</td>\n      <td>2876</td>\n      <td>2935</td>\n      <td>2965</td>\n      <td>2981</td>\n      <td>3033</td>\n      <td>3092</td>\n      <td>3217</td>\n      <td>3279</td>\n      <td>3335</td>\n      <td>3388</td>\n    </tr>\n  </tbody>\n</table>\n<p>5 rows × 240 columns</p>\n</div>"
     },
     "metadata": {},
     "execution_count": 3
    }
   ],
   "source": [
    "pd_raw.head()"
   ]
  },
  {
   "cell_type": "code",
   "execution_count": 4,
   "metadata": {},
   "outputs": [],
   "source": [
    "time_idx=pd_raw.columns[4:]"
   ]
  },
  {
   "cell_type": "code",
   "execution_count": 5,
   "metadata": {},
   "outputs": [
    {
     "output_type": "execute_result",
     "data": {
      "text/plain": "str"
     },
     "metadata": {},
     "execution_count": 5
    }
   ],
   "source": [
    "type(time_idx[0])"
   ]
  },
  {
   "cell_type": "code",
   "execution_count": 6,
   "metadata": {},
   "outputs": [
    {
     "output_type": "execute_result",
     "data": {
      "text/plain": "      date\n0  1/22/20\n1  1/23/20\n2  1/24/20\n3  1/25/20\n4  1/26/20",
      "text/html": "<div>\n<style scoped>\n    .dataframe tbody tr th:only-of-type {\n        vertical-align: middle;\n    }\n\n    .dataframe tbody tr th {\n        vertical-align: top;\n    }\n\n    .dataframe thead th {\n        text-align: right;\n    }\n</style>\n<table border=\"1\" class=\"dataframe\">\n  <thead>\n    <tr style=\"text-align: right;\">\n      <th></th>\n      <th>date</th>\n    </tr>\n  </thead>\n  <tbody>\n    <tr>\n      <th>0</th>\n      <td>1/22/20</td>\n    </tr>\n    <tr>\n      <th>1</th>\n      <td>1/23/20</td>\n    </tr>\n    <tr>\n      <th>2</th>\n      <td>1/24/20</td>\n    </tr>\n    <tr>\n      <th>3</th>\n      <td>1/25/20</td>\n    </tr>\n    <tr>\n      <th>4</th>\n      <td>1/26/20</td>\n    </tr>\n  </tbody>\n</table>\n</div>"
     },
     "metadata": {},
     "execution_count": 6
    }
   ],
   "source": [
    "df_plot = pd.DataFrame({\n",
    "    'date':time_idx})\n",
    "df_plot.head()"
   ]
  },
  {
   "cell_type": "code",
   "execution_count": 7,
   "metadata": {},
   "outputs": [
    {
     "output_type": "execute_result",
     "data": {
      "text/plain": "9/10/20    4562414\n9/11/20    4659984\n9/12/20    4754356\n9/13/20    4846427\ndtype: int64"
     },
     "metadata": {},
     "execution_count": 7
    }
   ],
   "source": [
    "pd_raw[pd_raw['Country/Region']=='India'].iloc[:,10::].sum(axis=0)[-4:]"
   ]
  },
  {
   "cell_type": "code",
   "execution_count": 8,
   "metadata": {},
   "outputs": [],
   "source": [
    "country_list=['India',\n",
    "              'US',\n",
    "              'Spain',\n",
    "              'Germany',\n",
    "              'United Kingdom',\n",
    "              'Korea, South',\n",
    "              'Japan'\n",
    "             ] "
   ]
  },
  {
   "cell_type": "code",
   "execution_count": 9,
   "metadata": {},
   "outputs": [],
   "source": [
    "for each in country_list:\n",
    "    df_plot[each]=np.array(pd_raw[pd_raw['Country/Region']==each].iloc[:,4::].sum(axis=0))"
   ]
  },
  {
   "cell_type": "code",
   "execution_count": 10,
   "metadata": {},
   "outputs": [
    {
     "output_type": "execute_result",
     "data": {
      "text/plain": "      date  India  US  Spain  Germany  United Kingdom  Korea, South  Japan\n0  1/22/20      0   1      0        0               0             1      2\n1  1/23/20      0   1      0        0               0             1      2\n2  1/24/20      0   2      0        0               0             2      2\n3  1/25/20      0   2      0        0               0             2      2\n4  1/26/20      0   5      0        0               0             3      4",
      "text/html": "<div>\n<style scoped>\n    .dataframe tbody tr th:only-of-type {\n        vertical-align: middle;\n    }\n\n    .dataframe tbody tr th {\n        vertical-align: top;\n    }\n\n    .dataframe thead th {\n        text-align: right;\n    }\n</style>\n<table border=\"1\" class=\"dataframe\">\n  <thead>\n    <tr style=\"text-align: right;\">\n      <th></th>\n      <th>date</th>\n      <th>India</th>\n      <th>US</th>\n      <th>Spain</th>\n      <th>Germany</th>\n      <th>United Kingdom</th>\n      <th>Korea, South</th>\n      <th>Japan</th>\n    </tr>\n  </thead>\n  <tbody>\n    <tr>\n      <th>0</th>\n      <td>1/22/20</td>\n      <td>0</td>\n      <td>1</td>\n      <td>0</td>\n      <td>0</td>\n      <td>0</td>\n      <td>1</td>\n      <td>2</td>\n    </tr>\n    <tr>\n      <th>1</th>\n      <td>1/23/20</td>\n      <td>0</td>\n      <td>1</td>\n      <td>0</td>\n      <td>0</td>\n      <td>0</td>\n      <td>1</td>\n      <td>2</td>\n    </tr>\n    <tr>\n      <th>2</th>\n      <td>1/24/20</td>\n      <td>0</td>\n      <td>2</td>\n      <td>0</td>\n      <td>0</td>\n      <td>0</td>\n      <td>2</td>\n      <td>2</td>\n    </tr>\n    <tr>\n      <th>3</th>\n      <td>1/25/20</td>\n      <td>0</td>\n      <td>2</td>\n      <td>0</td>\n      <td>0</td>\n      <td>0</td>\n      <td>2</td>\n      <td>2</td>\n    </tr>\n    <tr>\n      <th>4</th>\n      <td>1/26/20</td>\n      <td>0</td>\n      <td>5</td>\n      <td>0</td>\n      <td>0</td>\n      <td>0</td>\n      <td>3</td>\n      <td>4</td>\n    </tr>\n  </tbody>\n</table>\n</div>"
     },
     "metadata": {},
     "execution_count": 10
    }
   ],
   "source": [
    "df_plot.head()"
   ]
  },
  {
   "cell_type": "code",
   "execution_count": 11,
   "metadata": {},
   "outputs": [
    {
     "output_type": "execute_result",
     "data": {
      "text/plain": "<AxesSubplot:xlabel='date'>"
     },
     "metadata": {},
     "execution_count": 11
    },
    {
     "output_type": "display_data",
     "data": {
      "text/plain": "<Figure size 432x288 with 1 Axes>",
      "image/svg+xml": "<?xml version=\"1.0\" encoding=\"utf-8\" standalone=\"no\"?>\r\n<!DOCTYPE svg PUBLIC \"-//W3C//DTD SVG 1.1//EN\"\r\n  \"http://www.w3.org/Graphics/SVG/1.1/DTD/svg11.dtd\">\r\n<!-- Created with matplotlib (https://matplotlib.org/) -->\r\n<svg height=\"272.794688pt\" version=\"1.1\" viewBox=\"0 0 362.5625 272.794688\" width=\"362.5625pt\" xmlns=\"http://www.w3.org/2000/svg\" xmlns:xlink=\"http://www.w3.org/1999/xlink\">\r\n <metadata>\r\n  <rdf:RDF xmlns:cc=\"http://creativecommons.org/ns#\" xmlns:dc=\"http://purl.org/dc/elements/1.1/\" xmlns:rdf=\"http://www.w3.org/1999/02/22-rdf-syntax-ns#\">\r\n   <cc:Work>\r\n    <dc:type rdf:resource=\"http://purl.org/dc/dcmitype/StillImage\"/>\r\n    <dc:date>2020-09-14T20:52:01.363653</dc:date>\r\n    <dc:format>image/svg+xml</dc:format>\r\n    <dc:creator>\r\n     <cc:Agent>\r\n      <dc:title>Matplotlib v3.3.1, https://matplotlib.org/</dc:title>\r\n     </cc:Agent>\r\n    </dc:creator>\r\n   </cc:Work>\r\n  </rdf:RDF>\r\n </metadata>\r\n <defs>\r\n  <style type=\"text/css\">*{stroke-linecap:butt;stroke-linejoin:round;}</style>\r\n </defs>\r\n <g id=\"figure_1\">\r\n  <g id=\"patch_1\">\r\n   <path d=\"M 0 272.794688 \r\nL 362.5625 272.794688 \r\nL 362.5625 0 \r\nL 0 0 \r\nz\r\n\" style=\"fill:none;\"/>\r\n  </g>\r\n  <g id=\"axes_1\">\r\n   <g id=\"patch_2\">\r\n    <path d=\"M 20.5625 235.238438 \r\nL 355.3625 235.238438 \r\nL 355.3625 17.798438 \r\nL 20.5625 17.798438 \r\nz\r\n\" style=\"fill:#ffffff;\"/>\r\n   </g>\r\n   <g id=\"matplotlib.axis_1\">\r\n    <g id=\"xtick_1\">\r\n     <g id=\"line2d_1\">\r\n      <defs>\r\n       <path d=\"M 0 0 \r\nL 0 3.5 \r\n\" id=\"m75eff04498\" style=\"stroke:#000000;stroke-width:0.8;\"/>\r\n      </defs>\r\n      <g>\r\n       <use style=\"stroke:#000000;stroke-width:0.8;\" x=\"35.780682\" xlink:href=\"#m75eff04498\" y=\"235.238438\"/>\r\n      </g>\r\n     </g>\r\n     <g id=\"text_1\">\r\n      <!-- 1/22/20 -->\r\n      <g transform=\"translate(16.505682 249.836875)scale(0.1 -0.1)\">\r\n       <defs>\r\n        <path d=\"M 12.40625 8.296875 \r\nL 28.515625 8.296875 \r\nL 28.515625 63.921875 \r\nL 10.984375 60.40625 \r\nL 10.984375 69.390625 \r\nL 28.421875 72.90625 \r\nL 38.28125 72.90625 \r\nL 38.28125 8.296875 \r\nL 54.390625 8.296875 \r\nL 54.390625 0 \r\nL 12.40625 0 \r\nz\r\n\" id=\"DejaVuSans-49\"/>\r\n        <path d=\"M 25.390625 72.90625 \r\nL 33.6875 72.90625 \r\nL 8.296875 -9.28125 \r\nL 0 -9.28125 \r\nz\r\n\" id=\"DejaVuSans-47\"/>\r\n        <path d=\"M 19.1875 8.296875 \r\nL 53.609375 8.296875 \r\nL 53.609375 0 \r\nL 7.328125 0 \r\nL 7.328125 8.296875 \r\nQ 12.9375 14.109375 22.625 23.890625 \r\nQ 32.328125 33.6875 34.8125 36.53125 \r\nQ 39.546875 41.84375 41.421875 45.53125 \r\nQ 43.3125 49.21875 43.3125 52.78125 \r\nQ 43.3125 58.59375 39.234375 62.25 \r\nQ 35.15625 65.921875 28.609375 65.921875 \r\nQ 23.96875 65.921875 18.8125 64.3125 \r\nQ 13.671875 62.703125 7.8125 59.421875 \r\nL 7.8125 69.390625 \r\nQ 13.765625 71.78125 18.9375 73 \r\nQ 24.125 74.21875 28.421875 74.21875 \r\nQ 39.75 74.21875 46.484375 68.546875 \r\nQ 53.21875 62.890625 53.21875 53.421875 \r\nQ 53.21875 48.921875 51.53125 44.890625 \r\nQ 49.859375 40.875 45.40625 35.40625 \r\nQ 44.1875 33.984375 37.640625 27.21875 \r\nQ 31.109375 20.453125 19.1875 8.296875 \r\nz\r\n\" id=\"DejaVuSans-50\"/>\r\n        <path d=\"M 31.78125 66.40625 \r\nQ 24.171875 66.40625 20.328125 58.90625 \r\nQ 16.5 51.421875 16.5 36.375 \r\nQ 16.5 21.390625 20.328125 13.890625 \r\nQ 24.171875 6.390625 31.78125 6.390625 \r\nQ 39.453125 6.390625 43.28125 13.890625 \r\nQ 47.125 21.390625 47.125 36.375 \r\nQ 47.125 51.421875 43.28125 58.90625 \r\nQ 39.453125 66.40625 31.78125 66.40625 \r\nz\r\nM 31.78125 74.21875 \r\nQ 44.046875 74.21875 50.515625 64.515625 \r\nQ 56.984375 54.828125 56.984375 36.375 \r\nQ 56.984375 17.96875 50.515625 8.265625 \r\nQ 44.046875 -1.421875 31.78125 -1.421875 \r\nQ 19.53125 -1.421875 13.0625 8.265625 \r\nQ 6.59375 17.96875 6.59375 36.375 \r\nQ 6.59375 54.828125 13.0625 64.515625 \r\nQ 19.53125 74.21875 31.78125 74.21875 \r\nz\r\n\" id=\"DejaVuSans-48\"/>\r\n       </defs>\r\n       <use xlink:href=\"#DejaVuSans-49\"/>\r\n       <use x=\"63.623047\" xlink:href=\"#DejaVuSans-47\"/>\r\n       <use x=\"97.314453\" xlink:href=\"#DejaVuSans-50\"/>\r\n       <use x=\"160.9375\" xlink:href=\"#DejaVuSans-50\"/>\r\n       <use x=\"224.560547\" xlink:href=\"#DejaVuSans-47\"/>\r\n       <use x=\"258.251953\" xlink:href=\"#DejaVuSans-50\"/>\r\n       <use x=\"321.875\" xlink:href=\"#DejaVuSans-48\"/>\r\n      </g>\r\n     </g>\r\n    </g>\r\n    <g id=\"xtick_2\">\r\n     <g id=\"line2d_2\">\r\n      <g>\r\n       <use style=\"stroke:#000000;stroke-width:0.8;\" x=\"100.538902\" xlink:href=\"#m75eff04498\" y=\"235.238438\"/>\r\n      </g>\r\n     </g>\r\n     <g id=\"text_2\">\r\n      <!-- 3/12/20 -->\r\n      <g transform=\"translate(81.263902 249.836875)scale(0.1 -0.1)\">\r\n       <defs>\r\n        <path d=\"M 40.578125 39.3125 \r\nQ 47.65625 37.796875 51.625 33 \r\nQ 55.609375 28.21875 55.609375 21.1875 \r\nQ 55.609375 10.40625 48.1875 4.484375 \r\nQ 40.765625 -1.421875 27.09375 -1.421875 \r\nQ 22.515625 -1.421875 17.65625 -0.515625 \r\nQ 12.796875 0.390625 7.625 2.203125 \r\nL 7.625 11.71875 \r\nQ 11.71875 9.328125 16.59375 8.109375 \r\nQ 21.484375 6.890625 26.8125 6.890625 \r\nQ 36.078125 6.890625 40.9375 10.546875 \r\nQ 45.796875 14.203125 45.796875 21.1875 \r\nQ 45.796875 27.640625 41.28125 31.265625 \r\nQ 36.765625 34.90625 28.71875 34.90625 \r\nL 20.21875 34.90625 \r\nL 20.21875 43.015625 \r\nL 29.109375 43.015625 \r\nQ 36.375 43.015625 40.234375 45.921875 \r\nQ 44.09375 48.828125 44.09375 54.296875 \r\nQ 44.09375 59.90625 40.109375 62.90625 \r\nQ 36.140625 65.921875 28.71875 65.921875 \r\nQ 24.65625 65.921875 20.015625 65.03125 \r\nQ 15.375 64.15625 9.8125 62.3125 \r\nL 9.8125 71.09375 \r\nQ 15.4375 72.65625 20.34375 73.4375 \r\nQ 25.25 74.21875 29.59375 74.21875 \r\nQ 40.828125 74.21875 47.359375 69.109375 \r\nQ 53.90625 64.015625 53.90625 55.328125 \r\nQ 53.90625 49.265625 50.4375 45.09375 \r\nQ 46.96875 40.921875 40.578125 39.3125 \r\nz\r\n\" id=\"DejaVuSans-51\"/>\r\n       </defs>\r\n       <use xlink:href=\"#DejaVuSans-51\"/>\r\n       <use x=\"63.623047\" xlink:href=\"#DejaVuSans-47\"/>\r\n       <use x=\"97.314453\" xlink:href=\"#DejaVuSans-49\"/>\r\n       <use x=\"160.9375\" xlink:href=\"#DejaVuSans-50\"/>\r\n       <use x=\"224.560547\" xlink:href=\"#DejaVuSans-47\"/>\r\n       <use x=\"258.251953\" xlink:href=\"#DejaVuSans-50\"/>\r\n       <use x=\"321.875\" xlink:href=\"#DejaVuSans-48\"/>\r\n      </g>\r\n     </g>\r\n    </g>\r\n    <g id=\"xtick_3\">\r\n     <g id=\"line2d_3\">\r\n      <g>\r\n       <use style=\"stroke:#000000;stroke-width:0.8;\" x=\"165.297123\" xlink:href=\"#m75eff04498\" y=\"235.238438\"/>\r\n      </g>\r\n     </g>\r\n     <g id=\"text_3\">\r\n      <!-- 5/1/20 -->\r\n      <g transform=\"translate(149.203373 249.836875)scale(0.1 -0.1)\">\r\n       <defs>\r\n        <path d=\"M 10.796875 72.90625 \r\nL 49.515625 72.90625 \r\nL 49.515625 64.59375 \r\nL 19.828125 64.59375 \r\nL 19.828125 46.734375 \r\nQ 21.96875 47.46875 24.109375 47.828125 \r\nQ 26.265625 48.1875 28.421875 48.1875 \r\nQ 40.625 48.1875 47.75 41.5 \r\nQ 54.890625 34.8125 54.890625 23.390625 \r\nQ 54.890625 11.625 47.5625 5.09375 \r\nQ 40.234375 -1.421875 26.90625 -1.421875 \r\nQ 22.3125 -1.421875 17.546875 -0.640625 \r\nQ 12.796875 0.140625 7.71875 1.703125 \r\nL 7.71875 11.625 \r\nQ 12.109375 9.234375 16.796875 8.0625 \r\nQ 21.484375 6.890625 26.703125 6.890625 \r\nQ 35.15625 6.890625 40.078125 11.328125 \r\nQ 45.015625 15.765625 45.015625 23.390625 \r\nQ 45.015625 31 40.078125 35.4375 \r\nQ 35.15625 39.890625 26.703125 39.890625 \r\nQ 22.75 39.890625 18.8125 39.015625 \r\nQ 14.890625 38.140625 10.796875 36.28125 \r\nz\r\n\" id=\"DejaVuSans-53\"/>\r\n       </defs>\r\n       <use xlink:href=\"#DejaVuSans-53\"/>\r\n       <use x=\"63.623047\" xlink:href=\"#DejaVuSans-47\"/>\r\n       <use x=\"97.314453\" xlink:href=\"#DejaVuSans-49\"/>\r\n       <use x=\"160.9375\" xlink:href=\"#DejaVuSans-47\"/>\r\n       <use x=\"194.628906\" xlink:href=\"#DejaVuSans-50\"/>\r\n       <use x=\"258.251953\" xlink:href=\"#DejaVuSans-48\"/>\r\n      </g>\r\n     </g>\r\n    </g>\r\n    <g id=\"xtick_4\">\r\n     <g id=\"line2d_4\">\r\n      <g>\r\n       <use style=\"stroke:#000000;stroke-width:0.8;\" x=\"230.055343\" xlink:href=\"#m75eff04498\" y=\"235.238438\"/>\r\n      </g>\r\n     </g>\r\n     <g id=\"text_4\">\r\n      <!-- 6/20/20 -->\r\n      <g transform=\"translate(210.780343 249.836875)scale(0.1 -0.1)\">\r\n       <defs>\r\n        <path d=\"M 33.015625 40.375 \r\nQ 26.375 40.375 22.484375 35.828125 \r\nQ 18.609375 31.296875 18.609375 23.390625 \r\nQ 18.609375 15.53125 22.484375 10.953125 \r\nQ 26.375 6.390625 33.015625 6.390625 \r\nQ 39.65625 6.390625 43.53125 10.953125 \r\nQ 47.40625 15.53125 47.40625 23.390625 \r\nQ 47.40625 31.296875 43.53125 35.828125 \r\nQ 39.65625 40.375 33.015625 40.375 \r\nz\r\nM 52.59375 71.296875 \r\nL 52.59375 62.3125 \r\nQ 48.875 64.0625 45.09375 64.984375 \r\nQ 41.3125 65.921875 37.59375 65.921875 \r\nQ 27.828125 65.921875 22.671875 59.328125 \r\nQ 17.53125 52.734375 16.796875 39.40625 \r\nQ 19.671875 43.65625 24.015625 45.921875 \r\nQ 28.375 48.1875 33.59375 48.1875 \r\nQ 44.578125 48.1875 50.953125 41.515625 \r\nQ 57.328125 34.859375 57.328125 23.390625 \r\nQ 57.328125 12.15625 50.6875 5.359375 \r\nQ 44.046875 -1.421875 33.015625 -1.421875 \r\nQ 20.359375 -1.421875 13.671875 8.265625 \r\nQ 6.984375 17.96875 6.984375 36.375 \r\nQ 6.984375 53.65625 15.1875 63.9375 \r\nQ 23.390625 74.21875 37.203125 74.21875 \r\nQ 40.921875 74.21875 44.703125 73.484375 \r\nQ 48.484375 72.75 52.59375 71.296875 \r\nz\r\n\" id=\"DejaVuSans-54\"/>\r\n       </defs>\r\n       <use xlink:href=\"#DejaVuSans-54\"/>\r\n       <use x=\"63.623047\" xlink:href=\"#DejaVuSans-47\"/>\r\n       <use x=\"97.314453\" xlink:href=\"#DejaVuSans-50\"/>\r\n       <use x=\"160.9375\" xlink:href=\"#DejaVuSans-48\"/>\r\n       <use x=\"224.560547\" xlink:href=\"#DejaVuSans-47\"/>\r\n       <use x=\"258.251953\" xlink:href=\"#DejaVuSans-50\"/>\r\n       <use x=\"321.875\" xlink:href=\"#DejaVuSans-48\"/>\r\n      </g>\r\n     </g>\r\n    </g>\r\n    <g id=\"xtick_5\">\r\n     <g id=\"line2d_5\">\r\n      <g>\r\n       <use style=\"stroke:#000000;stroke-width:0.8;\" x=\"294.813564\" xlink:href=\"#m75eff04498\" y=\"235.238438\"/>\r\n      </g>\r\n     </g>\r\n     <g id=\"text_5\">\r\n      <!-- 8/9/20 -->\r\n      <g transform=\"translate(278.719814 249.836875)scale(0.1 -0.1)\">\r\n       <defs>\r\n        <path d=\"M 31.78125 34.625 \r\nQ 24.75 34.625 20.71875 30.859375 \r\nQ 16.703125 27.09375 16.703125 20.515625 \r\nQ 16.703125 13.921875 20.71875 10.15625 \r\nQ 24.75 6.390625 31.78125 6.390625 \r\nQ 38.8125 6.390625 42.859375 10.171875 \r\nQ 46.921875 13.96875 46.921875 20.515625 \r\nQ 46.921875 27.09375 42.890625 30.859375 \r\nQ 38.875 34.625 31.78125 34.625 \r\nz\r\nM 21.921875 38.8125 \r\nQ 15.578125 40.375 12.03125 44.71875 \r\nQ 8.5 49.078125 8.5 55.328125 \r\nQ 8.5 64.0625 14.71875 69.140625 \r\nQ 20.953125 74.21875 31.78125 74.21875 \r\nQ 42.671875 74.21875 48.875 69.140625 \r\nQ 55.078125 64.0625 55.078125 55.328125 \r\nQ 55.078125 49.078125 51.53125 44.71875 \r\nQ 48 40.375 41.703125 38.8125 \r\nQ 48.828125 37.15625 52.796875 32.3125 \r\nQ 56.78125 27.484375 56.78125 20.515625 \r\nQ 56.78125 9.90625 50.3125 4.234375 \r\nQ 43.84375 -1.421875 31.78125 -1.421875 \r\nQ 19.734375 -1.421875 13.25 4.234375 \r\nQ 6.78125 9.90625 6.78125 20.515625 \r\nQ 6.78125 27.484375 10.78125 32.3125 \r\nQ 14.796875 37.15625 21.921875 38.8125 \r\nz\r\nM 18.3125 54.390625 \r\nQ 18.3125 48.734375 21.84375 45.5625 \r\nQ 25.390625 42.390625 31.78125 42.390625 \r\nQ 38.140625 42.390625 41.71875 45.5625 \r\nQ 45.3125 48.734375 45.3125 54.390625 \r\nQ 45.3125 60.0625 41.71875 63.234375 \r\nQ 38.140625 66.40625 31.78125 66.40625 \r\nQ 25.390625 66.40625 21.84375 63.234375 \r\nQ 18.3125 60.0625 18.3125 54.390625 \r\nz\r\n\" id=\"DejaVuSans-56\"/>\r\n        <path d=\"M 10.984375 1.515625 \r\nL 10.984375 10.5 \r\nQ 14.703125 8.734375 18.5 7.8125 \r\nQ 22.3125 6.890625 25.984375 6.890625 \r\nQ 35.75 6.890625 40.890625 13.453125 \r\nQ 46.046875 20.015625 46.78125 33.40625 \r\nQ 43.953125 29.203125 39.59375 26.953125 \r\nQ 35.25 24.703125 29.984375 24.703125 \r\nQ 19.046875 24.703125 12.671875 31.3125 \r\nQ 6.296875 37.9375 6.296875 49.421875 \r\nQ 6.296875 60.640625 12.9375 67.421875 \r\nQ 19.578125 74.21875 30.609375 74.21875 \r\nQ 43.265625 74.21875 49.921875 64.515625 \r\nQ 56.59375 54.828125 56.59375 36.375 \r\nQ 56.59375 19.140625 48.40625 8.859375 \r\nQ 40.234375 -1.421875 26.421875 -1.421875 \r\nQ 22.703125 -1.421875 18.890625 -0.6875 \r\nQ 15.09375 0.046875 10.984375 1.515625 \r\nz\r\nM 30.609375 32.421875 \r\nQ 37.25 32.421875 41.125 36.953125 \r\nQ 45.015625 41.5 45.015625 49.421875 \r\nQ 45.015625 57.28125 41.125 61.84375 \r\nQ 37.25 66.40625 30.609375 66.40625 \r\nQ 23.96875 66.40625 20.09375 61.84375 \r\nQ 16.21875 57.28125 16.21875 49.421875 \r\nQ 16.21875 41.5 20.09375 36.953125 \r\nQ 23.96875 32.421875 30.609375 32.421875 \r\nz\r\n\" id=\"DejaVuSans-57\"/>\r\n       </defs>\r\n       <use xlink:href=\"#DejaVuSans-56\"/>\r\n       <use x=\"63.623047\" xlink:href=\"#DejaVuSans-47\"/>\r\n       <use x=\"97.314453\" xlink:href=\"#DejaVuSans-57\"/>\r\n       <use x=\"160.9375\" xlink:href=\"#DejaVuSans-47\"/>\r\n       <use x=\"194.628906\" xlink:href=\"#DejaVuSans-50\"/>\r\n       <use x=\"258.251953\" xlink:href=\"#DejaVuSans-48\"/>\r\n      </g>\r\n     </g>\r\n    </g>\r\n    <g id=\"text_6\">\r\n     <!-- date -->\r\n     <g transform=\"translate(176.6875 263.515)scale(0.1 -0.1)\">\r\n      <defs>\r\n       <path d=\"M 45.40625 46.390625 \r\nL 45.40625 75.984375 \r\nL 54.390625 75.984375 \r\nL 54.390625 0 \r\nL 45.40625 0 \r\nL 45.40625 8.203125 \r\nQ 42.578125 3.328125 38.25 0.953125 \r\nQ 33.9375 -1.421875 27.875 -1.421875 \r\nQ 17.96875 -1.421875 11.734375 6.484375 \r\nQ 5.515625 14.40625 5.515625 27.296875 \r\nQ 5.515625 40.1875 11.734375 48.09375 \r\nQ 17.96875 56 27.875 56 \r\nQ 33.9375 56 38.25 53.625 \r\nQ 42.578125 51.265625 45.40625 46.390625 \r\nz\r\nM 14.796875 27.296875 \r\nQ 14.796875 17.390625 18.875 11.75 \r\nQ 22.953125 6.109375 30.078125 6.109375 \r\nQ 37.203125 6.109375 41.296875 11.75 \r\nQ 45.40625 17.390625 45.40625 27.296875 \r\nQ 45.40625 37.203125 41.296875 42.84375 \r\nQ 37.203125 48.484375 30.078125 48.484375 \r\nQ 22.953125 48.484375 18.875 42.84375 \r\nQ 14.796875 37.203125 14.796875 27.296875 \r\nz\r\n\" id=\"DejaVuSans-100\"/>\r\n       <path d=\"M 34.28125 27.484375 \r\nQ 23.390625 27.484375 19.1875 25 \r\nQ 14.984375 22.515625 14.984375 16.5 \r\nQ 14.984375 11.71875 18.140625 8.90625 \r\nQ 21.296875 6.109375 26.703125 6.109375 \r\nQ 34.1875 6.109375 38.703125 11.40625 \r\nQ 43.21875 16.703125 43.21875 25.484375 \r\nL 43.21875 27.484375 \r\nz\r\nM 52.203125 31.203125 \r\nL 52.203125 0 \r\nL 43.21875 0 \r\nL 43.21875 8.296875 \r\nQ 40.140625 3.328125 35.546875 0.953125 \r\nQ 30.953125 -1.421875 24.3125 -1.421875 \r\nQ 15.921875 -1.421875 10.953125 3.296875 \r\nQ 6 8.015625 6 15.921875 \r\nQ 6 25.140625 12.171875 29.828125 \r\nQ 18.359375 34.515625 30.609375 34.515625 \r\nL 43.21875 34.515625 \r\nL 43.21875 35.40625 \r\nQ 43.21875 41.609375 39.140625 45 \r\nQ 35.0625 48.390625 27.6875 48.390625 \r\nQ 23 48.390625 18.546875 47.265625 \r\nQ 14.109375 46.140625 10.015625 43.890625 \r\nL 10.015625 52.203125 \r\nQ 14.9375 54.109375 19.578125 55.046875 \r\nQ 24.21875 56 28.609375 56 \r\nQ 40.484375 56 46.34375 49.84375 \r\nQ 52.203125 43.703125 52.203125 31.203125 \r\nz\r\n\" id=\"DejaVuSans-97\"/>\r\n       <path d=\"M 18.3125 70.21875 \r\nL 18.3125 54.6875 \r\nL 36.8125 54.6875 \r\nL 36.8125 47.703125 \r\nL 18.3125 47.703125 \r\nL 18.3125 18.015625 \r\nQ 18.3125 11.328125 20.140625 9.421875 \r\nQ 21.96875 7.515625 27.59375 7.515625 \r\nL 36.8125 7.515625 \r\nL 36.8125 0 \r\nL 27.59375 0 \r\nQ 17.1875 0 13.234375 3.875 \r\nQ 9.28125 7.765625 9.28125 18.015625 \r\nL 9.28125 47.703125 \r\nL 2.6875 47.703125 \r\nL 2.6875 54.6875 \r\nL 9.28125 54.6875 \r\nL 9.28125 70.21875 \r\nz\r\n\" id=\"DejaVuSans-116\"/>\r\n       <path d=\"M 56.203125 29.59375 \r\nL 56.203125 25.203125 \r\nL 14.890625 25.203125 \r\nQ 15.484375 15.921875 20.484375 11.0625 \r\nQ 25.484375 6.203125 34.421875 6.203125 \r\nQ 39.59375 6.203125 44.453125 7.46875 \r\nQ 49.3125 8.734375 54.109375 11.28125 \r\nL 54.109375 2.78125 \r\nQ 49.265625 0.734375 44.1875 -0.34375 \r\nQ 39.109375 -1.421875 33.890625 -1.421875 \r\nQ 20.796875 -1.421875 13.15625 6.1875 \r\nQ 5.515625 13.8125 5.515625 26.8125 \r\nQ 5.515625 40.234375 12.765625 48.109375 \r\nQ 20.015625 56 32.328125 56 \r\nQ 43.359375 56 49.78125 48.890625 \r\nQ 56.203125 41.796875 56.203125 29.59375 \r\nz\r\nM 47.21875 32.234375 \r\nQ 47.125 39.59375 43.09375 43.984375 \r\nQ 39.0625 48.390625 32.421875 48.390625 \r\nQ 24.90625 48.390625 20.390625 44.140625 \r\nQ 15.875 39.890625 15.1875 32.171875 \r\nz\r\n\" id=\"DejaVuSans-101\"/>\r\n      </defs>\r\n      <use xlink:href=\"#DejaVuSans-100\"/>\r\n      <use x=\"63.476562\" xlink:href=\"#DejaVuSans-97\"/>\r\n      <use x=\"124.755859\" xlink:href=\"#DejaVuSans-116\"/>\r\n      <use x=\"163.964844\" xlink:href=\"#DejaVuSans-101\"/>\r\n     </g>\r\n    </g>\r\n   </g>\r\n   <g id=\"matplotlib.axis_2\">\r\n    <g id=\"ytick_1\">\r\n     <g id=\"line2d_6\">\r\n      <defs>\r\n       <path d=\"M 0 0 \r\nL -3.5 0 \r\n\" id=\"me8f482cf7b\" style=\"stroke:#000000;stroke-width:0.8;\"/>\r\n      </defs>\r\n      <g>\r\n       <use style=\"stroke:#000000;stroke-width:0.8;\" x=\"20.5625\" xlink:href=\"#me8f482cf7b\" y=\"225.354801\"/>\r\n      </g>\r\n     </g>\r\n     <g id=\"text_7\">\r\n      <!-- 0 -->\r\n      <g transform=\"translate(7.2 229.15402)scale(0.1 -0.1)\">\r\n       <use xlink:href=\"#DejaVuSans-48\"/>\r\n      </g>\r\n     </g>\r\n    </g>\r\n    <g id=\"ytick_2\">\r\n     <g id=\"line2d_7\">\r\n      <g>\r\n       <use style=\"stroke:#000000;stroke-width:0.8;\" x=\"20.5625\" xlink:href=\"#me8f482cf7b\" y=\"195.034913\"/>\r\n      </g>\r\n     </g>\r\n     <g id=\"text_8\">\r\n      <!-- 1 -->\r\n      <g transform=\"translate(7.2 198.834131)scale(0.1 -0.1)\">\r\n       <use xlink:href=\"#DejaVuSans-49\"/>\r\n      </g>\r\n     </g>\r\n    </g>\r\n    <g id=\"ytick_3\">\r\n     <g id=\"line2d_8\">\r\n      <g>\r\n       <use style=\"stroke:#000000;stroke-width:0.8;\" x=\"20.5625\" xlink:href=\"#me8f482cf7b\" y=\"164.715024\"/>\r\n      </g>\r\n     </g>\r\n     <g id=\"text_9\">\r\n      <!-- 2 -->\r\n      <g transform=\"translate(7.2 168.514243)scale(0.1 -0.1)\">\r\n       <use xlink:href=\"#DejaVuSans-50\"/>\r\n      </g>\r\n     </g>\r\n    </g>\r\n    <g id=\"ytick_4\">\r\n     <g id=\"line2d_9\">\r\n      <g>\r\n       <use style=\"stroke:#000000;stroke-width:0.8;\" x=\"20.5625\" xlink:href=\"#me8f482cf7b\" y=\"134.395135\"/>\r\n      </g>\r\n     </g>\r\n     <g id=\"text_10\">\r\n      <!-- 3 -->\r\n      <g transform=\"translate(7.2 138.194354)scale(0.1 -0.1)\">\r\n       <use xlink:href=\"#DejaVuSans-51\"/>\r\n      </g>\r\n     </g>\r\n    </g>\r\n    <g id=\"ytick_5\">\r\n     <g id=\"line2d_10\">\r\n      <g>\r\n       <use style=\"stroke:#000000;stroke-width:0.8;\" x=\"20.5625\" xlink:href=\"#me8f482cf7b\" y=\"104.075247\"/>\r\n      </g>\r\n     </g>\r\n     <g id=\"text_11\">\r\n      <!-- 4 -->\r\n      <g transform=\"translate(7.2 107.874465)scale(0.1 -0.1)\">\r\n       <defs>\r\n        <path d=\"M 37.796875 64.3125 \r\nL 12.890625 25.390625 \r\nL 37.796875 25.390625 \r\nz\r\nM 35.203125 72.90625 \r\nL 47.609375 72.90625 \r\nL 47.609375 25.390625 \r\nL 58.015625 25.390625 \r\nL 58.015625 17.1875 \r\nL 47.609375 17.1875 \r\nL 47.609375 0 \r\nL 37.796875 0 \r\nL 37.796875 17.1875 \r\nL 4.890625 17.1875 \r\nL 4.890625 26.703125 \r\nz\r\n\" id=\"DejaVuSans-52\"/>\r\n       </defs>\r\n       <use xlink:href=\"#DejaVuSans-52\"/>\r\n      </g>\r\n     </g>\r\n    </g>\r\n    <g id=\"ytick_6\">\r\n     <g id=\"line2d_11\">\r\n      <g>\r\n       <use style=\"stroke:#000000;stroke-width:0.8;\" x=\"20.5625\" xlink:href=\"#me8f482cf7b\" y=\"73.755358\"/>\r\n      </g>\r\n     </g>\r\n     <g id=\"text_12\">\r\n      <!-- 5 -->\r\n      <g transform=\"translate(7.2 77.554577)scale(0.1 -0.1)\">\r\n       <use xlink:href=\"#DejaVuSans-53\"/>\r\n      </g>\r\n     </g>\r\n    </g>\r\n    <g id=\"ytick_7\">\r\n     <g id=\"line2d_12\">\r\n      <g>\r\n       <use style=\"stroke:#000000;stroke-width:0.8;\" x=\"20.5625\" xlink:href=\"#me8f482cf7b\" y=\"43.435469\"/>\r\n      </g>\r\n     </g>\r\n     <g id=\"text_13\">\r\n      <!-- 6 -->\r\n      <g transform=\"translate(7.2 47.234688)scale(0.1 -0.1)\">\r\n       <use xlink:href=\"#DejaVuSans-54\"/>\r\n      </g>\r\n     </g>\r\n    </g>\r\n    <g id=\"text_14\">\r\n     <!-- 1e6 -->\r\n     <g transform=\"translate(20.5625 14.798437)scale(0.1 -0.1)\">\r\n      <use xlink:href=\"#DejaVuSans-49\"/>\r\n      <use x=\"63.623047\" xlink:href=\"#DejaVuSans-101\"/>\r\n      <use x=\"125.146484\" xlink:href=\"#DejaVuSans-54\"/>\r\n     </g>\r\n    </g>\r\n   </g>\r\n   <g id=\"line2d_13\">\r\n    <path clip-path=\"url(#pb5020d30ca)\" d=\"M 35.780682 225.354801 \r\nL 131.622848 225.246013 \r\nL 165.297123 224.225173 \r\nL 171.772945 223.748241 \r\nL 183.429425 222.75384 \r\nL 191.200411 221.770202 \r\nL 201.561726 220.094573 \r\nL 209.332713 218.480888 \r\nL 217.103699 216.664969 \r\nL 224.874686 214.61959 \r\nL 228.760179 213.37699 \r\nL 236.531165 210.485897 \r\nL 244.302152 207.022153 \r\nL 246.892481 205.697963 \r\nL 250.777974 203.534669 \r\nL 253.368303 202.090472 \r\nL 257.253796 199.597389 \r\nL 262.434454 195.979165 \r\nL 266.319947 192.676601 \r\nL 268.910276 190.325082 \r\nL 270.20544 189.180809 \r\nL 272.795769 186.29951 \r\nL 281.86192 175.789484 \r\nL 283.157084 173.932634 \r\nL 287.042577 169.088819 \r\nL 289.632906 165.790288 \r\nL 294.813564 158.194004 \r\nL 296.108728 156.568828 \r\nL 298.699057 152.689034 \r\nL 302.58455 146.827745 \r\nL 306.470044 141.451998 \r\nL 311.650701 133.032559 \r\nL 315.536194 127.586895 \r\nL 316.831359 124.988875 \r\nL 325.89751 108.51996 \r\nL 328.487838 103.372462 \r\nL 331.078167 97.871403 \r\nL 332.373332 95.572883 \r\nL 334.963661 89.950332 \r\nL 340.144318 78.411674 \r\nL 340.144318 78.411674 \r\n\" style=\"fill:none;stroke:#1f77b4;stroke-linecap:square;stroke-width:1.5;\"/>\r\n   </g>\r\n   <g id=\"line2d_14\">\r\n    <path clip-path=\"url(#pb5020d30ca)\" d=\"M 35.780682 225.354771 \r\nL 104.424396 225.264266 \r\nL 108.309889 225.100539 \r\nL 112.195382 224.611721 \r\nL 116.080875 223.714131 \r\nL 117.37604 223.352021 \r\nL 121.261533 221.653986 \r\nL 123.851862 220.421543 \r\nL 127.737355 217.938253 \r\nL 131.622848 215.119625 \r\nL 135.508341 212.326769 \r\nL 138.09867 210.257225 \r\nL 140.688999 208.481116 \r\nL 143.279328 206.893688 \r\nL 145.869657 205.062549 \r\nL 148.459985 203.213217 \r\nL 153.640643 199.958044 \r\nL 157.526136 196.828971 \r\nL 158.821301 195.989443 \r\nL 161.41163 194.564408 \r\nL 164.001958 192.831657 \r\nL 165.297123 191.795869 \r\nL 167.887452 190.134885 \r\nL 170.47778 188.720159 \r\nL 173.068109 187.109021 \r\nL 175.658438 185.504765 \r\nL 180.839096 183.024901 \r\nL 183.429425 181.420464 \r\nL 184.724589 180.659404 \r\nL 187.314918 179.423172 \r\nL 189.905247 178.081335 \r\nL 192.495575 176.580621 \r\nL 196.381069 174.712098 \r\nL 200.266562 172.893511 \r\nL 202.856891 171.409231 \r\nL 209.332713 168.393342 \r\nL 211.923042 166.939321 \r\nL 217.103699 164.693618 \r\nL 219.694028 163.229774 \r\nL 220.989192 162.454919 \r\nL 224.874686 160.539035 \r\nL 227.465015 158.920923 \r\nL 231.350508 156.17188 \r\nL 232.645672 155.246032 \r\nL 236.531165 151.910965 \r\nL 239.121494 149.244028 \r\nL 241.711823 146.806036 \r\nL 243.006987 145.419022 \r\nL 249.482809 137.696243 \r\nL 250.777974 136.333273 \r\nL 254.663467 130.819026 \r\nL 255.958632 128.76361 \r\nL 261.139289 121.30986 \r\nL 262.434454 119.268482 \r\nL 265.024782 114.756489 \r\nL 271.500604 104.981175 \r\nL 275.386098 98.648896 \r\nL 277.976426 95.272261 \r\nL 280.566755 91.1292 \r\nL 283.157084 87.032225 \r\nL 284.452249 85.258966 \r\nL 287.042577 82.440793 \r\nL 293.518399 73.81815 \r\nL 297.403893 69.473947 \r\nL 302.58455 62.804875 \r\nL 303.879715 61.529985 \r\nL 305.174879 60.465393 \r\nL 311.650701 53.52987 \r\nL 314.24103 51.332709 \r\nL 315.536194 50.175277 \r\nL 319.421688 46.044769 \r\nL 320.716852 44.615095 \r\nL 323.307181 42.508075 \r\nL 325.89751 39.993859 \r\nL 327.192674 38.887001 \r\nL 328.487838 37.355786 \r\nL 329.783003 36.008006 \r\nL 331.078167 35.056113 \r\nL 333.668496 33.520593 \r\nL 336.258825 31.425761 \r\nL 337.553989 29.98399 \r\nL 338.849154 28.726594 \r\nL 340.144318 27.682074 \r\nL 340.144318 27.682074 \r\n\" style=\"fill:none;stroke:#ff7f0e;stroke-linecap:square;stroke-width:1.5;\"/>\r\n   </g>\r\n   <g id=\"line2d_15\">\r\n    <path clip-path=\"url(#pb5020d30ca)\" d=\"M 35.780682 225.354801 \r\nL 100.538902 225.285763 \r\nL 104.424396 225.118367 \r\nL 110.900218 224.735972 \r\nL 116.080875 224.145492 \r\nL 119.966368 223.362208 \r\nL 131.622848 221.363309 \r\nL 141.984163 220.197418 \r\nL 144.574492 219.968655 \r\nL 147.164821 219.568584 \r\nL 148.459985 219.54169 \r\nL 149.75515 219.331028 \r\nL 152.345479 219.164147 \r\nL 154.935808 218.895937 \r\nL 156.230972 219.200167 \r\nL 160.116465 219.003846 \r\nL 184.724589 218.360063 \r\nL 191.200411 218.289145 \r\nL 195.085904 218.20622 \r\nL 200.266562 218.141518 \r\nL 214.51337 218.025969 \r\nL 254.663467 217.682171 \r\nL 271.500604 217.242685 \r\nL 275.386098 217.095027 \r\nL 276.681262 217.095027 \r\nL 277.976426 216.902162 \r\nL 285.747413 216.606846 \r\nL 288.337742 216.173514 \r\nL 298.699057 215.355787 \r\nL 301.289386 214.960749 \r\nL 303.879715 214.960749 \r\nL 305.174879 214.467475 \r\nL 309.060372 213.896733 \r\nL 310.355537 213.649687 \r\nL 312.945866 213.649687 \r\nL 314.24103 213.062027 \r\nL 318.126523 212.332197 \r\nL 319.421688 212.035699 \r\nL 322.012016 212.035699 \r\nL 323.307181 211.320998 \r\nL 328.487838 210.22551 \r\nL 331.078167 210.22551 \r\nL 332.373332 209.420214 \r\nL 336.258825 208.553247 \r\nL 337.553989 208.18386 \r\nL 340.144318 208.18386 \r\nL 340.144318 208.18386 \r\n\" style=\"fill:none;stroke:#2ca02c;stroke-linecap:square;stroke-width:1.5;\"/>\r\n   </g>\r\n   <g id=\"line2d_16\">\r\n    <path clip-path=\"url(#pb5020d30ca)\" d=\"M 35.780682 225.354801 \r\nL 100.538902 225.291796 \r\nL 109.605053 224.8903 \r\nL 112.195382 224.681305 \r\nL 116.080875 224.354669 \r\nL 118.671204 224.022606 \r\nL 122.556697 223.472088 \r\nL 127.737355 222.783856 \r\nL 130.327684 222.441302 \r\nL 141.984163 221.411033 \r\nL 144.574492 221.269105 \r\nL 151.050314 220.895807 \r\nL 162.706794 220.456957 \r\nL 170.47778 220.291167 \r\nL 183.429425 220.041756 \r\nL 224.874686 219.647021 \r\nL 272.795769 219.142832 \r\nL 305.174879 218.481282 \r\nL 340.144318 217.418964 \r\nL 340.144318 217.418964 \r\n\" style=\"fill:none;stroke:#d62728;stroke-linecap:square;stroke-width:1.5;\"/>\r\n   </g>\r\n   <g id=\"line2d_17\">\r\n    <path clip-path=\"url(#pb5020d30ca)\" d=\"M 35.780682 225.354801 \r\nL 104.424396 225.261507 \r\nL 113.490546 225.039626 \r\nL 122.556697 224.446599 \r\nL 134.213177 223.164977 \r\nL 139.393835 222.617734 \r\nL 144.574492 222.096474 \r\nL 154.935808 220.906631 \r\nL 165.297123 219.791071 \r\nL 184.724589 218.399237 \r\nL 191.200411 218.013356 \r\nL 201.561726 217.612254 \r\nL 237.82633 216.769694 \r\nL 299.994221 215.751613 \r\nL 311.650701 215.452477 \r\nL 327.192674 214.963933 \r\nL 334.963661 214.512015 \r\nL 340.144318 214.108245 \r\nL 340.144318 214.108245 \r\n\" style=\"fill:none;stroke:#9467bd;stroke-linecap:square;stroke-width:1.5;\"/>\r\n   </g>\r\n   <g id=\"line2d_18\">\r\n    <path clip-path=\"url(#pb5020d30ca)\" d=\"M 35.780682 225.354771 \r\nL 84.996929 225.259293 \r\nL 103.129231 225.109635 \r\nL 254.663467 224.950394 \r\nL 315.536194 224.801008 \r\nL 336.258825 224.690219 \r\nL 340.144318 224.679122 \r\nL 340.144318 224.679122 \r\n\" style=\"fill:none;stroke:#8c564b;stroke-linecap:square;stroke-width:1.5;\"/>\r\n   </g>\r\n   <g id=\"line2d_19\">\r\n    <path clip-path=\"url(#pb5020d30ca)\" d=\"M 35.780682 225.35474 \r\nL 130.327684 225.247924 \r\nL 191.200411 224.858707 \r\nL 255.958632 224.716749 \r\nL 277.976426 224.410579 \r\nL 290.928071 224.015663 \r\nL 302.58455 223.685661 \r\nL 324.602345 223.262031 \r\nL 340.144318 223.061223 \r\nL 340.144318 223.061223 \r\n\" style=\"fill:none;stroke:#e377c2;stroke-linecap:square;stroke-width:1.5;\"/>\r\n   </g>\r\n   <g id=\"patch_3\">\r\n    <path d=\"M 20.5625 235.238438 \r\nL 20.5625 17.798438 \r\n\" style=\"fill:none;stroke:#000000;stroke-linecap:square;stroke-linejoin:miter;stroke-width:0.8;\"/>\r\n   </g>\r\n   <g id=\"patch_4\">\r\n    <path d=\"M 355.3625 235.238438 \r\nL 355.3625 17.798438 \r\n\" style=\"fill:none;stroke:#000000;stroke-linecap:square;stroke-linejoin:miter;stroke-width:0.8;\"/>\r\n   </g>\r\n   <g id=\"patch_5\">\r\n    <path d=\"M 20.5625 235.238438 \r\nL 355.3625 235.238438 \r\n\" style=\"fill:none;stroke:#000000;stroke-linecap:square;stroke-linejoin:miter;stroke-width:0.8;\"/>\r\n   </g>\r\n   <g id=\"patch_6\">\r\n    <path d=\"M 20.5625 17.798438 \r\nL 355.3625 17.798438 \r\n\" style=\"fill:none;stroke:#000000;stroke-linecap:square;stroke-linejoin:miter;stroke-width:0.8;\"/>\r\n   </g>\r\n   <g id=\"legend_1\">\r\n    <g id=\"patch_7\">\r\n     <path d=\"M 27.5625 128.545313 \r\nL 139.826563 128.545313 \r\nQ 141.826563 128.545313 141.826563 126.545313 \r\nL 141.826563 24.798438 \r\nQ 141.826563 22.798438 139.826563 22.798438 \r\nL 27.5625 22.798438 \r\nQ 25.5625 22.798438 25.5625 24.798438 \r\nL 25.5625 126.545313 \r\nQ 25.5625 128.545313 27.5625 128.545313 \r\nz\r\n\" style=\"fill:#ffffff;opacity:0.8;stroke:#cccccc;stroke-linejoin:miter;\"/>\r\n    </g>\r\n    <g id=\"line2d_20\">\r\n     <path d=\"M 29.5625 30.896875 \r\nL 49.5625 30.896875 \r\n\" style=\"fill:none;stroke:#1f77b4;stroke-linecap:square;stroke-width:1.5;\"/>\r\n    </g>\r\n    <g id=\"line2d_21\"/>\r\n    <g id=\"text_15\">\r\n     <!-- India -->\r\n     <g transform=\"translate(57.5625 34.396875)scale(0.1 -0.1)\">\r\n      <defs>\r\n       <path d=\"M 9.8125 72.90625 \r\nL 19.671875 72.90625 \r\nL 19.671875 0 \r\nL 9.8125 0 \r\nz\r\n\" id=\"DejaVuSans-73\"/>\r\n       <path d=\"M 54.890625 33.015625 \r\nL 54.890625 0 \r\nL 45.90625 0 \r\nL 45.90625 32.71875 \r\nQ 45.90625 40.484375 42.875 44.328125 \r\nQ 39.84375 48.1875 33.796875 48.1875 \r\nQ 26.515625 48.1875 22.3125 43.546875 \r\nQ 18.109375 38.921875 18.109375 30.90625 \r\nL 18.109375 0 \r\nL 9.078125 0 \r\nL 9.078125 54.6875 \r\nL 18.109375 54.6875 \r\nL 18.109375 46.1875 \r\nQ 21.34375 51.125 25.703125 53.5625 \r\nQ 30.078125 56 35.796875 56 \r\nQ 45.21875 56 50.046875 50.171875 \r\nQ 54.890625 44.34375 54.890625 33.015625 \r\nz\r\n\" id=\"DejaVuSans-110\"/>\r\n       <path d=\"M 9.421875 54.6875 \r\nL 18.40625 54.6875 \r\nL 18.40625 0 \r\nL 9.421875 0 \r\nz\r\nM 9.421875 75.984375 \r\nL 18.40625 75.984375 \r\nL 18.40625 64.59375 \r\nL 9.421875 64.59375 \r\nz\r\n\" id=\"DejaVuSans-105\"/>\r\n      </defs>\r\n      <use xlink:href=\"#DejaVuSans-73\"/>\r\n      <use x=\"29.492188\" xlink:href=\"#DejaVuSans-110\"/>\r\n      <use x=\"92.871094\" xlink:href=\"#DejaVuSans-100\"/>\r\n      <use x=\"156.347656\" xlink:href=\"#DejaVuSans-105\"/>\r\n      <use x=\"184.130859\" xlink:href=\"#DejaVuSans-97\"/>\r\n     </g>\r\n    </g>\r\n    <g id=\"line2d_22\">\r\n     <path d=\"M 29.5625 45.575 \r\nL 49.5625 45.575 \r\n\" style=\"fill:none;stroke:#ff7f0e;stroke-linecap:square;stroke-width:1.5;\"/>\r\n    </g>\r\n    <g id=\"line2d_23\"/>\r\n    <g id=\"text_16\">\r\n     <!-- US -->\r\n     <g transform=\"translate(57.5625 49.075)scale(0.1 -0.1)\">\r\n      <defs>\r\n       <path d=\"M 8.6875 72.90625 \r\nL 18.609375 72.90625 \r\nL 18.609375 28.609375 \r\nQ 18.609375 16.890625 22.84375 11.734375 \r\nQ 27.09375 6.59375 36.625 6.59375 \r\nQ 46.09375 6.59375 50.34375 11.734375 \r\nQ 54.59375 16.890625 54.59375 28.609375 \r\nL 54.59375 72.90625 \r\nL 64.5 72.90625 \r\nL 64.5 27.390625 \r\nQ 64.5 13.140625 57.4375 5.859375 \r\nQ 50.390625 -1.421875 36.625 -1.421875 \r\nQ 22.796875 -1.421875 15.734375 5.859375 \r\nQ 8.6875 13.140625 8.6875 27.390625 \r\nz\r\n\" id=\"DejaVuSans-85\"/>\r\n       <path d=\"M 53.515625 70.515625 \r\nL 53.515625 60.890625 \r\nQ 47.90625 63.578125 42.921875 64.890625 \r\nQ 37.9375 66.21875 33.296875 66.21875 \r\nQ 25.25 66.21875 20.875 63.09375 \r\nQ 16.5 59.96875 16.5 54.203125 \r\nQ 16.5 49.359375 19.40625 46.890625 \r\nQ 22.3125 44.4375 30.421875 42.921875 \r\nL 36.375 41.703125 \r\nQ 47.40625 39.59375 52.65625 34.296875 \r\nQ 57.90625 29 57.90625 20.125 \r\nQ 57.90625 9.515625 50.796875 4.046875 \r\nQ 43.703125 -1.421875 29.984375 -1.421875 \r\nQ 24.8125 -1.421875 18.96875 -0.25 \r\nQ 13.140625 0.921875 6.890625 3.21875 \r\nL 6.890625 13.375 \r\nQ 12.890625 10.015625 18.65625 8.296875 \r\nQ 24.421875 6.59375 29.984375 6.59375 \r\nQ 38.421875 6.59375 43.015625 9.90625 \r\nQ 47.609375 13.234375 47.609375 19.390625 \r\nQ 47.609375 24.75 44.3125 27.78125 \r\nQ 41.015625 30.8125 33.5 32.328125 \r\nL 27.484375 33.5 \r\nQ 16.453125 35.6875 11.515625 40.375 \r\nQ 6.59375 45.0625 6.59375 53.421875 \r\nQ 6.59375 63.09375 13.40625 68.65625 \r\nQ 20.21875 74.21875 32.171875 74.21875 \r\nQ 37.3125 74.21875 42.625 73.28125 \r\nQ 47.953125 72.359375 53.515625 70.515625 \r\nz\r\n\" id=\"DejaVuSans-83\"/>\r\n      </defs>\r\n      <use xlink:href=\"#DejaVuSans-85\"/>\r\n      <use x=\"73.193359\" xlink:href=\"#DejaVuSans-83\"/>\r\n     </g>\r\n    </g>\r\n    <g id=\"line2d_24\">\r\n     <path d=\"M 29.5625 60.253125 \r\nL 49.5625 60.253125 \r\n\" style=\"fill:none;stroke:#2ca02c;stroke-linecap:square;stroke-width:1.5;\"/>\r\n    </g>\r\n    <g id=\"line2d_25\"/>\r\n    <g id=\"text_17\">\r\n     <!-- Spain -->\r\n     <g transform=\"translate(57.5625 63.753125)scale(0.1 -0.1)\">\r\n      <defs>\r\n       <path d=\"M 18.109375 8.203125 \r\nL 18.109375 -20.796875 \r\nL 9.078125 -20.796875 \r\nL 9.078125 54.6875 \r\nL 18.109375 54.6875 \r\nL 18.109375 46.390625 \r\nQ 20.953125 51.265625 25.265625 53.625 \r\nQ 29.59375 56 35.59375 56 \r\nQ 45.5625 56 51.78125 48.09375 \r\nQ 58.015625 40.1875 58.015625 27.296875 \r\nQ 58.015625 14.40625 51.78125 6.484375 \r\nQ 45.5625 -1.421875 35.59375 -1.421875 \r\nQ 29.59375 -1.421875 25.265625 0.953125 \r\nQ 20.953125 3.328125 18.109375 8.203125 \r\nz\r\nM 48.6875 27.296875 \r\nQ 48.6875 37.203125 44.609375 42.84375 \r\nQ 40.53125 48.484375 33.40625 48.484375 \r\nQ 26.265625 48.484375 22.1875 42.84375 \r\nQ 18.109375 37.203125 18.109375 27.296875 \r\nQ 18.109375 17.390625 22.1875 11.75 \r\nQ 26.265625 6.109375 33.40625 6.109375 \r\nQ 40.53125 6.109375 44.609375 11.75 \r\nQ 48.6875 17.390625 48.6875 27.296875 \r\nz\r\n\" id=\"DejaVuSans-112\"/>\r\n      </defs>\r\n      <use xlink:href=\"#DejaVuSans-83\"/>\r\n      <use x=\"63.476562\" xlink:href=\"#DejaVuSans-112\"/>\r\n      <use x=\"126.953125\" xlink:href=\"#DejaVuSans-97\"/>\r\n      <use x=\"188.232422\" xlink:href=\"#DejaVuSans-105\"/>\r\n      <use x=\"216.015625\" xlink:href=\"#DejaVuSans-110\"/>\r\n     </g>\r\n    </g>\r\n    <g id=\"line2d_26\">\r\n     <path d=\"M 29.5625 74.93125 \r\nL 49.5625 74.93125 \r\n\" style=\"fill:none;stroke:#d62728;stroke-linecap:square;stroke-width:1.5;\"/>\r\n    </g>\r\n    <g id=\"line2d_27\"/>\r\n    <g id=\"text_18\">\r\n     <!-- Germany -->\r\n     <g transform=\"translate(57.5625 78.43125)scale(0.1 -0.1)\">\r\n      <defs>\r\n       <path d=\"M 59.515625 10.40625 \r\nL 59.515625 29.984375 \r\nL 43.40625 29.984375 \r\nL 43.40625 38.09375 \r\nL 69.28125 38.09375 \r\nL 69.28125 6.78125 \r\nQ 63.578125 2.734375 56.6875 0.65625 \r\nQ 49.8125 -1.421875 42 -1.421875 \r\nQ 24.90625 -1.421875 15.25 8.5625 \r\nQ 5.609375 18.5625 5.609375 36.375 \r\nQ 5.609375 54.25 15.25 64.234375 \r\nQ 24.90625 74.21875 42 74.21875 \r\nQ 49.125 74.21875 55.546875 72.453125 \r\nQ 61.96875 70.703125 67.390625 67.28125 \r\nL 67.390625 56.78125 \r\nQ 61.921875 61.421875 55.765625 63.765625 \r\nQ 49.609375 66.109375 42.828125 66.109375 \r\nQ 29.4375 66.109375 22.71875 58.640625 \r\nQ 16.015625 51.171875 16.015625 36.375 \r\nQ 16.015625 21.625 22.71875 14.15625 \r\nQ 29.4375 6.6875 42.828125 6.6875 \r\nQ 48.046875 6.6875 52.140625 7.59375 \r\nQ 56.25 8.5 59.515625 10.40625 \r\nz\r\n\" id=\"DejaVuSans-71\"/>\r\n       <path d=\"M 41.109375 46.296875 \r\nQ 39.59375 47.171875 37.8125 47.578125 \r\nQ 36.03125 48 33.890625 48 \r\nQ 26.265625 48 22.1875 43.046875 \r\nQ 18.109375 38.09375 18.109375 28.8125 \r\nL 18.109375 0 \r\nL 9.078125 0 \r\nL 9.078125 54.6875 \r\nL 18.109375 54.6875 \r\nL 18.109375 46.1875 \r\nQ 20.953125 51.171875 25.484375 53.578125 \r\nQ 30.03125 56 36.53125 56 \r\nQ 37.453125 56 38.578125 55.875 \r\nQ 39.703125 55.765625 41.0625 55.515625 \r\nz\r\n\" id=\"DejaVuSans-114\"/>\r\n       <path d=\"M 52 44.1875 \r\nQ 55.375 50.25 60.0625 53.125 \r\nQ 64.75 56 71.09375 56 \r\nQ 79.640625 56 84.28125 50.015625 \r\nQ 88.921875 44.046875 88.921875 33.015625 \r\nL 88.921875 0 \r\nL 79.890625 0 \r\nL 79.890625 32.71875 \r\nQ 79.890625 40.578125 77.09375 44.375 \r\nQ 74.3125 48.1875 68.609375 48.1875 \r\nQ 61.625 48.1875 57.5625 43.546875 \r\nQ 53.515625 38.921875 53.515625 30.90625 \r\nL 53.515625 0 \r\nL 44.484375 0 \r\nL 44.484375 32.71875 \r\nQ 44.484375 40.625 41.703125 44.40625 \r\nQ 38.921875 48.1875 33.109375 48.1875 \r\nQ 26.21875 48.1875 22.15625 43.53125 \r\nQ 18.109375 38.875 18.109375 30.90625 \r\nL 18.109375 0 \r\nL 9.078125 0 \r\nL 9.078125 54.6875 \r\nL 18.109375 54.6875 \r\nL 18.109375 46.1875 \r\nQ 21.1875 51.21875 25.484375 53.609375 \r\nQ 29.78125 56 35.6875 56 \r\nQ 41.65625 56 45.828125 52.96875 \r\nQ 50 49.953125 52 44.1875 \r\nz\r\n\" id=\"DejaVuSans-109\"/>\r\n       <path d=\"M 32.171875 -5.078125 \r\nQ 28.375 -14.84375 24.75 -17.8125 \r\nQ 21.140625 -20.796875 15.09375 -20.796875 \r\nL 7.90625 -20.796875 \r\nL 7.90625 -13.28125 \r\nL 13.1875 -13.28125 \r\nQ 16.890625 -13.28125 18.9375 -11.515625 \r\nQ 21 -9.765625 23.484375 -3.21875 \r\nL 25.09375 0.875 \r\nL 2.984375 54.6875 \r\nL 12.5 54.6875 \r\nL 29.59375 11.921875 \r\nL 46.6875 54.6875 \r\nL 56.203125 54.6875 \r\nz\r\n\" id=\"DejaVuSans-121\"/>\r\n      </defs>\r\n      <use xlink:href=\"#DejaVuSans-71\"/>\r\n      <use x=\"77.490234\" xlink:href=\"#DejaVuSans-101\"/>\r\n      <use x=\"139.013672\" xlink:href=\"#DejaVuSans-114\"/>\r\n      <use x=\"178.376953\" xlink:href=\"#DejaVuSans-109\"/>\r\n      <use x=\"275.789062\" xlink:href=\"#DejaVuSans-97\"/>\r\n      <use x=\"337.068359\" xlink:href=\"#DejaVuSans-110\"/>\r\n      <use x=\"400.447266\" xlink:href=\"#DejaVuSans-121\"/>\r\n     </g>\r\n    </g>\r\n    <g id=\"line2d_28\">\r\n     <path d=\"M 29.5625 89.609375 \r\nL 49.5625 89.609375 \r\n\" style=\"fill:none;stroke:#9467bd;stroke-linecap:square;stroke-width:1.5;\"/>\r\n    </g>\r\n    <g id=\"line2d_29\"/>\r\n    <g id=\"text_19\">\r\n     <!-- United Kingdom -->\r\n     <g transform=\"translate(57.5625 93.109375)scale(0.1 -0.1)\">\r\n      <defs>\r\n       <path id=\"DejaVuSans-32\"/>\r\n       <path d=\"M 9.8125 72.90625 \r\nL 19.671875 72.90625 \r\nL 19.671875 42.09375 \r\nL 52.390625 72.90625 \r\nL 65.09375 72.90625 \r\nL 28.90625 38.921875 \r\nL 67.671875 0 \r\nL 54.6875 0 \r\nL 19.671875 35.109375 \r\nL 19.671875 0 \r\nL 9.8125 0 \r\nz\r\n\" id=\"DejaVuSans-75\"/>\r\n       <path d=\"M 45.40625 27.984375 \r\nQ 45.40625 37.75 41.375 43.109375 \r\nQ 37.359375 48.484375 30.078125 48.484375 \r\nQ 22.859375 48.484375 18.828125 43.109375 \r\nQ 14.796875 37.75 14.796875 27.984375 \r\nQ 14.796875 18.265625 18.828125 12.890625 \r\nQ 22.859375 7.515625 30.078125 7.515625 \r\nQ 37.359375 7.515625 41.375 12.890625 \r\nQ 45.40625 18.265625 45.40625 27.984375 \r\nz\r\nM 54.390625 6.78125 \r\nQ 54.390625 -7.171875 48.1875 -13.984375 \r\nQ 42 -20.796875 29.203125 -20.796875 \r\nQ 24.46875 -20.796875 20.265625 -20.09375 \r\nQ 16.0625 -19.390625 12.109375 -17.921875 \r\nL 12.109375 -9.1875 \r\nQ 16.0625 -11.328125 19.921875 -12.34375 \r\nQ 23.78125 -13.375 27.78125 -13.375 \r\nQ 36.625 -13.375 41.015625 -8.765625 \r\nQ 45.40625 -4.15625 45.40625 5.171875 \r\nL 45.40625 9.625 \r\nQ 42.625 4.78125 38.28125 2.390625 \r\nQ 33.9375 0 27.875 0 \r\nQ 17.828125 0 11.671875 7.65625 \r\nQ 5.515625 15.328125 5.515625 27.984375 \r\nQ 5.515625 40.671875 11.671875 48.328125 \r\nQ 17.828125 56 27.875 56 \r\nQ 33.9375 56 38.28125 53.609375 \r\nQ 42.625 51.21875 45.40625 46.390625 \r\nL 45.40625 54.6875 \r\nL 54.390625 54.6875 \r\nz\r\n\" id=\"DejaVuSans-103\"/>\r\n       <path d=\"M 30.609375 48.390625 \r\nQ 23.390625 48.390625 19.1875 42.75 \r\nQ 14.984375 37.109375 14.984375 27.296875 \r\nQ 14.984375 17.484375 19.15625 11.84375 \r\nQ 23.34375 6.203125 30.609375 6.203125 \r\nQ 37.796875 6.203125 41.984375 11.859375 \r\nQ 46.1875 17.53125 46.1875 27.296875 \r\nQ 46.1875 37.015625 41.984375 42.703125 \r\nQ 37.796875 48.390625 30.609375 48.390625 \r\nz\r\nM 30.609375 56 \r\nQ 42.328125 56 49.015625 48.375 \r\nQ 55.71875 40.765625 55.71875 27.296875 \r\nQ 55.71875 13.875 49.015625 6.21875 \r\nQ 42.328125 -1.421875 30.609375 -1.421875 \r\nQ 18.84375 -1.421875 12.171875 6.21875 \r\nQ 5.515625 13.875 5.515625 27.296875 \r\nQ 5.515625 40.765625 12.171875 48.375 \r\nQ 18.84375 56 30.609375 56 \r\nz\r\n\" id=\"DejaVuSans-111\"/>\r\n      </defs>\r\n      <use xlink:href=\"#DejaVuSans-85\"/>\r\n      <use x=\"73.193359\" xlink:href=\"#DejaVuSans-110\"/>\r\n      <use x=\"136.572266\" xlink:href=\"#DejaVuSans-105\"/>\r\n      <use x=\"164.355469\" xlink:href=\"#DejaVuSans-116\"/>\r\n      <use x=\"203.564453\" xlink:href=\"#DejaVuSans-101\"/>\r\n      <use x=\"265.087891\" xlink:href=\"#DejaVuSans-100\"/>\r\n      <use x=\"328.564453\" xlink:href=\"#DejaVuSans-32\"/>\r\n      <use x=\"360.351562\" xlink:href=\"#DejaVuSans-75\"/>\r\n      <use x=\"425.927734\" xlink:href=\"#DejaVuSans-105\"/>\r\n      <use x=\"453.710938\" xlink:href=\"#DejaVuSans-110\"/>\r\n      <use x=\"517.089844\" xlink:href=\"#DejaVuSans-103\"/>\r\n      <use x=\"580.566406\" xlink:href=\"#DejaVuSans-100\"/>\r\n      <use x=\"644.042969\" xlink:href=\"#DejaVuSans-111\"/>\r\n      <use x=\"705.224609\" xlink:href=\"#DejaVuSans-109\"/>\r\n     </g>\r\n    </g>\r\n    <g id=\"line2d_30\">\r\n     <path d=\"M 29.5625 104.2875 \r\nL 49.5625 104.2875 \r\n\" style=\"fill:none;stroke:#8c564b;stroke-linecap:square;stroke-width:1.5;\"/>\r\n    </g>\r\n    <g id=\"line2d_31\"/>\r\n    <g id=\"text_20\">\r\n     <!-- Korea, South -->\r\n     <g transform=\"translate(57.5625 107.7875)scale(0.1 -0.1)\">\r\n      <defs>\r\n       <path d=\"M 11.71875 12.40625 \r\nL 22.015625 12.40625 \r\nL 22.015625 4 \r\nL 14.015625 -11.625 \r\nL 7.71875 -11.625 \r\nL 11.71875 4 \r\nz\r\n\" id=\"DejaVuSans-44\"/>\r\n       <path d=\"M 8.5 21.578125 \r\nL 8.5 54.6875 \r\nL 17.484375 54.6875 \r\nL 17.484375 21.921875 \r\nQ 17.484375 14.15625 20.5 10.265625 \r\nQ 23.53125 6.390625 29.59375 6.390625 \r\nQ 36.859375 6.390625 41.078125 11.03125 \r\nQ 45.3125 15.671875 45.3125 23.6875 \r\nL 45.3125 54.6875 \r\nL 54.296875 54.6875 \r\nL 54.296875 0 \r\nL 45.3125 0 \r\nL 45.3125 8.40625 \r\nQ 42.046875 3.421875 37.71875 1 \r\nQ 33.40625 -1.421875 27.6875 -1.421875 \r\nQ 18.265625 -1.421875 13.375 4.4375 \r\nQ 8.5 10.296875 8.5 21.578125 \r\nz\r\nM 31.109375 56 \r\nz\r\n\" id=\"DejaVuSans-117\"/>\r\n       <path d=\"M 54.890625 33.015625 \r\nL 54.890625 0 \r\nL 45.90625 0 \r\nL 45.90625 32.71875 \r\nQ 45.90625 40.484375 42.875 44.328125 \r\nQ 39.84375 48.1875 33.796875 48.1875 \r\nQ 26.515625 48.1875 22.3125 43.546875 \r\nQ 18.109375 38.921875 18.109375 30.90625 \r\nL 18.109375 0 \r\nL 9.078125 0 \r\nL 9.078125 75.984375 \r\nL 18.109375 75.984375 \r\nL 18.109375 46.1875 \r\nQ 21.34375 51.125 25.703125 53.5625 \r\nQ 30.078125 56 35.796875 56 \r\nQ 45.21875 56 50.046875 50.171875 \r\nQ 54.890625 44.34375 54.890625 33.015625 \r\nz\r\n\" id=\"DejaVuSans-104\"/>\r\n      </defs>\r\n      <use xlink:href=\"#DejaVuSans-75\"/>\r\n      <use x=\"60.576172\" xlink:href=\"#DejaVuSans-111\"/>\r\n      <use x=\"121.757812\" xlink:href=\"#DejaVuSans-114\"/>\r\n      <use x=\"160.621094\" xlink:href=\"#DejaVuSans-101\"/>\r\n      <use x=\"222.144531\" xlink:href=\"#DejaVuSans-97\"/>\r\n      <use x=\"283.423828\" xlink:href=\"#DejaVuSans-44\"/>\r\n      <use x=\"315.210938\" xlink:href=\"#DejaVuSans-32\"/>\r\n      <use x=\"346.998047\" xlink:href=\"#DejaVuSans-83\"/>\r\n      <use x=\"410.474609\" xlink:href=\"#DejaVuSans-111\"/>\r\n      <use x=\"471.65625\" xlink:href=\"#DejaVuSans-117\"/>\r\n      <use x=\"535.035156\" xlink:href=\"#DejaVuSans-116\"/>\r\n      <use x=\"574.244141\" xlink:href=\"#DejaVuSans-104\"/>\r\n     </g>\r\n    </g>\r\n    <g id=\"line2d_32\">\r\n     <path d=\"M 29.5625 118.965625 \r\nL 49.5625 118.965625 \r\n\" style=\"fill:none;stroke:#e377c2;stroke-linecap:square;stroke-width:1.5;\"/>\r\n    </g>\r\n    <g id=\"line2d_33\"/>\r\n    <g id=\"text_21\">\r\n     <!-- Japan -->\r\n     <g transform=\"translate(57.5625 122.465625)scale(0.1 -0.1)\">\r\n      <defs>\r\n       <path d=\"M 9.8125 72.90625 \r\nL 19.671875 72.90625 \r\nL 19.671875 5.078125 \r\nQ 19.671875 -8.109375 14.671875 -14.0625 \r\nQ 9.671875 -20.015625 -1.421875 -20.015625 \r\nL -5.171875 -20.015625 \r\nL -5.171875 -11.71875 \r\nL -2.09375 -11.71875 \r\nQ 4.4375 -11.71875 7.125 -8.046875 \r\nQ 9.8125 -4.390625 9.8125 5.078125 \r\nz\r\n\" id=\"DejaVuSans-74\"/>\r\n      </defs>\r\n      <use xlink:href=\"#DejaVuSans-74\"/>\r\n      <use x=\"29.492188\" xlink:href=\"#DejaVuSans-97\"/>\r\n      <use x=\"90.771484\" xlink:href=\"#DejaVuSans-112\"/>\r\n      <use x=\"154.248047\" xlink:href=\"#DejaVuSans-97\"/>\r\n      <use x=\"215.527344\" xlink:href=\"#DejaVuSans-110\"/>\r\n     </g>\r\n    </g>\r\n   </g>\r\n  </g>\r\n </g>\r\n <defs>\r\n  <clipPath id=\"pb5020d30ca\">\r\n   <rect height=\"217.44\" width=\"334.8\" x=\"20.5625\" y=\"17.798438\"/>\r\n  </clipPath>\r\n </defs>\r\n</svg>\r\n",
      "image/png": "[encoded data removed]"
     },
     "metadata": {
      "needs_background": "light"
     }
    }
   ],
   "source": [
    "df_plot.set_index('date').plot()"
   ]
  },
  {
   "cell_type": "code",
   "execution_count": 12,
   "metadata": {
    "tags": []
   },
   "outputs": [
    {
     "output_type": "stream",
     "name": "stdout",
     "text": "<class 'str'>\n"
    }
   ],
   "source": [
    "time_idx=[datetime.strptime( each,\"%m/%d/%y\") for each in df_plot.date]\n",
    "time_str=[each.strftime('%Y-%m-%d') for each in time_idx] # convert back to date ISO norm (str)\n",
    "print(type(time_str[0]))\n"
   ]
  },
  {
   "cell_type": "code",
   "execution_count": 13,
   "metadata": {},
   "outputs": [
    {
     "output_type": "execute_result",
     "data": {
      "text/plain": "1   2020-01-23\n2   2020-01-24\nName: date, dtype: datetime64[ns]"
     },
     "metadata": {},
     "execution_count": 13
    }
   ],
   "source": [
    "df_plot['date']=time_idx\n",
    "\n",
    "type(df_plot['date'][0])\n",
    "df_plot.date[1:3]"
   ]
  },
  {
   "cell_type": "code",
   "execution_count": 14,
   "metadata": {},
   "outputs": [
    {
     "output_type": "execute_result",
     "data": {
      "text/plain": "        date  India  US  Spain  Germany  United Kingdom  Korea, South  Japan\n0 2020-01-22      0   1      0        0               0             1      2\n1 2020-01-23      0   1      0        0               0             1      2\n2 2020-01-24      0   2      0        0               0             2      2\n3 2020-01-25      0   2      0        0               0             2      2\n4 2020-01-26      0   5      0        0               0             3      4",
      "text/html": "<div>\n<style scoped>\n    .dataframe tbody tr th:only-of-type {\n        vertical-align: middle;\n    }\n\n    .dataframe tbody tr th {\n        vertical-align: top;\n    }\n\n    .dataframe thead th {\n        text-align: right;\n    }\n</style>\n<table border=\"1\" class=\"dataframe\">\n  <thead>\n    <tr style=\"text-align: right;\">\n      <th></th>\n      <th>date</th>\n      <th>India</th>\n      <th>US</th>\n      <th>Spain</th>\n      <th>Germany</th>\n      <th>United Kingdom</th>\n      <th>Korea, South</th>\n      <th>Japan</th>\n    </tr>\n  </thead>\n  <tbody>\n    <tr>\n      <th>0</th>\n      <td>2020-01-22</td>\n      <td>0</td>\n      <td>1</td>\n      <td>0</td>\n      <td>0</td>\n      <td>0</td>\n      <td>1</td>\n      <td>2</td>\n    </tr>\n    <tr>\n      <th>1</th>\n      <td>2020-01-23</td>\n      <td>0</td>\n      <td>1</td>\n      <td>0</td>\n      <td>0</td>\n      <td>0</td>\n      <td>1</td>\n      <td>2</td>\n    </tr>\n    <tr>\n      <th>2</th>\n      <td>2020-01-24</td>\n      <td>0</td>\n      <td>2</td>\n      <td>0</td>\n      <td>0</td>\n      <td>0</td>\n      <td>2</td>\n      <td>2</td>\n    </tr>\n    <tr>\n      <th>3</th>\n      <td>2020-01-25</td>\n      <td>0</td>\n      <td>2</td>\n      <td>0</td>\n      <td>0</td>\n      <td>0</td>\n      <td>2</td>\n      <td>2</td>\n    </tr>\n    <tr>\n      <th>4</th>\n      <td>2020-01-26</td>\n      <td>0</td>\n      <td>5</td>\n      <td>0</td>\n      <td>0</td>\n      <td>0</td>\n      <td>3</td>\n      <td>4</td>\n    </tr>\n  </tbody>\n</table>\n</div>"
     },
     "metadata": {},
     "execution_count": 14
    }
   ],
   "source": [
    "df_plot.head()"
   ]
  },
  {
   "cell_type": "code",
   "execution_count": 15,
   "metadata": {},
   "outputs": [],
   "source": [
    "df_plot.to_csv('../data/processed/COVID_small_flat_table.csv',sep=';',index=False)"
   ]
  },
  {
   "cell_type": "markdown",
   "metadata": {},
   "source": [
    "### Relational data model - defining a primary key\n"
   ]
  },
  {
   "cell_type": "code",
   "execution_count": 16,
   "metadata": {},
   "outputs": [],
   "source": [
    "data_path='../data/raw/COVID-19/csse_covid_19_data/csse_covid_19_time_series/time_series_covid19_confirmed_global.csv'\n",
    "pd_raw=pd.read_csv(data_path)"
   ]
  },
  {
   "cell_type": "code",
   "execution_count": 17,
   "metadata": {},
   "outputs": [],
   "source": [
    "pd_data_base=pd_raw.rename(columns={'Country/Region':'country',\n",
    "                      'Province/State':'state'})\n",
    "pd_data_base['state']=pd_data_base['state'].fillna('no')  #ensure a sring, important for indexing"
   ]
  },
  {
   "cell_type": "code",
   "execution_count": 18,
   "metadata": {},
   "outputs": [
    {
     "output_type": "execute_result",
     "data": {
      "text/plain": "  state      country  1/22/20  1/23/20  1/24/20  1/25/20  1/26/20  1/27/20  \\\n0    no  Afghanistan        0        0        0        0        0        0   \n1    no      Albania        0        0        0        0        0        0   \n2    no      Algeria        0        0        0        0        0        0   \n3    no      Andorra        0        0        0        0        0        0   \n4    no       Angola        0        0        0        0        0        0   \n\n   1/28/20  1/29/20  ...  9/4/20  9/5/20  9/6/20  9/7/20  9/8/20  9/9/20  \\\n0        0        0  ...   38304   38324   38398   38494   38520   38544   \n1        0        0  ...    9967   10102   10255   10406   10553   10704   \n2        0        0  ...   45773   46071   46364   46653   46938   47216   \n3        0        0  ...    1215    1215    1215    1261    1261    1301   \n4        0        0  ...    2876    2935    2965    2981    3033    3092   \n\n   9/10/20  9/11/20  9/12/20  9/13/20  \n0    38572    38606    38641    38716  \n1    10860    11021    11185    11353  \n2    47488    47752    48007    48254  \n3     1301     1344     1344     1344  \n4     3217     3279     3335     3388  \n\n[5 rows x 238 columns]",
      "text/html": "<div>\n<style scoped>\n    .dataframe tbody tr th:only-of-type {\n        vertical-align: middle;\n    }\n\n    .dataframe tbody tr th {\n        vertical-align: top;\n    }\n\n    .dataframe thead th {\n        text-align: right;\n    }\n</style>\n<table border=\"1\" class=\"dataframe\">\n  <thead>\n    <tr style=\"text-align: right;\">\n      <th></th>\n      <th>state</th>\n      <th>country</th>\n      <th>1/22/20</th>\n      <th>1/23/20</th>\n      <th>1/24/20</th>\n      <th>1/25/20</th>\n      <th>1/26/20</th>\n      <th>1/27/20</th>\n      <th>1/28/20</th>\n      <th>1/29/20</th>\n      <th>...</th>\n      <th>9/4/20</th>\n      <th>9/5/20</th>\n      <th>9/6/20</th>\n      <th>9/7/20</th>\n      <th>9/8/20</th>\n      <th>9/9/20</th>\n      <th>9/10/20</th>\n      <th>9/11/20</th>\n      <th>9/12/20</th>\n      <th>9/13/20</th>\n    </tr>\n  </thead>\n  <tbody>\n    <tr>\n      <th>0</th>\n      <td>no</td>\n      <td>Afghanistan</td>\n      <td>0</td>\n      <td>0</td>\n      <td>0</td>\n      <td>0</td>\n      <td>0</td>\n      <td>0</td>\n      <td>0</td>\n      <td>0</td>\n      <td>...</td>\n      <td>38304</td>\n      <td>38324</td>\n      <td>38398</td>\n      <td>38494</td>\n      <td>38520</td>\n      <td>38544</td>\n      <td>38572</td>\n      <td>38606</td>\n      <td>38641</td>\n      <td>38716</td>\n    </tr>\n    <tr>\n      <th>1</th>\n      <td>no</td>\n      <td>Albania</td>\n      <td>0</td>\n      <td>0</td>\n      <td>0</td>\n      <td>0</td>\n      <td>0</td>\n      <td>0</td>\n      <td>0</td>\n      <td>0</td>\n      <td>...</td>\n      <td>9967</td>\n      <td>10102</td>\n      <td>10255</td>\n      <td>10406</td>\n      <td>10553</td>\n      <td>10704</td>\n      <td>10860</td>\n      <td>11021</td>\n      <td>11185</td>\n      <td>11353</td>\n    </tr>\n    <tr>\n      <th>2</th>\n      <td>no</td>\n      <td>Algeria</td>\n      <td>0</td>\n      <td>0</td>\n      <td>0</td>\n      <td>0</td>\n      <td>0</td>\n      <td>0</td>\n      <td>0</td>\n      <td>0</td>\n      <td>...</td>\n      <td>45773</td>\n      <td>46071</td>\n      <td>46364</td>\n      <td>46653</td>\n      <td>46938</td>\n      <td>47216</td>\n      <td>47488</td>\n      <td>47752</td>\n      <td>48007</td>\n      <td>48254</td>\n    </tr>\n    <tr>\n      <th>3</th>\n      <td>no</td>\n      <td>Andorra</td>\n      <td>0</td>\n      <td>0</td>\n      <td>0</td>\n      <td>0</td>\n      <td>0</td>\n      <td>0</td>\n      <td>0</td>\n      <td>0</td>\n      <td>...</td>\n      <td>1215</td>\n      <td>1215</td>\n      <td>1215</td>\n      <td>1261</td>\n      <td>1261</td>\n      <td>1301</td>\n      <td>1301</td>\n      <td>1344</td>\n      <td>1344</td>\n      <td>1344</td>\n    </tr>\n    <tr>\n      <th>4</th>\n      <td>no</td>\n      <td>Angola</td>\n      <td>0</td>\n      <td>0</td>\n      <td>0</td>\n      <td>0</td>\n      <td>0</td>\n      <td>0</td>\n      <td>0</td>\n      <td>0</td>\n      <td>...</td>\n      <td>2876</td>\n      <td>2935</td>\n      <td>2965</td>\n      <td>2981</td>\n      <td>3033</td>\n      <td>3092</td>\n      <td>3217</td>\n      <td>3279</td>\n      <td>3335</td>\n      <td>3388</td>\n    </tr>\n  </tbody>\n</table>\n<p>5 rows × 238 columns</p>\n</div>"
     },
     "metadata": {},
     "execution_count": 18
    }
   ],
   "source": [
    "pd_data_base=pd_data_base.drop(['Lat','Long'],axis=1)\n",
    "pd_data_base.head()"
   ]
  },
  {
   "cell_type": "code",
   "execution_count": 19,
   "metadata": {},
   "outputs": [
    {
     "output_type": "execute_result",
     "data": {
      "text/plain": "                   1/22/20  1/23/20  1/24/20  1/25/20  1/26/20  1/27/20  \\\nstate country                                                             \nno    Afghanistan        0        0        0        0        0        0   \n      Albania            0        0        0        0        0        0   \n      Algeria            0        0        0        0        0        0   \n      Andorra            0        0        0        0        0        0   \n      Angola             0        0        0        0        0        0   \n\n                   1/28/20  1/29/20  1/30/20  1/31/20  ...  9/4/20  9/5/20  \\\nstate country                                          ...                   \nno    Afghanistan        0        0        0        0  ...   38304   38324   \n      Albania            0        0        0        0  ...    9967   10102   \n      Algeria            0        0        0        0  ...   45773   46071   \n      Andorra            0        0        0        0  ...    1215    1215   \n      Angola             0        0        0        0  ...    2876    2935   \n\n                   9/6/20  9/7/20  9/8/20  9/9/20  9/10/20  9/11/20  9/12/20  \\\nstate country                                                                  \nno    Afghanistan   38398   38494   38520   38544    38572    38606    38641   \n      Albania       10255   10406   10553   10704    10860    11021    11185   \n      Algeria       46364   46653   46938   47216    47488    47752    48007   \n      Andorra        1215    1261    1261    1301     1301     1344     1344   \n      Angola         2965    2981    3033    3092     3217     3279     3335   \n\n                   9/13/20  \nstate country               \nno    Afghanistan    38716  \n      Albania        11353  \n      Algeria        48254  \n      Andorra         1344  \n      Angola          3388  \n\n[5 rows x 236 columns]",
      "text/html": "<div>\n<style scoped>\n    .dataframe tbody tr th:only-of-type {\n        vertical-align: middle;\n    }\n\n    .dataframe tbody tr th {\n        vertical-align: top;\n    }\n\n    .dataframe thead th {\n        text-align: right;\n    }\n</style>\n<table border=\"1\" class=\"dataframe\">\n  <thead>\n    <tr style=\"text-align: right;\">\n      <th></th>\n      <th></th>\n      <th>1/22/20</th>\n      <th>1/23/20</th>\n      <th>1/24/20</th>\n      <th>1/25/20</th>\n      <th>1/26/20</th>\n      <th>1/27/20</th>\n      <th>1/28/20</th>\n      <th>1/29/20</th>\n      <th>1/30/20</th>\n      <th>1/31/20</th>\n      <th>...</th>\n      <th>9/4/20</th>\n      <th>9/5/20</th>\n      <th>9/6/20</th>\n      <th>9/7/20</th>\n      <th>9/8/20</th>\n      <th>9/9/20</th>\n      <th>9/10/20</th>\n      <th>9/11/20</th>\n      <th>9/12/20</th>\n      <th>9/13/20</th>\n    </tr>\n    <tr>\n      <th>state</th>\n      <th>country</th>\n      <th></th>\n      <th></th>\n      <th></th>\n      <th></th>\n      <th></th>\n      <th></th>\n      <th></th>\n      <th></th>\n      <th></th>\n      <th></th>\n      <th></th>\n      <th></th>\n      <th></th>\n      <th></th>\n      <th></th>\n      <th></th>\n      <th></th>\n      <th></th>\n      <th></th>\n      <th></th>\n      <th></th>\n    </tr>\n  </thead>\n  <tbody>\n    <tr>\n      <th rowspan=\"5\" valign=\"top\">no</th>\n      <th>Afghanistan</th>\n      <td>0</td>\n      <td>0</td>\n      <td>0</td>\n      <td>0</td>\n      <td>0</td>\n      <td>0</td>\n      <td>0</td>\n      <td>0</td>\n      <td>0</td>\n      <td>0</td>\n      <td>...</td>\n      <td>38304</td>\n      <td>38324</td>\n      <td>38398</td>\n      <td>38494</td>\n      <td>38520</td>\n      <td>38544</td>\n      <td>38572</td>\n      <td>38606</td>\n      <td>38641</td>\n      <td>38716</td>\n    </tr>\n    <tr>\n      <th>Albania</th>\n      <td>0</td>\n      <td>0</td>\n      <td>0</td>\n      <td>0</td>\n      <td>0</td>\n      <td>0</td>\n      <td>0</td>\n      <td>0</td>\n      <td>0</td>\n      <td>0</td>\n      <td>...</td>\n      <td>9967</td>\n      <td>10102</td>\n      <td>10255</td>\n      <td>10406</td>\n      <td>10553</td>\n      <td>10704</td>\n      <td>10860</td>\n      <td>11021</td>\n      <td>11185</td>\n      <td>11353</td>\n    </tr>\n    <tr>\n      <th>Algeria</th>\n      <td>0</td>\n      <td>0</td>\n      <td>0</td>\n      <td>0</td>\n      <td>0</td>\n      <td>0</td>\n      <td>0</td>\n      <td>0</td>\n      <td>0</td>\n      <td>0</td>\n      <td>...</td>\n      <td>45773</td>\n      <td>46071</td>\n      <td>46364</td>\n      <td>46653</td>\n      <td>46938</td>\n      <td>47216</td>\n      <td>47488</td>\n      <td>47752</td>\n      <td>48007</td>\n      <td>48254</td>\n    </tr>\n    <tr>\n      <th>Andorra</th>\n      <td>0</td>\n      <td>0</td>\n      <td>0</td>\n      <td>0</td>\n      <td>0</td>\n      <td>0</td>\n      <td>0</td>\n      <td>0</td>\n      <td>0</td>\n      <td>0</td>\n      <td>...</td>\n      <td>1215</td>\n      <td>1215</td>\n      <td>1215</td>\n      <td>1261</td>\n      <td>1261</td>\n      <td>1301</td>\n      <td>1301</td>\n      <td>1344</td>\n      <td>1344</td>\n      <td>1344</td>\n    </tr>\n    <tr>\n      <th>Angola</th>\n      <td>0</td>\n      <td>0</td>\n      <td>0</td>\n      <td>0</td>\n      <td>0</td>\n      <td>0</td>\n      <td>0</td>\n      <td>0</td>\n      <td>0</td>\n      <td>0</td>\n      <td>...</td>\n      <td>2876</td>\n      <td>2935</td>\n      <td>2965</td>\n      <td>2981</td>\n      <td>3033</td>\n      <td>3092</td>\n      <td>3217</td>\n      <td>3279</td>\n      <td>3335</td>\n      <td>3388</td>\n    </tr>\n  </tbody>\n</table>\n<p>5 rows × 236 columns</p>\n</div>"
     },
     "metadata": {},
     "execution_count": 19
    }
   ],
   "source": [
    "pd_relational_model=pd_data_base.set_index(['state','country'])\n",
    "pd_relational_model.head()\n",
    "\n"
   ]
  },
  {
   "cell_type": "code",
   "execution_count": 20,
   "metadata": {},
   "outputs": [
    {
     "output_type": "execute_result",
     "data": {
      "text/plain": "state            no                                                     \\\ncountry Afghanistan Albania Algeria Andorra Angola Antigua and Barbuda   \n1/22/20           0       0       0       0      0                   0   \n1/23/20           0       0       0       0      0                   0   \n1/24/20           0       0       0       0      0                   0   \n1/25/20           0       0       0       0      0                   0   \n1/26/20           0       0       0       0      0                   0   \n\nstate                     Australian Capital Territory New South Wales  ...  \\\ncountry Argentina Armenia                    Australia       Australia  ...   \n1/22/20         0       0                            0               0  ...   \n1/23/20         0       0                            0               0  ...   \n1/24/20         0       0                            0               0  ...   \n1/25/20         0       0                            0               0  ...   \n1/26/20         0       0                            0               3  ...   \n\nstate               no                                       \\\ncountry United Kingdom Uruguay Uzbekistan Venezuela Vietnam   \n1/22/20              0       0          0         0       0   \n1/23/20              0       0          0         0       2   \n1/24/20              0       0          0         0       2   \n1/25/20              0       0          0         0       2   \n1/26/20              0       0          0         0       2   \n\nstate                                                            \ncountry West Bank and Gaza Western Sahara Yemen Zambia Zimbabwe  \n1/22/20                  0              0     0      0        0  \n1/23/20                  0              0     0      0        0  \n1/24/20                  0              0     0      0        0  \n1/25/20                  0              0     0      0        0  \n1/26/20                  0              0     0      0        0  \n\n[5 rows x 266 columns]",
      "text/html": "<div>\n<style scoped>\n    .dataframe tbody tr th:only-of-type {\n        vertical-align: middle;\n    }\n\n    .dataframe tbody tr th {\n        vertical-align: top;\n    }\n\n    .dataframe thead tr th {\n        text-align: left;\n    }\n</style>\n<table border=\"1\" class=\"dataframe\">\n  <thead>\n    <tr>\n      <th>state</th>\n      <th colspan=\"8\" halign=\"left\">no</th>\n      <th>Australian Capital Territory</th>\n      <th>New South Wales</th>\n      <th>...</th>\n      <th colspan=\"10\" halign=\"left\">no</th>\n    </tr>\n    <tr>\n      <th>country</th>\n      <th>Afghanistan</th>\n      <th>Albania</th>\n      <th>Algeria</th>\n      <th>Andorra</th>\n      <th>Angola</th>\n      <th>Antigua and Barbuda</th>\n      <th>Argentina</th>\n      <th>Armenia</th>\n      <th>Australia</th>\n      <th>Australia</th>\n      <th>...</th>\n      <th>United Kingdom</th>\n      <th>Uruguay</th>\n      <th>Uzbekistan</th>\n      <th>Venezuela</th>\n      <th>Vietnam</th>\n      <th>West Bank and Gaza</th>\n      <th>Western Sahara</th>\n      <th>Yemen</th>\n      <th>Zambia</th>\n      <th>Zimbabwe</th>\n    </tr>\n  </thead>\n  <tbody>\n    <tr>\n      <th>1/22/20</th>\n      <td>0</td>\n      <td>0</td>\n      <td>0</td>\n      <td>0</td>\n      <td>0</td>\n      <td>0</td>\n      <td>0</td>\n      <td>0</td>\n      <td>0</td>\n      <td>0</td>\n      <td>...</td>\n      <td>0</td>\n      <td>0</td>\n      <td>0</td>\n      <td>0</td>\n      <td>0</td>\n      <td>0</td>\n      <td>0</td>\n      <td>0</td>\n      <td>0</td>\n      <td>0</td>\n    </tr>\n    <tr>\n      <th>1/23/20</th>\n      <td>0</td>\n      <td>0</td>\n      <td>0</td>\n      <td>0</td>\n      <td>0</td>\n      <td>0</td>\n      <td>0</td>\n      <td>0</td>\n      <td>0</td>\n      <td>0</td>\n      <td>...</td>\n      <td>0</td>\n      <td>0</td>\n      <td>0</td>\n      <td>0</td>\n      <td>2</td>\n      <td>0</td>\n      <td>0</td>\n      <td>0</td>\n      <td>0</td>\n      <td>0</td>\n    </tr>\n    <tr>\n      <th>1/24/20</th>\n      <td>0</td>\n      <td>0</td>\n      <td>0</td>\n      <td>0</td>\n      <td>0</td>\n      <td>0</td>\n      <td>0</td>\n      <td>0</td>\n      <td>0</td>\n      <td>0</td>\n      <td>...</td>\n      <td>0</td>\n      <td>0</td>\n      <td>0</td>\n      <td>0</td>\n      <td>2</td>\n      <td>0</td>\n      <td>0</td>\n      <td>0</td>\n      <td>0</td>\n      <td>0</td>\n    </tr>\n    <tr>\n      <th>1/25/20</th>\n      <td>0</td>\n      <td>0</td>\n      <td>0</td>\n      <td>0</td>\n      <td>0</td>\n      <td>0</td>\n      <td>0</td>\n      <td>0</td>\n      <td>0</td>\n      <td>0</td>\n      <td>...</td>\n      <td>0</td>\n      <td>0</td>\n      <td>0</td>\n      <td>0</td>\n      <td>2</td>\n      <td>0</td>\n      <td>0</td>\n      <td>0</td>\n      <td>0</td>\n      <td>0</td>\n    </tr>\n    <tr>\n      <th>1/26/20</th>\n      <td>0</td>\n      <td>0</td>\n      <td>0</td>\n      <td>0</td>\n      <td>0</td>\n      <td>0</td>\n      <td>0</td>\n      <td>0</td>\n      <td>0</td>\n      <td>3</td>\n      <td>...</td>\n      <td>0</td>\n      <td>0</td>\n      <td>0</td>\n      <td>0</td>\n      <td>2</td>\n      <td>0</td>\n      <td>0</td>\n      <td>0</td>\n      <td>0</td>\n      <td>0</td>\n    </tr>\n  </tbody>\n</table>\n<p>5 rows × 266 columns</p>\n</div>"
     },
     "metadata": {},
     "execution_count": 20
    }
   ],
   "source": [
    "pd_relational_model=pd_relational_model.T\n",
    "pd_relational_model.head()"
   ]
  },
  {
   "cell_type": "code",
   "execution_count": 21,
   "metadata": {},
   "outputs": [],
   "source": [
    "pd_relational_model=pd_relational_model.stack(level=[0,1]).reset_index()\n"
   ]
  },
  {
   "cell_type": "code",
   "execution_count": 22,
   "metadata": {},
   "outputs": [
    {
     "output_type": "execute_result",
     "data": {
      "text/plain": "      date                         state         country  confirmed\n0  1/22/20                       Alberta          Canada        0.0\n1  1/22/20                      Anguilla  United Kingdom        0.0\n2  1/22/20                         Anhui           China        1.0\n3  1/22/20                         Aruba     Netherlands        0.0\n4  1/22/20  Australian Capital Territory       Australia        0.0",
      "text/html": "<div>\n<style scoped>\n    .dataframe tbody tr th:only-of-type {\n        vertical-align: middle;\n    }\n\n    .dataframe tbody tr th {\n        vertical-align: top;\n    }\n\n    .dataframe thead th {\n        text-align: right;\n    }\n</style>\n<table border=\"1\" class=\"dataframe\">\n  <thead>\n    <tr style=\"text-align: right;\">\n      <th></th>\n      <th>date</th>\n      <th>state</th>\n      <th>country</th>\n      <th>confirmed</th>\n    </tr>\n  </thead>\n  <tbody>\n    <tr>\n      <th>0</th>\n      <td>1/22/20</td>\n      <td>Alberta</td>\n      <td>Canada</td>\n      <td>0.0</td>\n    </tr>\n    <tr>\n      <th>1</th>\n      <td>1/22/20</td>\n      <td>Anguilla</td>\n      <td>United Kingdom</td>\n      <td>0.0</td>\n    </tr>\n    <tr>\n      <th>2</th>\n      <td>1/22/20</td>\n      <td>Anhui</td>\n      <td>China</td>\n      <td>1.0</td>\n    </tr>\n    <tr>\n      <th>3</th>\n      <td>1/22/20</td>\n      <td>Aruba</td>\n      <td>Netherlands</td>\n      <td>0.0</td>\n    </tr>\n    <tr>\n      <th>4</th>\n      <td>1/22/20</td>\n      <td>Australian Capital Territory</td>\n      <td>Australia</td>\n      <td>0.0</td>\n    </tr>\n  </tbody>\n</table>\n</div>"
     },
     "metadata": {},
     "execution_count": 22
    }
   ],
   "source": [
    "pd_relational_model = pd_relational_model.rename(columns={'level_0':'date',0:'confirmed'})\n",
    "pd_relational_model.head()"
   ]
  },
  {
   "cell_type": "code",
   "execution_count": 23,
   "metadata": {},
   "outputs": [
    {
     "output_type": "execute_result",
     "data": {
      "text/plain": "str"
     },
     "metadata": {},
     "execution_count": 23
    }
   ],
   "source": [
    "type(pd_relational_model['date'][0])"
   ]
  },
  {
   "cell_type": "code",
   "execution_count": 24,
   "metadata": {},
   "outputs": [
    {
     "output_type": "execute_result",
     "data": {
      "text/plain": "date         datetime64[ns]\nstate                object\ncountry              object\nconfirmed             int32\ndtype: object"
     },
     "metadata": {},
     "execution_count": 24
    }
   ],
   "source": [
    "pd_relational_model['date']=pd_relational_model.date.astype('datetime64[ns]')\n",
    "pd_relational_model.confirmed=pd_relational_model.confirmed.astype(int)\n",
    "\n",
    "pd_relational_model.dtypes"
   ]
  },
  {
   "cell_type": "code",
   "execution_count": 25,
   "metadata": {},
   "outputs": [
    {
     "output_type": "execute_result",
     "data": {
      "text/plain": "        date                         state         country  confirmed\n0 2020-01-22                       Alberta          Canada          0\n1 2020-01-22                      Anguilla  United Kingdom          0\n2 2020-01-22                         Anhui           China          1\n3 2020-01-22                         Aruba     Netherlands          0\n4 2020-01-22  Australian Capital Territory       Australia          0",
      "text/html": "<div>\n<style scoped>\n    .dataframe tbody tr th:only-of-type {\n        vertical-align: middle;\n    }\n\n    .dataframe tbody tr th {\n        vertical-align: top;\n    }\n\n    .dataframe thead th {\n        text-align: right;\n    }\n</style>\n<table border=\"1\" class=\"dataframe\">\n  <thead>\n    <tr style=\"text-align: right;\">\n      <th></th>\n      <th>date</th>\n      <th>state</th>\n      <th>country</th>\n      <th>confirmed</th>\n    </tr>\n  </thead>\n  <tbody>\n    <tr>\n      <th>0</th>\n      <td>2020-01-22</td>\n      <td>Alberta</td>\n      <td>Canada</td>\n      <td>0</td>\n    </tr>\n    <tr>\n      <th>1</th>\n      <td>2020-01-22</td>\n      <td>Anguilla</td>\n      <td>United Kingdom</td>\n      <td>0</td>\n    </tr>\n    <tr>\n      <th>2</th>\n      <td>2020-01-22</td>\n      <td>Anhui</td>\n      <td>China</td>\n      <td>1</td>\n    </tr>\n    <tr>\n      <th>3</th>\n      <td>2020-01-22</td>\n      <td>Aruba</td>\n      <td>Netherlands</td>\n      <td>0</td>\n    </tr>\n    <tr>\n      <th>4</th>\n      <td>2020-01-22</td>\n      <td>Australian Capital Territory</td>\n      <td>Australia</td>\n      <td>0</td>\n    </tr>\n  </tbody>\n</table>\n</div>"
     },
     "metadata": {},
     "execution_count": 25
    }
   ],
   "source": [
    "pd_relational_model.head()"
   ]
  },
  {
   "cell_type": "code",
   "execution_count": 26,
   "metadata": {},
   "outputs": [],
   "source": [
    "pd_relational_model.to_csv('../data/processed/COVID_relational_confirmed.csv',sep=';',index=False)"
   ]
  },
  {
   "cell_type": "code",
   "execution_count": 27,
   "metadata": {},
   "outputs": [
    {
     "output_type": "execute_result",
     "data": {
      "text/plain": "        date    state       country  confirmed\n0 2020-01-22  Alberta        Canada          0\n1 2020-01-22       no  Korea, South          1\n2 2020-01-22       no        Kosovo          0\n3 2020-01-22       no        Kuwait          0\n4 2020-01-22       no    Kyrgyzstan          0",
      "text/html": "<div>\n<style scoped>\n    .dataframe tbody tr th:only-of-type {\n        vertical-align: middle;\n    }\n\n    .dataframe tbody tr th {\n        vertical-align: top;\n    }\n\n    .dataframe thead th {\n        text-align: right;\n    }\n</style>\n<table border=\"1\" class=\"dataframe\">\n  <thead>\n    <tr style=\"text-align: right;\">\n      <th></th>\n      <th>date</th>\n      <th>state</th>\n      <th>country</th>\n      <th>confirmed</th>\n    </tr>\n  </thead>\n  <tbody>\n    <tr>\n      <th>0</th>\n      <td>2020-01-22</td>\n      <td>Alberta</td>\n      <td>Canada</td>\n      <td>0</td>\n    </tr>\n    <tr>\n      <th>1</th>\n      <td>2020-01-22</td>\n      <td>no</td>\n      <td>Korea, South</td>\n      <td>1</td>\n    </tr>\n    <tr>\n      <th>2</th>\n      <td>2020-01-22</td>\n      <td>no</td>\n      <td>Kosovo</td>\n      <td>0</td>\n    </tr>\n    <tr>\n      <th>3</th>\n      <td>2020-01-22</td>\n      <td>no</td>\n      <td>Kuwait</td>\n      <td>0</td>\n    </tr>\n    <tr>\n      <th>4</th>\n      <td>2020-01-22</td>\n      <td>no</td>\n      <td>Kyrgyzstan</td>\n      <td>0</td>\n    </tr>\n  </tbody>\n</table>\n</div>"
     },
     "metadata": {},
     "execution_count": 27
    }
   ],
   "source": [
    "pd_JH_data=pd.read_csv('../data/processed/COVID_relational_confirmed.csv',sep=';',parse_dates=[0])\n",
    "pd_JH_data=pd_JH_data.sort_values('date',ascending=True).reset_index(drop=True).copy()\n",
    "pd_JH_data.head()"
   ]
  },
  {
   "cell_type": "code",
   "execution_count": 28,
   "metadata": {},
   "outputs": [],
   "source": [
    "test_data=pd_JH_data[((pd_JH_data['country']=='India')|\n",
    "                      (pd_JH_data['country']=='Germany'))&\n",
    "                     (pd_JH_data['date']>'2020-03-20')]"
   ]
  },
  {
   "cell_type": "code",
   "execution_count": 29,
   "metadata": {},
   "outputs": [
    {
     "output_type": "execute_result",
     "data": {
      "text/plain": "            date state  country  confirmed\n62032 2020-09-11    no    India    4659984\n62287 2020-09-12    no  Germany     260817\n62299 2020-09-12    no    India    4754356\n62552 2020-09-13    no  Germany     261737\n62565 2020-09-13    no    India    4846427",
      "text/html": "<div>\n<style scoped>\n    .dataframe tbody tr th:only-of-type {\n        vertical-align: middle;\n    }\n\n    .dataframe tbody tr th {\n        vertical-align: top;\n    }\n\n    .dataframe thead th {\n        text-align: right;\n    }\n</style>\n<table border=\"1\" class=\"dataframe\">\n  <thead>\n    <tr style=\"text-align: right;\">\n      <th></th>\n      <th>date</th>\n      <th>state</th>\n      <th>country</th>\n      <th>confirmed</th>\n    </tr>\n  </thead>\n  <tbody>\n    <tr>\n      <th>62032</th>\n      <td>2020-09-11</td>\n      <td>no</td>\n      <td>India</td>\n      <td>4659984</td>\n    </tr>\n    <tr>\n      <th>62287</th>\n      <td>2020-09-12</td>\n      <td>no</td>\n      <td>Germany</td>\n      <td>260817</td>\n    </tr>\n    <tr>\n      <th>62299</th>\n      <td>2020-09-12</td>\n      <td>no</td>\n      <td>India</td>\n      <td>4754356</td>\n    </tr>\n    <tr>\n      <th>62552</th>\n      <td>2020-09-13</td>\n      <td>no</td>\n      <td>Germany</td>\n      <td>261737</td>\n    </tr>\n    <tr>\n      <th>62565</th>\n      <td>2020-09-13</td>\n      <td>no</td>\n      <td>India</td>\n      <td>4846427</td>\n    </tr>\n  </tbody>\n</table>\n</div>"
     },
     "metadata": {},
     "execution_count": 29
    }
   ],
   "source": [
    "test_data.tail()"
   ]
  },
  {
   "cell_type": "code",
   "execution_count": 30,
   "metadata": {
    "tags": []
   },
   "outputs": [
    {
     "output_type": "execute_result",
     "data": {
      "text/plain": "              date state  confirmed\ncountry                            \nGermany 2020-09-13    no     261737\nIndia   2020-09-13    no    4846427",
      "text/html": "<div>\n<style scoped>\n    .dataframe tbody tr th:only-of-type {\n        vertical-align: middle;\n    }\n\n    .dataframe tbody tr th {\n        vertical-align: top;\n    }\n\n    .dataframe thead th {\n        text-align: right;\n    }\n</style>\n<table border=\"1\" class=\"dataframe\">\n  <thead>\n    <tr style=\"text-align: right;\">\n      <th></th>\n      <th>date</th>\n      <th>state</th>\n      <th>confirmed</th>\n    </tr>\n    <tr>\n      <th>country</th>\n      <th></th>\n      <th></th>\n      <th></th>\n    </tr>\n  </thead>\n  <tbody>\n    <tr>\n      <th>Germany</th>\n      <td>2020-09-13</td>\n      <td>no</td>\n      <td>261737</td>\n    </tr>\n    <tr>\n      <th>India</th>\n      <td>2020-09-13</td>\n      <td>no</td>\n      <td>4846427</td>\n    </tr>\n  </tbody>\n</table>\n</div>"
     },
     "metadata": {},
     "execution_count": 30
    }
   ],
   "source": [
    "test_data.groupby(['country']).agg(np.max)"
   ]
  },
  {
   "cell_type": "code",
   "execution_count": 31,
   "metadata": {},
   "outputs": [
    {
     "output_type": "execute_result",
     "data": {
      "text/plain": "                    date  confirmed\nstate country                      \nno    Germany 2020-09-13     261737\n      India   2020-09-13    4846427",
      "text/html": "<div>\n<style scoped>\n    .dataframe tbody tr th:only-of-type {\n        vertical-align: middle;\n    }\n\n    .dataframe tbody tr th {\n        vertical-align: top;\n    }\n\n    .dataframe thead th {\n        text-align: right;\n    }\n</style>\n<table border=\"1\" class=\"dataframe\">\n  <thead>\n    <tr style=\"text-align: right;\">\n      <th></th>\n      <th></th>\n      <th>date</th>\n      <th>confirmed</th>\n    </tr>\n    <tr>\n      <th>state</th>\n      <th>country</th>\n      <th></th>\n      <th></th>\n    </tr>\n  </thead>\n  <tbody>\n    <tr>\n      <th rowspan=\"2\" valign=\"top\">no</th>\n      <th>Germany</th>\n      <td>2020-09-13</td>\n      <td>261737</td>\n    </tr>\n    <tr>\n      <th>India</th>\n      <td>2020-09-13</td>\n      <td>4846427</td>\n    </tr>\n  </tbody>\n</table>\n</div>"
     },
     "metadata": {},
     "execution_count": 31
    }
   ],
   "source": [
    "test_data.groupby(['state', 'country']).agg(np.max)"
   ]
  },
  {
   "cell_type": "code",
   "execution_count": 32,
   "metadata": {
    "tags": []
   },
   "outputs": [
    {
     "output_type": "stream",
     "name": "stdout",
     "text": "the test slope is: [2.]\n"
    }
   ],
   "source": [
    "# %load ../src/features/build_features.py\n",
    "import numpy as np\n",
    "from sklearn import linear_model\n",
    "reg = linear_model.LinearRegression(fit_intercept=True)\n",
    "import pandas as pd\n",
    "\n",
    "from scipy import signal\n",
    "\n",
    "\n",
    "def get_doubling_time_via_regression(in_array):\n",
    "    ''' Use a linear regression to approximate the doubling rate\n",
    "\n",
    "        Parameters:\n",
    "        ----------\n",
    "        in_array : pandas.series\n",
    "\n",
    "        Returns:\n",
    "        ----------\n",
    "        Doubling rate: double\n",
    "    '''\n",
    "\n",
    "    y = np.array(in_array)\n",
    "    \n",
    "    X = np.arange(-1,2).reshape(-1, 1)\n",
    "    \n",
    "\n",
    "    assert len(in_array)==3\n",
    "    reg.fit(X,y)\n",
    "    intercept=reg.intercept_\n",
    "    slope=reg.coef_\n",
    "\n",
    "    \n",
    "\n",
    "    return intercept/slope\n",
    "\n",
    "\n",
    "if __name__ == '__main__':\n",
    "    test_data_reg=np.array([2,4,6])\n",
    "    result=get_doubling_time_via_regression(test_data_reg)\n",
    "    print('the test slope is: '+str(result))"
   ]
  },
  {
   "cell_type": "code",
   "execution_count": 33,
   "metadata": {},
   "outputs": [],
   "source": [
    "def rolling_reg(df_input,col='confirmed'):\n",
    "    ''' input has to be a data frame'''\n",
    "    ''' return is single series (mandatory for group by apply)'''\n",
    "    days_back=3\n",
    "    result=df_input[col].rolling(\n",
    "                window=days_back,\n",
    "                min_periods=days_back).apply(get_doubling_time_via_regression,raw=False)\n",
    "    return result"
   ]
  },
  {
   "cell_type": "code",
   "execution_count": 34,
   "metadata": {},
   "outputs": [
    {
     "output_type": "execute_result",
     "data": {
      "text/plain": "      state  country  confirmed\n62032    no    India    4659984\n62287    no  Germany     260817\n62299    no    India    4754356\n62552    no  Germany     261737\n62565    no    India    4846427",
      "text/html": "<div>\n<style scoped>\n    .dataframe tbody tr th:only-of-type {\n        vertical-align: middle;\n    }\n\n    .dataframe tbody tr th {\n        vertical-align: top;\n    }\n\n    .dataframe thead th {\n        text-align: right;\n    }\n</style>\n<table border=\"1\" class=\"dataframe\">\n  <thead>\n    <tr style=\"text-align: right;\">\n      <th></th>\n      <th>state</th>\n      <th>country</th>\n      <th>confirmed</th>\n    </tr>\n  </thead>\n  <tbody>\n    <tr>\n      <th>62032</th>\n      <td>no</td>\n      <td>India</td>\n      <td>4659984</td>\n    </tr>\n    <tr>\n      <th>62287</th>\n      <td>no</td>\n      <td>Germany</td>\n      <td>260817</td>\n    </tr>\n    <tr>\n      <th>62299</th>\n      <td>no</td>\n      <td>India</td>\n      <td>4754356</td>\n    </tr>\n    <tr>\n      <th>62552</th>\n      <td>no</td>\n      <td>Germany</td>\n      <td>261737</td>\n    </tr>\n    <tr>\n      <th>62565</th>\n      <td>no</td>\n      <td>India</td>\n      <td>4846427</td>\n    </tr>\n  </tbody>\n</table>\n</div>"
     },
     "metadata": {},
     "execution_count": 34
    }
   ],
   "source": [
    "test_data[['state','country', 'confirmed']].tail()"
   ]
  },
  {
   "cell_type": "code",
   "execution_count": null,
   "metadata": {},
   "outputs": [],
   "source": []
  },
  {
   "cell_type": "code",
   "execution_count": null,
   "metadata": {},
   "outputs": [],
   "source": []
  },
  {
   "cell_type": "code",
   "execution_count": 36,
   "metadata": {
    "tags": []
   },
   "outputs": [],
   "source": [
    "pd_DR_result=pd_JH_data[['state','country','confirmed']].groupby(['state','country']).apply(rolling_reg,'confirmed')"
   ]
  },
  {
   "cell_type": "code",
   "execution_count": 37,
   "metadata": {},
   "outputs": [],
   "source": [
    "pd_DR_result = pd_DR_result.reset_index()"
   ]
  },
  {
   "cell_type": "code",
   "execution_count": 38,
   "metadata": {},
   "outputs": [
    {
     "output_type": "execute_result",
     "data": {
      "text/plain": "         state   country  level_2   confirmed\n0      Alberta    Canada        0         NaN\n1      Alberta    Canada      465         NaN\n2      Alberta    Canada      701         NaN\n3      Alberta    Canada      966         NaN\n4      Alberta    Canada     1263         NaN\n...        ...       ...      ...         ...\n62771       no  Zimbabwe    61540  112.544529\n62772       no  Zimbabwe    61776  228.410256\n62773       no  Zimbabwe    62072  298.146667\n62774       no  Zimbabwe    62308  272.000000\n62775       no  Zimbabwe    62775  319.333333\n\n[62776 rows x 4 columns]",
      "text/html": "<div>\n<style scoped>\n    .dataframe tbody tr th:only-of-type {\n        vertical-align: middle;\n    }\n\n    .dataframe tbody tr th {\n        vertical-align: top;\n    }\n\n    .dataframe thead th {\n        text-align: right;\n    }\n</style>\n<table border=\"1\" class=\"dataframe\">\n  <thead>\n    <tr style=\"text-align: right;\">\n      <th></th>\n      <th>state</th>\n      <th>country</th>\n      <th>level_2</th>\n      <th>confirmed</th>\n    </tr>\n  </thead>\n  <tbody>\n    <tr>\n      <th>0</th>\n      <td>Alberta</td>\n      <td>Canada</td>\n      <td>0</td>\n      <td>NaN</td>\n    </tr>\n    <tr>\n      <th>1</th>\n      <td>Alberta</td>\n      <td>Canada</td>\n      <td>465</td>\n      <td>NaN</td>\n    </tr>\n    <tr>\n      <th>2</th>\n      <td>Alberta</td>\n      <td>Canada</td>\n      <td>701</td>\n      <td>NaN</td>\n    </tr>\n    <tr>\n      <th>3</th>\n      <td>Alberta</td>\n      <td>Canada</td>\n      <td>966</td>\n      <td>NaN</td>\n    </tr>\n    <tr>\n      <th>4</th>\n      <td>Alberta</td>\n      <td>Canada</td>\n      <td>1263</td>\n      <td>NaN</td>\n    </tr>\n    <tr>\n      <th>...</th>\n      <td>...</td>\n      <td>...</td>\n      <td>...</td>\n      <td>...</td>\n    </tr>\n    <tr>\n      <th>62771</th>\n      <td>no</td>\n      <td>Zimbabwe</td>\n      <td>61540</td>\n      <td>112.544529</td>\n    </tr>\n    <tr>\n      <th>62772</th>\n      <td>no</td>\n      <td>Zimbabwe</td>\n      <td>61776</td>\n      <td>228.410256</td>\n    </tr>\n    <tr>\n      <th>62773</th>\n      <td>no</td>\n      <td>Zimbabwe</td>\n      <td>62072</td>\n      <td>298.146667</td>\n    </tr>\n    <tr>\n      <th>62774</th>\n      <td>no</td>\n      <td>Zimbabwe</td>\n      <td>62308</td>\n      <td>272.000000</td>\n    </tr>\n    <tr>\n      <th>62775</th>\n      <td>no</td>\n      <td>Zimbabwe</td>\n      <td>62775</td>\n      <td>319.333333</td>\n    </tr>\n  </tbody>\n</table>\n<p>62776 rows × 4 columns</p>\n</div>"
     },
     "metadata": {},
     "execution_count": 38
    }
   ],
   "source": [
    "pd_DR_result"
   ]
  },
  {
   "cell_type": "code",
   "execution_count": 39,
   "metadata": {},
   "outputs": [
    {
     "output_type": "execute_result",
     "data": {
      "text/plain": "      state   country  index  confirmed_DR\n62771    no  Zimbabwe  61540    112.544529\n62772    no  Zimbabwe  61776    228.410256\n62773    no  Zimbabwe  62072    298.146667\n62774    no  Zimbabwe  62308    272.000000\n62775    no  Zimbabwe  62775    319.333333",
      "text/html": "<div>\n<style scoped>\n    .dataframe tbody tr th:only-of-type {\n        vertical-align: middle;\n    }\n\n    .dataframe tbody tr th {\n        vertical-align: top;\n    }\n\n    .dataframe thead th {\n        text-align: right;\n    }\n</style>\n<table border=\"1\" class=\"dataframe\">\n  <thead>\n    <tr style=\"text-align: right;\">\n      <th></th>\n      <th>state</th>\n      <th>country</th>\n      <th>index</th>\n      <th>confirmed_DR</th>\n    </tr>\n  </thead>\n  <tbody>\n    <tr>\n      <th>62771</th>\n      <td>no</td>\n      <td>Zimbabwe</td>\n      <td>61540</td>\n      <td>112.544529</td>\n    </tr>\n    <tr>\n      <th>62772</th>\n      <td>no</td>\n      <td>Zimbabwe</td>\n      <td>61776</td>\n      <td>228.410256</td>\n    </tr>\n    <tr>\n      <th>62773</th>\n      <td>no</td>\n      <td>Zimbabwe</td>\n      <td>62072</td>\n      <td>298.146667</td>\n    </tr>\n    <tr>\n      <th>62774</th>\n      <td>no</td>\n      <td>Zimbabwe</td>\n      <td>62308</td>\n      <td>272.000000</td>\n    </tr>\n    <tr>\n      <th>62775</th>\n      <td>no</td>\n      <td>Zimbabwe</td>\n      <td>62775</td>\n      <td>319.333333</td>\n    </tr>\n  </tbody>\n</table>\n</div>"
     },
     "metadata": {},
     "execution_count": 39
    }
   ],
   "source": [
    "pd_DR_result=pd_DR_result.rename(columns={'confirmed':'confirmed_DR',\n",
    "                             'level_2':'index'})\n",
    "pd_DR_result.tail()"
   ]
  },
  {
   "cell_type": "code",
   "execution_count": 40,
   "metadata": {},
   "outputs": [
    {
     "output_type": "execute_result",
     "data": {
      "text/plain": "   index       date    state       country  confirmed\n0      0 2020-01-22  Alberta        Canada          0\n1      1 2020-01-22       no  Korea, South          1\n2      2 2020-01-22       no        Kosovo          0\n3      3 2020-01-22       no        Kuwait          0\n4      4 2020-01-22       no    Kyrgyzstan          0",
      "text/html": "<div>\n<style scoped>\n    .dataframe tbody tr th:only-of-type {\n        vertical-align: middle;\n    }\n\n    .dataframe tbody tr th {\n        vertical-align: top;\n    }\n\n    .dataframe thead th {\n        text-align: right;\n    }\n</style>\n<table border=\"1\" class=\"dataframe\">\n  <thead>\n    <tr style=\"text-align: right;\">\n      <th></th>\n      <th>index</th>\n      <th>date</th>\n      <th>state</th>\n      <th>country</th>\n      <th>confirmed</th>\n    </tr>\n  </thead>\n  <tbody>\n    <tr>\n      <th>0</th>\n      <td>0</td>\n      <td>2020-01-22</td>\n      <td>Alberta</td>\n      <td>Canada</td>\n      <td>0</td>\n    </tr>\n    <tr>\n      <th>1</th>\n      <td>1</td>\n      <td>2020-01-22</td>\n      <td>no</td>\n      <td>Korea, South</td>\n      <td>1</td>\n    </tr>\n    <tr>\n      <th>2</th>\n      <td>2</td>\n      <td>2020-01-22</td>\n      <td>no</td>\n      <td>Kosovo</td>\n      <td>0</td>\n    </tr>\n    <tr>\n      <th>3</th>\n      <td>3</td>\n      <td>2020-01-22</td>\n      <td>no</td>\n      <td>Kuwait</td>\n      <td>0</td>\n    </tr>\n    <tr>\n      <th>4</th>\n      <td>4</td>\n      <td>2020-01-22</td>\n      <td>no</td>\n      <td>Kyrgyzstan</td>\n      <td>0</td>\n    </tr>\n  </tbody>\n</table>\n</div>"
     },
     "metadata": {},
     "execution_count": 40
    }
   ],
   "source": [
    "pd_JH_data=pd_JH_data.reset_index()\n",
    "pd_JH_data.head()"
   ]
  },
  {
   "cell_type": "code",
   "execution_count": 41,
   "metadata": {},
   "outputs": [
    {
     "output_type": "execute_result",
     "data": {
      "text/plain": "       index       date state   country  confirmed  confirmed_DR\n62771  62771 2020-09-13    no  Barbados        181    360.666667\n62772  62772 2020-09-13    no   Belarus      74173    380.346187\n62773  62773 2020-09-13    no   Belgium      93455     96.444213\n62774  62774 2020-09-13    no   Albania      11353     67.387550\n62775  62775 2020-09-13    no  Zimbabwe       7526    319.333333",
      "text/html": "<div>\n<style scoped>\n    .dataframe tbody tr th:only-of-type {\n        vertical-align: middle;\n    }\n\n    .dataframe tbody tr th {\n        vertical-align: top;\n    }\n\n    .dataframe thead th {\n        text-align: right;\n    }\n</style>\n<table border=\"1\" class=\"dataframe\">\n  <thead>\n    <tr style=\"text-align: right;\">\n      <th></th>\n      <th>index</th>\n      <th>date</th>\n      <th>state</th>\n      <th>country</th>\n      <th>confirmed</th>\n      <th>confirmed_DR</th>\n    </tr>\n  </thead>\n  <tbody>\n    <tr>\n      <th>62771</th>\n      <td>62771</td>\n      <td>2020-09-13</td>\n      <td>no</td>\n      <td>Barbados</td>\n      <td>181</td>\n      <td>360.666667</td>\n    </tr>\n    <tr>\n      <th>62772</th>\n      <td>62772</td>\n      <td>2020-09-13</td>\n      <td>no</td>\n      <td>Belarus</td>\n      <td>74173</td>\n      <td>380.346187</td>\n    </tr>\n    <tr>\n      <th>62773</th>\n      <td>62773</td>\n      <td>2020-09-13</td>\n      <td>no</td>\n      <td>Belgium</td>\n      <td>93455</td>\n      <td>96.444213</td>\n    </tr>\n    <tr>\n      <th>62774</th>\n      <td>62774</td>\n      <td>2020-09-13</td>\n      <td>no</td>\n      <td>Albania</td>\n      <td>11353</td>\n      <td>67.387550</td>\n    </tr>\n    <tr>\n      <th>62775</th>\n      <td>62775</td>\n      <td>2020-09-13</td>\n      <td>no</td>\n      <td>Zimbabwe</td>\n      <td>7526</td>\n      <td>319.333333</td>\n    </tr>\n  </tbody>\n</table>\n</div>"
     },
     "metadata": {},
     "execution_count": 41
    }
   ],
   "source": [
    "pd_result_larg=pd.merge(pd_JH_data,pd_DR_result[['index','confirmed_DR']],on=['index'],how='left')\n",
    "pd_result_larg.tail()"
   ]
  },
  {
   "cell_type": "code",
   "execution_count": 42,
   "metadata": {},
   "outputs": [
    {
     "output_type": "execute_result",
     "data": {
      "text/plain": "      index       date state  country  confirmed  confirmed_DR\n43       43 2020-01-22    no  Germany          0           NaN\n308     308 2020-01-23    no  Germany          0           NaN\n575     575 2020-01-24    no  Germany          0           NaN\n841     841 2020-01-25    no  Germany          0           NaN\n1107   1107 2020-01-26    no  Germany          0           NaN",
      "text/html": "<div>\n<style scoped>\n    .dataframe tbody tr th:only-of-type {\n        vertical-align: middle;\n    }\n\n    .dataframe tbody tr th {\n        vertical-align: top;\n    }\n\n    .dataframe thead th {\n        text-align: right;\n    }\n</style>\n<table border=\"1\" class=\"dataframe\">\n  <thead>\n    <tr style=\"text-align: right;\">\n      <th></th>\n      <th>index</th>\n      <th>date</th>\n      <th>state</th>\n      <th>country</th>\n      <th>confirmed</th>\n      <th>confirmed_DR</th>\n    </tr>\n  </thead>\n  <tbody>\n    <tr>\n      <th>43</th>\n      <td>43</td>\n      <td>2020-01-22</td>\n      <td>no</td>\n      <td>Germany</td>\n      <td>0</td>\n      <td>NaN</td>\n    </tr>\n    <tr>\n      <th>308</th>\n      <td>308</td>\n      <td>2020-01-23</td>\n      <td>no</td>\n      <td>Germany</td>\n      <td>0</td>\n      <td>NaN</td>\n    </tr>\n    <tr>\n      <th>575</th>\n      <td>575</td>\n      <td>2020-01-24</td>\n      <td>no</td>\n      <td>Germany</td>\n      <td>0</td>\n      <td>NaN</td>\n    </tr>\n    <tr>\n      <th>841</th>\n      <td>841</td>\n      <td>2020-01-25</td>\n      <td>no</td>\n      <td>Germany</td>\n      <td>0</td>\n      <td>NaN</td>\n    </tr>\n    <tr>\n      <th>1107</th>\n      <td>1107</td>\n      <td>2020-01-26</td>\n      <td>no</td>\n      <td>Germany</td>\n      <td>0</td>\n      <td>NaN</td>\n    </tr>\n  </tbody>\n</table>\n</div>"
     },
     "metadata": {},
     "execution_count": 42
    }
   ],
   "source": [
    "pd_result_larg[pd_result_larg['country']=='Germany'].head()"
   ]
  },
  {
   "cell_type": "code",
   "execution_count": null,
   "metadata": {},
   "outputs": [],
   "source": []
  },
  {
   "cell_type": "markdown",
   "metadata": {},
   "source": [
    "## Filtering the data with groupby apply "
   ]
  },
  {
   "cell_type": "code",
   "execution_count": 43,
   "metadata": {},
   "outputs": [],
   "source": [
    "from scipy import signal\n",
    "\n",
    "def savgol_filter(df_input,column='confirmed',window=5):\n",
    "    ''' Savgol Filter which can be used in groupby apply function \n",
    "        it ensures that the data structure is kept'''\n",
    "    window=5, \n",
    "    degree=1\n",
    "    df_result=df_input\n",
    "    \n",
    "    filter_in=df_input[column].fillna(0) # attention with the neutral element here\n",
    "    \n",
    "    result=signal.savgol_filter(np.array(filter_in),\n",
    "                           5, # window size used for filtering\n",
    "                           1)\n",
    "    df_result[column+'_filtered']=result\n",
    "    return df_result"
   ]
  },
  {
   "cell_type": "code",
   "execution_count": 44,
   "metadata": {},
   "outputs": [],
   "source": [
    "pd_filtered_result=pd_JH_data[['state','country','confirmed']].groupby(['state','country']).apply(savgol_filter).reset_index()"
   ]
  },
  {
   "cell_type": "code",
   "execution_count": 45,
   "metadata": {},
   "outputs": [
    {
     "output_type": "execute_result",
     "data": {
      "text/plain": "   index       date    state       country  confirmed  confirmed_DR  \\\n0      0 2020-01-22  Alberta        Canada          0           NaN   \n1      1 2020-01-22       no  Korea, South          1           NaN   \n2      2 2020-01-22       no        Kosovo          0           NaN   \n3      3 2020-01-22       no        Kuwait          0           NaN   \n4      4 2020-01-22       no    Kyrgyzstan          0           NaN   \n\n   confirmed_filtered  \n0                 0.0  \n1                 0.8  \n2                 0.0  \n3                 0.0  \n4                 0.0  ",
      "text/html": "<div>\n<style scoped>\n    .dataframe tbody tr th:only-of-type {\n        vertical-align: middle;\n    }\n\n    .dataframe tbody tr th {\n        vertical-align: top;\n    }\n\n    .dataframe thead th {\n        text-align: right;\n    }\n</style>\n<table border=\"1\" class=\"dataframe\">\n  <thead>\n    <tr style=\"text-align: right;\">\n      <th></th>\n      <th>index</th>\n      <th>date</th>\n      <th>state</th>\n      <th>country</th>\n      <th>confirmed</th>\n      <th>confirmed_DR</th>\n      <th>confirmed_filtered</th>\n    </tr>\n  </thead>\n  <tbody>\n    <tr>\n      <th>0</th>\n      <td>0</td>\n      <td>2020-01-22</td>\n      <td>Alberta</td>\n      <td>Canada</td>\n      <td>0</td>\n      <td>NaN</td>\n      <td>0.0</td>\n    </tr>\n    <tr>\n      <th>1</th>\n      <td>1</td>\n      <td>2020-01-22</td>\n      <td>no</td>\n      <td>Korea, South</td>\n      <td>1</td>\n      <td>NaN</td>\n      <td>0.8</td>\n    </tr>\n    <tr>\n      <th>2</th>\n      <td>2</td>\n      <td>2020-01-22</td>\n      <td>no</td>\n      <td>Kosovo</td>\n      <td>0</td>\n      <td>NaN</td>\n      <td>0.0</td>\n    </tr>\n    <tr>\n      <th>3</th>\n      <td>3</td>\n      <td>2020-01-22</td>\n      <td>no</td>\n      <td>Kuwait</td>\n      <td>0</td>\n      <td>NaN</td>\n      <td>0.0</td>\n    </tr>\n    <tr>\n      <th>4</th>\n      <td>4</td>\n      <td>2020-01-22</td>\n      <td>no</td>\n      <td>Kyrgyzstan</td>\n      <td>0</td>\n      <td>NaN</td>\n      <td>0.0</td>\n    </tr>\n  </tbody>\n</table>\n</div>"
     },
     "metadata": {},
     "execution_count": 45
    }
   ],
   "source": [
    "pd_result_larg=pd.merge(pd_result_larg,pd_filtered_result[['index','confirmed_filtered']],on=['index'],how='left')\n",
    "pd_result_larg.head()"
   ]
  },
  {
   "cell_type": "code",
   "execution_count": 46,
   "metadata": {},
   "outputs": [
    {
     "output_type": "execute_result",
     "data": {
      "text/plain": "      index       date state  country  confirmed  confirmed_DR  \\\n43       43 2020-01-22    no  Germany          0           NaN   \n308     308 2020-01-23    no  Germany          0           NaN   \n575     575 2020-01-24    no  Germany          0           NaN   \n841     841 2020-01-25    no  Germany          0           NaN   \n1107   1107 2020-01-26    no  Germany          0           NaN   \n\n      confirmed_filtered  \n43                   0.0  \n308                  0.0  \n575                  0.0  \n841                  0.2  \n1107                 1.0  ",
      "text/html": "<div>\n<style scoped>\n    .dataframe tbody tr th:only-of-type {\n        vertical-align: middle;\n    }\n\n    .dataframe tbody tr th {\n        vertical-align: top;\n    }\n\n    .dataframe thead th {\n        text-align: right;\n    }\n</style>\n<table border=\"1\" class=\"dataframe\">\n  <thead>\n    <tr style=\"text-align: right;\">\n      <th></th>\n      <th>index</th>\n      <th>date</th>\n      <th>state</th>\n      <th>country</th>\n      <th>confirmed</th>\n      <th>confirmed_DR</th>\n      <th>confirmed_filtered</th>\n    </tr>\n  </thead>\n  <tbody>\n    <tr>\n      <th>43</th>\n      <td>43</td>\n      <td>2020-01-22</td>\n      <td>no</td>\n      <td>Germany</td>\n      <td>0</td>\n      <td>NaN</td>\n      <td>0.0</td>\n    </tr>\n    <tr>\n      <th>308</th>\n      <td>308</td>\n      <td>2020-01-23</td>\n      <td>no</td>\n      <td>Germany</td>\n      <td>0</td>\n      <td>NaN</td>\n      <td>0.0</td>\n    </tr>\n    <tr>\n      <th>575</th>\n      <td>575</td>\n      <td>2020-01-24</td>\n      <td>no</td>\n      <td>Germany</td>\n      <td>0</td>\n      <td>NaN</td>\n      <td>0.0</td>\n    </tr>\n    <tr>\n      <th>841</th>\n      <td>841</td>\n      <td>2020-01-25</td>\n      <td>no</td>\n      <td>Germany</td>\n      <td>0</td>\n      <td>NaN</td>\n      <td>0.2</td>\n    </tr>\n    <tr>\n      <th>1107</th>\n      <td>1107</td>\n      <td>2020-01-26</td>\n      <td>no</td>\n      <td>Germany</td>\n      <td>0</td>\n      <td>NaN</td>\n      <td>1.0</td>\n    </tr>\n  </tbody>\n</table>\n</div>"
     },
     "metadata": {},
     "execution_count": 46
    }
   ],
   "source": [
    "pd_result_larg[pd_result_larg['country']=='Germany'].head()"
   ]
  },
  {
   "cell_type": "code",
   "execution_count": 68,
   "metadata": {},
   "outputs": [
    {
     "output_type": "execute_result",
     "data": {
      "text/plain": "233"
     },
     "metadata": {},
     "execution_count": 68
    }
   ],
   "source": []
  },
  {
   "cell_type": "code",
   "execution_count": 47,
   "metadata": {},
   "outputs": [],
   "source": [
    "import plotly.graph_objects as go\n",
    "def quick_plot(x_in, df_input,y_scale='log',slider=False):\n",
    "    \"\"\" Quick basic plot for quick static evaluation of a time series\n",
    "    \n",
    "        you can push selective columns of your data frame by .iloc[:,[0,6,7,8]]\n",
    "        \n",
    "        Parameters:\n",
    "        ----------\n",
    "        x_in : array \n",
    "            array of date time object, or array of numbers\n",
    "        df_input : pandas dataframe \n",
    "            the plotting matrix where each column is plotted\n",
    "            the name of the column will be used for the legend\n",
    "        scale: str\n",
    "            y-axis scale as 'log' or 'linear'\n",
    "        slider: bool\n",
    "            True or False for x-axis slider\n",
    "    \n",
    "        \n",
    "        Returns:\n",
    "        ----------\n",
    "        \n",
    "    \"\"\"\n",
    "    fig = go.Figure()\n",
    "\n",
    "    for each in df_input.columns:\n",
    "        fig.add_trace(go.Scatter(\n",
    "                        x=x_in,\n",
    "                        y=df_input[each],\n",
    "                        name=each,\n",
    "                        opacity=0.8))\n",
    "    \n",
    "    fig.update_layout(autosize=True,\n",
    "        width=1024,\n",
    "        height=768,\n",
    "        font=dict(\n",
    "            family=\"PT Sans, monospace\",\n",
    "            size=18,\n",
    "            color=\"#7f7f7f\"\n",
    "            )\n",
    "        )\n",
    "    fig.update_yaxes(type=y_scale),\n",
    "    fig.update_xaxes(tickangle=-45,\n",
    "                 nticks=20,\n",
    "                 tickfont=dict(size=14,color=\"#7f7f7f\")\n",
    "                )\n",
    "    if slider==True:\n",
    "        fig.update_layout(xaxis_rangeslider_visible=True)\n",
    "    fig.show()\n",
    "      \n",
    "    "
   ]
  },
  {
   "cell_type": "markdown",
   "metadata": {},
   "source": [
    "## Filtered doubling rate"
   ]
  },
  {
   "cell_type": "code",
   "execution_count": 48,
   "metadata": {
    "tags": []
   },
   "outputs": [],
   "source": [
    "pd_filtered_doubling=pd_result_larg[['state','country','confirmed_filtered']].groupby(['state','country']).apply(rolling_reg,'confirmed_filtered').reset_index()\n",
    "\n",
    "pd_filtered_doubling=pd_filtered_doubling.rename(columns={'confirmed_filtered':'confirmed_filtered_DR',\n",
    "                             'level_2':'index'})\n",
    "\n"
   ]
  },
  {
   "cell_type": "code",
   "execution_count": 49,
   "metadata": {},
   "outputs": [
    {
     "output_type": "execute_result",
     "data": {
      "text/plain": "       index       date state   country  confirmed  confirmed_DR  \\\n62771  62771 2020-09-13    no  Barbados        181    360.666667   \n62772  62772 2020-09-13    no   Belarus      74173    380.346187   \n62773  62773 2020-09-13    no   Belgium      93455     96.444213   \n62774  62774 2020-09-13    no   Albania      11353     67.387550   \n62775  62775 2020-09-13    no  Zimbabwe       7526    319.333333   \n\n       confirmed_filtered  confirmed_filtered_DR  \n62771               180.6             902.000000  \n62772             74170.2             384.099688  \n62773             93433.4              97.997033  \n62774             11349.2              68.927295  \n62775              7528.8             301.361446  ",
      "text/html": "<div>\n<style scoped>\n    .dataframe tbody tr th:only-of-type {\n        vertical-align: middle;\n    }\n\n    .dataframe tbody tr th {\n        vertical-align: top;\n    }\n\n    .dataframe thead th {\n        text-align: right;\n    }\n</style>\n<table border=\"1\" class=\"dataframe\">\n  <thead>\n    <tr style=\"text-align: right;\">\n      <th></th>\n      <th>index</th>\n      <th>date</th>\n      <th>state</th>\n      <th>country</th>\n      <th>confirmed</th>\n      <th>confirmed_DR</th>\n      <th>confirmed_filtered</th>\n      <th>confirmed_filtered_DR</th>\n    </tr>\n  </thead>\n  <tbody>\n    <tr>\n      <th>62771</th>\n      <td>62771</td>\n      <td>2020-09-13</td>\n      <td>no</td>\n      <td>Barbados</td>\n      <td>181</td>\n      <td>360.666667</td>\n      <td>180.6</td>\n      <td>902.000000</td>\n    </tr>\n    <tr>\n      <th>62772</th>\n      <td>62772</td>\n      <td>2020-09-13</td>\n      <td>no</td>\n      <td>Belarus</td>\n      <td>74173</td>\n      <td>380.346187</td>\n      <td>74170.2</td>\n      <td>384.099688</td>\n    </tr>\n    <tr>\n      <th>62773</th>\n      <td>62773</td>\n      <td>2020-09-13</td>\n      <td>no</td>\n      <td>Belgium</td>\n      <td>93455</td>\n      <td>96.444213</td>\n      <td>93433.4</td>\n      <td>97.997033</td>\n    </tr>\n    <tr>\n      <th>62774</th>\n      <td>62774</td>\n      <td>2020-09-13</td>\n      <td>no</td>\n      <td>Albania</td>\n      <td>11353</td>\n      <td>67.387550</td>\n      <td>11349.2</td>\n      <td>68.927295</td>\n    </tr>\n    <tr>\n      <th>62775</th>\n      <td>62775</td>\n      <td>2020-09-13</td>\n      <td>no</td>\n      <td>Zimbabwe</td>\n      <td>7526</td>\n      <td>319.333333</td>\n      <td>7528.8</td>\n      <td>301.361446</td>\n    </tr>\n  </tbody>\n</table>\n</div>"
     },
     "metadata": {},
     "execution_count": 49
    }
   ],
   "source": [
    "pd_result_larg=pd.merge(pd_result_larg,pd_filtered_doubling[['index','confirmed_filtered_DR']],on=['index'],how='left')\n",
    "pd_result_larg.tail()"
   ]
  },
  {
   "cell_type": "code",
   "execution_count": 50,
   "metadata": {},
   "outputs": [
    {
     "output_type": "execute_result",
     "data": {
      "text/plain": "0       2020-01-22\n1       2020-01-22\n2       2020-01-22\n3       2020-01-22\n4       2020-01-22\n           ...    \n62771   2020-09-13\n62772   2020-09-13\n62773   2020-09-13\n62774   2020-09-13\n62775   2020-09-13\nName: date, Length: 62776, dtype: datetime64[ns]"
     },
     "metadata": {},
     "execution_count": 50
    }
   ],
   "source": [
    "pd_result_larg.date"
   ]
  },
  {
   "cell_type": "code",
   "execution_count": 51,
   "metadata": {},
   "outputs": [],
   "source": [
    "mask=pd_result_larg['confirmed']>100\n",
    "pd_result_larg['confirmed_filtered_DR']=pd_result_larg['confirmed_filtered_DR'].where(mask, other=np.NaN) "
   ]
  },
  {
   "cell_type": "code",
   "execution_count": 52,
   "metadata": {},
   "outputs": [
    {
     "output_type": "execute_result",
     "data": {
      "text/plain": "   index       date    state       country  confirmed  confirmed_DR  \\\n0      0 2020-01-22  Alberta        Canada          0           NaN   \n1      1 2020-01-22       no  Korea, South          1           NaN   \n2      2 2020-01-22       no        Kosovo          0           NaN   \n3      3 2020-01-22       no        Kuwait          0           NaN   \n4      4 2020-01-22       no    Kyrgyzstan          0           NaN   \n\n   confirmed_filtered  confirmed_filtered_DR  \n0                 0.0                    NaN  \n1                 0.8                    NaN  \n2                 0.0                    NaN  \n3                 0.0                    NaN  \n4                 0.0                    NaN  ",
      "text/html": "<div>\n<style scoped>\n    .dataframe tbody tr th:only-of-type {\n        vertical-align: middle;\n    }\n\n    .dataframe tbody tr th {\n        vertical-align: top;\n    }\n\n    .dataframe thead th {\n        text-align: right;\n    }\n</style>\n<table border=\"1\" class=\"dataframe\">\n  <thead>\n    <tr style=\"text-align: right;\">\n      <th></th>\n      <th>index</th>\n      <th>date</th>\n      <th>state</th>\n      <th>country</th>\n      <th>confirmed</th>\n      <th>confirmed_DR</th>\n      <th>confirmed_filtered</th>\n      <th>confirmed_filtered_DR</th>\n    </tr>\n  </thead>\n  <tbody>\n    <tr>\n      <th>0</th>\n      <td>0</td>\n      <td>2020-01-22</td>\n      <td>Alberta</td>\n      <td>Canada</td>\n      <td>0</td>\n      <td>NaN</td>\n      <td>0.0</td>\n      <td>NaN</td>\n    </tr>\n    <tr>\n      <th>1</th>\n      <td>1</td>\n      <td>2020-01-22</td>\n      <td>no</td>\n      <td>Korea, South</td>\n      <td>1</td>\n      <td>NaN</td>\n      <td>0.8</td>\n      <td>NaN</td>\n    </tr>\n    <tr>\n      <th>2</th>\n      <td>2</td>\n      <td>2020-01-22</td>\n      <td>no</td>\n      <td>Kosovo</td>\n      <td>0</td>\n      <td>NaN</td>\n      <td>0.0</td>\n      <td>NaN</td>\n    </tr>\n    <tr>\n      <th>3</th>\n      <td>3</td>\n      <td>2020-01-22</td>\n      <td>no</td>\n      <td>Kuwait</td>\n      <td>0</td>\n      <td>NaN</td>\n      <td>0.0</td>\n      <td>NaN</td>\n    </tr>\n    <tr>\n      <th>4</th>\n      <td>4</td>\n      <td>2020-01-22</td>\n      <td>no</td>\n      <td>Kyrgyzstan</td>\n      <td>0</td>\n      <td>NaN</td>\n      <td>0.0</td>\n      <td>NaN</td>\n    </tr>\n  </tbody>\n</table>\n</div>"
     },
     "metadata": {},
     "execution_count": 52
    }
   ],
   "source": [
    "pd_result_larg.head()"
   ]
  },
  {
   "cell_type": "code",
   "execution_count": 53,
   "metadata": {},
   "outputs": [
    {
     "output_type": "display_data",
     "data": {
      "application/vnd.plotly.v1+json": {
       "config": {
        "plotlyServerURL": "https://plot.ly"
       },
       "data": [
        {
         "name": "confirmed",
         "opacity": 0.8,
         "type": "scatter",
         "x": [
          "2020-01-22T00:00:00",
          "2020-01-23T00:00:00",
          "2020-01-24T00:00:00",
          "2020-01-25T00:00:00",
          "2020-01-26T00:00:00",
          "2020-01-27T00:00:00",
          "2020-01-28T00:00:00",
          "2020-01-29T00:00:00",
          "2020-01-30T00:00:00",
          "2020-01-31T00:00:00",
          "2020-02-01T00:00:00",
          "2020-02-02T00:00:00",
          "2020-02-03T00:00:00",
          "2020-02-04T00:00:00",
          "2020-02-05T00:00:00",
          "2020-02-06T00:00:00",
          "2020-02-07T00:00:00",
          "2020-02-08T00:00:00",
          "2020-02-09T00:00:00",
          "2020-02-10T00:00:00",
          "2020-02-11T00:00:00",
          "2020-02-12T00:00:00",
          "2020-02-13T00:00:00",
          "2020-02-14T00:00:00",
          "2020-02-15T00:00:00",
          "2020-02-16T00:00:00",
          "2020-02-17T00:00:00",
          "2020-02-18T00:00:00",
          "2020-02-19T00:00:00",
          "2020-02-20T00:00:00",
          "2020-02-21T00:00:00",
          "2020-02-22T00:00:00",
          "2020-02-23T00:00:00",
          "2020-02-24T00:00:00",
          "2020-02-25T00:00:00",
          "2020-02-26T00:00:00",
          "2020-02-27T00:00:00",
          "2020-02-28T00:00:00",
          "2020-02-29T00:00:00",
          "2020-03-01T00:00:00",
          "2020-03-02T00:00:00",
          "2020-03-03T00:00:00",
          "2020-03-04T00:00:00",
          "2020-03-05T00:00:00",
          "2020-03-06T00:00:00",
          "2020-03-07T00:00:00",
          "2020-03-08T00:00:00",
          "2020-03-09T00:00:00",
          "2020-03-10T00:00:00",
          "2020-03-11T00:00:00",
          "2020-03-12T00:00:00",
          "2020-03-13T00:00:00",
          "2020-03-14T00:00:00",
          "2020-03-15T00:00:00",
          "2020-03-16T00:00:00",
          "2020-03-17T00:00:00",
          "2020-03-18T00:00:00",
          "2020-03-19T00:00:00",
          "2020-03-20T00:00:00",
          "2020-03-21T00:00:00",
          "2020-03-22T00:00:00",
          "2020-03-23T00:00:00",
          "2020-03-24T00:00:00",
          "2020-03-25T00:00:00",
          "2020-03-26T00:00:00",
          "2020-03-27T00:00:00",
          "2020-03-28T00:00:00",
          "2020-03-29T00:00:00",
          "2020-03-30T00:00:00",
          "2020-03-31T00:00:00",
          "2020-04-01T00:00:00",
          "2020-04-02T00:00:00",
          "2020-04-03T00:00:00",
          "2020-04-04T00:00:00",
          "2020-04-05T00:00:00",
          "2020-04-06T00:00:00",
          "2020-04-07T00:00:00",
          "2020-04-08T00:00:00",
          "2020-04-09T00:00:00",
          "2020-04-10T00:00:00",
          "2020-04-11T00:00:00",
          "2020-04-12T00:00:00",
          "2020-04-13T00:00:00",
          "2020-04-14T00:00:00",
          "2020-04-15T00:00:00",
          "2020-04-16T00:00:00",
          "2020-04-17T00:00:00",
          "2020-04-18T00:00:00",
          "2020-04-19T00:00:00",
          "2020-04-20T00:00:00",
          "2020-04-21T00:00:00",
          "2020-04-22T00:00:00",
          "2020-04-23T00:00:00",
          "2020-04-24T00:00:00",
          "2020-04-25T00:00:00",
          "2020-04-26T00:00:00",
          "2020-04-27T00:00:00",
          "2020-04-28T00:00:00",
          "2020-04-29T00:00:00",
          "2020-04-30T00:00:00",
          "2020-05-01T00:00:00",
          "2020-05-02T00:00:00",
          "2020-05-03T00:00:00",
          "2020-05-04T00:00:00",
          "2020-05-05T00:00:00",
          "2020-05-06T00:00:00",
          "2020-05-07T00:00:00",
          "2020-05-08T00:00:00",
          "2020-05-09T00:00:00",
          "2020-05-10T00:00:00",
          "2020-05-11T00:00:00",
          "2020-05-12T00:00:00",
          "2020-05-13T00:00:00",
          "2020-05-14T00:00:00",
          "2020-05-15T00:00:00",
          "2020-05-16T00:00:00",
          "2020-05-17T00:00:00",
          "2020-05-18T00:00:00",
          "2020-05-19T00:00:00",
          "2020-05-20T00:00:00",
          "2020-05-21T00:00:00",
          "2020-05-22T00:00:00",
          "2020-05-23T00:00:00",
          "2020-05-24T00:00:00",
          "2020-05-25T00:00:00",
          "2020-05-26T00:00:00",
          "2020-05-27T00:00:00",
          "2020-05-28T00:00:00",
          "2020-05-29T00:00:00",
          "2020-05-30T00:00:00",
          "2020-05-31T00:00:00",
          "2020-06-01T00:00:00",
          "2020-06-02T00:00:00",
          "2020-06-03T00:00:00",
          "2020-06-04T00:00:00",
          "2020-06-05T00:00:00",
          "2020-06-06T00:00:00",
          "2020-06-07T00:00:00",
          "2020-06-08T00:00:00",
          "2020-06-09T00:00:00",
          "2020-06-10T00:00:00",
          "2020-06-11T00:00:00",
          "2020-06-12T00:00:00",
          "2020-06-13T00:00:00",
          "2020-06-14T00:00:00",
          "2020-06-15T00:00:00",
          "2020-06-16T00:00:00",
          "2020-06-17T00:00:00",
          "2020-06-18T00:00:00",
          "2020-06-19T00:00:00",
          "2020-06-20T00:00:00",
          "2020-06-21T00:00:00",
          "2020-06-22T00:00:00",
          "2020-06-23T00:00:00",
          "2020-06-24T00:00:00",
          "2020-06-25T00:00:00",
          "2020-06-26T00:00:00",
          "2020-06-27T00:00:00",
          "2020-06-28T00:00:00",
          "2020-06-29T00:00:00",
          "2020-06-30T00:00:00",
          "2020-07-01T00:00:00",
          "2020-07-02T00:00:00",
          "2020-07-03T00:00:00",
          "2020-07-04T00:00:00",
          "2020-07-05T00:00:00",
          "2020-07-06T00:00:00",
          "2020-07-07T00:00:00",
          "2020-07-08T00:00:00",
          "2020-07-09T00:00:00",
          "2020-07-10T00:00:00",
          "2020-07-11T00:00:00",
          "2020-07-12T00:00:00",
          "2020-07-13T00:00:00",
          "2020-07-14T00:00:00",
          "2020-07-15T00:00:00",
          "2020-07-16T00:00:00",
          "2020-07-17T00:00:00",
          "2020-07-18T00:00:00",
          "2020-07-19T00:00:00",
          "2020-07-20T00:00:00",
          "2020-07-21T00:00:00",
          "2020-07-22T00:00:00",
          "2020-07-23T00:00:00",
          "2020-07-24T00:00:00",
          "2020-07-25T00:00:00",
          "2020-07-26T00:00:00",
          "2020-07-27T00:00:00",
          "2020-07-28T00:00:00",
          "2020-07-29T00:00:00",
          "2020-07-30T00:00:00",
          "2020-07-31T00:00:00",
          "2020-08-01T00:00:00",
          "2020-08-02T00:00:00",
          "2020-08-03T00:00:00",
          "2020-08-04T00:00:00",
          "2020-08-05T00:00:00",
          "2020-08-06T00:00:00",
          "2020-08-07T00:00:00",
          "2020-08-08T00:00:00",
          "2020-08-09T00:00:00",
          "2020-08-10T00:00:00",
          "2020-08-11T00:00:00",
          "2020-08-12T00:00:00",
          "2020-08-13T00:00:00",
          "2020-08-14T00:00:00",
          "2020-08-15T00:00:00",
          "2020-08-16T00:00:00",
          "2020-08-17T00:00:00",
          "2020-08-18T00:00:00",
          "2020-08-19T00:00:00",
          "2020-08-20T00:00:00",
          "2020-08-21T00:00:00",
          "2020-08-22T00:00:00",
          "2020-08-23T00:00:00",
          "2020-08-24T00:00:00",
          "2020-08-25T00:00:00",
          "2020-08-26T00:00:00",
          "2020-08-27T00:00:00",
          "2020-08-28T00:00:00",
          "2020-08-29T00:00:00",
          "2020-08-30T00:00:00",
          "2020-08-31T00:00:00",
          "2020-09-01T00:00:00",
          "2020-09-02T00:00:00",
          "2020-09-03T00:00:00",
          "2020-09-04T00:00:00",
          "2020-09-05T00:00:00",
          "2020-09-06T00:00:00",
          "2020-09-07T00:00:00",
          "2020-09-08T00:00:00",
          "2020-09-09T00:00:00",
          "2020-09-10T00:00:00",
          "2020-09-11T00:00:00",
          "2020-09-12T00:00:00",
          "2020-09-13T00:00:00"
         ],
         "y": [
          0,
          0,
          0,
          0,
          0,
          1,
          4,
          4,
          4,
          5,
          8,
          10,
          12,
          12,
          12,
          12,
          13,
          13,
          14,
          14,
          16,
          16,
          16,
          16,
          16,
          16,
          16,
          16,
          16,
          16,
          16,
          16,
          16,
          16,
          17,
          27,
          46,
          48,
          79,
          130,
          159,
          196,
          262,
          482,
          670,
          799,
          1040,
          1176,
          1457,
          1908,
          2078,
          3675,
          4585,
          5795,
          7272,
          9257,
          12327,
          15320,
          19848,
          22213,
          24873,
          29056,
          32986,
          37323,
          43938,
          50871,
          57695,
          62095,
          66885,
          71808,
          77872,
          84794,
          91159,
          96092,
          100123,
          103374,
          107663,
          113296,
          118181,
          122171,
          124908,
          127854,
          130072,
          131359,
          134753,
          137698,
          141397,
          143342,
          145184,
          147065,
          148291,
          150648,
          153129,
          154999,
          156513,
          157770,
          158758,
          159912,
          161539,
          163009,
          164077,
          164967,
          165664,
          166152,
          167007,
          168162,
          169430,
          170588,
          171324,
          171879,
          172576,
          173171,
          174098,
          174478,
          175233,
          175752,
          176369,
          176551,
          177778,
          178473,
          179021,
          179710,
          179986,
          180328,
          180600,
          181200,
          181524,
          182196,
          182922,
          183189,
          183410,
          183594,
          183879,
          184121,
          184472,
          184924,
          185450,
          185750,
          186109,
          186506,
          186522,
          186691,
          187226,
          187267,
          187518,
          187682,
          188252,
          188604,
          189817,
          190299,
          190670,
          191272,
          191768,
          192480,
          192871,
          193371,
          194036,
          194458,
          194693,
          195042,
          195418,
          195893,
          196370,
          196780,
          197198,
          197523,
          198064,
          198343,
          198699,
          199001,
          199332,
          199709,
          199919,
          200180,
          200456,
          200890,
          201450,
          202045,
          202426,
          202735,
          203325,
          203717,
          204276,
          204881,
          205623,
          206278,
          206667,
          207112,
          207707,
          208546,
          209535,
          210399,
          211005,
          211220,
          212111,
          212828,
          214113,
          215039,
          216196,
          216903,
          217288,
          218508,
          219540,
          220859,
          222281,
          223791,
          224488,
          225007,
          226700,
          228120,
          229706,
          231292,
          233029,
          233861,
          234494,
          236122,
          237583,
          239010,
          240571,
          242126,
          242835,
          243305,
          244802,
          246015,
          247411,
          248840,
          250283,
          251058,
          251728,
          253626,
          254957,
          256433,
          258149,
          259735,
          260817,
          261737
         ]
        },
        {
         "name": "confirmed_DR",
         "opacity": 0.8,
         "type": "scatter",
         "x": [
          "2020-01-22T00:00:00",
          "2020-01-23T00:00:00",
          "2020-01-24T00:00:00",
          "2020-01-25T00:00:00",
          "2020-01-26T00:00:00",
          "2020-01-27T00:00:00",
          "2020-01-28T00:00:00",
          "2020-01-29T00:00:00",
          "2020-01-30T00:00:00",
          "2020-01-31T00:00:00",
          "2020-02-01T00:00:00",
          "2020-02-02T00:00:00",
          "2020-02-03T00:00:00",
          "2020-02-04T00:00:00",
          "2020-02-05T00:00:00",
          "2020-02-06T00:00:00",
          "2020-02-07T00:00:00",
          "2020-02-08T00:00:00",
          "2020-02-09T00:00:00",
          "2020-02-10T00:00:00",
          "2020-02-11T00:00:00",
          "2020-02-12T00:00:00",
          "2020-02-13T00:00:00",
          "2020-02-14T00:00:00",
          "2020-02-15T00:00:00",
          "2020-02-16T00:00:00",
          "2020-02-17T00:00:00",
          "2020-02-18T00:00:00",
          "2020-02-19T00:00:00",
          "2020-02-20T00:00:00",
          "2020-02-21T00:00:00",
          "2020-02-22T00:00:00",
          "2020-02-23T00:00:00",
          "2020-02-24T00:00:00",
          "2020-02-25T00:00:00",
          "2020-02-26T00:00:00",
          "2020-02-27T00:00:00",
          "2020-02-28T00:00:00",
          "2020-02-29T00:00:00",
          "2020-03-01T00:00:00",
          "2020-03-02T00:00:00",
          "2020-03-03T00:00:00",
          "2020-03-04T00:00:00",
          "2020-03-05T00:00:00",
          "2020-03-06T00:00:00",
          "2020-03-07T00:00:00",
          "2020-03-08T00:00:00",
          "2020-03-09T00:00:00",
          "2020-03-10T00:00:00",
          "2020-03-11T00:00:00",
          "2020-03-12T00:00:00",
          "2020-03-13T00:00:00",
          "2020-03-14T00:00:00",
          "2020-03-15T00:00:00",
          "2020-03-16T00:00:00",
          "2020-03-17T00:00:00",
          "2020-03-18T00:00:00",
          "2020-03-19T00:00:00",
          "2020-03-20T00:00:00",
          "2020-03-21T00:00:00",
          "2020-03-22T00:00:00",
          "2020-03-23T00:00:00",
          "2020-03-24T00:00:00",
          "2020-03-25T00:00:00",
          "2020-03-26T00:00:00",
          "2020-03-27T00:00:00",
          "2020-03-28T00:00:00",
          "2020-03-29T00:00:00",
          "2020-03-30T00:00:00",
          "2020-03-31T00:00:00",
          "2020-04-01T00:00:00",
          "2020-04-02T00:00:00",
          "2020-04-03T00:00:00",
          "2020-04-04T00:00:00",
          "2020-04-05T00:00:00",
          "2020-04-06T00:00:00",
          "2020-04-07T00:00:00",
          "2020-04-08T00:00:00",
          "2020-04-09T00:00:00",
          "2020-04-10T00:00:00",
          "2020-04-11T00:00:00",
          "2020-04-12T00:00:00",
          "2020-04-13T00:00:00",
          "2020-04-14T00:00:00",
          "2020-04-15T00:00:00",
          "2020-04-16T00:00:00",
          "2020-04-17T00:00:00",
          "2020-04-18T00:00:00",
          "2020-04-19T00:00:00",
          "2020-04-20T00:00:00",
          "2020-04-21T00:00:00",
          "2020-04-22T00:00:00",
          "2020-04-23T00:00:00",
          "2020-04-24T00:00:00",
          "2020-04-25T00:00:00",
          "2020-04-26T00:00:00",
          "2020-04-27T00:00:00",
          "2020-04-28T00:00:00",
          "2020-04-29T00:00:00",
          "2020-04-30T00:00:00",
          "2020-05-01T00:00:00",
          "2020-05-02T00:00:00",
          "2020-05-03T00:00:00",
          "2020-05-04T00:00:00",
          "2020-05-05T00:00:00",
          "2020-05-06T00:00:00",
          "2020-05-07T00:00:00",
          "2020-05-08T00:00:00",
          "2020-05-09T00:00:00",
          "2020-05-10T00:00:00",
          "2020-05-11T00:00:00",
          "2020-05-12T00:00:00",
          "2020-05-13T00:00:00",
          "2020-05-14T00:00:00",
          "2020-05-15T00:00:00",
          "2020-05-16T00:00:00",
          "2020-05-17T00:00:00",
          "2020-05-18T00:00:00",
          "2020-05-19T00:00:00",
          "2020-05-20T00:00:00",
          "2020-05-21T00:00:00",
          "2020-05-22T00:00:00",
          "2020-05-23T00:00:00",
          "2020-05-24T00:00:00",
          "2020-05-25T00:00:00",
          "2020-05-26T00:00:00",
          "2020-05-27T00:00:00",
          "2020-05-28T00:00:00",
          "2020-05-29T00:00:00",
          "2020-05-30T00:00:00",
          "2020-05-31T00:00:00",
          "2020-06-01T00:00:00",
          "2020-06-02T00:00:00",
          "2020-06-03T00:00:00",
          "2020-06-04T00:00:00",
          "2020-06-05T00:00:00",
          "2020-06-06T00:00:00",
          "2020-06-07T00:00:00",
          "2020-06-08T00:00:00",
          "2020-06-09T00:00:00",
          "2020-06-10T00:00:00",
          "2020-06-11T00:00:00",
          "2020-06-12T00:00:00",
          "2020-06-13T00:00:00",
          "2020-06-14T00:00:00",
          "2020-06-15T00:00:00",
          "2020-06-16T00:00:00",
          "2020-06-17T00:00:00",
          "2020-06-18T00:00:00",
          "2020-06-19T00:00:00",
          "2020-06-20T00:00:00",
          "2020-06-21T00:00:00",
          "2020-06-22T00:00:00",
          "2020-06-23T00:00:00",
          "2020-06-24T00:00:00",
          "2020-06-25T00:00:00",
          "2020-06-26T00:00:00",
          "2020-06-27T00:00:00",
          "2020-06-28T00:00:00",
          "2020-06-29T00:00:00",
          "2020-06-30T00:00:00",
          "2020-07-01T00:00:00",
          "2020-07-02T00:00:00",
          "2020-07-03T00:00:00",
          "2020-07-04T00:00:00",
          "2020-07-05T00:00:00",
          "2020-07-06T00:00:00",
          "2020-07-07T00:00:00",
          "2020-07-08T00:00:00",
          "2020-07-09T00:00:00",
          "2020-07-10T00:00:00",
          "2020-07-11T00:00:00",
          "2020-07-12T00:00:00",
          "2020-07-13T00:00:00",
          "2020-07-14T00:00:00",
          "2020-07-15T00:00:00",
          "2020-07-16T00:00:00",
          "2020-07-17T00:00:00",
          "2020-07-18T00:00:00",
          "2020-07-19T00:00:00",
          "2020-07-20T00:00:00",
          "2020-07-21T00:00:00",
          "2020-07-22T00:00:00",
          "2020-07-23T00:00:00",
          "2020-07-24T00:00:00",
          "2020-07-25T00:00:00",
          "2020-07-26T00:00:00",
          "2020-07-27T00:00:00",
          "2020-07-28T00:00:00",
          "2020-07-29T00:00:00",
          "2020-07-30T00:00:00",
          "2020-07-31T00:00:00",
          "2020-08-01T00:00:00",
          "2020-08-02T00:00:00",
          "2020-08-03T00:00:00",
          "2020-08-04T00:00:00",
          "2020-08-05T00:00:00",
          "2020-08-06T00:00:00",
          "2020-08-07T00:00:00",
          "2020-08-08T00:00:00",
          "2020-08-09T00:00:00",
          "2020-08-10T00:00:00",
          "2020-08-11T00:00:00",
          "2020-08-12T00:00:00",
          "2020-08-13T00:00:00",
          "2020-08-14T00:00:00",
          "2020-08-15T00:00:00",
          "2020-08-16T00:00:00",
          "2020-08-17T00:00:00",
          "2020-08-18T00:00:00",
          "2020-08-19T00:00:00",
          "2020-08-20T00:00:00",
          "2020-08-21T00:00:00",
          "2020-08-22T00:00:00",
          "2020-08-23T00:00:00",
          "2020-08-24T00:00:00",
          "2020-08-25T00:00:00",
          "2020-08-26T00:00:00",
          "2020-08-27T00:00:00",
          "2020-08-28T00:00:00",
          "2020-08-29T00:00:00",
          "2020-08-30T00:00:00",
          "2020-08-31T00:00:00",
          "2020-09-01T00:00:00",
          "2020-09-02T00:00:00",
          "2020-09-03T00:00:00",
          "2020-09-04T00:00:00",
          "2020-09-05T00:00:00",
          "2020-09-06T00:00:00",
          "2020-09-07T00:00:00",
          "2020-09-08T00:00:00",
          "2020-09-09T00:00:00",
          "2020-09-10T00:00:00",
          "2020-09-11T00:00:00",
          "2020-09-12T00:00:00",
          "2020-09-13T00:00:00"
         ],
         "y": [
          null,
          null,
          null,
          null,
          null,
          0.6666666666666667,
          0.8333333333333337,
          2.000000000000001,
          null,
          8.666666666666668,
          2.833333333333335,
          3.066666666666668,
          5.000000000000001,
          11.333333333333336,
          null,
          null,
          24.666666666666675,
          25.33333333333334,
          26.666666666666675,
          27.33333333333334,
          14.66666666666667,
          15.333333333333337,
          null,
          null,
          null,
          null,
          null,
          null,
          null,
          null,
          null,
          null,
          null,
          null,
          32.66666666666667,
          3.636363636363637,
          2.06896551724138,
          3.8412698412698427,
          3.4949494949494957,
          2.0894308943089435,
          3.0666666666666678,
          4.8989898989899,
          3.9935275080906165,
          2.191142191142192,
          2.31045751633987,
          4.103049421661411,
          4.520720720720722,
          5.331564986737402,
          5.872102318145484,
          4.135701275045538,
          5.843263553408484,
          2.890398038106018,
          2.749102512963703,
          4.419811320754719,
          4.379605508001491,
          4.298863855189679,
          3.80560501153973,
          4.057837154324044,
          4.209989806320084,
          5.5496880893660245,
          8.880132669983418,
          7.417994057187396,
          7.142035416409882,
          8.012983347445669,
          6.954407109812518,
          6.501919102450548,
          7.390370962661434,
          10.13667141838917,
          13.541893362350386,
          13.781392635299772,
          13.14068141136495,
          12.037270907130761,
          12.735505882943231,
          16.052693692098906,
          21.372452774059212,
          27.427355122219183,
          27.51193633952256,
          21.792178996170136,
          21.495848386892323,
          26.565107981220663,
          36.19840443981964,
          43.9829902047041,
          49.42344435837853,
          74.0437470280552,
          56.42441073844624,
          42.46831782089711,
          41.52598836042546,
          49.89806283959369,
          75.68400668955199,
          78.00000000000004,
          94.52633837571078,
          82.98520792631875,
          62.29406090671079,
          70.29433846625301,
          91.53684003152092,
          112.90316371947554,
          140.47245731254642,
          148.28509181450363,
          115.11662471533025,
          104.28586804434401,
          128.34909377462571,
          167.53592100783112,
          207.81684520058815,
          279.48410689170197,
          247.61628195582045,
          166.27562189054734,
          138.83587838767372,
          139.6482550151141,
          179.9866244280184,
          265.3193906532405,
          274.6427050053249,
          267.092879256966,
          227.70258431887876,
          266.129558786024,
          307.67048458149793,
          274.96755625327063,
          309.48004694835686,
          441.1113892365458,
          251.09912467471028,
          184.8081859174472,
          287.0860820595335,
          289.5198059822151,
          372.1706390328154,
          582.5501618122979,
          587.311617806732,
          414.47094801223255,
          392.00865800865813,
          364.73895582329334,
          260.6781115879829,
          368.1148036253777,
          750.7117486338799,
          905.6674897119342,
          783.0604122245915,
          697.7786211258698,
          621.1039910061835,
          459.5408883354091,
          378.2181322426722,
          448.8490718321229,
          563.7926150733437,
          492.38536155202826,
          902.5617433414048,
          2017.005405405406,
          530.7187500000001,
          649.5185185185188,
          1283.1301369863015,
          903.5614457831331,
          511.7638510445052,
          408.19812002892263,
          241.394249201278,
          223.68534906588008,
          446.10082063306004,
          392.08016443987674,
          348.3363691560413,
          317.61589403973517,
          348.81776971894845,
          433.01309390198287,
          332.06180257510744,
          356.86292548298076,
          591.7676306443432,
          666.88698630137,
          538.0717241379313,
          459.3443008225618,
          411.54131652661084,
          442.72303645246154,
          475.3204508856685,
          530.7321668909827,
          456.3394919168593,
          482.8699186991873,
          624.7832020997378,
          603.8936170212768,
          628.7856766719327,
          563.1280602636537,
          680.2498580352075,
          848.9851380042464,
          745.567970204842,
          564.8131455399061,
          404.28973843058367,
          348.8513708513709,
          413.88046448087437,
          586.672463768116,
          451.2317389692252,
          413.9694501018332,
          428.5439887837365,
          351.0160366552121,
          304.27121999505084,
          294.33643521832505,
          394.99872286079204,
          495.6490807354119,
          398.3884615384615,
          289.80241748024184,
          228.22319474835896,
          226.11261018168742,
          286.14013605442193,
          513.7019894437677,
          382.36045810729365,
          263.74751243781105,
          212.80452880452887,
          193.57153625810346,
          206.5444071051369,
          231.80901287553652,
          397.06166056166063,
          271.11069574247153,
          194.0011841326229,
          186.84446334892957,
          161.17718594187042,
          151.64415643474317,
          202.5555052106933,
          369.1260964912283,
          203.79596142254374,
          145.58882107292007,
          151.81326236416064,
          144.83354350567473,
          139.23703480790456,
          181.18126378616853,
          319.1736063708761,
          207.718413681262,
          152.84320707888207,
          164.52331486611268,
          160.00981704596168,
          154.4088575096278,
          213.6431095406361,
          411.7986994628218,
          247.73496017624137,
          180.59581795817968,
          188.6362591031047,
          175.1660176991151,
          173.2901578458682,
          225.48271716260902,
          347.4366782006921,
          196.36863966770517,
          156.97553422112114,
          181.69243557772242,
          160.72243107769427,
          156.332929537654,
          194.5779610194903,
          260.50249750249765
         ]
        },
        {
         "name": "confirmed_filtered",
         "opacity": 0.8,
         "type": "scatter",
         "x": [
          "2020-01-22T00:00:00",
          "2020-01-23T00:00:00",
          "2020-01-24T00:00:00",
          "2020-01-25T00:00:00",
          "2020-01-26T00:00:00",
          "2020-01-27T00:00:00",
          "2020-01-28T00:00:00",
          "2020-01-29T00:00:00",
          "2020-01-30T00:00:00",
          "2020-01-31T00:00:00",
          "2020-02-01T00:00:00",
          "2020-02-02T00:00:00",
          "2020-02-03T00:00:00",
          "2020-02-04T00:00:00",
          "2020-02-05T00:00:00",
          "2020-02-06T00:00:00",
          "2020-02-07T00:00:00",
          "2020-02-08T00:00:00",
          "2020-02-09T00:00:00",
          "2020-02-10T00:00:00",
          "2020-02-11T00:00:00",
          "2020-02-12T00:00:00",
          "2020-02-13T00:00:00",
          "2020-02-14T00:00:00",
          "2020-02-15T00:00:00",
          "2020-02-16T00:00:00",
          "2020-02-17T00:00:00",
          "2020-02-18T00:00:00",
          "2020-02-19T00:00:00",
          "2020-02-20T00:00:00",
          "2020-02-21T00:00:00",
          "2020-02-22T00:00:00",
          "2020-02-23T00:00:00",
          "2020-02-24T00:00:00",
          "2020-02-25T00:00:00",
          "2020-02-26T00:00:00",
          "2020-02-27T00:00:00",
          "2020-02-28T00:00:00",
          "2020-02-29T00:00:00",
          "2020-03-01T00:00:00",
          "2020-03-02T00:00:00",
          "2020-03-03T00:00:00",
          "2020-03-04T00:00:00",
          "2020-03-05T00:00:00",
          "2020-03-06T00:00:00",
          "2020-03-07T00:00:00",
          "2020-03-08T00:00:00",
          "2020-03-09T00:00:00",
          "2020-03-10T00:00:00",
          "2020-03-11T00:00:00",
          "2020-03-12T00:00:00",
          "2020-03-13T00:00:00",
          "2020-03-14T00:00:00",
          "2020-03-15T00:00:00",
          "2020-03-16T00:00:00",
          "2020-03-17T00:00:00",
          "2020-03-18T00:00:00",
          "2020-03-19T00:00:00",
          "2020-03-20T00:00:00",
          "2020-03-21T00:00:00",
          "2020-03-22T00:00:00",
          "2020-03-23T00:00:00",
          "2020-03-24T00:00:00",
          "2020-03-25T00:00:00",
          "2020-03-26T00:00:00",
          "2020-03-27T00:00:00",
          "2020-03-28T00:00:00",
          "2020-03-29T00:00:00",
          "2020-03-30T00:00:00",
          "2020-03-31T00:00:00",
          "2020-04-01T00:00:00",
          "2020-04-02T00:00:00",
          "2020-04-03T00:00:00",
          "2020-04-04T00:00:00",
          "2020-04-05T00:00:00",
          "2020-04-06T00:00:00",
          "2020-04-07T00:00:00",
          "2020-04-08T00:00:00",
          "2020-04-09T00:00:00",
          "2020-04-10T00:00:00",
          "2020-04-11T00:00:00",
          "2020-04-12T00:00:00",
          "2020-04-13T00:00:00",
          "2020-04-14T00:00:00",
          "2020-04-15T00:00:00",
          "2020-04-16T00:00:00",
          "2020-04-17T00:00:00",
          "2020-04-18T00:00:00",
          "2020-04-19T00:00:00",
          "2020-04-20T00:00:00",
          "2020-04-21T00:00:00",
          "2020-04-22T00:00:00",
          "2020-04-23T00:00:00",
          "2020-04-24T00:00:00",
          "2020-04-25T00:00:00",
          "2020-04-26T00:00:00",
          "2020-04-27T00:00:00",
          "2020-04-28T00:00:00",
          "2020-04-29T00:00:00",
          "2020-04-30T00:00:00",
          "2020-05-01T00:00:00",
          "2020-05-02T00:00:00",
          "2020-05-03T00:00:00",
          "2020-05-04T00:00:00",
          "2020-05-05T00:00:00",
          "2020-05-06T00:00:00",
          "2020-05-07T00:00:00",
          "2020-05-08T00:00:00",
          "2020-05-09T00:00:00",
          "2020-05-10T00:00:00",
          "2020-05-11T00:00:00",
          "2020-05-12T00:00:00",
          "2020-05-13T00:00:00",
          "2020-05-14T00:00:00",
          "2020-05-15T00:00:00",
          "2020-05-16T00:00:00",
          "2020-05-17T00:00:00",
          "2020-05-18T00:00:00",
          "2020-05-19T00:00:00",
          "2020-05-20T00:00:00",
          "2020-05-21T00:00:00",
          "2020-05-22T00:00:00",
          "2020-05-23T00:00:00",
          "2020-05-24T00:00:00",
          "2020-05-25T00:00:00",
          "2020-05-26T00:00:00",
          "2020-05-27T00:00:00",
          "2020-05-28T00:00:00",
          "2020-05-29T00:00:00",
          "2020-05-30T00:00:00",
          "2020-05-31T00:00:00",
          "2020-06-01T00:00:00",
          "2020-06-02T00:00:00",
          "2020-06-03T00:00:00",
          "2020-06-04T00:00:00",
          "2020-06-05T00:00:00",
          "2020-06-06T00:00:00",
          "2020-06-07T00:00:00",
          "2020-06-08T00:00:00",
          "2020-06-09T00:00:00",
          "2020-06-10T00:00:00",
          "2020-06-11T00:00:00",
          "2020-06-12T00:00:00",
          "2020-06-13T00:00:00",
          "2020-06-14T00:00:00",
          "2020-06-15T00:00:00",
          "2020-06-16T00:00:00",
          "2020-06-17T00:00:00",
          "2020-06-18T00:00:00",
          "2020-06-19T00:00:00",
          "2020-06-20T00:00:00",
          "2020-06-21T00:00:00",
          "2020-06-22T00:00:00",
          "2020-06-23T00:00:00",
          "2020-06-24T00:00:00",
          "2020-06-25T00:00:00",
          "2020-06-26T00:00:00",
          "2020-06-27T00:00:00",
          "2020-06-28T00:00:00",
          "2020-06-29T00:00:00",
          "2020-06-30T00:00:00",
          "2020-07-01T00:00:00",
          "2020-07-02T00:00:00",
          "2020-07-03T00:00:00",
          "2020-07-04T00:00:00",
          "2020-07-05T00:00:00",
          "2020-07-06T00:00:00",
          "2020-07-07T00:00:00",
          "2020-07-08T00:00:00",
          "2020-07-09T00:00:00",
          "2020-07-10T00:00:00",
          "2020-07-11T00:00:00",
          "2020-07-12T00:00:00",
          "2020-07-13T00:00:00",
          "2020-07-14T00:00:00",
          "2020-07-15T00:00:00",
          "2020-07-16T00:00:00",
          "2020-07-17T00:00:00",
          "2020-07-18T00:00:00",
          "2020-07-19T00:00:00",
          "2020-07-20T00:00:00",
          "2020-07-21T00:00:00",
          "2020-07-22T00:00:00",
          "2020-07-23T00:00:00",
          "2020-07-24T00:00:00",
          "2020-07-25T00:00:00",
          "2020-07-26T00:00:00",
          "2020-07-27T00:00:00",
          "2020-07-28T00:00:00",
          "2020-07-29T00:00:00",
          "2020-07-30T00:00:00",
          "2020-07-31T00:00:00",
          "2020-08-01T00:00:00",
          "2020-08-02T00:00:00",
          "2020-08-03T00:00:00",
          "2020-08-04T00:00:00",
          "2020-08-05T00:00:00",
          "2020-08-06T00:00:00",
          "2020-08-07T00:00:00",
          "2020-08-08T00:00:00",
          "2020-08-09T00:00:00",
          "2020-08-10T00:00:00",
          "2020-08-11T00:00:00",
          "2020-08-12T00:00:00",
          "2020-08-13T00:00:00",
          "2020-08-14T00:00:00",
          "2020-08-15T00:00:00",
          "2020-08-16T00:00:00",
          "2020-08-17T00:00:00",
          "2020-08-18T00:00:00",
          "2020-08-19T00:00:00",
          "2020-08-20T00:00:00",
          "2020-08-21T00:00:00",
          "2020-08-22T00:00:00",
          "2020-08-23T00:00:00",
          "2020-08-24T00:00:00",
          "2020-08-25T00:00:00",
          "2020-08-26T00:00:00",
          "2020-08-27T00:00:00",
          "2020-08-28T00:00:00",
          "2020-08-29T00:00:00",
          "2020-08-30T00:00:00",
          "2020-08-31T00:00:00",
          "2020-09-01T00:00:00",
          "2020-09-02T00:00:00",
          "2020-09-03T00:00:00",
          "2020-09-04T00:00:00",
          "2020-09-05T00:00:00",
          "2020-09-06T00:00:00",
          "2020-09-07T00:00:00",
          "2020-09-08T00:00:00",
          "2020-09-09T00:00:00",
          "2020-09-10T00:00:00",
          "2020-09-11T00:00:00",
          "2020-09-12T00:00:00",
          "2020-09-13T00:00:00"
         ],
         "y": [
          0,
          0,
          0,
          0.19999999999999996,
          0.9999999999999998,
          1.7999999999999996,
          2.5999999999999996,
          3.599999999999999,
          4.999999999999999,
          6.199999999999999,
          7.799999999999998,
          9.399999999999999,
          10.799999999999997,
          11.599999999999998,
          12.199999999999998,
          12.399999999999999,
          12.799999999999997,
          13.199999999999998,
          13.999999999999996,
          14.599999999999996,
          15.199999999999996,
          15.599999999999996,
          15.999999999999996,
          15.999999999999996,
          15.999999999999996,
          15.999999999999996,
          15.999999999999996,
          15.999999999999996,
          15.999999999999996,
          15.999999999999996,
          15.999999999999996,
          15.999999999999996,
          16.199999999999996,
          18.399999999999995,
          24.399999999999995,
          30.799999999999994,
          43.39999999999999,
          65.99999999999999,
          92.39999999999998,
          122.39999999999998,
          165.2,
          245.79999999999995,
          353.79999999999995,
          481.79999999999984,
          650.5999999999999,
          833.3999999999999,
          1028.3999999999996,
          1275.9999999999998,
          1531.7999999999997,
          2058.7999999999997,
          2740.5999999999995,
          3608.199999999999,
          4680.999999999999,
          6116.799999999999,
          7847.199999999999,
          9994.199999999997,
          12804.799999999997,
          15792.999999999996,
          18916.199999999997,
          22262,
          25795.199999999997,
          29290.199999999997,
          33635.2,
          38834.799999999996,
          44562.59999999999,
          50384.399999999994,
          56296.79999999999,
          61870.79999999999,
          67270.99999999999,
          72690.79999999999,
          78503.59999999998,
          84344.99999999997,
          90007.99999999997,
          95108.39999999998,
          99682.19999999998,
          104109.59999999998,
          108527.39999999998,
          112936.99999999997,
          117243.79999999999,
          121281.99999999997,
          124637.19999999997,
          127272.79999999997,
          129789.19999999998,
          132347.19999999995,
          135055.8,
          137709.8,
          140474.8,
          142937.19999999998,
          145055.79999999996,
          146905.99999999997,
          148863.39999999997,
          150826.39999999997,
          152715.99999999997,
          154611.79999999996,
          156233.8,
          157590.39999999997,
          158898.39999999997,
          160197.59999999998,
          161458.99999999997,
          162700.79999999996,
          163851.19999999995,
          164773.79999999996,
          165573.39999999997,
          166390.39999999997,
          167282.99999999997,
          168267.79999999996,
          169302.19999999995,
          170276.59999999998,
          171159.39999999997,
          171907.59999999998,
          172609.59999999998,
          173240.39999999997,
          173911.19999999998,
          174546.39999999997,
          175185.99999999994,
          175676.59999999998,
          176336.59999999998,
          176984.59999999998,
          177638.39999999997,
          178306.59999999998,
          178993.59999999998,
          179503.59999999998,
          179928.99999999997,
          180364.79999999996,
          180727.59999999998,
          181169.59999999998,
          181688.39999999997,
          182206.19999999995,
          182648.19999999995,
          183062.19999999995,
          183398.79999999996,
          183638.59999999998,
          183895.19999999995,
          184197.99999999994,
          184569.19999999995,
          184943.39999999997,
          185340.99999999997,
          185747.8,
          186067.39999999997,
          186315.59999999998,
          186610.79999999996,
          186842.39999999997,
          187044.79999999996,
          187276.79999999996,
          187588.99999999997,
          187864.59999999998,
          188374.59999999998,
          188930.79999999996,
          189528.39999999997,
          190132.39999999997,
          190765.19999999995,
          191297.79999999996,
          191812.19999999995,
          192352.39999999997,
          192905.19999999995,
          193443.19999999995,
          193885.8,
          194319.99999999997,
          194729.39999999997,
          195100.79999999996,
          195483.19999999995,
          195900.59999999995,
          196331.79999999996,
          196752.79999999996,
          197186.99999999997,
          197581.59999999998,
          197965.39999999997,
          198325.99999999997,
          198687.79999999996,
          199016.79999999996,
          199331.99999999994,
          199628.19999999995,
          199919.19999999995,
          200230.8,
          200578.99999999997,
          201004.19999999995,
          201453.39999999997,
          201909.19999999995,
          202396.19999999995,
          202849.59999999998,
          203295.79999999996,
          203786.79999999996,
          204364.39999999997,
          204954.99999999997,
          205544.99999999997,
          206112.19999999995,
          206677.39999999997,
          207261.99999999997,
          207913.39999999997,
          208659.79999999996,
          209438.39999999997,
          210140.99999999994,
          210853.99999999997,
          211512.59999999998,
          212255.39999999997,
          213062.19999999995,
          214057.39999999997,
          215015.79999999993,
          215907.79999999996,
          216786.79999999993,
          217686.99999999997,
          218619.59999999995,
          219695.19999999995,
          220995.79999999996,
          222191.8,
          223285.19999999995,
          224453.39999999997,
          225621.19999999995,
          226804.19999999995,
          228164.99999999994,
          229769.39999999997,
          231201.59999999998,
          232476.39999999997,
          233759.59999999995,
          235017.79999999996,
          236213.99999999994,
          237555.99999999994,
          239082.39999999997,
          240424.99999999997,
          241569.39999999997,
          242727.79999999996,
          243816.59999999998,
          244873.59999999998,
          246074.59999999995,
          247470.19999999992,
          248721.39999999997,
          249863.99999999994,
          251106.99999999997,
          252330.39999999997,
          253560.39999999994,
          254978.59999999998,
          256579.99999999997,
          258018.19999999995,
          259374.19999999995,
          260701.79999999984,
          262029.39999999985
         ]
        },
        {
         "name": "confirmed_filtered_DR",
         "opacity": 0.8,
         "type": "scatter",
         "x": [
          "2020-01-22T00:00:00",
          "2020-01-23T00:00:00",
          "2020-01-24T00:00:00",
          "2020-01-25T00:00:00",
          "2020-01-26T00:00:00",
          "2020-01-27T00:00:00",
          "2020-01-28T00:00:00",
          "2020-01-29T00:00:00",
          "2020-01-30T00:00:00",
          "2020-01-31T00:00:00",
          "2020-02-01T00:00:00",
          "2020-02-02T00:00:00",
          "2020-02-03T00:00:00",
          "2020-02-04T00:00:00",
          "2020-02-05T00:00:00",
          "2020-02-06T00:00:00",
          "2020-02-07T00:00:00",
          "2020-02-08T00:00:00",
          "2020-02-09T00:00:00",
          "2020-02-10T00:00:00",
          "2020-02-11T00:00:00",
          "2020-02-12T00:00:00",
          "2020-02-13T00:00:00",
          "2020-02-14T00:00:00",
          "2020-02-15T00:00:00",
          "2020-02-16T00:00:00",
          "2020-02-17T00:00:00",
          "2020-02-18T00:00:00",
          "2020-02-19T00:00:00",
          "2020-02-20T00:00:00",
          "2020-02-21T00:00:00",
          "2020-02-22T00:00:00",
          "2020-02-23T00:00:00",
          "2020-02-24T00:00:00",
          "2020-02-25T00:00:00",
          "2020-02-26T00:00:00",
          "2020-02-27T00:00:00",
          "2020-02-28T00:00:00",
          "2020-02-29T00:00:00",
          "2020-03-01T00:00:00",
          "2020-03-02T00:00:00",
          "2020-03-03T00:00:00",
          "2020-03-04T00:00:00",
          "2020-03-05T00:00:00",
          "2020-03-06T00:00:00",
          "2020-03-07T00:00:00",
          "2020-03-08T00:00:00",
          "2020-03-09T00:00:00",
          "2020-03-10T00:00:00",
          "2020-03-11T00:00:00",
          "2020-03-12T00:00:00",
          "2020-03-13T00:00:00",
          "2020-03-14T00:00:00",
          "2020-03-15T00:00:00",
          "2020-03-16T00:00:00",
          "2020-03-17T00:00:00",
          "2020-03-18T00:00:00",
          "2020-03-19T00:00:00",
          "2020-03-20T00:00:00",
          "2020-03-21T00:00:00",
          "2020-03-22T00:00:00",
          "2020-03-23T00:00:00",
          "2020-03-24T00:00:00",
          "2020-03-25T00:00:00",
          "2020-03-26T00:00:00",
          "2020-03-27T00:00:00",
          "2020-03-28T00:00:00",
          "2020-03-29T00:00:00",
          "2020-03-30T00:00:00",
          "2020-03-31T00:00:00",
          "2020-04-01T00:00:00",
          "2020-04-02T00:00:00",
          "2020-04-03T00:00:00",
          "2020-04-04T00:00:00",
          "2020-04-05T00:00:00",
          "2020-04-06T00:00:00",
          "2020-04-07T00:00:00",
          "2020-04-08T00:00:00",
          "2020-04-09T00:00:00",
          "2020-04-10T00:00:00",
          "2020-04-11T00:00:00",
          "2020-04-12T00:00:00",
          "2020-04-13T00:00:00",
          "2020-04-14T00:00:00",
          "2020-04-15T00:00:00",
          "2020-04-16T00:00:00",
          "2020-04-17T00:00:00",
          "2020-04-18T00:00:00",
          "2020-04-19T00:00:00",
          "2020-04-20T00:00:00",
          "2020-04-21T00:00:00",
          "2020-04-22T00:00:00",
          "2020-04-23T00:00:00",
          "2020-04-24T00:00:00",
          "2020-04-25T00:00:00",
          "2020-04-26T00:00:00",
          "2020-04-27T00:00:00",
          "2020-04-28T00:00:00",
          "2020-04-29T00:00:00",
          "2020-04-30T00:00:00",
          "2020-05-01T00:00:00",
          "2020-05-02T00:00:00",
          "2020-05-03T00:00:00",
          "2020-05-04T00:00:00",
          "2020-05-05T00:00:00",
          "2020-05-06T00:00:00",
          "2020-05-07T00:00:00",
          "2020-05-08T00:00:00",
          "2020-05-09T00:00:00",
          "2020-05-10T00:00:00",
          "2020-05-11T00:00:00",
          "2020-05-12T00:00:00",
          "2020-05-13T00:00:00",
          "2020-05-14T00:00:00",
          "2020-05-15T00:00:00",
          "2020-05-16T00:00:00",
          "2020-05-17T00:00:00",
          "2020-05-18T00:00:00",
          "2020-05-19T00:00:00",
          "2020-05-20T00:00:00",
          "2020-05-21T00:00:00",
          "2020-05-22T00:00:00",
          "2020-05-23T00:00:00",
          "2020-05-24T00:00:00",
          "2020-05-25T00:00:00",
          "2020-05-26T00:00:00",
          "2020-05-27T00:00:00",
          "2020-05-28T00:00:00",
          "2020-05-29T00:00:00",
          "2020-05-30T00:00:00",
          "2020-05-31T00:00:00",
          "2020-06-01T00:00:00",
          "2020-06-02T00:00:00",
          "2020-06-03T00:00:00",
          "2020-06-04T00:00:00",
          "2020-06-05T00:00:00",
          "2020-06-06T00:00:00",
          "2020-06-07T00:00:00",
          "2020-06-08T00:00:00",
          "2020-06-09T00:00:00",
          "2020-06-10T00:00:00",
          "2020-06-11T00:00:00",
          "2020-06-12T00:00:00",
          "2020-06-13T00:00:00",
          "2020-06-14T00:00:00",
          "2020-06-15T00:00:00",
          "2020-06-16T00:00:00",
          "2020-06-17T00:00:00",
          "2020-06-18T00:00:00",
          "2020-06-19T00:00:00",
          "2020-06-20T00:00:00",
          "2020-06-21T00:00:00",
          "2020-06-22T00:00:00",
          "2020-06-23T00:00:00",
          "2020-06-24T00:00:00",
          "2020-06-25T00:00:00",
          "2020-06-26T00:00:00",
          "2020-06-27T00:00:00",
          "2020-06-28T00:00:00",
          "2020-06-29T00:00:00",
          "2020-06-30T00:00:00",
          "2020-07-01T00:00:00",
          "2020-07-02T00:00:00",
          "2020-07-03T00:00:00",
          "2020-07-04T00:00:00",
          "2020-07-05T00:00:00",
          "2020-07-06T00:00:00",
          "2020-07-07T00:00:00",
          "2020-07-08T00:00:00",
          "2020-07-09T00:00:00",
          "2020-07-10T00:00:00",
          "2020-07-11T00:00:00",
          "2020-07-12T00:00:00",
          "2020-07-13T00:00:00",
          "2020-07-14T00:00:00",
          "2020-07-15T00:00:00",
          "2020-07-16T00:00:00",
          "2020-07-17T00:00:00",
          "2020-07-18T00:00:00",
          "2020-07-19T00:00:00",
          "2020-07-20T00:00:00",
          "2020-07-21T00:00:00",
          "2020-07-22T00:00:00",
          "2020-07-23T00:00:00",
          "2020-07-24T00:00:00",
          "2020-07-25T00:00:00",
          "2020-07-26T00:00:00",
          "2020-07-27T00:00:00",
          "2020-07-28T00:00:00",
          "2020-07-29T00:00:00",
          "2020-07-30T00:00:00",
          "2020-07-31T00:00:00",
          "2020-08-01T00:00:00",
          "2020-08-02T00:00:00",
          "2020-08-03T00:00:00",
          "2020-08-04T00:00:00",
          "2020-08-05T00:00:00",
          "2020-08-06T00:00:00",
          "2020-08-07T00:00:00",
          "2020-08-08T00:00:00",
          "2020-08-09T00:00:00",
          "2020-08-10T00:00:00",
          "2020-08-11T00:00:00",
          "2020-08-12T00:00:00",
          "2020-08-13T00:00:00",
          "2020-08-14T00:00:00",
          "2020-08-15T00:00:00",
          "2020-08-16T00:00:00",
          "2020-08-17T00:00:00",
          "2020-08-18T00:00:00",
          "2020-08-19T00:00:00",
          "2020-08-20T00:00:00",
          "2020-08-21T00:00:00",
          "2020-08-22T00:00:00",
          "2020-08-23T00:00:00",
          "2020-08-24T00:00:00",
          "2020-08-25T00:00:00",
          "2020-08-26T00:00:00",
          "2020-08-27T00:00:00",
          "2020-08-28T00:00:00",
          "2020-08-29T00:00:00",
          "2020-08-30T00:00:00",
          "2020-08-31T00:00:00",
          "2020-09-01T00:00:00",
          "2020-09-02T00:00:00",
          "2020-09-03T00:00:00",
          "2020-09-04T00:00:00",
          "2020-09-05T00:00:00",
          "2020-09-06T00:00:00",
          "2020-09-07T00:00:00",
          "2020-09-08T00:00:00",
          "2020-09-09T00:00:00",
          "2020-09-10T00:00:00",
          "2020-09-11T00:00:00",
          "2020-09-12T00:00:00",
          "2020-09-13T00:00:00"
         ],
         "y": [
          null,
          null,
          null,
          null,
          null,
          null,
          null,
          null,
          null,
          null,
          null,
          null,
          null,
          null,
          null,
          null,
          null,
          null,
          null,
          null,
          null,
          null,
          null,
          null,
          null,
          null,
          null,
          null,
          null,
          null,
          null,
          null,
          null,
          null,
          null,
          null,
          null,
          null,
          null,
          3.319148936170213,
          3.479853479853481,
          2.881685575364668,
          2.70342877341817,
          3.054802259887007,
          3.3382749326145564,
          3.727341676147137,
          4.433386271395804,
          4.726314203946379,
          5.080386703747848,
          4.14460909555442,
          3.491727332892126,
          3.617572393614735,
          3.7895279323850755,
          3.8284302001116153,
          3.92584170298781,
          4.119289558295081,
          4.121106987251896,
          4.436780023453129,
          5.183100435252153,
          5.871201113000462,
          6.490613945825462,
          7.3368619750908275,
          7.544268707482994,
          7.107697895494138,
          7.140008907272854,
          7.722160652028356,
          8.59276303454859,
          9.782699540325956,
          11.26512486863128,
          12.435773259396182,
          12.966152093014985,
          13.473791994874542,
          14.652747354635334,
          16.68998024168322,
          19.625988023126787,
          22.13780384837578,
          23.539637317415103,
          24.588138447712065,
          25.90581738638274,
          28.077715198721798,
          32.74659380889271,
          41.52945627740311,
          49.391718426500915,
          51.15996636712406,
          50.27813010291266,
          50.36273449446133,
          50.838457279940954,
          53.70697988802599,
          62.354333115040795,
          73.0529799099646,
          77.18338761074332,
          75.94391728735174,
          78.28579833532325,
          80.687941388845,
          87.85066424090772,
          104.84478166476399,
          118.27231104105783,
          121.88974122941546,
          125.11520737327164,
          128.99685735591868,
          136.00061310369912,
          158.00797555877148,
          191.30507490419103,
          204.8486947915371,
          194.6836686944308,
          178.23983523312435,
          166.68416534601306,
          168.54062126642623,
          183.3362768325066,
          209.82775393419178,
          237.05999172527746,
          258.9823929571852,
          266.216553984838,
          266.3083205717203,
          273.84353101140925,
          309.9209579425439,
          305.46335245378305,
          269.62171253822635,
          271.9104829210861,
          268.74916792738276,
          263.1535812672154,
          298.97176274018386,
          383.7404319007937,
          417.86453011302916,
          451.64153936054447,
          449.1898608349804,
          377.17568692756487,
          350.5461444465962,
          379.62269917344344,
          426.72632398753893,
          487.70690114574626,
          636.2475133009228,
          739.9041095890498,
          657.5280657848106,
          546.6492581602374,
          495.2245774080876,
          479.2723503498207,
          460.8256257251649,
          511.34012481645067,
          655.3138429024441,
          685.7978162188764,
          708.3887623386642,
          860.9800307219665,
          861.2093308778508,
          688.3628567928312,
          638.233412725398,
          478.46928038017313,
          353.38585631214227,
          327.5170740162973,
          315.46360408344276,
          307.4741267787869,
          327.32418053887244,
          365.4092327284304,
          363.7792527972672,
          351.9791399817016,
          353.68585747464016,
          394.47562716702663,
          442.25136861313,
          460.6726726726855,
          498.76212431694734,
          517.6557884496411,
          488.8593815120518,
          461.7138816874821,
          460.75662989907846,
          460.1431244153352,
          475.8055019304919,
          507.6515930113091,
          531.8583198996998,
          549.0764119601374,
          575.2080679405617,
          617.8584290593151,
          652.0303129429786,
          679.9266575840012,
          663.5448611571693,
          606.9809033040156,
          518.7604516852231,
          459.7717291857305,
          445.20574585635364,
          428.3402630462505,
          430.42322415992146,
          450.9719875500193,
          433.8684023331992,
          381.4629733607815,
          349.8865491068847,
          347.20447230221754,
          355.2322848254462,
          364.02602142941447,
          359.51272685104107,
          335.4114347357066,
          297.5319311298732,
          273.6662732240437,
          282.76136465928874,
          296.898087972119,
          307.4305434042889,
          301.89905332762606,
          273.9761658922775,
          236.542730299667,
          219.12892437892702,
          232.37534226833912,
          243.82096743835868,
          243.69814148680896,
          237.55761676123745,
          217.7743916608591,
          184.9761804561897,
          177.00947955886423,
          194.07495413645552,
          197.47977832802948,
          192.1688926940639,
          191.95700754353226,
          178.36580443955324,
          153.94995278564622,
          151.29552789303656,
          170.77882034232238,
          181.76637998436487,
          183.95472311849156,
          191.49049326379884,
          186.16547159404433,
          165.67944963510305,
          166.62330661089644,
          193.2922664522182,
          209.80898616177512,
          216.006229975079,
          227.24019013887417,
          216.9367581930941,
          189.5859713984993,
          186.95939751145914,
          207.7744172445469,
          209.5049183992841,
          203.61698562006518,
          205.70033423005106,
          191.54379075094954,
          168.9228153839341,
          168.78905119094748,
          184.6616562880264,
          193.29611964029218,
          196.37074420006797
         ]
        }
       ],
       "layout": {
        "autosize": true,
        "font": {
         "color": "#7f7f7f",
         "family": "PT Sans, monospace",
         "size": 18
        },
        "height": 768,
        "template": {
         "data": {
          "bar": [
           {
            "error_x": {
             "color": "#2a3f5f"
            },
            "error_y": {
             "color": "#2a3f5f"
            },
            "marker": {
             "line": {
              "color": "#E5ECF6",
              "width": 0.5
             }
            },
            "type": "bar"
           }
          ],
          "barpolar": [
           {
            "marker": {
             "line": {
              "color": "#E5ECF6",
              "width": 0.5
             }
            },
            "type": "barpolar"
           }
          ],
          "carpet": [
           {
            "aaxis": {
             "endlinecolor": "#2a3f5f",
             "gridcolor": "white",
             "linecolor": "white",
             "minorgridcolor": "white",
             "startlinecolor": "#2a3f5f"
            },
            "baxis": {
             "endlinecolor": "#2a3f5f",
             "gridcolor": "white",
             "linecolor": "white",
             "minorgridcolor": "white",
             "startlinecolor": "#2a3f5f"
            },
            "type": "carpet"
           }
          ],
          "choropleth": [
           {
            "colorbar": {
             "outlinewidth": 0,
             "ticks": ""
            },
            "type": "choropleth"
           }
          ],
          "contour": [
           {
            "colorbar": {
             "outlinewidth": 0,
             "ticks": ""
            },
            "colorscale": [
             [
              0,
              "#0d0887"
             ],
             [
              0.1111111111111111,
              "#46039f"
             ],
             [
              0.2222222222222222,
              "#7201a8"
             ],
             [
              0.3333333333333333,
              "#9c179e"
             ],
             [
              0.4444444444444444,
              "#bd3786"
             ],
             [
              0.5555555555555556,
              "#d8576b"
             ],
             [
              0.6666666666666666,
              "#ed7953"
             ],
             [
              0.7777777777777778,
              "#fb9f3a"
             ],
             [
              0.8888888888888888,
              "#fdca26"
             ],
             [
              1,
              "#f0f921"
             ]
            ],
            "type": "contour"
           }
          ],
          "contourcarpet": [
           {
            "colorbar": {
             "outlinewidth": 0,
             "ticks": ""
            },
            "type": "contourcarpet"
           }
          ],
          "heatmap": [
           {
            "colorbar": {
             "outlinewidth": 0,
             "ticks": ""
            },
            "colorscale": [
             [
              0,
              "#0d0887"
             ],
             [
              0.1111111111111111,
              "#46039f"
             ],
             [
              0.2222222222222222,
              "#7201a8"
             ],
             [
              0.3333333333333333,
              "#9c179e"
             ],
             [
              0.4444444444444444,
              "#bd3786"
             ],
             [
              0.5555555555555556,
              "#d8576b"
             ],
             [
              0.6666666666666666,
              "#ed7953"
             ],
             [
              0.7777777777777778,
              "#fb9f3a"
             ],
             [
              0.8888888888888888,
              "#fdca26"
             ],
             [
              1,
              "#f0f921"
             ]
            ],
            "type": "heatmap"
           }
          ],
          "heatmapgl": [
           {
            "colorbar": {
             "outlinewidth": 0,
             "ticks": ""
            },
            "colorscale": [
             [
              0,
              "#0d0887"
             ],
             [
              0.1111111111111111,
              "#46039f"
             ],
             [
              0.2222222222222222,
              "#7201a8"
             ],
             [
              0.3333333333333333,
              "#9c179e"
             ],
             [
              0.4444444444444444,
              "#bd3786"
             ],
             [
              0.5555555555555556,
              "#d8576b"
             ],
             [
              0.6666666666666666,
              "#ed7953"
             ],
             [
              0.7777777777777778,
              "#fb9f3a"
             ],
             [
              0.8888888888888888,
              "#fdca26"
             ],
             [
              1,
              "#f0f921"
             ]
            ],
            "type": "heatmapgl"
           }
          ],
          "histogram": [
           {
            "marker": {
             "colorbar": {
              "outlinewidth": 0,
              "ticks": ""
             }
            },
            "type": "histogram"
           }
          ],
          "histogram2d": [
           {
            "colorbar": {
             "outlinewidth": 0,
             "ticks": ""
            },
            "colorscale": [
             [
              0,
              "#0d0887"
             ],
             [
              0.1111111111111111,
              "#46039f"
             ],
             [
              0.2222222222222222,
              "#7201a8"
             ],
             [
              0.3333333333333333,
              "#9c179e"
             ],
             [
              0.4444444444444444,
              "#bd3786"
             ],
             [
              0.5555555555555556,
              "#d8576b"
             ],
             [
              0.6666666666666666,
              "#ed7953"
             ],
             [
              0.7777777777777778,
              "#fb9f3a"
             ],
             [
              0.8888888888888888,
              "#fdca26"
             ],
             [
              1,
              "#f0f921"
             ]
            ],
            "type": "histogram2d"
           }
          ],
          "histogram2dcontour": [
           {
            "colorbar": {
             "outlinewidth": 0,
             "ticks": ""
            },
            "colorscale": [
             [
              0,
              "#0d0887"
             ],
             [
              0.1111111111111111,
              "#46039f"
             ],
             [
              0.2222222222222222,
              "#7201a8"
             ],
             [
              0.3333333333333333,
              "#9c179e"
             ],
             [
              0.4444444444444444,
              "#bd3786"
             ],
             [
              0.5555555555555556,
              "#d8576b"
             ],
             [
              0.6666666666666666,
              "#ed7953"
             ],
             [
              0.7777777777777778,
              "#fb9f3a"
             ],
             [
              0.8888888888888888,
              "#fdca26"
             ],
             [
              1,
              "#f0f921"
             ]
            ],
            "type": "histogram2dcontour"
           }
          ],
          "mesh3d": [
           {
            "colorbar": {
             "outlinewidth": 0,
             "ticks": ""
            },
            "type": "mesh3d"
           }
          ],
          "parcoords": [
           {
            "line": {
             "colorbar": {
              "outlinewidth": 0,
              "ticks": ""
             }
            },
            "type": "parcoords"
           }
          ],
          "pie": [
           {
            "automargin": true,
            "type": "pie"
           }
          ],
          "scatter": [
           {
            "marker": {
             "colorbar": {
              "outlinewidth": 0,
              "ticks": ""
             }
            },
            "type": "scatter"
           }
          ],
          "scatter3d": [
           {
            "line": {
             "colorbar": {
              "outlinewidth": 0,
              "ticks": ""
             }
            },
            "marker": {
             "colorbar": {
              "outlinewidth": 0,
              "ticks": ""
             }
            },
            "type": "scatter3d"
           }
          ],
          "scattercarpet": [
           {
            "marker": {
             "colorbar": {
              "outlinewidth": 0,
              "ticks": ""
             }
            },
            "type": "scattercarpet"
           }
          ],
          "scattergeo": [
           {
            "marker": {
             "colorbar": {
              "outlinewidth": 0,
              "ticks": ""
             }
            },
            "type": "scattergeo"
           }
          ],
          "scattergl": [
           {
            "marker": {
             "colorbar": {
              "outlinewidth": 0,
              "ticks": ""
             }
            },
            "type": "scattergl"
           }
          ],
          "scattermapbox": [
           {
            "marker": {
             "colorbar": {
              "outlinewidth": 0,
              "ticks": ""
             }
            },
            "type": "scattermapbox"
           }
          ],
          "scatterpolar": [
           {
            "marker": {
             "colorbar": {
              "outlinewidth": 0,
              "ticks": ""
             }
            },
            "type": "scatterpolar"
           }
          ],
          "scatterpolargl": [
           {
            "marker": {
             "colorbar": {
              "outlinewidth": 0,
              "ticks": ""
             }
            },
            "type": "scatterpolargl"
           }
          ],
          "scatterternary": [
           {
            "marker": {
             "colorbar": {
              "outlinewidth": 0,
              "ticks": ""
             }
            },
            "type": "scatterternary"
           }
          ],
          "surface": [
           {
            "colorbar": {
             "outlinewidth": 0,
             "ticks": ""
            },
            "colorscale": [
             [
              0,
              "#0d0887"
             ],
             [
              0.1111111111111111,
              "#46039f"
             ],
             [
              0.2222222222222222,
              "#7201a8"
             ],
             [
              0.3333333333333333,
              "#9c179e"
             ],
             [
              0.4444444444444444,
              "#bd3786"
             ],
             [
              0.5555555555555556,
              "#d8576b"
             ],
             [
              0.6666666666666666,
              "#ed7953"
             ],
             [
              0.7777777777777778,
              "#fb9f3a"
             ],
             [
              0.8888888888888888,
              "#fdca26"
             ],
             [
              1,
              "#f0f921"
             ]
            ],
            "type": "surface"
           }
          ],
          "table": [
           {
            "cells": {
             "fill": {
              "color": "#EBF0F8"
             },
             "line": {
              "color": "white"
             }
            },
            "header": {
             "fill": {
              "color": "#C8D4E3"
             },
             "line": {
              "color": "white"
             }
            },
            "type": "table"
           }
          ]
         },
         "layout": {
          "annotationdefaults": {
           "arrowcolor": "#2a3f5f",
           "arrowhead": 0,
           "arrowwidth": 1
          },
          "coloraxis": {
           "colorbar": {
            "outlinewidth": 0,
            "ticks": ""
           }
          },
          "colorscale": {
           "diverging": [
            [
             0,
             "#8e0152"
            ],
            [
             0.1,
             "#c51b7d"
            ],
            [
             0.2,
             "#de77ae"
            ],
            [
             0.3,
             "#f1b6da"
            ],
            [
             0.4,
             "#fde0ef"
            ],
            [
             0.5,
             "#f7f7f7"
            ],
            [
             0.6,
             "#e6f5d0"
            ],
            [
             0.7,
             "#b8e186"
            ],
            [
             0.8,
             "#7fbc41"
            ],
            [
             0.9,
             "#4d9221"
            ],
            [
             1,
             "#276419"
            ]
           ],
           "sequential": [
            [
             0,
             "#0d0887"
            ],
            [
             0.1111111111111111,
             "#46039f"
            ],
            [
             0.2222222222222222,
             "#7201a8"
            ],
            [
             0.3333333333333333,
             "#9c179e"
            ],
            [
             0.4444444444444444,
             "#bd3786"
            ],
            [
             0.5555555555555556,
             "#d8576b"
            ],
            [
             0.6666666666666666,
             "#ed7953"
            ],
            [
             0.7777777777777778,
             "#fb9f3a"
            ],
            [
             0.8888888888888888,
             "#fdca26"
            ],
            [
             1,
             "#f0f921"
            ]
           ],
           "sequentialminus": [
            [
             0,
             "#0d0887"
            ],
            [
             0.1111111111111111,
             "#46039f"
            ],
            [
             0.2222222222222222,
             "#7201a8"
            ],
            [
             0.3333333333333333,
             "#9c179e"
            ],
            [
             0.4444444444444444,
             "#bd3786"
            ],
            [
             0.5555555555555556,
             "#d8576b"
            ],
            [
             0.6666666666666666,
             "#ed7953"
            ],
            [
             0.7777777777777778,
             "#fb9f3a"
            ],
            [
             0.8888888888888888,
             "#fdca26"
            ],
            [
             1,
             "#f0f921"
            ]
           ]
          },
          "colorway": [
           "#636efa",
           "#EF553B",
           "#00cc96",
           "#ab63fa",
           "#FFA15A",
           "#19d3f3",
           "#FF6692",
           "#B6E880",
           "#FF97FF",
           "#FECB52"
          ],
          "font": {
           "color": "#2a3f5f"
          },
          "geo": {
           "bgcolor": "white",
           "lakecolor": "white",
           "landcolor": "#E5ECF6",
           "showlakes": true,
           "showland": true,
           "subunitcolor": "white"
          },
          "hoverlabel": {
           "align": "left"
          },
          "hovermode": "closest",
          "mapbox": {
           "style": "light"
          },
          "paper_bgcolor": "white",
          "plot_bgcolor": "#E5ECF6",
          "polar": {
           "angularaxis": {
            "gridcolor": "white",
            "linecolor": "white",
            "ticks": ""
           },
           "bgcolor": "#E5ECF6",
           "radialaxis": {
            "gridcolor": "white",
            "linecolor": "white",
            "ticks": ""
           }
          },
          "scene": {
           "xaxis": {
            "backgroundcolor": "#E5ECF6",
            "gridcolor": "white",
            "gridwidth": 2,
            "linecolor": "white",
            "showbackground": true,
            "ticks": "",
            "zerolinecolor": "white"
           },
           "yaxis": {
            "backgroundcolor": "#E5ECF6",
            "gridcolor": "white",
            "gridwidth": 2,
            "linecolor": "white",
            "showbackground": true,
            "ticks": "",
            "zerolinecolor": "white"
           },
           "zaxis": {
            "backgroundcolor": "#E5ECF6",
            "gridcolor": "white",
            "gridwidth": 2,
            "linecolor": "white",
            "showbackground": true,
            "ticks": "",
            "zerolinecolor": "white"
           }
          },
          "shapedefaults": {
           "line": {
            "color": "#2a3f5f"
           }
          },
          "ternary": {
           "aaxis": {
            "gridcolor": "white",
            "linecolor": "white",
            "ticks": ""
           },
           "baxis": {
            "gridcolor": "white",
            "linecolor": "white",
            "ticks": ""
           },
           "bgcolor": "#E5ECF6",
           "caxis": {
            "gridcolor": "white",
            "linecolor": "white",
            "ticks": ""
           }
          },
          "title": {
           "x": 0.05
          },
          "xaxis": {
           "automargin": true,
           "gridcolor": "white",
           "linecolor": "white",
           "ticks": "",
           "title": {
            "standoff": 15
           },
           "zerolinecolor": "white",
           "zerolinewidth": 2
          },
          "yaxis": {
           "automargin": true,
           "gridcolor": "white",
           "linecolor": "white",
           "ticks": "",
           "title": {
            "standoff": 15
           },
           "zerolinecolor": "white",
           "zerolinewidth": 2
          }
         }
        },
        "width": 1024,
        "xaxis": {
         "nticks": 20,
         "rangeslider": {
          "visible": true
         },
         "tickangle": -45,
         "tickfont": {
          "color": "#7f7f7f",
          "size": 14
         }
        },
        "yaxis": {
         "type": "log"
        }
       }
      }
     },
     "metadata": {}
    }
   ],
   "source": [
    "quick_plot(pd_result_larg[pd_result_larg['country']=='Germany'].date,\n",
    "           pd_result_larg[pd_result_larg['country']=='Germany'].iloc[:,[4,5,6,7]],\n",
    "           y_scale='log',\n",
    "           slider=True)"
   ]
  },
  {
   "cell_type": "code",
   "execution_count": 54,
   "metadata": {},
   "outputs": [],
   "source": [
    "pd_result_larg.to_csv('../data/processed/COVID_final_set.csv',sep=';',index=False)"
   ]
  },
  {
   "cell_type": "code",
   "execution_count": null,
   "metadata": {},
   "outputs": [],
   "source": []
  },
  {
   "cell_type": "code",
   "execution_count": 55,
   "metadata": {},
   "outputs": [
    {
     "output_type": "execute_result",
     "data": {
      "text/plain": "       index       date    state       country  confirmed  confirmed_DR  \\\n0          0 2020-01-22  Alberta        Canada          0           NaN   \n1          1 2020-01-22       no  Korea, South          1           NaN   \n2          2 2020-01-22       no        Kosovo          0           NaN   \n3          3 2020-01-22       no        Kuwait          0           NaN   \n4          4 2020-01-22       no    Kyrgyzstan          0           NaN   \n...      ...        ...      ...           ...        ...           ...   \n62771  62771 2020-09-13       no      Barbados        181    360.666667   \n62772  62772 2020-09-13       no       Belarus      74173    380.346187   \n62773  62773 2020-09-13       no       Belgium      93455     96.444213   \n62774  62774 2020-09-13       no       Albania      11353     67.387550   \n62775  62775 2020-09-13       no      Zimbabwe       7526    319.333333   \n\n       confirmed_filtered  confirmed_filtered_DR  \n0                     0.0                    NaN  \n1                     0.8                    NaN  \n2                     0.0                    NaN  \n3                     0.0                    NaN  \n4                     0.0                    NaN  \n...                   ...                    ...  \n62771               180.6             902.000000  \n62772             74170.2             384.099688  \n62773             93433.4              97.997033  \n62774             11349.2              68.927295  \n62775              7528.8             301.361446  \n\n[62776 rows x 8 columns]",
      "text/html": "<div>\n<style scoped>\n    .dataframe tbody tr th:only-of-type {\n        vertical-align: middle;\n    }\n\n    .dataframe tbody tr th {\n        vertical-align: top;\n    }\n\n    .dataframe thead th {\n        text-align: right;\n    }\n</style>\n<table border=\"1\" class=\"dataframe\">\n  <thead>\n    <tr style=\"text-align: right;\">\n      <th></th>\n      <th>index</th>\n      <th>date</th>\n      <th>state</th>\n      <th>country</th>\n      <th>confirmed</th>\n      <th>confirmed_DR</th>\n      <th>confirmed_filtered</th>\n      <th>confirmed_filtered_DR</th>\n    </tr>\n  </thead>\n  <tbody>\n    <tr>\n      <th>0</th>\n      <td>0</td>\n      <td>2020-01-22</td>\n      <td>Alberta</td>\n      <td>Canada</td>\n      <td>0</td>\n      <td>NaN</td>\n      <td>0.0</td>\n      <td>NaN</td>\n    </tr>\n    <tr>\n      <th>1</th>\n      <td>1</td>\n      <td>2020-01-22</td>\n      <td>no</td>\n      <td>Korea, South</td>\n      <td>1</td>\n      <td>NaN</td>\n      <td>0.8</td>\n      <td>NaN</td>\n    </tr>\n    <tr>\n      <th>2</th>\n      <td>2</td>\n      <td>2020-01-22</td>\n      <td>no</td>\n      <td>Kosovo</td>\n      <td>0</td>\n      <td>NaN</td>\n      <td>0.0</td>\n      <td>NaN</td>\n    </tr>\n    <tr>\n      <th>3</th>\n      <td>3</td>\n      <td>2020-01-22</td>\n      <td>no</td>\n      <td>Kuwait</td>\n      <td>0</td>\n      <td>NaN</td>\n      <td>0.0</td>\n      <td>NaN</td>\n    </tr>\n    <tr>\n      <th>4</th>\n      <td>4</td>\n      <td>2020-01-22</td>\n      <td>no</td>\n      <td>Kyrgyzstan</td>\n      <td>0</td>\n      <td>NaN</td>\n      <td>0.0</td>\n      <td>NaN</td>\n    </tr>\n    <tr>\n      <th>...</th>\n      <td>...</td>\n      <td>...</td>\n      <td>...</td>\n      <td>...</td>\n      <td>...</td>\n      <td>...</td>\n      <td>...</td>\n      <td>...</td>\n    </tr>\n    <tr>\n      <th>62771</th>\n      <td>62771</td>\n      <td>2020-09-13</td>\n      <td>no</td>\n      <td>Barbados</td>\n      <td>181</td>\n      <td>360.666667</td>\n      <td>180.6</td>\n      <td>902.000000</td>\n    </tr>\n    <tr>\n      <th>62772</th>\n      <td>62772</td>\n      <td>2020-09-13</td>\n      <td>no</td>\n      <td>Belarus</td>\n      <td>74173</td>\n      <td>380.346187</td>\n      <td>74170.2</td>\n      <td>384.099688</td>\n    </tr>\n    <tr>\n      <th>62773</th>\n      <td>62773</td>\n      <td>2020-09-13</td>\n      <td>no</td>\n      <td>Belgium</td>\n      <td>93455</td>\n      <td>96.444213</td>\n      <td>93433.4</td>\n      <td>97.997033</td>\n    </tr>\n    <tr>\n      <th>62774</th>\n      <td>62774</td>\n      <td>2020-09-13</td>\n      <td>no</td>\n      <td>Albania</td>\n      <td>11353</td>\n      <td>67.387550</td>\n      <td>11349.2</td>\n      <td>68.927295</td>\n    </tr>\n    <tr>\n      <th>62775</th>\n      <td>62775</td>\n      <td>2020-09-13</td>\n      <td>no</td>\n      <td>Zimbabwe</td>\n      <td>7526</td>\n      <td>319.333333</td>\n      <td>7528.8</td>\n      <td>301.361446</td>\n    </tr>\n  </tbody>\n</table>\n<p>62776 rows × 8 columns</p>\n</div>"
     },
     "metadata": {},
     "execution_count": 55
    }
   ],
   "source": [
    "pd_result_larg"
   ]
  },
  {
   "cell_type": "code",
   "execution_count": 56,
   "metadata": {},
   "outputs": [
    {
     "output_type": "execute_result",
     "data": {
      "text/plain": "            date state country   deaths\n61500 2020-09-09    no   India  75062.0\n61767 2020-09-10    no   India  76271.0\n62032 2020-09-11    no   India  77472.0\n62299 2020-09-12    no   India  78586.0\n62565 2020-09-13    no   India  79722.0",
      "text/html": "<div>\n<style scoped>\n    .dataframe tbody tr th:only-of-type {\n        vertical-align: middle;\n    }\n\n    .dataframe tbody tr th {\n        vertical-align: top;\n    }\n\n    .dataframe thead th {\n        text-align: right;\n    }\n</style>\n<table border=\"1\" class=\"dataframe\">\n  <thead>\n    <tr style=\"text-align: right;\">\n      <th></th>\n      <th>date</th>\n      <th>state</th>\n      <th>country</th>\n      <th>deaths</th>\n    </tr>\n  </thead>\n  <tbody>\n    <tr>\n      <th>61500</th>\n      <td>2020-09-09</td>\n      <td>no</td>\n      <td>India</td>\n      <td>75062.0</td>\n    </tr>\n    <tr>\n      <th>61767</th>\n      <td>2020-09-10</td>\n      <td>no</td>\n      <td>India</td>\n      <td>76271.0</td>\n    </tr>\n    <tr>\n      <th>62032</th>\n      <td>2020-09-11</td>\n      <td>no</td>\n      <td>India</td>\n      <td>77472.0</td>\n    </tr>\n    <tr>\n      <th>62299</th>\n      <td>2020-09-12</td>\n      <td>no</td>\n      <td>India</td>\n      <td>78586.0</td>\n    </tr>\n    <tr>\n      <th>62565</th>\n      <td>2020-09-13</td>\n      <td>no</td>\n      <td>India</td>\n      <td>79722.0</td>\n    </tr>\n  </tbody>\n</table>\n</div>"
     },
     "metadata": {},
     "execution_count": 56
    }
   ],
   "source": [
    "pd_JH_data_deaths=pd.read_csv('../data/processed/COVID_relational_deaths.csv',sep=';',parse_dates=[0])\n",
    "pd_JH_data_deaths=pd_JH_data_deaths.sort_values('date',ascending=True).reset_index(drop=True).copy()\n",
    "pd_JH_data_deaths[pd_JH_data_deaths['country']=='India'].tail()"
   ]
  },
  {
   "cell_type": "code",
   "execution_count": 57,
   "metadata": {},
   "outputs": [],
   "source": [
    "pd_DR_result_death = pd_JH_data_deaths[['state','country','deaths']].reset_index()"
   ]
  },
  {
   "cell_type": "code",
   "execution_count": 58,
   "metadata": {},
   "outputs": [
    {
     "output_type": "execute_result",
     "data": {
      "text/plain": "   index    state       country  deaths\n0      0  Alberta        Canada     0.0\n1      1       no  Korea, South     0.0\n2      2       no        Kosovo     0.0\n3      3       no        Kuwait     0.0\n4      4       no    Kyrgyzstan     0.0",
      "text/html": "<div>\n<style scoped>\n    .dataframe tbody tr th:only-of-type {\n        vertical-align: middle;\n    }\n\n    .dataframe tbody tr th {\n        vertical-align: top;\n    }\n\n    .dataframe thead th {\n        text-align: right;\n    }\n</style>\n<table border=\"1\" class=\"dataframe\">\n  <thead>\n    <tr style=\"text-align: right;\">\n      <th></th>\n      <th>index</th>\n      <th>state</th>\n      <th>country</th>\n      <th>deaths</th>\n    </tr>\n  </thead>\n  <tbody>\n    <tr>\n      <th>0</th>\n      <td>0</td>\n      <td>Alberta</td>\n      <td>Canada</td>\n      <td>0.0</td>\n    </tr>\n    <tr>\n      <th>1</th>\n      <td>1</td>\n      <td>no</td>\n      <td>Korea, South</td>\n      <td>0.0</td>\n    </tr>\n    <tr>\n      <th>2</th>\n      <td>2</td>\n      <td>no</td>\n      <td>Kosovo</td>\n      <td>0.0</td>\n    </tr>\n    <tr>\n      <th>3</th>\n      <td>3</td>\n      <td>no</td>\n      <td>Kuwait</td>\n      <td>0.0</td>\n    </tr>\n    <tr>\n      <th>4</th>\n      <td>4</td>\n      <td>no</td>\n      <td>Kyrgyzstan</td>\n      <td>0.0</td>\n    </tr>\n  </tbody>\n</table>\n</div>"
     },
     "metadata": {},
     "execution_count": 58
    }
   ],
   "source": [
    "pd_DR_result_death.head()"
   ]
  },
  {
   "cell_type": "code",
   "execution_count": 59,
   "metadata": {},
   "outputs": [
    {
     "output_type": "execute_result",
     "data": {
      "text/plain": "       index       date state   country  confirmed  confirmed_DR  \\\n62771  62771 2020-09-13    no  Barbados        181    360.666667   \n62772  62772 2020-09-13    no   Belarus      74173    380.346187   \n62773  62773 2020-09-13    no   Belgium      93455     96.444213   \n62774  62774 2020-09-13    no   Albania      11353     67.387550   \n62775  62775 2020-09-13    no  Zimbabwe       7526    319.333333   \n\n       confirmed_filtered  confirmed_filtered_DR  deaths  \n62771               180.6             902.000000     7.0  \n62772             74170.2             384.099688   750.0  \n62773             93433.4              97.997033  9925.0  \n62774             11349.2              68.927295   334.0  \n62775              7528.8             301.361446   224.0  ",
      "text/html": "<div>\n<style scoped>\n    .dataframe tbody tr th:only-of-type {\n        vertical-align: middle;\n    }\n\n    .dataframe tbody tr th {\n        vertical-align: top;\n    }\n\n    .dataframe thead th {\n        text-align: right;\n    }\n</style>\n<table border=\"1\" class=\"dataframe\">\n  <thead>\n    <tr style=\"text-align: right;\">\n      <th></th>\n      <th>index</th>\n      <th>date</th>\n      <th>state</th>\n      <th>country</th>\n      <th>confirmed</th>\n      <th>confirmed_DR</th>\n      <th>confirmed_filtered</th>\n      <th>confirmed_filtered_DR</th>\n      <th>deaths</th>\n    </tr>\n  </thead>\n  <tbody>\n    <tr>\n      <th>62771</th>\n      <td>62771</td>\n      <td>2020-09-13</td>\n      <td>no</td>\n      <td>Barbados</td>\n      <td>181</td>\n      <td>360.666667</td>\n      <td>180.6</td>\n      <td>902.000000</td>\n      <td>7.0</td>\n    </tr>\n    <tr>\n      <th>62772</th>\n      <td>62772</td>\n      <td>2020-09-13</td>\n      <td>no</td>\n      <td>Belarus</td>\n      <td>74173</td>\n      <td>380.346187</td>\n      <td>74170.2</td>\n      <td>384.099688</td>\n      <td>750.0</td>\n    </tr>\n    <tr>\n      <th>62773</th>\n      <td>62773</td>\n      <td>2020-09-13</td>\n      <td>no</td>\n      <td>Belgium</td>\n      <td>93455</td>\n      <td>96.444213</td>\n      <td>93433.4</td>\n      <td>97.997033</td>\n      <td>9925.0</td>\n    </tr>\n    <tr>\n      <th>62774</th>\n      <td>62774</td>\n      <td>2020-09-13</td>\n      <td>no</td>\n      <td>Albania</td>\n      <td>11353</td>\n      <td>67.387550</td>\n      <td>11349.2</td>\n      <td>68.927295</td>\n      <td>334.0</td>\n    </tr>\n    <tr>\n      <th>62775</th>\n      <td>62775</td>\n      <td>2020-09-13</td>\n      <td>no</td>\n      <td>Zimbabwe</td>\n      <td>7526</td>\n      <td>319.333333</td>\n      <td>7528.8</td>\n      <td>301.361446</td>\n      <td>224.0</td>\n    </tr>\n  </tbody>\n</table>\n</div>"
     },
     "metadata": {},
     "execution_count": 59
    }
   ],
   "source": [
    "pd_result_larg=pd.merge(pd_result_larg,pd_DR_result_death[['index','deaths']],on=['index'],how='left')\n",
    "pd_result_larg.tail()"
   ]
  },
  {
   "cell_type": "code",
   "execution_count": 60,
   "metadata": {},
   "outputs": [],
   "source": [
    "pd_result_larg.to_csv('../data/processed/COVID_final_set.csv',sep=';',index=False)"
   ]
  },
  {
   "cell_type": "code",
   "execution_count": 61,
   "metadata": {},
   "outputs": [
    {
     "output_type": "execute_result",
     "data": {
      "text/plain": "            date state country  recovered\n58489 2020-09-09    no   India  3471783.0\n58742 2020-09-10    no   India  3542663.0\n58995 2020-09-11    no   India  3624196.0\n59248 2020-09-12    no   India  3702595.0\n59502 2020-09-13    no   India  3780107.0",
      "text/html": "<div>\n<style scoped>\n    .dataframe tbody tr th:only-of-type {\n        vertical-align: middle;\n    }\n\n    .dataframe tbody tr th {\n        vertical-align: top;\n    }\n\n    .dataframe thead th {\n        text-align: right;\n    }\n</style>\n<table border=\"1\" class=\"dataframe\">\n  <thead>\n    <tr style=\"text-align: right;\">\n      <th></th>\n      <th>date</th>\n      <th>state</th>\n      <th>country</th>\n      <th>recovered</th>\n    </tr>\n  </thead>\n  <tbody>\n    <tr>\n      <th>58489</th>\n      <td>2020-09-09</td>\n      <td>no</td>\n      <td>India</td>\n      <td>3471783.0</td>\n    </tr>\n    <tr>\n      <th>58742</th>\n      <td>2020-09-10</td>\n      <td>no</td>\n      <td>India</td>\n      <td>3542663.0</td>\n    </tr>\n    <tr>\n      <th>58995</th>\n      <td>2020-09-11</td>\n      <td>no</td>\n      <td>India</td>\n      <td>3624196.0</td>\n    </tr>\n    <tr>\n      <th>59248</th>\n      <td>2020-09-12</td>\n      <td>no</td>\n      <td>India</td>\n      <td>3702595.0</td>\n    </tr>\n    <tr>\n      <th>59502</th>\n      <td>2020-09-13</td>\n      <td>no</td>\n      <td>India</td>\n      <td>3780107.0</td>\n    </tr>\n  </tbody>\n</table>\n</div>"
     },
     "metadata": {},
     "execution_count": 61
    }
   ],
   "source": [
    "pd_JH_data_recov=pd.read_csv('../data/processed/COVID_relational_recovered.csv',sep=';',parse_dates=[0])\n",
    "pd_JH_data_recov=pd_JH_data_recov.sort_values('date',ascending=True).reset_index(drop=True).copy()\n",
    "pd_JH_data_recov[pd_JH_data_recov['country']=='India'].tail()"
   ]
  },
  {
   "cell_type": "code",
   "execution_count": 62,
   "metadata": {},
   "outputs": [],
   "source": [
    "pd_DR_result_recov = pd_JH_data_recov[['state','date','country','recovered']].reset_index()"
   ]
  },
  {
   "cell_type": "code",
   "execution_count": 63,
   "metadata": {},
   "outputs": [
    {
     "output_type": "execute_result",
     "data": {
      "text/plain": "       index state       date      country  recovered\n58708  58708    no 2020-09-10     Maldives     6559.0\n58709  58709    no 2020-09-10  New Zealand     1655.0\n58710  58710    no 2020-09-10        Malta     1803.0\n58711  58711    no 2020-09-10   Mauritania     6758.0\n58712  58712    no 2020-09-10    Mauritius      335.0\n...      ...   ...        ...          ...        ...\n59703  59703    no 2020-09-13       Brazil  3723206.0\n59704  59704    no 2020-09-13       Brunei      139.0\n59705  59705    no 2020-09-13     Bulgaria    12767.0\n59706  59706    no 2020-09-13      Bahrain    53681.0\n59707  59707    no 2020-09-13     Zimbabwe     5678.0\n\n[1000 rows x 5 columns]",
      "text/html": "<div>\n<style scoped>\n    .dataframe tbody tr th:only-of-type {\n        vertical-align: middle;\n    }\n\n    .dataframe tbody tr th {\n        vertical-align: top;\n    }\n\n    .dataframe thead th {\n        text-align: right;\n    }\n</style>\n<table border=\"1\" class=\"dataframe\">\n  <thead>\n    <tr style=\"text-align: right;\">\n      <th></th>\n      <th>index</th>\n      <th>state</th>\n      <th>date</th>\n      <th>country</th>\n      <th>recovered</th>\n    </tr>\n  </thead>\n  <tbody>\n    <tr>\n      <th>58708</th>\n      <td>58708</td>\n      <td>no</td>\n      <td>2020-09-10</td>\n      <td>Maldives</td>\n      <td>6559.0</td>\n    </tr>\n    <tr>\n      <th>58709</th>\n      <td>58709</td>\n      <td>no</td>\n      <td>2020-09-10</td>\n      <td>New Zealand</td>\n      <td>1655.0</td>\n    </tr>\n    <tr>\n      <th>58710</th>\n      <td>58710</td>\n      <td>no</td>\n      <td>2020-09-10</td>\n      <td>Malta</td>\n      <td>1803.0</td>\n    </tr>\n    <tr>\n      <th>58711</th>\n      <td>58711</td>\n      <td>no</td>\n      <td>2020-09-10</td>\n      <td>Mauritania</td>\n      <td>6758.0</td>\n    </tr>\n    <tr>\n      <th>58712</th>\n      <td>58712</td>\n      <td>no</td>\n      <td>2020-09-10</td>\n      <td>Mauritius</td>\n      <td>335.0</td>\n    </tr>\n    <tr>\n      <th>...</th>\n      <td>...</td>\n      <td>...</td>\n      <td>...</td>\n      <td>...</td>\n      <td>...</td>\n    </tr>\n    <tr>\n      <th>59703</th>\n      <td>59703</td>\n      <td>no</td>\n      <td>2020-09-13</td>\n      <td>Brazil</td>\n      <td>3723206.0</td>\n    </tr>\n    <tr>\n      <th>59704</th>\n      <td>59704</td>\n      <td>no</td>\n      <td>2020-09-13</td>\n      <td>Brunei</td>\n      <td>139.0</td>\n    </tr>\n    <tr>\n      <th>59705</th>\n      <td>59705</td>\n      <td>no</td>\n      <td>2020-09-13</td>\n      <td>Bulgaria</td>\n      <td>12767.0</td>\n    </tr>\n    <tr>\n      <th>59706</th>\n      <td>59706</td>\n      <td>no</td>\n      <td>2020-09-13</td>\n      <td>Bahrain</td>\n      <td>53681.0</td>\n    </tr>\n    <tr>\n      <th>59707</th>\n      <td>59707</td>\n      <td>no</td>\n      <td>2020-09-13</td>\n      <td>Zimbabwe</td>\n      <td>5678.0</td>\n    </tr>\n  </tbody>\n</table>\n<p>1000 rows × 5 columns</p>\n</div>"
     },
     "metadata": {},
     "execution_count": 63
    }
   ],
   "source": [
    "pd_DR_result_recov.tail(1000\n",
    ")"
   ]
  },
  {
   "cell_type": "code",
   "execution_count": 64,
   "metadata": {},
   "outputs": [],
   "source": [
    "pd_DR_result_recov.to_csv('../data/processed/COVID_final_recov_set.csv',sep=';',index=False)"
   ]
  },
  {
   "cell_type": "code",
   "execution_count": 65,
   "metadata": {},
   "outputs": [
    {
     "output_type": "execute_result",
     "data": {
      "text/plain": "Index(['index', 'date', 'state', 'country', 'confirmed', 'confirmed_DR',\n       'confirmed_filtered', 'confirmed_filtered_DR', 'deaths'],\n      dtype='object')"
     },
     "metadata": {},
     "execution_count": 65
    }
   ],
   "source": [
    "pd_result_larg.columns"
   ]
  },
  {
   "cell_type": "code",
   "execution_count": 66,
   "metadata": {},
   "outputs": [],
   "source": [
    "pd_daily = pd_result_larg[['state','country','confirmed','date','deaths']].groupby(['country','date']).agg(np.sum).reset_index()\n",
    "pd_daily_recov = pd.read_csv('../data/processed/COVID_final_recov_set.csv',sep=';',parse_dates=[0])\n",
    "pd_daily_recov = pd_daily_recov[['state','country','recovered','date']].groupby(['country','date']).agg(np.sum).reset_index()\n"
   ]
  },
  {
   "cell_type": "code",
   "execution_count": 67,
   "metadata": {},
   "outputs": [
    {
     "output_type": "execute_result",
     "data": {
      "text/plain": "[0, 0, 0, 0, 0, 0, 0, 1, 1]"
     },
     "metadata": {},
     "execution_count": 67
    }
   ],
   "source": [
    "list(pd_daily[pd_daily['country']=='India']['confirmed'])[1:10]"
   ]
  },
  {
   "cell_type": "code",
   "execution_count": 68,
   "metadata": {
    "tags": []
   },
   "outputs": [
    {
     "output_type": "execute_result",
     "data": {
      "text/plain": "[2, 3, 4]"
     },
     "metadata": {},
     "execution_count": 68
    }
   ],
   "source": [
    "a = [1,2,3,4]\n",
    "a.pop(0)\n",
    "a"
   ]
  },
  {
   "cell_type": "code",
   "execution_count": 69,
   "metadata": {},
   "outputs": [],
   "source": [
    "def get_daily_list(total_list):\n",
    "    daily_list=[]\n",
    "    daily_list.append(total_list.pop(0))\n",
    "    for each in range(len(total_list)):\n",
    "        if each == 0:\n",
    "            daily_list.append(total_list[each] - total_list[0])\n",
    "        else:\n",
    "            daily_list.append(total_list[each] - total_list[each-1])\n",
    "    \n",
    "    return daily_list\n",
    "\n"
   ]
  },
  {
   "cell_type": "code",
   "execution_count": 70,
   "metadata": {},
   "outputs": [
    {
     "output_type": "execute_result",
     "data": {
      "text/plain": "      country       date  confirmed  deaths\n18644   India 2020-01-22          0     0.0\n18645   India 2020-01-23          0     0.0\n18646   India 2020-01-24          0     0.0\n18647   India 2020-01-25          0     0.0\n18648   India 2020-01-26          0     0.0\n18649   India 2020-01-27          0     0.0\n18650   India 2020-01-28          0     0.0\n18651   India 2020-01-29          0     0.0\n18652   India 2020-01-30          1     0.0\n18653   India 2020-01-31          1     0.0\n18654   India 2020-02-01          1     0.0\n18655   India 2020-02-02          2     0.0\n18656   India 2020-02-03          3     0.0\n18657   India 2020-02-04          3     0.0\n18658   India 2020-02-05          3     0.0",
      "text/html": "<div>\n<style scoped>\n    .dataframe tbody tr th:only-of-type {\n        vertical-align: middle;\n    }\n\n    .dataframe tbody tr th {\n        vertical-align: top;\n    }\n\n    .dataframe thead th {\n        text-align: right;\n    }\n</style>\n<table border=\"1\" class=\"dataframe\">\n  <thead>\n    <tr style=\"text-align: right;\">\n      <th></th>\n      <th>country</th>\n      <th>date</th>\n      <th>confirmed</th>\n      <th>deaths</th>\n    </tr>\n  </thead>\n  <tbody>\n    <tr>\n      <th>18644</th>\n      <td>India</td>\n      <td>2020-01-22</td>\n      <td>0</td>\n      <td>0.0</td>\n    </tr>\n    <tr>\n      <th>18645</th>\n      <td>India</td>\n      <td>2020-01-23</td>\n      <td>0</td>\n      <td>0.0</td>\n    </tr>\n    <tr>\n      <th>18646</th>\n      <td>India</td>\n      <td>2020-01-24</td>\n      <td>0</td>\n      <td>0.0</td>\n    </tr>\n    <tr>\n      <th>18647</th>\n      <td>India</td>\n      <td>2020-01-25</td>\n      <td>0</td>\n      <td>0.0</td>\n    </tr>\n    <tr>\n      <th>18648</th>\n      <td>India</td>\n      <td>2020-01-26</td>\n      <td>0</td>\n      <td>0.0</td>\n    </tr>\n    <tr>\n      <th>18649</th>\n      <td>India</td>\n      <td>2020-01-27</td>\n      <td>0</td>\n      <td>0.0</td>\n    </tr>\n    <tr>\n      <th>18650</th>\n      <td>India</td>\n      <td>2020-01-28</td>\n      <td>0</td>\n      <td>0.0</td>\n    </tr>\n    <tr>\n      <th>18651</th>\n      <td>India</td>\n      <td>2020-01-29</td>\n      <td>0</td>\n      <td>0.0</td>\n    </tr>\n    <tr>\n      <th>18652</th>\n      <td>India</td>\n      <td>2020-01-30</td>\n      <td>1</td>\n      <td>0.0</td>\n    </tr>\n    <tr>\n      <th>18653</th>\n      <td>India</td>\n      <td>2020-01-31</td>\n      <td>1</td>\n      <td>0.0</td>\n    </tr>\n    <tr>\n      <th>18654</th>\n      <td>India</td>\n      <td>2020-02-01</td>\n      <td>1</td>\n      <td>0.0</td>\n    </tr>\n    <tr>\n      <th>18655</th>\n      <td>India</td>\n      <td>2020-02-02</td>\n      <td>2</td>\n      <td>0.0</td>\n    </tr>\n    <tr>\n      <th>18656</th>\n      <td>India</td>\n      <td>2020-02-03</td>\n      <td>3</td>\n      <td>0.0</td>\n    </tr>\n    <tr>\n      <th>18657</th>\n      <td>India</td>\n      <td>2020-02-04</td>\n      <td>3</td>\n      <td>0.0</td>\n    </tr>\n    <tr>\n      <th>18658</th>\n      <td>India</td>\n      <td>2020-02-05</td>\n      <td>3</td>\n      <td>0.0</td>\n    </tr>\n  </tbody>\n</table>\n</div>"
     },
     "metadata": {},
     "execution_count": 70
    }
   ],
   "source": [
    "pd_daily[pd_daily['country']=='India'].head(15)"
   ]
  },
  {
   "cell_type": "code",
   "execution_count": 70,
   "metadata": {},
   "outputs": [],
   "source": [
    "    "
   ]
  },
  {
   "cell_type": "code",
   "execution_count": 71,
   "metadata": {},
   "outputs": [
    {
     "output_type": "execute_result",
     "data": {
      "text/plain": "        country       date  confirmed  deaths\n44363  Zimbabwe 2020-09-09       7429   222.0\n44364  Zimbabwe 2020-09-10       7453   222.0\n44365  Zimbabwe 2020-09-11       7479   224.0\n44366  Zimbabwe 2020-09-12       7508   224.0\n44367  Zimbabwe 2020-09-13       7526   224.0",
      "text/html": "<div>\n<style scoped>\n    .dataframe tbody tr th:only-of-type {\n        vertical-align: middle;\n    }\n\n    .dataframe tbody tr th {\n        vertical-align: top;\n    }\n\n    .dataframe thead th {\n        text-align: right;\n    }\n</style>\n<table border=\"1\" class=\"dataframe\">\n  <thead>\n    <tr style=\"text-align: right;\">\n      <th></th>\n      <th>country</th>\n      <th>date</th>\n      <th>confirmed</th>\n      <th>deaths</th>\n    </tr>\n  </thead>\n  <tbody>\n    <tr>\n      <th>44363</th>\n      <td>Zimbabwe</td>\n      <td>2020-09-09</td>\n      <td>7429</td>\n      <td>222.0</td>\n    </tr>\n    <tr>\n      <th>44364</th>\n      <td>Zimbabwe</td>\n      <td>2020-09-10</td>\n      <td>7453</td>\n      <td>222.0</td>\n    </tr>\n    <tr>\n      <th>44365</th>\n      <td>Zimbabwe</td>\n      <td>2020-09-11</td>\n      <td>7479</td>\n      <td>224.0</td>\n    </tr>\n    <tr>\n      <th>44366</th>\n      <td>Zimbabwe</td>\n      <td>2020-09-12</td>\n      <td>7508</td>\n      <td>224.0</td>\n    </tr>\n    <tr>\n      <th>44367</th>\n      <td>Zimbabwe</td>\n      <td>2020-09-13</td>\n      <td>7526</td>\n      <td>224.0</td>\n    </tr>\n  </tbody>\n</table>\n</div>"
     },
     "metadata": {},
     "execution_count": 71
    }
   ],
   "source": [
    "aa= pd_daily.copy()\n",
    "aa.tail()"
   ]
  },
  {
   "cell_type": "code",
   "execution_count": 278,
   "metadata": {},
   "outputs": [],
   "source": []
  },
  {
   "cell_type": "code",
   "execution_count": 72,
   "metadata": {
    "tags": []
   },
   "outputs": [],
   "source": [
    "def calc_daily_values_all_countries(all_countries):\n",
    "    df_daily_all= pd.DataFrame()\n",
    "    for each_country in all_countries:\n",
    "        daily_list = get_daily_list(list(pd_daily[pd_daily['country']==each_country]['confirmed']))\n",
    "        df_daily = pd.DataFrame(np.array(daily_list))\n",
    "\n",
    "        \n",
    "        df_daily_death = np.array(get_daily_list(list(pd_daily[pd_daily['country']==each_country]['deaths'])))\n",
    "        df_daily_recov = np.array(get_daily_list(list(pd_daily_recov[pd_daily['country']==each_country]['recovered'])))\n",
    "\n",
    "\n",
    "        df_daily = df_daily.rename(columns={0:'daily_confirmed'})\n",
    "        df_daily['daily_deaths'] = df_daily_death\n",
    "        df_daily['daily_recovered'] = df_daily_recov\n",
    "        df_daily['date'] = np.array(pd_daily[pd_daily['country']==each_country]['date'])\n",
    "        df_daily['country'] = np.array(pd_daily[pd_daily['country']==each_country]['country'])\n",
    "        df_daily_all = pd.concat([df_daily_all,df_daily])\n",
    "\n",
    "    return df_daily_all\n",
    "    \n"
   ]
  },
  {
   "cell_type": "code",
   "execution_count": 73,
   "metadata": {},
   "outputs": [
    {
     "output_type": "execute_result",
     "data": {
      "text/plain": "array(['Afghanistan', 'Albania', 'Algeria', 'Andorra', 'Angola',\n       'Antigua and Barbuda', 'Argentina', 'Armenia', 'Australia',\n       'Austria', 'Azerbaijan', 'Bahamas', 'Bahrain', 'Bangladesh',\n       'Barbados', 'Belarus', 'Belgium', 'Belize', 'Benin', 'Bhutan',\n       'Bolivia', 'Bosnia and Herzegovina', 'Botswana', 'Brazil',\n       'Brunei', 'Bulgaria', 'Burkina Faso', 'Burma', 'Burundi',\n       'Cabo Verde', 'Cambodia', 'Cameroon', 'Canada',\n       'Central African Republic', 'Chad', 'Chile', 'China', 'Colombia',\n       'Comoros', 'Congo (Brazzaville)', 'Congo (Kinshasa)', 'Costa Rica',\n       \"Cote d'Ivoire\", 'Croatia', 'Cuba', 'Cyprus', 'Czechia', 'Denmark',\n       'Diamond Princess', 'Djibouti', 'Dominica', 'Dominican Republic',\n       'Ecuador', 'Egypt', 'El Salvador', 'Equatorial Guinea', 'Eritrea',\n       'Estonia', 'Eswatini', 'Ethiopia', 'Fiji', 'Finland', 'France',\n       'Gabon', 'Gambia', 'Georgia', 'Germany', 'Ghana', 'Greece',\n       'Grenada', 'Guatemala', 'Guinea', 'Guinea-Bissau', 'Guyana',\n       'Haiti', 'Holy See', 'Honduras', 'Hungary', 'Iceland', 'India',\n       'Indonesia', 'Iran', 'Iraq', 'Ireland', 'Israel', 'Italy',\n       'Jamaica', 'Japan', 'Jordan', 'Kazakhstan', 'Kenya',\n       'Korea, South', 'Kosovo', 'Kuwait', 'Kyrgyzstan', 'Laos', 'Latvia',\n       'Lebanon', 'Lesotho', 'Liberia', 'Libya', 'Liechtenstein',\n       'Lithuania', 'Luxembourg', 'MS Zaandam', 'Madagascar', 'Malawi',\n       'Malaysia', 'Maldives', 'Mali', 'Malta', 'Mauritania', 'Mauritius',\n       'Mexico', 'Moldova', 'Monaco', 'Mongolia', 'Montenegro', 'Morocco',\n       'Mozambique', 'Namibia', 'Nepal', 'Netherlands', 'New Zealand',\n       'Nicaragua', 'Niger', 'Nigeria', 'North Macedonia', 'Norway',\n       'Oman', 'Pakistan', 'Panama', 'Papua New Guinea', 'Paraguay',\n       'Peru', 'Philippines', 'Poland', 'Portugal', 'Qatar', 'Romania',\n       'Russia', 'Rwanda', 'Saint Kitts and Nevis', 'Saint Lucia',\n       'Saint Vincent and the Grenadines', 'San Marino',\n       'Sao Tome and Principe', 'Saudi Arabia', 'Senegal', 'Serbia',\n       'Seychelles', 'Sierra Leone', 'Singapore', 'Slovakia', 'Slovenia',\n       'Somalia', 'South Africa', 'South Sudan', 'Spain', 'Sri Lanka',\n       'Sudan', 'Suriname', 'Sweden', 'Switzerland', 'Syria', 'Taiwan*',\n       'Tajikistan', 'Tanzania', 'Thailand', 'Timor-Leste', 'Togo',\n       'Trinidad and Tobago', 'Tunisia', 'Turkey', 'US', 'Uganda',\n       'Ukraine', 'United Arab Emirates', 'United Kingdom', 'Uruguay',\n       'Uzbekistan', 'Venezuela', 'Vietnam', 'West Bank and Gaza',\n       'Western Sahara', 'Yemen', 'Zambia', 'Zimbabwe'], dtype=object)"
     },
     "metadata": {},
     "execution_count": 73
    }
   ],
   "source": [
    "pd_daily['country'].unique()"
   ]
  },
  {
   "cell_type": "code",
   "execution_count": 74,
   "metadata": {},
   "outputs": [],
   "source": [
    "df_daily_all= calc_daily_values_all_countries(pd_daily['country'].unique())\n",
    "df_daily_all = df_daily_all.reset_index()"
   ]
  },
  {
   "cell_type": "code",
   "execution_count": 75,
   "metadata": {},
   "outputs": [],
   "source": [
    "\n",
    "df_daily_all.daily_deaths = df_daily_all.daily_deaths.mask(df_daily_all.daily_deaths.lt(0), 0)\n"
   ]
  },
  {
   "cell_type": "code",
   "execution_count": 76,
   "metadata": {},
   "outputs": [],
   "source": [
    "df_daily_all.to_csv('../data/processed/COVID_final_daily_set.csv',sep=';',index=False)"
   ]
  },
  {
   "cell_type": "code",
   "execution_count": null,
   "metadata": {},
   "outputs": [],
   "source": []
  }
 ],
 "metadata": {
  "kernelspec": {
   "display_name": "Python 3.7.4 64-bit ('base': conda)",
   "language": "python",
   "name": "python_defaultSpec_1600109454006"
  },
  "language_info": {
   "codemirror_mode": {
    "name": "ipython",
    "version": 3
   },
   "file_extension": ".py",
   "mimetype": "text/x-python",
   "name": "python",
   "nbconvert_exporter": "python",
   "pygments_lexer": "ipython3",
   "version": "3.7.4-final"
  }
 },
 "nbformat": 4,
 "nbformat_minor": 2
}