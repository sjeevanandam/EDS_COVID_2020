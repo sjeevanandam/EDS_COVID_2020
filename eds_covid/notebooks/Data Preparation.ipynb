{
 "cells": [
  {
   "cell_type": "code",
   "execution_count": null,
   "metadata": {},
   "outputs": [],
   "source": []
  },
  {
   "cell_type": "code",
   "execution_count": 1,
   "metadata": {},
   "outputs": [],
   "source": [
    "import pandas as pd\n",
    "import numpy as np\n",
    "\n",
    "from datetime import datetime\n",
    "\n",
    "%matplotlib inline\n",
    "pd.set_option('display.max_rows', 500)"
   ]
  },
  {
   "cell_type": "code",
   "execution_count": 2,
   "metadata": {},
   "outputs": [],
   "source": [
    "data_path='../data/raw/COVID-19/csse_covid_19_data/csse_covid_19_time_series/time_series_covid19_confirmed_global.csv'\n",
    "pd_raw=pd.read_csv(data_path)"
   ]
  },
  {
   "cell_type": "code",
   "execution_count": 3,
   "metadata": {},
   "outputs": [
    {
     "output_type": "execute_result",
     "data": {
      "text/plain": "  Province/State Country/Region       Lat       Long  1/22/20  1/23/20  \\\n0            NaN    Afghanistan  33.93911  67.709953        0        0   \n1            NaN        Albania  41.15330  20.168300        0        0   \n2            NaN        Algeria  28.03390   1.659600        0        0   \n3            NaN        Andorra  42.50630   1.521800        0        0   \n4            NaN         Angola -11.20270  17.873900        0        0   \n\n   1/24/20  1/25/20  1/26/20  1/27/20  ...  9/3/20  9/4/20  9/5/20  9/6/20  \\\n0        0        0        0        0  ...   38288   38304   38324   38398   \n1        0        0        0        0  ...    9844    9967   10102   10255   \n2        0        0        0        0  ...   45469   45773   46071   46364   \n3        0        0        0        0  ...    1199    1215    1215    1215   \n4        0        0        0        0  ...    2805    2876    2935    2965   \n\n   9/7/20  9/8/20  9/9/20  9/10/20  9/11/20  9/12/20  \n0   38494   38520   38544    38572    38606    38641  \n1   10406   10553   10704    10860    11021    11185  \n2   46653   46938   47216    47488    47752    48007  \n3    1261    1261    1301     1301     1344     1344  \n4    2981    3033    3092     3217     3279     3335  \n\n[5 rows x 239 columns]",
      "text/html": "<div>\n<style scoped>\n    .dataframe tbody tr th:only-of-type {\n        vertical-align: middle;\n    }\n\n    .dataframe tbody tr th {\n        vertical-align: top;\n    }\n\n    .dataframe thead th {\n        text-align: right;\n    }\n</style>\n<table border=\"1\" class=\"dataframe\">\n  <thead>\n    <tr style=\"text-align: right;\">\n      <th></th>\n      <th>Province/State</th>\n      <th>Country/Region</th>\n      <th>Lat</th>\n      <th>Long</th>\n      <th>1/22/20</th>\n      <th>1/23/20</th>\n      <th>1/24/20</th>\n      <th>1/25/20</th>\n      <th>1/26/20</th>\n      <th>1/27/20</th>\n      <th>...</th>\n      <th>9/3/20</th>\n      <th>9/4/20</th>\n      <th>9/5/20</th>\n      <th>9/6/20</th>\n      <th>9/7/20</th>\n      <th>9/8/20</th>\n      <th>9/9/20</th>\n      <th>9/10/20</th>\n      <th>9/11/20</th>\n      <th>9/12/20</th>\n    </tr>\n  </thead>\n  <tbody>\n    <tr>\n      <th>0</th>\n      <td>NaN</td>\n      <td>Afghanistan</td>\n      <td>33.93911</td>\n      <td>67.709953</td>\n      <td>0</td>\n      <td>0</td>\n      <td>0</td>\n      <td>0</td>\n      <td>0</td>\n      <td>0</td>\n      <td>...</td>\n      <td>38288</td>\n      <td>38304</td>\n      <td>38324</td>\n      <td>38398</td>\n      <td>38494</td>\n      <td>38520</td>\n      <td>38544</td>\n      <td>38572</td>\n      <td>38606</td>\n      <td>38641</td>\n    </tr>\n    <tr>\n      <th>1</th>\n      <td>NaN</td>\n      <td>Albania</td>\n      <td>41.15330</td>\n      <td>20.168300</td>\n      <td>0</td>\n      <td>0</td>\n      <td>0</td>\n      <td>0</td>\n      <td>0</td>\n      <td>0</td>\n      <td>...</td>\n      <td>9844</td>\n      <td>9967</td>\n      <td>10102</td>\n      <td>10255</td>\n      <td>10406</td>\n      <td>10553</td>\n      <td>10704</td>\n      <td>10860</td>\n      <td>11021</td>\n      <td>11185</td>\n    </tr>\n    <tr>\n      <th>2</th>\n      <td>NaN</td>\n      <td>Algeria</td>\n      <td>28.03390</td>\n      <td>1.659600</td>\n      <td>0</td>\n      <td>0</td>\n      <td>0</td>\n      <td>0</td>\n      <td>0</td>\n      <td>0</td>\n      <td>...</td>\n      <td>45469</td>\n      <td>45773</td>\n      <td>46071</td>\n      <td>46364</td>\n      <td>46653</td>\n      <td>46938</td>\n      <td>47216</td>\n      <td>47488</td>\n      <td>47752</td>\n      <td>48007</td>\n    </tr>\n    <tr>\n      <th>3</th>\n      <td>NaN</td>\n      <td>Andorra</td>\n      <td>42.50630</td>\n      <td>1.521800</td>\n      <td>0</td>\n      <td>0</td>\n      <td>0</td>\n      <td>0</td>\n      <td>0</td>\n      <td>0</td>\n      <td>...</td>\n      <td>1199</td>\n      <td>1215</td>\n      <td>1215</td>\n      <td>1215</td>\n      <td>1261</td>\n      <td>1261</td>\n      <td>1301</td>\n      <td>1301</td>\n      <td>1344</td>\n      <td>1344</td>\n    </tr>\n    <tr>\n      <th>4</th>\n      <td>NaN</td>\n      <td>Angola</td>\n      <td>-11.20270</td>\n      <td>17.873900</td>\n      <td>0</td>\n      <td>0</td>\n      <td>0</td>\n      <td>0</td>\n      <td>0</td>\n      <td>0</td>\n      <td>...</td>\n      <td>2805</td>\n      <td>2876</td>\n      <td>2935</td>\n      <td>2965</td>\n      <td>2981</td>\n      <td>3033</td>\n      <td>3092</td>\n      <td>3217</td>\n      <td>3279</td>\n      <td>3335</td>\n    </tr>\n  </tbody>\n</table>\n<p>5 rows × 239 columns</p>\n</div>"
     },
     "metadata": {},
     "execution_count": 3
    }
   ],
   "source": [
    "pd_raw.head()"
   ]
  },
  {
   "cell_type": "code",
   "execution_count": 4,
   "metadata": {},
   "outputs": [],
   "source": [
    "time_idx=pd_raw.columns[4:]"
   ]
  },
  {
   "cell_type": "code",
   "execution_count": 5,
   "metadata": {},
   "outputs": [
    {
     "output_type": "execute_result",
     "data": {
      "text/plain": "str"
     },
     "metadata": {},
     "execution_count": 5
    }
   ],
   "source": [
    "type(time_idx[0])"
   ]
  },
  {
   "cell_type": "code",
   "execution_count": 6,
   "metadata": {},
   "outputs": [
    {
     "output_type": "execute_result",
     "data": {
      "text/plain": "      date\n0  1/22/20\n1  1/23/20\n2  1/24/20\n3  1/25/20\n4  1/26/20",
      "text/html": "<div>\n<style scoped>\n    .dataframe tbody tr th:only-of-type {\n        vertical-align: middle;\n    }\n\n    .dataframe tbody tr th {\n        vertical-align: top;\n    }\n\n    .dataframe thead th {\n        text-align: right;\n    }\n</style>\n<table border=\"1\" class=\"dataframe\">\n  <thead>\n    <tr style=\"text-align: right;\">\n      <th></th>\n      <th>date</th>\n    </tr>\n  </thead>\n  <tbody>\n    <tr>\n      <th>0</th>\n      <td>1/22/20</td>\n    </tr>\n    <tr>\n      <th>1</th>\n      <td>1/23/20</td>\n    </tr>\n    <tr>\n      <th>2</th>\n      <td>1/24/20</td>\n    </tr>\n    <tr>\n      <th>3</th>\n      <td>1/25/20</td>\n    </tr>\n    <tr>\n      <th>4</th>\n      <td>1/26/20</td>\n    </tr>\n  </tbody>\n</table>\n</div>"
     },
     "metadata": {},
     "execution_count": 6
    }
   ],
   "source": [
    "df_plot = pd.DataFrame({\n",
    "    'date':time_idx})\n",
    "df_plot.head()"
   ]
  },
  {
   "cell_type": "code",
   "execution_count": 7,
   "metadata": {},
   "outputs": [
    {
     "output_type": "execute_result",
     "data": {
      "text/plain": "9/9/20     4465863\n9/10/20    4562414\n9/11/20    4659984\n9/12/20    4754356\ndtype: int64"
     },
     "metadata": {},
     "execution_count": 7
    }
   ],
   "source": [
    "pd_raw[pd_raw['Country/Region']=='India'].iloc[:,10::].sum(axis=0)[-4:]"
   ]
  },
  {
   "cell_type": "code",
   "execution_count": 8,
   "metadata": {},
   "outputs": [],
   "source": [
    "country_list=['India',\n",
    "              'US',\n",
    "              'Spain',\n",
    "              'Germany',\n",
    "              'United Kingdom',\n",
    "              'Korea, South',\n",
    "              'Japan'\n",
    "             ] "
   ]
  },
  {
   "cell_type": "code",
   "execution_count": 9,
   "metadata": {},
   "outputs": [],
   "source": [
    "for each in country_list:\n",
    "    df_plot[each]=np.array(pd_raw[pd_raw['Country/Region']==each].iloc[:,4::].sum(axis=0))"
   ]
  },
  {
   "cell_type": "code",
   "execution_count": 10,
   "metadata": {},
   "outputs": [
    {
     "output_type": "execute_result",
     "data": {
      "text/plain": "      date  India  US  Spain  Germany  United Kingdom  Korea, South  Japan\n0  1/22/20      0   1      0        0               0             1      2\n1  1/23/20      0   1      0        0               0             1      2\n2  1/24/20      0   2      0        0               0             2      2\n3  1/25/20      0   2      0        0               0             2      2\n4  1/26/20      0   5      0        0               0             3      4",
      "text/html": "<div>\n<style scoped>\n    .dataframe tbody tr th:only-of-type {\n        vertical-align: middle;\n    }\n\n    .dataframe tbody tr th {\n        vertical-align: top;\n    }\n\n    .dataframe thead th {\n        text-align: right;\n    }\n</style>\n<table border=\"1\" class=\"dataframe\">\n  <thead>\n    <tr style=\"text-align: right;\">\n      <th></th>\n      <th>date</th>\n      <th>India</th>\n      <th>US</th>\n      <th>Spain</th>\n      <th>Germany</th>\n      <th>United Kingdom</th>\n      <th>Korea, South</th>\n      <th>Japan</th>\n    </tr>\n  </thead>\n  <tbody>\n    <tr>\n      <th>0</th>\n      <td>1/22/20</td>\n      <td>0</td>\n      <td>1</td>\n      <td>0</td>\n      <td>0</td>\n      <td>0</td>\n      <td>1</td>\n      <td>2</td>\n    </tr>\n    <tr>\n      <th>1</th>\n      <td>1/23/20</td>\n      <td>0</td>\n      <td>1</td>\n      <td>0</td>\n      <td>0</td>\n      <td>0</td>\n      <td>1</td>\n      <td>2</td>\n    </tr>\n    <tr>\n      <th>2</th>\n      <td>1/24/20</td>\n      <td>0</td>\n      <td>2</td>\n      <td>0</td>\n      <td>0</td>\n      <td>0</td>\n      <td>2</td>\n      <td>2</td>\n    </tr>\n    <tr>\n      <th>3</th>\n      <td>1/25/20</td>\n      <td>0</td>\n      <td>2</td>\n      <td>0</td>\n      <td>0</td>\n      <td>0</td>\n      <td>2</td>\n      <td>2</td>\n    </tr>\n    <tr>\n      <th>4</th>\n      <td>1/26/20</td>\n      <td>0</td>\n      <td>5</td>\n      <td>0</td>\n      <td>0</td>\n      <td>0</td>\n      <td>3</td>\n      <td>4</td>\n    </tr>\n  </tbody>\n</table>\n</div>"
     },
     "metadata": {},
     "execution_count": 10
    }
   ],
   "source": [
    "df_plot.head()"
   ]
  },
  {
   "cell_type": "code",
   "execution_count": 11,
   "metadata": {},
   "outputs": [
    {
     "output_type": "execute_result",
     "data": {
      "text/plain": "<AxesSubplot:xlabel='date'>"
     },
     "metadata": {},
     "execution_count": 11
    },
    {
     "output_type": "display_data",
     "data": {
      "text/plain": "<Figure size 432x288 with 1 Axes>",
      "image/svg+xml": "<?xml version=\"1.0\" encoding=\"utf-8\" standalone=\"no\"?>\r\n<!DOCTYPE svg PUBLIC \"-//W3C//DTD SVG 1.1//EN\"\r\n  \"http://www.w3.org/Graphics/SVG/1.1/DTD/svg11.dtd\">\r\n<!-- Created with matplotlib (https://matplotlib.org/) -->\r\n<svg height=\"272.794688pt\" version=\"1.1\" viewBox=\"0 0 362.5625 272.794688\" width=\"362.5625pt\" xmlns=\"http://www.w3.org/2000/svg\" xmlns:xlink=\"http://www.w3.org/1999/xlink\">\r\n <metadata>\r\n  <rdf:RDF xmlns:cc=\"http://creativecommons.org/ns#\" xmlns:dc=\"http://purl.org/dc/elements/1.1/\" xmlns:rdf=\"http://www.w3.org/1999/02/22-rdf-syntax-ns#\">\r\n   <cc:Work>\r\n    <dc:type rdf:resource=\"http://purl.org/dc/dcmitype/StillImage\"/>\r\n    <dc:date>2020-09-14T04:11:27.337513</dc:date>\r\n    <dc:format>image/svg+xml</dc:format>\r\n    <dc:creator>\r\n     <cc:Agent>\r\n      <dc:title>Matplotlib v3.3.1, https://matplotlib.org/</dc:title>\r\n     </cc:Agent>\r\n    </dc:creator>\r\n   </cc:Work>\r\n  </rdf:RDF>\r\n </metadata>\r\n <defs>\r\n  <style type=\"text/css\">*{stroke-linecap:butt;stroke-linejoin:round;}</style>\r\n </defs>\r\n <g id=\"figure_1\">\r\n  <g id=\"patch_1\">\r\n   <path d=\"M 0 272.794688 \r\nL 362.5625 272.794688 \r\nL 362.5625 0 \r\nL 0 0 \r\nz\r\n\" style=\"fill:none;\"/>\r\n  </g>\r\n  <g id=\"axes_1\">\r\n   <g id=\"patch_2\">\r\n    <path d=\"M 20.5625 235.238438 \r\nL 355.3625 235.238438 \r\nL 355.3625 17.798438 \r\nL 20.5625 17.798438 \r\nz\r\n\" style=\"fill:#ffffff;\"/>\r\n   </g>\r\n   <g id=\"matplotlib.axis_1\">\r\n    <g id=\"xtick_1\">\r\n     <g id=\"line2d_1\">\r\n      <defs>\r\n       <path d=\"M 0 0 \r\nL 0 3.5 \r\n\" id=\"m722b71b681\" style=\"stroke:#000000;stroke-width:0.8;\"/>\r\n      </defs>\r\n      <g>\r\n       <use style=\"stroke:#000000;stroke-width:0.8;\" x=\"35.780682\" xlink:href=\"#m722b71b681\" y=\"235.238438\"/>\r\n      </g>\r\n     </g>\r\n     <g id=\"text_1\">\r\n      <!-- 1/22/20 -->\r\n      <g transform=\"translate(16.505682 249.836875)scale(0.1 -0.1)\">\r\n       <defs>\r\n        <path d=\"M 12.40625 8.296875 \r\nL 28.515625 8.296875 \r\nL 28.515625 63.921875 \r\nL 10.984375 60.40625 \r\nL 10.984375 69.390625 \r\nL 28.421875 72.90625 \r\nL 38.28125 72.90625 \r\nL 38.28125 8.296875 \r\nL 54.390625 8.296875 \r\nL 54.390625 0 \r\nL 12.40625 0 \r\nz\r\n\" id=\"DejaVuSans-49\"/>\r\n        <path d=\"M 25.390625 72.90625 \r\nL 33.6875 72.90625 \r\nL 8.296875 -9.28125 \r\nL 0 -9.28125 \r\nz\r\n\" id=\"DejaVuSans-47\"/>\r\n        <path d=\"M 19.1875 8.296875 \r\nL 53.609375 8.296875 \r\nL 53.609375 0 \r\nL 7.328125 0 \r\nL 7.328125 8.296875 \r\nQ 12.9375 14.109375 22.625 23.890625 \r\nQ 32.328125 33.6875 34.8125 36.53125 \r\nQ 39.546875 41.84375 41.421875 45.53125 \r\nQ 43.3125 49.21875 43.3125 52.78125 \r\nQ 43.3125 58.59375 39.234375 62.25 \r\nQ 35.15625 65.921875 28.609375 65.921875 \r\nQ 23.96875 65.921875 18.8125 64.3125 \r\nQ 13.671875 62.703125 7.8125 59.421875 \r\nL 7.8125 69.390625 \r\nQ 13.765625 71.78125 18.9375 73 \r\nQ 24.125 74.21875 28.421875 74.21875 \r\nQ 39.75 74.21875 46.484375 68.546875 \r\nQ 53.21875 62.890625 53.21875 53.421875 \r\nQ 53.21875 48.921875 51.53125 44.890625 \r\nQ 49.859375 40.875 45.40625 35.40625 \r\nQ 44.1875 33.984375 37.640625 27.21875 \r\nQ 31.109375 20.453125 19.1875 8.296875 \r\nz\r\n\" id=\"DejaVuSans-50\"/>\r\n        <path d=\"M 31.78125 66.40625 \r\nQ 24.171875 66.40625 20.328125 58.90625 \r\nQ 16.5 51.421875 16.5 36.375 \r\nQ 16.5 21.390625 20.328125 13.890625 \r\nQ 24.171875 6.390625 31.78125 6.390625 \r\nQ 39.453125 6.390625 43.28125 13.890625 \r\nQ 47.125 21.390625 47.125 36.375 \r\nQ 47.125 51.421875 43.28125 58.90625 \r\nQ 39.453125 66.40625 31.78125 66.40625 \r\nz\r\nM 31.78125 74.21875 \r\nQ 44.046875 74.21875 50.515625 64.515625 \r\nQ 56.984375 54.828125 56.984375 36.375 \r\nQ 56.984375 17.96875 50.515625 8.265625 \r\nQ 44.046875 -1.421875 31.78125 -1.421875 \r\nQ 19.53125 -1.421875 13.0625 8.265625 \r\nQ 6.59375 17.96875 6.59375 36.375 \r\nQ 6.59375 54.828125 13.0625 64.515625 \r\nQ 19.53125 74.21875 31.78125 74.21875 \r\nz\r\n\" id=\"DejaVuSans-48\"/>\r\n       </defs>\r\n       <use xlink:href=\"#DejaVuSans-49\"/>\r\n       <use x=\"63.623047\" xlink:href=\"#DejaVuSans-47\"/>\r\n       <use x=\"97.314453\" xlink:href=\"#DejaVuSans-50\"/>\r\n       <use x=\"160.9375\" xlink:href=\"#DejaVuSans-50\"/>\r\n       <use x=\"224.560547\" xlink:href=\"#DejaVuSans-47\"/>\r\n       <use x=\"258.251953\" xlink:href=\"#DejaVuSans-50\"/>\r\n       <use x=\"321.875\" xlink:href=\"#DejaVuSans-48\"/>\r\n      </g>\r\n     </g>\r\n    </g>\r\n    <g id=\"xtick_2\">\r\n     <g id=\"line2d_2\">\r\n      <g>\r\n       <use style=\"stroke:#000000;stroke-width:0.8;\" x=\"100.815647\" xlink:href=\"#m722b71b681\" y=\"235.238438\"/>\r\n      </g>\r\n     </g>\r\n     <g id=\"text_2\">\r\n      <!-- 3/12/20 -->\r\n      <g transform=\"translate(81.540647 249.836875)scale(0.1 -0.1)\">\r\n       <defs>\r\n        <path d=\"M 40.578125 39.3125 \r\nQ 47.65625 37.796875 51.625 33 \r\nQ 55.609375 28.21875 55.609375 21.1875 \r\nQ 55.609375 10.40625 48.1875 4.484375 \r\nQ 40.765625 -1.421875 27.09375 -1.421875 \r\nQ 22.515625 -1.421875 17.65625 -0.515625 \r\nQ 12.796875 0.390625 7.625 2.203125 \r\nL 7.625 11.71875 \r\nQ 11.71875 9.328125 16.59375 8.109375 \r\nQ 21.484375 6.890625 26.8125 6.890625 \r\nQ 36.078125 6.890625 40.9375 10.546875 \r\nQ 45.796875 14.203125 45.796875 21.1875 \r\nQ 45.796875 27.640625 41.28125 31.265625 \r\nQ 36.765625 34.90625 28.71875 34.90625 \r\nL 20.21875 34.90625 \r\nL 20.21875 43.015625 \r\nL 29.109375 43.015625 \r\nQ 36.375 43.015625 40.234375 45.921875 \r\nQ 44.09375 48.828125 44.09375 54.296875 \r\nQ 44.09375 59.90625 40.109375 62.90625 \r\nQ 36.140625 65.921875 28.71875 65.921875 \r\nQ 24.65625 65.921875 20.015625 65.03125 \r\nQ 15.375 64.15625 9.8125 62.3125 \r\nL 9.8125 71.09375 \r\nQ 15.4375 72.65625 20.34375 73.4375 \r\nQ 25.25 74.21875 29.59375 74.21875 \r\nQ 40.828125 74.21875 47.359375 69.109375 \r\nQ 53.90625 64.015625 53.90625 55.328125 \r\nQ 53.90625 49.265625 50.4375 45.09375 \r\nQ 46.96875 40.921875 40.578125 39.3125 \r\nz\r\n\" id=\"DejaVuSans-51\"/>\r\n       </defs>\r\n       <use xlink:href=\"#DejaVuSans-51\"/>\r\n       <use x=\"63.623047\" xlink:href=\"#DejaVuSans-47\"/>\r\n       <use x=\"97.314453\" xlink:href=\"#DejaVuSans-49\"/>\r\n       <use x=\"160.9375\" xlink:href=\"#DejaVuSans-50\"/>\r\n       <use x=\"224.560547\" xlink:href=\"#DejaVuSans-47\"/>\r\n       <use x=\"258.251953\" xlink:href=\"#DejaVuSans-50\"/>\r\n       <use x=\"321.875\" xlink:href=\"#DejaVuSans-48\"/>\r\n      </g>\r\n     </g>\r\n    </g>\r\n    <g id=\"xtick_3\">\r\n     <g id=\"line2d_3\">\r\n      <g>\r\n       <use style=\"stroke:#000000;stroke-width:0.8;\" x=\"165.850612\" xlink:href=\"#m722b71b681\" y=\"235.238438\"/>\r\n      </g>\r\n     </g>\r\n     <g id=\"text_3\">\r\n      <!-- 5/1/20 -->\r\n      <g transform=\"translate(149.756862 249.836875)scale(0.1 -0.1)\">\r\n       <defs>\r\n        <path d=\"M 10.796875 72.90625 \r\nL 49.515625 72.90625 \r\nL 49.515625 64.59375 \r\nL 19.828125 64.59375 \r\nL 19.828125 46.734375 \r\nQ 21.96875 47.46875 24.109375 47.828125 \r\nQ 26.265625 48.1875 28.421875 48.1875 \r\nQ 40.625 48.1875 47.75 41.5 \r\nQ 54.890625 34.8125 54.890625 23.390625 \r\nQ 54.890625 11.625 47.5625 5.09375 \r\nQ 40.234375 -1.421875 26.90625 -1.421875 \r\nQ 22.3125 -1.421875 17.546875 -0.640625 \r\nQ 12.796875 0.140625 7.71875 1.703125 \r\nL 7.71875 11.625 \r\nQ 12.109375 9.234375 16.796875 8.0625 \r\nQ 21.484375 6.890625 26.703125 6.890625 \r\nQ 35.15625 6.890625 40.078125 11.328125 \r\nQ 45.015625 15.765625 45.015625 23.390625 \r\nQ 45.015625 31 40.078125 35.4375 \r\nQ 35.15625 39.890625 26.703125 39.890625 \r\nQ 22.75 39.890625 18.8125 39.015625 \r\nQ 14.890625 38.140625 10.796875 36.28125 \r\nz\r\n\" id=\"DejaVuSans-53\"/>\r\n       </defs>\r\n       <use xlink:href=\"#DejaVuSans-53\"/>\r\n       <use x=\"63.623047\" xlink:href=\"#DejaVuSans-47\"/>\r\n       <use x=\"97.314453\" xlink:href=\"#DejaVuSans-49\"/>\r\n       <use x=\"160.9375\" xlink:href=\"#DejaVuSans-47\"/>\r\n       <use x=\"194.628906\" xlink:href=\"#DejaVuSans-50\"/>\r\n       <use x=\"258.251953\" xlink:href=\"#DejaVuSans-48\"/>\r\n      </g>\r\n     </g>\r\n    </g>\r\n    <g id=\"xtick_4\">\r\n     <g id=\"line2d_4\">\r\n      <g>\r\n       <use style=\"stroke:#000000;stroke-width:0.8;\" x=\"230.885577\" xlink:href=\"#m722b71b681\" y=\"235.238438\"/>\r\n      </g>\r\n     </g>\r\n     <g id=\"text_4\">\r\n      <!-- 6/20/20 -->\r\n      <g transform=\"translate(211.610577 249.836875)scale(0.1 -0.1)\">\r\n       <defs>\r\n        <path d=\"M 33.015625 40.375 \r\nQ 26.375 40.375 22.484375 35.828125 \r\nQ 18.609375 31.296875 18.609375 23.390625 \r\nQ 18.609375 15.53125 22.484375 10.953125 \r\nQ 26.375 6.390625 33.015625 6.390625 \r\nQ 39.65625 6.390625 43.53125 10.953125 \r\nQ 47.40625 15.53125 47.40625 23.390625 \r\nQ 47.40625 31.296875 43.53125 35.828125 \r\nQ 39.65625 40.375 33.015625 40.375 \r\nz\r\nM 52.59375 71.296875 \r\nL 52.59375 62.3125 \r\nQ 48.875 64.0625 45.09375 64.984375 \r\nQ 41.3125 65.921875 37.59375 65.921875 \r\nQ 27.828125 65.921875 22.671875 59.328125 \r\nQ 17.53125 52.734375 16.796875 39.40625 \r\nQ 19.671875 43.65625 24.015625 45.921875 \r\nQ 28.375 48.1875 33.59375 48.1875 \r\nQ 44.578125 48.1875 50.953125 41.515625 \r\nQ 57.328125 34.859375 57.328125 23.390625 \r\nQ 57.328125 12.15625 50.6875 5.359375 \r\nQ 44.046875 -1.421875 33.015625 -1.421875 \r\nQ 20.359375 -1.421875 13.671875 8.265625 \r\nQ 6.984375 17.96875 6.984375 36.375 \r\nQ 6.984375 53.65625 15.1875 63.9375 \r\nQ 23.390625 74.21875 37.203125 74.21875 \r\nQ 40.921875 74.21875 44.703125 73.484375 \r\nQ 48.484375 72.75 52.59375 71.296875 \r\nz\r\n\" id=\"DejaVuSans-54\"/>\r\n       </defs>\r\n       <use xlink:href=\"#DejaVuSans-54\"/>\r\n       <use x=\"63.623047\" xlink:href=\"#DejaVuSans-47\"/>\r\n       <use x=\"97.314453\" xlink:href=\"#DejaVuSans-50\"/>\r\n       <use x=\"160.9375\" xlink:href=\"#DejaVuSans-48\"/>\r\n       <use x=\"224.560547\" xlink:href=\"#DejaVuSans-47\"/>\r\n       <use x=\"258.251953\" xlink:href=\"#DejaVuSans-50\"/>\r\n       <use x=\"321.875\" xlink:href=\"#DejaVuSans-48\"/>\r\n      </g>\r\n     </g>\r\n    </g>\r\n    <g id=\"xtick_5\">\r\n     <g id=\"line2d_5\">\r\n      <g>\r\n       <use style=\"stroke:#000000;stroke-width:0.8;\" x=\"295.920542\" xlink:href=\"#m722b71b681\" y=\"235.238438\"/>\r\n      </g>\r\n     </g>\r\n     <g id=\"text_5\">\r\n      <!-- 8/9/20 -->\r\n      <g transform=\"translate(279.826792 249.836875)scale(0.1 -0.1)\">\r\n       <defs>\r\n        <path d=\"M 31.78125 34.625 \r\nQ 24.75 34.625 20.71875 30.859375 \r\nQ 16.703125 27.09375 16.703125 20.515625 \r\nQ 16.703125 13.921875 20.71875 10.15625 \r\nQ 24.75 6.390625 31.78125 6.390625 \r\nQ 38.8125 6.390625 42.859375 10.171875 \r\nQ 46.921875 13.96875 46.921875 20.515625 \r\nQ 46.921875 27.09375 42.890625 30.859375 \r\nQ 38.875 34.625 31.78125 34.625 \r\nz\r\nM 21.921875 38.8125 \r\nQ 15.578125 40.375 12.03125 44.71875 \r\nQ 8.5 49.078125 8.5 55.328125 \r\nQ 8.5 64.0625 14.71875 69.140625 \r\nQ 20.953125 74.21875 31.78125 74.21875 \r\nQ 42.671875 74.21875 48.875 69.140625 \r\nQ 55.078125 64.0625 55.078125 55.328125 \r\nQ 55.078125 49.078125 51.53125 44.71875 \r\nQ 48 40.375 41.703125 38.8125 \r\nQ 48.828125 37.15625 52.796875 32.3125 \r\nQ 56.78125 27.484375 56.78125 20.515625 \r\nQ 56.78125 9.90625 50.3125 4.234375 \r\nQ 43.84375 -1.421875 31.78125 -1.421875 \r\nQ 19.734375 -1.421875 13.25 4.234375 \r\nQ 6.78125 9.90625 6.78125 20.515625 \r\nQ 6.78125 27.484375 10.78125 32.3125 \r\nQ 14.796875 37.15625 21.921875 38.8125 \r\nz\r\nM 18.3125 54.390625 \r\nQ 18.3125 48.734375 21.84375 45.5625 \r\nQ 25.390625 42.390625 31.78125 42.390625 \r\nQ 38.140625 42.390625 41.71875 45.5625 \r\nQ 45.3125 48.734375 45.3125 54.390625 \r\nQ 45.3125 60.0625 41.71875 63.234375 \r\nQ 38.140625 66.40625 31.78125 66.40625 \r\nQ 25.390625 66.40625 21.84375 63.234375 \r\nQ 18.3125 60.0625 18.3125 54.390625 \r\nz\r\n\" id=\"DejaVuSans-56\"/>\r\n        <path d=\"M 10.984375 1.515625 \r\nL 10.984375 10.5 \r\nQ 14.703125 8.734375 18.5 7.8125 \r\nQ 22.3125 6.890625 25.984375 6.890625 \r\nQ 35.75 6.890625 40.890625 13.453125 \r\nQ 46.046875 20.015625 46.78125 33.40625 \r\nQ 43.953125 29.203125 39.59375 26.953125 \r\nQ 35.25 24.703125 29.984375 24.703125 \r\nQ 19.046875 24.703125 12.671875 31.3125 \r\nQ 6.296875 37.9375 6.296875 49.421875 \r\nQ 6.296875 60.640625 12.9375 67.421875 \r\nQ 19.578125 74.21875 30.609375 74.21875 \r\nQ 43.265625 74.21875 49.921875 64.515625 \r\nQ 56.59375 54.828125 56.59375 36.375 \r\nQ 56.59375 19.140625 48.40625 8.859375 \r\nQ 40.234375 -1.421875 26.421875 -1.421875 \r\nQ 22.703125 -1.421875 18.890625 -0.6875 \r\nQ 15.09375 0.046875 10.984375 1.515625 \r\nz\r\nM 30.609375 32.421875 \r\nQ 37.25 32.421875 41.125 36.953125 \r\nQ 45.015625 41.5 45.015625 49.421875 \r\nQ 45.015625 57.28125 41.125 61.84375 \r\nQ 37.25 66.40625 30.609375 66.40625 \r\nQ 23.96875 66.40625 20.09375 61.84375 \r\nQ 16.21875 57.28125 16.21875 49.421875 \r\nQ 16.21875 41.5 20.09375 36.953125 \r\nQ 23.96875 32.421875 30.609375 32.421875 \r\nz\r\n\" id=\"DejaVuSans-57\"/>\r\n       </defs>\r\n       <use xlink:href=\"#DejaVuSans-56\"/>\r\n       <use x=\"63.623047\" xlink:href=\"#DejaVuSans-47\"/>\r\n       <use x=\"97.314453\" xlink:href=\"#DejaVuSans-57\"/>\r\n       <use x=\"160.9375\" xlink:href=\"#DejaVuSans-47\"/>\r\n       <use x=\"194.628906\" xlink:href=\"#DejaVuSans-50\"/>\r\n       <use x=\"258.251953\" xlink:href=\"#DejaVuSans-48\"/>\r\n      </g>\r\n     </g>\r\n    </g>\r\n    <g id=\"text_6\">\r\n     <!-- date -->\r\n     <g transform=\"translate(176.6875 263.515)scale(0.1 -0.1)\">\r\n      <defs>\r\n       <path d=\"M 45.40625 46.390625 \r\nL 45.40625 75.984375 \r\nL 54.390625 75.984375 \r\nL 54.390625 0 \r\nL 45.40625 0 \r\nL 45.40625 8.203125 \r\nQ 42.578125 3.328125 38.25 0.953125 \r\nQ 33.9375 -1.421875 27.875 -1.421875 \r\nQ 17.96875 -1.421875 11.734375 6.484375 \r\nQ 5.515625 14.40625 5.515625 27.296875 \r\nQ 5.515625 40.1875 11.734375 48.09375 \r\nQ 17.96875 56 27.875 56 \r\nQ 33.9375 56 38.25 53.625 \r\nQ 42.578125 51.265625 45.40625 46.390625 \r\nz\r\nM 14.796875 27.296875 \r\nQ 14.796875 17.390625 18.875 11.75 \r\nQ 22.953125 6.109375 30.078125 6.109375 \r\nQ 37.203125 6.109375 41.296875 11.75 \r\nQ 45.40625 17.390625 45.40625 27.296875 \r\nQ 45.40625 37.203125 41.296875 42.84375 \r\nQ 37.203125 48.484375 30.078125 48.484375 \r\nQ 22.953125 48.484375 18.875 42.84375 \r\nQ 14.796875 37.203125 14.796875 27.296875 \r\nz\r\n\" id=\"DejaVuSans-100\"/>\r\n       <path d=\"M 34.28125 27.484375 \r\nQ 23.390625 27.484375 19.1875 25 \r\nQ 14.984375 22.515625 14.984375 16.5 \r\nQ 14.984375 11.71875 18.140625 8.90625 \r\nQ 21.296875 6.109375 26.703125 6.109375 \r\nQ 34.1875 6.109375 38.703125 11.40625 \r\nQ 43.21875 16.703125 43.21875 25.484375 \r\nL 43.21875 27.484375 \r\nz\r\nM 52.203125 31.203125 \r\nL 52.203125 0 \r\nL 43.21875 0 \r\nL 43.21875 8.296875 \r\nQ 40.140625 3.328125 35.546875 0.953125 \r\nQ 30.953125 -1.421875 24.3125 -1.421875 \r\nQ 15.921875 -1.421875 10.953125 3.296875 \r\nQ 6 8.015625 6 15.921875 \r\nQ 6 25.140625 12.171875 29.828125 \r\nQ 18.359375 34.515625 30.609375 34.515625 \r\nL 43.21875 34.515625 \r\nL 43.21875 35.40625 \r\nQ 43.21875 41.609375 39.140625 45 \r\nQ 35.0625 48.390625 27.6875 48.390625 \r\nQ 23 48.390625 18.546875 47.265625 \r\nQ 14.109375 46.140625 10.015625 43.890625 \r\nL 10.015625 52.203125 \r\nQ 14.9375 54.109375 19.578125 55.046875 \r\nQ 24.21875 56 28.609375 56 \r\nQ 40.484375 56 46.34375 49.84375 \r\nQ 52.203125 43.703125 52.203125 31.203125 \r\nz\r\n\" id=\"DejaVuSans-97\"/>\r\n       <path d=\"M 18.3125 70.21875 \r\nL 18.3125 54.6875 \r\nL 36.8125 54.6875 \r\nL 36.8125 47.703125 \r\nL 18.3125 47.703125 \r\nL 18.3125 18.015625 \r\nQ 18.3125 11.328125 20.140625 9.421875 \r\nQ 21.96875 7.515625 27.59375 7.515625 \r\nL 36.8125 7.515625 \r\nL 36.8125 0 \r\nL 27.59375 0 \r\nQ 17.1875 0 13.234375 3.875 \r\nQ 9.28125 7.765625 9.28125 18.015625 \r\nL 9.28125 47.703125 \r\nL 2.6875 47.703125 \r\nL 2.6875 54.6875 \r\nL 9.28125 54.6875 \r\nL 9.28125 70.21875 \r\nz\r\n\" id=\"DejaVuSans-116\"/>\r\n       <path d=\"M 56.203125 29.59375 \r\nL 56.203125 25.203125 \r\nL 14.890625 25.203125 \r\nQ 15.484375 15.921875 20.484375 11.0625 \r\nQ 25.484375 6.203125 34.421875 6.203125 \r\nQ 39.59375 6.203125 44.453125 7.46875 \r\nQ 49.3125 8.734375 54.109375 11.28125 \r\nL 54.109375 2.78125 \r\nQ 49.265625 0.734375 44.1875 -0.34375 \r\nQ 39.109375 -1.421875 33.890625 -1.421875 \r\nQ 20.796875 -1.421875 13.15625 6.1875 \r\nQ 5.515625 13.8125 5.515625 26.8125 \r\nQ 5.515625 40.234375 12.765625 48.109375 \r\nQ 20.015625 56 32.328125 56 \r\nQ 43.359375 56 49.78125 48.890625 \r\nQ 56.203125 41.796875 56.203125 29.59375 \r\nz\r\nM 47.21875 32.234375 \r\nQ 47.125 39.59375 43.09375 43.984375 \r\nQ 39.0625 48.390625 32.421875 48.390625 \r\nQ 24.90625 48.390625 20.390625 44.140625 \r\nQ 15.875 39.890625 15.1875 32.171875 \r\nz\r\n\" id=\"DejaVuSans-101\"/>\r\n      </defs>\r\n      <use xlink:href=\"#DejaVuSans-100\"/>\r\n      <use x=\"63.476562\" xlink:href=\"#DejaVuSans-97\"/>\r\n      <use x=\"124.755859\" xlink:href=\"#DejaVuSans-116\"/>\r\n      <use x=\"163.964844\" xlink:href=\"#DejaVuSans-101\"/>\r\n     </g>\r\n    </g>\r\n   </g>\r\n   <g id=\"matplotlib.axis_2\">\r\n    <g id=\"ytick_1\">\r\n     <g id=\"line2d_6\">\r\n      <defs>\r\n       <path d=\"M 0 0 \r\nL -3.5 0 \r\n\" id=\"m49e6ea8136\" style=\"stroke:#000000;stroke-width:0.8;\"/>\r\n      </defs>\r\n      <g>\r\n       <use style=\"stroke:#000000;stroke-width:0.8;\" x=\"20.5625\" xlink:href=\"#m49e6ea8136\" y=\"225.354801\"/>\r\n      </g>\r\n     </g>\r\n     <g id=\"text_7\">\r\n      <!-- 0 -->\r\n      <g transform=\"translate(7.2 229.15402)scale(0.1 -0.1)\">\r\n       <use xlink:href=\"#DejaVuSans-48\"/>\r\n      </g>\r\n     </g>\r\n    </g>\r\n    <g id=\"ytick_2\">\r\n     <g id=\"line2d_7\">\r\n      <g>\r\n       <use style=\"stroke:#000000;stroke-width:0.8;\" x=\"20.5625\" xlink:href=\"#m49e6ea8136\" y=\"194.873848\"/>\r\n      </g>\r\n     </g>\r\n     <g id=\"text_8\">\r\n      <!-- 1 -->\r\n      <g transform=\"translate(7.2 198.673067)scale(0.1 -0.1)\">\r\n       <use xlink:href=\"#DejaVuSans-49\"/>\r\n      </g>\r\n     </g>\r\n    </g>\r\n    <g id=\"ytick_3\">\r\n     <g id=\"line2d_8\">\r\n      <g>\r\n       <use style=\"stroke:#000000;stroke-width:0.8;\" x=\"20.5625\" xlink:href=\"#m49e6ea8136\" y=\"164.392896\"/>\r\n      </g>\r\n     </g>\r\n     <g id=\"text_9\">\r\n      <!-- 2 -->\r\n      <g transform=\"translate(7.2 168.192115)scale(0.1 -0.1)\">\r\n       <use xlink:href=\"#DejaVuSans-50\"/>\r\n      </g>\r\n     </g>\r\n    </g>\r\n    <g id=\"ytick_4\">\r\n     <g id=\"line2d_9\">\r\n      <g>\r\n       <use style=\"stroke:#000000;stroke-width:0.8;\" x=\"20.5625\" xlink:href=\"#m49e6ea8136\" y=\"133.911943\"/>\r\n      </g>\r\n     </g>\r\n     <g id=\"text_10\">\r\n      <!-- 3 -->\r\n      <g transform=\"translate(7.2 137.711162)scale(0.1 -0.1)\">\r\n       <use xlink:href=\"#DejaVuSans-51\"/>\r\n      </g>\r\n     </g>\r\n    </g>\r\n    <g id=\"ytick_5\">\r\n     <g id=\"line2d_10\">\r\n      <g>\r\n       <use style=\"stroke:#000000;stroke-width:0.8;\" x=\"20.5625\" xlink:href=\"#m49e6ea8136\" y=\"103.43099\"/>\r\n      </g>\r\n     </g>\r\n     <g id=\"text_11\">\r\n      <!-- 4 -->\r\n      <g transform=\"translate(7.2 107.230209)scale(0.1 -0.1)\">\r\n       <defs>\r\n        <path d=\"M 37.796875 64.3125 \r\nL 12.890625 25.390625 \r\nL 37.796875 25.390625 \r\nz\r\nM 35.203125 72.90625 \r\nL 47.609375 72.90625 \r\nL 47.609375 25.390625 \r\nL 58.015625 25.390625 \r\nL 58.015625 17.1875 \r\nL 47.609375 17.1875 \r\nL 47.609375 0 \r\nL 37.796875 0 \r\nL 37.796875 17.1875 \r\nL 4.890625 17.1875 \r\nL 4.890625 26.703125 \r\nz\r\n\" id=\"DejaVuSans-52\"/>\r\n       </defs>\r\n       <use xlink:href=\"#DejaVuSans-52\"/>\r\n      </g>\r\n     </g>\r\n    </g>\r\n    <g id=\"ytick_6\">\r\n     <g id=\"line2d_11\">\r\n      <g>\r\n       <use style=\"stroke:#000000;stroke-width:0.8;\" x=\"20.5625\" xlink:href=\"#m49e6ea8136\" y=\"72.950038\"/>\r\n      </g>\r\n     </g>\r\n     <g id=\"text_12\">\r\n      <!-- 5 -->\r\n      <g transform=\"translate(7.2 76.749256)scale(0.1 -0.1)\">\r\n       <use xlink:href=\"#DejaVuSans-53\"/>\r\n      </g>\r\n     </g>\r\n    </g>\r\n    <g id=\"ytick_7\">\r\n     <g id=\"line2d_12\">\r\n      <g>\r\n       <use style=\"stroke:#000000;stroke-width:0.8;\" x=\"20.5625\" xlink:href=\"#m49e6ea8136\" y=\"42.469085\"/>\r\n      </g>\r\n     </g>\r\n     <g id=\"text_13\">\r\n      <!-- 6 -->\r\n      <g transform=\"translate(7.2 46.268304)scale(0.1 -0.1)\">\r\n       <use xlink:href=\"#DejaVuSans-54\"/>\r\n      </g>\r\n     </g>\r\n    </g>\r\n    <g id=\"text_14\">\r\n     <!-- 1e6 -->\r\n     <g transform=\"translate(20.5625 14.798437)scale(0.1 -0.1)\">\r\n      <use xlink:href=\"#DejaVuSans-49\"/>\r\n      <use x=\"63.623047\" xlink:href=\"#DejaVuSans-101\"/>\r\n      <use x=\"125.146484\" xlink:href=\"#DejaVuSans-54\"/>\r\n     </g>\r\n    </g>\r\n   </g>\r\n   <g id=\"line2d_13\">\r\n    <path clip-path=\"url(#p2fe86f1c1f)\" d=\"M 35.780682 225.354801 \r\nL 132.03243 225.245435 \r\nL 165.850612 224.219172 \r\nL 172.354108 223.739707 \r\nL 184.060402 222.740023 \r\nL 191.864598 221.75116 \r\nL 202.270192 220.06663 \r\nL 210.074388 218.444373 \r\nL 217.878584 216.618808 \r\nL 225.68278 214.562563 \r\nL 229.584878 213.313362 \r\nL 237.389073 210.406911 \r\nL 245.193269 206.924767 \r\nL 247.794668 205.593542 \r\nL 251.696766 203.418757 \r\nL 254.298164 201.966888 \r\nL 258.200262 199.460561 \r\nL 262.10236 196.819112 \r\nL 264.703759 194.757045 \r\nL 267.305157 192.503009 \r\nL 269.906556 190.138998 \r\nL 271.207255 188.988647 \r\nL 273.808654 186.092042 \r\nL 282.913549 175.526186 \r\nL 284.214248 173.659471 \r\nL 288.116346 168.789926 \r\nL 290.717745 165.473872 \r\nL 295.920542 157.837235 \r\nL 297.221241 156.203426 \r\nL 299.82264 152.303022 \r\nL 303.724738 146.410597 \r\nL 307.626836 141.006293 \r\nL 312.829633 132.542129 \r\nL 316.731731 127.067537 \r\nL 318.03243 124.455715 \r\nL 327.137325 107.899315 \r\nL 329.738724 102.724472 \r\nL 332.340122 97.194191 \r\nL 333.640822 94.883461 \r\nL 336.24222 89.231042 \r\nL 340.144318 80.437501 \r\nL 340.144318 80.437501 \r\n\" style=\"fill:none;stroke:#1f77b4;stroke-linecap:square;stroke-width:1.5;\"/>\r\n   </g>\r\n   <g id=\"line2d_14\">\r\n    <path clip-path=\"url(#p2fe86f1c1f)\" d=\"M 35.780682 225.354771 \r\nL 104.717745 225.263785 \r\nL 108.619843 225.099188 \r\nL 112.521941 224.607774 \r\nL 116.424038 223.705416 \r\nL 117.724738 223.341382 \r\nL 121.626836 221.634327 \r\nL 124.228234 220.395337 \r\nL 128.130332 217.898855 \r\nL 132.03243 215.065254 \r\nL 135.934528 212.257563 \r\nL 138.535927 210.177024 \r\nL 141.137325 208.39148 \r\nL 143.738724 206.79562 \r\nL 146.340122 204.954753 \r\nL 148.941521 203.095598 \r\nL 154.144318 199.823132 \r\nL 158.046416 196.677437 \r\nL 159.347115 195.83345 \r\nL 161.948514 194.400845 \r\nL 164.549913 192.658889 \r\nL 165.850612 191.617599 \r\nL 168.45201 189.947791 \r\nL 171.053409 188.52555 \r\nL 173.654808 186.905853 \r\nL 176.256206 185.293075 \r\nL 181.459003 182.800038 \r\nL 184.060402 181.187078 \r\nL 185.361101 180.421975 \r\nL 187.9625 179.179175 \r\nL 190.563899 177.83021 \r\nL 193.165297 176.321525 \r\nL 197.067395 174.443075 \r\nL 200.969493 172.614828 \r\nL 203.570892 171.122663 \r\nL 210.074388 168.090754 \r\nL 212.675787 166.629009 \r\nL 217.878584 164.371376 \r\nL 220.479983 162.899756 \r\nL 221.780682 162.120785 \r\nL 225.68278 160.194724 \r\nL 228.284178 158.568016 \r\nL 232.186276 155.804369 \r\nL 233.486976 154.873603 \r\nL 237.389073 151.52082 \r\nL 239.990472 148.839715 \r\nL 242.591871 146.388772 \r\nL 243.89257 144.994391 \r\nL 250.396066 137.230587 \r\nL 251.696766 135.860377 \r\nL 255.598864 130.316837 \r\nL 256.899563 128.250502 \r\nL 262.10236 120.757156 \r\nL 263.403059 118.704935 \r\nL 266.004458 114.168973 \r\nL 272.507955 104.341731 \r\nL 276.410052 97.975814 \r\nL 279.011451 94.581242 \r\nL 281.61285 90.416172 \r\nL 284.214248 86.297434 \r\nL 285.514948 84.514755 \r\nL 288.116346 81.681611 \r\nL 294.619843 73.013164 \r\nL 298.521941 68.645883 \r\nL 303.724738 61.941384 \r\nL 305.025437 60.659721 \r\nL 306.326136 59.589474 \r\nL 312.829633 52.617109 \r\nL 315.431031 50.408276 \r\nL 316.731731 49.244696 \r\nL 320.633829 45.092245 \r\nL 321.934528 43.654977 \r\nL 324.535927 41.536764 \r\nL 327.137325 39.009192 \r\nL 328.438024 37.896454 \r\nL 329.738724 36.357105 \r\nL 331.039423 35.002166 \r\nL 332.340122 34.045217 \r\nL 334.941521 32.501539 \r\nL 337.54292 30.39558 \r\nL 338.843619 28.946149 \r\nL 340.144318 27.682074 \r\nL 340.144318 27.682074 \r\n\" style=\"fill:none;stroke:#ff7f0e;stroke-linecap:square;stroke-width:1.5;\"/>\r\n   </g>\r\n   <g id=\"line2d_15\">\r\n    <path clip-path=\"url(#p2fe86f1c1f)\" d=\"M 35.780682 225.354801 \r\nL 100.815647 225.285396 \r\nL 104.717745 225.117111 \r\nL 111.221241 224.732685 \r\nL 116.424038 224.139068 \r\nL 120.326136 223.351623 \r\nL 132.03243 221.342106 \r\nL 142.438024 220.170022 \r\nL 145.039423 219.940043 \r\nL 147.640822 219.537847 \r\nL 148.941521 219.51081 \r\nL 150.24222 219.299028 \r\nL 152.843619 219.131261 \r\nL 155.445017 218.861627 \r\nL 156.745717 219.167473 \r\nL 160.647815 218.970108 \r\nL 185.361101 218.322906 \r\nL 191.864598 218.251611 \r\nL 195.766696 218.168246 \r\nL 200.969493 218.1032 \r\nL 215.277185 217.987037 \r\nL 255.598864 217.641413 \r\nL 272.507955 217.199592 \r\nL 276.410052 217.05115 \r\nL 277.710752 217.05115 \r\nL 279.011451 216.85726 \r\nL 286.815647 216.560376 \r\nL 289.417045 216.124742 \r\nL 299.82264 215.302671 \r\nL 302.424038 214.905534 \r\nL 305.025437 214.905534 \r\nL 306.326136 214.40964 \r\nL 310.228234 213.835866 \r\nL 311.528934 213.587507 \r\nL 314.130332 213.587507 \r\nL 315.431031 212.996726 \r\nL 319.333129 212.263019 \r\nL 320.633829 211.964945 \r\nL 323.235227 211.964945 \r\nL 324.535927 211.246448 \r\nL 329.738724 210.145141 \r\nL 332.340122 210.145141 \r\nL 333.640822 209.335567 \r\nL 337.54292 208.463995 \r\nL 338.843619 208.092645 \r\nL 340.144318 208.092645 \r\nL 340.144318 208.092645 \r\n\" style=\"fill:none;stroke:#2ca02c;stroke-linecap:square;stroke-width:1.5;\"/>\r\n   </g>\r\n   <g id=\"line2d_16\">\r\n    <path clip-path=\"url(#p2fe86f1c1f)\" d=\"M 35.780682 225.354801 \r\nL 100.815647 225.291462 \r\nL 109.920542 224.887833 \r\nL 112.521941 224.677728 \r\nL 116.424038 224.349356 \r\nL 119.025437 224.015529 \r\nL 122.927535 223.462086 \r\nL 128.130332 222.770199 \r\nL 130.731731 222.425825 \r\nL 142.438024 221.390083 \r\nL 145.039423 221.247401 \r\nL 151.54292 220.87212 \r\nL 163.249213 220.430939 \r\nL 171.053409 220.264269 \r\nL 184.060402 220.013532 \r\nL 225.68278 219.616701 \r\nL 273.808654 219.109833 \r\nL 306.326136 218.444769 \r\nL 340.144318 217.404851 \r\nL 340.144318 217.404851 \r\n\" style=\"fill:none;stroke:#d62728;stroke-linecap:square;stroke-width:1.5;\"/>\r\n   </g>\r\n   <g id=\"line2d_17\">\r\n    <path clip-path=\"url(#p2fe86f1c1f)\" d=\"M 35.780682 225.354801 \r\nL 104.717745 225.261011 \r\nL 113.82264 225.037952 \r\nL 122.927535 224.441775 \r\nL 134.633829 223.153345 \r\nL 139.836626 222.603194 \r\nL 145.039423 222.079166 \r\nL 155.445017 220.883002 \r\nL 165.850612 219.761516 \r\nL 185.361101 218.362288 \r\nL 191.864598 217.974357 \r\nL 202.270192 217.571124 \r\nL 238.689773 216.724089 \r\nL 301.123339 215.700599 \r\nL 312.829633 215.399874 \r\nL 328.438024 214.908735 \r\nL 336.24222 214.454416 \r\nL 340.144318 214.150247 \r\nL 340.144318 214.150247 \r\n\" style=\"fill:none;stroke:#9467bd;stroke-linecap:square;stroke-width:1.5;\"/>\r\n   </g>\r\n   <g id=\"line2d_18\">\r\n    <path clip-path=\"url(#p2fe86f1c1f)\" d=\"M 35.780682 225.354771 \r\nL 85.207255 225.258786 \r\nL 103.417045 225.108332 \r\nL 255.598864 224.948246 \r\nL 316.731731 224.798067 \r\nL 337.54292 224.686689 \r\nL 340.144318 224.678856 \r\nL 340.144318 224.678856 \r\n\" style=\"fill:none;stroke:#8c564b;stroke-linecap:square;stroke-width:1.5;\"/>\r\n   </g>\r\n   <g id=\"line2d_19\">\r\n    <path clip-path=\"url(#p2fe86f1c1f)\" d=\"M 35.780682 225.35474 \r\nL 130.731731 225.247356 \r\nL 190.563899 224.857322 \r\nL 260.801661 224.68041 \r\nL 275.109353 224.47442 \r\nL 288.116346 224.132545 \r\nL 315.431031 223.429685 \r\nL 340.144318 223.062451 \r\nL 340.144318 223.062451 \r\n\" style=\"fill:none;stroke:#e377c2;stroke-linecap:square;stroke-width:1.5;\"/>\r\n   </g>\r\n   <g id=\"patch_3\">\r\n    <path d=\"M 20.5625 235.238438 \r\nL 20.5625 17.798438 \r\n\" style=\"fill:none;stroke:#000000;stroke-linecap:square;stroke-linejoin:miter;stroke-width:0.8;\"/>\r\n   </g>\r\n   <g id=\"patch_4\">\r\n    <path d=\"M 355.3625 235.238438 \r\nL 355.3625 17.798438 \r\n\" style=\"fill:none;stroke:#000000;stroke-linecap:square;stroke-linejoin:miter;stroke-width:0.8;\"/>\r\n   </g>\r\n   <g id=\"patch_5\">\r\n    <path d=\"M 20.5625 235.238438 \r\nL 355.3625 235.238438 \r\n\" style=\"fill:none;stroke:#000000;stroke-linecap:square;stroke-linejoin:miter;stroke-width:0.8;\"/>\r\n   </g>\r\n   <g id=\"patch_6\">\r\n    <path d=\"M 20.5625 17.798438 \r\nL 355.3625 17.798438 \r\n\" style=\"fill:none;stroke:#000000;stroke-linecap:square;stroke-linejoin:miter;stroke-width:0.8;\"/>\r\n   </g>\r\n   <g id=\"legend_1\">\r\n    <g id=\"patch_7\">\r\n     <path d=\"M 27.5625 128.545313 \r\nL 139.826563 128.545313 \r\nQ 141.826563 128.545313 141.826563 126.545313 \r\nL 141.826563 24.798438 \r\nQ 141.826563 22.798438 139.826563 22.798438 \r\nL 27.5625 22.798438 \r\nQ 25.5625 22.798438 25.5625 24.798438 \r\nL 25.5625 126.545313 \r\nQ 25.5625 128.545313 27.5625 128.545313 \r\nz\r\n\" style=\"fill:#ffffff;opacity:0.8;stroke:#cccccc;stroke-linejoin:miter;\"/>\r\n    </g>\r\n    <g id=\"line2d_20\">\r\n     <path d=\"M 29.5625 30.896875 \r\nL 49.5625 30.896875 \r\n\" style=\"fill:none;stroke:#1f77b4;stroke-linecap:square;stroke-width:1.5;\"/>\r\n    </g>\r\n    <g id=\"line2d_21\"/>\r\n    <g id=\"text_15\">\r\n     <!-- India -->\r\n     <g transform=\"translate(57.5625 34.396875)scale(0.1 -0.1)\">\r\n      <defs>\r\n       <path d=\"M 9.8125 72.90625 \r\nL 19.671875 72.90625 \r\nL 19.671875 0 \r\nL 9.8125 0 \r\nz\r\n\" id=\"DejaVuSans-73\"/>\r\n       <path d=\"M 54.890625 33.015625 \r\nL 54.890625 0 \r\nL 45.90625 0 \r\nL 45.90625 32.71875 \r\nQ 45.90625 40.484375 42.875 44.328125 \r\nQ 39.84375 48.1875 33.796875 48.1875 \r\nQ 26.515625 48.1875 22.3125 43.546875 \r\nQ 18.109375 38.921875 18.109375 30.90625 \r\nL 18.109375 0 \r\nL 9.078125 0 \r\nL 9.078125 54.6875 \r\nL 18.109375 54.6875 \r\nL 18.109375 46.1875 \r\nQ 21.34375 51.125 25.703125 53.5625 \r\nQ 30.078125 56 35.796875 56 \r\nQ 45.21875 56 50.046875 50.171875 \r\nQ 54.890625 44.34375 54.890625 33.015625 \r\nz\r\n\" id=\"DejaVuSans-110\"/>\r\n       <path d=\"M 9.421875 54.6875 \r\nL 18.40625 54.6875 \r\nL 18.40625 0 \r\nL 9.421875 0 \r\nz\r\nM 9.421875 75.984375 \r\nL 18.40625 75.984375 \r\nL 18.40625 64.59375 \r\nL 9.421875 64.59375 \r\nz\r\n\" id=\"DejaVuSans-105\"/>\r\n      </defs>\r\n      <use xlink:href=\"#DejaVuSans-73\"/>\r\n      <use x=\"29.492188\" xlink:href=\"#DejaVuSans-110\"/>\r\n      <use x=\"92.871094\" xlink:href=\"#DejaVuSans-100\"/>\r\n      <use x=\"156.347656\" xlink:href=\"#DejaVuSans-105\"/>\r\n      <use x=\"184.130859\" xlink:href=\"#DejaVuSans-97\"/>\r\n     </g>\r\n    </g>\r\n    <g id=\"line2d_22\">\r\n     <path d=\"M 29.5625 45.575 \r\nL 49.5625 45.575 \r\n\" style=\"fill:none;stroke:#ff7f0e;stroke-linecap:square;stroke-width:1.5;\"/>\r\n    </g>\r\n    <g id=\"line2d_23\"/>\r\n    <g id=\"text_16\">\r\n     <!-- US -->\r\n     <g transform=\"translate(57.5625 49.075)scale(0.1 -0.1)\">\r\n      <defs>\r\n       <path d=\"M 8.6875 72.90625 \r\nL 18.609375 72.90625 \r\nL 18.609375 28.609375 \r\nQ 18.609375 16.890625 22.84375 11.734375 \r\nQ 27.09375 6.59375 36.625 6.59375 \r\nQ 46.09375 6.59375 50.34375 11.734375 \r\nQ 54.59375 16.890625 54.59375 28.609375 \r\nL 54.59375 72.90625 \r\nL 64.5 72.90625 \r\nL 64.5 27.390625 \r\nQ 64.5 13.140625 57.4375 5.859375 \r\nQ 50.390625 -1.421875 36.625 -1.421875 \r\nQ 22.796875 -1.421875 15.734375 5.859375 \r\nQ 8.6875 13.140625 8.6875 27.390625 \r\nz\r\n\" id=\"DejaVuSans-85\"/>\r\n       <path d=\"M 53.515625 70.515625 \r\nL 53.515625 60.890625 \r\nQ 47.90625 63.578125 42.921875 64.890625 \r\nQ 37.9375 66.21875 33.296875 66.21875 \r\nQ 25.25 66.21875 20.875 63.09375 \r\nQ 16.5 59.96875 16.5 54.203125 \r\nQ 16.5 49.359375 19.40625 46.890625 \r\nQ 22.3125 44.4375 30.421875 42.921875 \r\nL 36.375 41.703125 \r\nQ 47.40625 39.59375 52.65625 34.296875 \r\nQ 57.90625 29 57.90625 20.125 \r\nQ 57.90625 9.515625 50.796875 4.046875 \r\nQ 43.703125 -1.421875 29.984375 -1.421875 \r\nQ 24.8125 -1.421875 18.96875 -0.25 \r\nQ 13.140625 0.921875 6.890625 3.21875 \r\nL 6.890625 13.375 \r\nQ 12.890625 10.015625 18.65625 8.296875 \r\nQ 24.421875 6.59375 29.984375 6.59375 \r\nQ 38.421875 6.59375 43.015625 9.90625 \r\nQ 47.609375 13.234375 47.609375 19.390625 \r\nQ 47.609375 24.75 44.3125 27.78125 \r\nQ 41.015625 30.8125 33.5 32.328125 \r\nL 27.484375 33.5 \r\nQ 16.453125 35.6875 11.515625 40.375 \r\nQ 6.59375 45.0625 6.59375 53.421875 \r\nQ 6.59375 63.09375 13.40625 68.65625 \r\nQ 20.21875 74.21875 32.171875 74.21875 \r\nQ 37.3125 74.21875 42.625 73.28125 \r\nQ 47.953125 72.359375 53.515625 70.515625 \r\nz\r\n\" id=\"DejaVuSans-83\"/>\r\n      </defs>\r\n      <use xlink:href=\"#DejaVuSans-85\"/>\r\n      <use x=\"73.193359\" xlink:href=\"#DejaVuSans-83\"/>\r\n     </g>\r\n    </g>\r\n    <g id=\"line2d_24\">\r\n     <path d=\"M 29.5625 60.253125 \r\nL 49.5625 60.253125 \r\n\" style=\"fill:none;stroke:#2ca02c;stroke-linecap:square;stroke-width:1.5;\"/>\r\n    </g>\r\n    <g id=\"line2d_25\"/>\r\n    <g id=\"text_17\">\r\n     <!-- Spain -->\r\n     <g transform=\"translate(57.5625 63.753125)scale(0.1 -0.1)\">\r\n      <defs>\r\n       <path d=\"M 18.109375 8.203125 \r\nL 18.109375 -20.796875 \r\nL 9.078125 -20.796875 \r\nL 9.078125 54.6875 \r\nL 18.109375 54.6875 \r\nL 18.109375 46.390625 \r\nQ 20.953125 51.265625 25.265625 53.625 \r\nQ 29.59375 56 35.59375 56 \r\nQ 45.5625 56 51.78125 48.09375 \r\nQ 58.015625 40.1875 58.015625 27.296875 \r\nQ 58.015625 14.40625 51.78125 6.484375 \r\nQ 45.5625 -1.421875 35.59375 -1.421875 \r\nQ 29.59375 -1.421875 25.265625 0.953125 \r\nQ 20.953125 3.328125 18.109375 8.203125 \r\nz\r\nM 48.6875 27.296875 \r\nQ 48.6875 37.203125 44.609375 42.84375 \r\nQ 40.53125 48.484375 33.40625 48.484375 \r\nQ 26.265625 48.484375 22.1875 42.84375 \r\nQ 18.109375 37.203125 18.109375 27.296875 \r\nQ 18.109375 17.390625 22.1875 11.75 \r\nQ 26.265625 6.109375 33.40625 6.109375 \r\nQ 40.53125 6.109375 44.609375 11.75 \r\nQ 48.6875 17.390625 48.6875 27.296875 \r\nz\r\n\" id=\"DejaVuSans-112\"/>\r\n      </defs>\r\n      <use xlink:href=\"#DejaVuSans-83\"/>\r\n      <use x=\"63.476562\" xlink:href=\"#DejaVuSans-112\"/>\r\n      <use x=\"126.953125\" xlink:href=\"#DejaVuSans-97\"/>\r\n      <use x=\"188.232422\" xlink:href=\"#DejaVuSans-105\"/>\r\n      <use x=\"216.015625\" xlink:href=\"#DejaVuSans-110\"/>\r\n     </g>\r\n    </g>\r\n    <g id=\"line2d_26\">\r\n     <path d=\"M 29.5625 74.93125 \r\nL 49.5625 74.93125 \r\n\" style=\"fill:none;stroke:#d62728;stroke-linecap:square;stroke-width:1.5;\"/>\r\n    </g>\r\n    <g id=\"line2d_27\"/>\r\n    <g id=\"text_18\">\r\n     <!-- Germany -->\r\n     <g transform=\"translate(57.5625 78.43125)scale(0.1 -0.1)\">\r\n      <defs>\r\n       <path d=\"M 59.515625 10.40625 \r\nL 59.515625 29.984375 \r\nL 43.40625 29.984375 \r\nL 43.40625 38.09375 \r\nL 69.28125 38.09375 \r\nL 69.28125 6.78125 \r\nQ 63.578125 2.734375 56.6875 0.65625 \r\nQ 49.8125 -1.421875 42 -1.421875 \r\nQ 24.90625 -1.421875 15.25 8.5625 \r\nQ 5.609375 18.5625 5.609375 36.375 \r\nQ 5.609375 54.25 15.25 64.234375 \r\nQ 24.90625 74.21875 42 74.21875 \r\nQ 49.125 74.21875 55.546875 72.453125 \r\nQ 61.96875 70.703125 67.390625 67.28125 \r\nL 67.390625 56.78125 \r\nQ 61.921875 61.421875 55.765625 63.765625 \r\nQ 49.609375 66.109375 42.828125 66.109375 \r\nQ 29.4375 66.109375 22.71875 58.640625 \r\nQ 16.015625 51.171875 16.015625 36.375 \r\nQ 16.015625 21.625 22.71875 14.15625 \r\nQ 29.4375 6.6875 42.828125 6.6875 \r\nQ 48.046875 6.6875 52.140625 7.59375 \r\nQ 56.25 8.5 59.515625 10.40625 \r\nz\r\n\" id=\"DejaVuSans-71\"/>\r\n       <path d=\"M 41.109375 46.296875 \r\nQ 39.59375 47.171875 37.8125 47.578125 \r\nQ 36.03125 48 33.890625 48 \r\nQ 26.265625 48 22.1875 43.046875 \r\nQ 18.109375 38.09375 18.109375 28.8125 \r\nL 18.109375 0 \r\nL 9.078125 0 \r\nL 9.078125 54.6875 \r\nL 18.109375 54.6875 \r\nL 18.109375 46.1875 \r\nQ 20.953125 51.171875 25.484375 53.578125 \r\nQ 30.03125 56 36.53125 56 \r\nQ 37.453125 56 38.578125 55.875 \r\nQ 39.703125 55.765625 41.0625 55.515625 \r\nz\r\n\" id=\"DejaVuSans-114\"/>\r\n       <path d=\"M 52 44.1875 \r\nQ 55.375 50.25 60.0625 53.125 \r\nQ 64.75 56 71.09375 56 \r\nQ 79.640625 56 84.28125 50.015625 \r\nQ 88.921875 44.046875 88.921875 33.015625 \r\nL 88.921875 0 \r\nL 79.890625 0 \r\nL 79.890625 32.71875 \r\nQ 79.890625 40.578125 77.09375 44.375 \r\nQ 74.3125 48.1875 68.609375 48.1875 \r\nQ 61.625 48.1875 57.5625 43.546875 \r\nQ 53.515625 38.921875 53.515625 30.90625 \r\nL 53.515625 0 \r\nL 44.484375 0 \r\nL 44.484375 32.71875 \r\nQ 44.484375 40.625 41.703125 44.40625 \r\nQ 38.921875 48.1875 33.109375 48.1875 \r\nQ 26.21875 48.1875 22.15625 43.53125 \r\nQ 18.109375 38.875 18.109375 30.90625 \r\nL 18.109375 0 \r\nL 9.078125 0 \r\nL 9.078125 54.6875 \r\nL 18.109375 54.6875 \r\nL 18.109375 46.1875 \r\nQ 21.1875 51.21875 25.484375 53.609375 \r\nQ 29.78125 56 35.6875 56 \r\nQ 41.65625 56 45.828125 52.96875 \r\nQ 50 49.953125 52 44.1875 \r\nz\r\n\" id=\"DejaVuSans-109\"/>\r\n       <path d=\"M 32.171875 -5.078125 \r\nQ 28.375 -14.84375 24.75 -17.8125 \r\nQ 21.140625 -20.796875 15.09375 -20.796875 \r\nL 7.90625 -20.796875 \r\nL 7.90625 -13.28125 \r\nL 13.1875 -13.28125 \r\nQ 16.890625 -13.28125 18.9375 -11.515625 \r\nQ 21 -9.765625 23.484375 -3.21875 \r\nL 25.09375 0.875 \r\nL 2.984375 54.6875 \r\nL 12.5 54.6875 \r\nL 29.59375 11.921875 \r\nL 46.6875 54.6875 \r\nL 56.203125 54.6875 \r\nz\r\n\" id=\"DejaVuSans-121\"/>\r\n      </defs>\r\n      <use xlink:href=\"#DejaVuSans-71\"/>\r\n      <use x=\"77.490234\" xlink:href=\"#DejaVuSans-101\"/>\r\n      <use x=\"139.013672\" xlink:href=\"#DejaVuSans-114\"/>\r\n      <use x=\"178.376953\" xlink:href=\"#DejaVuSans-109\"/>\r\n      <use x=\"275.789062\" xlink:href=\"#DejaVuSans-97\"/>\r\n      <use x=\"337.068359\" xlink:href=\"#DejaVuSans-110\"/>\r\n      <use x=\"400.447266\" xlink:href=\"#DejaVuSans-121\"/>\r\n     </g>\r\n    </g>\r\n    <g id=\"line2d_28\">\r\n     <path d=\"M 29.5625 89.609375 \r\nL 49.5625 89.609375 \r\n\" style=\"fill:none;stroke:#9467bd;stroke-linecap:square;stroke-width:1.5;\"/>\r\n    </g>\r\n    <g id=\"line2d_29\"/>\r\n    <g id=\"text_19\">\r\n     <!-- United Kingdom -->\r\n     <g transform=\"translate(57.5625 93.109375)scale(0.1 -0.1)\">\r\n      <defs>\r\n       <path id=\"DejaVuSans-32\"/>\r\n       <path d=\"M 9.8125 72.90625 \r\nL 19.671875 72.90625 \r\nL 19.671875 42.09375 \r\nL 52.390625 72.90625 \r\nL 65.09375 72.90625 \r\nL 28.90625 38.921875 \r\nL 67.671875 0 \r\nL 54.6875 0 \r\nL 19.671875 35.109375 \r\nL 19.671875 0 \r\nL 9.8125 0 \r\nz\r\n\" id=\"DejaVuSans-75\"/>\r\n       <path d=\"M 45.40625 27.984375 \r\nQ 45.40625 37.75 41.375 43.109375 \r\nQ 37.359375 48.484375 30.078125 48.484375 \r\nQ 22.859375 48.484375 18.828125 43.109375 \r\nQ 14.796875 37.75 14.796875 27.984375 \r\nQ 14.796875 18.265625 18.828125 12.890625 \r\nQ 22.859375 7.515625 30.078125 7.515625 \r\nQ 37.359375 7.515625 41.375 12.890625 \r\nQ 45.40625 18.265625 45.40625 27.984375 \r\nz\r\nM 54.390625 6.78125 \r\nQ 54.390625 -7.171875 48.1875 -13.984375 \r\nQ 42 -20.796875 29.203125 -20.796875 \r\nQ 24.46875 -20.796875 20.265625 -20.09375 \r\nQ 16.0625 -19.390625 12.109375 -17.921875 \r\nL 12.109375 -9.1875 \r\nQ 16.0625 -11.328125 19.921875 -12.34375 \r\nQ 23.78125 -13.375 27.78125 -13.375 \r\nQ 36.625 -13.375 41.015625 -8.765625 \r\nQ 45.40625 -4.15625 45.40625 5.171875 \r\nL 45.40625 9.625 \r\nQ 42.625 4.78125 38.28125 2.390625 \r\nQ 33.9375 0 27.875 0 \r\nQ 17.828125 0 11.671875 7.65625 \r\nQ 5.515625 15.328125 5.515625 27.984375 \r\nQ 5.515625 40.671875 11.671875 48.328125 \r\nQ 17.828125 56 27.875 56 \r\nQ 33.9375 56 38.28125 53.609375 \r\nQ 42.625 51.21875 45.40625 46.390625 \r\nL 45.40625 54.6875 \r\nL 54.390625 54.6875 \r\nz\r\n\" id=\"DejaVuSans-103\"/>\r\n       <path d=\"M 30.609375 48.390625 \r\nQ 23.390625 48.390625 19.1875 42.75 \r\nQ 14.984375 37.109375 14.984375 27.296875 \r\nQ 14.984375 17.484375 19.15625 11.84375 \r\nQ 23.34375 6.203125 30.609375 6.203125 \r\nQ 37.796875 6.203125 41.984375 11.859375 \r\nQ 46.1875 17.53125 46.1875 27.296875 \r\nQ 46.1875 37.015625 41.984375 42.703125 \r\nQ 37.796875 48.390625 30.609375 48.390625 \r\nz\r\nM 30.609375 56 \r\nQ 42.328125 56 49.015625 48.375 \r\nQ 55.71875 40.765625 55.71875 27.296875 \r\nQ 55.71875 13.875 49.015625 6.21875 \r\nQ 42.328125 -1.421875 30.609375 -1.421875 \r\nQ 18.84375 -1.421875 12.171875 6.21875 \r\nQ 5.515625 13.875 5.515625 27.296875 \r\nQ 5.515625 40.765625 12.171875 48.375 \r\nQ 18.84375 56 30.609375 56 \r\nz\r\n\" id=\"DejaVuSans-111\"/>\r\n      </defs>\r\n      <use xlink:href=\"#DejaVuSans-85\"/>\r\n      <use x=\"73.193359\" xlink:href=\"#DejaVuSans-110\"/>\r\n      <use x=\"136.572266\" xlink:href=\"#DejaVuSans-105\"/>\r\n      <use x=\"164.355469\" xlink:href=\"#DejaVuSans-116\"/>\r\n      <use x=\"203.564453\" xlink:href=\"#DejaVuSans-101\"/>\r\n      <use x=\"265.087891\" xlink:href=\"#DejaVuSans-100\"/>\r\n      <use x=\"328.564453\" xlink:href=\"#DejaVuSans-32\"/>\r\n      <use x=\"360.351562\" xlink:href=\"#DejaVuSans-75\"/>\r\n      <use x=\"425.927734\" xlink:href=\"#DejaVuSans-105\"/>\r\n      <use x=\"453.710938\" xlink:href=\"#DejaVuSans-110\"/>\r\n      <use x=\"517.089844\" xlink:href=\"#DejaVuSans-103\"/>\r\n      <use x=\"580.566406\" xlink:href=\"#DejaVuSans-100\"/>\r\n      <use x=\"644.042969\" xlink:href=\"#DejaVuSans-111\"/>\r\n      <use x=\"705.224609\" xlink:href=\"#DejaVuSans-109\"/>\r\n     </g>\r\n    </g>\r\n    <g id=\"line2d_30\">\r\n     <path d=\"M 29.5625 104.2875 \r\nL 49.5625 104.2875 \r\n\" style=\"fill:none;stroke:#8c564b;stroke-linecap:square;stroke-width:1.5;\"/>\r\n    </g>\r\n    <g id=\"line2d_31\"/>\r\n    <g id=\"text_20\">\r\n     <!-- Korea, South -->\r\n     <g transform=\"translate(57.5625 107.7875)scale(0.1 -0.1)\">\r\n      <defs>\r\n       <path d=\"M 11.71875 12.40625 \r\nL 22.015625 12.40625 \r\nL 22.015625 4 \r\nL 14.015625 -11.625 \r\nL 7.71875 -11.625 \r\nL 11.71875 4 \r\nz\r\n\" id=\"DejaVuSans-44\"/>\r\n       <path d=\"M 8.5 21.578125 \r\nL 8.5 54.6875 \r\nL 17.484375 54.6875 \r\nL 17.484375 21.921875 \r\nQ 17.484375 14.15625 20.5 10.265625 \r\nQ 23.53125 6.390625 29.59375 6.390625 \r\nQ 36.859375 6.390625 41.078125 11.03125 \r\nQ 45.3125 15.671875 45.3125 23.6875 \r\nL 45.3125 54.6875 \r\nL 54.296875 54.6875 \r\nL 54.296875 0 \r\nL 45.3125 0 \r\nL 45.3125 8.40625 \r\nQ 42.046875 3.421875 37.71875 1 \r\nQ 33.40625 -1.421875 27.6875 -1.421875 \r\nQ 18.265625 -1.421875 13.375 4.4375 \r\nQ 8.5 10.296875 8.5 21.578125 \r\nz\r\nM 31.109375 56 \r\nz\r\n\" id=\"DejaVuSans-117\"/>\r\n       <path d=\"M 54.890625 33.015625 \r\nL 54.890625 0 \r\nL 45.90625 0 \r\nL 45.90625 32.71875 \r\nQ 45.90625 40.484375 42.875 44.328125 \r\nQ 39.84375 48.1875 33.796875 48.1875 \r\nQ 26.515625 48.1875 22.3125 43.546875 \r\nQ 18.109375 38.921875 18.109375 30.90625 \r\nL 18.109375 0 \r\nL 9.078125 0 \r\nL 9.078125 75.984375 \r\nL 18.109375 75.984375 \r\nL 18.109375 46.1875 \r\nQ 21.34375 51.125 25.703125 53.5625 \r\nQ 30.078125 56 35.796875 56 \r\nQ 45.21875 56 50.046875 50.171875 \r\nQ 54.890625 44.34375 54.890625 33.015625 \r\nz\r\n\" id=\"DejaVuSans-104\"/>\r\n      </defs>\r\n      <use xlink:href=\"#DejaVuSans-75\"/>\r\n      <use x=\"60.576172\" xlink:href=\"#DejaVuSans-111\"/>\r\n      <use x=\"121.757812\" xlink:href=\"#DejaVuSans-114\"/>\r\n      <use x=\"160.621094\" xlink:href=\"#DejaVuSans-101\"/>\r\n      <use x=\"222.144531\" xlink:href=\"#DejaVuSans-97\"/>\r\n      <use x=\"283.423828\" xlink:href=\"#DejaVuSans-44\"/>\r\n      <use x=\"315.210938\" xlink:href=\"#DejaVuSans-32\"/>\r\n      <use x=\"346.998047\" xlink:href=\"#DejaVuSans-83\"/>\r\n      <use x=\"410.474609\" xlink:href=\"#DejaVuSans-111\"/>\r\n      <use x=\"471.65625\" xlink:href=\"#DejaVuSans-117\"/>\r\n      <use x=\"535.035156\" xlink:href=\"#DejaVuSans-116\"/>\r\n      <use x=\"574.244141\" xlink:href=\"#DejaVuSans-104\"/>\r\n     </g>\r\n    </g>\r\n    <g id=\"line2d_32\">\r\n     <path d=\"M 29.5625 118.965625 \r\nL 49.5625 118.965625 \r\n\" style=\"fill:none;stroke:#e377c2;stroke-linecap:square;stroke-width:1.5;\"/>\r\n    </g>\r\n    <g id=\"line2d_33\"/>\r\n    <g id=\"text_21\">\r\n     <!-- Japan -->\r\n     <g transform=\"translate(57.5625 122.465625)scale(0.1 -0.1)\">\r\n      <defs>\r\n       <path d=\"M 9.8125 72.90625 \r\nL 19.671875 72.90625 \r\nL 19.671875 5.078125 \r\nQ 19.671875 -8.109375 14.671875 -14.0625 \r\nQ 9.671875 -20.015625 -1.421875 -20.015625 \r\nL -5.171875 -20.015625 \r\nL -5.171875 -11.71875 \r\nL -2.09375 -11.71875 \r\nQ 4.4375 -11.71875 7.125 -8.046875 \r\nQ 9.8125 -4.390625 9.8125 5.078125 \r\nz\r\n\" id=\"DejaVuSans-74\"/>\r\n      </defs>\r\n      <use xlink:href=\"#DejaVuSans-74\"/>\r\n      <use x=\"29.492188\" xlink:href=\"#DejaVuSans-97\"/>\r\n      <use x=\"90.771484\" xlink:href=\"#DejaVuSans-112\"/>\r\n      <use x=\"154.248047\" xlink:href=\"#DejaVuSans-97\"/>\r\n      <use x=\"215.527344\" xlink:href=\"#DejaVuSans-110\"/>\r\n     </g>\r\n    </g>\r\n   </g>\r\n  </g>\r\n </g>\r\n <defs>\r\n  <clipPath id=\"p2fe86f1c1f\">\r\n   <rect height=\"217.44\" width=\"334.8\" x=\"20.5625\" y=\"17.798438\"/>\r\n  </clipPath>\r\n </defs>\r\n</svg>\r\n",
      "image/png": "[encoded data removed]"
     },
     "metadata": {
      "needs_background": "light"
     }
    }
   ],
   "source": [
    "df_plot.set_index('date').plot()"
   ]
  },
  {
   "cell_type": "code",
   "execution_count": 12,
   "metadata": {
    "tags": []
   },
   "outputs": [
    {
     "output_type": "stream",
     "name": "stdout",
     "text": "<class 'str'>\n"
    }
   ],
   "source": [
    "time_idx=[datetime.strptime( each,\"%m/%d/%y\") for each in df_plot.date]\n",
    "time_str=[each.strftime('%Y-%m-%d') for each in time_idx] # convert back to date ISO norm (str)\n",
    "print(type(time_str[0]))\n"
   ]
  },
  {
   "cell_type": "code",
   "execution_count": 13,
   "metadata": {},
   "outputs": [
    {
     "output_type": "execute_result",
     "data": {
      "text/plain": "1   2020-01-23\n2   2020-01-24\nName: date, dtype: datetime64[ns]"
     },
     "metadata": {},
     "execution_count": 13
    }
   ],
   "source": [
    "df_plot['date']=time_idx\n",
    "\n",
    "type(df_plot['date'][0])\n",
    "df_plot.date[1:3]"
   ]
  },
  {
   "cell_type": "code",
   "execution_count": 14,
   "metadata": {},
   "outputs": [
    {
     "output_type": "execute_result",
     "data": {
      "text/plain": "        date  India  US  Spain  Germany  United Kingdom  Korea, South  Japan\n0 2020-01-22      0   1      0        0               0             1      2\n1 2020-01-23      0   1      0        0               0             1      2\n2 2020-01-24      0   2      0        0               0             2      2\n3 2020-01-25      0   2      0        0               0             2      2\n4 2020-01-26      0   5      0        0               0             3      4",
      "text/html": "<div>\n<style scoped>\n    .dataframe tbody tr th:only-of-type {\n        vertical-align: middle;\n    }\n\n    .dataframe tbody tr th {\n        vertical-align: top;\n    }\n\n    .dataframe thead th {\n        text-align: right;\n    }\n</style>\n<table border=\"1\" class=\"dataframe\">\n  <thead>\n    <tr style=\"text-align: right;\">\n      <th></th>\n      <th>date</th>\n      <th>India</th>\n      <th>US</th>\n      <th>Spain</th>\n      <th>Germany</th>\n      <th>United Kingdom</th>\n      <th>Korea, South</th>\n      <th>Japan</th>\n    </tr>\n  </thead>\n  <tbody>\n    <tr>\n      <th>0</th>\n      <td>2020-01-22</td>\n      <td>0</td>\n      <td>1</td>\n      <td>0</td>\n      <td>0</td>\n      <td>0</td>\n      <td>1</td>\n      <td>2</td>\n    </tr>\n    <tr>\n      <th>1</th>\n      <td>2020-01-23</td>\n      <td>0</td>\n      <td>1</td>\n      <td>0</td>\n      <td>0</td>\n      <td>0</td>\n      <td>1</td>\n      <td>2</td>\n    </tr>\n    <tr>\n      <th>2</th>\n      <td>2020-01-24</td>\n      <td>0</td>\n      <td>2</td>\n      <td>0</td>\n      <td>0</td>\n      <td>0</td>\n      <td>2</td>\n      <td>2</td>\n    </tr>\n    <tr>\n      <th>3</th>\n      <td>2020-01-25</td>\n      <td>0</td>\n      <td>2</td>\n      <td>0</td>\n      <td>0</td>\n      <td>0</td>\n      <td>2</td>\n      <td>2</td>\n    </tr>\n    <tr>\n      <th>4</th>\n      <td>2020-01-26</td>\n      <td>0</td>\n      <td>5</td>\n      <td>0</td>\n      <td>0</td>\n      <td>0</td>\n      <td>3</td>\n      <td>4</td>\n    </tr>\n  </tbody>\n</table>\n</div>"
     },
     "metadata": {},
     "execution_count": 14
    }
   ],
   "source": [
    "df_plot.head()"
   ]
  },
  {
   "cell_type": "code",
   "execution_count": 15,
   "metadata": {},
   "outputs": [],
   "source": [
    "df_plot.to_csv('../data/processed/COVID_small_flat_table.csv',sep=';',index=False)"
   ]
  },
  {
   "cell_type": "markdown",
   "metadata": {},
   "source": [
    "### Relational data model - defining a primary key\n"
   ]
  },
  {
   "cell_type": "code",
   "execution_count": 16,
   "metadata": {},
   "outputs": [],
   "source": [
    "data_path='../data/raw/COVID-19/csse_covid_19_data/csse_covid_19_time_series/time_series_covid19_confirmed_global.csv'\n",
    "pd_raw=pd.read_csv(data_path)"
   ]
  },
  {
   "cell_type": "code",
   "execution_count": 17,
   "metadata": {},
   "outputs": [],
   "source": [
    "pd_data_base=pd_raw.rename(columns={'Country/Region':'country',\n",
    "                      'Province/State':'state'})\n",
    "pd_data_base['state']=pd_data_base['state'].fillna('no')  #ensure a sring, important for indexing"
   ]
  },
  {
   "cell_type": "code",
   "execution_count": 18,
   "metadata": {},
   "outputs": [
    {
     "output_type": "execute_result",
     "data": {
      "text/plain": "  state      country  1/22/20  1/23/20  1/24/20  1/25/20  1/26/20  1/27/20  \\\n0    no  Afghanistan        0        0        0        0        0        0   \n1    no      Albania        0        0        0        0        0        0   \n2    no      Algeria        0        0        0        0        0        0   \n3    no      Andorra        0        0        0        0        0        0   \n4    no       Angola        0        0        0        0        0        0   \n\n   1/28/20  1/29/20  ...  9/3/20  9/4/20  9/5/20  9/6/20  9/7/20  9/8/20  \\\n0        0        0  ...   38288   38304   38324   38398   38494   38520   \n1        0        0  ...    9844    9967   10102   10255   10406   10553   \n2        0        0  ...   45469   45773   46071   46364   46653   46938   \n3        0        0  ...    1199    1215    1215    1215    1261    1261   \n4        0        0  ...    2805    2876    2935    2965    2981    3033   \n\n   9/9/20  9/10/20  9/11/20  9/12/20  \n0   38544    38572    38606    38641  \n1   10704    10860    11021    11185  \n2   47216    47488    47752    48007  \n3    1301     1301     1344     1344  \n4    3092     3217     3279     3335  \n\n[5 rows x 237 columns]",
      "text/html": "<div>\n<style scoped>\n    .dataframe tbody tr th:only-of-type {\n        vertical-align: middle;\n    }\n\n    .dataframe tbody tr th {\n        vertical-align: top;\n    }\n\n    .dataframe thead th {\n        text-align: right;\n    }\n</style>\n<table border=\"1\" class=\"dataframe\">\n  <thead>\n    <tr style=\"text-align: right;\">\n      <th></th>\n      <th>state</th>\n      <th>country</th>\n      <th>1/22/20</th>\n      <th>1/23/20</th>\n      <th>1/24/20</th>\n      <th>1/25/20</th>\n      <th>1/26/20</th>\n      <th>1/27/20</th>\n      <th>1/28/20</th>\n      <th>1/29/20</th>\n      <th>...</th>\n      <th>9/3/20</th>\n      <th>9/4/20</th>\n      <th>9/5/20</th>\n      <th>9/6/20</th>\n      <th>9/7/20</th>\n      <th>9/8/20</th>\n      <th>9/9/20</th>\n      <th>9/10/20</th>\n      <th>9/11/20</th>\n      <th>9/12/20</th>\n    </tr>\n  </thead>\n  <tbody>\n    <tr>\n      <th>0</th>\n      <td>no</td>\n      <td>Afghanistan</td>\n      <td>0</td>\n      <td>0</td>\n      <td>0</td>\n      <td>0</td>\n      <td>0</td>\n      <td>0</td>\n      <td>0</td>\n      <td>0</td>\n      <td>...</td>\n      <td>38288</td>\n      <td>38304</td>\n      <td>38324</td>\n      <td>38398</td>\n      <td>38494</td>\n      <td>38520</td>\n      <td>38544</td>\n      <td>38572</td>\n      <td>38606</td>\n      <td>38641</td>\n    </tr>\n    <tr>\n      <th>1</th>\n      <td>no</td>\n      <td>Albania</td>\n      <td>0</td>\n      <td>0</td>\n      <td>0</td>\n      <td>0</td>\n      <td>0</td>\n      <td>0</td>\n      <td>0</td>\n      <td>0</td>\n      <td>...</td>\n      <td>9844</td>\n      <td>9967</td>\n      <td>10102</td>\n      <td>10255</td>\n      <td>10406</td>\n      <td>10553</td>\n      <td>10704</td>\n      <td>10860</td>\n      <td>11021</td>\n      <td>11185</td>\n    </tr>\n    <tr>\n      <th>2</th>\n      <td>no</td>\n      <td>Algeria</td>\n      <td>0</td>\n      <td>0</td>\n      <td>0</td>\n      <td>0</td>\n      <td>0</td>\n      <td>0</td>\n      <td>0</td>\n      <td>0</td>\n      <td>...</td>\n      <td>45469</td>\n      <td>45773</td>\n      <td>46071</td>\n      <td>46364</td>\n      <td>46653</td>\n      <td>46938</td>\n      <td>47216</td>\n      <td>47488</td>\n      <td>47752</td>\n      <td>48007</td>\n    </tr>\n    <tr>\n      <th>3</th>\n      <td>no</td>\n      <td>Andorra</td>\n      <td>0</td>\n      <td>0</td>\n      <td>0</td>\n      <td>0</td>\n      <td>0</td>\n      <td>0</td>\n      <td>0</td>\n      <td>0</td>\n      <td>...</td>\n      <td>1199</td>\n      <td>1215</td>\n      <td>1215</td>\n      <td>1215</td>\n      <td>1261</td>\n      <td>1261</td>\n      <td>1301</td>\n      <td>1301</td>\n      <td>1344</td>\n      <td>1344</td>\n    </tr>\n    <tr>\n      <th>4</th>\n      <td>no</td>\n      <td>Angola</td>\n      <td>0</td>\n      <td>0</td>\n      <td>0</td>\n      <td>0</td>\n      <td>0</td>\n      <td>0</td>\n      <td>0</td>\n      <td>0</td>\n      <td>...</td>\n      <td>2805</td>\n      <td>2876</td>\n      <td>2935</td>\n      <td>2965</td>\n      <td>2981</td>\n      <td>3033</td>\n      <td>3092</td>\n      <td>3217</td>\n      <td>3279</td>\n      <td>3335</td>\n    </tr>\n  </tbody>\n</table>\n<p>5 rows × 237 columns</p>\n</div>"
     },
     "metadata": {},
     "execution_count": 18
    }
   ],
   "source": [
    "pd_data_base=pd_data_base.drop(['Lat','Long'],axis=1)\n",
    "pd_data_base.head()"
   ]
  },
  {
   "cell_type": "code",
   "execution_count": 19,
   "metadata": {},
   "outputs": [
    {
     "output_type": "execute_result",
     "data": {
      "text/plain": "                   1/22/20  1/23/20  1/24/20  1/25/20  1/26/20  1/27/20  \\\nstate country                                                             \nno    Afghanistan        0        0        0        0        0        0   \n      Albania            0        0        0        0        0        0   \n      Algeria            0        0        0        0        0        0   \n      Andorra            0        0        0        0        0        0   \n      Angola             0        0        0        0        0        0   \n\n                   1/28/20  1/29/20  1/30/20  1/31/20  ...  9/3/20  9/4/20  \\\nstate country                                          ...                   \nno    Afghanistan        0        0        0        0  ...   38288   38304   \n      Albania            0        0        0        0  ...    9844    9967   \n      Algeria            0        0        0        0  ...   45469   45773   \n      Andorra            0        0        0        0  ...    1199    1215   \n      Angola             0        0        0        0  ...    2805    2876   \n\n                   9/5/20  9/6/20  9/7/20  9/8/20  9/9/20  9/10/20  9/11/20  \\\nstate country                                                                 \nno    Afghanistan   38324   38398   38494   38520   38544    38572    38606   \n      Albania       10102   10255   10406   10553   10704    10860    11021   \n      Algeria       46071   46364   46653   46938   47216    47488    47752   \n      Andorra        1215    1215    1261    1261    1301     1301     1344   \n      Angola         2935    2965    2981    3033    3092     3217     3279   \n\n                   9/12/20  \nstate country               \nno    Afghanistan    38641  \n      Albania        11185  \n      Algeria        48007  \n      Andorra         1344  \n      Angola          3335  \n\n[5 rows x 235 columns]",
      "text/html": "<div>\n<style scoped>\n    .dataframe tbody tr th:only-of-type {\n        vertical-align: middle;\n    }\n\n    .dataframe tbody tr th {\n        vertical-align: top;\n    }\n\n    .dataframe thead th {\n        text-align: right;\n    }\n</style>\n<table border=\"1\" class=\"dataframe\">\n  <thead>\n    <tr style=\"text-align: right;\">\n      <th></th>\n      <th></th>\n      <th>1/22/20</th>\n      <th>1/23/20</th>\n      <th>1/24/20</th>\n      <th>1/25/20</th>\n      <th>1/26/20</th>\n      <th>1/27/20</th>\n      <th>1/28/20</th>\n      <th>1/29/20</th>\n      <th>1/30/20</th>\n      <th>1/31/20</th>\n      <th>...</th>\n      <th>9/3/20</th>\n      <th>9/4/20</th>\n      <th>9/5/20</th>\n      <th>9/6/20</th>\n      <th>9/7/20</th>\n      <th>9/8/20</th>\n      <th>9/9/20</th>\n      <th>9/10/20</th>\n      <th>9/11/20</th>\n      <th>9/12/20</th>\n    </tr>\n    <tr>\n      <th>state</th>\n      <th>country</th>\n      <th></th>\n      <th></th>\n      <th></th>\n      <th></th>\n      <th></th>\n      <th></th>\n      <th></th>\n      <th></th>\n      <th></th>\n      <th></th>\n      <th></th>\n      <th></th>\n      <th></th>\n      <th></th>\n      <th></th>\n      <th></th>\n      <th></th>\n      <th></th>\n      <th></th>\n      <th></th>\n      <th></th>\n    </tr>\n  </thead>\n  <tbody>\n    <tr>\n      <th rowspan=\"5\" valign=\"top\">no</th>\n      <th>Afghanistan</th>\n      <td>0</td>\n      <td>0</td>\n      <td>0</td>\n      <td>0</td>\n      <td>0</td>\n      <td>0</td>\n      <td>0</td>\n      <td>0</td>\n      <td>0</td>\n      <td>0</td>\n      <td>...</td>\n      <td>38288</td>\n      <td>38304</td>\n      <td>38324</td>\n      <td>38398</td>\n      <td>38494</td>\n      <td>38520</td>\n      <td>38544</td>\n      <td>38572</td>\n      <td>38606</td>\n      <td>38641</td>\n    </tr>\n    <tr>\n      <th>Albania</th>\n      <td>0</td>\n      <td>0</td>\n      <td>0</td>\n      <td>0</td>\n      <td>0</td>\n      <td>0</td>\n      <td>0</td>\n      <td>0</td>\n      <td>0</td>\n      <td>0</td>\n      <td>...</td>\n      <td>9844</td>\n      <td>9967</td>\n      <td>10102</td>\n      <td>10255</td>\n      <td>10406</td>\n      <td>10553</td>\n      <td>10704</td>\n      <td>10860</td>\n      <td>11021</td>\n      <td>11185</td>\n    </tr>\n    <tr>\n      <th>Algeria</th>\n      <td>0</td>\n      <td>0</td>\n      <td>0</td>\n      <td>0</td>\n      <td>0</td>\n      <td>0</td>\n      <td>0</td>\n      <td>0</td>\n      <td>0</td>\n      <td>0</td>\n      <td>...</td>\n      <td>45469</td>\n      <td>45773</td>\n      <td>46071</td>\n      <td>46364</td>\n      <td>46653</td>\n      <td>46938</td>\n      <td>47216</td>\n      <td>47488</td>\n      <td>47752</td>\n      <td>48007</td>\n    </tr>\n    <tr>\n      <th>Andorra</th>\n      <td>0</td>\n      <td>0</td>\n      <td>0</td>\n      <td>0</td>\n      <td>0</td>\n      <td>0</td>\n      <td>0</td>\n      <td>0</td>\n      <td>0</td>\n      <td>0</td>\n      <td>...</td>\n      <td>1199</td>\n      <td>1215</td>\n      <td>1215</td>\n      <td>1215</td>\n      <td>1261</td>\n      <td>1261</td>\n      <td>1301</td>\n      <td>1301</td>\n      <td>1344</td>\n      <td>1344</td>\n    </tr>\n    <tr>\n      <th>Angola</th>\n      <td>0</td>\n      <td>0</td>\n      <td>0</td>\n      <td>0</td>\n      <td>0</td>\n      <td>0</td>\n      <td>0</td>\n      <td>0</td>\n      <td>0</td>\n      <td>0</td>\n      <td>...</td>\n      <td>2805</td>\n      <td>2876</td>\n      <td>2935</td>\n      <td>2965</td>\n      <td>2981</td>\n      <td>3033</td>\n      <td>3092</td>\n      <td>3217</td>\n      <td>3279</td>\n      <td>3335</td>\n    </tr>\n  </tbody>\n</table>\n<p>5 rows × 235 columns</p>\n</div>"
     },
     "metadata": {},
     "execution_count": 19
    }
   ],
   "source": [
    "pd_relational_model=pd_data_base.set_index(['state','country'])\n",
    "pd_relational_model.head()\n",
    "\n"
   ]
  },
  {
   "cell_type": "code",
   "execution_count": 20,
   "metadata": {},
   "outputs": [
    {
     "output_type": "execute_result",
     "data": {
      "text/plain": "state            no                                                     \\\ncountry Afghanistan Albania Algeria Andorra Angola Antigua and Barbuda   \n1/22/20           0       0       0       0      0                   0   \n1/23/20           0       0       0       0      0                   0   \n1/24/20           0       0       0       0      0                   0   \n1/25/20           0       0       0       0      0                   0   \n1/26/20           0       0       0       0      0                   0   \n\nstate                     Australian Capital Territory New South Wales  ...  \\\ncountry Argentina Armenia                    Australia       Australia  ...   \n1/22/20         0       0                            0               0  ...   \n1/23/20         0       0                            0               0  ...   \n1/24/20         0       0                            0               0  ...   \n1/25/20         0       0                            0               0  ...   \n1/26/20         0       0                            0               3  ...   \n\nstate               no                                       \\\ncountry United Kingdom Uruguay Uzbekistan Venezuela Vietnam   \n1/22/20              0       0          0         0       0   \n1/23/20              0       0          0         0       2   \n1/24/20              0       0          0         0       2   \n1/25/20              0       0          0         0       2   \n1/26/20              0       0          0         0       2   \n\nstate                                                            \ncountry West Bank and Gaza Western Sahara Yemen Zambia Zimbabwe  \n1/22/20                  0              0     0      0        0  \n1/23/20                  0              0     0      0        0  \n1/24/20                  0              0     0      0        0  \n1/25/20                  0              0     0      0        0  \n1/26/20                  0              0     0      0        0  \n\n[5 rows x 266 columns]",
      "text/html": "<div>\n<style scoped>\n    .dataframe tbody tr th:only-of-type {\n        vertical-align: middle;\n    }\n\n    .dataframe tbody tr th {\n        vertical-align: top;\n    }\n\n    .dataframe thead tr th {\n        text-align: left;\n    }\n</style>\n<table border=\"1\" class=\"dataframe\">\n  <thead>\n    <tr>\n      <th>state</th>\n      <th colspan=\"8\" halign=\"left\">no</th>\n      <th>Australian Capital Territory</th>\n      <th>New South Wales</th>\n      <th>...</th>\n      <th colspan=\"10\" halign=\"left\">no</th>\n    </tr>\n    <tr>\n      <th>country</th>\n      <th>Afghanistan</th>\n      <th>Albania</th>\n      <th>Algeria</th>\n      <th>Andorra</th>\n      <th>Angola</th>\n      <th>Antigua and Barbuda</th>\n      <th>Argentina</th>\n      <th>Armenia</th>\n      <th>Australia</th>\n      <th>Australia</th>\n      <th>...</th>\n      <th>United Kingdom</th>\n      <th>Uruguay</th>\n      <th>Uzbekistan</th>\n      <th>Venezuela</th>\n      <th>Vietnam</th>\n      <th>West Bank and Gaza</th>\n      <th>Western Sahara</th>\n      <th>Yemen</th>\n      <th>Zambia</th>\n      <th>Zimbabwe</th>\n    </tr>\n  </thead>\n  <tbody>\n    <tr>\n      <th>1/22/20</th>\n      <td>0</td>\n      <td>0</td>\n      <td>0</td>\n      <td>0</td>\n      <td>0</td>\n      <td>0</td>\n      <td>0</td>\n      <td>0</td>\n      <td>0</td>\n      <td>0</td>\n      <td>...</td>\n      <td>0</td>\n      <td>0</td>\n      <td>0</td>\n      <td>0</td>\n      <td>0</td>\n      <td>0</td>\n      <td>0</td>\n      <td>0</td>\n      <td>0</td>\n      <td>0</td>\n    </tr>\n    <tr>\n      <th>1/23/20</th>\n      <td>0</td>\n      <td>0</td>\n      <td>0</td>\n      <td>0</td>\n      <td>0</td>\n      <td>0</td>\n      <td>0</td>\n      <td>0</td>\n      <td>0</td>\n      <td>0</td>\n      <td>...</td>\n      <td>0</td>\n      <td>0</td>\n      <td>0</td>\n      <td>0</td>\n      <td>2</td>\n      <td>0</td>\n      <td>0</td>\n      <td>0</td>\n      <td>0</td>\n      <td>0</td>\n    </tr>\n    <tr>\n      <th>1/24/20</th>\n      <td>0</td>\n      <td>0</td>\n      <td>0</td>\n      <td>0</td>\n      <td>0</td>\n      <td>0</td>\n      <td>0</td>\n      <td>0</td>\n      <td>0</td>\n      <td>0</td>\n      <td>...</td>\n      <td>0</td>\n      <td>0</td>\n      <td>0</td>\n      <td>0</td>\n      <td>2</td>\n      <td>0</td>\n      <td>0</td>\n      <td>0</td>\n      <td>0</td>\n      <td>0</td>\n    </tr>\n    <tr>\n      <th>1/25/20</th>\n      <td>0</td>\n      <td>0</td>\n      <td>0</td>\n      <td>0</td>\n      <td>0</td>\n      <td>0</td>\n      <td>0</td>\n      <td>0</td>\n      <td>0</td>\n      <td>0</td>\n      <td>...</td>\n      <td>0</td>\n      <td>0</td>\n      <td>0</td>\n      <td>0</td>\n      <td>2</td>\n      <td>0</td>\n      <td>0</td>\n      <td>0</td>\n      <td>0</td>\n      <td>0</td>\n    </tr>\n    <tr>\n      <th>1/26/20</th>\n      <td>0</td>\n      <td>0</td>\n      <td>0</td>\n      <td>0</td>\n      <td>0</td>\n      <td>0</td>\n      <td>0</td>\n      <td>0</td>\n      <td>0</td>\n      <td>3</td>\n      <td>...</td>\n      <td>0</td>\n      <td>0</td>\n      <td>0</td>\n      <td>0</td>\n      <td>2</td>\n      <td>0</td>\n      <td>0</td>\n      <td>0</td>\n      <td>0</td>\n      <td>0</td>\n    </tr>\n  </tbody>\n</table>\n<p>5 rows × 266 columns</p>\n</div>"
     },
     "metadata": {},
     "execution_count": 20
    }
   ],
   "source": [
    "pd_relational_model=pd_relational_model.T\n",
    "pd_relational_model.head()"
   ]
  },
  {
   "cell_type": "code",
   "execution_count": 21,
   "metadata": {},
   "outputs": [],
   "source": [
    "pd_relational_model=pd_relational_model.stack(level=[0,1]).reset_index()\n"
   ]
  },
  {
   "cell_type": "code",
   "execution_count": 22,
   "metadata": {},
   "outputs": [
    {
     "output_type": "execute_result",
     "data": {
      "text/plain": "      date                         state         country  confirmed\n0  1/22/20                       Alberta          Canada        0.0\n1  1/22/20                      Anguilla  United Kingdom        0.0\n2  1/22/20                         Anhui           China        1.0\n3  1/22/20                         Aruba     Netherlands        0.0\n4  1/22/20  Australian Capital Territory       Australia        0.0",
      "text/html": "<div>\n<style scoped>\n    .dataframe tbody tr th:only-of-type {\n        vertical-align: middle;\n    }\n\n    .dataframe tbody tr th {\n        vertical-align: top;\n    }\n\n    .dataframe thead th {\n        text-align: right;\n    }\n</style>\n<table border=\"1\" class=\"dataframe\">\n  <thead>\n    <tr style=\"text-align: right;\">\n      <th></th>\n      <th>date</th>\n      <th>state</th>\n      <th>country</th>\n      <th>confirmed</th>\n    </tr>\n  </thead>\n  <tbody>\n    <tr>\n      <th>0</th>\n      <td>1/22/20</td>\n      <td>Alberta</td>\n      <td>Canada</td>\n      <td>0.0</td>\n    </tr>\n    <tr>\n      <th>1</th>\n      <td>1/22/20</td>\n      <td>Anguilla</td>\n      <td>United Kingdom</td>\n      <td>0.0</td>\n    </tr>\n    <tr>\n      <th>2</th>\n      <td>1/22/20</td>\n      <td>Anhui</td>\n      <td>China</td>\n      <td>1.0</td>\n    </tr>\n    <tr>\n      <th>3</th>\n      <td>1/22/20</td>\n      <td>Aruba</td>\n      <td>Netherlands</td>\n      <td>0.0</td>\n    </tr>\n    <tr>\n      <th>4</th>\n      <td>1/22/20</td>\n      <td>Australian Capital Territory</td>\n      <td>Australia</td>\n      <td>0.0</td>\n    </tr>\n  </tbody>\n</table>\n</div>"
     },
     "metadata": {},
     "execution_count": 22
    }
   ],
   "source": [
    "pd_relational_model = pd_relational_model.rename(columns={'level_0':'date',0:'confirmed'})\n",
    "pd_relational_model.head()"
   ]
  },
  {
   "cell_type": "code",
   "execution_count": 23,
   "metadata": {},
   "outputs": [
    {
     "output_type": "execute_result",
     "data": {
      "text/plain": "str"
     },
     "metadata": {},
     "execution_count": 23
    }
   ],
   "source": [
    "type(pd_relational_model['date'][0])"
   ]
  },
  {
   "cell_type": "code",
   "execution_count": 24,
   "metadata": {},
   "outputs": [
    {
     "output_type": "execute_result",
     "data": {
      "text/plain": "date         datetime64[ns]\nstate                object\ncountry              object\nconfirmed             int32\ndtype: object"
     },
     "metadata": {},
     "execution_count": 24
    }
   ],
   "source": [
    "pd_relational_model['date']=pd_relational_model.date.astype('datetime64[ns]')\n",
    "pd_relational_model.confirmed=pd_relational_model.confirmed.astype(int)\n",
    "\n",
    "pd_relational_model.dtypes"
   ]
  },
  {
   "cell_type": "code",
   "execution_count": 25,
   "metadata": {},
   "outputs": [
    {
     "output_type": "execute_result",
     "data": {
      "text/plain": "        date                         state         country  confirmed\n0 2020-01-22                       Alberta          Canada          0\n1 2020-01-22                      Anguilla  United Kingdom          0\n2 2020-01-22                         Anhui           China          1\n3 2020-01-22                         Aruba     Netherlands          0\n4 2020-01-22  Australian Capital Territory       Australia          0",
      "text/html": "<div>\n<style scoped>\n    .dataframe tbody tr th:only-of-type {\n        vertical-align: middle;\n    }\n\n    .dataframe tbody tr th {\n        vertical-align: top;\n    }\n\n    .dataframe thead th {\n        text-align: right;\n    }\n</style>\n<table border=\"1\" class=\"dataframe\">\n  <thead>\n    <tr style=\"text-align: right;\">\n      <th></th>\n      <th>date</th>\n      <th>state</th>\n      <th>country</th>\n      <th>confirmed</th>\n    </tr>\n  </thead>\n  <tbody>\n    <tr>\n      <th>0</th>\n      <td>2020-01-22</td>\n      <td>Alberta</td>\n      <td>Canada</td>\n      <td>0</td>\n    </tr>\n    <tr>\n      <th>1</th>\n      <td>2020-01-22</td>\n      <td>Anguilla</td>\n      <td>United Kingdom</td>\n      <td>0</td>\n    </tr>\n    <tr>\n      <th>2</th>\n      <td>2020-01-22</td>\n      <td>Anhui</td>\n      <td>China</td>\n      <td>1</td>\n    </tr>\n    <tr>\n      <th>3</th>\n      <td>2020-01-22</td>\n      <td>Aruba</td>\n      <td>Netherlands</td>\n      <td>0</td>\n    </tr>\n    <tr>\n      <th>4</th>\n      <td>2020-01-22</td>\n      <td>Australian Capital Territory</td>\n      <td>Australia</td>\n      <td>0</td>\n    </tr>\n  </tbody>\n</table>\n</div>"
     },
     "metadata": {},
     "execution_count": 25
    }
   ],
   "source": [
    "pd_relational_model.head()"
   ]
  },
  {
   "cell_type": "code",
   "execution_count": 26,
   "metadata": {},
   "outputs": [],
   "source": [
    "pd_relational_model.to_csv('../data/processed/COVID_relational_confirmed.csv',sep=';',index=False)"
   ]
  },
  {
   "cell_type": "code",
   "execution_count": 27,
   "metadata": {},
   "outputs": [
    {
     "output_type": "execute_result",
     "data": {
      "text/plain": "        date    state       country  confirmed\n0 2020-01-22  Alberta        Canada          0\n1 2020-01-22       no  Korea, South          1\n2 2020-01-22       no        Kosovo          0\n3 2020-01-22       no        Kuwait          0\n4 2020-01-22       no    Kyrgyzstan          0",
      "text/html": "<div>\n<style scoped>\n    .dataframe tbody tr th:only-of-type {\n        vertical-align: middle;\n    }\n\n    .dataframe tbody tr th {\n        vertical-align: top;\n    }\n\n    .dataframe thead th {\n        text-align: right;\n    }\n</style>\n<table border=\"1\" class=\"dataframe\">\n  <thead>\n    <tr style=\"text-align: right;\">\n      <th></th>\n      <th>date</th>\n      <th>state</th>\n      <th>country</th>\n      <th>confirmed</th>\n    </tr>\n  </thead>\n  <tbody>\n    <tr>\n      <th>0</th>\n      <td>2020-01-22</td>\n      <td>Alberta</td>\n      <td>Canada</td>\n      <td>0</td>\n    </tr>\n    <tr>\n      <th>1</th>\n      <td>2020-01-22</td>\n      <td>no</td>\n      <td>Korea, South</td>\n      <td>1</td>\n    </tr>\n    <tr>\n      <th>2</th>\n      <td>2020-01-22</td>\n      <td>no</td>\n      <td>Kosovo</td>\n      <td>0</td>\n    </tr>\n    <tr>\n      <th>3</th>\n      <td>2020-01-22</td>\n      <td>no</td>\n      <td>Kuwait</td>\n      <td>0</td>\n    </tr>\n    <tr>\n      <th>4</th>\n      <td>2020-01-22</td>\n      <td>no</td>\n      <td>Kyrgyzstan</td>\n      <td>0</td>\n    </tr>\n  </tbody>\n</table>\n</div>"
     },
     "metadata": {},
     "execution_count": 27
    }
   ],
   "source": [
    "pd_JH_data=pd.read_csv('../data/processed/COVID_relational_confirmed.csv',sep=';',parse_dates=[0])\n",
    "pd_JH_data=pd_JH_data.sort_values('date',ascending=True).reset_index(drop=True).copy()\n",
    "pd_JH_data.head()"
   ]
  },
  {
   "cell_type": "code",
   "execution_count": 28,
   "metadata": {},
   "outputs": [],
   "source": [
    "test_data=pd_JH_data[((pd_JH_data['country']=='India')|\n",
    "                      (pd_JH_data['country']=='Germany'))&\n",
    "                     (pd_JH_data['date']>'2020-03-20')]"
   ]
  },
  {
   "cell_type": "code",
   "execution_count": 29,
   "metadata": {},
   "outputs": [
    {
     "output_type": "execute_result",
     "data": {
      "text/plain": "            date state  country  confirmed\n61766 2020-09-10    no    India    4562414\n62021 2020-09-11    no  Germany     259735\n62033 2020-09-11    no    India    4659984\n62286 2020-09-12    no  Germany     260817\n62299 2020-09-12    no    India    4754356",
      "text/html": "<div>\n<style scoped>\n    .dataframe tbody tr th:only-of-type {\n        vertical-align: middle;\n    }\n\n    .dataframe tbody tr th {\n        vertical-align: top;\n    }\n\n    .dataframe thead th {\n        text-align: right;\n    }\n</style>\n<table border=\"1\" class=\"dataframe\">\n  <thead>\n    <tr style=\"text-align: right;\">\n      <th></th>\n      <th>date</th>\n      <th>state</th>\n      <th>country</th>\n      <th>confirmed</th>\n    </tr>\n  </thead>\n  <tbody>\n    <tr>\n      <th>61766</th>\n      <td>2020-09-10</td>\n      <td>no</td>\n      <td>India</td>\n      <td>4562414</td>\n    </tr>\n    <tr>\n      <th>62021</th>\n      <td>2020-09-11</td>\n      <td>no</td>\n      <td>Germany</td>\n      <td>259735</td>\n    </tr>\n    <tr>\n      <th>62033</th>\n      <td>2020-09-11</td>\n      <td>no</td>\n      <td>India</td>\n      <td>4659984</td>\n    </tr>\n    <tr>\n      <th>62286</th>\n      <td>2020-09-12</td>\n      <td>no</td>\n      <td>Germany</td>\n      <td>260817</td>\n    </tr>\n    <tr>\n      <th>62299</th>\n      <td>2020-09-12</td>\n      <td>no</td>\n      <td>India</td>\n      <td>4754356</td>\n    </tr>\n  </tbody>\n</table>\n</div>"
     },
     "metadata": {},
     "execution_count": 29
    }
   ],
   "source": [
    "test_data.tail()"
   ]
  },
  {
   "cell_type": "code",
   "execution_count": 30,
   "metadata": {
    "tags": []
   },
   "outputs": [
    {
     "output_type": "execute_result",
     "data": {
      "text/plain": "              date state  confirmed\ncountry                            \nGermany 2020-09-12    no     260817\nIndia   2020-09-12    no    4754356",
      "text/html": "<div>\n<style scoped>\n    .dataframe tbody tr th:only-of-type {\n        vertical-align: middle;\n    }\n\n    .dataframe tbody tr th {\n        vertical-align: top;\n    }\n\n    .dataframe thead th {\n        text-align: right;\n    }\n</style>\n<table border=\"1\" class=\"dataframe\">\n  <thead>\n    <tr style=\"text-align: right;\">\n      <th></th>\n      <th>date</th>\n      <th>state</th>\n      <th>confirmed</th>\n    </tr>\n    <tr>\n      <th>country</th>\n      <th></th>\n      <th></th>\n      <th></th>\n    </tr>\n  </thead>\n  <tbody>\n    <tr>\n      <th>Germany</th>\n      <td>2020-09-12</td>\n      <td>no</td>\n      <td>260817</td>\n    </tr>\n    <tr>\n      <th>India</th>\n      <td>2020-09-12</td>\n      <td>no</td>\n      <td>4754356</td>\n    </tr>\n  </tbody>\n</table>\n</div>"
     },
     "metadata": {},
     "execution_count": 30
    }
   ],
   "source": [
    "test_data.groupby(['country']).agg(np.max)"
   ]
  },
  {
   "cell_type": "code",
   "execution_count": 31,
   "metadata": {},
   "outputs": [
    {
     "output_type": "execute_result",
     "data": {
      "text/plain": "                    date  confirmed\nstate country                      \nno    Germany 2020-09-12     260817\n      India   2020-09-12    4754356",
      "text/html": "<div>\n<style scoped>\n    .dataframe tbody tr th:only-of-type {\n        vertical-align: middle;\n    }\n\n    .dataframe tbody tr th {\n        vertical-align: top;\n    }\n\n    .dataframe thead th {\n        text-align: right;\n    }\n</style>\n<table border=\"1\" class=\"dataframe\">\n  <thead>\n    <tr style=\"text-align: right;\">\n      <th></th>\n      <th></th>\n      <th>date</th>\n      <th>confirmed</th>\n    </tr>\n    <tr>\n      <th>state</th>\n      <th>country</th>\n      <th></th>\n      <th></th>\n    </tr>\n  </thead>\n  <tbody>\n    <tr>\n      <th rowspan=\"2\" valign=\"top\">no</th>\n      <th>Germany</th>\n      <td>2020-09-12</td>\n      <td>260817</td>\n    </tr>\n    <tr>\n      <th>India</th>\n      <td>2020-09-12</td>\n      <td>4754356</td>\n    </tr>\n  </tbody>\n</table>\n</div>"
     },
     "metadata": {},
     "execution_count": 31
    }
   ],
   "source": [
    "test_data.groupby(['state', 'country']).agg(np.max)"
   ]
  },
  {
   "cell_type": "code",
   "execution_count": 32,
   "metadata": {
    "tags": []
   },
   "outputs": [
    {
     "output_type": "stream",
     "name": "stdout",
     "text": "[2.] 4.0\nthe test slope is: [2.]\n"
    }
   ],
   "source": [
    "# %load ../src/features/build_features.py\n",
    "import numpy as np\n",
    "from sklearn import linear_model\n",
    "reg = linear_model.LinearRegression(fit_intercept=True)\n",
    "import pandas as pd\n",
    "\n",
    "from scipy import signal\n",
    "\n",
    "\n",
    "def get_doubling_time_via_regression(in_array):\n",
    "    ''' Use a linear regression to approximate the doubling rate\n",
    "\n",
    "        Parameters:\n",
    "        ----------\n",
    "        in_array : pandas.series\n",
    "\n",
    "        Returns:\n",
    "        ----------\n",
    "        Doubling rate: double\n",
    "    '''\n",
    "\n",
    "    y = np.array(in_array)\n",
    "    \n",
    "    X = np.arange(-1,2).reshape(-1, 1)\n",
    "    \n",
    "\n",
    "    assert len(in_array)==3\n",
    "    reg.fit(X,y)\n",
    "    intercept=reg.intercept_\n",
    "    slope=reg.coef_\n",
    "\n",
    "    print(slope,intercept)\n",
    "\n",
    "    return intercept/slope\n",
    "\n",
    "\n",
    "if __name__ == '__main__':\n",
    "    test_data_reg=np.array([2,4,6])\n",
    "    result=get_doubling_time_via_regression(test_data_reg)\n",
    "    print('the test slope is: '+str(result))"
   ]
  },
  {
   "cell_type": "code",
   "execution_count": 33,
   "metadata": {},
   "outputs": [],
   "source": [
    "def rolling_reg(df_input,col='confirmed'):\n",
    "    ''' input has to be a data frame'''\n",
    "    ''' return is single series (mandatory for group by apply)'''\n",
    "    days_back=3\n",
    "    result=df_input[col].rolling(\n",
    "                window=days_back,\n",
    "                min_periods=days_back).apply(get_doubling_time_via_regression,raw=False)\n",
    "    return result"
   ]
  },
  {
   "cell_type": "code",
   "execution_count": 34,
   "metadata": {},
   "outputs": [
    {
     "output_type": "execute_result",
     "data": {
      "text/plain": "      state  country  confirmed\n61766    no    India    4562414\n62021    no  Germany     259735\n62033    no    India    4659984\n62286    no  Germany     260817\n62299    no    India    4754356",
      "text/html": "<div>\n<style scoped>\n    .dataframe tbody tr th:only-of-type {\n        vertical-align: middle;\n    }\n\n    .dataframe tbody tr th {\n        vertical-align: top;\n    }\n\n    .dataframe thead th {\n        text-align: right;\n    }\n</style>\n<table border=\"1\" class=\"dataframe\">\n  <thead>\n    <tr style=\"text-align: right;\">\n      <th></th>\n      <th>state</th>\n      <th>country</th>\n      <th>confirmed</th>\n    </tr>\n  </thead>\n  <tbody>\n    <tr>\n      <th>61766</th>\n      <td>no</td>\n      <td>India</td>\n      <td>4562414</td>\n    </tr>\n    <tr>\n      <th>62021</th>\n      <td>no</td>\n      <td>Germany</td>\n      <td>259735</td>\n    </tr>\n    <tr>\n      <th>62033</th>\n      <td>no</td>\n      <td>India</td>\n      <td>4659984</td>\n    </tr>\n    <tr>\n      <th>62286</th>\n      <td>no</td>\n      <td>Germany</td>\n      <td>260817</td>\n    </tr>\n    <tr>\n      <th>62299</th>\n      <td>no</td>\n      <td>India</td>\n      <td>4754356</td>\n    </tr>\n  </tbody>\n</table>\n</div>"
     },
     "metadata": {},
     "execution_count": 34
    }
   ],
   "source": [
    "test_data[['state','country', 'confirmed']].tail()"
   ]
  },
  {
   "cell_type": "code",
   "execution_count": 35,
   "metadata": {
    "tags": []
   },
   "outputs": [
    {
     "output_type": "stream",
     "name": "stdout",
     "text": "[3421.5] 25380.666666666668\n[4056.5] 28971.666666666668\n[4133.5] 33121.666666666664\n[5476.] 38082.333333333336\n[6774.] 44044.0\n[6878.5] 50834.666666666664\n[5612.] 56887.0\n[4595.] 62225.0\n[4856.5] 66929.33333333333\n[5493.5] 72188.33333333333\n[6493.] 78158.0\n[6643.5] 84608.33333333333\n[5649.] 90681.66666666667\n[4482.] 95791.33333333333\n[3641.] 99863.0\n[3770.] 103720.0\n[4961.] 108111.0\n[5259.] 113046.66666666667\n[4437.5]117882.66666666667\n[3363.5] 121753.33333333333\n[2841.5] 124977.66666666667\n[2582.] 127611.33333333333\n[1752.5] 129761.66666666667\n[2340.5] 132061.33333333334\n[3169.5] 134603.33333333334\n[3322.] 137949.33333333334\n[2822.] 140812.33333333334\n[1893.5] 143307.66666666666\n[1861.5] 145197.0\n[1553.5] 146846.66666666666\n[1791.5] 148668.0\n[2419.] 150689.33333333334\n[2175.5] 152925.33333333334\n[1692.] 154880.33333333334\n[1385.5] 156427.33333333334\n[1122.5] 157680.33333333334\n[1071.] 158813.33333333334\n[1390.5] 160069.66666666666\n[1548.5] 161486.66666666666\n[1269.] 162875.0\n[979.] 164017.66666666666\n[793.5] 164902.66666666666\n[592.5] 165594.33333333334\n[671.5] 166274.33333333334\n[1005.] 167107.0\n[1211.5] 168199.66666666666\n[1213.] 169393.33333333334\n[947.] 170447.33333333334\n[645.5] 171263.66666666666\n[626.] 171926.33333333334\n[646.] 172542.0\n[761.] 173281.66666666666\n[653.5] 173915.66666666666\n[567.5] 174603.0\n[637.] 175154.33333333334\n[568.] 175784.66666666666\n[399.5] 176224.0\n[704.5] 176899.33333333334\n[961.] 177600.66666666666\n[621.5] 178424.0\n[618.5] 179068.0\n[482.5] 179572.33333333334\n[309.] 180008.0\n[307.] 180304.66666666666\n[436.] 180709.33333333334\n[462.] 181108.0\n[498.] 181640.0\n[699.] 182214.0\n[496.5] 182769.0\n[244.] 183173.66666666666\n[202.5] 183397.66666666666\n[234.5] 183627.66666666666\n[263.5] 183864.66666666666\n[296.5] 184157.33333333334\n[401.5] 184505.66666666666\n[489.] 184948.66666666666\n[413.] 185374.66666666666\n[329.5] 185769.66666666666\n[378.] 186121.66666666666\n[206.5] 186379.0\n[92.5] 186573.0\n[352.] 186813.0\n[288.] 187061.33333333334\n[146.] 187337.0\n[207.5] 187489.0\n[367.] 187817.33333333334\n[461.] 188179.33333333334\n[782.5] 188891.0\n[847.5] 189573.33333333334\n[426.5] 190262.0\n[486.5] 190747.0\n[549.] 191236.66666666666\n[604.] 191840.0\n[551.5] 192373.0\n[445.5] 192907.33333333334\n[582.5] 193426.0\n[543.5] 193955.0\n[328.5] 194395.66666666666\n[292.] 194731.0\n[362.5] 195051.0\n[425.5] 195451.0\n[476.] 195893.66666666666\n[443.5] 196347.66666666666\n[414.] 196782.66666666666\n[371.5] 197167.0\n[433.] 197595.0\n[410.] 197976.66666666666\n[317.5] 198368.66666666666\n[329.] 198681.0\n[316.5] 199010.66666666666\n[354.] 199347.33333333334\n[293.5] 199653.33333333334\n[235.5] 199936.0\n[268.5] 200185.0\n[355.] 200508.66666666666\n[497.] 200932.0\n[577.5] 201461.66666666666\n[488.] 201973.66666666666\n[345.] 202402.0\n[449.5] 202828.66666666666\n[491.] 203259.0\n[475.5] 203772.66666666666\n[582.] 204291.33333333334\n[673.5] 204926.66666666666\n[698.5] 205594.0\n[522.] 206189.33333333334\n[417.] 206685.66666666666\n[520.] 207162.0\n[717.] 207788.33333333334\n[914.] 208596.0\n[926.5] 209493.33333333334\n[735.] 210313.0\n[410.5] 210874.66666666666\n[553.] 211445.33333333334\n[804.] 212053.0\n[1001.] 213017.33333333334\n[1105.5] 213993.33333333334\n[1041.5] 215116.0\n[932.] 216046.0\n[546.] 216795.66666666666\n[802.5] 217566.33333333334\n[1126.] 218445.33333333334\n[1175.5] 219635.66666666666\n[1370.5] 220893.33333333334\n[1466.] 222310.33333333334\n[1103.5] 223520.0\n[608.] 224428.66666666666\n[1106.] 225398.33333333334\n[1556.5] 226609.0\n[1503.] 228175.33333333334\n[1586.] 229706.0\n[1661.5] 231342.33333333334\n[1284.5] 232727.33333333334\n[732.5] 233794.66666666666\n[1130.5] 234825.66666666666\n[1544.5] 236066.33333333334\n[1444.] 237571.66666666666\n[1494.] 239054.66666666666\n[1558.] 240569.0\n[1132.] 241844.0\n[589.5] 242755.33333333334\n[983.5] 243647.33333333334\n[1355.] 244707.33333333334\n[1304.5] 246076.0\n[1412.5] 247422.0\n[1436.] 248844.66666666666\n[1109.] 250060.33333333334\n[722.5] 251023.0\n[1284.] 252137.33333333334\n[1614.5] 253437.0\n[1403.5] 255005.33333333334\n[1596.] 256513.0\n[1651.] 258105.66666666666\n[1334.] 259567.0\n[84.5] 408.3333333333333\n[70.] 477.0\n[79.] 564.0\n[95.5] 640.0\n[115.] 757.0\n[130.] 867.0\n[68.5] 966.0\n[132.] 1087.3333333333333\n[186.5] 1224.0\n[373.5] 1548.6666666666667\n[573.] 1979.3333333333333\n[284.5] 2369.3333333333335\n[269.5] 2730.6666666666665\n[510.5] 3079.0\n[848.] 3816.0\n[861.5] 4559.0\n[569.] 5335.0\n[707.] 5984.0\n[841.] 6746.333333333333\n[860.5] 7589.666666666667\n[803.5] 8416.333333333334\n[1003.5] 9368.0\n[1141.] 10381.666666666666\n[934.5] 11420.666666666666\n[971.5] 12413.0\n[1015.] 13368.0\n[1146.] 14501.333333333334\n[1631.5] 15896.333333333334\n[1408.5] 17292.0\n[1232.5] 18744.666666666668\n[1415.5] 19996.333333333332\n[1498.5] 21509.0\n[1580.] 22992.333333333332\n[1603.] 24630.0\n[1680.] 26234.333333333332\n[1584.] 27874.666666666668\n[1717.] 29555.0\n[1805.5] 31279.0\n[1769.5] 33083.0\n[2097.5] 35060.666666666664\n[2418.] 37273.0\n[2624.] 39820.333333333336\n[3369.] 42880.333333333336\n[3447.5] 46114.0\n[3275.] 49608.0\n[3475.5] 52912.666666666664\n[3354.] 56344.333333333336\n[3228.5] 59618.0\n[3733.] 63221.333333333336\n[3980.] 66912.33333333333\n[3565.5] 70740.33333333333\n[3643.5] 74371.66666666667\n[3852.5] 78114.66666666667\n[3864.5] 81945.33333333333\n[4325.5] 86143.0\n[4957.] 90710.0\n[4840.] 95558.0\n[5388.5] 100833.66666666667\n[5850.] 106277.0\n[5875.5] 112243.0\n[6383.] 118349.33333333333\n[6598.5] 124814.33333333333\n[6871.] 131584.33333333334\n[6763.5] 138303.0\n[6128.5] 144759.66666666666\n[6568.] 151276.33333333334\n[7296.5] 158088.33333333334\n[7702.5] 165654.33333333334\n[8220.5] 173568.0\n[8559.] 181975.66666666666\n[8271.5] 190268.66666666666\n[8291.] 198723.33333333334\n[9227.] 207461.66666666666\n[9761.] 216909.33333333334\n[9680.] 226573.66666666666\n[9954.5] 236506.33333333334\n[10651.] 246764.0\n[9653.] 256678.66666666666\n[9330.] 266520.0\n[10338.5] 276226.3333333333\n[10694.5] 286762.0\n[11194.] 297711.0\n[11693.5] 309150.0\n[11715.5] 320779.6666666667\n[11084.5] 332145.6666666667\n[10820.5] 343193.3333333333\n[11927.5] 354700.6666666667\n[13233.5] 367181.0\n[14051.] 380842.0\n[14959.5] 395343.6666666667\n[15117.] 410260.3333333333\n[14882.] 425316.0\n[15450.5] 440560.0\n[16445.] 456501.0\n[17109.] 473229.6666666667\n[17924.] 490819.6666666667\n[19229.] 509404.3333333333\n[19682.5] 528710.0\n[18990.5] 548005.6666666666\n[18581.5] 566879.6666666666\n[18900.5] 585654.0\n[20031.5] 605222.0\n[21837.] 626166.6666666666\n[23810.5] 649008.0\n[24549.] 672964.3333333334\n[23249.5] 696747.3333333334\n[22502.] 719831.3333333334\n[23816.] 743125.6666666666\n[25692.5] 767838.3333333334\n[26810.] 794004.6666666666\n[27860.] 821413.3333333334\n[28669.] 849564.0\n[28615.] 878176.0\n[28963.5] 907062.3333333334\n[31052.5] 937263.3333333334\n[33825.5] 969623.3333333334\n[35113.5] 1003924.3333333334\n[36974.5] 1040232.3333333334\n[39561.] 1078357.0\n[38778.5] 1117108.3333333333\n[37436.] 1155540.6666666667\n[41730.] 1195738.0\n[47515.] 1239994.6666666667\n[49113.] 1287976.6666666667\n[48763.5] 1336922.3333333333\n[49296.] 1386091.6666666667\n[47219.] 1433774.6666666667\n[48026.5] 1482452.6666666667\n[50945.] 1531235.0\n[51538.5] 1582792.6666666667\n[57012.5] 1637565.6666666667\n[57988.5] 1693819.0\n[53853.5] 1750135.3333333333\n[52511.] 1803387.6666666667\n[52279.5] 1855898.0\n[54395.5] 1909511.6666666667\n[59410.] 1966621.3333333333\n[62037.5] 2026740.3333333333\n[62968.] 2089565.0\n[63231.5] 2152231.6666666665\n[57832.5] 2212253.0\n[57282.] 2271129.0\n[63981.] 2331650.0\n[65776.] 2395821.6666666665\n[64642.5] 2461249.6666666665\n[64381.] 2525688.0\n[60870.5] 2587845.6666666665\n[56364.5] 2646765.3333333335\n[59795.] 2705865.6666666665\n[67122.] 2768953.0\n[69286.] 2836667.6666666665\n[69388.] 2906150.3333333335\n[69557.5] 2975488.6666666665\n[65323.5] 3042329.6666666665\n[61191.5] 3106203.6666666665\n[59099.5] 3166072.6666666665\n[71455.5] 3234034.6666666665\n[81476.5] 3307427.0\n[76869.] 3387235.3333333335\n[77616.5] 3464735.0\n[78636.5] 3542650.0\n[74216.5] 3618381.3333333335\n[74139.] 3693978.0\n[81120.] 3771365.0\n[83612.] 3853225.3333333335\n[84886.5] 3937777.3333333335\n[88532.] 4024579.0\n[90717.] 4113867.6666666665\n[83305.5] 4199615.333333333\n[82757.5] 4285054.333333333\n[92720.5] 4372137.666666667\n[96143.] 4466135.0\n[97060.5] 4562753.666666667\n[95971.] 4658918.0\n"
    },
    {
     "output_type": "execute_result",
     "data": {
      "text/plain": "state  country       \nno     Germany  15736            NaN\n                16003            NaN\n                16269       7.417994\n                16535       7.142035\n                16801       8.012983\n                17066       6.954407\n                17333       6.501919\n                17598       7.390371\n                17865      10.136671\n                18131      13.541893\n                18397      13.781393\n                18663      13.140681\n                18929      12.037271\n                19195      12.735506\n                19460      16.052694\n                19727      21.372453\n                19993      27.427355\n                20259      27.511936\n                20525      21.792179\n                20791      21.495848\n                21057      26.565108\n                21323      36.198404\n                21588      43.982990\n                21855      49.423444\n                22121      74.043747\n                22386      56.424411\n                22654      42.468318\n                22919      41.525988\n                23185      49.898063\n                23451      75.684007\n                23716      78.000000\n                23983      94.526338\n                24248      82.985208\n                24514      62.294061\n                24781      70.294338\n                25047      91.536840\n                25312     112.903164\n                25577     140.472457\n                25845     148.285092\n                26110     115.116625\n                26377     104.285868\n                26641     128.349094\n                26908     167.535921\n                27175     207.816845\n                27439     279.484107\n                27707     247.616282\n                27973     166.275622\n                28237     138.835878\n                28504     139.648255\n                28771     179.986624\n                29036     265.319391\n                29302     274.642705\n                29569     267.092879\n                29833     227.702584\n                30100     266.129559\n                30366     307.670485\n                30631     274.967556\n                30899     309.480047\n                31164     441.111389\n                31430     251.099125\n                31697     184.808186\n                31963     287.086082\n                32229     289.519806\n                32495     372.170639\n                32761     582.550162\n                33027     587.311618\n                33293     414.470948\n                33558     392.008658\n                33825     364.738956\n                34091     260.678112\n                34356     368.114804\n                34624     750.711749\n                34889     905.667490\n                35154     783.060412\n                35420     697.778621\n                35686     621.103991\n                35952     459.540888\n                36218     378.218132\n                36485     448.849072\n                36750     563.792615\n                37016     492.385362\n                37282     902.561743\n                37549    2017.005405\n                37813     530.718750\n                38081     649.518519\n                38345    1283.130137\n                38613     903.561446\n                38878     511.763851\n                39144     408.198120\n                39409     241.394249\n                39677     223.685349\n                39943     446.100821\n                40207     392.080164\n                40474     348.336369\n                40741     317.615894\n                41006     348.817770\n                41272     433.013094\n                41539     332.061803\n                41803     356.862925\n                42070     591.767631\n                42336     666.886986\n                42601     538.071724\n                42869     459.344301\n                43134     411.541317\n                43401     442.723036\n                43666     475.320451\n                43932     530.732167\n                44198     456.339492\n                44464     482.869919\n                44731     624.783202\n                44996     603.893617\n                45262     628.785677\n                45529     563.128060\n                45795     680.249858\n                46061     848.985138\n                46327     745.567970\n                46592     564.813146\n                46859     404.289738\n                47125     348.851371\n                47389     413.880464\n                47656     586.672464\n                47922     451.231739\n                48187     413.969450\n                48455     428.543989\n                48720     351.016037\n                48986     304.271220\n                49253     294.336435\n                49519     394.998723\n                49785     495.649081\n                50051     398.388462\n                50317     289.802417\n                50583     228.223195\n                50848     226.112610\n                51115     286.140136\n                51381     513.701989\n                51647     382.360458\n                51913     263.747512\n                52179     212.804529\n                52445     193.571536\n                52711     206.544407\n                52976     231.809013\n                53243     397.061661\n                53509     271.110696\n                53774     194.001184\n                54042     186.844463\n                54307     161.177186\n                54573     151.644156\n                54838     202.555505\n                55105     369.126096\n                55371     203.795961\n                55637     145.588821\n                55903     151.813262\n                56169     144.833544\n                56435     139.237035\n                56701     181.181264\n                56966     319.173606\n                57233     207.718414\n                57499     152.843207\n                57764     164.523315\n                58030     160.009817\n                58297     154.408858\n                58562     213.643110\n                58828     411.798699\n                59095     247.734960\n                59361     180.595818\n                59627     188.636259\n                59893     175.166018\n                60159     173.290158\n                60425     225.482717\n                60690     347.436678\n                60957     196.368640\n                61221     156.975534\n                61489     181.692436\n                61753     160.722431\n                62021     156.332930\n                62286     194.577961\n       India    15749            NaN\n                16016            NaN\n                16281       4.832347\n                16547       6.814286\n                16814       7.139241\n                17079       6.701571\n                17345       6.582609\n                17611       6.669231\n                17878      14.102190\n                18143       8.237374\n                18409       6.563003\n                18676       4.146363\n                18942       3.454334\n                19207       8.328061\n                19473      10.132344\n                19740       6.031342\n                20005       4.500000\n                20271       5.291933\n                20538       9.376098\n                20804       8.463932\n                21069       8.021799\n                21335       8.820066\n                21600      10.474590\n                21867       9.335326\n                22134       9.098744\n                22399      12.221152\n                22666      12.777149\n                22932      13.170443\n                23197      12.653869\n                23463       9.743385\n                23728      12.276890\n                24004      15.208654\n                24261      14.126693\n                24527      14.353687\n                24794      14.552110\n                25059      15.364941\n                25325      15.615675\n                25590      17.597643\n                25857      17.213162\n                26123      17.324287\n                26389      18.696242\n                26654      16.715455\n                26921      15.414806\n                27188      15.175432\n                27452      12.727911\n                27719      13.376070\n                27985      15.147481\n                28250      15.224476\n                28517      16.799145\n                28783      18.466161\n                29049      16.935798\n                29315      16.812144\n                29581      19.840228\n                29846      20.412149\n                30113      20.276357\n                30379      21.204641\n                30644      19.915154\n                30911      18.299375\n                31177      19.743388\n                31443      18.712752\n                31710      18.167009\n                31975      19.103566\n                32241      18.541334\n                32508      18.915562\n                32774      19.150682\n                33039      20.448436\n                33305      23.620734\n                33570      23.032328\n                33837      21.666324\n                34104      21.506567\n                34369      21.114044\n                34636      21.261323\n                34902      23.002922\n                35166      23.968560\n                35433      22.484195\n                35699      22.222040\n                35965      23.406371\n                36231      23.758736\n                36497      23.168153\n                36763      26.590559\n                37029      28.565916\n                37295      26.718222\n                37561      26.813970\n                37826      26.595587\n                38093      26.437765\n                38358      27.380792\n                38625      29.964876\n                38891      31.716957\n                39157      29.738056\n                39422      27.746326\n                39689      27.104263\n                39955      26.427599\n                40220      27.139005\n                40487      28.579223\n                40753      28.514288\n                41019      27.759258\n                41285      27.659692\n                41551      27.383378\n                41816      26.491463\n                42083      26.861933\n                42349      28.856832\n                42614      30.507745\n                42881      30.986164\n                43147      30.213514\n                43413      28.674574\n                43679      27.257218\n                43944      27.413106\n                44211      29.968272\n                44477      31.989660\n                44743      31.202791\n                45009      29.885699\n                45275      29.615989\n                45542      29.483609\n                45807      29.633541\n                46073      30.689359\n                46340      31.317428\n                46605      30.183184\n                46871      28.665455\n                47137      28.590836\n                47402      28.133777\n                47669      27.258082\n                47935      28.807415\n                48200      30.867098\n                48467      28.654158\n                48733      26.096910\n                48999      26.224761\n                49266      27.416456\n                49531      28.117731\n                49797      30.364359\n                50064      30.867389\n                50330      30.056630\n                50595      30.710880\n                50861      28.722923\n                51128      29.209567\n                51393      32.498080\n                51659      34.343046\n                51926      35.499536\n                52192      35.104221\n                52457      33.102530\n                52723      32.669600\n                52988      33.184554\n                53255      34.037334\n                53522      38.252764\n                53787      39.648214\n                54054      36.442850\n                54320      36.423949\n                54585      38.074791\n                54851      39.230332\n                55118      42.513954\n                55383      46.958020\n                55649      45.252373\n                55916      41.252540\n                56182      40.941426\n                56447      41.882607\n                56713      42.777395\n                56978      46.573280\n                57245      50.762012\n                57512      53.571903\n                57777      45.259423\n                58043      40.593631\n                58310      44.065037\n                58575      44.639155\n                58841      45.050962\n                59108      48.754405\n                59373      49.825031\n                59639      46.491186\n                59906      46.084597\n                60172      46.388735\n                60437      45.459032\n                60703      45.348365\n                60969      50.412222\n                61234      51.778441\n                61501      47.153948\n                61766      46.453044\n                62033      47.009377\n                62299      48.545060\nName: confirmed, dtype: float64"
     },
     "metadata": {},
     "execution_count": 35
    }
   ],
   "source": [
    "test_data[['state','country','confirmed']].groupby(['state','country']).apply(rolling_reg,'confirmed')"
   ]
  },
  {
   "cell_type": "code",
   "execution_count": null,
   "metadata": {},
   "outputs": [],
   "source": []
  },
  {
   "cell_type": "code",
   "execution_count": null,
   "metadata": {},
   "outputs": [],
   "source": []
  },
  {
   "cell_type": "code",
   "execution_count": 36,
   "metadata": {
    "tags": [
     "outputPrepend"
    ]
   },
   "outputs": [
    {
     "output_type": "stream",
     "name": "stdout",
     "text": " 350.0\n[1.5] 351.0\n[0.5] 352.3333333333333\n[1.5] 353.3333333333333\n[1.] 354.3333333333333\n[0.] 355.0\n[0.] 355.0\n[0.] 355.0\n[0.] 355.0\n[0.] 355.0\n[0.] 355.0\n[0.] 355.0\n[7.] 359.6666666666667\n[7.] 364.3333333333333\n[0.] 369.0\n[0.] 369.0\n[0.5] 369.3333333333333\n[0.5] 369.6666666666667\n[1.] 370.6666666666667\n[1.5] 371.6666666666667\n[0.5] 372.6666666666667\n[4.] 375.6666666666667\n[4.] 378.3333333333333\n[0.5] 381.3333333333333\n[0.5] 381.6666666666667\n[0.5] 382.3333333333333\n[1.] 383.0\n[9.] 389.3333333333333\n[12.] 397.6666666666667\n[5.5] 407.0\n[3.5] 411.6666666666667\n[2.5] 414.6666666666667\n[2.5] 417.3333333333333\n[7.] 422.6666666666667\n[13.] 432.3333333333333\n[14.] 445.3333333333333\n[31.5] 471.3333333333333\n[49.5] 508.6666666666667\n[40.5] 552.3333333333334\n[31.5] 589.6666666666666\n[31.] 621.0\n[25.5] 648.3333333333334\n[32.5] 680.3333333333334\n[39.] 713.0\n[36.] 752.0\n[31.] 783.6666666666666\n[26.] 814.0\n[17.5] 833.3333333333334\n[12.5] 851.3333333333334\n[18.] 865.3333333333334\n[22.5] 886.6666666666666\n[23.5] 908.0\n[20.] 930.6666666666666\n[17.] 948.3333333333334\n[16.] 966.0\n[12.5] 978.6666666666666\n[5.5] 988.6666666666666\n[9.] 996.6666666666666\n[7.5] 1003.3333333333334\n[3.5] 1010.0\n[3.5] 1013.0\n[4.] 1017.3333333333334\n[6.5] 1022.3333333333334\n[6.] 1028.3333333333333\n[3.5] 1033.0\n[2.] 1036.0\n[2.] 1038.0\n[1.] 1039.3333333333333\n[2.] 1041.3333333333333\n[2.] 1042.6666666666667\n[1.] 1044.6666666666667\n[1.] 1045.3333333333333\n[1.5] 1047.0\n[1.5] 1048.0\n[0.] 1049.0\n[0.] 1049.0\n[2.5] 1050.6666666666667\n[5.] 1054.0\n[2.5] 1057.3333333333333\n[0.5] 1059.3333333333333\n[0.5] 1059.6666666666667\n[0.] 0.0\n[0.] 0.0\n[0.] 0.0\n[0.] 0.0\n[0.] 0.0\n[0.] 0.0\n[0.] 0.0\n[0.] 0.0\n[0.] 0.0\n[0.] 0.0\n[0.] 0.0\n[0.] 0.0\n[0.] 0.0\n[0.] 0.0\n[0.] 0.0\n[0.] 0.0\n[0.] 0.0\n[0.] 0.0\n[0.] 0.0\n[0.] 0.0\n[0.] 0.0\n[0.] 0.0\n[0.] 0.0\n[0.] 0.0\n[0.] 0.0\n[0.] 0.0\n[0.] 0.0\n[0.] 0.0\n[0.] 0.0\n[0.] 0.0\n[0.] 0.0\n[0.] 0.0\n[0.] 0.0\n[0.] 0.0\n[0.] 0.0\n[0.] 0.0\n[0.] 0.0\n[0.] 0.0\n[0.] 0.0\n[0.] 0.0\n[0.] 0.0\n[2.] 1.3333333333333333\n[3.5] 3.6666666666666665\n[6.] 9.0\n[4.5] 13.0\n[1.5] 17.0\n[5.] 20.333333333333332\n[5.5] 25.0\n[2.] 28.666666666666668\n[0.5] 30.333333333333332\n[2.5] 32.0\n[3.5] 34.666666666666664\n[1.5] 37.0\n[0.5] 38.333333333333336\n[1.5] 39.333333333333336\n[2.5] 41.333333333333336\n[3.] 44.0\n[2.] 46.333333333333336\n[2.5] 49.0\n[5.5] 53.0\n[3.5] 56.666666666666664\n[0.] 59.0\n[12.5] 67.33333333333333\n[16.] 78.0\n[7.] 91.0\n[9.] 99.33333333333333\n[9.] 107.66666666666667\n[5.] 114.66666666666667\n[9.] 123.0\n[21.] 138.0\n[30.] 163.0\n[28.] 190.66666666666666\n[21.5] 216.0\n[18.5] 236.0\n[12.] 250.66666666666666\n[4.5] 259.3333333333333\n[1.] 262.3333333333333\n[2.] 264.3333333333333\n[2.5] 266.0\n[2.] 268.6666666666667\n[2.5] 270.6666666666667\n[6.5] 276.0\n[9.] 282.6666666666667\n[5.] 289.6666666666667\n[8.] 297.3333333333333\n[9.5] 304.6666666666667\n[6.] 313.0\n[8.] 320.3333333333333\n[5.] 325.6666666666667\n[3.] 331.0\n[3.5] 333.3333333333333\n[2.5] 337.0\n[3.] 339.3333333333333\n[1.] 341.3333333333333\n[0.] 342.0\n[0.5] 342.3333333333333\n[1.] 343.0\n[0.5] 343.6666666666667\n[4.5] 347.0\n[4.5] 350.0\n[0.] 353.0\n[4.5] 356.0\n[9.] 362.0\n[6.] 369.0\n[2.] 373.3333333333333\n[0.5] 374.6666666666667\n[0.] 375.0\n[0.] 375.0\n[0.] 375.0\n[0.] 375.0\n[0.] 375.0\n[0.] 375.0\n[0.] 375.0\n[0.5] 375.3333333333333\n[3.] 377.3333333333333\n[6.] 381.6666666666667\n[5.] 386.6666666666667\n[5.] 392.3333333333333\n[16.] 404.0\n[12.5] 414.6666666666667\n[0.] 423.0\n[0.] 423.0\n[0.] 423.0\n[3.] 425.0\n[5.5] 428.6666666666667\n[8.5] 436.3333333333333\n[6.] 442.0\n[0.5] 446.3333333333333\n[1.] 447.0\n[1.] 448.0\n[1.5] 449.3333333333333\n[4.] 452.3333333333333\n[6.5] 457.3333333333333\n[3.5] 461.6666666666667\n[0.] 464.0\n[4.] 466.6666666666667\n[4.5] 469.6666666666667\n[4.5] 475.3333333333333\n[6.] 479.6666666666667\n[3.] 484.3333333333333\n[2.] 487.0\n[1.] 488.3333333333333\n[1.5] 490.0\n[8.] 495.3333333333333\n[11.] 503.6666666666667\n[25.] 524.6666666666666\n[43.] 556.3333333333334\n[60.] 610.0\n[92.] 686.3333333333334\n[79.] 764.0\n[108.5] 872.6666666666666\n[168.] 1001.0\n[163.5] 1166.0\n[106.5] 1293.0\n[114.5] 1422.3333333333333\n[216.5] 1584.6666666666667\n[216.5] 1787.3333333333333\n[185.] 1996.6666666666667\n[219.] 2201.0\n[286.5] 2457.0\n[326.] 2755.3333333333335\n[288.] 3057.3333333333335\n[377.5] 3416.3333333333335\n[471.5] 3815.3333333333335\n[253.] 4151.0\n[185.] 4421.666666666667\n[344.] 4672.333333333333\n[286.5] 4965.333333333333\n[261.] 5266.666666666667\n[355.5] 5567.333333333333\n[339.5] 5904.0\n[317.5] 6242.333333333333\n[267.] 6520.0\n[249.] 6798.0\n[324.] 7080.0\n[350.] 7413.333333333333\n[396.] 7793.333333333333\n[392.5] 8172.333333333333\n[356.] 8556.333333333334\n[339.5] 8897.666666666666\n[241.] 9180.666666666666\n[258.] 9456.666666666666\n[347.5] 9745.0\n[281.] 10047.666666666666\n[188.] 10289.333333333334\n[157.5] 10465.333333333334\n[234.5] 10676.0\n[331.5] 10947.666666666666\n[305.] 11256.666666666666\n[276.5] 11556.333333333334\n[306.] 11848.333333333334\n[230.] 12098.0\n[190.5] 12332.666666666666\n[236.5] 12536.0\n[262.] 12792.0\n[314.] 13077.666666666666\n[328.5] 13395.0\n[265.] 13682.666666666666\n[243.] 13952.666666666666\n[291.] 14215.333333333334\n[333.5] 14531.0\n[337.] 14856.333333333334\n[308.] 15183.333333333334\n[325.] 15503.0\n[331.] 15826.0\n[350.] 16173.666666666666\n[345.5] 16510.333333333332\n[386.] 16894.666666666668\n[381.] 17252.0\n[341.5] 17633.666666666668\n[353.5] 17969.333333333332\n[243.5] 18259.333333333332\n[244.5] 18530.333333333332\n[368.5] 18830.333333333332\n[438.] 19231.0\n[471.] 19682.0\n[499.5] 20170.0\n[548.] 20694.333333333332\n[495.5] 21198.666666666668\n[476.5] 21707.666666666668\n[530.5] 22200.333333333332\n[538.5] 22738.0\n[573.] 23295.0\n[595.] 23875.666666666668\n[633.5] 24496.0\n[552.] 25062.666666666668\n[492.5] 25614.666666666668\n[602.] 26160.333333333332\n[618.] 26756.333333333332\n[570.] 27353.666666666668\n[650.5] 27982.0\n[668.5] 28613.0\n[621.] 29275.333333333332\n[0.] 0.0\n[0.] 0.0\n[0.] 0.0\n[0.] 0.0\n[0.] 0.0\n[0.] 0.0\n[0.] 0.0\n[0.] 0.0\n[0.] 0.0\n[0.] 0.0\n[0.] 0.0\n[0.] 0.0\n[0.] 0.0\n[0.] 0.0\n[0.] 0.0\n[0.] 0.0\n[0.] 0.0\n[0.] 0.0\n[0.] 0.0\n[0.] 0.0\n[0.] 0.0\n[0.] 0.0\n[0.] 0.0\n[0.] 0.0\n[0.] 0.0\n[0.] 0.0\n[0.] 0.0\n[0.] 0.0\n[0.] 0.0\n[0.] 0.0\n[0.] 0.0\n[0.] 0.0\n[0.] 0.0\n[0.] 0.0\n[0.] 0.0\n[0.] 0.0\n[0.] 0.0\n[0.] 0.0\n[0.] 0.0\n[0.] 0.0\n[0.] 0.0\n[0.] 0.0\n[0.] 0.0\n[0.] 0.0\n[0.] 0.0\n[0.] 0.0\n[0.] 0.0\n[0.] 0.0\n[0.] 0.0\n[0.] 0.0\n[0.] 0.0\n[0.] 0.0\n[0.] 0.0\n[0.] 0.0\n[0.] 0.0\n[0.] 0.0\n[0.] 0.0\n[0.] 0.0\n[0.] 0.0\n[0.] 0.0\n[0.] 0.0\n[0.] 0.0\n[0.] 0.0\n[0.] 0.0\n[0.] 0.0\n[0.] 0.0\n[0.] 0.0\n[0.] 0.0\n[0.] 0.0\n[0.] 0.0\n[0.] 0.0\n[0.] 0.0\n[2.] 1.3333333333333333\n[2.] 2.6666666666666665\n[0.] 4.0\n[0.] 4.0\n[0.] 4.0\n[0.] 4.0\n[0.] 4.0\n[1.] 4.666666666666667\n[1.] 5.333333333333333\n[0.] 6.0\n[0.] 6.0\n[0.] 6.0\n[0.] 6.0\n[0.] 6.0\n[0.] 6.0\n[0.] 6.0\n[0.] 6.0\n[0.] 6.0\n[0.] 6.0\n[0.] 6.0\n[0.] 6.0\n[0.] 6.0\n[0.] 6.0\n[0.] 6.0\n[0.] 6.0\n[0.] 6.0\n[0.] 6.0\n[0.] 6.0\n[0.] 6.0\n[0.] 6.0\n[0.] 6.0\n[0.] 6.0\n[0.] 6.0\n[0.] 6.0\n[0.] 6.0\n[0.] 6.0\n[0.] 6.0\n[0.] 6.0\n[0.] 6.0\n[0.] 6.0\n[0.] 6.0\n[0.] 6.0\n[0.] 6.0\n[0.] 6.0\n[0.] 6.0\n[0.] 6.0\n[0.] 6.0\n[0.] 6.0\n[0.] 6.0\n[1.5] 7.0\n[1.5] 8.0\n[0.] 9.0\n[0.] 9.0\n[0.] 9.0\n[0.] 9.0\n[0.] 9.0\n[0.] 9.0\n[0.] 9.0\n[0.] 9.0\n[0.] 9.0\n[0.] 9.0\n[0.] 9.0\n[0.] 9.0\n[0.] 9.0\n[0.] 9.0\n[0.] 9.0\n[0.] 9.0\n[0.] 9.0\n[0.] 9.0\n[0.] 9.0\n[0.] 9.0\n[0.] 9.0\n[0.] 9.0\n[0.] 9.0\n[0.] 9.0\n[0.] 9.0\n[0.] 9.0\n[0.] 9.0\n[0.5] 9.333333333333334\n[0.5] 9.666666666666666\n[0.] 10.0\n[0.] 10.0\n[0.] 10.0\n[0.] 10.0\n[0.] 10.0\n[0.] 10.0\n[0.] 10.0\n[0.] 10.0\n[0.] 10.0\n[0.] 10.0\n[0.] 10.0\n[0.] 10.0\n[0.] 10.0\n[0.] 10.0\n[0.] 10.0\n[0.] 10.0\n[0.] 10.0\n[0.] 10.0\n[0.] 10.0\n[0.] 10.0\n[0.] 10.0\n[0.] 10.0\n[0.] 10.0\n[0.] 10.0\n[0.] 10.0\n[0.] 10.0\n[0.] 10.0\n[0.] 10.0\n[0.] 10.0\n[0.] 10.0\n[0.] 10.0\n[0.] 10.0\n[0.] 10.0\n[0.] 10.0\n[0.] 10.0\n[0.] 10.0\n[0.] 10.0\n[0.] 10.0\n[0.] 10.0\n[0.] 10.0\n[0.] 10.0\n[0.] 10.0\n[0.] 10.0\n[0.] 10.0\n[0.] 10.0\n[0.] 10.0\n[0.] 10.0\n[0.] 10.0\n[0.] 10.0\n[0.] 10.0\n[0.] 10.0\n[0.] 10.0\n[0.] 10.0\n[0.] 10.0\n[0.] 10.0\n[0.] 10.0\n[0.] 10.0\n[0.] 10.0\n[0.] 10.0\n[0.] 10.0\n[0.] 10.0\n[0.] 10.0\n[0.] 10.0\n[0.] 10.0\n[0.] 10.0\n[0.] 10.0\n[0.] 10.0\n[0.] 10.0\n[0.] 10.0\n[0.] 10.0\n[0.] 10.0\n[0.] 10.0\n[0.] 10.0\n[0.] 10.0\n[0.] 10.0\n[0.] 10.0\n[0.] 10.0\n[0.] 10.0\n[0.] 10.0\n[0.] 10.0\n[0.] 10.0\n[0.] 0.0\n[0.] 0.0\n[0.] 0.0\n[0.] 0.0\n[0.] 0.0\n[0.] 0.0\n[0.] 0.0\n[0.] 0.0\n[0.] 0.0\n[0.] 0.0\n[0.] 0.0\n[0.] 0.0\n[0.] 0.0\n[0.] 0.0\n[0.] 0.0\n[0.] 0.0\n[0.] 0.0\n[0.] 0.0\n[0.] 0.0\n[0.] 0.0\n[0.] 0.0\n[0.] 0.0\n[0.] 0.0\n[0.] 0.0\n[0.] 0.0\n[0.] 0.0\n[0.] 0.0\n[0.] 0.0\n[0.] 0.0\n[0.] 0.0\n[0.] 0.0\n[0.] 0.0\n[0.] 0.0\n[0.] 0.0\n[0.] 0.0\n[0.] 0.0\n[0.] 0.0\n[0.] 0.0\n[0.] 0.0\n[0.] 0.0\n[0.] 0.0\n[0.] 0.0\n[0.] 0.0\n[0.] 0.0\n[0.] 0.0\n[0.] 0.0\n[0.] 0.0\n[0.] 0.0\n[0.] 0.0\n[0.] 0.0\n[0.] 0.0\n[0.] 0.0\n[0.] 0.0\n[0.] 0.0\n[0.] 0.0\n[0.] 0.0\n[0.] 0.0\n[0.] 0.0\n[0.] 0.0\n[0.] 0.0\n[0.] 0.0\n[0.] 0.0\n[0.] 0.0\n[0.] 0.0\n[0.] 0.0\n[0.] 0.0\n[0.] 0.0\n[0.] 0.0\n[0.] 0.0\n[0.] 0.0\n[0.] 0.0\n[0.] 0.0\n[0.] 0.0\n[0.] 0.0\n[0.] 0.0\n[0.] 0.0\n[0.] 0.0\n[0.5] 0.3333333333333333\n[0.5] 0.6666666666666666\n[0.] 1.0\n[0.] 1.0\n[0.] 1.0\n[0.] 1.0\n[0.] 1.0\n[0.] 1.0\n[0.] 1.0\n[0.] 1.0\n[0.] 1.0\n[0.] 1.0\n[0.] 1.0\n[0.] 1.0\n[0.] 1.0\n[0.] 1.0\n[0.] 1.0\n[0.] 1.0\n[0.] 1.0\n[2.5] 2.6666666666666665\n[2.5] 4.333333333333333\n[0.5] 6.333333333333333\n[2.] 7.666666666666667\n[1.5] 9.0\n[1.] 10.666666666666666\n[6.] 14.666666666666666\n[6.5] 19.666666666666668\n[1.5] 24.0\n[4.5] 28.0\n[4.5] 31.0\n[8.5] 39.666666666666664\n[11.] 47.0\n[7.] 57.333333333333336\n[7.] 63.666666666666664\n[10.] 73.33333333333333\n[18.] 87.0\n[18.5] 104.33333333333333\n[11.] 118.66666666666667\n[4.] 126.66666666666667\n[19.5] 141.66666666666666\n[27.] 160.33333333333334\n[15.] 182.66666666666666\n[12.5] 196.66666666666666\n[7.5] 206.0\n[6.5] 214.33333333333334\n[10.5] 222.33333333333334\n[13.5] 234.66666666666666\n[11.5] 246.0\n[14.5] 261.0\n[13.5] 272.3333333333333\n[16.] 290.3333333333333\n[20.] 305.3333333333333\n[22.] 329.0\n[38.] 358.6666666666667\n[32.5] 390.6666666666667\n[27.] 423.6666666666667\n[25.] 447.0\n[14.5] 468.0\n[7.5] 478.3333333333333\n[7.] 487.3333333333333\n[20.] 501.3333333333333\n[32.] 526.6666666666666\n[33.5] 558.3333333333334\n[36.] 594.3333333333334\n[57.] 642.6666666666666\n[48.] 688.3333333333334\n[69.5] 759.0\n[78.5] 819.0\n[29.] 877.0\n[12.] 898.6666666666666\n[8.5] 910.0\n[6.5] 916.6666666666666\n[11.] 927.3333333333334\n[22.5] 943.3333333333334\n[25.5] 966.6666666666666\n[24.] 991.3333333333334\n[42.] 1027.6666666666667\n[37.] 1060.0\n[13.5] 1089.3333333333333\n[14.5] 1103.3333333333333\n[12.5] 1116.3333333333333\n[20.] 1134.6666666666667\n[31.] 1158.6666666666667\n[31.5] 1189.6666666666667\n[25.] 1217.0\n[13.5] 1236.3333333333333\n[12.5] 1251.0\n[18.] 1265.6666666666667\n[16.] 1282.0\n[17.] 1299.6666666666667\n[29.5] 1323.6666666666667\n[31.] 1351.3333333333333\n[16.5] 1375.0\n[42.5] 1411.3333333333333\n[54.5] 1450.6666666666667\n[25.5] 1493.0\n[14.] 1513.3333333333333\n[18.] 1531.3333333333333\n[25.] 1551.3333333333333\n[14.5] 1569.6666666666667\n[15.] 1587.6666666666667\n[19.] 1602.0\n[11.5] 1618.0\n[10.5] 1629.3333333333333\n[12.5] 1641.0\n[17.] 1656.0\n[10.] 1667.3333333333333\n[3.5] 1676.3333333333333\n[8.5] 1682.0\n[11.] 1691.6666666666667\n[10.] 1701.6666666666667\n[11.5] 1713.3333333333333\n[8.5] 1721.6666666666667\n[2.] 1728.0\n[3.] 1730.6666666666667\n[2.] 1732.6666666666667\n[13.] 1742.6666666666667\n[14.5] 1752.3333333333333\n[4.] 1763.6666666666667\n[16.5] 1775.6666666666667\n[14.5] 1787.0\n[4.] 1799.0\n[17.5] 1811.0\n[13.5] 1822.3333333333333\n[4.5] 1834.6666666666667\n[8.] 1839.6666666666667\n[8.5] 1848.6666666666667\n[5.5] 1854.3333333333333\n[5.5] 1861.6666666666667\n[12.] 1869.6666666666667\n[10.] 1880.0\n[5.] 1887.6666666666667\n[5.] 1893.3333333333333\n[7.] 1899.0\n[4.] 1904.0\n[2.5] 1908.0\n[4.5] 1911.3333333333333\n[6.5] 1917.0\n[7.] 1923.3333333333333\n[4.5] 1929.0\n[6.5] 1935.3333333333333\n[6.5] 1940.6666666666667\n[5.] 1947.3333333333333\n[6.] 1952.3333333333333\n[4.5] 1957.6666666666667\n[9.] 1965.3333333333333\n[8.5] 1972.3333333333333\n[3.5] 1979.3333333333333\n[2.] 1981.6666666666667\n[2.] 1984.3333333333333\n[3.] 1986.3333333333333\n[3.5] 1990.0\n[5.] 1994.0\n[4.5] 1998.6666666666667\n[4.] 2003.0\n[3.] 2006.3333333333333\n[0.] 0.0\n[0.] 0.0\n[0.] 0.0\n[0.] 0.0\n[0.] 0.0\n[0.] 0.0\n[0.] 0.0\n[0.] 0.0\n[0.] 0.0\n[0.] 0.0\n[0.] 0.0\n[0.] 0.0\n[0.] 0.0\n[0.] 0.0\n[0.] 0.0\n[0.] 0.0\n[0.] 0.0\n[0.] 0.0\n[0.] 0.0\n[0.] 0.0\n[0.] 0.0\n[0.] 0.0\n[0.] 0.0\n[0.] 0.0\n[0.] 0.0\n[0.] 0.0\n[0.] 0.0\n[0.] 0.0\n[0.] 0.0\n[0.] 0.0\n[0.] 0.0\n[0.] 0.0\n[0.] 0.0\n[0.] 0.0\n[0.] 0.0\n[0.] 0.0\n[0.] 0.0\n[0.] 0.0\n[0.] 0.0\n[0.] 0.0\n[0.] 0.0\n[0.] 0.0\n[0.] 0.0\n[0.] 0.0\n[0.] 0.0\n[0.] 0.0\n[0.] 0.0\n[0.] 0.0\n[0.] 0.0\n[0.] 0.0\n[0.] 0.0\n[0.] 0.0\n[0.] 0.0\n[0.] 0.0\n[1.] 0.6666666666666666\n[1.] 1.3333333333333333\n[0.] 2.0\n[0.] 2.0\n[0.5] 2.3333333333333335\n[0.5] 2.6666666666666665\n[0.] 3.0\n[4.5] 6.0\n[6.5] 10.333333333333334\n[5.] 16.666666666666668\n[6.] 22.0\n[3.5] 26.333333333333332\n[3.5] 30.666666666666668\n[3.] 33.0\n[0.5] 35.333333333333336\n[2.] 36.666666666666664\n[1.5] 38.0\n[0.] 39.0\n[0.] 39.0\n[0.] 39.0\n[0.] 39.0\n[0.] 39.0\n[0.] 39.0\n[0.5] 39.333333333333336\n[0.5] 39.666666666666664\n[1.5] 41.0\n[2.5] 42.666666666666664\n[1.] 44.333333333333336\n[1.5] 46.0\n[1.5] 47.0\n[2.] 49.333333333333336\n[4.5] 52.333333333333336\n[4.5] 56.666666666666664\n[4.] 61.0\n[4.5] 65.33333333333333\n[4.5] 69.66666666666667\n[3.] 73.33333333333333\n[5.] 78.0\n[4.] 81.33333333333333\n[2.] 85.33333333333333\n[2.] 86.66666666666667\n[3.5] 90.33333333333333\n[4.5] 93.33333333333333\n[5.5] 99.33333333333333\n[6.] 104.0\n[6.5] 111.33333333333333\n[7.5] 117.33333333333333\n[9.] 126.66666666666667\n[7.] 133.0\n[4.5] 140.33333333333334\n[7.5] 145.66666666666666\n[10.5] 155.33333333333334\n[49.5] 190.66666666666666\n[50.] 228.66666666666666\n[7.5] 262.0\n[87.] 325.0\n[89.5] 384.6666666666667\n[106.5] 513.6666666666666\n[104.] 584.6666666666666\n[12.5] 662.3333333333334\n[49.5] 695.3333333333334\n[41.] 731.0\n[9.5] 762.0\n[35.5] 788.3333333333334\n[47.] 823.3333333333334\n[44.] 872.6666666666666\n[27.] 902.0\n[0.] 920.0\n[0.] 920.0\n[0.] 920.0\n[68.5] 965.6666666666666\n[68.5] 1011.3333333333334\n[0.] 1057.0\n[0.] 1057.0\n[0.] 1057.0\n[16.] 1067.6666666666667\n[16.] 1078.3333333333333\n[0.] 1089.0\n[0.] 1089.0\n[0.] 1089.0\n[0.] 1089.0\n[0.] 1089.0\n[55.5] 1126.0\n[55.5] 1163.0\n[0.] 1200.0\n[0.] 1200.0\n[60.5] 1240.3333333333333\n[78.5] 1292.6666666666667\n[18.5] 1345.3333333333333\n[12.5] 1365.6666666666667\n[23.5] 1381.6666666666667\n[15.] 1399.6666666666667\n[5.5] 1411.0\n[9.] 1419.3333333333333\n[7.] 1425.3333333333333\n[0.] 1430.0\n[0.] 1430.0\n[23.5] 1445.6666666666667\n[29.5] 1465.3333333333333\n[10.] 1487.6666666666667\n[21.] 1505.6666666666667\n[17.] 1519.6666666666667\n[13.] 1539.6666666666667\n[18.5] 1552.0\n[18.5] 1573.0\n[32.] 1598.0\n[19.] 1619.3333333333333\n[0.] 1632.0\n[0.] 1632.0\n[0.] 1632.0\n[0.] 1632.0\n[131.5] 1719.6666666666667\n[131.5] 1807.3333333333333\n[0.] 1895.0\n[0.] 1895.0\n[0.] 1895.0\n[0.] 1895.0\n[0.] 1895.0\n[0.] 1895.0\n[0.] 1895.0\n[0.] 1895.0\n[457.5] 2200.0\n[542.5] 2561.6666666666665\n[85.] 2923.3333333333335\n[173.] 3095.3333333333335\n[203.] 3230.6666666666665\n[128.5] 3431.6666666666665\n[201.5] 3586.0\n[136.5] 3742.6666666666665\n[269.5] 3991.0\n[312.5] 4221.666666666667\n[112.] 4453.666666666667\n[260.5] 4678.333333333333\n[348.5] 4934.333333333333\n[276.5] 5268.666666666667\n[357.] 5589.0\n[336.5] 5915.333333333333\n[192.] 6179.333333333333\n[176.] 6385.0\n[223.] 6573.333333333333\n[221.] 6798.333333333333\n[185.5] 6993.0\n[232.] 7224.0\n[369.5] 7517.666666666667\n[299.5] 7824.666666666667\n[153.5] 8066.0\n[95.] 8190.0\n[145.5] 8328.666666666666\n[194.] 8479.666666666666\n[260.] 8728.333333333334\n[261.5] 8956.666666666666\n[161.] 9183.333333333334\n[326.5] 9456.0\n[319.] 9721.0\n[189.5] 10012.666666666666\n[195.5] 10190.333333333334\n[204.5] 10405.666666666666\n[229.5] 10610.0\n[227.5] 10846.666666666666\n[158.5] 11020.333333333334\n[101.5] 11171.666666666666\n[114.] 11269.666666666666\n[158.] 11420.666666666666\n[201.5] 11585.333333333334\n[150.5] 11760.666666666666\n[123.] 11902.0\n[97.5] 12008.0\n[178.] 12167.666666666666\n[159.] 12297.666666666666\n[71.] 12439.666666666666\n[112.] 12525.666666666666\n[93.] 12623.666666666666\n[68.5] 12708.0\n[63.5] 12773.666666666666\n[88.] 12854.666666666666\n[138.] 12966.666666666666\n[131.] 13092.666666666666\n[105.5] 13216.333333333334\n[126.] 13334.333333333334\n[0.] 0.0\n[0.] 0.0\n[0.] 0.0\n[0.] 0.0\n[0.] 0.0\n[0.] 0.0\n[0.] 0.0\n[0.] 0.0\n[0.] 0.0\n[0.] 0.0\n[0.] 0.0\n[0.] 0.0\n[0.] 0.0\n[0.] 0.0\n[0.] 0.0\n[0.] 0.0\n[0.] 0.0\n[0.] 0.0\n[0.] 0.0\n[0.] 0.0\n[0.] 0.0\n[0.] 0.0\n[0.] 0.0\n[0.] 0.0\n[0.] 0.0\n[0.] 0.0\n[0.] 0.0\n[0.] 0.0\n[0.] 0.0\n[0.] 0.0\n[0.] 0.0\n[0.] 0.0\n[0.] 0.0\n[0.] 0.0\n[0.] 0.0\n[0.] 0.0\n[0.] 0.0\n[0.] 0.0\n[0.] 0.0\n[0.] 0.0\n[0.] 0.0\n[0.] 0.0\n[0.] 0.0\n[0.] 0.0\n[0.] 0.0\n[0.] 0.0\n[0.] 0.0\n[0.] 0.0\n[0.] 0.0\n[0.] 0.0\n[0.] 0.0\n[0.] 0.0\n[0.] 0.0\n[0.] 0.0\n[0.] 0.0\n[0.] 0.0\n[0.5] 0.3333333333333333\n[1.5] 1.3333333333333333\n[1.] 2.3333333333333335\n[0.] 3.0\n[0.] 3.0\n[0.] 3.0\n[0.] 3.0\n[1.] 3.6666666666666665\n[2.] 5.0\n[1.] 6.333333333333333\n[0.] 7.0\n[0.5] 7.333333333333333\n[0.5] 7.666666666666667\n[0.5] 8.333333333333334\n[0.5] 8.666666666666666\n[0.] 9.0\n[0.] 9.0\n[0.5] 9.333333333333334\n[1.] 10.0\n[0.5] 10.666666666666666\n[0.] 11.0\n[1.] 11.666666666666666\n[1.5] 12.666666666666666\n[0.5] 13.666666666666666\n[1.5] 15.0\n[1.5] 16.0\n[3.] 19.0\n[3.] 21.0\n[0.5] 23.333333333333332\n[1.] 24.0\n[0.5] 24.666666666666668\n[0.] 25.0\n[1.5] 26.0\n[1.5] 27.0\n[0.] 28.0\n[0.5] 28.333333333333332\n[1.5] 29.333333333333332\n[1.] 30.333333333333332\n[0.5] 31.333333333333332\n[0.5] 31.666666666666668\n[0.] 32.0\n[4.] 34.666666666666664\n[4.] 37.333333333333336\n[-3.] 38.0\n[-3.] 36.0\n[0.] 34.0\n[0.] 34.0\n[0.] 34.0\n[0.] 34.0\n[0.] 34.0\n[0.5] 34.333333333333336\n[1.] 35.0\n[0.5] 35.666666666666664\n[0.] 36.0\n[0.5] 36.333333333333336\n[0.5] 36.666666666666664\n[2.5] 38.666666666666664\n[2.5] 40.333333333333336\n[1.] 42.666666666666664\n[2.] 44.0\n[1.] 45.333333333333336\n[1.] 46.666666666666664\n[2.5] 48.333333333333336\n[1.5] 50.0\n[2.5] 52.666666666666664\n[2.5] 54.333333333333336\n[0.] 56.0\n[0.] 56.0\n[38.] 81.33333333333333\n[46.5] 112.33333333333333\n[8.5] 143.33333333333334\n[12.5] 157.33333333333334\n[14.5] 167.0\n[14.5] 185.0\n[14.] 195.66666666666666\n[9.5] 210.33333333333334\n[15.5] 221.66666666666666\n[21.5] 241.33333333333334\n[21.] 260.3333333333333\n[8.5] 275.3333333333333\n[4.] 282.6666666666667\n[16.] 294.3333333333333\n[16.5] 307.0\n[9.] 322.0\n[11.5] 331.6666666666667\n[12.] 343.6666666666667\n[20.] 360.6666666666667\n[15.5] 375.3333333333333\n[4.] 387.0\n[7.] 393.0\n[36.] 418.3333333333333\n[39.] 447.6666666666667\n[8.] 473.6666666666667\n[5.] 482.3333333333333\n[16.5] 493.3333333333333\n[18.] 508.6666666666667\n[9.] 522.3333333333334\n[13.] 535.3333333333334\n[15.5] 547.3333333333334\n[8.] 559.6666666666666\n[3.] 565.0\n[3.5] 569.3333333333334\n[12.] 577.3333333333334\n[15.5] 590.0\n[13.] 604.3333333333334\n[10.] 615.6666666666666\n[40.5] 646.6666666666666\n[45.5] 679.6666666666666\n[18.] 716.0\n[35.5] 745.6666666666666\n[75.5] 802.0\n[49.] 852.3333333333334\n[28.5] 904.0\n[48.5] 936.3333333333334\n[21.5] 969.6666666666666\n[26.] 1000.3333333333334\n[39.5] 1027.6666666666667\n[27.5] 1062.3333333333333\n[149.] 1171.6666666666667\n[165.5] 1290.3333333333333\n[58.] 1420.0\n[95.5] 1503.0\n[117.5] 1600.6666666666667\n[104.5] 1714.6666666666667\n[160.5] 1855.6666666666667\n[152.] 1992.6666666666667\n[131.] 2151.3333333333335\n[155.] 2284.6666666666665\n[108.] 2414.0\n[135.] 2550.0\n[152.5] 2677.6666666666665\n[87.5] 2800.0\n[137.5] 2929.3333333333335\n[145.] 3046.6666666666665\n[283.5] 3306.6666666666665\n[376.] 3583.0\n[208.] 3885.0\n[150.] 4072.3333333333335\n[73.] 4172.333333333333\n[59.] 4260.333333333333\n[115.] 4337.0\n[118.] 4455.0\n[99.] 4558.333333333333\n[86.5] 4657.333333333333\n[84.5] 4738.333333333333\n[72.5] 4819.666666666667\n[86.] 4900.333333333333\n[89.5] 4985.0\n[93.] 5079.333333333333\n[94.5] 5169.666666666667\n[66.] 5248.333333333333\n[58.5] 5315.666666666667\n[167.5] 5443.0\n[183.5] 5588.666666666667\n[86.] 5734.333333333333\n[74.] 5817.666666666667\n[57.5] 5879.333333333333\n[88.5] 5964.333333333333\n[133.] 6065.333333333333\n[90.5] 6172.333333333333\n[48.] 6246.333333333333\n[68.5] 6310.333333333333\n[57.] 6362.0\n[12.] 6402.0\n[45.5] 6438.333333333333\n[73.5] 6489.333333333333\n[70.5] 6564.666666666667\n[59.5] 6625.0\n[99.5] 6717.666666666667\n[79.5] 6784.0\n[0.] 6837.0\n[230.5] 6990.666666666667\n[275.5] 7174.333333333333\n[65.5] 7371.666666666667\n[32.5] 7423.333333333333\n[25.] 7453.666666666667\n[27.5] 7480.0\n"
    }
   ],
   "source": [
    "pd_DR_result=pd_JH_data[['state','country','confirmed']].groupby(['state','country']).apply(rolling_reg,'confirmed')"
   ]
  },
  {
   "cell_type": "code",
   "execution_count": 37,
   "metadata": {},
   "outputs": [],
   "source": [
    "pd_DR_result = pd_DR_result.reset_index()"
   ]
  },
  {
   "cell_type": "code",
   "execution_count": 38,
   "metadata": {},
   "outputs": [
    {
     "output_type": "execute_result",
     "data": {
      "text/plain": "         state   country  level_2   confirmed\n0      Alberta    Canada        0         NaN\n1      Alberta    Canada      465         NaN\n2      Alberta    Canada      701         NaN\n3      Alberta    Canada      966         NaN\n4      Alberta    Canada     1263         NaN\n...        ...       ...      ...         ...\n62505       no  Zimbabwe    61274   26.041137\n62506       no  Zimbabwe    61510  112.544529\n62507       no  Zimbabwe    61806  228.410256\n62508       no  Zimbabwe    62042  298.146667\n62509       no  Zimbabwe    62509  272.000000\n\n[62510 rows x 4 columns]",
      "text/html": "<div>\n<style scoped>\n    .dataframe tbody tr th:only-of-type {\n        vertical-align: middle;\n    }\n\n    .dataframe tbody tr th {\n        vertical-align: top;\n    }\n\n    .dataframe thead th {\n        text-align: right;\n    }\n</style>\n<table border=\"1\" class=\"dataframe\">\n  <thead>\n    <tr style=\"text-align: right;\">\n      <th></th>\n      <th>state</th>\n      <th>country</th>\n      <th>level_2</th>\n      <th>confirmed</th>\n    </tr>\n  </thead>\n  <tbody>\n    <tr>\n      <th>0</th>\n      <td>Alberta</td>\n      <td>Canada</td>\n      <td>0</td>\n      <td>NaN</td>\n    </tr>\n    <tr>\n      <th>1</th>\n      <td>Alberta</td>\n      <td>Canada</td>\n      <td>465</td>\n      <td>NaN</td>\n    </tr>\n    <tr>\n      <th>2</th>\n      <td>Alberta</td>\n      <td>Canada</td>\n      <td>701</td>\n      <td>NaN</td>\n    </tr>\n    <tr>\n      <th>3</th>\n      <td>Alberta</td>\n      <td>Canada</td>\n      <td>966</td>\n      <td>NaN</td>\n    </tr>\n    <tr>\n      <th>4</th>\n      <td>Alberta</td>\n      <td>Canada</td>\n      <td>1263</td>\n      <td>NaN</td>\n    </tr>\n    <tr>\n      <th>...</th>\n      <td>...</td>\n      <td>...</td>\n      <td>...</td>\n      <td>...</td>\n    </tr>\n    <tr>\n      <th>62505</th>\n      <td>no</td>\n      <td>Zimbabwe</td>\n      <td>61274</td>\n      <td>26.041137</td>\n    </tr>\n    <tr>\n      <th>62506</th>\n      <td>no</td>\n      <td>Zimbabwe</td>\n      <td>61510</td>\n      <td>112.544529</td>\n    </tr>\n    <tr>\n      <th>62507</th>\n      <td>no</td>\n      <td>Zimbabwe</td>\n      <td>61806</td>\n      <td>228.410256</td>\n    </tr>\n    <tr>\n      <th>62508</th>\n      <td>no</td>\n      <td>Zimbabwe</td>\n      <td>62042</td>\n      <td>298.146667</td>\n    </tr>\n    <tr>\n      <th>62509</th>\n      <td>no</td>\n      <td>Zimbabwe</td>\n      <td>62509</td>\n      <td>272.000000</td>\n    </tr>\n  </tbody>\n</table>\n<p>62510 rows × 4 columns</p>\n</div>"
     },
     "metadata": {},
     "execution_count": 38
    }
   ],
   "source": [
    "pd_DR_result"
   ]
  },
  {
   "cell_type": "code",
   "execution_count": 39,
   "metadata": {},
   "outputs": [
    {
     "output_type": "execute_result",
     "data": {
      "text/plain": "      state   country  index  confirmed_DR\n62505    no  Zimbabwe  61274     26.041137\n62506    no  Zimbabwe  61510    112.544529\n62507    no  Zimbabwe  61806    228.410256\n62508    no  Zimbabwe  62042    298.146667\n62509    no  Zimbabwe  62509    272.000000",
      "text/html": "<div>\n<style scoped>\n    .dataframe tbody tr th:only-of-type {\n        vertical-align: middle;\n    }\n\n    .dataframe tbody tr th {\n        vertical-align: top;\n    }\n\n    .dataframe thead th {\n        text-align: right;\n    }\n</style>\n<table border=\"1\" class=\"dataframe\">\n  <thead>\n    <tr style=\"text-align: right;\">\n      <th></th>\n      <th>state</th>\n      <th>country</th>\n      <th>index</th>\n      <th>confirmed_DR</th>\n    </tr>\n  </thead>\n  <tbody>\n    <tr>\n      <th>62505</th>\n      <td>no</td>\n      <td>Zimbabwe</td>\n      <td>61274</td>\n      <td>26.041137</td>\n    </tr>\n    <tr>\n      <th>62506</th>\n      <td>no</td>\n      <td>Zimbabwe</td>\n      <td>61510</td>\n      <td>112.544529</td>\n    </tr>\n    <tr>\n      <th>62507</th>\n      <td>no</td>\n      <td>Zimbabwe</td>\n      <td>61806</td>\n      <td>228.410256</td>\n    </tr>\n    <tr>\n      <th>62508</th>\n      <td>no</td>\n      <td>Zimbabwe</td>\n      <td>62042</td>\n      <td>298.146667</td>\n    </tr>\n    <tr>\n      <th>62509</th>\n      <td>no</td>\n      <td>Zimbabwe</td>\n      <td>62509</td>\n      <td>272.000000</td>\n    </tr>\n  </tbody>\n</table>\n</div>"
     },
     "metadata": {},
     "execution_count": 39
    }
   ],
   "source": [
    "pd_DR_result=pd_DR_result.rename(columns={'confirmed':'confirmed_DR',\n",
    "                             'level_2':'index'})\n",
    "pd_DR_result.tail()"
   ]
  },
  {
   "cell_type": "code",
   "execution_count": 40,
   "metadata": {},
   "outputs": [
    {
     "output_type": "execute_result",
     "data": {
      "text/plain": "   index       date    state       country  confirmed\n0      0 2020-01-22  Alberta        Canada          0\n1      1 2020-01-22       no  Korea, South          1\n2      2 2020-01-22       no        Kosovo          0\n3      3 2020-01-22       no        Kuwait          0\n4      4 2020-01-22       no    Kyrgyzstan          0",
      "text/html": "<div>\n<style scoped>\n    .dataframe tbody tr th:only-of-type {\n        vertical-align: middle;\n    }\n\n    .dataframe tbody tr th {\n        vertical-align: top;\n    }\n\n    .dataframe thead th {\n        text-align: right;\n    }\n</style>\n<table border=\"1\" class=\"dataframe\">\n  <thead>\n    <tr style=\"text-align: right;\">\n      <th></th>\n      <th>index</th>\n      <th>date</th>\n      <th>state</th>\n      <th>country</th>\n      <th>confirmed</th>\n    </tr>\n  </thead>\n  <tbody>\n    <tr>\n      <th>0</th>\n      <td>0</td>\n      <td>2020-01-22</td>\n      <td>Alberta</td>\n      <td>Canada</td>\n      <td>0</td>\n    </tr>\n    <tr>\n      <th>1</th>\n      <td>1</td>\n      <td>2020-01-22</td>\n      <td>no</td>\n      <td>Korea, South</td>\n      <td>1</td>\n    </tr>\n    <tr>\n      <th>2</th>\n      <td>2</td>\n      <td>2020-01-22</td>\n      <td>no</td>\n      <td>Kosovo</td>\n      <td>0</td>\n    </tr>\n    <tr>\n      <th>3</th>\n      <td>3</td>\n      <td>2020-01-22</td>\n      <td>no</td>\n      <td>Kuwait</td>\n      <td>0</td>\n    </tr>\n    <tr>\n      <th>4</th>\n      <td>4</td>\n      <td>2020-01-22</td>\n      <td>no</td>\n      <td>Kyrgyzstan</td>\n      <td>0</td>\n    </tr>\n  </tbody>\n</table>\n</div>"
     },
     "metadata": {},
     "execution_count": 40
    }
   ],
   "source": [
    "pd_JH_data=pd_JH_data.reset_index()\n",
    "pd_JH_data.head()"
   ]
  },
  {
   "cell_type": "code",
   "execution_count": 41,
   "metadata": {},
   "outputs": [
    {
     "output_type": "execute_result",
     "data": {
      "text/plain": "       index       date state   country  confirmed  confirmed_DR\n62505  62505 2020-09-12    no  Barbados        180           inf\n62506  62506 2020-09-12    no   Belarus      73975    384.288194\n62507  62507 2020-09-12    no   Belgium      92478     95.840489\n62508  62508 2020-09-12    no   Albania      11185     67.827692\n62509  62509 2020-09-12    no  Zimbabwe       7508    272.000000",
      "text/html": "<div>\n<style scoped>\n    .dataframe tbody tr th:only-of-type {\n        vertical-align: middle;\n    }\n\n    .dataframe tbody tr th {\n        vertical-align: top;\n    }\n\n    .dataframe thead th {\n        text-align: right;\n    }\n</style>\n<table border=\"1\" class=\"dataframe\">\n  <thead>\n    <tr style=\"text-align: right;\">\n      <th></th>\n      <th>index</th>\n      <th>date</th>\n      <th>state</th>\n      <th>country</th>\n      <th>confirmed</th>\n      <th>confirmed_DR</th>\n    </tr>\n  </thead>\n  <tbody>\n    <tr>\n      <th>62505</th>\n      <td>62505</td>\n      <td>2020-09-12</td>\n      <td>no</td>\n      <td>Barbados</td>\n      <td>180</td>\n      <td>inf</td>\n    </tr>\n    <tr>\n      <th>62506</th>\n      <td>62506</td>\n      <td>2020-09-12</td>\n      <td>no</td>\n      <td>Belarus</td>\n      <td>73975</td>\n      <td>384.288194</td>\n    </tr>\n    <tr>\n      <th>62507</th>\n      <td>62507</td>\n      <td>2020-09-12</td>\n      <td>no</td>\n      <td>Belgium</td>\n      <td>92478</td>\n      <td>95.840489</td>\n    </tr>\n    <tr>\n      <th>62508</th>\n      <td>62508</td>\n      <td>2020-09-12</td>\n      <td>no</td>\n      <td>Albania</td>\n      <td>11185</td>\n      <td>67.827692</td>\n    </tr>\n    <tr>\n      <th>62509</th>\n      <td>62509</td>\n      <td>2020-09-12</td>\n      <td>no</td>\n      <td>Zimbabwe</td>\n      <td>7508</td>\n      <td>272.000000</td>\n    </tr>\n  </tbody>\n</table>\n</div>"
     },
     "metadata": {},
     "execution_count": 41
    }
   ],
   "source": [
    "pd_result_larg=pd.merge(pd_JH_data,pd_DR_result[['index','confirmed_DR']],on=['index'],how='left')\n",
    "pd_result_larg.tail()"
   ]
  },
  {
   "cell_type": "code",
   "execution_count": 42,
   "metadata": {},
   "outputs": [
    {
     "output_type": "execute_result",
     "data": {
      "text/plain": "      index       date state  country  confirmed  confirmed_DR\n43       43 2020-01-22    no  Germany          0           NaN\n308     308 2020-01-23    no  Germany          0           NaN\n575     575 2020-01-24    no  Germany          0           NaN\n841     841 2020-01-25    no  Germany          0           NaN\n1107   1107 2020-01-26    no  Germany          0           NaN",
      "text/html": "<div>\n<style scoped>\n    .dataframe tbody tr th:only-of-type {\n        vertical-align: middle;\n    }\n\n    .dataframe tbody tr th {\n        vertical-align: top;\n    }\n\n    .dataframe thead th {\n        text-align: right;\n    }\n</style>\n<table border=\"1\" class=\"dataframe\">\n  <thead>\n    <tr style=\"text-align: right;\">\n      <th></th>\n      <th>index</th>\n      <th>date</th>\n      <th>state</th>\n      <th>country</th>\n      <th>confirmed</th>\n      <th>confirmed_DR</th>\n    </tr>\n  </thead>\n  <tbody>\n    <tr>\n      <th>43</th>\n      <td>43</td>\n      <td>2020-01-22</td>\n      <td>no</td>\n      <td>Germany</td>\n      <td>0</td>\n      <td>NaN</td>\n    </tr>\n    <tr>\n      <th>308</th>\n      <td>308</td>\n      <td>2020-01-23</td>\n      <td>no</td>\n      <td>Germany</td>\n      <td>0</td>\n      <td>NaN</td>\n    </tr>\n    <tr>\n      <th>575</th>\n      <td>575</td>\n      <td>2020-01-24</td>\n      <td>no</td>\n      <td>Germany</td>\n      <td>0</td>\n      <td>NaN</td>\n    </tr>\n    <tr>\n      <th>841</th>\n      <td>841</td>\n      <td>2020-01-25</td>\n      <td>no</td>\n      <td>Germany</td>\n      <td>0</td>\n      <td>NaN</td>\n    </tr>\n    <tr>\n      <th>1107</th>\n      <td>1107</td>\n      <td>2020-01-26</td>\n      <td>no</td>\n      <td>Germany</td>\n      <td>0</td>\n      <td>NaN</td>\n    </tr>\n  </tbody>\n</table>\n</div>"
     },
     "metadata": {},
     "execution_count": 42
    }
   ],
   "source": [
    "pd_result_larg[pd_result_larg['country']=='Germany'].head()"
   ]
  },
  {
   "cell_type": "code",
   "execution_count": null,
   "metadata": {},
   "outputs": [],
   "source": []
  },
  {
   "cell_type": "markdown",
   "metadata": {},
   "source": [
    "## Filtering the data with groupby apply "
   ]
  },
  {
   "cell_type": "code",
   "execution_count": 43,
   "metadata": {},
   "outputs": [],
   "source": [
    "from scipy import signal\n",
    "\n",
    "def savgol_filter(df_input,column='confirmed',window=5):\n",
    "    ''' Savgol Filter which can be used in groupby apply function \n",
    "        it ensures that the data structure is kept'''\n",
    "    window=5, \n",
    "    degree=1\n",
    "    df_result=df_input\n",
    "    \n",
    "    filter_in=df_input[column].fillna(0) # attention with the neutral element here\n",
    "    \n",
    "    result=signal.savgol_filter(np.array(filter_in),\n",
    "                           5, # window size used for filtering\n",
    "                           1)\n",
    "    df_result[column+'_filtered']=result\n",
    "    return df_result"
   ]
  },
  {
   "cell_type": "code",
   "execution_count": 44,
   "metadata": {},
   "outputs": [],
   "source": [
    "pd_filtered_result=pd_JH_data[['state','country','confirmed']].groupby(['state','country']).apply(savgol_filter).reset_index()"
   ]
  },
  {
   "cell_type": "code",
   "execution_count": 45,
   "metadata": {},
   "outputs": [
    {
     "output_type": "execute_result",
     "data": {
      "text/plain": "   index       date    state       country  confirmed  confirmed_DR  \\\n0      0 2020-01-22  Alberta        Canada          0           NaN   \n1      1 2020-01-22       no  Korea, South          1           NaN   \n2      2 2020-01-22       no        Kosovo          0           NaN   \n3      3 2020-01-22       no        Kuwait          0           NaN   \n4      4 2020-01-22       no    Kyrgyzstan          0           NaN   \n\n   confirmed_filtered  \n0                 0.0  \n1                 0.8  \n2                 0.0  \n3                 0.0  \n4                 0.0  ",
      "text/html": "<div>\n<style scoped>\n    .dataframe tbody tr th:only-of-type {\n        vertical-align: middle;\n    }\n\n    .dataframe tbody tr th {\n        vertical-align: top;\n    }\n\n    .dataframe thead th {\n        text-align: right;\n    }\n</style>\n<table border=\"1\" class=\"dataframe\">\n  <thead>\n    <tr style=\"text-align: right;\">\n      <th></th>\n      <th>index</th>\n      <th>date</th>\n      <th>state</th>\n      <th>country</th>\n      <th>confirmed</th>\n      <th>confirmed_DR</th>\n      <th>confirmed_filtered</th>\n    </tr>\n  </thead>\n  <tbody>\n    <tr>\n      <th>0</th>\n      <td>0</td>\n      <td>2020-01-22</td>\n      <td>Alberta</td>\n      <td>Canada</td>\n      <td>0</td>\n      <td>NaN</td>\n      <td>0.0</td>\n    </tr>\n    <tr>\n      <th>1</th>\n      <td>1</td>\n      <td>2020-01-22</td>\n      <td>no</td>\n      <td>Korea, South</td>\n      <td>1</td>\n      <td>NaN</td>\n      <td>0.8</td>\n    </tr>\n    <tr>\n      <th>2</th>\n      <td>2</td>\n      <td>2020-01-22</td>\n      <td>no</td>\n      <td>Kosovo</td>\n      <td>0</td>\n      <td>NaN</td>\n      <td>0.0</td>\n    </tr>\n    <tr>\n      <th>3</th>\n      <td>3</td>\n      <td>2020-01-22</td>\n      <td>no</td>\n      <td>Kuwait</td>\n      <td>0</td>\n      <td>NaN</td>\n      <td>0.0</td>\n    </tr>\n    <tr>\n      <th>4</th>\n      <td>4</td>\n      <td>2020-01-22</td>\n      <td>no</td>\n      <td>Kyrgyzstan</td>\n      <td>0</td>\n      <td>NaN</td>\n      <td>0.0</td>\n    </tr>\n  </tbody>\n</table>\n</div>"
     },
     "metadata": {},
     "execution_count": 45
    }
   ],
   "source": [
    "pd_result_larg=pd.merge(pd_result_larg,pd_filtered_result[['index','confirmed_filtered']],on=['index'],how='left')\n",
    "pd_result_larg.head()"
   ]
  },
  {
   "cell_type": "code",
   "execution_count": 46,
   "metadata": {},
   "outputs": [
    {
     "output_type": "execute_result",
     "data": {
      "text/plain": "      index       date state  country  confirmed  confirmed_DR  \\\n43       43 2020-01-22    no  Germany          0           NaN   \n308     308 2020-01-23    no  Germany          0           NaN   \n575     575 2020-01-24    no  Germany          0           NaN   \n841     841 2020-01-25    no  Germany          0           NaN   \n1107   1107 2020-01-26    no  Germany          0           NaN   \n\n      confirmed_filtered  \n43                   0.0  \n308                  0.0  \n575                  0.0  \n841                  0.2  \n1107                 1.0  ",
      "text/html": "<div>\n<style scoped>\n    .dataframe tbody tr th:only-of-type {\n        vertical-align: middle;\n    }\n\n    .dataframe tbody tr th {\n        vertical-align: top;\n    }\n\n    .dataframe thead th {\n        text-align: right;\n    }\n</style>\n<table border=\"1\" class=\"dataframe\">\n  <thead>\n    <tr style=\"text-align: right;\">\n      <th></th>\n      <th>index</th>\n      <th>date</th>\n      <th>state</th>\n      <th>country</th>\n      <th>confirmed</th>\n      <th>confirmed_DR</th>\n      <th>confirmed_filtered</th>\n    </tr>\n  </thead>\n  <tbody>\n    <tr>\n      <th>43</th>\n      <td>43</td>\n      <td>2020-01-22</td>\n      <td>no</td>\n      <td>Germany</td>\n      <td>0</td>\n      <td>NaN</td>\n      <td>0.0</td>\n    </tr>\n    <tr>\n      <th>308</th>\n      <td>308</td>\n      <td>2020-01-23</td>\n      <td>no</td>\n      <td>Germany</td>\n      <td>0</td>\n      <td>NaN</td>\n      <td>0.0</td>\n    </tr>\n    <tr>\n      <th>575</th>\n      <td>575</td>\n      <td>2020-01-24</td>\n      <td>no</td>\n      <td>Germany</td>\n      <td>0</td>\n      <td>NaN</td>\n      <td>0.0</td>\n    </tr>\n    <tr>\n      <th>841</th>\n      <td>841</td>\n      <td>2020-01-25</td>\n      <td>no</td>\n      <td>Germany</td>\n      <td>0</td>\n      <td>NaN</td>\n      <td>0.2</td>\n    </tr>\n    <tr>\n      <th>1107</th>\n      <td>1107</td>\n      <td>2020-01-26</td>\n      <td>no</td>\n      <td>Germany</td>\n      <td>0</td>\n      <td>NaN</td>\n      <td>1.0</td>\n    </tr>\n  </tbody>\n</table>\n</div>"
     },
     "metadata": {},
     "execution_count": 46
    }
   ],
   "source": [
    "pd_result_larg[pd_result_larg['country']=='Germany'].head()"
   ]
  },
  {
   "cell_type": "code",
   "execution_count": 68,
   "metadata": {},
   "outputs": [
    {
     "output_type": "execute_result",
     "data": {
      "text/plain": "233"
     },
     "metadata": {},
     "execution_count": 68
    }
   ],
   "source": []
  },
  {
   "cell_type": "code",
   "execution_count": 47,
   "metadata": {},
   "outputs": [],
   "source": [
    "import plotly.graph_objects as go\n",
    "def quick_plot(x_in, df_input,y_scale='log',slider=False):\n",
    "    \"\"\" Quick basic plot for quick static evaluation of a time series\n",
    "    \n",
    "        you can push selective columns of your data frame by .iloc[:,[0,6,7,8]]\n",
    "        \n",
    "        Parameters:\n",
    "        ----------\n",
    "        x_in : array \n",
    "            array of date time object, or array of numbers\n",
    "        df_input : pandas dataframe \n",
    "            the plotting matrix where each column is plotted\n",
    "            the name of the column will be used for the legend\n",
    "        scale: str\n",
    "            y-axis scale as 'log' or 'linear'\n",
    "        slider: bool\n",
    "            True or False for x-axis slider\n",
    "    \n",
    "        \n",
    "        Returns:\n",
    "        ----------\n",
    "        \n",
    "    \"\"\"\n",
    "    fig = go.Figure()\n",
    "\n",
    "    for each in df_input.columns:\n",
    "        fig.add_trace(go.Scatter(\n",
    "                        x=x_in,\n",
    "                        y=df_input[each],\n",
    "                        name=each,\n",
    "                        opacity=0.8))\n",
    "    \n",
    "    fig.update_layout(autosize=True,\n",
    "        width=1024,\n",
    "        height=768,\n",
    "        font=dict(\n",
    "            family=\"PT Sans, monospace\",\n",
    "            size=18,\n",
    "            color=\"#7f7f7f\"\n",
    "            )\n",
    "        )\n",
    "    fig.update_yaxes(type=y_scale),\n",
    "    fig.update_xaxes(tickangle=-45,\n",
    "                 nticks=20,\n",
    "                 tickfont=dict(size=14,color=\"#7f7f7f\")\n",
    "                )\n",
    "    if slider==True:\n",
    "        fig.update_layout(xaxis_rangeslider_visible=True)\n",
    "    fig.show()\n",
    "      \n",
    "    "
   ]
  },
  {
   "cell_type": "markdown",
   "metadata": {},
   "source": [
    "## Filtered doubling rate"
   ]
  },
  {
   "cell_type": "code",
   "execution_count": 48,
   "metadata": {
    "tags": [
     "outputPrepend"
    ]
   },
   "outputs": [
    {
     "output_type": "stream",
     "name": "stdout",
     "text": "282.5] 13379.999999999998\n[288.3] 13664.666666666664\n[292.2] 13955.33333333333\n[293.9] 14247.599999999997\n[302.5] 14547.733333333328\n[318.9] 14857.799999999996\n[326.9] 15179.933333333329\n[330.2] 15508.466666666665\n[331.9] 15839.266666666663\n[347.5] 16181.533333333331\n[358.7] 16531.333333333332\n[360.8] 16892.866666666665\n[361.5] 17251.999999999996\n[341.1] 17601.8\n[312.8] 17928.93333333333\n[310.3] 18244.6\n[329.6] 18564.066666666666\n[353.1] 18906.6\n[404.3] 19288.733333333334\n[465.] 19721.53333333333\n[490.4] 20195.199999999993\n[498.1] 20690.53333333333\n[510.] 21194.199999999993\n[517.8] 21707.799999999992\n[522.8] 22227.93333333333\n[542.7] 22763.333333333325\n[574.1] 23320.999999999996\n[578.4] 23893.466666666664\n[569.2] 24468.8\n[575.] 25041.866666666658\n[579.6] 25617.999999999996\n[566.9] 26189.53333333333\n[586.6] 26773.399999999994\n[621.8] 27373.066666666662\n[625.6] 27996.066666666662\n[633.85] 28627.233333333326\n[642.3] 29263.899999999994\n[0.] 0.0\n[0.] 0.0\n[0.] 0.0\n[0.] 0.0\n[0.] 0.0\n[0.] 0.0\n[0.] 0.0\n[0.] 0.0\n[0.] 0.0\n[0.] 0.0\n[0.] 0.0\n[0.] 0.0\n[0.] 0.0\n[0.] 0.0\n[0.] 0.0\n[0.] 0.0\n[0.] 0.0\n[0.] 0.0\n[0.] 0.0\n[0.] 0.0\n[0.] 0.0\n[0.] 0.0\n[0.] 0.0\n[0.] 0.0\n[0.] 0.0\n[0.] 0.0\n[0.] 0.0\n[0.] 0.0\n[0.] 0.0\n[0.] 0.0\n[0.] 0.0\n[0.] 0.0\n[0.] 0.0\n[0.] 0.0\n[0.] 0.0\n[0.] 0.0\n[0.] 0.0\n[0.] 0.0\n[0.] 0.0\n[0.] 0.0\n[0.] 0.0\n[0.] 0.0\n[0.] 0.0\n[0.] 0.0\n[0.] 0.0\n[0.] 0.0\n[0.] 0.0\n[0.] 0.0\n[0.] 0.0\n[0.] 0.0\n[0.] 0.0\n[0.] 0.0\n[0.] 0.0\n[0.] 0.0\n[0.] 0.0\n[0.] 0.0\n[0.] 0.0\n[0.] 0.0\n[0.] 0.0\n[0.] 0.0\n[0.] 0.0\n[0.] 0.0\n[0.] 0.0\n[0.] 0.0\n[0.] 0.0\n[0.] 0.0\n[0.] 0.0\n[0.] 0.0\n[0.] 0.0\n[0.] 0.0\n[0.4] 0.2666666666666666\n[0.8] 0.7999999999999998\n[0.8] 1.5999999999999996\n[0.8] 2.3999999999999995\n[0.8] 3.1999999999999993\n[0.4] 3.7333333333333325\n[1.04589168e-31] 3.9999999999999987\n[0.2] 4.133333333333332\n[0.4] 4.3999999999999995\n[0.4] 4.799999999999999\n[0.4] 5.199999999999999\n[0.4] 5.599999999999999\n[0.2] 5.866666666666666\n[0.] 5.999999999999999\n[0.] 5.999999999999999\n[0.] 5.999999999999999\n[0.] 5.999999999999999\n[0.] 5.999999999999999\n[0.] 5.999999999999999\n[0.] 5.999999999999999\n[0.] 5.999999999999999\n[0.] 5.999999999999999\n[0.] 5.999999999999999\n[0.] 5.999999999999999\n[0.] 5.999999999999999\n[0.] 5.999999999999999\n[0.] 5.999999999999999\n[0.] 5.999999999999999\n[0.] 5.999999999999999\n[0.] 5.999999999999999\n[0.] 5.999999999999999\n[0.] 5.999999999999999\n[0.] 5.999999999999999\n[0.] 5.999999999999999\n[0.] 5.999999999999999\n[0.] 5.999999999999999\n[0.] 5.999999999999999\n[0.] 5.999999999999999\n[0.] 5.999999999999999\n[0.] 5.999999999999999\n[0.] 5.999999999999999\n[0.] 5.999999999999999\n[0.] 5.999999999999999\n[0.] 5.999999999999999\n[0.] 5.999999999999999\n[0.] 5.999999999999999\n[0.] 5.999999999999999\n[0.] 5.999999999999999\n[0.] 5.999999999999999\n[0.3] 6.199999999999999\n[0.6] 6.599999999999999\n[0.6] 7.199999999999998\n[0.6] 7.799999999999998\n[0.6] 8.399999999999999\n[0.3] 8.799999999999999\n[0.] 8.999999999999998\n[0.] 8.999999999999998\n[0.] 8.999999999999998\n[0.] 8.999999999999998\n[0.] 8.999999999999998\n[0.] 8.999999999999998\n[0.] 8.999999999999998\n[0.] 8.999999999999998\n[0.] 8.999999999999998\n[0.] 8.999999999999998\n[0.] 8.999999999999998\n[0.] 8.999999999999998\n[0.] 8.999999999999998\n[0.] 8.999999999999998\n[0.] 8.999999999999998\n[0.] 8.999999999999998\n[0.] 8.999999999999998\n[0.] 8.999999999999998\n[0.] 8.999999999999998\n[0.] 8.999999999999998\n[0.] 8.999999999999998\n[0.] 8.999999999999998\n[0.] 8.999999999999998\n[0.1] 9.066666666666665\n[0.2] 9.199999999999998\n[0.2] 9.399999999999997\n[0.2] 9.599999999999998\n[0.2] 9.799999999999997\n[0.1] 9.933333333333332\n[0.] 9.999999999999998\n[0.] 9.999999999999998\n[0.] 9.999999999999998\n[0.] 9.999999999999998\n[0.] 9.999999999999998\n[0.] 9.999999999999998\n[0.] 9.999999999999998\n[0.] 9.999999999999998\n[0.] 9.999999999999998\n[0.] 9.999999999999998\n[0.] 9.999999999999998\n[0.] 9.999999999999998\n[0.] 9.999999999999998\n[0.] 9.999999999999998\n[0.] 9.999999999999998\n[0.] 9.999999999999998\n[0.] 9.999999999999998\n[0.] 9.999999999999998\n[0.] 9.999999999999998\n[0.] 9.999999999999998\n[0.] 9.999999999999998\n[0.] 9.999999999999998\n[0.] 9.999999999999998\n[0.] 9.999999999999998\n[0.] 9.999999999999998\n[0.] 9.999999999999998\n[0.] 9.999999999999998\n[0.] 9.999999999999998\n[0.] 9.999999999999998\n[0.] 9.999999999999998\n[0.] 9.999999999999998\n[0.] 9.999999999999998\n[0.] 9.999999999999998\n[0.] 9.999999999999998\n[0.] 9.999999999999998\n[0.] 9.999999999999998\n[0.] 9.999999999999998\n[0.] 9.999999999999998\n[0.] 9.999999999999998\n[0.] 9.999999999999998\n[0.] 9.999999999999998\n[0.] 9.999999999999998\n[0.] 9.999999999999998\n[0.] 9.999999999999998\n[0.] 9.999999999999998\n[0.] 9.999999999999998\n[0.] 9.999999999999998\n[0.] 9.999999999999998\n[0.] 9.999999999999998\n[0.] 9.999999999999998\n[0.] 9.999999999999998\n[0.] 9.999999999999998\n[0.] 9.999999999999998\n[0.] 9.999999999999998\n[0.] 9.999999999999998\n[0.] 9.999999999999998\n[0.] 9.999999999999998\n[0.] 9.999999999999998\n[0.] 9.999999999999998\n[0.] 9.999999999999998\n[0.] 9.999999999999998\n[0.] 9.999999999999998\n[0.] 9.999999999999998\n[0.] 9.999999999999998\n[0.] 9.999999999999998\n[0.] 9.999999999999998\n[0.] 9.999999999999998\n[0.] 9.999999999999998\n[0.] 9.999999999999998\n[0.] 9.999999999999998\n[0.] 9.999999999999998\n[0.] 9.999999999999998\n[0.] 9.999999999999998\n[0.] 9.999999999999998\n[0.] 9.999999999999998\n[0.] 9.999999999999998\n[0.] 9.999999999999998\n[-8.8817842e-16] 9.999999999999998\n[-8.8817842e-16] 9.999999999999996\n[0.] 0.0\n[0.] 0.0\n[0.] 0.0\n[0.] 0.0\n[0.] 0.0\n[0.] 0.0\n[0.] 0.0\n[0.] 0.0\n[0.] 0.0\n[0.] 0.0\n[0.] 0.0\n[0.] 0.0\n[0.] 0.0\n[0.] 0.0\n[0.] 0.0\n[0.] 0.0\n[0.] 0.0\n[0.] 0.0\n[0.] 0.0\n[0.] 0.0\n[0.] 0.0\n[0.] 0.0\n[0.] 0.0\n[0.] 0.0\n[0.] 0.0\n[0.] 0.0\n[0.] 0.0\n[0.] 0.0\n[0.] 0.0\n[0.] 0.0\n[0.] 0.0\n[0.] 0.0\n[0.] 0.0\n[0.] 0.0\n[0.] 0.0\n[0.] 0.0\n[0.] 0.0\n[0.] 0.0\n[0.] 0.0\n[0.] 0.0\n[0.] 0.0\n[0.] 0.0\n[0.] 0.0\n[0.] 0.0\n[0.] 0.0\n[0.] 0.0\n[0.] 0.0\n[0.] 0.0\n[0.] 0.0\n[0.] 0.0\n[0.] 0.0\n[0.] 0.0\n[0.] 0.0\n[0.] 0.0\n[0.] 0.0\n[0.] 0.0\n[0.] 0.0\n[0.] 0.0\n[0.] 0.0\n[0.] 0.0\n[0.] 0.0\n[0.] 0.0\n[0.] 0.0\n[0.] 0.0\n[0.] 0.0\n[0.] 0.0\n[0.] 0.0\n[0.] 0.0\n[0.] 0.0\n[0.] 0.0\n[0.] 0.0\n[0.] 0.0\n[0.] 0.0\n[0.] 0.0\n[0.] 0.0\n[0.1] 0.06666666666666665\n[0.2] 0.19999999999999996\n[0.2] 0.3999999999999999\n[0.2] 0.5999999999999999\n[0.2] 0.7999999999999998\n[0.1] 0.9333333333333331\n[2.6147292e-32] 0.9999999999999997\n[2.6147292e-32] 0.9999999999999997\n[2.6147292e-32] 0.9999999999999997\n[2.6147292e-32] 0.9999999999999997\n[2.6147292e-32] 0.9999999999999997\n[2.6147292e-32] 0.9999999999999997\n[2.6147292e-32] 0.9999999999999997\n[2.6147292e-32] 0.9999999999999997\n[2.6147292e-32] 0.9999999999999997\n[2.6147292e-32] 0.9999999999999997\n[2.6147292e-32] 0.9999999999999997\n[2.6147292e-32] 0.9999999999999997\n[2.6147292e-32] 0.9999999999999997\n[0.5] 1.333333333333333\n[1.] 1.9999999999999993\n[1.1] 3.066666666666666\n[1.5] 4.3999999999999995\n[1.8] 6.0\n[1.5] 7.599999999999999\n[2.2] 9.666666666666664\n[3.4] 12.33333333333333\n[3.3] 15.599999999999996\n[3.9] 19.399999999999995\n[4.6] 23.466666666666658\n[5.1] 28.466666666666658\n[6.] 33.93333333333333\n[7.1] 40.599999999999994\n[7.6] 47.73333333333333\n[8.7] 56.19999999999999\n[10.6] 65.66666666666664\n[12.1] 77.13333333333331\n[12.9] 89.39999999999998\n[12.3] 101.99999999999999\n[14.2] 115.66666666666664\n[16.] 130.33333333333331\n[15.3] 145.99999999999997\n[15.6] 161.6\n[16.3] 177.4666666666666\n[13.7] 191.99999999999997\n[10.4] 204.39999999999995\n[10.1] 214.79999999999995\n[9.9] 224.66666666666663\n[11.3] 235.66666666666663\n[12.7] 247.26666666666662\n[13.8] 260.8666666666666\n[15.1] 274.99999999999994\n[17.2] 291.5999999999999\n[21.9] 311.13333333333327\n[25.7] 334.79999999999995\n[27.9] 361.46666666666664\n[28.9] 389.79999999999995\n[27.4] 417.5999999999999\n[21.3] 441.5333333333333\n[16.2] 460.8666666666666\n[14.8] 476.3999999999999\n[16.2] 492.33333333333326\n[20.] 510.3999999999999\n[25.7] 533.5999999999999\n[35.7] 564.6666666666666\n[41.3] 602.0666666666665\n[48.8] 648.5333333333332\n[57.8] 700.6666666666665\n[56.4] 757.1999999999998\n[47.4] 808.3999999999997\n[39.5] 852.7333333333331\n[26.9] 884.2666666666664\n[13.4] 905.933333333333\n[12.1] 919.1999999999998\n[14.8] 932.7999999999998\n[17.9] 949.0666666666666\n[25.] 971.2666666666664\n[30.2] 997.7999999999998\n[28.4] 1026.9999999999998\n[26.2] 1054.333333333333\n[23.9] 1079.3333333333333\n[19.5] 1100.7333333333331\n[18.3] 1120.4666666666665\n[21.9] 1140.533333333333\n[24.] 1163.2666666666664\n[24.2] 1187.2666666666664\n[22.7] 1210.533333333333\n[20.1] 1231.9333333333332\n[17.] 1250.3999999999999\n[15.4] 1266.9333333333332\n[18.6] 1284.3999999999996\n[22.3] 1304.4666666666665\n[22.] 1326.333333333333\n[27.3] 1352.1999999999998\n[34.8] 1382.3999999999996\n[34.] 1416.2666666666664\n[30.6] 1448.6666666666663\n[30.9] 1479.9333333333332\n[27.4] 1507.9333333333332\n[19.4] 1531.733333333333\n[17.3] 1550.6666666666663\n[18.3] 1568.3999999999996\n[17.] 1585.733333333333\n[14.1] 1601.333333333333\n[13.7] 1615.5999999999997\n[14.1] 1629.2666666666664\n[12.3] 1642.333333333333\n[10.7] 1653.9999999999998\n[10.3] 1664.5333333333328\n[10.] 1674.6666666666667\n[8.6] 1683.8\n[8.9] 1692.9999999999998\n[9.9] 1702.0666666666664\n[8.6] 1711.2666666666664\n[7.] 1719.0666666666664\n[5.4] 1725.2666666666664\n[5.7] 1731.133333333333\n[6.9] 1737.2666666666662\n[7.3] 1744.3999999999996\n[10.] 1753.3999999999996\n[12.5] 1764.2666666666664\n[10.7] 1775.533333333333\n[11.3] 1787.2666666666664\n[13.2] 1798.9999999999998\n[10.8] 1810.7999999999995\n[9.5] 1821.3333333333328\n[10.4] 1831.2666666666664\n[8.] 1839.9333333333332\n[6.4] 1847.8\n[7.9] 1854.8\n[8.3] 1862.8666666666666\n[7.6] 1870.6666666666663\n[7.5] 1878.4666666666662\n[7.8] 1885.9333333333327\n[6.2] 1892.7999999999993\n[4.7] 1898.3999999999996\n[4.6] 1903.133333333333\n[4.9] 1907.866666666666\n[4.9] 1912.733333333333\n[5.] 1917.733333333333\n[5.8] 1923.1999999999998\n[6.2] 1929.0666666666664\n[5.9] 1935.1333333333325\n[5.7] 1940.9333333333327\n[5.7] 1946.6666666666663\n[6.2] 1952.666666666666\n[6.6] 1958.9999999999993\n[6.3] 1965.3999999999996\n[5.5] 1971.2666666666662\n[5.] 1976.5999999999995\n[3.8] 1980.7999999999995\n[2.8] 1984.333333333333\n[3.1] 1987.2666666666664\n[3.6] 1990.6666666666663\n[4.] 1994.3999999999996\n[4.] 1998.3999999999996\n[3.9] 2002.3333333333328\n[3.8] 2006.1999999999991\n[0.] 0.0\n[0.] 0.0\n[0.] 0.0\n[0.] 0.0\n[0.] 0.0\n[0.] 0.0\n[0.] 0.0\n[0.] 0.0\n[0.] 0.0\n[0.] 0.0\n[0.] 0.0\n[0.] 0.0\n[0.] 0.0\n[0.] 0.0\n[0.] 0.0\n[0.] 0.0\n[0.] 0.0\n[0.] 0.0\n[0.] 0.0\n[0.] 0.0\n[0.] 0.0\n[0.] 0.0\n[0.] 0.0\n[0.] 0.0\n[0.] 0.0\n[0.] 0.0\n[0.] 0.0\n[0.] 0.0\n[0.] 0.0\n[0.] 0.0\n[0.] 0.0\n[0.] 0.0\n[0.] 0.0\n[0.] 0.0\n[0.] 0.0\n[0.] 0.0\n[0.] 0.0\n[0.] 0.0\n[0.] 0.0\n[0.] 0.0\n[0.] 0.0\n[0.] 0.0\n[0.] 0.0\n[0.] 0.0\n[0.] 0.0\n[0.] 0.0\n[0.] 0.0\n[0.] 0.0\n[0.] 0.0\n[0.] 0.0\n[0.] 0.0\n[0.] 0.0\n[0.2] 0.1333333333333333\n[0.4] 0.3999999999999999\n[0.4] 0.7999999999999998\n[0.4] 1.1999999999999997\n[0.5] 1.666666666666666\n[0.4] 2.066666666666666\n[0.2] 2.3999999999999995\n[1.1] 3.1999999999999993\n[2.4] 4.866666666666666\n[3.3] 7.733333333333332\n[4.4] 11.599999999999996\n[5.1] 16.266666666666662\n[4.9] 21.199999999999996\n[4.2] 25.73333333333333\n[3.3] 29.466666666666658\n[2.5] 32.4\n[2.1] 34.73333333333333\n[1.4] 36.4\n[0.8] 37.599999999999994\n[0.7] 38.33333333333332\n[0.3] 38.79999999999999\n[0.] 38.99999999999999\n[0.] 38.99999999999999\n[0.1] 39.066666666666656\n[0.2] 39.199999999999996\n[0.5] 39.59999999999999\n[1.] 40.33333333333332\n[1.2] 41.39999999999999\n[1.4] 42.73333333333333\n[1.6] 44.19999999999999\n[1.7] 45.86666666666665\n[2.1] 47.79999999999999\n[2.8] 50.26666666666665\n[3.3] 53.26666666666665\n[3.9] 56.933333333333316\n[4.4] 60.99999999999998\n[4.1] 65.19999999999999\n[4.2] 69.46666666666665\n[4.2] 73.53333333333332\n[3.7] 77.53333333333332\n[3.2] 80.93333333333332\n[3.3] 84.33333333333331\n[3.2] 87.39999999999998\n[3.5] 90.99999999999999\n[4.3] 94.7333333333333\n[5.2] 99.66666666666664\n[6.] 105.06666666666665\n[6.9] 111.7333333333333\n[7.2] 118.46666666666664\n[6.9] 125.7333333333333\n[7.1] 132.59999999999997\n[7.7] 140.19999999999996\n[15.8] 152.99999999999997\n[24.4] 172.1333333333333\n[25.] 196.4666666666666\n[40.9] 232.3333333333333\n[56.7] 278.19999999999993\n[68.1] 342.79999999999995\n[78.9] 413.99999999999994\n[79.9] 494.0666666666666\n[72.4] 568.1333333333332\n[62.7] 637.3999999999999\n[43.3] 687.0666666666666\n[29.6] 727.7999999999998\n[36.5] 759.9999999999999\n[35.4] 795.4666666666666\n[32.6] 829.6666666666664\n[30.7] 861.2666666666664\n[23.6] 887.5999999999998\n[14.2] 906.933333333333\n[19.1] 925.5333333333332\n[27.4] 947.3999999999997\n[27.4] 974.7999999999998\n[27.4] 1002.1999999999998\n[27.4] 1029.5999999999997\n[16.9] 1049.9999999999998\n[6.4] 1063.3999999999999\n[6.4] 1069.8\n[6.4] 1076.1999999999998\n[6.4] 1082.5999999999997\n[3.2] 1086.8666666666666\n[0.] 1088.9999999999998\n[11.1] 1096.3999999999999\n[22.2] 1111.1999999999998\n[22.2] 1133.3999999999996\n[22.2] 1155.5999999999997\n[34.3] 1185.8666666666666\n[38.9] 1219.1999999999998\n[31.5] 1255.6666666666663\n[34.] 1288.7999999999995\n[38.7] 1325.133333333333\n[29.6] 1356.9999999999998\n[15.] 1380.6666666666663\n[13.1] 1395.4666666666665\n[12.] 1407.3999999999996\n[7.3] 1417.0666666666664\n[4.3] 1423.1333333333332\n[7.9] 1430.0666666666664\n[12.] 1439.2666666666664\n[12.6] 1451.733333333333\n[16.8] 1466.866666666666\n[20.2] 1484.8\n[18.1] 1503.5999999999997\n[15.9] 1520.9333333333332\n[17.6] 1537.9999999999998\n[19.8] 1556.4666666666665\n[20.2] 1576.3999999999996\n[17.6] 1594.866666666666\n[13.9] 1610.866666666666\n[10.2] 1622.666666666666\n[3.8] 1629.4666666666662\n[26.3] 1649.5333333333328\n[52.6] 1684.5999999999995\n[52.6] 1737.1999999999996\n[52.6] 1789.7999999999995\n[52.6] 1842.3999999999996\n[26.3] 1877.4666666666662\n[5.3549654e-29] 1894.9999999999993\n[5.3549654e-29] 1894.9999999999993\n[5.3549654e-29] 1894.9999999999993\n[5.3549654e-29] 1894.9999999999993\n[91.5] 1955.9999999999993\n[200.] 2089.3333333333326\n[217.] 2294.9999999999995\n[251.6] 2535.066666666666\n[292.2] 2802.1999999999994\n[226.4] 3048.533333333333\n[158.2] 3253.3999999999996\n[168.5] 3417.2666666666664\n[187.8] 3596.399999999999\n[209.7] 3794.599999999999\n[206.4] 3998.9999999999986\n[218.2] 4217.466666666666\n[260.6] 4455.799999999999\n[262.] 4711.333333333333\n[270.9] 4984.799999999999\n[315.8] 5277.133333333332\n[302.1] 5577.333333333332\n[267.6] 5867.466666666666\n[256.9] 6128.399999999999\n[229.7] 6370.2666666666655\n[199.5] 6585.799999999998\n[207.5] 6794.733333333333\n[246.2] 7021.2666666666655\n[261.5] 7271.533333333332\n[248.] 7525.066666666666\n[229.9] 7764.466666666664\n[212.6] 7985.399999999999\n[177.5] 8177.799999999999\n[169.6] 8358.533333333333\n[191.2] 8536.666666666666\n[204.4] 8735.333333333332\n[240.6] 8960.8\n[265.6] 9209.066666666666\n[251.5] 9465.93333333333\n[238.3] 9712.666666666664\n[247.] 9957.133333333331\n[227.6] 10187.933333333332\n[209.3] 10413.066666666666\n[203.1] 10614.599999999999\n[184.3] 10810.866666666665\n[166.2] 10983.666666666666\n[151.9] 11145.799999999997\n[146.7] 11293.533333333331\n[145.1] 11441.599999999999\n[149.4] 11587.666666666664\n[146.1] 11735.33333333333\n[150.1] 11884.733333333332\n[141.6] 12027.199999999997\n[125.7] 12162.999999999998\n[123.5] 12287.73333333333\n[122.6] 12410.866666666663\n[100.7] 12518.933333333329\n[81.6] 12614.133333333331\n[85.] 12697.133333333331\n[90.2] 12785.33333333333\n[97.8] 12879.133333333331\n[105.2] 12980.799999999997\n[117.7] 13092.933333333329\n[124.95] 13212.699999999997\n[123.9] 13337.299999999994\n[0.] 0.0\n[0.] 0.0\n[0.] 0.0\n[0.] 0.0\n[0.] 0.0\n[0.] 0.0\n[0.] 0.0\n[0.] 0.0\n[0.] 0.0\n[0.] 0.0\n[0.] 0.0\n[0.] 0.0\n[0.] 0.0\n[0.] 0.0\n[0.] 0.0\n[0.] 0.0\n[0.] 0.0\n[0.] 0.0\n[0.] 0.0\n[0.] 0.0\n[0.] 0.0\n[0.] 0.0\n[0.] 0.0\n[0.] 0.0\n[0.] 0.0\n[0.] 0.0\n[0.] 0.0\n[0.] 0.0\n[0.] 0.0\n[0.] 0.0\n[0.] 0.0\n[0.] 0.0\n[0.] 0.0\n[0.] 0.0\n[0.] 0.0\n[0.] 0.0\n[0.] 0.0\n[0.] 0.0\n[0.] 0.0\n[0.] 0.0\n[0.] 0.0\n[0.] 0.0\n[0.] 0.0\n[0.] 0.0\n[0.] 0.0\n[0.] 0.0\n[0.] 0.0\n[0.] 0.0\n[0.] 0.0\n[0.] 0.0\n[0.] 0.0\n[0.] 0.0\n[0.] 0.0\n[0.] 0.0\n[0.1] 0.06666666666666665\n[0.4] 0.33333333333333326\n[0.6] 0.7999999999999998\n[0.6] 1.3999999999999997\n[0.6] 1.9999999999999998\n[0.5] 2.533333333333333\n[0.2] 2.8666666666666667\n[0.2] 3.133333333333333\n[0.6] 3.5333333333333328\n[0.8] 4.199999999999999\n[0.8] 4.999999999999999\n[0.9] 5.8666666666666645\n[0.8] 6.666666666666665\n[0.5] 7.333333333333331\n[0.4] 7.799999999999998\n[0.4] 8.199999999999998\n[0.3] 8.533333333333331\n[0.3] 8.866666666666665\n[0.4] 9.199999999999998\n[0.4] 9.6\n[0.4] 9.999999999999998\n[0.6] 10.533333333333331\n[0.8] 11.199999999999998\n[0.7] 11.933333333333332\n[0.9] 12.799999999999997\n[1.2] 13.799999999999997\n[1.6] 15.266666666666664\n[1.9] 16.93333333333333\n[1.9] 18.866666666666664\n[1.8] 20.666666666666664\n[1.6] 22.399999999999995\n[1.] 23.599999999999994\n[0.7] 24.599999999999994\n[0.9] 25.333333333333332\n[0.7] 26.13333333333333\n[0.7] 26.86666666666666\n[1.] 27.73333333333333\n[0.9] 28.599999999999994\n[0.7] 29.466666666666658\n[0.8] 30.199999999999992\n[0.7] 30.933333333333326\n[1.2] 31.999999999999996\n[1.8] 33.4\n[1.1] 34.73333333333333\n[0.4] 35.599999999999994\n[0.4] 35.99999999999999\n[-0.4] 35.86666666666665\n[-1.2] 35.199999999999996\n[-0.6] 34.4\n[0.] 34.0\n[0.1] 34.06666666666666\n[0.3] 34.26666666666666\n[0.4] 34.599999999999994\n[0.4] 34.99999999999999\n[0.5] 35.46666666666666\n[0.5] 35.93333333333332\n[0.8] 36.66666666666666\n[1.2] 37.599999999999994\n[1.4] 38.93333333333333\n[1.7] 40.46666666666666\n[1.8] 42.19999999999999\n[1.5] 43.79999999999999\n[1.5] 45.399999999999984\n[1.6] 46.86666666666665\n[1.7] 48.59999999999999\n[2.] 50.4\n[1.8] 52.26666666666665\n[1.3] 53.79999999999999\n[8.6] 60.066666666666656\n[17.4] 71.99999999999999\n[18.6] 89.8\n[21.1] 110.06666666666665\n[24.] 132.26666666666665\n[19.3] 152.99999999999997\n[12.8] 169.66666666666663\n[13.] 183.0666666666666\n[13.6] 195.9333333333333\n[15.] 210.79999999999995\n[16.3] 225.86666666666665\n[15.2] 241.79999999999995\n[14.1] 256.2666666666666\n[14.2] 270.79999999999995\n[13.2] 283.9333333333332\n[10.8] 296.2666666666666\n[11.4] 307.53333333333325\n[13.] 319.7333333333333\n[13.8] 332.99999999999994\n[13.6] 346.6666666666667\n[12.6] 359.6666666666666\n[11.7] 371.9333333333332\n[16.5] 386.86666666666656\n[20.3] 404.2666666666666\n[18.8] 423.9333333333332\n[19.] 442.99999999999994\n[20.9] 463.0666666666666\n[17.3] 481.13333333333327\n[11.3] 496.0666666666666\n[12.3] 508.3999999999999\n[14.4] 521.3999999999999\n[12.7] 534.6666666666665\n[9.7] 545.9333333333333\n[8.6] 555.3333333333331\n[8.4] 563.7333333333332\n[8.4] 572.2666666666665\n[9.4] 581.1999999999999\n[10.8] 591.3333333333333\n[18.2] 606.7999999999998\n[24.9] 627.2666666666665\n[25.4] 652.4666666666666\n[29.9] 680.7333333333332\n[43.] 717.9999999999997\n[44.7] 759.1333333333332\n[41.3] 803.9999999999999\n[47.4] 848.0666666666666\n[44.6] 892.8666666666664\n[34.7] 932.5333333333332\n[32.8] 967.5999999999998\n[32.6] 999.2666666666664\n[52.7] 1046.333333333333\n[81.5] 1110.4666666666665\n[87.9] 1194.3999999999996\n[99.1] 1289.4666666666665\n[117.1] 1397.1333333333332\n[108.2] 1505.733333333333\n[107.2] 1618.7999999999995\n[126.] 1733.333333333333\n[133.1] 1862.9999999999998\n[140.6] 1999.7999999999995\n[141.3] 2139.666666666666\n[136.2] 2278.533333333333\n[136.3] 2415.533333333333\n[127.6] 2545.266666666666\n[124.1] 2674.1999999999994\n[131.5] 2800.733333333332\n[161.2] 2952.0666666666657\n[205.9] 3133.1333333333328\n[230.] 3350.1333333333328\n[232.5] 3578.733333333333\n[218.1] 3803.8666666666663\n[173.2] 3994.599999999999\n[121.] 4145.399999999999\n[103.] 4259.4\n[92.8] 4356.599999999999\n[95.5] 4453.599999999999\n[100.6] 4549.199999999999\n[92.1] 4645.733333333333\n[85.7] 4734.799999999999\n[83.8] 4820.133333333332\n[85.1] 4904.533333333333\n[87.1] 4990.799999999999\n[85.8] 5076.533333333332\n[80.3] 5159.5999999999985\n[95.9] 5251.199999999999\n[114.] 5353.066666666665\n[112.3] 5465.999999999999\n[113.9] 5579.866666666666\n[113.7] 5692.5999999999985\n[97.9] 5796.866666666666\n[87.8] 5892.2\n[88.7] 5979.799999999998\n[83.5] 6065.533333333333\n[85.7] 6151.733333333333\n[79.4] 6231.2666666666655\n[55.2] 6298.5999999999985\n[46.2] 6351.799999999998\n[51.3] 6400.399999999999\n[51.7] 6451.2666666666655\n[52.2] 6503.866666666665\n[69.7] 6566.999999999999\n[76.5] 6636.133333333332\n[61.8] 6705.666666666667\n[93.8] 6790.866666666666\n[137.] 6900.733333333333\n[130.2] 7031.533333333333\n[120.8] 7159.399999999999\n[125.8] 7282.733333333333\n[85.2] 7380.5999999999985\n[35.5] 7447.066666666663\n[29.] 7480.399999999997\n"
    }
   ],
   "source": [
    "pd_filtered_doubling=pd_result_larg[['state','country','confirmed_filtered']].groupby(['state','country']).apply(rolling_reg,'confirmed_filtered').reset_index()\n",
    "\n",
    "pd_filtered_doubling=pd_filtered_doubling.rename(columns={'confirmed_filtered':'confirmed_filtered_DR',\n",
    "                             'level_2':'index'})\n",
    "\n"
   ]
  },
  {
   "cell_type": "code",
   "execution_count": 49,
   "metadata": {},
   "outputs": [
    {
     "output_type": "execute_result",
     "data": {
      "text/plain": "       index       date state   country  confirmed  confirmed_DR  \\\n62505  62505 2020-09-12    no  Barbados        180           inf   \n62506  62506 2020-09-12    no   Belarus      73975    384.288194   \n62507  62507 2020-09-12    no   Belgium      92478     95.840489   \n62508  62508 2020-09-12    no   Albania      11185     67.827692   \n62509  62509 2020-09-12    no  Zimbabwe       7508    272.000000   \n\n       confirmed_filtered  confirmed_filtered_DR  \n62505               180.0          -1.266637e+16  \n62506             73975.2           3.850919e+02  \n62507             92387.0           1.074354e+02  \n62508             11180.8           6.971980e+01  \n62509              7509.4           2.579448e+02  ",
      "text/html": "<div>\n<style scoped>\n    .dataframe tbody tr th:only-of-type {\n        vertical-align: middle;\n    }\n\n    .dataframe tbody tr th {\n        vertical-align: top;\n    }\n\n    .dataframe thead th {\n        text-align: right;\n    }\n</style>\n<table border=\"1\" class=\"dataframe\">\n  <thead>\n    <tr style=\"text-align: right;\">\n      <th></th>\n      <th>index</th>\n      <th>date</th>\n      <th>state</th>\n      <th>country</th>\n      <th>confirmed</th>\n      <th>confirmed_DR</th>\n      <th>confirmed_filtered</th>\n      <th>confirmed_filtered_DR</th>\n    </tr>\n  </thead>\n  <tbody>\n    <tr>\n      <th>62505</th>\n      <td>62505</td>\n      <td>2020-09-12</td>\n      <td>no</td>\n      <td>Barbados</td>\n      <td>180</td>\n      <td>inf</td>\n      <td>180.0</td>\n      <td>-1.266637e+16</td>\n    </tr>\n    <tr>\n      <th>62506</th>\n      <td>62506</td>\n      <td>2020-09-12</td>\n      <td>no</td>\n      <td>Belarus</td>\n      <td>73975</td>\n      <td>384.288194</td>\n      <td>73975.2</td>\n      <td>3.850919e+02</td>\n    </tr>\n    <tr>\n      <th>62507</th>\n      <td>62507</td>\n      <td>2020-09-12</td>\n      <td>no</td>\n      <td>Belgium</td>\n      <td>92478</td>\n      <td>95.840489</td>\n      <td>92387.0</td>\n      <td>1.074354e+02</td>\n    </tr>\n    <tr>\n      <th>62508</th>\n      <td>62508</td>\n      <td>2020-09-12</td>\n      <td>no</td>\n      <td>Albania</td>\n      <td>11185</td>\n      <td>67.827692</td>\n      <td>11180.8</td>\n      <td>6.971980e+01</td>\n    </tr>\n    <tr>\n      <th>62509</th>\n      <td>62509</td>\n      <td>2020-09-12</td>\n      <td>no</td>\n      <td>Zimbabwe</td>\n      <td>7508</td>\n      <td>272.000000</td>\n      <td>7509.4</td>\n      <td>2.579448e+02</td>\n    </tr>\n  </tbody>\n</table>\n</div>"
     },
     "metadata": {},
     "execution_count": 49
    }
   ],
   "source": [
    "pd_result_larg=pd.merge(pd_result_larg,pd_filtered_doubling[['index','confirmed_filtered_DR']],on=['index'],how='left')\n",
    "pd_result_larg.tail()"
   ]
  },
  {
   "cell_type": "code",
   "execution_count": 50,
   "metadata": {},
   "outputs": [
    {
     "output_type": "execute_result",
     "data": {
      "text/plain": "0       2020-01-22\n1       2020-01-22\n2       2020-01-22\n3       2020-01-22\n4       2020-01-22\n           ...    \n62505   2020-09-12\n62506   2020-09-12\n62507   2020-09-12\n62508   2020-09-12\n62509   2020-09-12\nName: date, Length: 62510, dtype: datetime64[ns]"
     },
     "metadata": {},
     "execution_count": 50
    }
   ],
   "source": [
    "pd_result_larg.date"
   ]
  },
  {
   "cell_type": "code",
   "execution_count": 51,
   "metadata": {},
   "outputs": [],
   "source": [
    "mask=pd_result_larg['confirmed']>100\n",
    "pd_result_larg['confirmed_filtered_DR']=pd_result_larg['confirmed_filtered_DR'].where(mask, other=np.NaN) "
   ]
  },
  {
   "cell_type": "code",
   "execution_count": 52,
   "metadata": {},
   "outputs": [
    {
     "output_type": "execute_result",
     "data": {
      "text/plain": "   index       date    state       country  confirmed  confirmed_DR  \\\n0      0 2020-01-22  Alberta        Canada          0           NaN   \n1      1 2020-01-22       no  Korea, South          1           NaN   \n2      2 2020-01-22       no        Kosovo          0           NaN   \n3      3 2020-01-22       no        Kuwait          0           NaN   \n4      4 2020-01-22       no    Kyrgyzstan          0           NaN   \n\n   confirmed_filtered  confirmed_filtered_DR  \n0                 0.0                    NaN  \n1                 0.8                    NaN  \n2                 0.0                    NaN  \n3                 0.0                    NaN  \n4                 0.0                    NaN  ",
      "text/html": "<div>\n<style scoped>\n    .dataframe tbody tr th:only-of-type {\n        vertical-align: middle;\n    }\n\n    .dataframe tbody tr th {\n        vertical-align: top;\n    }\n\n    .dataframe thead th {\n        text-align: right;\n    }\n</style>\n<table border=\"1\" class=\"dataframe\">\n  <thead>\n    <tr style=\"text-align: right;\">\n      <th></th>\n      <th>index</th>\n      <th>date</th>\n      <th>state</th>\n      <th>country</th>\n      <th>confirmed</th>\n      <th>confirmed_DR</th>\n      <th>confirmed_filtered</th>\n      <th>confirmed_filtered_DR</th>\n    </tr>\n  </thead>\n  <tbody>\n    <tr>\n      <th>0</th>\n      <td>0</td>\n      <td>2020-01-22</td>\n      <td>Alberta</td>\n      <td>Canada</td>\n      <td>0</td>\n      <td>NaN</td>\n      <td>0.0</td>\n      <td>NaN</td>\n    </tr>\n    <tr>\n      <th>1</th>\n      <td>1</td>\n      <td>2020-01-22</td>\n      <td>no</td>\n      <td>Korea, South</td>\n      <td>1</td>\n      <td>NaN</td>\n      <td>0.8</td>\n      <td>NaN</td>\n    </tr>\n    <tr>\n      <th>2</th>\n      <td>2</td>\n      <td>2020-01-22</td>\n      <td>no</td>\n      <td>Kosovo</td>\n      <td>0</td>\n      <td>NaN</td>\n      <td>0.0</td>\n      <td>NaN</td>\n    </tr>\n    <tr>\n      <th>3</th>\n      <td>3</td>\n      <td>2020-01-22</td>\n      <td>no</td>\n      <td>Kuwait</td>\n      <td>0</td>\n      <td>NaN</td>\n      <td>0.0</td>\n      <td>NaN</td>\n    </tr>\n    <tr>\n      <th>4</th>\n      <td>4</td>\n      <td>2020-01-22</td>\n      <td>no</td>\n      <td>Kyrgyzstan</td>\n      <td>0</td>\n      <td>NaN</td>\n      <td>0.0</td>\n      <td>NaN</td>\n    </tr>\n  </tbody>\n</table>\n</div>"
     },
     "metadata": {},
     "execution_count": 52
    }
   ],
   "source": [
    "pd_result_larg.head()"
   ]
  },
  {
   "cell_type": "code",
   "execution_count": 53,
   "metadata": {},
   "outputs": [
    {
     "output_type": "display_data",
     "data": {
      "application/vnd.plotly.v1+json": {
       "config": {
        "plotlyServerURL": "https://plot.ly"
       },
       "data": [
        {
         "name": "confirmed",
         "opacity": 0.8,
         "type": "scatter",
         "x": [
          "2020-01-22T00:00:00",
          "2020-01-23T00:00:00",
          "2020-01-24T00:00:00",
          "2020-01-25T00:00:00",
          "2020-01-26T00:00:00",
          "2020-01-27T00:00:00",
          "2020-01-28T00:00:00",
          "2020-01-29T00:00:00",
          "2020-01-30T00:00:00",
          "2020-01-31T00:00:00",
          "2020-02-01T00:00:00",
          "2020-02-02T00:00:00",
          "2020-02-03T00:00:00",
          "2020-02-04T00:00:00",
          "2020-02-05T00:00:00",
          "2020-02-06T00:00:00",
          "2020-02-07T00:00:00",
          "2020-02-08T00:00:00",
          "2020-02-09T00:00:00",
          "2020-02-10T00:00:00",
          "2020-02-11T00:00:00",
          "2020-02-12T00:00:00",
          "2020-02-13T00:00:00",
          "2020-02-14T00:00:00",
          "2020-02-15T00:00:00",
          "2020-02-16T00:00:00",
          "2020-02-17T00:00:00",
          "2020-02-18T00:00:00",
          "2020-02-19T00:00:00",
          "2020-02-20T00:00:00",
          "2020-02-21T00:00:00",
          "2020-02-22T00:00:00",
          "2020-02-23T00:00:00",
          "2020-02-24T00:00:00",
          "2020-02-25T00:00:00",
          "2020-02-26T00:00:00",
          "2020-02-27T00:00:00",
          "2020-02-28T00:00:00",
          "2020-02-29T00:00:00",
          "2020-03-01T00:00:00",
          "2020-03-02T00:00:00",
          "2020-03-03T00:00:00",
          "2020-03-04T00:00:00",
          "2020-03-05T00:00:00",
          "2020-03-06T00:00:00",
          "2020-03-07T00:00:00",
          "2020-03-08T00:00:00",
          "2020-03-09T00:00:00",
          "2020-03-10T00:00:00",
          "2020-03-11T00:00:00",
          "2020-03-12T00:00:00",
          "2020-03-13T00:00:00",
          "2020-03-14T00:00:00",
          "2020-03-15T00:00:00",
          "2020-03-16T00:00:00",
          "2020-03-17T00:00:00",
          "2020-03-18T00:00:00",
          "2020-03-19T00:00:00",
          "2020-03-20T00:00:00",
          "2020-03-21T00:00:00",
          "2020-03-22T00:00:00",
          "2020-03-23T00:00:00",
          "2020-03-24T00:00:00",
          "2020-03-25T00:00:00",
          "2020-03-26T00:00:00",
          "2020-03-27T00:00:00",
          "2020-03-28T00:00:00",
          "2020-03-29T00:00:00",
          "2020-03-30T00:00:00",
          "2020-03-31T00:00:00",
          "2020-04-01T00:00:00",
          "2020-04-02T00:00:00",
          "2020-04-03T00:00:00",
          "2020-04-04T00:00:00",
          "2020-04-05T00:00:00",
          "2020-04-06T00:00:00",
          "2020-04-07T00:00:00",
          "2020-04-08T00:00:00",
          "2020-04-09T00:00:00",
          "2020-04-10T00:00:00",
          "2020-04-11T00:00:00",
          "2020-04-12T00:00:00",
          "2020-04-13T00:00:00",
          "2020-04-14T00:00:00",
          "2020-04-15T00:00:00",
          "2020-04-16T00:00:00",
          "2020-04-17T00:00:00",
          "2020-04-18T00:00:00",
          "2020-04-19T00:00:00",
          "2020-04-20T00:00:00",
          "2020-04-21T00:00:00",
          "2020-04-22T00:00:00",
          "2020-04-23T00:00:00",
          "2020-04-24T00:00:00",
          "2020-04-25T00:00:00",
          "2020-04-26T00:00:00",
          "2020-04-27T00:00:00",
          "2020-04-28T00:00:00",
          "2020-04-29T00:00:00",
          "2020-04-30T00:00:00",
          "2020-05-01T00:00:00",
          "2020-05-02T00:00:00",
          "2020-05-03T00:00:00",
          "2020-05-04T00:00:00",
          "2020-05-05T00:00:00",
          "2020-05-06T00:00:00",
          "2020-05-07T00:00:00",
          "2020-05-08T00:00:00",
          "2020-05-09T00:00:00",
          "2020-05-10T00:00:00",
          "2020-05-11T00:00:00",
          "2020-05-12T00:00:00",
          "2020-05-13T00:00:00",
          "2020-05-14T00:00:00",
          "2020-05-15T00:00:00",
          "2020-05-16T00:00:00",
          "2020-05-17T00:00:00",
          "2020-05-18T00:00:00",
          "2020-05-19T00:00:00",
          "2020-05-20T00:00:00",
          "2020-05-21T00:00:00",
          "2020-05-22T00:00:00",
          "2020-05-23T00:00:00",
          "2020-05-24T00:00:00",
          "2020-05-25T00:00:00",
          "2020-05-26T00:00:00",
          "2020-05-27T00:00:00",
          "2020-05-28T00:00:00",
          "2020-05-29T00:00:00",
          "2020-05-30T00:00:00",
          "2020-05-31T00:00:00",
          "2020-06-01T00:00:00",
          "2020-06-02T00:00:00",
          "2020-06-03T00:00:00",
          "2020-06-04T00:00:00",
          "2020-06-05T00:00:00",
          "2020-06-06T00:00:00",
          "2020-06-07T00:00:00",
          "2020-06-08T00:00:00",
          "2020-06-09T00:00:00",
          "2020-06-10T00:00:00",
          "2020-06-11T00:00:00",
          "2020-06-12T00:00:00",
          "2020-06-13T00:00:00",
          "2020-06-14T00:00:00",
          "2020-06-15T00:00:00",
          "2020-06-16T00:00:00",
          "2020-06-17T00:00:00",
          "2020-06-18T00:00:00",
          "2020-06-19T00:00:00",
          "2020-06-20T00:00:00",
          "2020-06-21T00:00:00",
          "2020-06-22T00:00:00",
          "2020-06-23T00:00:00",
          "2020-06-24T00:00:00",
          "2020-06-25T00:00:00",
          "2020-06-26T00:00:00",
          "2020-06-27T00:00:00",
          "2020-06-28T00:00:00",
          "2020-06-29T00:00:00",
          "2020-06-30T00:00:00",
          "2020-07-01T00:00:00",
          "2020-07-02T00:00:00",
          "2020-07-03T00:00:00",
          "2020-07-04T00:00:00",
          "2020-07-05T00:00:00",
          "2020-07-06T00:00:00",
          "2020-07-07T00:00:00",
          "2020-07-08T00:00:00",
          "2020-07-09T00:00:00",
          "2020-07-10T00:00:00",
          "2020-07-11T00:00:00",
          "2020-07-12T00:00:00",
          "2020-07-13T00:00:00",
          "2020-07-14T00:00:00",
          "2020-07-15T00:00:00",
          "2020-07-16T00:00:00",
          "2020-07-17T00:00:00",
          "2020-07-18T00:00:00",
          "2020-07-19T00:00:00",
          "2020-07-20T00:00:00",
          "2020-07-21T00:00:00",
          "2020-07-22T00:00:00",
          "2020-07-23T00:00:00",
          "2020-07-24T00:00:00",
          "2020-07-25T00:00:00",
          "2020-07-26T00:00:00",
          "2020-07-27T00:00:00",
          "2020-07-28T00:00:00",
          "2020-07-29T00:00:00",
          "2020-07-30T00:00:00",
          "2020-07-31T00:00:00",
          "2020-08-01T00:00:00",
          "2020-08-02T00:00:00",
          "2020-08-03T00:00:00",
          "2020-08-04T00:00:00",
          "2020-08-05T00:00:00",
          "2020-08-06T00:00:00",
          "2020-08-07T00:00:00",
          "2020-08-08T00:00:00",
          "2020-08-09T00:00:00",
          "2020-08-10T00:00:00",
          "2020-08-11T00:00:00",
          "2020-08-12T00:00:00",
          "2020-08-13T00:00:00",
          "2020-08-14T00:00:00",
          "2020-08-15T00:00:00",
          "2020-08-16T00:00:00",
          "2020-08-17T00:00:00",
          "2020-08-18T00:00:00",
          "2020-08-19T00:00:00",
          "2020-08-20T00:00:00",
          "2020-08-21T00:00:00",
          "2020-08-22T00:00:00",
          "2020-08-23T00:00:00",
          "2020-08-24T00:00:00",
          "2020-08-25T00:00:00",
          "2020-08-26T00:00:00",
          "2020-08-27T00:00:00",
          "2020-08-28T00:00:00",
          "2020-08-29T00:00:00",
          "2020-08-30T00:00:00",
          "2020-08-31T00:00:00",
          "2020-09-01T00:00:00",
          "2020-09-02T00:00:00",
          "2020-09-03T00:00:00",
          "2020-09-04T00:00:00",
          "2020-09-05T00:00:00",
          "2020-09-06T00:00:00",
          "2020-09-07T00:00:00",
          "2020-09-08T00:00:00",
          "2020-09-09T00:00:00",
          "2020-09-10T00:00:00",
          "2020-09-11T00:00:00",
          "2020-09-12T00:00:00"
         ],
         "y": [
          0,
          0,
          0,
          0,
          0,
          1,
          4,
          4,
          4,
          5,
          8,
          10,
          12,
          12,
          12,
          12,
          13,
          13,
          14,
          14,
          16,
          16,
          16,
          16,
          16,
          16,
          16,
          16,
          16,
          16,
          16,
          16,
          16,
          16,
          17,
          27,
          46,
          48,
          79,
          130,
          159,
          196,
          262,
          482,
          670,
          799,
          1040,
          1176,
          1457,
          1908,
          2078,
          3675,
          4585,
          5795,
          7272,
          9257,
          12327,
          15320,
          19848,
          22213,
          24873,
          29056,
          32986,
          37323,
          43938,
          50871,
          57695,
          62095,
          66885,
          71808,
          77872,
          84794,
          91159,
          96092,
          100123,
          103374,
          107663,
          113296,
          118181,
          122171,
          124908,
          127854,
          130072,
          131359,
          134753,
          137698,
          141397,
          143342,
          145184,
          147065,
          148291,
          150648,
          153129,
          154999,
          156513,
          157770,
          158758,
          159912,
          161539,
          163009,
          164077,
          164967,
          165664,
          166152,
          167007,
          168162,
          169430,
          170588,
          171324,
          171879,
          172576,
          173171,
          174098,
          174478,
          175233,
          175752,
          176369,
          176551,
          177778,
          178473,
          179021,
          179710,
          179986,
          180328,
          180600,
          181200,
          181524,
          182196,
          182922,
          183189,
          183410,
          183594,
          183879,
          184121,
          184472,
          184924,
          185450,
          185750,
          186109,
          186506,
          186522,
          186691,
          187226,
          187267,
          187518,
          187682,
          188252,
          188604,
          189817,
          190299,
          190670,
          191272,
          191768,
          192480,
          192871,
          193371,
          194036,
          194458,
          194693,
          195042,
          195418,
          195893,
          196370,
          196780,
          197198,
          197523,
          198064,
          198343,
          198699,
          199001,
          199332,
          199709,
          199919,
          200180,
          200456,
          200890,
          201450,
          202045,
          202426,
          202735,
          203325,
          203717,
          204276,
          204881,
          205623,
          206278,
          206667,
          207112,
          207707,
          208546,
          209535,
          210399,
          211005,
          211220,
          212111,
          212828,
          214113,
          215039,
          216196,
          216903,
          217288,
          218508,
          219540,
          220859,
          222281,
          223791,
          224488,
          225007,
          226700,
          228120,
          229706,
          231292,
          233029,
          233861,
          234494,
          236122,
          237583,
          239010,
          240571,
          242126,
          242835,
          243305,
          244802,
          246015,
          247411,
          248840,
          250283,
          251058,
          251728,
          253626,
          254957,
          256433,
          258149,
          259735,
          260817
         ]
        },
        {
         "name": "confirmed_DR",
         "opacity": 0.8,
         "type": "scatter",
         "x": [
          "2020-01-22T00:00:00",
          "2020-01-23T00:00:00",
          "2020-01-24T00:00:00",
          "2020-01-25T00:00:00",
          "2020-01-26T00:00:00",
          "2020-01-27T00:00:00",
          "2020-01-28T00:00:00",
          "2020-01-29T00:00:00",
          "2020-01-30T00:00:00",
          "2020-01-31T00:00:00",
          "2020-02-01T00:00:00",
          "2020-02-02T00:00:00",
          "2020-02-03T00:00:00",
          "2020-02-04T00:00:00",
          "2020-02-05T00:00:00",
          "2020-02-06T00:00:00",
          "2020-02-07T00:00:00",
          "2020-02-08T00:00:00",
          "2020-02-09T00:00:00",
          "2020-02-10T00:00:00",
          "2020-02-11T00:00:00",
          "2020-02-12T00:00:00",
          "2020-02-13T00:00:00",
          "2020-02-14T00:00:00",
          "2020-02-15T00:00:00",
          "2020-02-16T00:00:00",
          "2020-02-17T00:00:00",
          "2020-02-18T00:00:00",
          "2020-02-19T00:00:00",
          "2020-02-20T00:00:00",
          "2020-02-21T00:00:00",
          "2020-02-22T00:00:00",
          "2020-02-23T00:00:00",
          "2020-02-24T00:00:00",
          "2020-02-25T00:00:00",
          "2020-02-26T00:00:00",
          "2020-02-27T00:00:00",
          "2020-02-28T00:00:00",
          "2020-02-29T00:00:00",
          "2020-03-01T00:00:00",
          "2020-03-02T00:00:00",
          "2020-03-03T00:00:00",
          "2020-03-04T00:00:00",
          "2020-03-05T00:00:00",
          "2020-03-06T00:00:00",
          "2020-03-07T00:00:00",
          "2020-03-08T00:00:00",
          "2020-03-09T00:00:00",
          "2020-03-10T00:00:00",
          "2020-03-11T00:00:00",
          "2020-03-12T00:00:00",
          "2020-03-13T00:00:00",
          "2020-03-14T00:00:00",
          "2020-03-15T00:00:00",
          "2020-03-16T00:00:00",
          "2020-03-17T00:00:00",
          "2020-03-18T00:00:00",
          "2020-03-19T00:00:00",
          "2020-03-20T00:00:00",
          "2020-03-21T00:00:00",
          "2020-03-22T00:00:00",
          "2020-03-23T00:00:00",
          "2020-03-24T00:00:00",
          "2020-03-25T00:00:00",
          "2020-03-26T00:00:00",
          "2020-03-27T00:00:00",
          "2020-03-28T00:00:00",
          "2020-03-29T00:00:00",
          "2020-03-30T00:00:00",
          "2020-03-31T00:00:00",
          "2020-04-01T00:00:00",
          "2020-04-02T00:00:00",
          "2020-04-03T00:00:00",
          "2020-04-04T00:00:00",
          "2020-04-05T00:00:00",
          "2020-04-06T00:00:00",
          "2020-04-07T00:00:00",
          "2020-04-08T00:00:00",
          "2020-04-09T00:00:00",
          "2020-04-10T00:00:00",
          "2020-04-11T00:00:00",
          "2020-04-12T00:00:00",
          "2020-04-13T00:00:00",
          "2020-04-14T00:00:00",
          "2020-04-15T00:00:00",
          "2020-04-16T00:00:00",
          "2020-04-17T00:00:00",
          "2020-04-18T00:00:00",
          "2020-04-19T00:00:00",
          "2020-04-20T00:00:00",
          "2020-04-21T00:00:00",
          "2020-04-22T00:00:00",
          "2020-04-23T00:00:00",
          "2020-04-24T00:00:00",
          "2020-04-25T00:00:00",
          "2020-04-26T00:00:00",
          "2020-04-27T00:00:00",
          "2020-04-28T00:00:00",
          "2020-04-29T00:00:00",
          "2020-04-30T00:00:00",
          "2020-05-01T00:00:00",
          "2020-05-02T00:00:00",
          "2020-05-03T00:00:00",
          "2020-05-04T00:00:00",
          "2020-05-05T00:00:00",
          "2020-05-06T00:00:00",
          "2020-05-07T00:00:00",
          "2020-05-08T00:00:00",
          "2020-05-09T00:00:00",
          "2020-05-10T00:00:00",
          "2020-05-11T00:00:00",
          "2020-05-12T00:00:00",
          "2020-05-13T00:00:00",
          "2020-05-14T00:00:00",
          "2020-05-15T00:00:00",
          "2020-05-16T00:00:00",
          "2020-05-17T00:00:00",
          "2020-05-18T00:00:00",
          "2020-05-19T00:00:00",
          "2020-05-20T00:00:00",
          "2020-05-21T00:00:00",
          "2020-05-22T00:00:00",
          "2020-05-23T00:00:00",
          "2020-05-24T00:00:00",
          "2020-05-25T00:00:00",
          "2020-05-26T00:00:00",
          "2020-05-27T00:00:00",
          "2020-05-28T00:00:00",
          "2020-05-29T00:00:00",
          "2020-05-30T00:00:00",
          "2020-05-31T00:00:00",
          "2020-06-01T00:00:00",
          "2020-06-02T00:00:00",
          "2020-06-03T00:00:00",
          "2020-06-04T00:00:00",
          "2020-06-05T00:00:00",
          "2020-06-06T00:00:00",
          "2020-06-07T00:00:00",
          "2020-06-08T00:00:00",
          "2020-06-09T00:00:00",
          "2020-06-10T00:00:00",
          "2020-06-11T00:00:00",
          "2020-06-12T00:00:00",
          "2020-06-13T00:00:00",
          "2020-06-14T00:00:00",
          "2020-06-15T00:00:00",
          "2020-06-16T00:00:00",
          "2020-06-17T00:00:00",
          "2020-06-18T00:00:00",
          "2020-06-19T00:00:00",
          "2020-06-20T00:00:00",
          "2020-06-21T00:00:00",
          "2020-06-22T00:00:00",
          "2020-06-23T00:00:00",
          "2020-06-24T00:00:00",
          "2020-06-25T00:00:00",
          "2020-06-26T00:00:00",
          "2020-06-27T00:00:00",
          "2020-06-28T00:00:00",
          "2020-06-29T00:00:00",
          "2020-06-30T00:00:00",
          "2020-07-01T00:00:00",
          "2020-07-02T00:00:00",
          "2020-07-03T00:00:00",
          "2020-07-04T00:00:00",
          "2020-07-05T00:00:00",
          "2020-07-06T00:00:00",
          "2020-07-07T00:00:00",
          "2020-07-08T00:00:00",
          "2020-07-09T00:00:00",
          "2020-07-10T00:00:00",
          "2020-07-11T00:00:00",
          "2020-07-12T00:00:00",
          "2020-07-13T00:00:00",
          "2020-07-14T00:00:00",
          "2020-07-15T00:00:00",
          "2020-07-16T00:00:00",
          "2020-07-17T00:00:00",
          "2020-07-18T00:00:00",
          "2020-07-19T00:00:00",
          "2020-07-20T00:00:00",
          "2020-07-21T00:00:00",
          "2020-07-22T00:00:00",
          "2020-07-23T00:00:00",
          "2020-07-24T00:00:00",
          "2020-07-25T00:00:00",
          "2020-07-26T00:00:00",
          "2020-07-27T00:00:00",
          "2020-07-28T00:00:00",
          "2020-07-29T00:00:00",
          "2020-07-30T00:00:00",
          "2020-07-31T00:00:00",
          "2020-08-01T00:00:00",
          "2020-08-02T00:00:00",
          "2020-08-03T00:00:00",
          "2020-08-04T00:00:00",
          "2020-08-05T00:00:00",
          "2020-08-06T00:00:00",
          "2020-08-07T00:00:00",
          "2020-08-08T00:00:00",
          "2020-08-09T00:00:00",
          "2020-08-10T00:00:00",
          "2020-08-11T00:00:00",
          "2020-08-12T00:00:00",
          "2020-08-13T00:00:00",
          "2020-08-14T00:00:00",
          "2020-08-15T00:00:00",
          "2020-08-16T00:00:00",
          "2020-08-17T00:00:00",
          "2020-08-18T00:00:00",
          "2020-08-19T00:00:00",
          "2020-08-20T00:00:00",
          "2020-08-21T00:00:00",
          "2020-08-22T00:00:00",
          "2020-08-23T00:00:00",
          "2020-08-24T00:00:00",
          "2020-08-25T00:00:00",
          "2020-08-26T00:00:00",
          "2020-08-27T00:00:00",
          "2020-08-28T00:00:00",
          "2020-08-29T00:00:00",
          "2020-08-30T00:00:00",
          "2020-08-31T00:00:00",
          "2020-09-01T00:00:00",
          "2020-09-02T00:00:00",
          "2020-09-03T00:00:00",
          "2020-09-04T00:00:00",
          "2020-09-05T00:00:00",
          "2020-09-06T00:00:00",
          "2020-09-07T00:00:00",
          "2020-09-08T00:00:00",
          "2020-09-09T00:00:00",
          "2020-09-10T00:00:00",
          "2020-09-11T00:00:00",
          "2020-09-12T00:00:00"
         ],
         "y": [
          null,
          null,
          null,
          null,
          null,
          0.6666666666666667,
          0.8333333333333337,
          2.000000000000001,
          null,
          8.666666666666668,
          2.833333333333335,
          3.066666666666668,
          5.000000000000001,
          11.333333333333336,
          null,
          null,
          24.666666666666675,
          25.33333333333334,
          26.666666666666675,
          27.33333333333334,
          14.66666666666667,
          15.333333333333337,
          null,
          null,
          null,
          null,
          null,
          null,
          null,
          null,
          null,
          null,
          null,
          null,
          32.66666666666667,
          3.636363636363637,
          2.06896551724138,
          3.8412698412698427,
          3.4949494949494957,
          2.0894308943089435,
          3.0666666666666678,
          4.8989898989899,
          3.9935275080906165,
          2.191142191142192,
          2.31045751633987,
          4.103049421661411,
          4.520720720720722,
          5.331564986737402,
          5.872102318145484,
          4.135701275045538,
          5.843263553408484,
          2.890398038106018,
          2.749102512963703,
          4.419811320754719,
          4.379605508001491,
          4.298863855189679,
          3.80560501153973,
          4.057837154324044,
          4.209989806320084,
          5.5496880893660245,
          8.880132669983418,
          7.417994057187396,
          7.142035416409882,
          8.012983347445669,
          6.954407109812518,
          6.501919102450548,
          7.390370962661434,
          10.13667141838917,
          13.541893362350386,
          13.781392635299772,
          13.14068141136495,
          12.037270907130761,
          12.735505882943231,
          16.052693692098906,
          21.372452774059212,
          27.427355122219183,
          27.51193633952256,
          21.792178996170136,
          21.495848386892323,
          26.565107981220663,
          36.19840443981964,
          43.9829902047041,
          49.42344435837853,
          74.0437470280552,
          56.42441073844624,
          42.46831782089711,
          41.52598836042546,
          49.89806283959369,
          75.68400668955199,
          78.00000000000004,
          94.52633837571078,
          82.98520792631875,
          62.29406090671079,
          70.29433846625301,
          91.53684003152092,
          112.90316371947554,
          140.47245731254642,
          148.28509181450363,
          115.11662471533025,
          104.28586804434401,
          128.34909377462571,
          167.53592100783112,
          207.81684520058815,
          279.48410689170197,
          247.61628195582045,
          166.27562189054734,
          138.83587838767372,
          139.6482550151141,
          179.9866244280184,
          265.3193906532405,
          274.6427050053249,
          267.092879256966,
          227.70258431887876,
          266.129558786024,
          307.67048458149793,
          274.96755625327063,
          309.48004694835686,
          441.1113892365458,
          251.09912467471028,
          184.8081859174472,
          287.0860820595335,
          289.5198059822151,
          372.1706390328154,
          582.5501618122979,
          587.311617806732,
          414.47094801223255,
          392.00865800865813,
          364.73895582329334,
          260.6781115879829,
          368.1148036253777,
          750.7117486338799,
          905.6674897119342,
          783.0604122245915,
          697.7786211258698,
          621.1039910061835,
          459.5408883354091,
          378.2181322426722,
          448.8490718321229,
          563.7926150733437,
          492.38536155202826,
          902.5617433414048,
          2017.005405405406,
          530.7187500000001,
          649.5185185185188,
          1283.1301369863015,
          903.5614457831331,
          511.7638510445052,
          408.19812002892263,
          241.394249201278,
          223.68534906588008,
          446.10082063306004,
          392.08016443987674,
          348.3363691560413,
          317.61589403973517,
          348.81776971894845,
          433.01309390198287,
          332.06180257510744,
          356.86292548298076,
          591.7676306443432,
          666.88698630137,
          538.0717241379313,
          459.3443008225618,
          411.54131652661084,
          442.72303645246154,
          475.3204508856685,
          530.7321668909827,
          456.3394919168593,
          482.8699186991873,
          624.7832020997378,
          603.8936170212768,
          628.7856766719327,
          563.1280602636537,
          680.2498580352075,
          848.9851380042464,
          745.567970204842,
          564.8131455399061,
          404.28973843058367,
          348.8513708513709,
          413.88046448087437,
          586.672463768116,
          451.2317389692252,
          413.9694501018332,
          428.5439887837365,
          351.0160366552121,
          304.27121999505084,
          294.33643521832505,
          394.99872286079204,
          495.6490807354119,
          398.3884615384615,
          289.80241748024184,
          228.22319474835896,
          226.11261018168742,
          286.14013605442193,
          513.7019894437677,
          382.36045810729365,
          263.74751243781105,
          212.80452880452887,
          193.57153625810346,
          206.5444071051369,
          231.80901287553652,
          397.06166056166063,
          271.11069574247153,
          194.0011841326229,
          186.84446334892957,
          161.17718594187042,
          151.64415643474317,
          202.5555052106933,
          369.1260964912283,
          203.79596142254374,
          145.58882107292007,
          151.81326236416064,
          144.83354350567473,
          139.23703480790456,
          181.18126378616853,
          319.1736063708761,
          207.718413681262,
          152.84320707888207,
          164.52331486611268,
          160.00981704596168,
          154.4088575096278,
          213.6431095406361,
          411.7986994628218,
          247.73496017624137,
          180.59581795817968,
          188.6362591031047,
          175.1660176991151,
          173.2901578458682,
          225.48271716260902,
          347.4366782006921,
          196.36863966770517,
          156.97553422112114,
          181.69243557772242,
          160.72243107769427,
          156.332929537654,
          194.5779610194903
         ]
        },
        {
         "name": "confirmed_filtered",
         "opacity": 0.8,
         "type": "scatter",
         "x": [
          "2020-01-22T00:00:00",
          "2020-01-23T00:00:00",
          "2020-01-24T00:00:00",
          "2020-01-25T00:00:00",
          "2020-01-26T00:00:00",
          "2020-01-27T00:00:00",
          "2020-01-28T00:00:00",
          "2020-01-29T00:00:00",
          "2020-01-30T00:00:00",
          "2020-01-31T00:00:00",
          "2020-02-01T00:00:00",
          "2020-02-02T00:00:00",
          "2020-02-03T00:00:00",
          "2020-02-04T00:00:00",
          "2020-02-05T00:00:00",
          "2020-02-06T00:00:00",
          "2020-02-07T00:00:00",
          "2020-02-08T00:00:00",
          "2020-02-09T00:00:00",
          "2020-02-10T00:00:00",
          "2020-02-11T00:00:00",
          "2020-02-12T00:00:00",
          "2020-02-13T00:00:00",
          "2020-02-14T00:00:00",
          "2020-02-15T00:00:00",
          "2020-02-16T00:00:00",
          "2020-02-17T00:00:00",
          "2020-02-18T00:00:00",
          "2020-02-19T00:00:00",
          "2020-02-20T00:00:00",
          "2020-02-21T00:00:00",
          "2020-02-22T00:00:00",
          "2020-02-23T00:00:00",
          "2020-02-24T00:00:00",
          "2020-02-25T00:00:00",
          "2020-02-26T00:00:00",
          "2020-02-27T00:00:00",
          "2020-02-28T00:00:00",
          "2020-02-29T00:00:00",
          "2020-03-01T00:00:00",
          "2020-03-02T00:00:00",
          "2020-03-03T00:00:00",
          "2020-03-04T00:00:00",
          "2020-03-05T00:00:00",
          "2020-03-06T00:00:00",
          "2020-03-07T00:00:00",
          "2020-03-08T00:00:00",
          "2020-03-09T00:00:00",
          "2020-03-10T00:00:00",
          "2020-03-11T00:00:00",
          "2020-03-12T00:00:00",
          "2020-03-13T00:00:00",
          "2020-03-14T00:00:00",
          "2020-03-15T00:00:00",
          "2020-03-16T00:00:00",
          "2020-03-17T00:00:00",
          "2020-03-18T00:00:00",
          "2020-03-19T00:00:00",
          "2020-03-20T00:00:00",
          "2020-03-21T00:00:00",
          "2020-03-22T00:00:00",
          "2020-03-23T00:00:00",
          "2020-03-24T00:00:00",
          "2020-03-25T00:00:00",
          "2020-03-26T00:00:00",
          "2020-03-27T00:00:00",
          "2020-03-28T00:00:00",
          "2020-03-29T00:00:00",
          "2020-03-30T00:00:00",
          "2020-03-31T00:00:00",
          "2020-04-01T00:00:00",
          "2020-04-02T00:00:00",
          "2020-04-03T00:00:00",
          "2020-04-04T00:00:00",
          "2020-04-05T00:00:00",
          "2020-04-06T00:00:00",
          "2020-04-07T00:00:00",
          "2020-04-08T00:00:00",
          "2020-04-09T00:00:00",
          "2020-04-10T00:00:00",
          "2020-04-11T00:00:00",
          "2020-04-12T00:00:00",
          "2020-04-13T00:00:00",
          "2020-04-14T00:00:00",
          "2020-04-15T00:00:00",
          "2020-04-16T00:00:00",
          "2020-04-17T00:00:00",
          "2020-04-18T00:00:00",
          "2020-04-19T00:00:00",
          "2020-04-20T00:00:00",
          "2020-04-21T00:00:00",
          "2020-04-22T00:00:00",
          "2020-04-23T00:00:00",
          "2020-04-24T00:00:00",
          "2020-04-25T00:00:00",
          "2020-04-26T00:00:00",
          "2020-04-27T00:00:00",
          "2020-04-28T00:00:00",
          "2020-04-29T00:00:00",
          "2020-04-30T00:00:00",
          "2020-05-01T00:00:00",
          "2020-05-02T00:00:00",
          "2020-05-03T00:00:00",
          "2020-05-04T00:00:00",
          "2020-05-05T00:00:00",
          "2020-05-06T00:00:00",
          "2020-05-07T00:00:00",
          "2020-05-08T00:00:00",
          "2020-05-09T00:00:00",
          "2020-05-10T00:00:00",
          "2020-05-11T00:00:00",
          "2020-05-12T00:00:00",
          "2020-05-13T00:00:00",
          "2020-05-14T00:00:00",
          "2020-05-15T00:00:00",
          "2020-05-16T00:00:00",
          "2020-05-17T00:00:00",
          "2020-05-18T00:00:00",
          "2020-05-19T00:00:00",
          "2020-05-20T00:00:00",
          "2020-05-21T00:00:00",
          "2020-05-22T00:00:00",
          "2020-05-23T00:00:00",
          "2020-05-24T00:00:00",
          "2020-05-25T00:00:00",
          "2020-05-26T00:00:00",
          "2020-05-27T00:00:00",
          "2020-05-28T00:00:00",
          "2020-05-29T00:00:00",
          "2020-05-30T00:00:00",
          "2020-05-31T00:00:00",
          "2020-06-01T00:00:00",
          "2020-06-02T00:00:00",
          "2020-06-03T00:00:00",
          "2020-06-04T00:00:00",
          "2020-06-05T00:00:00",
          "2020-06-06T00:00:00",
          "2020-06-07T00:00:00",
          "2020-06-08T00:00:00",
          "2020-06-09T00:00:00",
          "2020-06-10T00:00:00",
          "2020-06-11T00:00:00",
          "2020-06-12T00:00:00",
          "2020-06-13T00:00:00",
          "2020-06-14T00:00:00",
          "2020-06-15T00:00:00",
          "2020-06-16T00:00:00",
          "2020-06-17T00:00:00",
          "2020-06-18T00:00:00",
          "2020-06-19T00:00:00",
          "2020-06-20T00:00:00",
          "2020-06-21T00:00:00",
          "2020-06-22T00:00:00",
          "2020-06-23T00:00:00",
          "2020-06-24T00:00:00",
          "2020-06-25T00:00:00",
          "2020-06-26T00:00:00",
          "2020-06-27T00:00:00",
          "2020-06-28T00:00:00",
          "2020-06-29T00:00:00",
          "2020-06-30T00:00:00",
          "2020-07-01T00:00:00",
          "2020-07-02T00:00:00",
          "2020-07-03T00:00:00",
          "2020-07-04T00:00:00",
          "2020-07-05T00:00:00",
          "2020-07-06T00:00:00",
          "2020-07-07T00:00:00",
          "2020-07-08T00:00:00",
          "2020-07-09T00:00:00",
          "2020-07-10T00:00:00",
          "2020-07-11T00:00:00",
          "2020-07-12T00:00:00",
          "2020-07-13T00:00:00",
          "2020-07-14T00:00:00",
          "2020-07-15T00:00:00",
          "2020-07-16T00:00:00",
          "2020-07-17T00:00:00",
          "2020-07-18T00:00:00",
          "2020-07-19T00:00:00",
          "2020-07-20T00:00:00",
          "2020-07-21T00:00:00",
          "2020-07-22T00:00:00",
          "2020-07-23T00:00:00",
          "2020-07-24T00:00:00",
          "2020-07-25T00:00:00",
          "2020-07-26T00:00:00",
          "2020-07-27T00:00:00",
          "2020-07-28T00:00:00",
          "2020-07-29T00:00:00",
          "2020-07-30T00:00:00",
          "2020-07-31T00:00:00",
          "2020-08-01T00:00:00",
          "2020-08-02T00:00:00",
          "2020-08-03T00:00:00",
          "2020-08-04T00:00:00",
          "2020-08-05T00:00:00",
          "2020-08-06T00:00:00",
          "2020-08-07T00:00:00",
          "2020-08-08T00:00:00",
          "2020-08-09T00:00:00",
          "2020-08-10T00:00:00",
          "2020-08-11T00:00:00",
          "2020-08-12T00:00:00",
          "2020-08-13T00:00:00",
          "2020-08-14T00:00:00",
          "2020-08-15T00:00:00",
          "2020-08-16T00:00:00",
          "2020-08-17T00:00:00",
          "2020-08-18T00:00:00",
          "2020-08-19T00:00:00",
          "2020-08-20T00:00:00",
          "2020-08-21T00:00:00",
          "2020-08-22T00:00:00",
          "2020-08-23T00:00:00",
          "2020-08-24T00:00:00",
          "2020-08-25T00:00:00",
          "2020-08-26T00:00:00",
          "2020-08-27T00:00:00",
          "2020-08-28T00:00:00",
          "2020-08-29T00:00:00",
          "2020-08-30T00:00:00",
          "2020-08-31T00:00:00",
          "2020-09-01T00:00:00",
          "2020-09-02T00:00:00",
          "2020-09-03T00:00:00",
          "2020-09-04T00:00:00",
          "2020-09-05T00:00:00",
          "2020-09-06T00:00:00",
          "2020-09-07T00:00:00",
          "2020-09-08T00:00:00",
          "2020-09-09T00:00:00",
          "2020-09-10T00:00:00",
          "2020-09-11T00:00:00",
          "2020-09-12T00:00:00"
         ],
         "y": [
          0,
          0,
          0,
          0.19999999999999996,
          0.9999999999999998,
          1.7999999999999996,
          2.5999999999999996,
          3.599999999999999,
          4.999999999999999,
          6.199999999999999,
          7.799999999999998,
          9.399999999999999,
          10.799999999999997,
          11.599999999999998,
          12.199999999999998,
          12.399999999999999,
          12.799999999999997,
          13.199999999999998,
          13.999999999999996,
          14.599999999999996,
          15.199999999999996,
          15.599999999999996,
          15.999999999999996,
          15.999999999999996,
          15.999999999999996,
          15.999999999999996,
          15.999999999999996,
          15.999999999999996,
          15.999999999999996,
          15.999999999999996,
          15.999999999999996,
          15.999999999999996,
          16.199999999999996,
          18.399999999999995,
          24.399999999999995,
          30.799999999999994,
          43.39999999999999,
          65.99999999999999,
          92.39999999999998,
          122.39999999999998,
          165.2,
          245.79999999999995,
          353.79999999999995,
          481.79999999999984,
          650.5999999999999,
          833.3999999999999,
          1028.3999999999996,
          1275.9999999999998,
          1531.7999999999997,
          2058.7999999999997,
          2740.5999999999995,
          3608.199999999999,
          4680.999999999999,
          6116.799999999999,
          7847.199999999999,
          9994.199999999997,
          12804.799999999997,
          15792.999999999996,
          18916.199999999997,
          22262,
          25795.199999999997,
          29290.199999999997,
          33635.2,
          38834.799999999996,
          44562.59999999999,
          50384.399999999994,
          56296.79999999999,
          61870.79999999999,
          67270.99999999999,
          72690.79999999999,
          78503.59999999998,
          84344.99999999997,
          90007.99999999997,
          95108.39999999998,
          99682.19999999998,
          104109.59999999998,
          108527.39999999998,
          112936.99999999997,
          117243.79999999999,
          121281.99999999997,
          124637.19999999997,
          127272.79999999997,
          129789.19999999998,
          132347.19999999995,
          135055.8,
          137709.8,
          140474.8,
          142937.19999999998,
          145055.79999999996,
          146905.99999999997,
          148863.39999999997,
          150826.39999999997,
          152715.99999999997,
          154611.79999999996,
          156233.8,
          157590.39999999997,
          158898.39999999997,
          160197.59999999998,
          161458.99999999997,
          162700.79999999996,
          163851.19999999995,
          164773.79999999996,
          165573.39999999997,
          166390.39999999997,
          167282.99999999997,
          168267.79999999996,
          169302.19999999995,
          170276.59999999998,
          171159.39999999997,
          171907.59999999998,
          172609.59999999998,
          173240.39999999997,
          173911.19999999998,
          174546.39999999997,
          175185.99999999994,
          175676.59999999998,
          176336.59999999998,
          176984.59999999998,
          177638.39999999997,
          178306.59999999998,
          178993.59999999998,
          179503.59999999998,
          179928.99999999997,
          180364.79999999996,
          180727.59999999998,
          181169.59999999998,
          181688.39999999997,
          182206.19999999995,
          182648.19999999995,
          183062.19999999995,
          183398.79999999996,
          183638.59999999998,
          183895.19999999995,
          184197.99999999994,
          184569.19999999995,
          184943.39999999997,
          185340.99999999997,
          185747.8,
          186067.39999999997,
          186315.59999999998,
          186610.79999999996,
          186842.39999999997,
          187044.79999999996,
          187276.79999999996,
          187588.99999999997,
          187864.59999999998,
          188374.59999999998,
          188930.79999999996,
          189528.39999999997,
          190132.39999999997,
          190765.19999999995,
          191297.79999999996,
          191812.19999999995,
          192352.39999999997,
          192905.19999999995,
          193443.19999999995,
          193885.8,
          194319.99999999997,
          194729.39999999997,
          195100.79999999996,
          195483.19999999995,
          195900.59999999995,
          196331.79999999996,
          196752.79999999996,
          197186.99999999997,
          197581.59999999998,
          197965.39999999997,
          198325.99999999997,
          198687.79999999996,
          199016.79999999996,
          199331.99999999994,
          199628.19999999995,
          199919.19999999995,
          200230.8,
          200578.99999999997,
          201004.19999999995,
          201453.39999999997,
          201909.19999999995,
          202396.19999999995,
          202849.59999999998,
          203295.79999999996,
          203786.79999999996,
          204364.39999999997,
          204954.99999999997,
          205544.99999999997,
          206112.19999999995,
          206677.39999999997,
          207261.99999999997,
          207913.39999999997,
          208659.79999999996,
          209438.39999999997,
          210140.99999999994,
          210853.99999999997,
          211512.59999999998,
          212255.39999999997,
          213062.19999999995,
          214057.39999999997,
          215015.79999999993,
          215907.79999999996,
          216786.79999999993,
          217686.99999999997,
          218619.59999999995,
          219695.19999999995,
          220995.79999999996,
          222191.8,
          223285.19999999995,
          224453.39999999997,
          225621.19999999995,
          226804.19999999995,
          228164.99999999994,
          229769.39999999997,
          231201.59999999998,
          232476.39999999997,
          233759.59999999995,
          235017.79999999996,
          236213.99999999994,
          237555.99999999994,
          239082.39999999997,
          240424.99999999997,
          241569.39999999997,
          242727.79999999996,
          243816.59999999998,
          244873.59999999998,
          246074.59999999995,
          247470.19999999992,
          248721.39999999997,
          249863.99999999994,
          251106.99999999997,
          252330.39999999997,
          253560.39999999994,
          254978.59999999998,
          256579.99999999997,
          258018.19999999995,
          259520.39999999988,
          261022.5999999999
         ]
        },
        {
         "name": "confirmed_filtered_DR",
         "opacity": 0.8,
         "type": "scatter",
         "x": [
          "2020-01-22T00:00:00",
          "2020-01-23T00:00:00",
          "2020-01-24T00:00:00",
          "2020-01-25T00:00:00",
          "2020-01-26T00:00:00",
          "2020-01-27T00:00:00",
          "2020-01-28T00:00:00",
          "2020-01-29T00:00:00",
          "2020-01-30T00:00:00",
          "2020-01-31T00:00:00",
          "2020-02-01T00:00:00",
          "2020-02-02T00:00:00",
          "2020-02-03T00:00:00",
          "2020-02-04T00:00:00",
          "2020-02-05T00:00:00",
          "2020-02-06T00:00:00",
          "2020-02-07T00:00:00",
          "2020-02-08T00:00:00",
          "2020-02-09T00:00:00",
          "2020-02-10T00:00:00",
          "2020-02-11T00:00:00",
          "2020-02-12T00:00:00",
          "2020-02-13T00:00:00",
          "2020-02-14T00:00:00",
          "2020-02-15T00:00:00",
          "2020-02-16T00:00:00",
          "2020-02-17T00:00:00",
          "2020-02-18T00:00:00",
          "2020-02-19T00:00:00",
          "2020-02-20T00:00:00",
          "2020-02-21T00:00:00",
          "2020-02-22T00:00:00",
          "2020-02-23T00:00:00",
          "2020-02-24T00:00:00",
          "2020-02-25T00:00:00",
          "2020-02-26T00:00:00",
          "2020-02-27T00:00:00",
          "2020-02-28T00:00:00",
          "2020-02-29T00:00:00",
          "2020-03-01T00:00:00",
          "2020-03-02T00:00:00",
          "2020-03-03T00:00:00",
          "2020-03-04T00:00:00",
          "2020-03-05T00:00:00",
          "2020-03-06T00:00:00",
          "2020-03-07T00:00:00",
          "2020-03-08T00:00:00",
          "2020-03-09T00:00:00",
          "2020-03-10T00:00:00",
          "2020-03-11T00:00:00",
          "2020-03-12T00:00:00",
          "2020-03-13T00:00:00",
          "2020-03-14T00:00:00",
          "2020-03-15T00:00:00",
          "2020-03-16T00:00:00",
          "2020-03-17T00:00:00",
          "2020-03-18T00:00:00",
          "2020-03-19T00:00:00",
          "2020-03-20T00:00:00",
          "2020-03-21T00:00:00",
          "2020-03-22T00:00:00",
          "2020-03-23T00:00:00",
          "2020-03-24T00:00:00",
          "2020-03-25T00:00:00",
          "2020-03-26T00:00:00",
          "2020-03-27T00:00:00",
          "2020-03-28T00:00:00",
          "2020-03-29T00:00:00",
          "2020-03-30T00:00:00",
          "2020-03-31T00:00:00",
          "2020-04-01T00:00:00",
          "2020-04-02T00:00:00",
          "2020-04-03T00:00:00",
          "2020-04-04T00:00:00",
          "2020-04-05T00:00:00",
          "2020-04-06T00:00:00",
          "2020-04-07T00:00:00",
          "2020-04-08T00:00:00",
          "2020-04-09T00:00:00",
          "2020-04-10T00:00:00",
          "2020-04-11T00:00:00",
          "2020-04-12T00:00:00",
          "2020-04-13T00:00:00",
          "2020-04-14T00:00:00",
          "2020-04-15T00:00:00",
          "2020-04-16T00:00:00",
          "2020-04-17T00:00:00",
          "2020-04-18T00:00:00",
          "2020-04-19T00:00:00",
          "2020-04-20T00:00:00",
          "2020-04-21T00:00:00",
          "2020-04-22T00:00:00",
          "2020-04-23T00:00:00",
          "2020-04-24T00:00:00",
          "2020-04-25T00:00:00",
          "2020-04-26T00:00:00",
          "2020-04-27T00:00:00",
          "2020-04-28T00:00:00",
          "2020-04-29T00:00:00",
          "2020-04-30T00:00:00",
          "2020-05-01T00:00:00",
          "2020-05-02T00:00:00",
          "2020-05-03T00:00:00",
          "2020-05-04T00:00:00",
          "2020-05-05T00:00:00",
          "2020-05-06T00:00:00",
          "2020-05-07T00:00:00",
          "2020-05-08T00:00:00",
          "2020-05-09T00:00:00",
          "2020-05-10T00:00:00",
          "2020-05-11T00:00:00",
          "2020-05-12T00:00:00",
          "2020-05-13T00:00:00",
          "2020-05-14T00:00:00",
          "2020-05-15T00:00:00",
          "2020-05-16T00:00:00",
          "2020-05-17T00:00:00",
          "2020-05-18T00:00:00",
          "2020-05-19T00:00:00",
          "2020-05-20T00:00:00",
          "2020-05-21T00:00:00",
          "2020-05-22T00:00:00",
          "2020-05-23T00:00:00",
          "2020-05-24T00:00:00",
          "2020-05-25T00:00:00",
          "2020-05-26T00:00:00",
          "2020-05-27T00:00:00",
          "2020-05-28T00:00:00",
          "2020-05-29T00:00:00",
          "2020-05-30T00:00:00",
          "2020-05-31T00:00:00",
          "2020-06-01T00:00:00",
          "2020-06-02T00:00:00",
          "2020-06-03T00:00:00",
          "2020-06-04T00:00:00",
          "2020-06-05T00:00:00",
          "2020-06-06T00:00:00",
          "2020-06-07T00:00:00",
          "2020-06-08T00:00:00",
          "2020-06-09T00:00:00",
          "2020-06-10T00:00:00",
          "2020-06-11T00:00:00",
          "2020-06-12T00:00:00",
          "2020-06-13T00:00:00",
          "2020-06-14T00:00:00",
          "2020-06-15T00:00:00",
          "2020-06-16T00:00:00",
          "2020-06-17T00:00:00",
          "2020-06-18T00:00:00",
          "2020-06-19T00:00:00",
          "2020-06-20T00:00:00",
          "2020-06-21T00:00:00",
          "2020-06-22T00:00:00",
          "2020-06-23T00:00:00",
          "2020-06-24T00:00:00",
          "2020-06-25T00:00:00",
          "2020-06-26T00:00:00",
          "2020-06-27T00:00:00",
          "2020-06-28T00:00:00",
          "2020-06-29T00:00:00",
          "2020-06-30T00:00:00",
          "2020-07-01T00:00:00",
          "2020-07-02T00:00:00",
          "2020-07-03T00:00:00",
          "2020-07-04T00:00:00",
          "2020-07-05T00:00:00",
          "2020-07-06T00:00:00",
          "2020-07-07T00:00:00",
          "2020-07-08T00:00:00",
          "2020-07-09T00:00:00",
          "2020-07-10T00:00:00",
          "2020-07-11T00:00:00",
          "2020-07-12T00:00:00",
          "2020-07-13T00:00:00",
          "2020-07-14T00:00:00",
          "2020-07-15T00:00:00",
          "2020-07-16T00:00:00",
          "2020-07-17T00:00:00",
          "2020-07-18T00:00:00",
          "2020-07-19T00:00:00",
          "2020-07-20T00:00:00",
          "2020-07-21T00:00:00",
          "2020-07-22T00:00:00",
          "2020-07-23T00:00:00",
          "2020-07-24T00:00:00",
          "2020-07-25T00:00:00",
          "2020-07-26T00:00:00",
          "2020-07-27T00:00:00",
          "2020-07-28T00:00:00",
          "2020-07-29T00:00:00",
          "2020-07-30T00:00:00",
          "2020-07-31T00:00:00",
          "2020-08-01T00:00:00",
          "2020-08-02T00:00:00",
          "2020-08-03T00:00:00",
          "2020-08-04T00:00:00",
          "2020-08-05T00:00:00",
          "2020-08-06T00:00:00",
          "2020-08-07T00:00:00",
          "2020-08-08T00:00:00",
          "2020-08-09T00:00:00",
          "2020-08-10T00:00:00",
          "2020-08-11T00:00:00",
          "2020-08-12T00:00:00",
          "2020-08-13T00:00:00",
          "2020-08-14T00:00:00",
          "2020-08-15T00:00:00",
          "2020-08-16T00:00:00",
          "2020-08-17T00:00:00",
          "2020-08-18T00:00:00",
          "2020-08-19T00:00:00",
          "2020-08-20T00:00:00",
          "2020-08-21T00:00:00",
          "2020-08-22T00:00:00",
          "2020-08-23T00:00:00",
          "2020-08-24T00:00:00",
          "2020-08-25T00:00:00",
          "2020-08-26T00:00:00",
          "2020-08-27T00:00:00",
          "2020-08-28T00:00:00",
          "2020-08-29T00:00:00",
          "2020-08-30T00:00:00",
          "2020-08-31T00:00:00",
          "2020-09-01T00:00:00",
          "2020-09-02T00:00:00",
          "2020-09-03T00:00:00",
          "2020-09-04T00:00:00",
          "2020-09-05T00:00:00",
          "2020-09-06T00:00:00",
          "2020-09-07T00:00:00",
          "2020-09-08T00:00:00",
          "2020-09-09T00:00:00",
          "2020-09-10T00:00:00",
          "2020-09-11T00:00:00",
          "2020-09-12T00:00:00"
         ],
         "y": [
          null,
          null,
          null,
          null,
          null,
          null,
          null,
          null,
          null,
          null,
          null,
          null,
          null,
          null,
          null,
          null,
          null,
          null,
          null,
          null,
          null,
          null,
          null,
          null,
          null,
          null,
          null,
          null,
          null,
          null,
          null,
          null,
          null,
          null,
          null,
          null,
          null,
          null,
          null,
          3.319148936170213,
          3.479853479853481,
          2.881685575364668,
          2.70342877341817,
          3.054802259887007,
          3.3382749326145564,
          3.727341676147137,
          4.433386271395804,
          4.726314203946379,
          5.080386703747848,
          4.14460909555442,
          3.491727332892126,
          3.617572393614735,
          3.7895279323850755,
          3.8284302001116153,
          3.92584170298781,
          4.119289558295081,
          4.121106987251896,
          4.436780023453129,
          5.183100435252153,
          5.871201113000462,
          6.490613945825462,
          7.3368619750908275,
          7.544268707482994,
          7.107697895494138,
          7.140008907272854,
          7.722160652028356,
          8.59276303454859,
          9.782699540325956,
          11.26512486863128,
          12.435773259396182,
          12.966152093014985,
          13.473791994874542,
          14.652747354635334,
          16.68998024168322,
          19.625988023126787,
          22.13780384837578,
          23.539637317415103,
          24.588138447712065,
          25.90581738638274,
          28.077715198721798,
          32.74659380889271,
          41.52945627740311,
          49.391718426500915,
          51.15996636712406,
          50.27813010291266,
          50.36273449446133,
          50.838457279940954,
          53.70697988802599,
          62.354333115040795,
          73.0529799099646,
          77.18338761074332,
          75.94391728735174,
          78.28579833532325,
          80.687941388845,
          87.85066424090772,
          104.84478166476399,
          118.27231104105783,
          121.88974122941546,
          125.11520737327164,
          128.99685735591868,
          136.00061310369912,
          158.00797555877148,
          191.30507490419103,
          204.8486947915371,
          194.6836686944308,
          178.23983523312435,
          166.68416534601306,
          168.54062126642623,
          183.3362768325066,
          209.82775393419178,
          237.05999172527746,
          258.9823929571852,
          266.216553984838,
          266.3083205717203,
          273.84353101140925,
          309.9209579425439,
          305.46335245378305,
          269.62171253822635,
          271.9104829210861,
          268.74916792738276,
          263.1535812672154,
          298.97176274018386,
          383.7404319007937,
          417.86453011302916,
          451.64153936054447,
          449.1898608349804,
          377.17568692756487,
          350.5461444465962,
          379.62269917344344,
          426.72632398753893,
          487.70690114574626,
          636.2475133009228,
          739.9041095890498,
          657.5280657848106,
          546.6492581602374,
          495.2245774080876,
          479.2723503498207,
          460.8256257251649,
          511.34012481645067,
          655.3138429024441,
          685.7978162188764,
          708.3887623386642,
          860.9800307219665,
          861.2093308778508,
          688.3628567928312,
          638.233412725398,
          478.46928038017313,
          353.38585631214227,
          327.5170740162973,
          315.46360408344276,
          307.4741267787869,
          327.32418053887244,
          365.4092327284304,
          363.7792527972672,
          351.9791399817016,
          353.68585747464016,
          394.47562716702663,
          442.25136861313,
          460.6726726726855,
          498.76212431694734,
          517.6557884496411,
          488.8593815120518,
          461.7138816874821,
          460.75662989907846,
          460.1431244153352,
          475.8055019304919,
          507.6515930113091,
          531.8583198996998,
          549.0764119601374,
          575.2080679405617,
          617.8584290593151,
          652.0303129429786,
          679.9266575840012,
          663.5448611571693,
          606.9809033040156,
          518.7604516852231,
          459.7717291857305,
          445.20574585635364,
          428.3402630462505,
          430.42322415992146,
          450.9719875500193,
          433.8684023331992,
          381.4629733607815,
          349.8865491068847,
          347.20447230221754,
          355.2322848254462,
          364.02602142941447,
          359.51272685104107,
          335.4114347357066,
          297.5319311298732,
          273.6662732240437,
          282.76136465928874,
          296.898087972119,
          307.4305434042889,
          301.89905332762606,
          273.9761658922775,
          236.542730299667,
          219.12892437892702,
          232.37534226833912,
          243.82096743835868,
          243.69814148680896,
          237.55761676123745,
          217.7743916608591,
          184.9761804561897,
          177.00947955886423,
          194.07495413645552,
          197.47977832802948,
          192.1688926940639,
          191.95700754353226,
          178.36580443955324,
          153.94995278564622,
          151.29552789303656,
          170.77882034232238,
          181.76637998436487,
          183.95472311849156,
          191.49049326379884,
          186.16547159404433,
          165.67944963510305,
          166.62330661089644,
          193.2922664522182,
          209.80898616177512,
          216.006229975079,
          227.24019013887417,
          216.9367581930941,
          189.5859713984993,
          186.95939751145914,
          207.7744172445469,
          209.5049183992841,
          203.61698562006518,
          205.70033423005106,
          191.54379075094954,
          168.9228153839341,
          168.78905119094748,
          175.5132181562655,
          172.76021834642893
         ]
        }
       ],
       "layout": {
        "autosize": true,
        "font": {
         "color": "#7f7f7f",
         "family": "PT Sans, monospace",
         "size": 18
        },
        "height": 768,
        "template": {
         "data": {
          "bar": [
           {
            "error_x": {
             "color": "#2a3f5f"
            },
            "error_y": {
             "color": "#2a3f5f"
            },
            "marker": {
             "line": {
              "color": "#E5ECF6",
              "width": 0.5
             }
            },
            "type": "bar"
           }
          ],
          "barpolar": [
           {
            "marker": {
             "line": {
              "color": "#E5ECF6",
              "width": 0.5
             }
            },
            "type": "barpolar"
           }
          ],
          "carpet": [
           {
            "aaxis": {
             "endlinecolor": "#2a3f5f",
             "gridcolor": "white",
             "linecolor": "white",
             "minorgridcolor": "white",
             "startlinecolor": "#2a3f5f"
            },
            "baxis": {
             "endlinecolor": "#2a3f5f",
             "gridcolor": "white",
             "linecolor": "white",
             "minorgridcolor": "white",
             "startlinecolor": "#2a3f5f"
            },
            "type": "carpet"
           }
          ],
          "choropleth": [
           {
            "colorbar": {
             "outlinewidth": 0,
             "ticks": ""
            },
            "type": "choropleth"
           }
          ],
          "contour": [
           {
            "colorbar": {
             "outlinewidth": 0,
             "ticks": ""
            },
            "colorscale": [
             [
              0,
              "#0d0887"
             ],
             [
              0.1111111111111111,
              "#46039f"
             ],
             [
              0.2222222222222222,
              "#7201a8"
             ],
             [
              0.3333333333333333,
              "#9c179e"
             ],
             [
              0.4444444444444444,
              "#bd3786"
             ],
             [
              0.5555555555555556,
              "#d8576b"
             ],
             [
              0.6666666666666666,
              "#ed7953"
             ],
             [
              0.7777777777777778,
              "#fb9f3a"
             ],
             [
              0.8888888888888888,
              "#fdca26"
             ],
             [
              1,
              "#f0f921"
             ]
            ],
            "type": "contour"
           }
          ],
          "contourcarpet": [
           {
            "colorbar": {
             "outlinewidth": 0,
             "ticks": ""
            },
            "type": "contourcarpet"
           }
          ],
          "heatmap": [
           {
            "colorbar": {
             "outlinewidth": 0,
             "ticks": ""
            },
            "colorscale": [
             [
              0,
              "#0d0887"
             ],
             [
              0.1111111111111111,
              "#46039f"
             ],
             [
              0.2222222222222222,
              "#7201a8"
             ],
             [
              0.3333333333333333,
              "#9c179e"
             ],
             [
              0.4444444444444444,
              "#bd3786"
             ],
             [
              0.5555555555555556,
              "#d8576b"
             ],
             [
              0.6666666666666666,
              "#ed7953"
             ],
             [
              0.7777777777777778,
              "#fb9f3a"
             ],
             [
              0.8888888888888888,
              "#fdca26"
             ],
             [
              1,
              "#f0f921"
             ]
            ],
            "type": "heatmap"
           }
          ],
          "heatmapgl": [
           {
            "colorbar": {
             "outlinewidth": 0,
             "ticks": ""
            },
            "colorscale": [
             [
              0,
              "#0d0887"
             ],
             [
              0.1111111111111111,
              "#46039f"
             ],
             [
              0.2222222222222222,
              "#7201a8"
             ],
             [
              0.3333333333333333,
              "#9c179e"
             ],
             [
              0.4444444444444444,
              "#bd3786"
             ],
             [
              0.5555555555555556,
              "#d8576b"
             ],
             [
              0.6666666666666666,
              "#ed7953"
             ],
             [
              0.7777777777777778,
              "#fb9f3a"
             ],
             [
              0.8888888888888888,
              "#fdca26"
             ],
             [
              1,
              "#f0f921"
             ]
            ],
            "type": "heatmapgl"
           }
          ],
          "histogram": [
           {
            "marker": {
             "colorbar": {
              "outlinewidth": 0,
              "ticks": ""
             }
            },
            "type": "histogram"
           }
          ],
          "histogram2d": [
           {
            "colorbar": {
             "outlinewidth": 0,
             "ticks": ""
            },
            "colorscale": [
             [
              0,
              "#0d0887"
             ],
             [
              0.1111111111111111,
              "#46039f"
             ],
             [
              0.2222222222222222,
              "#7201a8"
             ],
             [
              0.3333333333333333,
              "#9c179e"
             ],
             [
              0.4444444444444444,
              "#bd3786"
             ],
             [
              0.5555555555555556,
              "#d8576b"
             ],
             [
              0.6666666666666666,
              "#ed7953"
             ],
             [
              0.7777777777777778,
              "#fb9f3a"
             ],
             [
              0.8888888888888888,
              "#fdca26"
             ],
             [
              1,
              "#f0f921"
             ]
            ],
            "type": "histogram2d"
           }
          ],
          "histogram2dcontour": [
           {
            "colorbar": {
             "outlinewidth": 0,
             "ticks": ""
            },
            "colorscale": [
             [
              0,
              "#0d0887"
             ],
             [
              0.1111111111111111,
              "#46039f"
             ],
             [
              0.2222222222222222,
              "#7201a8"
             ],
             [
              0.3333333333333333,
              "#9c179e"
             ],
             [
              0.4444444444444444,
              "#bd3786"
             ],
             [
              0.5555555555555556,
              "#d8576b"
             ],
             [
              0.6666666666666666,
              "#ed7953"
             ],
             [
              0.7777777777777778,
              "#fb9f3a"
             ],
             [
              0.8888888888888888,
              "#fdca26"
             ],
             [
              1,
              "#f0f921"
             ]
            ],
            "type": "histogram2dcontour"
           }
          ],
          "mesh3d": [
           {
            "colorbar": {
             "outlinewidth": 0,
             "ticks": ""
            },
            "type": "mesh3d"
           }
          ],
          "parcoords": [
           {
            "line": {
             "colorbar": {
              "outlinewidth": 0,
              "ticks": ""
             }
            },
            "type": "parcoords"
           }
          ],
          "pie": [
           {
            "automargin": true,
            "type": "pie"
           }
          ],
          "scatter": [
           {
            "marker": {
             "colorbar": {
              "outlinewidth": 0,
              "ticks": ""
             }
            },
            "type": "scatter"
           }
          ],
          "scatter3d": [
           {
            "line": {
             "colorbar": {
              "outlinewidth": 0,
              "ticks": ""
             }
            },
            "marker": {
             "colorbar": {
              "outlinewidth": 0,
              "ticks": ""
             }
            },
            "type": "scatter3d"
           }
          ],
          "scattercarpet": [
           {
            "marker": {
             "colorbar": {
              "outlinewidth": 0,
              "ticks": ""
             }
            },
            "type": "scattercarpet"
           }
          ],
          "scattergeo": [
           {
            "marker": {
             "colorbar": {
              "outlinewidth": 0,
              "ticks": ""
             }
            },
            "type": "scattergeo"
           }
          ],
          "scattergl": [
           {
            "marker": {
             "colorbar": {
              "outlinewidth": 0,
              "ticks": ""
             }
            },
            "type": "scattergl"
           }
          ],
          "scattermapbox": [
           {
            "marker": {
             "colorbar": {
              "outlinewidth": 0,
              "ticks": ""
             }
            },
            "type": "scattermapbox"
           }
          ],
          "scatterpolar": [
           {
            "marker": {
             "colorbar": {
              "outlinewidth": 0,
              "ticks": ""
             }
            },
            "type": "scatterpolar"
           }
          ],
          "scatterpolargl": [
           {
            "marker": {
             "colorbar": {
              "outlinewidth": 0,
              "ticks": ""
             }
            },
            "type": "scatterpolargl"
           }
          ],
          "scatterternary": [
           {
            "marker": {
             "colorbar": {
              "outlinewidth": 0,
              "ticks": ""
             }
            },
            "type": "scatterternary"
           }
          ],
          "surface": [
           {
            "colorbar": {
             "outlinewidth": 0,
             "ticks": ""
            },
            "colorscale": [
             [
              0,
              "#0d0887"
             ],
             [
              0.1111111111111111,
              "#46039f"
             ],
             [
              0.2222222222222222,
              "#7201a8"
             ],
             [
              0.3333333333333333,
              "#9c179e"
             ],
             [
              0.4444444444444444,
              "#bd3786"
             ],
             [
              0.5555555555555556,
              "#d8576b"
             ],
             [
              0.6666666666666666,
              "#ed7953"
             ],
             [
              0.7777777777777778,
              "#fb9f3a"
             ],
             [
              0.8888888888888888,
              "#fdca26"
             ],
             [
              1,
              "#f0f921"
             ]
            ],
            "type": "surface"
           }
          ],
          "table": [
           {
            "cells": {
             "fill": {
              "color": "#EBF0F8"
             },
             "line": {
              "color": "white"
             }
            },
            "header": {
             "fill": {
              "color": "#C8D4E3"
             },
             "line": {
              "color": "white"
             }
            },
            "type": "table"
           }
          ]
         },
         "layout": {
          "annotationdefaults": {
           "arrowcolor": "#2a3f5f",
           "arrowhead": 0,
           "arrowwidth": 1
          },
          "coloraxis": {
           "colorbar": {
            "outlinewidth": 0,
            "ticks": ""
           }
          },
          "colorscale": {
           "diverging": [
            [
             0,
             "#8e0152"
            ],
            [
             0.1,
             "#c51b7d"
            ],
            [
             0.2,
             "#de77ae"
            ],
            [
             0.3,
             "#f1b6da"
            ],
            [
             0.4,
             "#fde0ef"
            ],
            [
             0.5,
             "#f7f7f7"
            ],
            [
             0.6,
             "#e6f5d0"
            ],
            [
             0.7,
             "#b8e186"
            ],
            [
             0.8,
             "#7fbc41"
            ],
            [
             0.9,
             "#4d9221"
            ],
            [
             1,
             "#276419"
            ]
           ],
           "sequential": [
            [
             0,
             "#0d0887"
            ],
            [
             0.1111111111111111,
             "#46039f"
            ],
            [
             0.2222222222222222,
             "#7201a8"
            ],
            [
             0.3333333333333333,
             "#9c179e"
            ],
            [
             0.4444444444444444,
             "#bd3786"
            ],
            [
             0.5555555555555556,
             "#d8576b"
            ],
            [
             0.6666666666666666,
             "#ed7953"
            ],
            [
             0.7777777777777778,
             "#fb9f3a"
            ],
            [
             0.8888888888888888,
             "#fdca26"
            ],
            [
             1,
             "#f0f921"
            ]
           ],
           "sequentialminus": [
            [
             0,
             "#0d0887"
            ],
            [
             0.1111111111111111,
             "#46039f"
            ],
            [
             0.2222222222222222,
             "#7201a8"
            ],
            [
             0.3333333333333333,
             "#9c179e"
            ],
            [
             0.4444444444444444,
             "#bd3786"
            ],
            [
             0.5555555555555556,
             "#d8576b"
            ],
            [
             0.6666666666666666,
             "#ed7953"
            ],
            [
             0.7777777777777778,
             "#fb9f3a"
            ],
            [
             0.8888888888888888,
             "#fdca26"
            ],
            [
             1,
             "#f0f921"
            ]
           ]
          },
          "colorway": [
           "#636efa",
           "#EF553B",
           "#00cc96",
           "#ab63fa",
           "#FFA15A",
           "#19d3f3",
           "#FF6692",
           "#B6E880",
           "#FF97FF",
           "#FECB52"
          ],
          "font": {
           "color": "#2a3f5f"
          },
          "geo": {
           "bgcolor": "white",
           "lakecolor": "white",
           "landcolor": "#E5ECF6",
           "showlakes": true,
           "showland": true,
           "subunitcolor": "white"
          },
          "hoverlabel": {
           "align": "left"
          },
          "hovermode": "closest",
          "mapbox": {
           "style": "light"
          },
          "paper_bgcolor": "white",
          "plot_bgcolor": "#E5ECF6",
          "polar": {
           "angularaxis": {
            "gridcolor": "white",
            "linecolor": "white",
            "ticks": ""
           },
           "bgcolor": "#E5ECF6",
           "radialaxis": {
            "gridcolor": "white",
            "linecolor": "white",
            "ticks": ""
           }
          },
          "scene": {
           "xaxis": {
            "backgroundcolor": "#E5ECF6",
            "gridcolor": "white",
            "gridwidth": 2,
            "linecolor": "white",
            "showbackground": true,
            "ticks": "",
            "zerolinecolor": "white"
           },
           "yaxis": {
            "backgroundcolor": "#E5ECF6",
            "gridcolor": "white",
            "gridwidth": 2,
            "linecolor": "white",
            "showbackground": true,
            "ticks": "",
            "zerolinecolor": "white"
           },
           "zaxis": {
            "backgroundcolor": "#E5ECF6",
            "gridcolor": "white",
            "gridwidth": 2,
            "linecolor": "white",
            "showbackground": true,
            "ticks": "",
            "zerolinecolor": "white"
           }
          },
          "shapedefaults": {
           "line": {
            "color": "#2a3f5f"
           }
          },
          "ternary": {
           "aaxis": {
            "gridcolor": "white",
            "linecolor": "white",
            "ticks": ""
           },
           "baxis": {
            "gridcolor": "white",
            "linecolor": "white",
            "ticks": ""
           },
           "bgcolor": "#E5ECF6",
           "caxis": {
            "gridcolor": "white",
            "linecolor": "white",
            "ticks": ""
           }
          },
          "title": {
           "x": 0.05
          },
          "xaxis": {
           "automargin": true,
           "gridcolor": "white",
           "linecolor": "white",
           "ticks": "",
           "title": {
            "standoff": 15
           },
           "zerolinecolor": "white",
           "zerolinewidth": 2
          },
          "yaxis": {
           "automargin": true,
           "gridcolor": "white",
           "linecolor": "white",
           "ticks": "",
           "title": {
            "standoff": 15
           },
           "zerolinecolor": "white",
           "zerolinewidth": 2
          }
         }
        },
        "width": 1024,
        "xaxis": {
         "nticks": 20,
         "rangeslider": {
          "visible": true
         },
         "tickangle": -45,
         "tickfont": {
          "color": "#7f7f7f",
          "size": 14
         }
        },
        "yaxis": {
         "type": "log"
        }
       }
      }
     },
     "metadata": {}
    }
   ],
   "source": [
    "quick_plot(pd_result_larg[pd_result_larg['country']=='Germany'].date,\n",
    "           pd_result_larg[pd_result_larg['country']=='Germany'].iloc[:,[4,5,6,7]],\n",
    "           y_scale='log',\n",
    "           slider=True)"
   ]
  },
  {
   "cell_type": "code",
   "execution_count": 54,
   "metadata": {},
   "outputs": [],
   "source": [
    "pd_result_larg.to_csv('../data/processed/COVID_final_set.csv',sep=';',index=False)"
   ]
  },
  {
   "cell_type": "code",
   "execution_count": null,
   "metadata": {},
   "outputs": [],
   "source": []
  },
  {
   "cell_type": "code",
   "execution_count": 55,
   "metadata": {},
   "outputs": [
    {
     "output_type": "execute_result",
     "data": {
      "text/plain": "       index       date    state       country  confirmed  confirmed_DR  \\\n0          0 2020-01-22  Alberta        Canada          0           NaN   \n1          1 2020-01-22       no  Korea, South          1           NaN   \n2          2 2020-01-22       no        Kosovo          0           NaN   \n3          3 2020-01-22       no        Kuwait          0           NaN   \n4          4 2020-01-22       no    Kyrgyzstan          0           NaN   \n...      ...        ...      ...           ...        ...           ...   \n62505  62505 2020-09-12       no      Barbados        180           inf   \n62506  62506 2020-09-12       no       Belarus      73975    384.288194   \n62507  62507 2020-09-12       no       Belgium      92478     95.840489   \n62508  62508 2020-09-12       no       Albania      11185     67.827692   \n62509  62509 2020-09-12       no      Zimbabwe       7508    272.000000   \n\n       confirmed_filtered  confirmed_filtered_DR  \n0                     0.0                    NaN  \n1                     0.8                    NaN  \n2                     0.0                    NaN  \n3                     0.0                    NaN  \n4                     0.0                    NaN  \n...                   ...                    ...  \n62505               180.0          -1.266637e+16  \n62506             73975.2           3.850919e+02  \n62507             92387.0           1.074354e+02  \n62508             11180.8           6.971980e+01  \n62509              7509.4           2.579448e+02  \n\n[62510 rows x 8 columns]",
      "text/html": "<div>\n<style scoped>\n    .dataframe tbody tr th:only-of-type {\n        vertical-align: middle;\n    }\n\n    .dataframe tbody tr th {\n        vertical-align: top;\n    }\n\n    .dataframe thead th {\n        text-align: right;\n    }\n</style>\n<table border=\"1\" class=\"dataframe\">\n  <thead>\n    <tr style=\"text-align: right;\">\n      <th></th>\n      <th>index</th>\n      <th>date</th>\n      <th>state</th>\n      <th>country</th>\n      <th>confirmed</th>\n      <th>confirmed_DR</th>\n      <th>confirmed_filtered</th>\n      <th>confirmed_filtered_DR</th>\n    </tr>\n  </thead>\n  <tbody>\n    <tr>\n      <th>0</th>\n      <td>0</td>\n      <td>2020-01-22</td>\n      <td>Alberta</td>\n      <td>Canada</td>\n      <td>0</td>\n      <td>NaN</td>\n      <td>0.0</td>\n      <td>NaN</td>\n    </tr>\n    <tr>\n      <th>1</th>\n      <td>1</td>\n      <td>2020-01-22</td>\n      <td>no</td>\n      <td>Korea, South</td>\n      <td>1</td>\n      <td>NaN</td>\n      <td>0.8</td>\n      <td>NaN</td>\n    </tr>\n    <tr>\n      <th>2</th>\n      <td>2</td>\n      <td>2020-01-22</td>\n      <td>no</td>\n      <td>Kosovo</td>\n      <td>0</td>\n      <td>NaN</td>\n      <td>0.0</td>\n      <td>NaN</td>\n    </tr>\n    <tr>\n      <th>3</th>\n      <td>3</td>\n      <td>2020-01-22</td>\n      <td>no</td>\n      <td>Kuwait</td>\n      <td>0</td>\n      <td>NaN</td>\n      <td>0.0</td>\n      <td>NaN</td>\n    </tr>\n    <tr>\n      <th>4</th>\n      <td>4</td>\n      <td>2020-01-22</td>\n      <td>no</td>\n      <td>Kyrgyzstan</td>\n      <td>0</td>\n      <td>NaN</td>\n      <td>0.0</td>\n      <td>NaN</td>\n    </tr>\n    <tr>\n      <th>...</th>\n      <td>...</td>\n      <td>...</td>\n      <td>...</td>\n      <td>...</td>\n      <td>...</td>\n      <td>...</td>\n      <td>...</td>\n      <td>...</td>\n    </tr>\n    <tr>\n      <th>62505</th>\n      <td>62505</td>\n      <td>2020-09-12</td>\n      <td>no</td>\n      <td>Barbados</td>\n      <td>180</td>\n      <td>inf</td>\n      <td>180.0</td>\n      <td>-1.266637e+16</td>\n    </tr>\n    <tr>\n      <th>62506</th>\n      <td>62506</td>\n      <td>2020-09-12</td>\n      <td>no</td>\n      <td>Belarus</td>\n      <td>73975</td>\n      <td>384.288194</td>\n      <td>73975.2</td>\n      <td>3.850919e+02</td>\n    </tr>\n    <tr>\n      <th>62507</th>\n      <td>62507</td>\n      <td>2020-09-12</td>\n      <td>no</td>\n      <td>Belgium</td>\n      <td>92478</td>\n      <td>95.840489</td>\n      <td>92387.0</td>\n      <td>1.074354e+02</td>\n    </tr>\n    <tr>\n      <th>62508</th>\n      <td>62508</td>\n      <td>2020-09-12</td>\n      <td>no</td>\n      <td>Albania</td>\n      <td>11185</td>\n      <td>67.827692</td>\n      <td>11180.8</td>\n      <td>6.971980e+01</td>\n    </tr>\n    <tr>\n      <th>62509</th>\n      <td>62509</td>\n      <td>2020-09-12</td>\n      <td>no</td>\n      <td>Zimbabwe</td>\n      <td>7508</td>\n      <td>272.000000</td>\n      <td>7509.4</td>\n      <td>2.579448e+02</td>\n    </tr>\n  </tbody>\n</table>\n<p>62510 rows × 8 columns</p>\n</div>"
     },
     "metadata": {},
     "execution_count": 55
    }
   ],
   "source": [
    "pd_result_larg"
   ]
  },
  {
   "cell_type": "code",
   "execution_count": 56,
   "metadata": {},
   "outputs": [
    {
     "output_type": "execute_result",
     "data": {
      "text/plain": "            date state country   deaths\n61234 2020-09-08    no   India  73890.0\n61501 2020-09-09    no   India  75062.0\n61766 2020-09-10    no   India  76271.0\n62033 2020-09-11    no   India  77472.0\n62299 2020-09-12    no   India  78586.0",
      "text/html": "<div>\n<style scoped>\n    .dataframe tbody tr th:only-of-type {\n        vertical-align: middle;\n    }\n\n    .dataframe tbody tr th {\n        vertical-align: top;\n    }\n\n    .dataframe thead th {\n        text-align: right;\n    }\n</style>\n<table border=\"1\" class=\"dataframe\">\n  <thead>\n    <tr style=\"text-align: right;\">\n      <th></th>\n      <th>date</th>\n      <th>state</th>\n      <th>country</th>\n      <th>deaths</th>\n    </tr>\n  </thead>\n  <tbody>\n    <tr>\n      <th>61234</th>\n      <td>2020-09-08</td>\n      <td>no</td>\n      <td>India</td>\n      <td>73890.0</td>\n    </tr>\n    <tr>\n      <th>61501</th>\n      <td>2020-09-09</td>\n      <td>no</td>\n      <td>India</td>\n      <td>75062.0</td>\n    </tr>\n    <tr>\n      <th>61766</th>\n      <td>2020-09-10</td>\n      <td>no</td>\n      <td>India</td>\n      <td>76271.0</td>\n    </tr>\n    <tr>\n      <th>62033</th>\n      <td>2020-09-11</td>\n      <td>no</td>\n      <td>India</td>\n      <td>77472.0</td>\n    </tr>\n    <tr>\n      <th>62299</th>\n      <td>2020-09-12</td>\n      <td>no</td>\n      <td>India</td>\n      <td>78586.0</td>\n    </tr>\n  </tbody>\n</table>\n</div>"
     },
     "metadata": {},
     "execution_count": 56
    }
   ],
   "source": [
    "pd_JH_data_deaths=pd.read_csv('../data/processed/COVID_relational_deaths.csv',sep=';',parse_dates=[0])\n",
    "pd_JH_data_deaths=pd_JH_data_deaths.sort_values('date',ascending=True).reset_index(drop=True).copy()\n",
    "pd_JH_data_deaths[pd_JH_data_deaths['country']=='India'].tail()"
   ]
  },
  {
   "cell_type": "code",
   "execution_count": 57,
   "metadata": {},
   "outputs": [],
   "source": [
    "pd_DR_result_death = pd_JH_data_deaths[['state','country','deaths']].reset_index()"
   ]
  },
  {
   "cell_type": "code",
   "execution_count": 58,
   "metadata": {},
   "outputs": [
    {
     "output_type": "execute_result",
     "data": {
      "text/plain": "   index    state       country  deaths\n0      0  Alberta        Canada     0.0\n1      1       no  Korea, South     0.0\n2      2       no        Kosovo     0.0\n3      3       no        Kuwait     0.0\n4      4       no    Kyrgyzstan     0.0",
      "text/html": "<div>\n<style scoped>\n    .dataframe tbody tr th:only-of-type {\n        vertical-align: middle;\n    }\n\n    .dataframe tbody tr th {\n        vertical-align: top;\n    }\n\n    .dataframe thead th {\n        text-align: right;\n    }\n</style>\n<table border=\"1\" class=\"dataframe\">\n  <thead>\n    <tr style=\"text-align: right;\">\n      <th></th>\n      <th>index</th>\n      <th>state</th>\n      <th>country</th>\n      <th>deaths</th>\n    </tr>\n  </thead>\n  <tbody>\n    <tr>\n      <th>0</th>\n      <td>0</td>\n      <td>Alberta</td>\n      <td>Canada</td>\n      <td>0.0</td>\n    </tr>\n    <tr>\n      <th>1</th>\n      <td>1</td>\n      <td>no</td>\n      <td>Korea, South</td>\n      <td>0.0</td>\n    </tr>\n    <tr>\n      <th>2</th>\n      <td>2</td>\n      <td>no</td>\n      <td>Kosovo</td>\n      <td>0.0</td>\n    </tr>\n    <tr>\n      <th>3</th>\n      <td>3</td>\n      <td>no</td>\n      <td>Kuwait</td>\n      <td>0.0</td>\n    </tr>\n    <tr>\n      <th>4</th>\n      <td>4</td>\n      <td>no</td>\n      <td>Kyrgyzstan</td>\n      <td>0.0</td>\n    </tr>\n  </tbody>\n</table>\n</div>"
     },
     "metadata": {},
     "execution_count": 58
    }
   ],
   "source": [
    "pd_DR_result_death.head()"
   ]
  },
  {
   "cell_type": "code",
   "execution_count": 59,
   "metadata": {},
   "outputs": [
    {
     "output_type": "execute_result",
     "data": {
      "text/plain": "       index       date state   country  confirmed  confirmed_DR  \\\n62505  62505 2020-09-12    no  Barbados        180           inf   \n62506  62506 2020-09-12    no   Belarus      73975    384.288194   \n62507  62507 2020-09-12    no   Belgium      92478     95.840489   \n62508  62508 2020-09-12    no   Albania      11185     67.827692   \n62509  62509 2020-09-12    no  Zimbabwe       7508    272.000000   \n\n       confirmed_filtered  confirmed_filtered_DR  deaths  \n62505               180.0          -1.266637e+16     7.0  \n62506             73975.2           3.850919e+02   744.0  \n62507             92387.0           1.074354e+02  9923.0  \n62508             11180.8           6.971980e+01   330.0  \n62509              7509.4           2.579448e+02   224.0  ",
      "text/html": "<div>\n<style scoped>\n    .dataframe tbody tr th:only-of-type {\n        vertical-align: middle;\n    }\n\n    .dataframe tbody tr th {\n        vertical-align: top;\n    }\n\n    .dataframe thead th {\n        text-align: right;\n    }\n</style>\n<table border=\"1\" class=\"dataframe\">\n  <thead>\n    <tr style=\"text-align: right;\">\n      <th></th>\n      <th>index</th>\n      <th>date</th>\n      <th>state</th>\n      <th>country</th>\n      <th>confirmed</th>\n      <th>confirmed_DR</th>\n      <th>confirmed_filtered</th>\n      <th>confirmed_filtered_DR</th>\n      <th>deaths</th>\n    </tr>\n  </thead>\n  <tbody>\n    <tr>\n      <th>62505</th>\n      <td>62505</td>\n      <td>2020-09-12</td>\n      <td>no</td>\n      <td>Barbados</td>\n      <td>180</td>\n      <td>inf</td>\n      <td>180.0</td>\n      <td>-1.266637e+16</td>\n      <td>7.0</td>\n    </tr>\n    <tr>\n      <th>62506</th>\n      <td>62506</td>\n      <td>2020-09-12</td>\n      <td>no</td>\n      <td>Belarus</td>\n      <td>73975</td>\n      <td>384.288194</td>\n      <td>73975.2</td>\n      <td>3.850919e+02</td>\n      <td>744.0</td>\n    </tr>\n    <tr>\n      <th>62507</th>\n      <td>62507</td>\n      <td>2020-09-12</td>\n      <td>no</td>\n      <td>Belgium</td>\n      <td>92478</td>\n      <td>95.840489</td>\n      <td>92387.0</td>\n      <td>1.074354e+02</td>\n      <td>9923.0</td>\n    </tr>\n    <tr>\n      <th>62508</th>\n      <td>62508</td>\n      <td>2020-09-12</td>\n      <td>no</td>\n      <td>Albania</td>\n      <td>11185</td>\n      <td>67.827692</td>\n      <td>11180.8</td>\n      <td>6.971980e+01</td>\n      <td>330.0</td>\n    </tr>\n    <tr>\n      <th>62509</th>\n      <td>62509</td>\n      <td>2020-09-12</td>\n      <td>no</td>\n      <td>Zimbabwe</td>\n      <td>7508</td>\n      <td>272.000000</td>\n      <td>7509.4</td>\n      <td>2.579448e+02</td>\n      <td>224.0</td>\n    </tr>\n  </tbody>\n</table>\n</div>"
     },
     "metadata": {},
     "execution_count": 59
    }
   ],
   "source": [
    "pd_result_larg=pd.merge(pd_result_larg,pd_DR_result_death[['index','deaths']],on=['index'],how='left')\n",
    "pd_result_larg.tail()"
   ]
  },
  {
   "cell_type": "code",
   "execution_count": 60,
   "metadata": {},
   "outputs": [],
   "source": [
    "pd_result_larg.to_csv('../data/processed/COVID_final_set.csv',sep=';',index=False)"
   ]
  },
  {
   "cell_type": "code",
   "execution_count": 61,
   "metadata": {},
   "outputs": [
    {
     "output_type": "execute_result",
     "data": {
      "text/plain": "            date state country  recovered\n58236 2020-09-08    no   India  3398844.0\n58489 2020-09-09    no   India  3471783.0\n58742 2020-09-10    no   India  3542663.0\n58995 2020-09-11    no   India  3624196.0\n59249 2020-09-12    no   India  3702595.0",
      "text/html": "<div>\n<style scoped>\n    .dataframe tbody tr th:only-of-type {\n        vertical-align: middle;\n    }\n\n    .dataframe tbody tr th {\n        vertical-align: top;\n    }\n\n    .dataframe thead th {\n        text-align: right;\n    }\n</style>\n<table border=\"1\" class=\"dataframe\">\n  <thead>\n    <tr style=\"text-align: right;\">\n      <th></th>\n      <th>date</th>\n      <th>state</th>\n      <th>country</th>\n      <th>recovered</th>\n    </tr>\n  </thead>\n  <tbody>\n    <tr>\n      <th>58236</th>\n      <td>2020-09-08</td>\n      <td>no</td>\n      <td>India</td>\n      <td>3398844.0</td>\n    </tr>\n    <tr>\n      <th>58489</th>\n      <td>2020-09-09</td>\n      <td>no</td>\n      <td>India</td>\n      <td>3471783.0</td>\n    </tr>\n    <tr>\n      <th>58742</th>\n      <td>2020-09-10</td>\n      <td>no</td>\n      <td>India</td>\n      <td>3542663.0</td>\n    </tr>\n    <tr>\n      <th>58995</th>\n      <td>2020-09-11</td>\n      <td>no</td>\n      <td>India</td>\n      <td>3624196.0</td>\n    </tr>\n    <tr>\n      <th>59249</th>\n      <td>2020-09-12</td>\n      <td>no</td>\n      <td>India</td>\n      <td>3702595.0</td>\n    </tr>\n  </tbody>\n</table>\n</div>"
     },
     "metadata": {},
     "execution_count": 61
    }
   ],
   "source": [
    "pd_JH_data_recov=pd.read_csv('../data/processed/COVID_relational_recovered.csv',sep=';',parse_dates=[0])\n",
    "pd_JH_data_recov=pd_JH_data_recov.sort_values('date',ascending=True).reset_index(drop=True).copy()\n",
    "pd_JH_data_recov[pd_JH_data_recov['country']=='India'].tail()"
   ]
  },
  {
   "cell_type": "code",
   "execution_count": 62,
   "metadata": {},
   "outputs": [],
   "source": [
    "pd_DR_result_recov = pd_JH_data_recov[['state','date','country','recovered']].reset_index()"
   ]
  },
  {
   "cell_type": "code",
   "execution_count": 63,
   "metadata": {},
   "outputs": [
    {
     "output_type": "execute_result",
     "data": {
      "text/plain": "       index state       date      country  recovered\n58455  58455    no 2020-09-09     Maldives     6288.0\n58456  58456    no 2020-09-09  New Zealand     1648.0\n58457  58457    no 2020-09-09        Malta     1760.0\n58458  58458    no 2020-09-09   Mauritania     6701.0\n58459  58459    no 2020-09-09    Mauritius      335.0\n...      ...   ...        ...          ...        ...\n59450  59450    no 2020-09-12       Brazil  3723206.0\n59451  59451    no 2020-09-12       Brunei      139.0\n59452  59452    no 2020-09-12     Bulgaria    12758.0\n59453  59453    no 2020-09-12      Bahrain    53192.0\n59454  59454    no 2020-09-12     Zimbabwe     5675.0\n\n[1000 rows x 5 columns]",
      "text/html": "<div>\n<style scoped>\n    .dataframe tbody tr th:only-of-type {\n        vertical-align: middle;\n    }\n\n    .dataframe tbody tr th {\n        vertical-align: top;\n    }\n\n    .dataframe thead th {\n        text-align: right;\n    }\n</style>\n<table border=\"1\" class=\"dataframe\">\n  <thead>\n    <tr style=\"text-align: right;\">\n      <th></th>\n      <th>index</th>\n      <th>state</th>\n      <th>date</th>\n      <th>country</th>\n      <th>recovered</th>\n    </tr>\n  </thead>\n  <tbody>\n    <tr>\n      <th>58455</th>\n      <td>58455</td>\n      <td>no</td>\n      <td>2020-09-09</td>\n      <td>Maldives</td>\n      <td>6288.0</td>\n    </tr>\n    <tr>\n      <th>58456</th>\n      <td>58456</td>\n      <td>no</td>\n      <td>2020-09-09</td>\n      <td>New Zealand</td>\n      <td>1648.0</td>\n    </tr>\n    <tr>\n      <th>58457</th>\n      <td>58457</td>\n      <td>no</td>\n      <td>2020-09-09</td>\n      <td>Malta</td>\n      <td>1760.0</td>\n    </tr>\n    <tr>\n      <th>58458</th>\n      <td>58458</td>\n      <td>no</td>\n      <td>2020-09-09</td>\n      <td>Mauritania</td>\n      <td>6701.0</td>\n    </tr>\n    <tr>\n      <th>58459</th>\n      <td>58459</td>\n      <td>no</td>\n      <td>2020-09-09</td>\n      <td>Mauritius</td>\n      <td>335.0</td>\n    </tr>\n    <tr>\n      <th>...</th>\n      <td>...</td>\n      <td>...</td>\n      <td>...</td>\n      <td>...</td>\n      <td>...</td>\n    </tr>\n    <tr>\n      <th>59450</th>\n      <td>59450</td>\n      <td>no</td>\n      <td>2020-09-12</td>\n      <td>Brazil</td>\n      <td>3723206.0</td>\n    </tr>\n    <tr>\n      <th>59451</th>\n      <td>59451</td>\n      <td>no</td>\n      <td>2020-09-12</td>\n      <td>Brunei</td>\n      <td>139.0</td>\n    </tr>\n    <tr>\n      <th>59452</th>\n      <td>59452</td>\n      <td>no</td>\n      <td>2020-09-12</td>\n      <td>Bulgaria</td>\n      <td>12758.0</td>\n    </tr>\n    <tr>\n      <th>59453</th>\n      <td>59453</td>\n      <td>no</td>\n      <td>2020-09-12</td>\n      <td>Bahrain</td>\n      <td>53192.0</td>\n    </tr>\n    <tr>\n      <th>59454</th>\n      <td>59454</td>\n      <td>no</td>\n      <td>2020-09-12</td>\n      <td>Zimbabwe</td>\n      <td>5675.0</td>\n    </tr>\n  </tbody>\n</table>\n<p>1000 rows × 5 columns</p>\n</div>"
     },
     "metadata": {},
     "execution_count": 63
    }
   ],
   "source": [
    "pd_DR_result_recov.tail(1000\n",
    ")"
   ]
  },
  {
   "cell_type": "code",
   "execution_count": 64,
   "metadata": {},
   "outputs": [],
   "source": [
    "pd_DR_result_recov.to_csv('../data/processed/COVID_final_recov_set.csv',sep=';',index=False)"
   ]
  },
  {
   "cell_type": "code",
   "execution_count": 65,
   "metadata": {},
   "outputs": [
    {
     "output_type": "execute_result",
     "data": {
      "text/plain": "Index(['index', 'date', 'state', 'country', 'confirmed', 'confirmed_DR',\n       'confirmed_filtered', 'confirmed_filtered_DR', 'deaths'],\n      dtype='object')"
     },
     "metadata": {},
     "execution_count": 65
    }
   ],
   "source": [
    "pd_result_larg.columns"
   ]
  },
  {
   "cell_type": "code",
   "execution_count": 84,
   "metadata": {},
   "outputs": [],
   "source": [
    "pd_daily = pd_result_larg[['state','country','confirmed','date','deaths']].groupby(['country','date']).agg(np.sum).reset_index()\n",
    "pd_daily_recov = pd.read_csv('../data/processed/COVID_final_recov_set.csv',sep=';',parse_dates=[0])\n",
    "pd_daily_recov = pd_daily_recov[['state','country','recovered','date']].groupby(['country','date']).agg(np.sum).reset_index()\n"
   ]
  },
  {
   "cell_type": "code",
   "execution_count": 85,
   "metadata": {},
   "outputs": [
    {
     "output_type": "execute_result",
     "data": {
      "text/plain": "[0, 0, 0, 0, 0, 0, 0, 1, 1]"
     },
     "metadata": {},
     "execution_count": 85
    }
   ],
   "source": [
    "list(pd_daily[pd_daily['country']=='India']['confirmed'])[1:10]"
   ]
  },
  {
   "cell_type": "code",
   "execution_count": 86,
   "metadata": {
    "tags": []
   },
   "outputs": [
    {
     "output_type": "execute_result",
     "data": {
      "text/plain": "[2, 3, 4]"
     },
     "metadata": {},
     "execution_count": 86
    }
   ],
   "source": [
    "a = [1,2,3,4]\n",
    "a.pop(0)\n",
    "a"
   ]
  },
  {
   "cell_type": "code",
   "execution_count": 87,
   "metadata": {},
   "outputs": [],
   "source": [
    "def get_daily_list(total_list):\n",
    "    daily_list=[]\n",
    "    daily_list.append(total_list.pop(0))\n",
    "    for each in range(len(total_list)):\n",
    "        if each == 0:\n",
    "            daily_list.append(total_list[each] - total_list[0])\n",
    "        else:\n",
    "            daily_list.append(total_list[each] - total_list[each-1])\n",
    "    \n",
    "    return daily_list\n",
    "\n"
   ]
  },
  {
   "cell_type": "code",
   "execution_count": 88,
   "metadata": {},
   "outputs": [
    {
     "output_type": "execute_result",
     "data": {
      "text/plain": "      country       date  confirmed  deaths\n18565   India 2020-01-22          0     0.0\n18566   India 2020-01-23          0     0.0\n18567   India 2020-01-24          0     0.0\n18568   India 2020-01-25          0     0.0\n18569   India 2020-01-26          0     0.0\n18570   India 2020-01-27          0     0.0\n18571   India 2020-01-28          0     0.0\n18572   India 2020-01-29          0     0.0\n18573   India 2020-01-30          1     0.0\n18574   India 2020-01-31          1     0.0\n18575   India 2020-02-01          1     0.0\n18576   India 2020-02-02          2     0.0\n18577   India 2020-02-03          3     0.0\n18578   India 2020-02-04          3     0.0\n18579   India 2020-02-05          3     0.0",
      "text/html": "<div>\n<style scoped>\n    .dataframe tbody tr th:only-of-type {\n        vertical-align: middle;\n    }\n\n    .dataframe tbody tr th {\n        vertical-align: top;\n    }\n\n    .dataframe thead th {\n        text-align: right;\n    }\n</style>\n<table border=\"1\" class=\"dataframe\">\n  <thead>\n    <tr style=\"text-align: right;\">\n      <th></th>\n      <th>country</th>\n      <th>date</th>\n      <th>confirmed</th>\n      <th>deaths</th>\n    </tr>\n  </thead>\n  <tbody>\n    <tr>\n      <th>18565</th>\n      <td>India</td>\n      <td>2020-01-22</td>\n      <td>0</td>\n      <td>0.0</td>\n    </tr>\n    <tr>\n      <th>18566</th>\n      <td>India</td>\n      <td>2020-01-23</td>\n      <td>0</td>\n      <td>0.0</td>\n    </tr>\n    <tr>\n      <th>18567</th>\n      <td>India</td>\n      <td>2020-01-24</td>\n      <td>0</td>\n      <td>0.0</td>\n    </tr>\n    <tr>\n      <th>18568</th>\n      <td>India</td>\n      <td>2020-01-25</td>\n      <td>0</td>\n      <td>0.0</td>\n    </tr>\n    <tr>\n      <th>18569</th>\n      <td>India</td>\n      <td>2020-01-26</td>\n      <td>0</td>\n      <td>0.0</td>\n    </tr>\n    <tr>\n      <th>18570</th>\n      <td>India</td>\n      <td>2020-01-27</td>\n      <td>0</td>\n      <td>0.0</td>\n    </tr>\n    <tr>\n      <th>18571</th>\n      <td>India</td>\n      <td>2020-01-28</td>\n      <td>0</td>\n      <td>0.0</td>\n    </tr>\n    <tr>\n      <th>18572</th>\n      <td>India</td>\n      <td>2020-01-29</td>\n      <td>0</td>\n      <td>0.0</td>\n    </tr>\n    <tr>\n      <th>18573</th>\n      <td>India</td>\n      <td>2020-01-30</td>\n      <td>1</td>\n      <td>0.0</td>\n    </tr>\n    <tr>\n      <th>18574</th>\n      <td>India</td>\n      <td>2020-01-31</td>\n      <td>1</td>\n      <td>0.0</td>\n    </tr>\n    <tr>\n      <th>18575</th>\n      <td>India</td>\n      <td>2020-02-01</td>\n      <td>1</td>\n      <td>0.0</td>\n    </tr>\n    <tr>\n      <th>18576</th>\n      <td>India</td>\n      <td>2020-02-02</td>\n      <td>2</td>\n      <td>0.0</td>\n    </tr>\n    <tr>\n      <th>18577</th>\n      <td>India</td>\n      <td>2020-02-03</td>\n      <td>3</td>\n      <td>0.0</td>\n    </tr>\n    <tr>\n      <th>18578</th>\n      <td>India</td>\n      <td>2020-02-04</td>\n      <td>3</td>\n      <td>0.0</td>\n    </tr>\n    <tr>\n      <th>18579</th>\n      <td>India</td>\n      <td>2020-02-05</td>\n      <td>3</td>\n      <td>0.0</td>\n    </tr>\n  </tbody>\n</table>\n</div>"
     },
     "metadata": {},
     "execution_count": 88
    }
   ],
   "source": [
    "pd_daily[pd_daily['country']=='India'].head(15)"
   ]
  },
  {
   "cell_type": "code",
   "execution_count": 88,
   "metadata": {},
   "outputs": [],
   "source": [
    "    "
   ]
  },
  {
   "cell_type": "code",
   "execution_count": 89,
   "metadata": {},
   "outputs": [
    {
     "output_type": "execute_result",
     "data": {
      "text/plain": "        country       date  confirmed  deaths\n44175  Zimbabwe 2020-09-08       7388   218.0\n44176  Zimbabwe 2020-09-09       7429   222.0\n44177  Zimbabwe 2020-09-10       7453   222.0\n44178  Zimbabwe 2020-09-11       7479   224.0\n44179  Zimbabwe 2020-09-12       7508   224.0",
      "text/html": "<div>\n<style scoped>\n    .dataframe tbody tr th:only-of-type {\n        vertical-align: middle;\n    }\n\n    .dataframe tbody tr th {\n        vertical-align: top;\n    }\n\n    .dataframe thead th {\n        text-align: right;\n    }\n</style>\n<table border=\"1\" class=\"dataframe\">\n  <thead>\n    <tr style=\"text-align: right;\">\n      <th></th>\n      <th>country</th>\n      <th>date</th>\n      <th>confirmed</th>\n      <th>deaths</th>\n    </tr>\n  </thead>\n  <tbody>\n    <tr>\n      <th>44175</th>\n      <td>Zimbabwe</td>\n      <td>2020-09-08</td>\n      <td>7388</td>\n      <td>218.0</td>\n    </tr>\n    <tr>\n      <th>44176</th>\n      <td>Zimbabwe</td>\n      <td>2020-09-09</td>\n      <td>7429</td>\n      <td>222.0</td>\n    </tr>\n    <tr>\n      <th>44177</th>\n      <td>Zimbabwe</td>\n      <td>2020-09-10</td>\n      <td>7453</td>\n      <td>222.0</td>\n    </tr>\n    <tr>\n      <th>44178</th>\n      <td>Zimbabwe</td>\n      <td>2020-09-11</td>\n      <td>7479</td>\n      <td>224.0</td>\n    </tr>\n    <tr>\n      <th>44179</th>\n      <td>Zimbabwe</td>\n      <td>2020-09-12</td>\n      <td>7508</td>\n      <td>224.0</td>\n    </tr>\n  </tbody>\n</table>\n</div>"
     },
     "metadata": {},
     "execution_count": 89
    }
   ],
   "source": [
    "aa= pd_daily.copy()\n",
    "aa.tail()"
   ]
  },
  {
   "cell_type": "code",
   "execution_count": 278,
   "metadata": {},
   "outputs": [],
   "source": []
  },
  {
   "cell_type": "code",
   "execution_count": 95,
   "metadata": {
    "tags": []
   },
   "outputs": [],
   "source": [
    "def calc_daily_values_all_countries(all_countries):\n",
    "    df_daily_all= pd.DataFrame()\n",
    "    for each_country in all_countries:\n",
    "        daily_list = get_daily_list(list(pd_daily[pd_daily['country']==each_country]['confirmed']))\n",
    "        df_daily = pd.DataFrame(np.array(daily_list))\n",
    "\n",
    "        \n",
    "        df_daily_death = np.array(get_daily_list(list(pd_daily[pd_daily['country']==each_country]['deaths'])))\n",
    "        df_daily_recov = np.array(get_daily_list(list(pd_daily_recov[pd_daily['country']==each_country]['recovered'])))\n",
    "\n",
    "\n",
    "        df_daily = df_daily.rename(columns={0:'daily_confirmed'})\n",
    "        df_daily['daily_deaths'] = df_daily_death\n",
    "        df_daily['daily_recovered'] = df_daily_recov\n",
    "        df_daily['date'] = np.array(pd_daily[pd_daily['country']==each_country]['date'])\n",
    "        df_daily['country'] = np.array(pd_daily[pd_daily['country']==each_country]['country'])\n",
    "        df_daily_all = pd.concat([df_daily_all,df_daily])\n",
    "\n",
    "    return df_daily_all\n",
    "    \n"
   ]
  },
  {
   "cell_type": "code",
   "execution_count": 96,
   "metadata": {},
   "outputs": [
    {
     "output_type": "execute_result",
     "data": {
      "text/plain": "array(['Afghanistan', 'Albania', 'Algeria', 'Andorra', 'Angola',\n       'Antigua and Barbuda', 'Argentina', 'Armenia', 'Australia',\n       'Austria', 'Azerbaijan', 'Bahamas', 'Bahrain', 'Bangladesh',\n       'Barbados', 'Belarus', 'Belgium', 'Belize', 'Benin', 'Bhutan',\n       'Bolivia', 'Bosnia and Herzegovina', 'Botswana', 'Brazil',\n       'Brunei', 'Bulgaria', 'Burkina Faso', 'Burma', 'Burundi',\n       'Cabo Verde', 'Cambodia', 'Cameroon', 'Canada',\n       'Central African Republic', 'Chad', 'Chile', 'China', 'Colombia',\n       'Comoros', 'Congo (Brazzaville)', 'Congo (Kinshasa)', 'Costa Rica',\n       \"Cote d'Ivoire\", 'Croatia', 'Cuba', 'Cyprus', 'Czechia', 'Denmark',\n       'Diamond Princess', 'Djibouti', 'Dominica', 'Dominican Republic',\n       'Ecuador', 'Egypt', 'El Salvador', 'Equatorial Guinea', 'Eritrea',\n       'Estonia', 'Eswatini', 'Ethiopia', 'Fiji', 'Finland', 'France',\n       'Gabon', 'Gambia', 'Georgia', 'Germany', 'Ghana', 'Greece',\n       'Grenada', 'Guatemala', 'Guinea', 'Guinea-Bissau', 'Guyana',\n       'Haiti', 'Holy See', 'Honduras', 'Hungary', 'Iceland', 'India',\n       'Indonesia', 'Iran', 'Iraq', 'Ireland', 'Israel', 'Italy',\n       'Jamaica', 'Japan', 'Jordan', 'Kazakhstan', 'Kenya',\n       'Korea, South', 'Kosovo', 'Kuwait', 'Kyrgyzstan', 'Laos', 'Latvia',\n       'Lebanon', 'Lesotho', 'Liberia', 'Libya', 'Liechtenstein',\n       'Lithuania', 'Luxembourg', 'MS Zaandam', 'Madagascar', 'Malawi',\n       'Malaysia', 'Maldives', 'Mali', 'Malta', 'Mauritania', 'Mauritius',\n       'Mexico', 'Moldova', 'Monaco', 'Mongolia', 'Montenegro', 'Morocco',\n       'Mozambique', 'Namibia', 'Nepal', 'Netherlands', 'New Zealand',\n       'Nicaragua', 'Niger', 'Nigeria', 'North Macedonia', 'Norway',\n       'Oman', 'Pakistan', 'Panama', 'Papua New Guinea', 'Paraguay',\n       'Peru', 'Philippines', 'Poland', 'Portugal', 'Qatar', 'Romania',\n       'Russia', 'Rwanda', 'Saint Kitts and Nevis', 'Saint Lucia',\n       'Saint Vincent and the Grenadines', 'San Marino',\n       'Sao Tome and Principe', 'Saudi Arabia', 'Senegal', 'Serbia',\n       'Seychelles', 'Sierra Leone', 'Singapore', 'Slovakia', 'Slovenia',\n       'Somalia', 'South Africa', 'South Sudan', 'Spain', 'Sri Lanka',\n       'Sudan', 'Suriname', 'Sweden', 'Switzerland', 'Syria', 'Taiwan*',\n       'Tajikistan', 'Tanzania', 'Thailand', 'Timor-Leste', 'Togo',\n       'Trinidad and Tobago', 'Tunisia', 'Turkey', 'US', 'Uganda',\n       'Ukraine', 'United Arab Emirates', 'United Kingdom', 'Uruguay',\n       'Uzbekistan', 'Venezuela', 'Vietnam', 'West Bank and Gaza',\n       'Western Sahara', 'Yemen', 'Zambia', 'Zimbabwe'], dtype=object)"
     },
     "metadata": {},
     "execution_count": 96
    }
   ],
   "source": [
    "pd_daily['country'].unique()"
   ]
  },
  {
   "cell_type": "code",
   "execution_count": 97,
   "metadata": {},
   "outputs": [],
   "source": [
    "df_daily_all= calc_daily_values_all_countries(pd_daily['country'].unique())\n",
    "df_daily_all = df_daily_all.reset_index()"
   ]
  },
  {
   "cell_type": "code",
   "execution_count": 98,
   "metadata": {},
   "outputs": [],
   "source": [
    "\n",
    "df_daily_all.daily_deaths = df_daily_all.daily_deaths.mask(df_daily_all.daily_deaths.lt(0), 0)\n"
   ]
  },
  {
   "cell_type": "code",
   "execution_count": 99,
   "metadata": {},
   "outputs": [
    {
     "output_type": "execute_result",
     "data": {
      "text/plain": "       index  daily_confirmed  daily_deaths  daily_recovered       date  \\\n18565      0                0           0.0              0.0 2020-01-22   \n18566      1                0           0.0              0.0 2020-01-23   \n18567      2                0           0.0              0.0 2020-01-24   \n18568      3                0           0.0              0.0 2020-01-25   \n18569      4                0           0.0              0.0 2020-01-26   \n18570      5                0           0.0              0.0 2020-01-27   \n18571      6                0           0.0              0.0 2020-01-28   \n18572      7                0           0.0              0.0 2020-01-29   \n18573      8                1           0.0              0.0 2020-01-30   \n18574      9                0           0.0              0.0 2020-01-31   \n18575     10                0           0.0              0.0 2020-02-01   \n18576     11                1           0.0              0.0 2020-02-02   \n18577     12                1           0.0              0.0 2020-02-03   \n18578     13                0           0.0              0.0 2020-02-04   \n18579     14                0           0.0              0.0 2020-02-05   \n18580     15                0           0.0              0.0 2020-02-06   \n18581     16                0           0.0              0.0 2020-02-07   \n18582     17                0           0.0              0.0 2020-02-08   \n18583     18                0           0.0              0.0 2020-02-09   \n18584     19                0           0.0              0.0 2020-02-10   \n18585     20                0           0.0              0.0 2020-02-11   \n18586     21                0           0.0              0.0 2020-02-12   \n18587     22                0           0.0              0.0 2020-02-13   \n18588     23                0           0.0              0.0 2020-02-14   \n18589     24                0           0.0              0.0 2020-02-15   \n18590     25                0           0.0              3.0 2020-02-16   \n18591     26                0           0.0              0.0 2020-02-17   \n18592     27                0           0.0              0.0 2020-02-18   \n18593     28                0           0.0              0.0 2020-02-19   \n18594     29                0           0.0              0.0 2020-02-20   \n18595     30                0           0.0              0.0 2020-02-21   \n18596     31                0           0.0              0.0 2020-02-22   \n18597     32                0           0.0              0.0 2020-02-23   \n18598     33                0           0.0              0.0 2020-02-24   \n18599     34                0           0.0              0.0 2020-02-25   \n18600     35                0           0.0              0.0 2020-02-26   \n18601     36                0           0.0              0.0 2020-02-27   \n18602     37                0           0.0              0.0 2020-02-28   \n18603     38                0           0.0              0.0 2020-02-29   \n18604     39                0           0.0              0.0 2020-03-01   \n18605     40                2           0.0              0.0 2020-03-02   \n18606     41                0           0.0              0.0 2020-03-03   \n18607     42               23           0.0              0.0 2020-03-04   \n18608     43                2           0.0              0.0 2020-03-05   \n18609     44                1           0.0              0.0 2020-03-06   \n18610     45                3           0.0              0.0 2020-03-07   \n18611     46                5           0.0              0.0 2020-03-08   \n18612     47                4           0.0              0.0 2020-03-09   \n18613     48               13           0.0              1.0 2020-03-10   \n18614     49                6           1.0              0.0 2020-03-11   \n18615     50               11           0.0              0.0 2020-03-12   \n18616     51                9           1.0              0.0 2020-03-13   \n18617     52               20           0.0              0.0 2020-03-14   \n18618     53               11           0.0              9.0 2020-03-15   \n18619     54                6           0.0              0.0 2020-03-16   \n18620     55               23           1.0              1.0 2020-03-17   \n18621     56               14           0.0              0.0 2020-03-18   \n18622     57               38           1.0              1.0 2020-03-19   \n18623     58               50           1.0              5.0 2020-03-20   \n18624     59               86           0.0              3.0 2020-03-21   \n18625     60               66           3.0              4.0 2020-03-22   \n18626     61              103           3.0              0.0 2020-03-23   \n18627     62               37           0.0             13.0 2020-03-24   \n18628     63              121           2.0              3.0 2020-03-25   \n18629     64               70           8.0              2.0 2020-03-26   \n18630     65              160           0.0             28.0 2020-03-27   \n18631     66              100           4.0             11.0 2020-03-28   \n18632     67               37           3.0             11.0 2020-03-29   \n18633     68              227           5.0              7.0 2020-03-30   \n18634     69              146           3.0             21.0 2020-03-31   \n18635     70              601          23.0             25.0 2020-04-01   \n18636     71              545          14.0             43.0 2020-04-02   \n18637     72               24           0.0              1.0 2020-04-03   \n18638     73              515          14.0             37.0 2020-04-04   \n18639     74              506          13.0              0.0 2020-04-05   \n18640     75             1190          37.0            146.0 2020-04-06   \n18641     76              533          14.0             46.0 2020-04-07   \n18642     77              605          28.0             85.0 2020-04-08   \n18643     78              809          48.0            114.0 2020-04-09   \n18644     79              873          20.0            154.0 2020-04-10   \n18645     80              848          42.0            195.0 2020-04-11   \n18646     81              759          43.0            111.0 2020-04-12   \n18647     82             1248          27.0            101.0 2020-04-13   \n18648     83             1034          35.0            178.0 2020-04-14   \n18649     84              835          12.0             73.0 2020-04-15   \n18650     85             1108          43.0            336.0 2020-04-16   \n18651     86              922          38.0            273.0 2020-04-17   \n18652     87             1370          35.0            422.0 2020-04-18   \n18653     88             1893          38.0            391.0 2020-04-19   \n18654     89              924          33.0            419.0 2020-04-20   \n18655     90             1541          53.0            702.0 2020-04-21   \n18656     91             1290          36.0            395.0 2020-04-22   \n18657     92             1707          40.0            642.0 2020-04-23   \n18658     93             1453          59.0            486.0 2020-04-24   \n18659     94             1753          45.0            441.0 2020-04-25   \n18660     95             1607          56.0            584.0 2020-04-26   \n18661     96             1561          58.0            614.0 2020-04-27   \n18662     97             1873          69.0            610.0 2020-04-28   \n18663     98             1738          71.0            690.0 2020-04-29   \n18664     99             1801          75.0            631.0 2020-04-30   \n\n      country  \n18565   India  \n18566   India  \n18567   India  \n18568   India  \n18569   India  \n18570   India  \n18571   India  \n18572   India  \n18573   India  \n18574   India  \n18575   India  \n18576   India  \n18577   India  \n18578   India  \n18579   India  \n18580   India  \n18581   India  \n18582   India  \n18583   India  \n18584   India  \n18585   India  \n18586   India  \n18587   India  \n18588   India  \n18589   India  \n18590   India  \n18591   India  \n18592   India  \n18593   India  \n18594   India  \n18595   India  \n18596   India  \n18597   India  \n18598   India  \n18599   India  \n18600   India  \n18601   India  \n18602   India  \n18603   India  \n18604   India  \n18605   India  \n18606   India  \n18607   India  \n18608   India  \n18609   India  \n18610   India  \n18611   India  \n18612   India  \n18613   India  \n18614   India  \n18615   India  \n18616   India  \n18617   India  \n18618   India  \n18619   India  \n18620   India  \n18621   India  \n18622   India  \n18623   India  \n18624   India  \n18625   India  \n18626   India  \n18627   India  \n18628   India  \n18629   India  \n18630   India  \n18631   India  \n18632   India  \n18633   India  \n18634   India  \n18635   India  \n18636   India  \n18637   India  \n18638   India  \n18639   India  \n18640   India  \n18641   India  \n18642   India  \n18643   India  \n18644   India  \n18645   India  \n18646   India  \n18647   India  \n18648   India  \n18649   India  \n18650   India  \n18651   India  \n18652   India  \n18653   India  \n18654   India  \n18655   India  \n18656   India  \n18657   India  \n18658   India  \n18659   India  \n18660   India  \n18661   India  \n18662   India  \n18663   India  \n18664   India  ",
      "text/html": "<div>\n<style scoped>\n    .dataframe tbody tr th:only-of-type {\n        vertical-align: middle;\n    }\n\n    .dataframe tbody tr th {\n        vertical-align: top;\n    }\n\n    .dataframe thead th {\n        text-align: right;\n    }\n</style>\n<table border=\"1\" class=\"dataframe\">\n  <thead>\n    <tr style=\"text-align: right;\">\n      <th></th>\n      <th>index</th>\n      <th>daily_confirmed</th>\n      <th>daily_deaths</th>\n      <th>daily_recovered</th>\n      <th>date</th>\n      <th>country</th>\n    </tr>\n  </thead>\n  <tbody>\n    <tr>\n      <th>18565</th>\n      <td>0</td>\n      <td>0</td>\n      <td>0.0</td>\n      <td>0.0</td>\n      <td>2020-01-22</td>\n      <td>India</td>\n    </tr>\n    <tr>\n      <th>18566</th>\n      <td>1</td>\n      <td>0</td>\n      <td>0.0</td>\n      <td>0.0</td>\n      <td>2020-01-23</td>\n      <td>India</td>\n    </tr>\n    <tr>\n      <th>18567</th>\n      <td>2</td>\n      <td>0</td>\n      <td>0.0</td>\n      <td>0.0</td>\n      <td>2020-01-24</td>\n      <td>India</td>\n    </tr>\n    <tr>\n      <th>18568</th>\n      <td>3</td>\n      <td>0</td>\n      <td>0.0</td>\n      <td>0.0</td>\n      <td>2020-01-25</td>\n      <td>India</td>\n    </tr>\n    <tr>\n      <th>18569</th>\n      <td>4</td>\n      <td>0</td>\n      <td>0.0</td>\n      <td>0.0</td>\n      <td>2020-01-26</td>\n      <td>India</td>\n    </tr>\n    <tr>\n      <th>18570</th>\n      <td>5</td>\n      <td>0</td>\n      <td>0.0</td>\n      <td>0.0</td>\n      <td>2020-01-27</td>\n      <td>India</td>\n    </tr>\n    <tr>\n      <th>18571</th>\n      <td>6</td>\n      <td>0</td>\n      <td>0.0</td>\n      <td>0.0</td>\n      <td>2020-01-28</td>\n      <td>India</td>\n    </tr>\n    <tr>\n      <th>18572</th>\n      <td>7</td>\n      <td>0</td>\n      <td>0.0</td>\n      <td>0.0</td>\n      <td>2020-01-29</td>\n      <td>India</td>\n    </tr>\n    <tr>\n      <th>18573</th>\n      <td>8</td>\n      <td>1</td>\n      <td>0.0</td>\n      <td>0.0</td>\n      <td>2020-01-30</td>\n      <td>India</td>\n    </tr>\n    <tr>\n      <th>18574</th>\n      <td>9</td>\n      <td>0</td>\n      <td>0.0</td>\n      <td>0.0</td>\n      <td>2020-01-31</td>\n      <td>India</td>\n    </tr>\n    <tr>\n      <th>18575</th>\n      <td>10</td>\n      <td>0</td>\n      <td>0.0</td>\n      <td>0.0</td>\n      <td>2020-02-01</td>\n      <td>India</td>\n    </tr>\n    <tr>\n      <th>18576</th>\n      <td>11</td>\n      <td>1</td>\n      <td>0.0</td>\n      <td>0.0</td>\n      <td>2020-02-02</td>\n      <td>India</td>\n    </tr>\n    <tr>\n      <th>18577</th>\n      <td>12</td>\n      <td>1</td>\n      <td>0.0</td>\n      <td>0.0</td>\n      <td>2020-02-03</td>\n      <td>India</td>\n    </tr>\n    <tr>\n      <th>18578</th>\n      <td>13</td>\n      <td>0</td>\n      <td>0.0</td>\n      <td>0.0</td>\n      <td>2020-02-04</td>\n      <td>India</td>\n    </tr>\n    <tr>\n      <th>18579</th>\n      <td>14</td>\n      <td>0</td>\n      <td>0.0</td>\n      <td>0.0</td>\n      <td>2020-02-05</td>\n      <td>India</td>\n    </tr>\n    <tr>\n      <th>18580</th>\n      <td>15</td>\n      <td>0</td>\n      <td>0.0</td>\n      <td>0.0</td>\n      <td>2020-02-06</td>\n      <td>India</td>\n    </tr>\n    <tr>\n      <th>18581</th>\n      <td>16</td>\n      <td>0</td>\n      <td>0.0</td>\n      <td>0.0</td>\n      <td>2020-02-07</td>\n      <td>India</td>\n    </tr>\n    <tr>\n      <th>18582</th>\n      <td>17</td>\n      <td>0</td>\n      <td>0.0</td>\n      <td>0.0</td>\n      <td>2020-02-08</td>\n      <td>India</td>\n    </tr>\n    <tr>\n      <th>18583</th>\n      <td>18</td>\n      <td>0</td>\n      <td>0.0</td>\n      <td>0.0</td>\n      <td>2020-02-09</td>\n      <td>India</td>\n    </tr>\n    <tr>\n      <th>18584</th>\n      <td>19</td>\n      <td>0</td>\n      <td>0.0</td>\n      <td>0.0</td>\n      <td>2020-02-10</td>\n      <td>India</td>\n    </tr>\n    <tr>\n      <th>18585</th>\n      <td>20</td>\n      <td>0</td>\n      <td>0.0</td>\n      <td>0.0</td>\n      <td>2020-02-11</td>\n      <td>India</td>\n    </tr>\n    <tr>\n      <th>18586</th>\n      <td>21</td>\n      <td>0</td>\n      <td>0.0</td>\n      <td>0.0</td>\n      <td>2020-02-12</td>\n      <td>India</td>\n    </tr>\n    <tr>\n      <th>18587</th>\n      <td>22</td>\n      <td>0</td>\n      <td>0.0</td>\n      <td>0.0</td>\n      <td>2020-02-13</td>\n      <td>India</td>\n    </tr>\n    <tr>\n      <th>18588</th>\n      <td>23</td>\n      <td>0</td>\n      <td>0.0</td>\n      <td>0.0</td>\n      <td>2020-02-14</td>\n      <td>India</td>\n    </tr>\n    <tr>\n      <th>18589</th>\n      <td>24</td>\n      <td>0</td>\n      <td>0.0</td>\n      <td>0.0</td>\n      <td>2020-02-15</td>\n      <td>India</td>\n    </tr>\n    <tr>\n      <th>18590</th>\n      <td>25</td>\n      <td>0</td>\n      <td>0.0</td>\n      <td>3.0</td>\n      <td>2020-02-16</td>\n      <td>India</td>\n    </tr>\n    <tr>\n      <th>18591</th>\n      <td>26</td>\n      <td>0</td>\n      <td>0.0</td>\n      <td>0.0</td>\n      <td>2020-02-17</td>\n      <td>India</td>\n    </tr>\n    <tr>\n      <th>18592</th>\n      <td>27</td>\n      <td>0</td>\n      <td>0.0</td>\n      <td>0.0</td>\n      <td>2020-02-18</td>\n      <td>India</td>\n    </tr>\n    <tr>\n      <th>18593</th>\n      <td>28</td>\n      <td>0</td>\n      <td>0.0</td>\n      <td>0.0</td>\n      <td>2020-02-19</td>\n      <td>India</td>\n    </tr>\n    <tr>\n      <th>18594</th>\n      <td>29</td>\n      <td>0</td>\n      <td>0.0</td>\n      <td>0.0</td>\n      <td>2020-02-20</td>\n      <td>India</td>\n    </tr>\n    <tr>\n      <th>18595</th>\n      <td>30</td>\n      <td>0</td>\n      <td>0.0</td>\n      <td>0.0</td>\n      <td>2020-02-21</td>\n      <td>India</td>\n    </tr>\n    <tr>\n      <th>18596</th>\n      <td>31</td>\n      <td>0</td>\n      <td>0.0</td>\n      <td>0.0</td>\n      <td>2020-02-22</td>\n      <td>India</td>\n    </tr>\n    <tr>\n      <th>18597</th>\n      <td>32</td>\n      <td>0</td>\n      <td>0.0</td>\n      <td>0.0</td>\n      <td>2020-02-23</td>\n      <td>India</td>\n    </tr>\n    <tr>\n      <th>18598</th>\n      <td>33</td>\n      <td>0</td>\n      <td>0.0</td>\n      <td>0.0</td>\n      <td>2020-02-24</td>\n      <td>India</td>\n    </tr>\n    <tr>\n      <th>18599</th>\n      <td>34</td>\n      <td>0</td>\n      <td>0.0</td>\n      <td>0.0</td>\n      <td>2020-02-25</td>\n      <td>India</td>\n    </tr>\n    <tr>\n      <th>18600</th>\n      <td>35</td>\n      <td>0</td>\n      <td>0.0</td>\n      <td>0.0</td>\n      <td>2020-02-26</td>\n      <td>India</td>\n    </tr>\n    <tr>\n      <th>18601</th>\n      <td>36</td>\n      <td>0</td>\n      <td>0.0</td>\n      <td>0.0</td>\n      <td>2020-02-27</td>\n      <td>India</td>\n    </tr>\n    <tr>\n      <th>18602</th>\n      <td>37</td>\n      <td>0</td>\n      <td>0.0</td>\n      <td>0.0</td>\n      <td>2020-02-28</td>\n      <td>India</td>\n    </tr>\n    <tr>\n      <th>18603</th>\n      <td>38</td>\n      <td>0</td>\n      <td>0.0</td>\n      <td>0.0</td>\n      <td>2020-02-29</td>\n      <td>India</td>\n    </tr>\n    <tr>\n      <th>18604</th>\n      <td>39</td>\n      <td>0</td>\n      <td>0.0</td>\n      <td>0.0</td>\n      <td>2020-03-01</td>\n      <td>India</td>\n    </tr>\n    <tr>\n      <th>18605</th>\n      <td>40</td>\n      <td>2</td>\n      <td>0.0</td>\n      <td>0.0</td>\n      <td>2020-03-02</td>\n      <td>India</td>\n    </tr>\n    <tr>\n      <th>18606</th>\n      <td>41</td>\n      <td>0</td>\n      <td>0.0</td>\n      <td>0.0</td>\n      <td>2020-03-03</td>\n      <td>India</td>\n    </tr>\n    <tr>\n      <th>18607</th>\n      <td>42</td>\n      <td>23</td>\n      <td>0.0</td>\n      <td>0.0</td>\n      <td>2020-03-04</td>\n      <td>India</td>\n    </tr>\n    <tr>\n      <th>18608</th>\n      <td>43</td>\n      <td>2</td>\n      <td>0.0</td>\n      <td>0.0</td>\n      <td>2020-03-05</td>\n      <td>India</td>\n    </tr>\n    <tr>\n      <th>18609</th>\n      <td>44</td>\n      <td>1</td>\n      <td>0.0</td>\n      <td>0.0</td>\n      <td>2020-03-06</td>\n      <td>India</td>\n    </tr>\n    <tr>\n      <th>18610</th>\n      <td>45</td>\n      <td>3</td>\n      <td>0.0</td>\n      <td>0.0</td>\n      <td>2020-03-07</td>\n      <td>India</td>\n    </tr>\n    <tr>\n      <th>18611</th>\n      <td>46</td>\n      <td>5</td>\n      <td>0.0</td>\n      <td>0.0</td>\n      <td>2020-03-08</td>\n      <td>India</td>\n    </tr>\n    <tr>\n      <th>18612</th>\n      <td>47</td>\n      <td>4</td>\n      <td>0.0</td>\n      <td>0.0</td>\n      <td>2020-03-09</td>\n      <td>India</td>\n    </tr>\n    <tr>\n      <th>18613</th>\n      <td>48</td>\n      <td>13</td>\n      <td>0.0</td>\n      <td>1.0</td>\n      <td>2020-03-10</td>\n      <td>India</td>\n    </tr>\n    <tr>\n      <th>18614</th>\n      <td>49</td>\n      <td>6</td>\n      <td>1.0</td>\n      <td>0.0</td>\n      <td>2020-03-11</td>\n      <td>India</td>\n    </tr>\n    <tr>\n      <th>18615</th>\n      <td>50</td>\n      <td>11</td>\n      <td>0.0</td>\n      <td>0.0</td>\n      <td>2020-03-12</td>\n      <td>India</td>\n    </tr>\n    <tr>\n      <th>18616</th>\n      <td>51</td>\n      <td>9</td>\n      <td>1.0</td>\n      <td>0.0</td>\n      <td>2020-03-13</td>\n      <td>India</td>\n    </tr>\n    <tr>\n      <th>18617</th>\n      <td>52</td>\n      <td>20</td>\n      <td>0.0</td>\n      <td>0.0</td>\n      <td>2020-03-14</td>\n      <td>India</td>\n    </tr>\n    <tr>\n      <th>18618</th>\n      <td>53</td>\n      <td>11</td>\n      <td>0.0</td>\n      <td>9.0</td>\n      <td>2020-03-15</td>\n      <td>India</td>\n    </tr>\n    <tr>\n      <th>18619</th>\n      <td>54</td>\n      <td>6</td>\n      <td>0.0</td>\n      <td>0.0</td>\n      <td>2020-03-16</td>\n      <td>India</td>\n    </tr>\n    <tr>\n      <th>18620</th>\n      <td>55</td>\n      <td>23</td>\n      <td>1.0</td>\n      <td>1.0</td>\n      <td>2020-03-17</td>\n      <td>India</td>\n    </tr>\n    <tr>\n      <th>18621</th>\n      <td>56</td>\n      <td>14</td>\n      <td>0.0</td>\n      <td>0.0</td>\n      <td>2020-03-18</td>\n      <td>India</td>\n    </tr>\n    <tr>\n      <th>18622</th>\n      <td>57</td>\n      <td>38</td>\n      <td>1.0</td>\n      <td>1.0</td>\n      <td>2020-03-19</td>\n      <td>India</td>\n    </tr>\n    <tr>\n      <th>18623</th>\n      <td>58</td>\n      <td>50</td>\n      <td>1.0</td>\n      <td>5.0</td>\n      <td>2020-03-20</td>\n      <td>India</td>\n    </tr>\n    <tr>\n      <th>18624</th>\n      <td>59</td>\n      <td>86</td>\n      <td>0.0</td>\n      <td>3.0</td>\n      <td>2020-03-21</td>\n      <td>India</td>\n    </tr>\n    <tr>\n      <th>18625</th>\n      <td>60</td>\n      <td>66</td>\n      <td>3.0</td>\n      <td>4.0</td>\n      <td>2020-03-22</td>\n      <td>India</td>\n    </tr>\n    <tr>\n      <th>18626</th>\n      <td>61</td>\n      <td>103</td>\n      <td>3.0</td>\n      <td>0.0</td>\n      <td>2020-03-23</td>\n      <td>India</td>\n    </tr>\n    <tr>\n      <th>18627</th>\n      <td>62</td>\n      <td>37</td>\n      <td>0.0</td>\n      <td>13.0</td>\n      <td>2020-03-24</td>\n      <td>India</td>\n    </tr>\n    <tr>\n      <th>18628</th>\n      <td>63</td>\n      <td>121</td>\n      <td>2.0</td>\n      <td>3.0</td>\n      <td>2020-03-25</td>\n      <td>India</td>\n    </tr>\n    <tr>\n      <th>18629</th>\n      <td>64</td>\n      <td>70</td>\n      <td>8.0</td>\n      <td>2.0</td>\n      <td>2020-03-26</td>\n      <td>India</td>\n    </tr>\n    <tr>\n      <th>18630</th>\n      <td>65</td>\n      <td>160</td>\n      <td>0.0</td>\n      <td>28.0</td>\n      <td>2020-03-27</td>\n      <td>India</td>\n    </tr>\n    <tr>\n      <th>18631</th>\n      <td>66</td>\n      <td>100</td>\n      <td>4.0</td>\n      <td>11.0</td>\n      <td>2020-03-28</td>\n      <td>India</td>\n    </tr>\n    <tr>\n      <th>18632</th>\n      <td>67</td>\n      <td>37</td>\n      <td>3.0</td>\n      <td>11.0</td>\n      <td>2020-03-29</td>\n      <td>India</td>\n    </tr>\n    <tr>\n      <th>18633</th>\n      <td>68</td>\n      <td>227</td>\n      <td>5.0</td>\n      <td>7.0</td>\n      <td>2020-03-30</td>\n      <td>India</td>\n    </tr>\n    <tr>\n      <th>18634</th>\n      <td>69</td>\n      <td>146</td>\n      <td>3.0</td>\n      <td>21.0</td>\n      <td>2020-03-31</td>\n      <td>India</td>\n    </tr>\n    <tr>\n      <th>18635</th>\n      <td>70</td>\n      <td>601</td>\n      <td>23.0</td>\n      <td>25.0</td>\n      <td>2020-04-01</td>\n      <td>India</td>\n    </tr>\n    <tr>\n      <th>18636</th>\n      <td>71</td>\n      <td>545</td>\n      <td>14.0</td>\n      <td>43.0</td>\n      <td>2020-04-02</td>\n      <td>India</td>\n    </tr>\n    <tr>\n      <th>18637</th>\n      <td>72</td>\n      <td>24</td>\n      <td>0.0</td>\n      <td>1.0</td>\n      <td>2020-04-03</td>\n      <td>India</td>\n    </tr>\n    <tr>\n      <th>18638</th>\n      <td>73</td>\n      <td>515</td>\n      <td>14.0</td>\n      <td>37.0</td>\n      <td>2020-04-04</td>\n      <td>India</td>\n    </tr>\n    <tr>\n      <th>18639</th>\n      <td>74</td>\n      <td>506</td>\n      <td>13.0</td>\n      <td>0.0</td>\n      <td>2020-04-05</td>\n      <td>India</td>\n    </tr>\n    <tr>\n      <th>18640</th>\n      <td>75</td>\n      <td>1190</td>\n      <td>37.0</td>\n      <td>146.0</td>\n      <td>2020-04-06</td>\n      <td>India</td>\n    </tr>\n    <tr>\n      <th>18641</th>\n      <td>76</td>\n      <td>533</td>\n      <td>14.0</td>\n      <td>46.0</td>\n      <td>2020-04-07</td>\n      <td>India</td>\n    </tr>\n    <tr>\n      <th>18642</th>\n      <td>77</td>\n      <td>605</td>\n      <td>28.0</td>\n      <td>85.0</td>\n      <td>2020-04-08</td>\n      <td>India</td>\n    </tr>\n    <tr>\n      <th>18643</th>\n      <td>78</td>\n      <td>809</td>\n      <td>48.0</td>\n      <td>114.0</td>\n      <td>2020-04-09</td>\n      <td>India</td>\n    </tr>\n    <tr>\n      <th>18644</th>\n      <td>79</td>\n      <td>873</td>\n      <td>20.0</td>\n      <td>154.0</td>\n      <td>2020-04-10</td>\n      <td>India</td>\n    </tr>\n    <tr>\n      <th>18645</th>\n      <td>80</td>\n      <td>848</td>\n      <td>42.0</td>\n      <td>195.0</td>\n      <td>2020-04-11</td>\n      <td>India</td>\n    </tr>\n    <tr>\n      <th>18646</th>\n      <td>81</td>\n      <td>759</td>\n      <td>43.0</td>\n      <td>111.0</td>\n      <td>2020-04-12</td>\n      <td>India</td>\n    </tr>\n    <tr>\n      <th>18647</th>\n      <td>82</td>\n      <td>1248</td>\n      <td>27.0</td>\n      <td>101.0</td>\n      <td>2020-04-13</td>\n      <td>India</td>\n    </tr>\n    <tr>\n      <th>18648</th>\n      <td>83</td>\n      <td>1034</td>\n      <td>35.0</td>\n      <td>178.0</td>\n      <td>2020-04-14</td>\n      <td>India</td>\n    </tr>\n    <tr>\n      <th>18649</th>\n      <td>84</td>\n      <td>835</td>\n      <td>12.0</td>\n      <td>73.0</td>\n      <td>2020-04-15</td>\n      <td>India</td>\n    </tr>\n    <tr>\n      <th>18650</th>\n      <td>85</td>\n      <td>1108</td>\n      <td>43.0</td>\n      <td>336.0</td>\n      <td>2020-04-16</td>\n      <td>India</td>\n    </tr>\n    <tr>\n      <th>18651</th>\n      <td>86</td>\n      <td>922</td>\n      <td>38.0</td>\n      <td>273.0</td>\n      <td>2020-04-17</td>\n      <td>India</td>\n    </tr>\n    <tr>\n      <th>18652</th>\n      <td>87</td>\n      <td>1370</td>\n      <td>35.0</td>\n      <td>422.0</td>\n      <td>2020-04-18</td>\n      <td>India</td>\n    </tr>\n    <tr>\n      <th>18653</th>\n      <td>88</td>\n      <td>1893</td>\n      <td>38.0</td>\n      <td>391.0</td>\n      <td>2020-04-19</td>\n      <td>India</td>\n    </tr>\n    <tr>\n      <th>18654</th>\n      <td>89</td>\n      <td>924</td>\n      <td>33.0</td>\n      <td>419.0</td>\n      <td>2020-04-20</td>\n      <td>India</td>\n    </tr>\n    <tr>\n      <th>18655</th>\n      <td>90</td>\n      <td>1541</td>\n      <td>53.0</td>\n      <td>702.0</td>\n      <td>2020-04-21</td>\n      <td>India</td>\n    </tr>\n    <tr>\n      <th>18656</th>\n      <td>91</td>\n      <td>1290</td>\n      <td>36.0</td>\n      <td>395.0</td>\n      <td>2020-04-22</td>\n      <td>India</td>\n    </tr>\n    <tr>\n      <th>18657</th>\n      <td>92</td>\n      <td>1707</td>\n      <td>40.0</td>\n      <td>642.0</td>\n      <td>2020-04-23</td>\n      <td>India</td>\n    </tr>\n    <tr>\n      <th>18658</th>\n      <td>93</td>\n      <td>1453</td>\n      <td>59.0</td>\n      <td>486.0</td>\n      <td>2020-04-24</td>\n      <td>India</td>\n    </tr>\n    <tr>\n      <th>18659</th>\n      <td>94</td>\n      <td>1753</td>\n      <td>45.0</td>\n      <td>441.0</td>\n      <td>2020-04-25</td>\n      <td>India</td>\n    </tr>\n    <tr>\n      <th>18660</th>\n      <td>95</td>\n      <td>1607</td>\n      <td>56.0</td>\n      <td>584.0</td>\n      <td>2020-04-26</td>\n      <td>India</td>\n    </tr>\n    <tr>\n      <th>18661</th>\n      <td>96</td>\n      <td>1561</td>\n      <td>58.0</td>\n      <td>614.0</td>\n      <td>2020-04-27</td>\n      <td>India</td>\n    </tr>\n    <tr>\n      <th>18662</th>\n      <td>97</td>\n      <td>1873</td>\n      <td>69.0</td>\n      <td>610.0</td>\n      <td>2020-04-28</td>\n      <td>India</td>\n    </tr>\n    <tr>\n      <th>18663</th>\n      <td>98</td>\n      <td>1738</td>\n      <td>71.0</td>\n      <td>690.0</td>\n      <td>2020-04-29</td>\n      <td>India</td>\n    </tr>\n    <tr>\n      <th>18664</th>\n      <td>99</td>\n      <td>1801</td>\n      <td>75.0</td>\n      <td>631.0</td>\n      <td>2020-04-30</td>\n      <td>India</td>\n    </tr>\n  </tbody>\n</table>\n</div>"
     },
     "metadata": {},
     "execution_count": 99
    }
   ],
   "source": [
    "df_daily_all[df_daily_all['country']=='India'].head(100)    "
   ]
  },
  {
   "cell_type": "code",
   "execution_count": 135,
   "metadata": {},
   "outputs": [],
   "source": [
    "df_daily_all.to_csv('../data/processed/COVID_final_daily_set.csv',sep=';',index=False)"
   ]
  },
  {
   "cell_type": "code",
   "execution_count": 136,
   "metadata": {},
   "outputs": [],
   "source": [
    "test = pd_result_larg.copy()"
   ]
  },
  {
   "cell_type": "code",
   "execution_count": 137,
   "metadata": {},
   "outputs": [
    {
     "output_type": "execute_result",
     "data": {
      "text/plain": "       index       date    state       country  confirmed  confirmed_DR  \\\n0          0 2020-01-22  Alberta        Canada          0           NaN   \n1          1 2020-01-22       no  Korea, South          1           NaN   \n2          2 2020-01-22       no        Kosovo          0           NaN   \n3          3 2020-01-22       no        Kuwait          0           NaN   \n4          4 2020-01-22       no    Kyrgyzstan          0           NaN   \n...      ...        ...      ...           ...        ...           ...   \n62505  62505 2020-09-12       no      Barbados        180           inf   \n62506  62506 2020-09-12       no       Belarus      73975    384.288194   \n62507  62507 2020-09-12       no       Belgium      92478     95.840489   \n62508  62508 2020-09-12       no       Albania      11185     67.827692   \n62509  62509 2020-09-12       no      Zimbabwe       7508    272.000000   \n\n       confirmed_filtered  confirmed_filtered_DR  deaths  \n0                     0.0                    NaN     0.0  \n1                     0.8                    NaN     0.0  \n2                     0.0                    NaN     0.0  \n3                     0.0                    NaN     0.0  \n4                     0.0                    NaN     0.0  \n...                   ...                    ...     ...  \n62505               180.0          -1.266637e+16     7.0  \n62506             73975.2           3.850919e+02   744.0  \n62507             92387.0           1.074354e+02  9923.0  \n62508             11180.8           6.971980e+01   330.0  \n62509              7509.4           2.579448e+02   224.0  \n\n[62510 rows x 9 columns]",
      "text/html": "<div>\n<style scoped>\n    .dataframe tbody tr th:only-of-type {\n        vertical-align: middle;\n    }\n\n    .dataframe tbody tr th {\n        vertical-align: top;\n    }\n\n    .dataframe thead th {\n        text-align: right;\n    }\n</style>\n<table border=\"1\" class=\"dataframe\">\n  <thead>\n    <tr style=\"text-align: right;\">\n      <th></th>\n      <th>index</th>\n      <th>date</th>\n      <th>state</th>\n      <th>country</th>\n      <th>confirmed</th>\n      <th>confirmed_DR</th>\n      <th>confirmed_filtered</th>\n      <th>confirmed_filtered_DR</th>\n      <th>deaths</th>\n    </tr>\n  </thead>\n  <tbody>\n    <tr>\n      <th>0</th>\n      <td>0</td>\n      <td>2020-01-22</td>\n      <td>Alberta</td>\n      <td>Canada</td>\n      <td>0</td>\n      <td>NaN</td>\n      <td>0.0</td>\n      <td>NaN</td>\n      <td>0.0</td>\n    </tr>\n    <tr>\n      <th>1</th>\n      <td>1</td>\n      <td>2020-01-22</td>\n      <td>no</td>\n      <td>Korea, South</td>\n      <td>1</td>\n      <td>NaN</td>\n      <td>0.8</td>\n      <td>NaN</td>\n      <td>0.0</td>\n    </tr>\n    <tr>\n      <th>2</th>\n      <td>2</td>\n      <td>2020-01-22</td>\n      <td>no</td>\n      <td>Kosovo</td>\n      <td>0</td>\n      <td>NaN</td>\n      <td>0.0</td>\n      <td>NaN</td>\n      <td>0.0</td>\n    </tr>\n    <tr>\n      <th>3</th>\n      <td>3</td>\n      <td>2020-01-22</td>\n      <td>no</td>\n      <td>Kuwait</td>\n      <td>0</td>\n      <td>NaN</td>\n      <td>0.0</td>\n      <td>NaN</td>\n      <td>0.0</td>\n    </tr>\n    <tr>\n      <th>4</th>\n      <td>4</td>\n      <td>2020-01-22</td>\n      <td>no</td>\n      <td>Kyrgyzstan</td>\n      <td>0</td>\n      <td>NaN</td>\n      <td>0.0</td>\n      <td>NaN</td>\n      <td>0.0</td>\n    </tr>\n    <tr>\n      <th>...</th>\n      <td>...</td>\n      <td>...</td>\n      <td>...</td>\n      <td>...</td>\n      <td>...</td>\n      <td>...</td>\n      <td>...</td>\n      <td>...</td>\n      <td>...</td>\n    </tr>\n    <tr>\n      <th>62505</th>\n      <td>62505</td>\n      <td>2020-09-12</td>\n      <td>no</td>\n      <td>Barbados</td>\n      <td>180</td>\n      <td>inf</td>\n      <td>180.0</td>\n      <td>-1.266637e+16</td>\n      <td>7.0</td>\n    </tr>\n    <tr>\n      <th>62506</th>\n      <td>62506</td>\n      <td>2020-09-12</td>\n      <td>no</td>\n      <td>Belarus</td>\n      <td>73975</td>\n      <td>384.288194</td>\n      <td>73975.2</td>\n      <td>3.850919e+02</td>\n      <td>744.0</td>\n    </tr>\n    <tr>\n      <th>62507</th>\n      <td>62507</td>\n      <td>2020-09-12</td>\n      <td>no</td>\n      <td>Belgium</td>\n      <td>92478</td>\n      <td>95.840489</td>\n      <td>92387.0</td>\n      <td>1.074354e+02</td>\n      <td>9923.0</td>\n    </tr>\n    <tr>\n      <th>62508</th>\n      <td>62508</td>\n      <td>2020-09-12</td>\n      <td>no</td>\n      <td>Albania</td>\n      <td>11185</td>\n      <td>67.827692</td>\n      <td>11180.8</td>\n      <td>6.971980e+01</td>\n      <td>330.0</td>\n    </tr>\n    <tr>\n      <th>62509</th>\n      <td>62509</td>\n      <td>2020-09-12</td>\n      <td>no</td>\n      <td>Zimbabwe</td>\n      <td>7508</td>\n      <td>272.000000</td>\n      <td>7509.4</td>\n      <td>2.579448e+02</td>\n      <td>224.0</td>\n    </tr>\n  </tbody>\n</table>\n<p>62510 rows × 9 columns</p>\n</div>"
     },
     "metadata": {},
     "execution_count": 137
    }
   ],
   "source": [
    "df_plot=test[test['country']==\"United Kingdom\"]\n",
    "#df_plot=df_plot[['state','country','confirmed','confirmed_filtered','confirmed_DR','confirmed_filtered_DR','date']].groupby(['country','date']).agg(np.sum).reset_index()\n",
    "test"
   ]
  },
  {
   "cell_type": "code",
   "execution_count": 138,
   "metadata": {},
   "outputs": [
    {
     "output_type": "execute_result",
     "data": {
      "text/plain": "       index       date                        state         country  \\\n87        87 2020-01-22                           no  United Kingdom   \n136      136 2020-01-22                  Isle of Man  United Kingdom   \n145      145 2020-01-22                   Montserrat  United Kingdom   \n173      173 2020-01-22                      Bermuda  United Kingdom   \n176      176 2020-01-22       British Virgin Islands  United Kingdom   \n...      ...        ...                          ...             ...   \n62422  62422 2020-09-12               Cayman Islands  United Kingdom   \n62423  62423 2020-09-12              Channel Islands  United Kingdom   \n62427  62427 2020-09-12  Falkland Islands (Malvinas)  United Kingdom   \n62433  62433 2020-09-12                    Gibraltar  United Kingdom   \n62485  62485 2020-09-12     Turks and Caicos Islands  United Kingdom   \n\n       confirmed  confirmed_DR  confirmed_filtered  confirmed_filtered_DR  \\\n87             0           NaN                 0.0                    NaN   \n136            0           NaN                 0.0                    NaN   \n145            0           NaN                 0.0                    NaN   \n173            0           NaN                 0.0                    NaN   \n176            0           NaN                 0.0                    NaN   \n...          ...           ...                 ...                    ...   \n62422        208           inf               208.6             297.000000   \n62423        633    632.333333               633.4             632.400000   \n62427         13           inf                13.0                    NaN   \n62433        327    162.166667               326.0             216.333333   \n62485        641    426.666667               645.8              95.388060   \n\n       deaths  \n87        0.0  \n136       0.0  \n145       0.0  \n173       0.0  \n176       0.0  \n...       ...  \n62422     1.0  \n62423    48.0  \n62427     0.0  \n62433     0.0  \n62485     5.0  \n\n[2585 rows x 9 columns]",
      "text/html": "<div>\n<style scoped>\n    .dataframe tbody tr th:only-of-type {\n        vertical-align: middle;\n    }\n\n    .dataframe tbody tr th {\n        vertical-align: top;\n    }\n\n    .dataframe thead th {\n        text-align: right;\n    }\n</style>\n<table border=\"1\" class=\"dataframe\">\n  <thead>\n    <tr style=\"text-align: right;\">\n      <th></th>\n      <th>index</th>\n      <th>date</th>\n      <th>state</th>\n      <th>country</th>\n      <th>confirmed</th>\n      <th>confirmed_DR</th>\n      <th>confirmed_filtered</th>\n      <th>confirmed_filtered_DR</th>\n      <th>deaths</th>\n    </tr>\n  </thead>\n  <tbody>\n    <tr>\n      <th>87</th>\n      <td>87</td>\n      <td>2020-01-22</td>\n      <td>no</td>\n      <td>United Kingdom</td>\n      <td>0</td>\n      <td>NaN</td>\n      <td>0.0</td>\n      <td>NaN</td>\n      <td>0.0</td>\n    </tr>\n    <tr>\n      <th>136</th>\n      <td>136</td>\n      <td>2020-01-22</td>\n      <td>Isle of Man</td>\n      <td>United Kingdom</td>\n      <td>0</td>\n      <td>NaN</td>\n      <td>0.0</td>\n      <td>NaN</td>\n      <td>0.0</td>\n    </tr>\n    <tr>\n      <th>145</th>\n      <td>145</td>\n      <td>2020-01-22</td>\n      <td>Montserrat</td>\n      <td>United Kingdom</td>\n      <td>0</td>\n      <td>NaN</td>\n      <td>0.0</td>\n      <td>NaN</td>\n      <td>0.0</td>\n    </tr>\n    <tr>\n      <th>173</th>\n      <td>173</td>\n      <td>2020-01-22</td>\n      <td>Bermuda</td>\n      <td>United Kingdom</td>\n      <td>0</td>\n      <td>NaN</td>\n      <td>0.0</td>\n      <td>NaN</td>\n      <td>0.0</td>\n    </tr>\n    <tr>\n      <th>176</th>\n      <td>176</td>\n      <td>2020-01-22</td>\n      <td>British Virgin Islands</td>\n      <td>United Kingdom</td>\n      <td>0</td>\n      <td>NaN</td>\n      <td>0.0</td>\n      <td>NaN</td>\n      <td>0.0</td>\n    </tr>\n    <tr>\n      <th>...</th>\n      <td>...</td>\n      <td>...</td>\n      <td>...</td>\n      <td>...</td>\n      <td>...</td>\n      <td>...</td>\n      <td>...</td>\n      <td>...</td>\n      <td>...</td>\n    </tr>\n    <tr>\n      <th>62422</th>\n      <td>62422</td>\n      <td>2020-09-12</td>\n      <td>Cayman Islands</td>\n      <td>United Kingdom</td>\n      <td>208</td>\n      <td>inf</td>\n      <td>208.6</td>\n      <td>297.000000</td>\n      <td>1.0</td>\n    </tr>\n    <tr>\n      <th>62423</th>\n      <td>62423</td>\n      <td>2020-09-12</td>\n      <td>Channel Islands</td>\n      <td>United Kingdom</td>\n      <td>633</td>\n      <td>632.333333</td>\n      <td>633.4</td>\n      <td>632.400000</td>\n      <td>48.0</td>\n    </tr>\n    <tr>\n      <th>62427</th>\n      <td>62427</td>\n      <td>2020-09-12</td>\n      <td>Falkland Islands (Malvinas)</td>\n      <td>United Kingdom</td>\n      <td>13</td>\n      <td>inf</td>\n      <td>13.0</td>\n      <td>NaN</td>\n      <td>0.0</td>\n    </tr>\n    <tr>\n      <th>62433</th>\n      <td>62433</td>\n      <td>2020-09-12</td>\n      <td>Gibraltar</td>\n      <td>United Kingdom</td>\n      <td>327</td>\n      <td>162.166667</td>\n      <td>326.0</td>\n      <td>216.333333</td>\n      <td>0.0</td>\n    </tr>\n    <tr>\n      <th>62485</th>\n      <td>62485</td>\n      <td>2020-09-12</td>\n      <td>Turks and Caicos Islands</td>\n      <td>United Kingdom</td>\n      <td>641</td>\n      <td>426.666667</td>\n      <td>645.8</td>\n      <td>95.388060</td>\n      <td>5.0</td>\n    </tr>\n  </tbody>\n</table>\n<p>2585 rows × 9 columns</p>\n</div>"
     },
     "metadata": {},
     "execution_count": 138
    }
   ],
   "source": [
    "df_plot"
   ]
  },
  {
   "cell_type": "code",
   "execution_count": 139,
   "metadata": {},
   "outputs": [],
   "source": [
    "df_plot1=test[['state','country','confirmed','confirmed_filtered','confirmed_DR','confirmed_filtered_DR','date','deaths']].groupby(['country','date']).agg(np.sum).reset_index()\n"
   ]
  },
  {
   "cell_type": "code",
   "execution_count": 154,
   "metadata": {},
   "outputs": [
    {
     "output_type": "execute_result",
     "data": {
      "text/plain": "      country       date  confirmed  confirmed_filtered  confirmed_DR  \\\n18798   India 2020-09-11    4659984           4658806.7     47.009377   \n\n       confirmed_filtered_DR   deaths  \n18798              47.769387  77472.0  ",
      "text/html": "<div>\n<style scoped>\n    .dataframe tbody tr th:only-of-type {\n        vertical-align: middle;\n    }\n\n    .dataframe tbody tr th {\n        vertical-align: top;\n    }\n\n    .dataframe thead th {\n        text-align: right;\n    }\n</style>\n<table border=\"1\" class=\"dataframe\">\n  <thead>\n    <tr style=\"text-align: right;\">\n      <th></th>\n      <th>country</th>\n      <th>date</th>\n      <th>confirmed</th>\n      <th>confirmed_filtered</th>\n      <th>confirmed_DR</th>\n      <th>confirmed_filtered_DR</th>\n      <th>deaths</th>\n    </tr>\n  </thead>\n  <tbody>\n    <tr>\n      <th>18798</th>\n      <td>India</td>\n      <td>2020-09-11</td>\n      <td>4659984</td>\n      <td>4658806.7</td>\n      <td>47.009377</td>\n      <td>47.769387</td>\n      <td>77472.0</td>\n    </tr>\n  </tbody>\n</table>\n</div>"
     },
     "metadata": {},
     "execution_count": 154
    }
   ],
   "source": [
    "df_plot1[df_plot1['country']==\"France\"][-2:-1]"
   ]
  },
  {
   "cell_type": "code",
   "execution_count": 149,
   "metadata": {},
   "outputs": [],
   "source": [
    "a ='../data/raw/COVID-19/csse_covid_19_data/csse_covid_19_time_series/time_series_covid19_confirmed_global.csv'\n",
    "abc=pd.read_csv(a)"
   ]
  },
  {
   "cell_type": "code",
   "execution_count": 150,
   "metadata": {},
   "outputs": [
    {
     "output_type": "execute_result",
     "data": {
      "text/plain": "..   272912   274644   276338   277634   278784   280153   \n150        0  ...     2896     2964     3024     3103     3183     3323   \n151        4  ...    70278    70866    71467    71918    72213    72724   \n152        0  ...     2233     2301     2353     2411     2478     2581   \n153        0  ...   106121   106225   106301   106361   106425   106498   \n154        0  ...    34705    34884    35020    35103    35205    35356   \n155        4  ...    20842    21010    21177    21296    21432    21588   \n156        0  ...    12683    12683    12683    12683    12683    12683   \n157        0  ...    87378    88243    88963    89582    90387    91244   \n158        0  ...    44135    44199    44293    44403    44458    44487   \n159        0  ...       22       22       22       22       22       22   \n160        0  ...     1410     1416     1425     1428     1429     1432   \n161        0  ...    18963    19490    20011    20426    20826    21324   \n162        0  ...     1085     1148     1148     1148     1148     1148   \n163        0  ...     1306     1306     1306     1307     1311     1311   \n164        0  ...    15773    16445    17094    17749    18834    19583   \n165        0  ...      107      107      107      107      107      107   \n166        0  ...     2978     3004     3040     3083     3100     3131   \n167        0  ...     6811     6854     6896     6950     6960     6974   \n168        0  ...        9        9        9        9        9        9   \n169        0  ...    15106    15187    15269    15319    15352    15435   \n170        0  ...     5593     5608     5611     5614     5621     5630   \n171        4  ...     9374     9385     9391     9397     9459     9559   \n172        0  ...     8281     8361     8486     8584     8667     8741   \n173        0  ...     2807     2814     2833     2842     2870     2882   \n174        0  ...     1965     1984     2014     2039     2076     2099   \n175        0  ...     7106     7126     7134     7142     7165     7165   \n176        0  ...      356      356      356      356      356      361   \n177        0  ...   616894   623090   629409   634023   637509   642860   \n178        0  ...    38372    38906    39473    39797    40055    40556   \n179        0  ...      143      147      147      147      153      156   \n180        0  ...      310      310      310      310      310      310   \n181        0  ...     5165     5275     5422     5553     5659     5875   \n182        0  ...    66855    68605    70160    72394    73780    75721   \n183        0  ...     4207     4265     4341     4444     4557     4647   \n184        0  ...     8082     8323     8514     8685     8810     8928   \n185        1  ...    42877    44236    45277    46257    47236    48138   \n186        0  ...     2292     2358     2428     2449     2482     2589   \n187        0  ...       18       18       18       18       18       21   \n188        0  ...       78       78       88       92      102      107   \n189        0  ...      504      511      511      511      516      527   \n190        0  ...    72464    73208    73862    74787    75584    76548   \n191        0  ...     1764     1767     1772     1776     1782     1788   \n192        0  ...     4668     4668     4668     4668     4668     4818   \n193        0  ...     1177     1177     1177     1177     1177     1178   \n194        0  ...    54588    54743    54905    55005    55160    55456   \n195        0  ...    14762    14871    14998    15090    15127    15226   \n196        0  ...    11120    11231    11296    11388    11521    11623   \n197        0  ...    86380    86380    86380    87072    87328    87590   \n198        0  ...   297512   298025   298025   298903   299233   299659   \n199        0  ...    94914    95596    96305    97043    97578    98407   \n200        0  ...      471      479      488      497      497      503   \n201        0  ...    19959    20654    21871    22486    23353    24214   \n202        0  ...   657129   670145   676848   683702   689977   691575   \n203        0  ...   228403   232072   234570   237365   238727   241987   \n204        0  ...    69129    69820    70387    70824    71126    71526   \n205        0  ...    59051    59457    59943    60258    60507    60895   \n206        0  ...   119420   119637   119864   120095   120348   120579   \n207        0  ...    91256    92595    93864    95014    95897    97033   \n208        0  ...  1006923  1011987  1017131  1022228  1027334  1032354   \n209        0  ...     4255     4304     4349     4374     4409     4439   \n210        0  ...       17       17       17       17       17       17   \n211        0  ...       26       26       26       26       26       26   \n212        0  ...       61       61       61       61       62       62   \n213        0  ...      735      735      716      716      716      716   \n214        0  ...      897      897      898      898      898      898   \n215        0  ...   318319   319141   319932   320688   321456   322237   \n216        0  ...    13826    13881    13948    13987    14014    14044   \n217        0  ...    31676    31772    31849    31905    31941    31994   \n218        0  ...      136      136      136      136      137      137   \n219        0  ...     2035     2041     2041     2054     2055     2064   \n220        5  ...    56908    56948    56982    57022    57044    57091   \n221        0  ...     4163     4300     4526     4614     4636     4727   \n222        0  ...     3032     3079     3122     3165     3190     3232   \n223        0  ...     3310     3332     3332     3362     3362     3371   \n224        0  ...   633015   635078   636884   638517   639362   640441   \n225        0  ...     2533     2536     2544     2544     2545     2552   \n226        0  ...   488513   498989   498989   498989   525549   534513   \n227        1  ...     3111     3115     3121     3123     3123     3140   \n228        0  ...    13189    13189    13407    13437    13437    13437   \n229        0  ...     4215     4252     4320     4346     4360     4419   \n230        0  ...    84729    84985    84985    84985    85558    85707   \n231        0  ...    43127    43532    43957    44401    44592    44837   \n232        0  ...     2973     3041     3104     3171     3229     3289   \n233        5  ...      489      490      492      493      494      495   \n234        0  ...     8690     8724     8757     8792     8824     8860   \n235        0  ...      509      509      509      509      509      509   \n236        8  ...     3431     3431     3444     3445     3446     3447   \n237        0  ...       27       27       27       27       27       27   \n238        0  ...     1443     1457     1477     1488     1493     1513   \n239        0  ...     1984     2040     2230     2250     2277     2391   \n240        0  ...     4394     4542     4776     5041     5124     5417   \n241        0  ...   274943   276555   278228   279806   281509   283270   \n242        5  ...  6150016  6200518  6244970  6276365  6300622  6327009   \n243        0  ...     3288     3353     3539     3667     3776     3900   \n244        0  ...   131300   134069   136966   139171   141424   143914   \n245        0  ...    72154    72766    73471    73984    74454    75098   \n246        0  ...        3        3        3        3        3        3   \n247        0  ...      174      175      175      175      175      175   \n248        0  ...       47       63       63       63       63       63   \n249        0  ...      205      205      205      205      205      205   \n250        0  ...      631      631      631      626      628      629   \n251        0  ...       13       13       13       13       13       13   \n252        0  ...      298      305      312      315      315      320   \n253        0  ...      336      336      336      337      337      337   \n254        0  ...       13       13       13       13       13       13   \n255        0  ...      577      591      598      598      599      614   \n256        0  ...   340411   342351   344164   347152   350100   352560   \n257        0  ...     1636     1653     1669     1679     1693     1712   \n258        0  ...    42688    42998    43293    43587    43893    44281   \n259        0  ...    49877    50973    52165    53289    54350    55563   \n260        2  ...     1046     1049     1049     1049     1049     1054   \n261        0  ...    24471    25142    25575    26127    26779    27363   \n262        0  ...       10       10       10       10       10       10   \n263        0  ...     1979     1983     1983     1987     1989     1994   \n264        0  ...    12523    12639    12709    12776    12836    12952   \n265        0  ...     6678     6837     6837     6837     7298     7388   \n\n      9/9/20  9/10/20  9/11/20  9/12/20  \n0      38544    38572    38606    38641  \n1      10704    10860    11021    11185  \n2      47216    47488    47752    48007  \n3       1301     1301     1344     1344  \n4       3092     3217     3279     3335  \n5         95       95       95       95  \n6     512293   524198   535705   546481  \n7      45152    45326    45503    45675  \n8        113      113      113      113  \n9       4142     4152     4157     4166  \n10        33       33       33       33  \n11      1143     1145     1149     1149  \n12       465      465      466      466  \n13       230      230      230      230  \n14     19739    19767    19800    19835  \n15       659      659      659      659  \n16     30583    31247    31827    32696  \n17     37732    37874    38037    38172  \n18      2721     2721     2814     2928  \n19     57450    58207    58839    59586  \n20    331078   332970   334762   336044  \n21       180      180      180      180  \n22     73402    73591    73784    73975  \n23     89691    90568    91537    92478  \n24      1365     1365     1435     1458  \n25      2242     2242     2242     2242  \n26       234      238      241      244  \n27    123345   124205   125172   125982  \n28     22258    22544    22834    23138  \n29      2126     2252     2252     2252  \n30   4197889  4238446  4282164  4315687  \n31       145      145      145      145  \n32     17435    17598    17799    17891  \n33      1476     1486     1499     1514  \n34      2009     2150     2422     2796  \n35       466      469      469      471  \n36      4473     4557     4651     4711  \n37       274      274      274      275  \n38     19848    20009    20009    20009  \n39     15093    15304    15415    15415  \n40      6591     6830     6962     6962  \n41         0        0        0        0  \n42        13       13       13       13  \n43      1365     1378     1393     1410  \n44       192      193      193      193  \n45       270      270      270      271  \n46         5        5        5        5  \n47      1086     1086     1086     1086  \n48     45724    45887    46118    46323  \n49        55       55       55       55  \n50     64056    64244    64463    64707  \n51      1670     1676     1688     1709  \n52        15       15       15       15  \n53      4736     4747     4749     4749  \n54      1048     1051     1081     1083  \n55    427027   428669   430535   432666  \n56       991      991      991      991  \n57       935      935      935      935  \n58       584      584      584      584  \n59       387      387      388      388  \n60       170      170      170      170  \n61      1770     1774     1776     1777  \n62       257      257      257      258  \n63       147      147      147      147  \n64       171      171      171      171  \n65       365      365      365      365  \n66       948      948      948      948  \n67      1276     1276     1276     1277  \n68      4901     4913     4925     4938  \n69     68139    68139    68139    68139  \n70      1019     1019     1019     1019  \n71       261      261      261      261  \n72       665      665      665      665  \n73       935      935      935      935  \n74       157      157      157      157  \n75       263      264      264      264  \n76        46       46       46       46  \n77        75       75       75       75  \n78        18       18       18       18  \n79       378      379      380      381  \n80       831      831      831      831  \n81       929      937      939      942  \n82       203      203      203      203  \n83       664      665      665      665  \n84       233      233      233      234  \n85         1        1        1        1  \n86       902      902      902      902  \n87       201      201      201      201  \n88      1278     1278     1278     1280  \n89    686851   694664   702088   708964  \n90       456      456      456      456  \n91      4891     4891     4928     4928  \n92     10324    10343    10361    10385  \n93     51224    52549    53969    55454  \n94     18815    18869    18916    18916  \n95     12626    12917    13107    13368  \n96      4459     4551     4593     4653  \n97      1514     1517     1520     1523  \n98     31036    32413    33860    35401  \n99       415      415      416      418  \n100       14       14       14       14  \n101    18607    18924    19216    19557  \n102      712      712      712      712  \n103     5391     5394     5394     5394  \n104       22       24       24       24  \n105   100937   101716   102232   103092  \n106   112166   113206   114732   116451  \n107   100403   100557   100708   100856  \n108    26602    26688    26773    26851  \n109     4990     4990     4996     4996  \n110      341      361      361      361  \n111     2585     2600     2632     2655  \n112     4936     4994     5025     5050  \n113    61700    62578    63367    63888  \n114       32       32       32       32  \n115     8430     8469     8512     8557  \n116     9418     9462     9494     9521  \n117      795      857      953      953  \n118     2287     2287     2287     3080  \n119      939      939      939      939  \n120     3374     3374     3374     3374  \n121       26       26       26       26  \n122     2416     2510     2623     2723  \n123       21       21       21       21  \n124        9       10       10       11  \n125      256      256      256      256  \n126   363751   372501   381907   381907  \n127     8621     8621     8643     8643  \n128     3293     3330     3362     3376  \n129     1773     1830     1917     2075  \n130   256433   258149   259735   260817  \n131    45313    45313    45388    45434  \n132    12080    12452    12734    13036  \n133       24       24       24       24  \n134    79622    80306    81009    81658  \n135     9885     9946     9979    10020  \n136     2245     2275     2275     2275  \n137     1703     1750     1763     1812  \n138     8384     8429     8457     8478  \n139       12       12       12       12  \n140    65597    65802    66049    67136  \n141     9715    10191    10909    11825  \n142     2153     2157     2161     2162  \n143  4465863  4562414  4659984  4754356  \n144   203342   207203   210940   214746  \n145   393425   395488   397801   399940  \n146   273821   278418   282672   286778  \n147    30164    30360    30571    30730  \n148   141097   145526   148564   152722  \n149   281583   283180   284796   286297  \n150     3437     3511     3511     3623  \n151    73264    73916    74558    75206  \n152     2659     2739     2945     3062  \n153   106584   106661   106729   106803  \n154    35460    35603    35793    35969  \n155    21743    21919    22055    22176  \n156    12683    12683    12683    12683  \n157    92082    92822    93475    94211  \n158    44613    44684    44761    44828  \n159       22       22       23       23  \n160     1443     1448     1459     1464  \n161    21877    22437    22983    23669  \n162     1164     1164     1245     1245  \n163     1313     1315     1315     1316  \n164    20462    20939    21908    22348  \n165      108      109      109      111  \n166     3163     3199     3243     3296  \n167     7023     7088     7088     7159  \n168        9        9        9        9  \n169    15520    15624    15669    15737  \n170     5653     5655     5669     5678  \n171     9583     9628     9810     9868  \n172     8834     8900     8990     9052  \n173     2898     2909     2912     2916  \n174     2162     2204     2247     2274  \n175     7191     7222     7266     7274  \n176      361      361      361      361  \n177   647321   652364   658299   663973  \n178    41144    41704    42183    42714  \n179      161      165      168      169  \n180      310      311      311      311  \n181     6094     6222     6385     6530  \n182    77878    79767    82197    84435  \n183     4764     4832     4918     5040  \n184     9108     9256     9437     9604  \n185    49219    50465    51919    53120  \n186     2730     2819     2898     2994  \n187       21       25       25       25  \n188      116      131      135      145  \n189      530      530      531      533  \n190    77688    78511    79781    81012  \n191     1792     1793     1795     1797  \n192     4818     4818     4818     4818  \n193     1178     1178     1178     1178  \n194    55632    55829    56017    56177  \n195    15293    15414    15555    15694  \n196    11746    11867    12003    12079  \n197    87939    88337    88337    88337  \n198   300030   300371   300955   301481  \n199    99042    99715   100330   101041  \n200      504      507      508      508  \n201    25026    25631    26512    27324  \n202   696190   702776   710067   716670  \n203   245143   248947   252964   257863  \n204    71947    72453    73047    73650  \n205    61541    62126    62813    63310  \n206   120846   121052   121287   121523  \n207    98304    99684   101075   102386  \n208  1037526  1042836  1048257  1053663  \n209     4460     4479     4534     4565  \n210       17       17       17       17  \n211       27       27       27       27  \n212       62       62       64       64  \n213      722      722      722      722  \n214      898      901      906      906  \n215   323012   323720   324407   325050  \n216    14102    14150    14193    14237  \n217    32078    32136    32228    32300  \n218      137      137      138      139  \n219     2067     2069     2087     2096  \n220    57166    57229    57315    57357  \n221     4888     5066     5252     5453  \n222     3312     3389     3497     3603  \n223     3371     3371     3376     3376  \n224   642431   644438   646398   648214  \n225     2555     2555     2568     2578  \n226   543379   554143   566326   566326  \n227     3147     3155     3169     3195  \n228    13437    13437    13470    13470  \n229     4447     4477     4529     4579  \n230    85880    86194    86505    86505  \n231    45306    45711    46239    46704  \n232     3351     3416     3476     3506  \n233      495      496      498      498  \n234     8899     8939     8977     9014  \n235      509      509      509      509  \n236     3454     3461     3461     3473  \n237       27       27       27       27  \n238     1528     1537     1548     1555  \n239     2588     2698     2825     2993  \n240     5417     5882     6259     6635  \n241   284943   286455   288126   289635  \n242  6360212  6396100  6443652  6485123  \n243     4101     4291     4377     4703  \n244   146511   149146   152373   155558  \n245    75981    76911    77842    78849  \n246        3        3        3        3  \n247      177      177      177      177  \n248       63       63       63       66  \n249      207      208      208      208  \n250      631      631      633      633  \n251       13       13       13       13  \n252      322      323      323      327  \n253      337      337      337      337  \n254       13       13       13       13  \n255      628      638      641      641  \n256   355219   358138   361677   365174  \n257     1741     1759     1773     1780  \n258    44930    45473    46160    46721  \n259    56751    57823    58663    59630  \n260     1059     1059     1060     1060  \n261    27919    28664    29256    29906  \n262       10       10       10       10  \n263     1999     2003     2007     2009  \n264    13112    13214    13323    13466  \n265     7429     7453     7479     7508  \n\n[266 rows x 239 columns]",
      "text/html": "<div>\n<style scoped>\n    .dataframe tbody tr th:only-of-type {\n        vertical-align: middle;\n    }\n\n    .dataframe tbody tr th {\n        vertical-align: top;\n    }\n\n    .dataframe thead th {\n        text-align: right;\n    }\n</style>\n<table border=\"1\" class=\"dataframe\">\n  <thead>\n    <tr style=\"text-align: right;\">\n      <th></th>\n      <th>Province/State</th>\n      <th>Country/Region</th>\n      <th>Lat</th>\n      <th>Long</th>\n      <th>1/22/20</th>\n      <th>1/23/20</th>\n      <th>1/24/20</th>\n      <th>1/25/20</th>\n      <th>1/26/20</th>\n      <th>1/27/20</th>\n      <th>...</th>\n      <th>9/3/20</th>\n      <th>9/4/20</th>\n      <th>9/5/20</th>\n      <th>9/6/20</th>\n      <th>9/7/20</th>\n      <th>9/8/20</th>\n      <th>9/9/20</th>\n      <th>9/10/20</th>\n      <th>9/11/20</th>\n      <th>9/12/20</th>\n    </tr>\n  </thead>\n  <tbody>\n    <tr>\n      <th>0</th>\n      <td>NaN</td>\n      <td>Afghanistan</td>\n      <td>33.939110</td>\n      <td>67.709953</td>\n      <td>0</td>\n      <td>0</td>\n      <td>0</td>\n      <td>0</td>\n      <td>0</td>\n      <td>0</td>\n      <td>...</td>\n      <td>38288</td>\n      <td>38304</td>\n      <td>38324</td>\n      <td>38398</td>\n      <td>38494</td>\n      <td>38520</td>\n      <td>38544</td>\n      <td>38572</td>\n      <td>38606</td>\n      <td>38641</td>\n    </tr>\n    <tr>\n      <th>1</th>\n      <td>NaN</td>\n      <td>Albania</td>\n      <td>41.153300</td>\n      <td>20.168300</td>\n      <td>0</td>\n      <td>0</td>\n      <td>0</td>\n      <td>0</td>\n      <td>0</td>\n      <td>0</td>\n      <td>...</td>\n      <td>9844</td>\n      <td>9967</td>\n      <td>10102</td>\n      <td>10255</td>\n      <td>10406</td>\n      <td>10553</td>\n      <td>10704</td>\n      <td>10860</td>\n      <td>11021</td>\n      <td>11185</td>\n    </tr>\n    <tr>\n      <th>2</th>\n      <td>NaN</td>\n      <td>Algeria</td>\n      <td>28.033900</td>\n      <td>1.659600</td>\n      <td>0</td>\n      <td>0</td>\n      <td>0</td>\n      <td>0</td>\n      <td>0</td>\n      <td>0</td>\n      <td>...</td>\n      <td>45469</td>\n      <td>45773</td>\n      <td>46071</td>\n      <td>46364</td>\n      <td>46653</td>\n      <td>46938</td>\n      <td>47216</td>\n      <td>47488</td>\n      <td>47752</td>\n      <td>48007</td>\n    </tr>\n    <tr>\n      <th>3</th>\n      <td>NaN</td>\n      <td>Andorra</td>\n      <td>42.506300</td>\n      <td>1.521800</td>\n      <td>0</td>\n      <td>0</td>\n      <td>0</td>\n      <td>0</td>\n      <td>0</td>\n      <td>0</td>\n      <td>...</td>\n      <td>1199</td>\n      <td>1215</td>\n      <td>1215</td>\n      <td>1215</td>\n      <td>1261</td>\n      <td>1261</td>\n      <td>1301</td>\n      <td>1301</td>\n      <td>1344</td>\n      <td>1344</td>\n    </tr>\n    <tr>\n      <th>4</th>\n      <td>NaN</td>\n      <td>Angola</td>\n      <td>-11.202700</td>\n      <td>17.873900</td>\n      <td>0</td>\n      <td>0</td>\n      <td>0</td>\n      <td>0</td>\n      <td>0</td>\n      <td>0</td>\n      <td>...</td>\n      <td>2805</td>\n      <td>2876</td>\n      <td>2935</td>\n      <td>2965</td>\n      <td>2981</td>\n      <td>3033</td>\n      <td>3092</td>\n      <td>3217</td>\n      <td>3279</td>\n      <td>3335</td>\n    </tr>\n    <tr>\n      <th>5</th>\n      <td>NaN</td>\n      <td>Antigua and Barbuda</td>\n      <td>17.060800</td>\n      <td>-61.796400</td>\n      <td>0</td>\n      <td>0</td>\n      <td>0</td>\n      <td>0</td>\n      <td>0</td>\n      <td>0</td>\n      <td>...</td>\n      <td>95</td>\n      <td>95</td>\n      <td>95</td>\n      <td>95</td>\n      <td>95</td>\n      <td>95</td>\n      <td>95</td>\n      <td>95</td>\n      <td>95</td>\n      <td>95</td>\n    </tr>\n    <tr>\n      <th>6</th>\n      <td>NaN</td>\n      <td>Argentina</td>\n      <td>-38.416100</td>\n      <td>-63.616700</td>\n      <td>0</td>\n      <td>0</td>\n      <td>0</td>\n      <td>0</td>\n      <td>0</td>\n      <td>0</td>\n      <td>...</td>\n      <td>451198</td>\n      <td>461882</td>\n      <td>471806</td>\n      <td>478792</td>\n      <td>488007</td>\n      <td>500034</td>\n      <td>512293</td>\n      <td>524198</td>\n      <td>535705</td>\n      <td>546481</td>\n    </tr>\n    <tr>\n      <th>7</th>\n      <td>NaN</td>\n      <td>Armenia</td>\n      <td>40.069100</td>\n      <td>45.038200</td>\n      <td>0</td>\n      <td>0</td>\n      <td>0</td>\n      <td>0</td>\n      <td>0</td>\n      <td>0</td>\n      <td>...</td>\n      <td>44271</td>\n      <td>44461</td>\n      <td>44649</td>\n      <td>44783</td>\n      <td>44845</td>\n      <td>44953</td>\n      <td>45152</td>\n      <td>45326</td>\n      <td>45503</td>\n      <td>45675</td>\n    </tr>\n    <tr>\n      <th>8</th>\n      <td>Australian Capital Territory</td>\n      <td>Australia</td>\n      <td>-35.473500</td>\n      <td>149.012400</td>\n      <td>0</td>\n      <td>0</td>\n      <td>0</td>\n      <td>0</td>\n      <td>0</td>\n      <td>0</td>\n      <td>...</td>\n      <td>113</td>\n      <td>113</td>\n      <td>113</td>\n      <td>113</td>\n      <td>113</td>\n      <td>113</td>\n      <td>113</td>\n      <td>113</td>\n      <td>113</td>\n      <td>113</td>\n    </tr>\n    <tr>\n      <th>9</th>\n      <td>New South Wales</td>\n      <td>Australia</td>\n      <td>-33.868800</td>\n      <td>151.209300</td>\n      <td>0</td>\n      <td>0</td>\n      <td>0</td>\n      <td>0</td>\n      <td>3</td>\n      <td>4</td>\n      <td>...</td>\n      <td>4099</td>\n      <td>4104</td>\n      <td>4114</td>\n      <td>4118</td>\n      <td>4126</td>\n      <td>4135</td>\n      <td>4142</td>\n      <td>4152</td>\n      <td>4157</td>\n      <td>4166</td>\n    </tr>\n    <tr>\n      <th>10</th>\n      <td>Northern Territory</td>\n      <td>Australia</td>\n      <td>-12.463400</td>\n      <td>130.845600</td>\n      <td>0</td>\n      <td>0</td>\n      <td>0</td>\n      <td>0</td>\n      <td>0</td>\n      <td>0</td>\n      <td>...</td>\n      <td>33</td>\n      <td>33</td>\n      <td>33</td>\n      <td>33</td>\n      <td>33</td>\n      <td>33</td>\n      <td>33</td>\n      <td>33</td>\n      <td>33</td>\n      <td>33</td>\n    </tr>\n    <tr>\n      <th>11</th>\n      <td>Queensland</td>\n      <td>Australia</td>\n      <td>-27.469800</td>\n      <td>153.025100</td>\n      <td>0</td>\n      <td>0</td>\n      <td>0</td>\n      <td>0</td>\n      <td>0</td>\n      <td>0</td>\n      <td>...</td>\n      <td>1128</td>\n      <td>1129</td>\n      <td>1131</td>\n      <td>1133</td>\n      <td>1134</td>\n      <td>1143</td>\n      <td>1143</td>\n      <td>1145</td>\n      <td>1149</td>\n      <td>1149</td>\n    </tr>\n    <tr>\n      <th>12</th>\n      <td>South Australia</td>\n      <td>Australia</td>\n      <td>-34.928500</td>\n      <td>138.600700</td>\n      <td>0</td>\n      <td>0</td>\n      <td>0</td>\n      <td>0</td>\n      <td>0</td>\n      <td>0</td>\n      <td>...</td>\n      <td>463</td>\n      <td>463</td>\n      <td>464</td>\n      <td>464</td>\n      <td>464</td>\n      <td>465</td>\n      <td>465</td>\n      <td>465</td>\n      <td>466</td>\n      <td>466</td>\n    </tr>\n    <tr>\n      <th>13</th>\n      <td>Tasmania</td>\n      <td>Australia</td>\n      <td>-42.882100</td>\n      <td>147.327200</td>\n      <td>0</td>\n      <td>0</td>\n      <td>0</td>\n      <td>0</td>\n      <td>0</td>\n      <td>0</td>\n      <td>...</td>\n      <td>230</td>\n      <td>231</td>\n      <td>230</td>\n      <td>230</td>\n      <td>230</td>\n      <td>230</td>\n      <td>230</td>\n      <td>230</td>\n      <td>230</td>\n      <td>230</td>\n    </tr>\n    <tr>\n      <th>14</th>\n      <td>Victoria</td>\n      <td>Australia</td>\n      <td>-37.813600</td>\n      <td>144.963100</td>\n      <td>0</td>\n      <td>0</td>\n      <td>0</td>\n      <td>0</td>\n      <td>1</td>\n      <td>1</td>\n      <td>...</td>\n      <td>19415</td>\n      <td>19479</td>\n      <td>19538</td>\n      <td>19574</td>\n      <td>19615</td>\n      <td>19688</td>\n      <td>19739</td>\n      <td>19767</td>\n      <td>19800</td>\n      <td>19835</td>\n    </tr>\n    <tr>\n      <th>15</th>\n      <td>Western Australia</td>\n      <td>Australia</td>\n      <td>-31.950500</td>\n      <td>115.860500</td>\n      <td>0</td>\n      <td>0</td>\n      <td>0</td>\n      <td>0</td>\n      <td>0</td>\n      <td>0</td>\n      <td>...</td>\n      <td>655</td>\n      <td>655</td>\n      <td>655</td>\n      <td>656</td>\n      <td>658</td>\n      <td>658</td>\n      <td>659</td>\n      <td>659</td>\n      <td>659</td>\n      <td>659</td>\n    </tr>\n    <tr>\n      <th>16</th>\n      <td>NaN</td>\n      <td>Austria</td>\n      <td>47.516200</td>\n      <td>14.550100</td>\n      <td>0</td>\n      <td>0</td>\n      <td>0</td>\n      <td>0</td>\n      <td>0</td>\n      <td>0</td>\n      <td>...</td>\n      <td>28372</td>\n      <td>28729</td>\n      <td>29087</td>\n      <td>29271</td>\n      <td>29561</td>\n      <td>30081</td>\n      <td>30583</td>\n      <td>31247</td>\n      <td>31827</td>\n      <td>32696</td>\n    </tr>\n    <tr>\n      <th>17</th>\n      <td>NaN</td>\n      <td>Azerbaijan</td>\n      <td>40.143100</td>\n      <td>47.576900</td>\n      <td>0</td>\n      <td>0</td>\n      <td>0</td>\n      <td>0</td>\n      <td>0</td>\n      <td>0</td>\n      <td>...</td>\n      <td>36899</td>\n      <td>37031</td>\n      <td>37192</td>\n      <td>37329</td>\n      <td>37418</td>\n      <td>37557</td>\n      <td>37732</td>\n      <td>37874</td>\n      <td>38037</td>\n      <td>38172</td>\n    </tr>\n    <tr>\n      <th>18</th>\n      <td>NaN</td>\n      <td>Bahamas</td>\n      <td>25.025885</td>\n      <td>-78.035889</td>\n      <td>0</td>\n      <td>0</td>\n      <td>0</td>\n      <td>0</td>\n      <td>0</td>\n      <td>0</td>\n      <td>...</td>\n      <td>2386</td>\n      <td>2386</td>\n      <td>2476</td>\n      <td>2506</td>\n      <td>2546</td>\n      <td>2585</td>\n      <td>2721</td>\n      <td>2721</td>\n      <td>2814</td>\n      <td>2928</td>\n    </tr>\n    <tr>\n      <th>19</th>\n      <td>NaN</td>\n      <td>Bahrain</td>\n      <td>26.027500</td>\n      <td>50.550000</td>\n      <td>0</td>\n      <td>0</td>\n      <td>0</td>\n      <td>0</td>\n      <td>0</td>\n      <td>0</td>\n      <td>...</td>\n      <td>53433</td>\n      <td>54095</td>\n      <td>54771</td>\n      <td>55415</td>\n      <td>56076</td>\n      <td>56778</td>\n      <td>57450</td>\n      <td>58207</td>\n      <td>58839</td>\n      <td>59586</td>\n    </tr>\n    <tr>\n      <th>20</th>\n      <td>NaN</td>\n      <td>Bangladesh</td>\n      <td>23.685000</td>\n      <td>90.356300</td>\n      <td>0</td>\n      <td>0</td>\n      <td>0</td>\n      <td>0</td>\n      <td>0</td>\n      <td>0</td>\n      <td>...</td>\n      <td>319686</td>\n      <td>321615</td>\n      <td>323565</td>\n      <td>325157</td>\n      <td>327359</td>\n      <td>329251</td>\n      <td>331078</td>\n      <td>332970</td>\n      <td>334762</td>\n      <td>336044</td>\n    </tr>\n    <tr>\n      <th>21</th>\n      <td>NaN</td>\n      <td>Barbados</td>\n      <td>13.193900</td>\n      <td>-59.543200</td>\n      <td>0</td>\n      <td>0</td>\n      <td>0</td>\n      <td>0</td>\n      <td>0</td>\n      <td>0</td>\n      <td>...</td>\n      <td>177</td>\n      <td>178</td>\n      <td>178</td>\n      <td>178</td>\n      <td>179</td>\n      <td>180</td>\n      <td>180</td>\n      <td>180</td>\n      <td>180</td>\n      <td>180</td>\n    </tr>\n    <tr>\n      <th>22</th>\n      <td>NaN</td>\n      <td>Belarus</td>\n      <td>53.709800</td>\n      <td>27.953400</td>\n      <td>0</td>\n      <td>0</td>\n      <td>0</td>\n      <td>0</td>\n      <td>0</td>\n      <td>0</td>\n      <td>...</td>\n      <td>72302</td>\n      <td>72485</td>\n      <td>72663</td>\n      <td>72859</td>\n      <td>73031</td>\n      <td>73208</td>\n      <td>73402</td>\n      <td>73591</td>\n      <td>73784</td>\n      <td>73975</td>\n    </tr>\n    <tr>\n      <th>23</th>\n      <td>NaN</td>\n      <td>Belgium</td>\n      <td>50.833300</td>\n      <td>4.469936</td>\n      <td>0</td>\n      <td>0</td>\n      <td>0</td>\n      <td>0</td>\n      <td>0</td>\n      <td>0</td>\n      <td>...</td>\n      <td>86544</td>\n      <td>87174</td>\n      <td>87825</td>\n      <td>88367</td>\n      <td>88769</td>\n      <td>89141</td>\n      <td>89691</td>\n      <td>90568</td>\n      <td>91537</td>\n      <td>92478</td>\n    </tr>\n    <tr>\n      <th>24</th>\n      <td>NaN</td>\n      <td>Belize</td>\n      <td>17.189900</td>\n      <td>-88.497600</td>\n      <td>0</td>\n      <td>0</td>\n      <td>0</td>\n      <td>0</td>\n      <td>0</td>\n      <td>0</td>\n      <td>...</td>\n      <td>1101</td>\n      <td>1152</td>\n      <td>1194</td>\n      <td>1194</td>\n      <td>1307</td>\n      <td>1361</td>\n      <td>1365</td>\n      <td>1365</td>\n      <td>1435</td>\n      <td>1458</td>\n    </tr>\n    <tr>\n      <th>25</th>\n      <td>NaN</td>\n      <td>Benin</td>\n      <td>9.307700</td>\n      <td>2.315800</td>\n      <td>0</td>\n      <td>0</td>\n      <td>0</td>\n      <td>0</td>\n      <td>0</td>\n      <td>0</td>\n      <td>...</td>\n      <td>2194</td>\n      <td>2194</td>\n      <td>2213</td>\n      <td>2213</td>\n      <td>2213</td>\n      <td>2213</td>\n      <td>2242</td>\n      <td>2242</td>\n      <td>2242</td>\n      <td>2242</td>\n    </tr>\n    <tr>\n      <th>26</th>\n      <td>NaN</td>\n      <td>Bhutan</td>\n      <td>27.514200</td>\n      <td>90.433600</td>\n      <td>0</td>\n      <td>0</td>\n      <td>0</td>\n      <td>0</td>\n      <td>0</td>\n      <td>0</td>\n      <td>...</td>\n      <td>227</td>\n      <td>228</td>\n      <td>228</td>\n      <td>228</td>\n      <td>233</td>\n      <td>234</td>\n      <td>234</td>\n      <td>238</td>\n      <td>241</td>\n      <td>244</td>\n    </tr>\n    <tr>\n      <th>27</th>\n      <td>NaN</td>\n      <td>Bolivia</td>\n      <td>-16.290200</td>\n      <td>-63.588700</td>\n      <td>0</td>\n      <td>0</td>\n      <td>0</td>\n      <td>0</td>\n      <td>0</td>\n      <td>0</td>\n      <td>...</td>\n      <td>118781</td>\n      <td>119580</td>\n      <td>120241</td>\n      <td>120769</td>\n      <td>121604</td>\n      <td>122308</td>\n      <td>123345</td>\n      <td>124205</td>\n      <td>125172</td>\n      <td>125982</td>\n    </tr>\n    <tr>\n      <th>28</th>\n      <td>NaN</td>\n      <td>Bosnia and Herzegovina</td>\n      <td>43.915900</td>\n      <td>17.679100</td>\n      <td>0</td>\n      <td>0</td>\n      <td>0</td>\n      <td>0</td>\n      <td>0</td>\n      <td>0</td>\n      <td>...</td>\n      <td>20804</td>\n      <td>21142</td>\n      <td>21439</td>\n      <td>21560</td>\n      <td>21660</td>\n      <td>21961</td>\n      <td>22258</td>\n      <td>22544</td>\n      <td>22834</td>\n      <td>23138</td>\n    </tr>\n    <tr>\n      <th>29</th>\n      <td>NaN</td>\n      <td>Botswana</td>\n      <td>-22.328500</td>\n      <td>24.684900</td>\n      <td>0</td>\n      <td>0</td>\n      <td>0</td>\n      <td>0</td>\n      <td>0</td>\n      <td>0</td>\n      <td>...</td>\n      <td>1724</td>\n      <td>2002</td>\n      <td>2002</td>\n      <td>2002</td>\n      <td>2126</td>\n      <td>2126</td>\n      <td>2126</td>\n      <td>2252</td>\n      <td>2252</td>\n      <td>2252</td>\n    </tr>\n    <tr>\n      <th>30</th>\n      <td>NaN</td>\n      <td>Brazil</td>\n      <td>-14.235000</td>\n      <td>-51.925300</td>\n      <td>0</td>\n      <td>0</td>\n      <td>0</td>\n      <td>0</td>\n      <td>0</td>\n      <td>0</td>\n      <td>...</td>\n      <td>4041638</td>\n      <td>4091801</td>\n      <td>4123000</td>\n      <td>4137521</td>\n      <td>4147794</td>\n      <td>4162073</td>\n      <td>4197889</td>\n      <td>4238446</td>\n      <td>4282164</td>\n      <td>4315687</td>\n    </tr>\n    <tr>\n      <th>31</th>\n      <td>NaN</td>\n      <td>Brunei</td>\n      <td>4.535300</td>\n      <td>114.727700</td>\n      <td>0</td>\n      <td>0</td>\n      <td>0</td>\n      <td>0</td>\n      <td>0</td>\n      <td>0</td>\n      <td>...</td>\n      <td>145</td>\n      <td>145</td>\n      <td>145</td>\n      <td>145</td>\n      <td>145</td>\n      <td>145</td>\n      <td>145</td>\n      <td>145</td>\n      <td>145</td>\n      <td>145</td>\n    </tr>\n    <tr>\n      <th>32</th>\n      <td>NaN</td>\n      <td>Bulgaria</td>\n      <td>42.733900</td>\n      <td>25.485800</td>\n      <td>0</td>\n      <td>0</td>\n      <td>0</td>\n      <td>0</td>\n      <td>0</td>\n      <td>0</td>\n      <td>...</td>\n      <td>16775</td>\n      <td>16954</td>\n      <td>17050</td>\n      <td>17089</td>\n      <td>17146</td>\n      <td>17313</td>\n      <td>17435</td>\n      <td>17598</td>\n      <td>17799</td>\n      <td>17891</td>\n    </tr>\n    <tr>\n      <th>33</th>\n      <td>NaN</td>\n      <td>Burkina Faso</td>\n      <td>12.238300</td>\n      <td>-1.561600</td>\n      <td>0</td>\n      <td>0</td>\n      <td>0</td>\n      <td>0</td>\n      <td>0</td>\n      <td>0</td>\n      <td>...</td>\n      <td>1375</td>\n      <td>1408</td>\n      <td>1408</td>\n      <td>1452</td>\n      <td>1463</td>\n      <td>1466</td>\n      <td>1476</td>\n      <td>1486</td>\n      <td>1499</td>\n      <td>1514</td>\n    </tr>\n    <tr>\n      <th>34</th>\n      <td>NaN</td>\n      <td>Burma</td>\n      <td>21.916200</td>\n      <td>95.956000</td>\n      <td>0</td>\n      <td>0</td>\n      <td>0</td>\n      <td>0</td>\n      <td>0</td>\n      <td>0</td>\n      <td>...</td>\n      <td>1111</td>\n      <td>1171</td>\n      <td>1319</td>\n      <td>1419</td>\n      <td>1518</td>\n      <td>1807</td>\n      <td>2009</td>\n      <td>2150</td>\n      <td>2422</td>\n      <td>2796</td>\n    </tr>\n    <tr>\n      <th>35</th>\n      <td>NaN</td>\n      <td>Burundi</td>\n      <td>-3.373100</td>\n      <td>29.918900</td>\n      <td>0</td>\n      <td>0</td>\n      <td>0</td>\n      <td>0</td>\n      <td>0</td>\n      <td>0</td>\n      <td>...</td>\n      <td>448</td>\n      <td>451</td>\n      <td>460</td>\n      <td>462</td>\n      <td>466</td>\n      <td>466</td>\n      <td>466</td>\n      <td>469</td>\n      <td>469</td>\n      <td>471</td>\n    </tr>\n    <tr>\n      <th>36</th>\n      <td>NaN</td>\n      <td>Cabo Verde</td>\n      <td>16.538800</td>\n      <td>-23.041800</td>\n      <td>0</td>\n      <td>0</td>\n      <td>0</td>\n      <td>0</td>\n      <td>0</td>\n      <td>0</td>\n      <td>...</td>\n      <td>4125</td>\n      <td>4200</td>\n      <td>4275</td>\n      <td>4330</td>\n      <td>4358</td>\n      <td>4400</td>\n      <td>4473</td>\n      <td>4557</td>\n      <td>4651</td>\n      <td>4711</td>\n    </tr>\n    <tr>\n      <th>37</th>\n      <td>NaN</td>\n      <td>Cambodia</td>\n      <td>11.550000</td>\n      <td>104.916700</td>\n      <td>0</td>\n      <td>0</td>\n      <td>0</td>\n      <td>0</td>\n      <td>0</td>\n      <td>1</td>\n      <td>...</td>\n      <td>274</td>\n      <td>274</td>\n      <td>274</td>\n      <td>274</td>\n      <td>274</td>\n      <td>274</td>\n      <td>274</td>\n      <td>274</td>\n      <td>274</td>\n      <td>275</td>\n    </tr>\n    <tr>\n      <th>38</th>\n      <td>NaN</td>\n      <td>Cameroon</td>\n      <td>3.848000</td>\n      <td>11.502100</td>\n      <td>0</td>\n      <td>0</td>\n      <td>0</td>\n      <td>0</td>\n      <td>0</td>\n      <td>0</td>\n      <td>...</td>\n      <td>19604</td>\n      <td>19604</td>\n      <td>19604</td>\n      <td>19604</td>\n      <td>19604</td>\n      <td>19848</td>\n      <td>19848</td>\n      <td>20009</td>\n      <td>20009</td>\n      <td>20009</td>\n    </tr>\n    <tr>\n      <th>39</th>\n      <td>Alberta</td>\n      <td>Canada</td>\n      <td>53.933300</td>\n      <td>-116.576500</td>\n      <td>0</td>\n      <td>0</td>\n      <td>0</td>\n      <td>0</td>\n      <td>0</td>\n      <td>0</td>\n      <td>...</td>\n      <td>14310</td>\n      <td>14474</td>\n      <td>14474</td>\n      <td>14474</td>\n      <td>14474</td>\n      <td>15093</td>\n      <td>15093</td>\n      <td>15304</td>\n      <td>15415</td>\n      <td>15415</td>\n    </tr>\n    <tr>\n      <th>40</th>\n      <td>British Columbia</td>\n      <td>Canada</td>\n      <td>53.726700</td>\n      <td>-127.647600</td>\n      <td>0</td>\n      <td>0</td>\n      <td>0</td>\n      <td>0</td>\n      <td>0</td>\n      <td>0</td>\n      <td>...</td>\n      <td>6041</td>\n      <td>6162</td>\n      <td>6162</td>\n      <td>6162</td>\n      <td>6162</td>\n      <td>6591</td>\n      <td>6591</td>\n      <td>6830</td>\n      <td>6962</td>\n      <td>6962</td>\n    </tr>\n    <tr>\n      <th>41</th>\n      <td>Diamond Princess</td>\n      <td>Canada</td>\n      <td>0.000000</td>\n      <td>0.000000</td>\n      <td>0</td>\n      <td>0</td>\n      <td>0</td>\n      <td>0</td>\n      <td>0</td>\n      <td>0</td>\n      <td>...</td>\n      <td>0</td>\n      <td>0</td>\n      <td>0</td>\n      <td>0</td>\n      <td>0</td>\n      <td>0</td>\n      <td>0</td>\n      <td>0</td>\n      <td>0</td>\n      <td>0</td>\n    </tr>\n    <tr>\n      <th>42</th>\n      <td>Grand Princess</td>\n      <td>Canada</td>\n      <td>0.000000</td>\n      <td>0.000000</td>\n      <td>0</td>\n      <td>0</td>\n      <td>0</td>\n      <td>0</td>\n      <td>0</td>\n      <td>0</td>\n      <td>...</td>\n      <td>13</td>\n      <td>13</td>\n      <td>13</td>\n      <td>13</td>\n      <td>13</td>\n      <td>13</td>\n      <td>13</td>\n      <td>13</td>\n      <td>13</td>\n      <td>13</td>\n    </tr>\n    <tr>\n      <th>43</th>\n      <td>Manitoba</td>\n      <td>Canada</td>\n      <td>53.760900</td>\n      <td>-98.813900</td>\n      <td>0</td>\n      <td>0</td>\n      <td>0</td>\n      <td>0</td>\n      <td>0</td>\n      <td>0</td>\n      <td>...</td>\n      <td>1264</td>\n      <td>1273</td>\n      <td>1294</td>\n      <td>1323</td>\n      <td>1338</td>\n      <td>1349</td>\n      <td>1365</td>\n      <td>1378</td>\n      <td>1393</td>\n      <td>1410</td>\n    </tr>\n    <tr>\n      <th>44</th>\n      <td>New Brunswick</td>\n      <td>Canada</td>\n      <td>46.565300</td>\n      <td>-66.461900</td>\n      <td>0</td>\n      <td>0</td>\n      <td>0</td>\n      <td>0</td>\n      <td>0</td>\n      <td>0</td>\n      <td>...</td>\n      <td>192</td>\n      <td>192</td>\n      <td>192</td>\n      <td>192</td>\n      <td>192</td>\n      <td>192</td>\n      <td>192</td>\n      <td>193</td>\n      <td>193</td>\n      <td>193</td>\n    </tr>\n    <tr>\n      <th>45</th>\n      <td>Newfoundland and Labrador</td>\n      <td>Canada</td>\n      <td>53.135500</td>\n      <td>-57.660400</td>\n      <td>0</td>\n      <td>0</td>\n      <td>0</td>\n      <td>0</td>\n      <td>0</td>\n      <td>0</td>\n      <td>...</td>\n      <td>269</td>\n      <td>269</td>\n      <td>270</td>\n      <td>270</td>\n      <td>270</td>\n      <td>270</td>\n      <td>270</td>\n      <td>270</td>\n      <td>270</td>\n      <td>271</td>\n    </tr>\n    <tr>\n      <th>46</th>\n      <td>Northwest Territories</td>\n      <td>Canada</td>\n      <td>64.825500</td>\n      <td>-124.845700</td>\n      <td>0</td>\n      <td>0</td>\n      <td>0</td>\n      <td>0</td>\n      <td>0</td>\n      <td>0</td>\n      <td>...</td>\n      <td>5</td>\n      <td>5</td>\n      <td>5</td>\n      <td>5</td>\n      <td>5</td>\n      <td>5</td>\n      <td>5</td>\n      <td>5</td>\n      <td>5</td>\n      <td>5</td>\n    </tr>\n    <tr>\n      <th>47</th>\n      <td>Nova Scotia</td>\n      <td>Canada</td>\n      <td>44.682000</td>\n      <td>-63.744300</td>\n      <td>0</td>\n      <td>0</td>\n      <td>0</td>\n      <td>0</td>\n      <td>0</td>\n      <td>0</td>\n      <td>...</td>\n      <td>1085</td>\n      <td>1085</td>\n      <td>1085</td>\n      <td>1085</td>\n      <td>1086</td>\n      <td>1086</td>\n      <td>1086</td>\n      <td>1086</td>\n      <td>1086</td>\n      <td>1086</td>\n    </tr>\n    <tr>\n      <th>48</th>\n      <td>Ontario</td>\n      <td>Canada</td>\n      <td>51.253800</td>\n      <td>-85.323200</td>\n      <td>0</td>\n      <td>0</td>\n      <td>0</td>\n      <td>0</td>\n      <td>1</td>\n      <td>1</td>\n      <td>...</td>\n      <td>44720</td>\n      <td>44852</td>\n      <td>45019</td>\n      <td>45156</td>\n      <td>45314</td>\n      <td>45545</td>\n      <td>45724</td>\n      <td>45887</td>\n      <td>46118</td>\n      <td>46323</td>\n    </tr>\n    <tr>\n      <th>49</th>\n      <td>Prince Edward Island</td>\n      <td>Canada</td>\n      <td>46.510700</td>\n      <td>-63.416800</td>\n      <td>0</td>\n      <td>0</td>\n      <td>0</td>\n      <td>0</td>\n      <td>0</td>\n      <td>0</td>\n      <td>...</td>\n      <td>46</td>\n      <td>46</td>\n      <td>47</td>\n      <td>47</td>\n      <td>51</td>\n      <td>53</td>\n      <td>55</td>\n      <td>55</td>\n      <td>55</td>\n      <td>55</td>\n    </tr>\n    <tr>\n      <th>50</th>\n      <td>Quebec</td>\n      <td>Canada</td>\n      <td>52.939900</td>\n      <td>-73.549100</td>\n      <td>0</td>\n      <td>0</td>\n      <td>0</td>\n      <td>0</td>\n      <td>0</td>\n      <td>0</td>\n      <td>...</td>\n      <td>62933</td>\n      <td>63117</td>\n      <td>63292</td>\n      <td>63497</td>\n      <td>63713</td>\n      <td>63876</td>\n      <td>64056</td>\n      <td>64244</td>\n      <td>64463</td>\n      <td>64707</td>\n    </tr>\n    <tr>\n      <th>51</th>\n      <td>Saskatchewan</td>\n      <td>Canada</td>\n      <td>52.939900</td>\n      <td>-106.450900</td>\n      <td>0</td>\n      <td>0</td>\n      <td>0</td>\n      <td>0</td>\n      <td>0</td>\n      <td>0</td>\n      <td>...</td>\n      <td>1634</td>\n      <td>1638</td>\n      <td>1643</td>\n      <td>1651</td>\n      <td>1662</td>\n      <td>1669</td>\n      <td>1670</td>\n      <td>1676</td>\n      <td>1688</td>\n      <td>1709</td>\n    </tr>\n    <tr>\n      <th>52</th>\n      <td>Yukon</td>\n      <td>Canada</td>\n      <td>64.282300</td>\n      <td>-135.000000</td>\n      <td>0</td>\n      <td>0</td>\n      <td>0</td>\n      <td>0</td>\n      <td>0</td>\n      <td>0</td>\n      <td>...</td>\n      <td>15</td>\n      <td>15</td>\n      <td>15</td>\n      <td>15</td>\n      <td>15</td>\n      <td>15</td>\n      <td>15</td>\n      <td>15</td>\n      <td>15</td>\n      <td>15</td>\n    </tr>\n    <tr>\n      <th>53</th>\n      <td>NaN</td>\n      <td>Central African Republic</td>\n      <td>6.611100</td>\n      <td>20.939400</td>\n      <td>0</td>\n      <td>0</td>\n      <td>0</td>\n      <td>0</td>\n      <td>0</td>\n      <td>0</td>\n      <td>...</td>\n      <td>4729</td>\n      <td>4729</td>\n      <td>4729</td>\n      <td>4729</td>\n      <td>4729</td>\n      <td>4735</td>\n      <td>4736</td>\n      <td>4747</td>\n      <td>4749</td>\n      <td>4749</td>\n    </tr>\n    <tr>\n      <th>54</th>\n      <td>NaN</td>\n      <td>Chad</td>\n      <td>15.454200</td>\n      <td>18.732200</td>\n      <td>0</td>\n      <td>0</td>\n      <td>0</td>\n      <td>0</td>\n      <td>0</td>\n      <td>0</td>\n      <td>...</td>\n      <td>1018</td>\n      <td>1023</td>\n      <td>1034</td>\n      <td>1039</td>\n      <td>1040</td>\n      <td>1045</td>\n      <td>1048</td>\n      <td>1051</td>\n      <td>1081</td>\n      <td>1083</td>\n    </tr>\n    <tr>\n      <th>55</th>\n      <td>NaN</td>\n      <td>Chile</td>\n      <td>-35.675100</td>\n      <td>-71.543000</td>\n      <td>0</td>\n      <td>0</td>\n      <td>0</td>\n      <td>0</td>\n      <td>0</td>\n      <td>0</td>\n      <td>...</td>\n      <td>416501</td>\n      <td>418469</td>\n      <td>420434</td>\n      <td>422510</td>\n      <td>424274</td>\n      <td>425541</td>\n      <td>427027</td>\n      <td>428669</td>\n      <td>430535</td>\n      <td>432666</td>\n    </tr>\n    <tr>\n      <th>56</th>\n      <td>Anhui</td>\n      <td>China</td>\n      <td>31.825700</td>\n      <td>117.226400</td>\n      <td>1</td>\n      <td>9</td>\n      <td>15</td>\n      <td>39</td>\n      <td>60</td>\n      <td>70</td>\n      <td>...</td>\n      <td>991</td>\n      <td>991</td>\n      <td>991</td>\n      <td>991</td>\n      <td>991</td>\n      <td>991</td>\n      <td>991</td>\n      <td>991</td>\n      <td>991</td>\n      <td>991</td>\n    </tr>\n    <tr>\n      <th>57</th>\n      <td>Beijing</td>\n      <td>China</td>\n      <td>40.182400</td>\n      <td>116.414200</td>\n      <td>14</td>\n      <td>22</td>\n      <td>36</td>\n      <td>41</td>\n      <td>68</td>\n      <td>80</td>\n      <td>...</td>\n      <td>935</td>\n      <td>935</td>\n      <td>935</td>\n      <td>935</td>\n      <td>935</td>\n      <td>935</td>\n      <td>935</td>\n      <td>935</td>\n      <td>935</td>\n      <td>935</td>\n    </tr>\n    <tr>\n      <th>58</th>\n      <td>Chongqing</td>\n      <td>China</td>\n      <td>30.057200</td>\n      <td>107.874000</td>\n      <td>6</td>\n      <td>9</td>\n      <td>27</td>\n      <td>57</td>\n      <td>75</td>\n      <td>110</td>\n      <td>...</td>\n      <td>583</td>\n      <td>583</td>\n      <td>583</td>\n      <td>584</td>\n      <td>584</td>\n      <td>584</td>\n      <td>584</td>\n      <td>584</td>\n      <td>584</td>\n      <td>584</td>\n    </tr>\n    <tr>\n      <th>59</th>\n      <td>Fujian</td>\n      <td>China</td>\n      <td>26.078900</td>\n      <td>117.987400</td>\n      <td>1</td>\n      <td>5</td>\n      <td>10</td>\n      <td>18</td>\n      <td>35</td>\n      <td>59</td>\n      <td>...</td>\n      <td>384</td>\n      <td>385</td>\n      <td>386</td>\n      <td>386</td>\n      <td>387</td>\n      <td>387</td>\n      <td>387</td>\n      <td>387</td>\n      <td>388</td>\n      <td>388</td>\n    </tr>\n    <tr>\n      <th>60</th>\n      <td>Gansu</td>\n      <td>China</td>\n      <td>35.751800</td>\n      <td>104.286100</td>\n      <td>0</td>\n      <td>2</td>\n      <td>2</td>\n      <td>4</td>\n      <td>7</td>\n      <td>14</td>\n      <td>...</td>\n      <td>169</td>\n      <td>169</td>\n      <td>170</td>\n      <td>170</td>\n      <td>170</td>\n      <td>170</td>\n      <td>170</td>\n      <td>170</td>\n      <td>170</td>\n      <td>170</td>\n    </tr>\n    <tr>\n      <th>61</th>\n      <td>Guangdong</td>\n      <td>China</td>\n      <td>23.341700</td>\n      <td>113.424400</td>\n      <td>26</td>\n      <td>32</td>\n      <td>53</td>\n      <td>78</td>\n      <td>111</td>\n      <td>151</td>\n      <td>...</td>\n      <td>1758</td>\n      <td>1760</td>\n      <td>1763</td>\n      <td>1767</td>\n      <td>1769</td>\n      <td>1769</td>\n      <td>1770</td>\n      <td>1774</td>\n      <td>1776</td>\n      <td>1777</td>\n    </tr>\n    <tr>\n      <th>62</th>\n      <td>Guangxi</td>\n      <td>China</td>\n      <td>23.829800</td>\n      <td>108.788100</td>\n      <td>2</td>\n      <td>5</td>\n      <td>23</td>\n      <td>23</td>\n      <td>36</td>\n      <td>46</td>\n      <td>...</td>\n      <td>257</td>\n      <td>257</td>\n      <td>257</td>\n      <td>257</td>\n      <td>257</td>\n      <td>257</td>\n      <td>257</td>\n      <td>257</td>\n      <td>257</td>\n      <td>258</td>\n    </tr>\n    <tr>\n      <th>63</th>\n      <td>Guizhou</td>\n      <td>China</td>\n      <td>26.815400</td>\n      <td>106.874800</td>\n      <td>1</td>\n      <td>3</td>\n      <td>3</td>\n      <td>4</td>\n      <td>5</td>\n      <td>7</td>\n      <td>...</td>\n      <td>147</td>\n      <td>147</td>\n      <td>147</td>\n      <td>147</td>\n      <td>147</td>\n      <td>147</td>\n      <td>147</td>\n      <td>147</td>\n      <td>147</td>\n      <td>147</td>\n    </tr>\n    <tr>\n      <th>64</th>\n      <td>Hainan</td>\n      <td>China</td>\n      <td>19.195900</td>\n      <td>109.745300</td>\n      <td>4</td>\n      <td>5</td>\n      <td>8</td>\n      <td>19</td>\n      <td>22</td>\n      <td>33</td>\n      <td>...</td>\n      <td>171</td>\n      <td>171</td>\n      <td>171</td>\n      <td>171</td>\n      <td>171</td>\n      <td>171</td>\n      <td>171</td>\n      <td>171</td>\n      <td>171</td>\n      <td>171</td>\n    </tr>\n    <tr>\n      <th>65</th>\n      <td>Hebei</td>\n      <td>China</td>\n      <td>39.549000</td>\n      <td>116.130600</td>\n      <td>1</td>\n      <td>1</td>\n      <td>2</td>\n      <td>8</td>\n      <td>13</td>\n      <td>18</td>\n      <td>...</td>\n      <td>365</td>\n      <td>365</td>\n      <td>365</td>\n      <td>365</td>\n      <td>365</td>\n      <td>365</td>\n      <td>365</td>\n      <td>365</td>\n      <td>365</td>\n      <td>365</td>\n    </tr>\n    <tr>\n      <th>66</th>\n      <td>Heilongjiang</td>\n      <td>China</td>\n      <td>47.862000</td>\n      <td>127.761500</td>\n      <td>0</td>\n      <td>2</td>\n      <td>4</td>\n      <td>9</td>\n      <td>15</td>\n      <td>21</td>\n      <td>...</td>\n      <td>948</td>\n      <td>948</td>\n      <td>948</td>\n      <td>948</td>\n      <td>948</td>\n      <td>948</td>\n      <td>948</td>\n      <td>948</td>\n      <td>948</td>\n      <td>948</td>\n    </tr>\n    <tr>\n      <th>67</th>\n      <td>Henan</td>\n      <td>China</td>\n      <td>37.895700</td>\n      <td>114.904200</td>\n      <td>5</td>\n      <td>5</td>\n      <td>9</td>\n      <td>32</td>\n      <td>83</td>\n      <td>128</td>\n      <td>...</td>\n      <td>1276</td>\n      <td>1276</td>\n      <td>1276</td>\n      <td>1276</td>\n      <td>1276</td>\n      <td>1276</td>\n      <td>1276</td>\n      <td>1276</td>\n      <td>1276</td>\n      <td>1277</td>\n    </tr>\n    <tr>\n      <th>68</th>\n      <td>Hong Kong</td>\n      <td>China</td>\n      <td>22.300000</td>\n      <td>114.200000</td>\n      <td>0</td>\n      <td>2</td>\n      <td>2</td>\n      <td>5</td>\n      <td>8</td>\n      <td>8</td>\n      <td>...</td>\n      <td>4838</td>\n      <td>4850</td>\n      <td>4857</td>\n      <td>4878</td>\n      <td>4889</td>\n      <td>4895</td>\n      <td>4901</td>\n      <td>4913</td>\n      <td>4925</td>\n      <td>4938</td>\n    </tr>\n    <tr>\n      <th>69</th>\n      <td>Hubei</td>\n      <td>China</td>\n      <td>30.975600</td>\n      <td>112.270700</td>\n      <td>444</td>\n      <td>444</td>\n      <td>549</td>\n      <td>761</td>\n      <td>1058</td>\n      <td>1423</td>\n      <td>...</td>\n      <td>68139</td>\n      <td>68139</td>\n      <td>68139</td>\n      <td>68139</td>\n      <td>68139</td>\n      <td>68139</td>\n      <td>68139</td>\n      <td>68139</td>\n      <td>68139</td>\n      <td>68139</td>\n    </tr>\n    <tr>\n      <th>70</th>\n      <td>Hunan</td>\n      <td>China</td>\n      <td>27.610400</td>\n      <td>111.708800</td>\n      <td>4</td>\n      <td>9</td>\n      <td>24</td>\n      <td>43</td>\n      <td>69</td>\n      <td>100</td>\n      <td>...</td>\n      <td>1019</td>\n      <td>1019</td>\n      <td>1019</td>\n      <td>1019</td>\n      <td>1019</td>\n      <td>1019</td>\n      <td>1019</td>\n      <td>1019</td>\n      <td>1019</td>\n      <td>1019</td>\n    </tr>\n    <tr>\n      <th>71</th>\n      <td>Inner Mongolia</td>\n      <td>China</td>\n      <td>44.093500</td>\n      <td>113.944800</td>\n      <td>0</td>\n      <td>0</td>\n      <td>1</td>\n      <td>7</td>\n      <td>7</td>\n      <td>11</td>\n      <td>...</td>\n      <td>261</td>\n      <td>261</td>\n      <td>261</td>\n      <td>261</td>\n      <td>261</td>\n      <td>261</td>\n      <td>261</td>\n      <td>261</td>\n      <td>261</td>\n      <td>261</td>\n    </tr>\n    <tr>\n      <th>72</th>\n      <td>Jiangsu</td>\n      <td>China</td>\n      <td>32.971100</td>\n      <td>119.455000</td>\n      <td>1</td>\n      <td>5</td>\n      <td>9</td>\n      <td>18</td>\n      <td>33</td>\n      <td>47</td>\n      <td>...</td>\n      <td>665</td>\n      <td>665</td>\n      <td>665</td>\n      <td>665</td>\n      <td>665</td>\n      <td>665</td>\n      <td>665</td>\n      <td>665</td>\n      <td>665</td>\n      <td>665</td>\n    </tr>\n    <tr>\n      <th>73</th>\n      <td>Jiangxi</td>\n      <td>China</td>\n      <td>27.614000</td>\n      <td>115.722100</td>\n      <td>2</td>\n      <td>7</td>\n      <td>18</td>\n      <td>18</td>\n      <td>36</td>\n      <td>72</td>\n      <td>...</td>\n      <td>935</td>\n      <td>935</td>\n      <td>935</td>\n      <td>935</td>\n      <td>935</td>\n      <td>935</td>\n      <td>935</td>\n      <td>935</td>\n      <td>935</td>\n      <td>935</td>\n    </tr>\n    <tr>\n      <th>74</th>\n      <td>Jilin</td>\n      <td>China</td>\n      <td>43.666100</td>\n      <td>126.192300</td>\n      <td>0</td>\n      <td>1</td>\n      <td>3</td>\n      <td>4</td>\n      <td>4</td>\n      <td>6</td>\n      <td>...</td>\n      <td>157</td>\n      <td>157</td>\n      <td>157</td>\n      <td>157</td>\n      <td>157</td>\n      <td>157</td>\n      <td>157</td>\n      <td>157</td>\n      <td>157</td>\n      <td>157</td>\n    </tr>\n    <tr>\n      <th>75</th>\n      <td>Liaoning</td>\n      <td>China</td>\n      <td>41.295600</td>\n      <td>122.608500</td>\n      <td>2</td>\n      <td>3</td>\n      <td>4</td>\n      <td>17</td>\n      <td>21</td>\n      <td>27</td>\n      <td>...</td>\n      <td>263</td>\n      <td>263</td>\n      <td>263</td>\n      <td>263</td>\n      <td>263</td>\n      <td>263</td>\n      <td>263</td>\n      <td>264</td>\n      <td>264</td>\n      <td>264</td>\n    </tr>\n    <tr>\n      <th>76</th>\n      <td>Macau</td>\n      <td>China</td>\n      <td>22.166700</td>\n      <td>113.550000</td>\n      <td>1</td>\n      <td>2</td>\n      <td>2</td>\n      <td>2</td>\n      <td>5</td>\n      <td>6</td>\n      <td>...</td>\n      <td>46</td>\n      <td>46</td>\n      <td>46</td>\n      <td>46</td>\n      <td>46</td>\n      <td>46</td>\n      <td>46</td>\n      <td>46</td>\n      <td>46</td>\n      <td>46</td>\n    </tr>\n    <tr>\n      <th>77</th>\n      <td>Ningxia</td>\n      <td>China</td>\n      <td>37.269200</td>\n      <td>106.165500</td>\n      <td>1</td>\n      <td>1</td>\n      <td>2</td>\n      <td>3</td>\n      <td>4</td>\n      <td>7</td>\n      <td>...</td>\n      <td>75</td>\n      <td>75</td>\n      <td>75</td>\n      <td>75</td>\n      <td>75</td>\n      <td>75</td>\n      <td>75</td>\n      <td>75</td>\n      <td>75</td>\n      <td>75</td>\n    </tr>\n    <tr>\n      <th>78</th>\n      <td>Qinghai</td>\n      <td>China</td>\n      <td>35.745200</td>\n      <td>95.995600</td>\n      <td>0</td>\n      <td>0</td>\n      <td>0</td>\n      <td>1</td>\n      <td>1</td>\n      <td>6</td>\n      <td>...</td>\n      <td>18</td>\n      <td>18</td>\n      <td>18</td>\n      <td>18</td>\n      <td>18</td>\n      <td>18</td>\n      <td>18</td>\n      <td>18</td>\n      <td>18</td>\n      <td>18</td>\n    </tr>\n    <tr>\n      <th>79</th>\n      <td>Shaanxi</td>\n      <td>China</td>\n      <td>35.191700</td>\n      <td>108.870100</td>\n      <td>0</td>\n      <td>3</td>\n      <td>5</td>\n      <td>15</td>\n      <td>22</td>\n      <td>35</td>\n      <td>...</td>\n      <td>373</td>\n      <td>374</td>\n      <td>377</td>\n      <td>377</td>\n      <td>377</td>\n      <td>378</td>\n      <td>378</td>\n      <td>379</td>\n      <td>380</td>\n      <td>381</td>\n    </tr>\n    <tr>\n      <th>80</th>\n      <td>Shandong</td>\n      <td>China</td>\n      <td>36.342700</td>\n      <td>118.149800</td>\n      <td>2</td>\n      <td>6</td>\n      <td>15</td>\n      <td>27</td>\n      <td>46</td>\n      <td>75</td>\n      <td>...</td>\n      <td>831</td>\n      <td>831</td>\n      <td>831</td>\n      <td>831</td>\n      <td>831</td>\n      <td>831</td>\n      <td>831</td>\n      <td>831</td>\n      <td>831</td>\n      <td>831</td>\n    </tr>\n    <tr>\n      <th>81</th>\n      <td>Shanghai</td>\n      <td>China</td>\n      <td>31.202000</td>\n      <td>121.449100</td>\n      <td>9</td>\n      <td>16</td>\n      <td>20</td>\n      <td>33</td>\n      <td>40</td>\n      <td>53</td>\n      <td>...</td>\n      <td>913</td>\n      <td>916</td>\n      <td>918</td>\n      <td>922</td>\n      <td>922</td>\n      <td>923</td>\n      <td>929</td>\n      <td>937</td>\n      <td>939</td>\n      <td>942</td>\n    </tr>\n    <tr>\n      <th>82</th>\n      <td>Shanxi</td>\n      <td>China</td>\n      <td>37.577700</td>\n      <td>112.292200</td>\n      <td>1</td>\n      <td>1</td>\n      <td>1</td>\n      <td>6</td>\n      <td>9</td>\n      <td>13</td>\n      <td>...</td>\n      <td>203</td>\n      <td>203</td>\n      <td>203</td>\n      <td>203</td>\n      <td>203</td>\n      <td>203</td>\n      <td>203</td>\n      <td>203</td>\n      <td>203</td>\n      <td>203</td>\n    </tr>\n    <tr>\n      <th>83</th>\n      <td>Sichuan</td>\n      <td>China</td>\n      <td>30.617100</td>\n      <td>102.710300</td>\n      <td>5</td>\n      <td>8</td>\n      <td>15</td>\n      <td>28</td>\n      <td>44</td>\n      <td>69</td>\n      <td>...</td>\n      <td>656</td>\n      <td>656</td>\n      <td>656</td>\n      <td>658</td>\n      <td>663</td>\n      <td>664</td>\n      <td>664</td>\n      <td>665</td>\n      <td>665</td>\n      <td>665</td>\n    </tr>\n    <tr>\n      <th>84</th>\n      <td>Tianjin</td>\n      <td>China</td>\n      <td>39.305400</td>\n      <td>117.323000</td>\n      <td>4</td>\n      <td>4</td>\n      <td>8</td>\n      <td>10</td>\n      <td>14</td>\n      <td>23</td>\n      <td>...</td>\n      <td>230</td>\n      <td>231</td>\n      <td>231</td>\n      <td>232</td>\n      <td>233</td>\n      <td>233</td>\n      <td>233</td>\n      <td>233</td>\n      <td>233</td>\n      <td>234</td>\n    </tr>\n    <tr>\n      <th>85</th>\n      <td>Tibet</td>\n      <td>China</td>\n      <td>31.692700</td>\n      <td>88.092400</td>\n      <td>0</td>\n      <td>0</td>\n      <td>0</td>\n      <td>0</td>\n      <td>0</td>\n      <td>0</td>\n      <td>...</td>\n      <td>1</td>\n      <td>1</td>\n      <td>1</td>\n      <td>1</td>\n      <td>1</td>\n      <td>1</td>\n      <td>1</td>\n      <td>1</td>\n      <td>1</td>\n      <td>1</td>\n    </tr>\n    <tr>\n      <th>86</th>\n      <td>Xinjiang</td>\n      <td>China</td>\n      <td>41.112900</td>\n      <td>85.240100</td>\n      <td>0</td>\n      <td>2</td>\n      <td>2</td>\n      <td>3</td>\n      <td>4</td>\n      <td>5</td>\n      <td>...</td>\n      <td>902</td>\n      <td>902</td>\n      <td>902</td>\n      <td>902</td>\n      <td>902</td>\n      <td>902</td>\n      <td>902</td>\n      <td>902</td>\n      <td>902</td>\n      <td>902</td>\n    </tr>\n    <tr>\n      <th>87</th>\n      <td>Yunnan</td>\n      <td>China</td>\n      <td>24.974000</td>\n      <td>101.487000</td>\n      <td>1</td>\n      <td>2</td>\n      <td>5</td>\n      <td>11</td>\n      <td>16</td>\n      <td>26</td>\n      <td>...</td>\n      <td>199</td>\n      <td>201</td>\n      <td>201</td>\n      <td>201</td>\n      <td>201</td>\n      <td>201</td>\n      <td>201</td>\n      <td>201</td>\n      <td>201</td>\n      <td>201</td>\n    </tr>\n    <tr>\n      <th>88</th>\n      <td>Zhejiang</td>\n      <td>China</td>\n      <td>29.183200</td>\n      <td>120.093400</td>\n      <td>10</td>\n      <td>27</td>\n      <td>43</td>\n      <td>62</td>\n      <td>104</td>\n      <td>128</td>\n      <td>...</td>\n      <td>1278</td>\n      <td>1278</td>\n      <td>1278</td>\n      <td>1278</td>\n      <td>1278</td>\n      <td>1278</td>\n      <td>1278</td>\n      <td>1278</td>\n      <td>1278</td>\n      <td>1280</td>\n    </tr>\n    <tr>\n      <th>89</th>\n      <td>NaN</td>\n      <td>Colombia</td>\n      <td>4.570900</td>\n      <td>-74.297300</td>\n      <td>0</td>\n      <td>0</td>\n      <td>0</td>\n      <td>0</td>\n      <td>0</td>\n      <td>0</td>\n      <td>...</td>\n      <td>641574</td>\n      <td>650063</td>\n      <td>658456</td>\n      <td>666521</td>\n      <td>671848</td>\n      <td>671533</td>\n      <td>686851</td>\n      <td>694664</td>\n      <td>702088</td>\n      <td>708964</td>\n    </tr>\n    <tr>\n      <th>90</th>\n      <td>NaN</td>\n      <td>Comoros</td>\n      <td>-11.645500</td>\n      <td>43.333300</td>\n      <td>0</td>\n      <td>0</td>\n      <td>0</td>\n      <td>0</td>\n      <td>0</td>\n      <td>0</td>\n      <td>...</td>\n      <td>448</td>\n      <td>448</td>\n      <td>452</td>\n      <td>452</td>\n      <td>452</td>\n      <td>456</td>\n      <td>456</td>\n      <td>456</td>\n      <td>456</td>\n      <td>456</td>\n    </tr>\n    <tr>\n      <th>91</th>\n      <td>NaN</td>\n      <td>Congo (Brazzaville)</td>\n      <td>-0.228000</td>\n      <td>15.827700</td>\n      <td>0</td>\n      <td>0</td>\n      <td>0</td>\n      <td>0</td>\n      <td>0</td>\n      <td>0</td>\n      <td>...</td>\n      <td>4628</td>\n      <td>4628</td>\n      <td>4628</td>\n      <td>4628</td>\n      <td>4891</td>\n      <td>4891</td>\n      <td>4891</td>\n      <td>4891</td>\n      <td>4928</td>\n      <td>4928</td>\n    </tr>\n    <tr>\n      <th>92</th>\n      <td>NaN</td>\n      <td>Congo (Kinshasa)</td>\n      <td>-4.038300</td>\n      <td>21.758700</td>\n      <td>0</td>\n      <td>0</td>\n      <td>0</td>\n      <td>0</td>\n      <td>0</td>\n      <td>0</td>\n      <td>...</td>\n      <td>10125</td>\n      <td>10149</td>\n      <td>10178</td>\n      <td>10210</td>\n      <td>10233</td>\n      <td>10292</td>\n      <td>10324</td>\n      <td>10343</td>\n      <td>10361</td>\n      <td>10385</td>\n    </tr>\n    <tr>\n      <th>93</th>\n      <td>NaN</td>\n      <td>Costa Rica</td>\n      <td>9.748900</td>\n      <td>-83.753400</td>\n      <td>0</td>\n      <td>0</td>\n      <td>0</td>\n      <td>0</td>\n      <td>0</td>\n      <td>0</td>\n      <td>...</td>\n      <td>44458</td>\n      <td>45680</td>\n      <td>46920</td>\n      <td>46920</td>\n      <td>48780</td>\n      <td>49897</td>\n      <td>51224</td>\n      <td>52549</td>\n      <td>53969</td>\n      <td>55454</td>\n    </tr>\n    <tr>\n      <th>94</th>\n      <td>NaN</td>\n      <td>Cote d'Ivoire</td>\n      <td>7.540000</td>\n      <td>-5.547100</td>\n      <td>0</td>\n      <td>0</td>\n      <td>0</td>\n      <td>0</td>\n      <td>0</td>\n      <td>0</td>\n      <td>...</td>\n      <td>18208</td>\n      <td>18269</td>\n      <td>18472</td>\n      <td>18588</td>\n      <td>18701</td>\n      <td>18778</td>\n      <td>18815</td>\n      <td>18869</td>\n      <td>18916</td>\n      <td>18916</td>\n    </tr>\n    <tr>\n      <th>95</th>\n      <td>NaN</td>\n      <td>Croatia</td>\n      <td>45.100000</td>\n      <td>15.200000</td>\n      <td>0</td>\n      <td>0</td>\n      <td>0</td>\n      <td>0</td>\n      <td>0</td>\n      <td>0</td>\n      <td>...</td>\n      <td>11094</td>\n      <td>11428</td>\n      <td>11739</td>\n      <td>11964</td>\n      <td>12081</td>\n      <td>12285</td>\n      <td>12626</td>\n      <td>12917</td>\n      <td>13107</td>\n      <td>13368</td>\n    </tr>\n    <tr>\n      <th>96</th>\n      <td>NaN</td>\n      <td>Cuba</td>\n      <td>21.521757</td>\n      <td>-77.781167</td>\n      <td>0</td>\n      <td>0</td>\n      <td>0</td>\n      <td>0</td>\n      <td>0</td>\n      <td>0</td>\n      <td>...</td>\n      <td>4214</td>\n      <td>4266</td>\n      <td>4298</td>\n      <td>4309</td>\n      <td>4352</td>\n      <td>4377</td>\n      <td>4459</td>\n      <td>4551</td>\n      <td>4593</td>\n      <td>4653</td>\n    </tr>\n    <tr>\n      <th>97</th>\n      <td>NaN</td>\n      <td>Cyprus</td>\n      <td>35.126400</td>\n      <td>33.429900</td>\n      <td>0</td>\n      <td>0</td>\n      <td>0</td>\n      <td>0</td>\n      <td>0</td>\n      <td>0</td>\n      <td>...</td>\n      <td>1498</td>\n      <td>1502</td>\n      <td>1507</td>\n      <td>1509</td>\n      <td>1510</td>\n      <td>1511</td>\n      <td>1514</td>\n      <td>1517</td>\n      <td>1520</td>\n      <td>1523</td>\n    </tr>\n    <tr>\n      <th>98</th>\n      <td>NaN</td>\n      <td>Czechia</td>\n      <td>49.817500</td>\n      <td>15.473000</td>\n      <td>0</td>\n      <td>0</td>\n      <td>0</td>\n      <td>0</td>\n      <td>0</td>\n      <td>0</td>\n      <td>...</td>\n      <td>26452</td>\n      <td>27249</td>\n      <td>27752</td>\n      <td>28156</td>\n      <td>28716</td>\n      <td>29877</td>\n      <td>31036</td>\n      <td>32413</td>\n      <td>33860</td>\n      <td>35401</td>\n    </tr>\n    <tr>\n      <th>99</th>\n      <td>Faroe Islands</td>\n      <td>Denmark</td>\n      <td>61.892600</td>\n      <td>-6.911800</td>\n      <td>0</td>\n      <td>0</td>\n      <td>0</td>\n      <td>0</td>\n      <td>0</td>\n      <td>0</td>\n      <td>...</td>\n      <td>412</td>\n      <td>413</td>\n      <td>413</td>\n      <td>413</td>\n      <td>413</td>\n      <td>414</td>\n      <td>415</td>\n      <td>415</td>\n      <td>416</td>\n      <td>418</td>\n    </tr>\n    <tr>\n      <th>100</th>\n      <td>Greenland</td>\n      <td>Denmark</td>\n      <td>71.706900</td>\n      <td>-42.604300</td>\n      <td>0</td>\n      <td>0</td>\n      <td>0</td>\n      <td>0</td>\n      <td>0</td>\n      <td>0</td>\n      <td>...</td>\n      <td>14</td>\n      <td>14</td>\n      <td>14</td>\n      <td>14</td>\n      <td>14</td>\n      <td>14</td>\n      <td>14</td>\n      <td>14</td>\n      <td>14</td>\n      <td>14</td>\n    </tr>\n    <tr>\n      <th>101</th>\n      <td>NaN</td>\n      <td>Denmark</td>\n      <td>56.263900</td>\n      <td>9.501800</td>\n      <td>0</td>\n      <td>0</td>\n      <td>0</td>\n      <td>0</td>\n      <td>0</td>\n      <td>0</td>\n      <td>...</td>\n      <td>17374</td>\n      <td>17547</td>\n      <td>17736</td>\n      <td>17883</td>\n      <td>18113</td>\n      <td>18356</td>\n      <td>18607</td>\n      <td>18924</td>\n      <td>19216</td>\n      <td>19557</td>\n    </tr>\n    <tr>\n      <th>102</th>\n      <td>NaN</td>\n      <td>Diamond Princess</td>\n      <td>0.000000</td>\n      <td>0.000000</td>\n      <td>0</td>\n      <td>0</td>\n      <td>0</td>\n      <td>0</td>\n      <td>0</td>\n      <td>0</td>\n      <td>...</td>\n      <td>712</td>\n      <td>712</td>\n      <td>712</td>\n      <td>712</td>\n      <td>712</td>\n      <td>712</td>\n      <td>712</td>\n      <td>712</td>\n      <td>712</td>\n      <td>712</td>\n    </tr>\n    <tr>\n      <th>103</th>\n      <td>NaN</td>\n      <td>Djibouti</td>\n      <td>11.825100</td>\n      <td>42.590300</td>\n      <td>0</td>\n      <td>0</td>\n      <td>0</td>\n      <td>0</td>\n      <td>0</td>\n      <td>0</td>\n      <td>...</td>\n      <td>5387</td>\n      <td>5387</td>\n      <td>5387</td>\n      <td>5388</td>\n      <td>5388</td>\n      <td>5388</td>\n      <td>5391</td>\n      <td>5394</td>\n      <td>5394</td>\n      <td>5394</td>\n    </tr>\n    <tr>\n      <th>104</th>\n      <td>NaN</td>\n      <td>Dominica</td>\n      <td>15.415000</td>\n      <td>-61.371000</td>\n      <td>0</td>\n      <td>0</td>\n      <td>0</td>\n      <td>0</td>\n      <td>0</td>\n      <td>0</td>\n      <td>...</td>\n      <td>20</td>\n      <td>20</td>\n      <td>22</td>\n      <td>22</td>\n      <td>22</td>\n      <td>22</td>\n      <td>22</td>\n      <td>24</td>\n      <td>24</td>\n      <td>24</td>\n    </tr>\n    <tr>\n      <th>105</th>\n      <td>NaN</td>\n      <td>Dominican Republic</td>\n      <td>18.735700</td>\n      <td>-70.162700</td>\n      <td>0</td>\n      <td>0</td>\n      <td>0</td>\n      <td>0</td>\n      <td>0</td>\n      <td>0</td>\n      <td>...</td>\n      <td>96629</td>\n      <td>96629</td>\n      <td>98776</td>\n      <td>99333</td>\n      <td>99898</td>\n      <td>100131</td>\n      <td>100937</td>\n      <td>101716</td>\n      <td>102232</td>\n      <td>103092</td>\n    </tr>\n    <tr>\n      <th>106</th>\n      <td>NaN</td>\n      <td>Ecuador</td>\n      <td>-1.831200</td>\n      <td>-78.183400</td>\n      <td>0</td>\n      <td>0</td>\n      <td>0</td>\n      <td>0</td>\n      <td>0</td>\n      <td>0</td>\n      <td>...</td>\n      <td>116360</td>\n      <td>117175</td>\n      <td>118045</td>\n      <td>118045</td>\n      <td>110092</td>\n      <td>110757</td>\n      <td>112166</td>\n      <td>113206</td>\n      <td>114732</td>\n      <td>116451</td>\n    </tr>\n    <tr>\n      <th>107</th>\n      <td>NaN</td>\n      <td>Egypt</td>\n      <td>26.820553</td>\n      <td>30.802498</td>\n      <td>0</td>\n      <td>0</td>\n      <td>0</td>\n      <td>0</td>\n      <td>0</td>\n      <td>0</td>\n      <td>...</td>\n      <td>99425</td>\n      <td>99582</td>\n      <td>99712</td>\n      <td>99863</td>\n      <td>100041</td>\n      <td>100228</td>\n      <td>100403</td>\n      <td>100557</td>\n      <td>100708</td>\n      <td>100856</td>\n    </tr>\n    <tr>\n      <th>108</th>\n      <td>NaN</td>\n      <td>El Salvador</td>\n      <td>13.794200</td>\n      <td>-88.896500</td>\n      <td>0</td>\n      <td>0</td>\n      <td>0</td>\n      <td>0</td>\n      <td>0</td>\n      <td>0</td>\n      <td>...</td>\n      <td>26000</td>\n      <td>26099</td>\n      <td>26206</td>\n      <td>26308</td>\n      <td>26413</td>\n      <td>26511</td>\n      <td>26602</td>\n      <td>26688</td>\n      <td>26773</td>\n      <td>26851</td>\n    </tr>\n    <tr>\n      <th>109</th>\n      <td>NaN</td>\n      <td>Equatorial Guinea</td>\n      <td>1.650800</td>\n      <td>10.267900</td>\n      <td>0</td>\n      <td>0</td>\n      <td>0</td>\n      <td>0</td>\n      <td>0</td>\n      <td>0</td>\n      <td>...</td>\n      <td>4965</td>\n      <td>4972</td>\n      <td>4972</td>\n      <td>4972</td>\n      <td>4985</td>\n      <td>4985</td>\n      <td>4990</td>\n      <td>4990</td>\n      <td>4996</td>\n      <td>4996</td>\n    </tr>\n    <tr>\n      <th>110</th>\n      <td>NaN</td>\n      <td>Eritrea</td>\n      <td>15.179400</td>\n      <td>39.782300</td>\n      <td>0</td>\n      <td>0</td>\n      <td>0</td>\n      <td>0</td>\n      <td>0</td>\n      <td>0</td>\n      <td>...</td>\n      <td>330</td>\n      <td>330</td>\n      <td>330</td>\n      <td>330</td>\n      <td>330</td>\n      <td>341</td>\n      <td>341</td>\n      <td>361</td>\n      <td>361</td>\n      <td>361</td>\n    </tr>\n    <tr>\n      <th>111</th>\n      <td>NaN</td>\n      <td>Estonia</td>\n      <td>58.595300</td>\n      <td>25.013600</td>\n      <td>0</td>\n      <td>0</td>\n      <td>0</td>\n      <td>0</td>\n      <td>0</td>\n      <td>0</td>\n      <td>...</td>\n      <td>2441</td>\n      <td>2456</td>\n      <td>2491</td>\n      <td>2516</td>\n      <td>2532</td>\n      <td>2564</td>\n      <td>2585</td>\n      <td>2600</td>\n      <td>2632</td>\n      <td>2655</td>\n    </tr>\n    <tr>\n      <th>112</th>\n      <td>NaN</td>\n      <td>Eswatini</td>\n      <td>-26.522500</td>\n      <td>31.465900</td>\n      <td>0</td>\n      <td>0</td>\n      <td>0</td>\n      <td>0</td>\n      <td>0</td>\n      <td>0</td>\n      <td>...</td>\n      <td>4720</td>\n      <td>4780</td>\n      <td>4819</td>\n      <td>4853</td>\n      <td>4884</td>\n      <td>4904</td>\n      <td>4936</td>\n      <td>4994</td>\n      <td>5025</td>\n      <td>5050</td>\n    </tr>\n    <tr>\n      <th>113</th>\n      <td>NaN</td>\n      <td>Ethiopia</td>\n      <td>9.145000</td>\n      <td>40.489700</td>\n      <td>0</td>\n      <td>0</td>\n      <td>0</td>\n      <td>0</td>\n      <td>0</td>\n      <td>0</td>\n      <td>...</td>\n      <td>55213</td>\n      <td>56516</td>\n      <td>57466</td>\n      <td>58672</td>\n      <td>59648</td>\n      <td>60784</td>\n      <td>61700</td>\n      <td>62578</td>\n      <td>63367</td>\n      <td>63888</td>\n    </tr>\n    <tr>\n      <th>114</th>\n      <td>NaN</td>\n      <td>Fiji</td>\n      <td>-17.713400</td>\n      <td>178.065000</td>\n      <td>0</td>\n      <td>0</td>\n      <td>0</td>\n      <td>0</td>\n      <td>0</td>\n      <td>0</td>\n      <td>...</td>\n      <td>29</td>\n      <td>29</td>\n      <td>31</td>\n      <td>31</td>\n      <td>31</td>\n      <td>31</td>\n      <td>32</td>\n      <td>32</td>\n      <td>32</td>\n      <td>32</td>\n    </tr>\n    <tr>\n      <th>115</th>\n      <td>NaN</td>\n      <td>Finland</td>\n      <td>61.924110</td>\n      <td>25.748151</td>\n      <td>0</td>\n      <td>0</td>\n      <td>0</td>\n      <td>0</td>\n      <td>0</td>\n      <td>0</td>\n      <td>...</td>\n      <td>8200</td>\n      <td>8225</td>\n      <td>8261</td>\n      <td>8291</td>\n      <td>8327</td>\n      <td>8337</td>\n      <td>8430</td>\n      <td>8469</td>\n      <td>8512</td>\n      <td>8557</td>\n    </tr>\n    <tr>\n      <th>116</th>\n      <td>French Guiana</td>\n      <td>France</td>\n      <td>3.933900</td>\n      <td>-53.125800</td>\n      <td>0</td>\n      <td>0</td>\n      <td>0</td>\n      <td>0</td>\n      <td>0</td>\n      <td>0</td>\n      <td>...</td>\n      <td>9251</td>\n      <td>9276</td>\n      <td>9322</td>\n      <td>9322</td>\n      <td>9355</td>\n      <td>9387</td>\n      <td>9418</td>\n      <td>9462</td>\n      <td>9494</td>\n      <td>9521</td>\n    </tr>\n    <tr>\n      <th>117</th>\n      <td>French Polynesia</td>\n      <td>France</td>\n      <td>-17.679700</td>\n      <td>149.406800</td>\n      <td>0</td>\n      <td>0</td>\n      <td>0</td>\n      <td>0</td>\n      <td>0</td>\n      <td>0</td>\n      <td>...</td>\n      <td>622</td>\n      <td>694</td>\n      <td>694</td>\n      <td>694</td>\n      <td>773</td>\n      <td>773</td>\n      <td>795</td>\n      <td>857</td>\n      <td>953</td>\n      <td>953</td>\n    </tr>\n    <tr>\n      <th>118</th>\n      <td>Guadeloupe</td>\n      <td>France</td>\n      <td>16.265000</td>\n      <td>-61.551000</td>\n      <td>0</td>\n      <td>0</td>\n      <td>0</td>\n      <td>0</td>\n      <td>0</td>\n      <td>0</td>\n      <td>...</td>\n      <td>1363</td>\n      <td>1363</td>\n      <td>1363</td>\n      <td>1363</td>\n      <td>1363</td>\n      <td>1363</td>\n      <td>2287</td>\n      <td>2287</td>\n      <td>2287</td>\n      <td>3080</td>\n    </tr>\n    <tr>\n      <th>119</th>\n      <td>Martinique</td>\n      <td>France</td>\n      <td>14.641500</td>\n      <td>-61.024200</td>\n      <td>0</td>\n      <td>0</td>\n      <td>0</td>\n      <td>0</td>\n      <td>0</td>\n      <td>0</td>\n      <td>...</td>\n      <td>754</td>\n      <td>758</td>\n      <td>758</td>\n      <td>758</td>\n      <td>758</td>\n      <td>939</td>\n      <td>939</td>\n      <td>939</td>\n      <td>939</td>\n      <td>939</td>\n    </tr>\n    <tr>\n      <th>120</th>\n      <td>Mayotte</td>\n      <td>France</td>\n      <td>-12.827500</td>\n      <td>45.166244</td>\n      <td>0</td>\n      <td>0</td>\n      <td>0</td>\n      <td>0</td>\n      <td>0</td>\n      <td>0</td>\n      <td>...</td>\n      <td>3374</td>\n      <td>3374</td>\n      <td>3374</td>\n      <td>3374</td>\n      <td>3374</td>\n      <td>3374</td>\n      <td>3374</td>\n      <td>3374</td>\n      <td>3374</td>\n      <td>3374</td>\n    </tr>\n    <tr>\n      <th>121</th>\n      <td>New Caledonia</td>\n      <td>France</td>\n      <td>-20.904305</td>\n      <td>165.618042</td>\n      <td>0</td>\n      <td>0</td>\n      <td>0</td>\n      <td>0</td>\n      <td>0</td>\n      <td>0</td>\n      <td>...</td>\n      <td>26</td>\n      <td>26</td>\n      <td>26</td>\n      <td>26</td>\n      <td>26</td>\n      <td>26</td>\n      <td>26</td>\n      <td>26</td>\n      <td>26</td>\n      <td>26</td>\n    </tr>\n    <tr>\n      <th>122</th>\n      <td>Reunion</td>\n      <td>France</td>\n      <td>-21.115100</td>\n      <td>55.536400</td>\n      <td>0</td>\n      <td>0</td>\n      <td>0</td>\n      <td>0</td>\n      <td>0</td>\n      <td>0</td>\n      <td>...</td>\n      <td>1912</td>\n      <td>2002</td>\n      <td>2115</td>\n      <td>2222</td>\n      <td>2277</td>\n      <td>2346</td>\n      <td>2416</td>\n      <td>2510</td>\n      <td>2623</td>\n      <td>2723</td>\n    </tr>\n    <tr>\n      <th>123</th>\n      <td>Saint Barthelemy</td>\n      <td>France</td>\n      <td>17.900000</td>\n      <td>-62.833300</td>\n      <td>0</td>\n      <td>0</td>\n      <td>0</td>\n      <td>0</td>\n      <td>0</td>\n      <td>0</td>\n      <td>...</td>\n      <td>18</td>\n      <td>18</td>\n      <td>18</td>\n      <td>18</td>\n      <td>18</td>\n      <td>18</td>\n      <td>21</td>\n      <td>21</td>\n      <td>21</td>\n      <td>21</td>\n    </tr>\n    <tr>\n      <th>124</th>\n      <td>Saint Pierre and Miquelon</td>\n      <td>France</td>\n      <td>46.885200</td>\n      <td>-56.315900</td>\n      <td>0</td>\n      <td>0</td>\n      <td>0</td>\n      <td>0</td>\n      <td>0</td>\n      <td>0</td>\n      <td>...</td>\n      <td>5</td>\n      <td>5</td>\n      <td>5</td>\n      <td>6</td>\n      <td>9</td>\n      <td>9</td>\n      <td>9</td>\n      <td>10</td>\n      <td>10</td>\n      <td>11</td>\n    </tr>\n    <tr>\n      <th>125</th>\n      <td>St Martin</td>\n      <td>France</td>\n      <td>18.070800</td>\n      <td>-63.050100</td>\n      <td>0</td>\n      <td>0</td>\n      <td>0</td>\n      <td>0</td>\n      <td>0</td>\n      <td>0</td>\n      <td>...</td>\n      <td>239</td>\n      <td>239</td>\n      <td>239</td>\n      <td>239</td>\n      <td>239</td>\n      <td>239</td>\n      <td>256</td>\n      <td>256</td>\n      <td>256</td>\n      <td>256</td>\n    </tr>\n    <tr>\n      <th>126</th>\n      <td>NaN</td>\n      <td>France</td>\n      <td>46.227600</td>\n      <td>2.213700</td>\n      <td>0</td>\n      <td>0</td>\n      <td>2</td>\n      <td>3</td>\n      <td>3</td>\n      <td>3</td>\n      <td>...</td>\n      <td>320656</td>\n      <td>329512</td>\n      <td>329353</td>\n      <td>329246</td>\n      <td>348982</td>\n      <td>355244</td>\n      <td>363751</td>\n      <td>372501</td>\n      <td>381907</td>\n      <td>381907</td>\n    </tr>\n    <tr>\n      <th>127</th>\n      <td>NaN</td>\n      <td>Gabon</td>\n      <td>-0.803700</td>\n      <td>11.609400</td>\n      <td>0</td>\n      <td>0</td>\n      <td>0</td>\n      <td>0</td>\n      <td>0</td>\n      <td>0</td>\n      <td>...</td>\n      <td>8538</td>\n      <td>8601</td>\n      <td>8601</td>\n      <td>8601</td>\n      <td>8608</td>\n      <td>8608</td>\n      <td>8621</td>\n      <td>8621</td>\n      <td>8643</td>\n      <td>8643</td>\n    </tr>\n    <tr>\n      <th>128</th>\n      <td>NaN</td>\n      <td>Gambia</td>\n      <td>13.443200</td>\n      <td>-15.310100</td>\n      <td>0</td>\n      <td>0</td>\n      <td>0</td>\n      <td>0</td>\n      <td>0</td>\n      <td>0</td>\n      <td>...</td>\n      <td>3101</td>\n      <td>3120</td>\n      <td>3150</td>\n      <td>3197</td>\n      <td>3197</td>\n      <td>3275</td>\n      <td>3293</td>\n      <td>3330</td>\n      <td>3362</td>\n      <td>3376</td>\n    </tr>\n    <tr>\n      <th>129</th>\n      <td>NaN</td>\n      <td>Georgia</td>\n      <td>42.315400</td>\n      <td>43.356900</td>\n      <td>0</td>\n      <td>0</td>\n      <td>0</td>\n      <td>0</td>\n      <td>0</td>\n      <td>0</td>\n      <td>...</td>\n      <td>1568</td>\n      <td>1596</td>\n      <td>1621</td>\n      <td>1650</td>\n      <td>1684</td>\n      <td>1729</td>\n      <td>1773</td>\n      <td>1830</td>\n      <td>1917</td>\n      <td>2075</td>\n    </tr>\n    <tr>\n      <th>130</th>\n      <td>NaN</td>\n      <td>Germany</td>\n      <td>51.165691</td>\n      <td>10.451526</td>\n      <td>0</td>\n      <td>0</td>\n      <td>0</td>\n      <td>0</td>\n      <td>0</td>\n      <td>1</td>\n      <td>...</td>\n      <td>248840</td>\n      <td>250283</td>\n      <td>251058</td>\n      <td>251728</td>\n      <td>253626</td>\n      <td>254957</td>\n      <td>256433</td>\n      <td>258149</td>\n      <td>259735</td>\n      <td>260817</td>\n    </tr>\n    <tr>\n      <th>131</th>\n      <td>NaN</td>\n      <td>Ghana</td>\n      <td>7.946500</td>\n      <td>-1.023200</td>\n      <td>0</td>\n      <td>0</td>\n      <td>0</td>\n      <td>0</td>\n      <td>0</td>\n      <td>0</td>\n      <td>...</td>\n      <td>44713</td>\n      <td>44777</td>\n      <td>44777</td>\n      <td>44777</td>\n      <td>44869</td>\n      <td>45012</td>\n      <td>45313</td>\n      <td>45313</td>\n      <td>45388</td>\n      <td>45434</td>\n    </tr>\n    <tr>\n      <th>132</th>\n      <td>NaN</td>\n      <td>Greece</td>\n      <td>39.074200</td>\n      <td>21.824300</td>\n      <td>0</td>\n      <td>0</td>\n      <td>0</td>\n      <td>0</td>\n      <td>0</td>\n      <td>0</td>\n      <td>...</td>\n      <td>10998</td>\n      <td>11200</td>\n      <td>11386</td>\n      <td>11524</td>\n      <td>11663</td>\n      <td>11832</td>\n      <td>12080</td>\n      <td>12452</td>\n      <td>12734</td>\n      <td>13036</td>\n    </tr>\n    <tr>\n      <th>133</th>\n      <td>NaN</td>\n      <td>Grenada</td>\n      <td>12.116500</td>\n      <td>-61.679000</td>\n      <td>0</td>\n      <td>0</td>\n      <td>0</td>\n      <td>0</td>\n      <td>0</td>\n      <td>0</td>\n      <td>...</td>\n      <td>24</td>\n      <td>24</td>\n      <td>24</td>\n      <td>24</td>\n      <td>24</td>\n      <td>24</td>\n      <td>24</td>\n      <td>24</td>\n      <td>24</td>\n      <td>24</td>\n    </tr>\n    <tr>\n      <th>134</th>\n      <td>NaN</td>\n      <td>Guatemala</td>\n      <td>15.783500</td>\n      <td>-90.230800</td>\n      <td>0</td>\n      <td>0</td>\n      <td>0</td>\n      <td>0</td>\n      <td>0</td>\n      <td>0</td>\n      <td>...</td>\n      <td>76358</td>\n      <td>77040</td>\n      <td>77481</td>\n      <td>77683</td>\n      <td>77828</td>\n      <td>78721</td>\n      <td>79622</td>\n      <td>80306</td>\n      <td>81009</td>\n      <td>81658</td>\n    </tr>\n    <tr>\n      <th>135</th>\n      <td>NaN</td>\n      <td>Guinea</td>\n      <td>9.945600</td>\n      <td>-9.696600</td>\n      <td>0</td>\n      <td>0</td>\n      <td>0</td>\n      <td>0</td>\n      <td>0</td>\n      <td>0</td>\n      <td>...</td>\n      <td>9579</td>\n      <td>9649</td>\n      <td>9649</td>\n      <td>9798</td>\n      <td>9816</td>\n      <td>9848</td>\n      <td>9885</td>\n      <td>9946</td>\n      <td>9979</td>\n      <td>10020</td>\n    </tr>\n    <tr>\n      <th>136</th>\n      <td>NaN</td>\n      <td>Guinea-Bissau</td>\n      <td>11.803700</td>\n      <td>-15.180400</td>\n      <td>0</td>\n      <td>0</td>\n      <td>0</td>\n      <td>0</td>\n      <td>0</td>\n      <td>0</td>\n      <td>...</td>\n      <td>2205</td>\n      <td>2245</td>\n      <td>2245</td>\n      <td>2245</td>\n      <td>2245</td>\n      <td>2245</td>\n      <td>2245</td>\n      <td>2275</td>\n      <td>2275</td>\n      <td>2275</td>\n    </tr>\n    <tr>\n      <th>137</th>\n      <td>NaN</td>\n      <td>Guyana</td>\n      <td>4.860416</td>\n      <td>-58.930180</td>\n      <td>0</td>\n      <td>0</td>\n      <td>0</td>\n      <td>0</td>\n      <td>0</td>\n      <td>0</td>\n      <td>...</td>\n      <td>1401</td>\n      <td>1401</td>\n      <td>1459</td>\n      <td>1468</td>\n      <td>1560</td>\n      <td>1613</td>\n      <td>1703</td>\n      <td>1750</td>\n      <td>1763</td>\n      <td>1812</td>\n    </tr>\n    <tr>\n      <th>138</th>\n      <td>NaN</td>\n      <td>Haiti</td>\n      <td>18.971200</td>\n      <td>-72.285200</td>\n      <td>0</td>\n      <td>0</td>\n      <td>0</td>\n      <td>0</td>\n      <td>0</td>\n      <td>0</td>\n      <td>...</td>\n      <td>8301</td>\n      <td>8326</td>\n      <td>8336</td>\n      <td>8360</td>\n      <td>8376</td>\n      <td>8376</td>\n      <td>8384</td>\n      <td>8429</td>\n      <td>8457</td>\n      <td>8478</td>\n    </tr>\n    <tr>\n      <th>139</th>\n      <td>NaN</td>\n      <td>Holy See</td>\n      <td>41.902900</td>\n      <td>12.453400</td>\n      <td>0</td>\n      <td>0</td>\n      <td>0</td>\n      <td>0</td>\n      <td>0</td>\n      <td>0</td>\n      <td>...</td>\n      <td>12</td>\n      <td>12</td>\n      <td>12</td>\n      <td>12</td>\n      <td>12</td>\n      <td>12</td>\n      <td>12</td>\n      <td>12</td>\n      <td>12</td>\n      <td>12</td>\n    </tr>\n    <tr>\n      <th>140</th>\n      <td>NaN</td>\n      <td>Honduras</td>\n      <td>15.200000</td>\n      <td>-86.241900</td>\n      <td>0</td>\n      <td>0</td>\n      <td>0</td>\n      <td>0</td>\n      <td>0</td>\n      <td>0</td>\n      <td>...</td>\n      <td>63158</td>\n      <td>63798</td>\n      <td>64352</td>\n      <td>64764</td>\n      <td>64814</td>\n      <td>65218</td>\n      <td>65597</td>\n      <td>65802</td>\n      <td>66049</td>\n      <td>67136</td>\n    </tr>\n    <tr>\n      <th>141</th>\n      <td>NaN</td>\n      <td>Hungary</td>\n      <td>47.162500</td>\n      <td>19.503300</td>\n      <td>0</td>\n      <td>0</td>\n      <td>0</td>\n      <td>0</td>\n      <td>0</td>\n      <td>0</td>\n      <td>...</td>\n      <td>6923</td>\n      <td>7382</td>\n      <td>7892</td>\n      <td>8387</td>\n      <td>8963</td>\n      <td>9304</td>\n      <td>9715</td>\n      <td>10191</td>\n      <td>10909</td>\n      <td>11825</td>\n    </tr>\n    <tr>\n      <th>142</th>\n      <td>NaN</td>\n      <td>Iceland</td>\n      <td>64.963100</td>\n      <td>-19.020800</td>\n      <td>0</td>\n      <td>0</td>\n      <td>0</td>\n      <td>0</td>\n      <td>0</td>\n      <td>0</td>\n      <td>...</td>\n      <td>2128</td>\n      <td>2135</td>\n      <td>2136</td>\n      <td>2141</td>\n      <td>2143</td>\n      <td>2150</td>\n      <td>2153</td>\n      <td>2157</td>\n      <td>2161</td>\n      <td>2162</td>\n    </tr>\n    <tr>\n      <th>143</th>\n      <td>NaN</td>\n      <td>India</td>\n      <td>20.593684</td>\n      <td>78.962880</td>\n      <td>0</td>\n      <td>0</td>\n      <td>0</td>\n      <td>0</td>\n      <td>0</td>\n      <td>0</td>\n      <td>...</td>\n      <td>3936747</td>\n      <td>4023179</td>\n      <td>4113811</td>\n      <td>4204613</td>\n      <td>4280422</td>\n      <td>4370128</td>\n      <td>4465863</td>\n      <td>4562414</td>\n      <td>4659984</td>\n      <td>4754356</td>\n    </tr>\n    <tr>\n      <th>144</th>\n      <td>NaN</td>\n      <td>Indonesia</td>\n      <td>-0.789300</td>\n      <td>113.921300</td>\n      <td>0</td>\n      <td>0</td>\n      <td>0</td>\n      <td>0</td>\n      <td>0</td>\n      <td>0</td>\n      <td>...</td>\n      <td>184268</td>\n      <td>187537</td>\n      <td>190665</td>\n      <td>194109</td>\n      <td>196989</td>\n      <td>200035</td>\n      <td>203342</td>\n      <td>207203</td>\n      <td>210940</td>\n      <td>214746</td>\n    </tr>\n    <tr>\n      <th>145</th>\n      <td>NaN</td>\n      <td>Iran</td>\n      <td>32.427908</td>\n      <td>53.688046</td>\n      <td>0</td>\n      <td>0</td>\n      <td>0</td>\n      <td>0</td>\n      <td>0</td>\n      <td>0</td>\n      <td>...</td>\n      <td>380746</td>\n      <td>382772</td>\n      <td>384666</td>\n      <td>386658</td>\n      <td>388810</td>\n      <td>391112</td>\n      <td>393425</td>\n      <td>395488</td>\n      <td>397801</td>\n      <td>399940</td>\n    </tr>\n    <tr>\n      <th>146</th>\n      <td>NaN</td>\n      <td>Iraq</td>\n      <td>33.223191</td>\n      <td>43.679291</td>\n      <td>0</td>\n      <td>0</td>\n      <td>0</td>\n      <td>0</td>\n      <td>0</td>\n      <td>0</td>\n      <td>...</td>\n      <td>247039</td>\n      <td>252075</td>\n      <td>256719</td>\n      <td>260370</td>\n      <td>264684</td>\n      <td>269578</td>\n      <td>273821</td>\n      <td>278418</td>\n      <td>282672</td>\n      <td>286778</td>\n    </tr>\n    <tr>\n      <th>147</th>\n      <td>NaN</td>\n      <td>Ireland</td>\n      <td>53.142400</td>\n      <td>-7.692100</td>\n      <td>0</td>\n      <td>0</td>\n      <td>0</td>\n      <td>0</td>\n      <td>0</td>\n      <td>0</td>\n      <td>...</td>\n      <td>29206</td>\n      <td>29303</td>\n      <td>29534</td>\n      <td>29672</td>\n      <td>29774</td>\n      <td>30080</td>\n      <td>30164</td>\n      <td>30360</td>\n      <td>30571</td>\n      <td>30730</td>\n    </tr>\n    <tr>\n      <th>148</th>\n      <td>NaN</td>\n      <td>Israel</td>\n      <td>31.046051</td>\n      <td>34.851612</td>\n      <td>0</td>\n      <td>0</td>\n      <td>0</td>\n      <td>0</td>\n      <td>0</td>\n      <td>0</td>\n      <td>...</td>\n      <td>124455</td>\n      <td>126419</td>\n      <td>128936</td>\n      <td>130644</td>\n      <td>133975</td>\n      <td>137565</td>\n      <td>141097</td>\n      <td>145526</td>\n      <td>148564</td>\n      <td>152722</td>\n    </tr>\n    <tr>\n      <th>149</th>\n      <td>NaN</td>\n      <td>Italy</td>\n      <td>41.871940</td>\n      <td>12.567380</td>\n      <td>0</td>\n      <td>0</td>\n      <td>0</td>\n      <td>0</td>\n      <td>0</td>\n      <td>0</td>\n      <td>...</td>\n      <td>272912</td>\n      <td>274644</td>\n      <td>276338</td>\n      <td>277634</td>\n      <td>278784</td>\n      <td>280153</td>\n      <td>281583</td>\n      <td>283180</td>\n      <td>284796</td>\n      <td>286297</td>\n    </tr>\n    <tr>\n      <th>150</th>\n      <td>NaN</td>\n      <td>Jamaica</td>\n      <td>18.109600</td>\n      <td>-77.297500</td>\n      <td>0</td>\n      <td>0</td>\n      <td>0</td>\n      <td>0</td>\n      <td>0</td>\n      <td>0</td>\n      <td>...</td>\n      <td>2896</td>\n      <td>2964</td>\n      <td>3024</td>\n      <td>3103</td>\n      <td>3183</td>\n      <td>3323</td>\n      <td>3437</td>\n      <td>3511</td>\n      <td>3511</td>\n      <td>3623</td>\n    </tr>\n    <tr>\n      <th>151</th>\n      <td>NaN</td>\n      <td>Japan</td>\n      <td>36.204824</td>\n      <td>138.252924</td>\n      <td>2</td>\n      <td>2</td>\n      <td>2</td>\n      <td>2</td>\n      <td>4</td>\n      <td>4</td>\n      <td>...</td>\n      <td>70278</td>\n      <td>70866</td>\n      <td>71467</td>\n      <td>71918</td>\n      <td>72213</td>\n      <td>72724</td>\n      <td>73264</td>\n      <td>73916</td>\n      <td>74558</td>\n      <td>75206</td>\n    </tr>\n    <tr>\n      <th>152</th>\n      <td>NaN</td>\n      <td>Jordan</td>\n      <td>31.240000</td>\n      <td>36.510000</td>\n      <td>0</td>\n      <td>0</td>\n      <td>0</td>\n      <td>0</td>\n      <td>0</td>\n      <td>0</td>\n      <td>...</td>\n      <td>2233</td>\n      <td>2301</td>\n      <td>2353</td>\n      <td>2411</td>\n      <td>2478</td>\n      <td>2581</td>\n      <td>2659</td>\n      <td>2739</td>\n      <td>2945</td>\n      <td>3062</td>\n    </tr>\n    <tr>\n      <th>153</th>\n      <td>NaN</td>\n      <td>Kazakhstan</td>\n      <td>48.019600</td>\n      <td>66.923700</td>\n      <td>0</td>\n      <td>0</td>\n      <td>0</td>\n      <td>0</td>\n      <td>0</td>\n      <td>0</td>\n      <td>...</td>\n      <td>106121</td>\n      <td>106225</td>\n      <td>106301</td>\n      <td>106361</td>\n      <td>106425</td>\n      <td>106498</td>\n      <td>106584</td>\n      <td>106661</td>\n      <td>106729</td>\n      <td>106803</td>\n    </tr>\n    <tr>\n      <th>154</th>\n      <td>NaN</td>\n      <td>Kenya</td>\n      <td>-0.023600</td>\n      <td>37.906200</td>\n      <td>0</td>\n      <td>0</td>\n      <td>0</td>\n      <td>0</td>\n      <td>0</td>\n      <td>0</td>\n      <td>...</td>\n      <td>34705</td>\n      <td>34884</td>\n      <td>35020</td>\n      <td>35103</td>\n      <td>35205</td>\n      <td>35356</td>\n      <td>35460</td>\n      <td>35603</td>\n      <td>35793</td>\n      <td>35969</td>\n    </tr>\n    <tr>\n      <th>155</th>\n      <td>NaN</td>\n      <td>Korea, South</td>\n      <td>35.907757</td>\n      <td>127.766922</td>\n      <td>1</td>\n      <td>1</td>\n      <td>2</td>\n      <td>2</td>\n      <td>3</td>\n      <td>4</td>\n      <td>...</td>\n      <td>20842</td>\n      <td>21010</td>\n      <td>21177</td>\n      <td>21296</td>\n      <td>21432</td>\n      <td>21588</td>\n      <td>21743</td>\n      <td>21919</td>\n      <td>22055</td>\n      <td>22176</td>\n    </tr>\n    <tr>\n      <th>156</th>\n      <td>NaN</td>\n      <td>Kosovo</td>\n      <td>42.602636</td>\n      <td>20.902977</td>\n      <td>0</td>\n      <td>0</td>\n      <td>0</td>\n      <td>0</td>\n      <td>0</td>\n      <td>0</td>\n      <td>...</td>\n      <td>12683</td>\n      <td>12683</td>\n      <td>12683</td>\n      <td>12683</td>\n      <td>12683</td>\n      <td>12683</td>\n      <td>12683</td>\n      <td>12683</td>\n      <td>12683</td>\n      <td>12683</td>\n    </tr>\n    <tr>\n      <th>157</th>\n      <td>NaN</td>\n      <td>Kuwait</td>\n      <td>29.311660</td>\n      <td>47.481766</td>\n      <td>0</td>\n      <td>0</td>\n      <td>0</td>\n      <td>0</td>\n      <td>0</td>\n      <td>0</td>\n      <td>...</td>\n      <td>87378</td>\n      <td>88243</td>\n      <td>88963</td>\n      <td>89582</td>\n      <td>90387</td>\n      <td>91244</td>\n      <td>92082</td>\n      <td>92822</td>\n      <td>93475</td>\n      <td>94211</td>\n    </tr>\n    <tr>\n      <th>158</th>\n      <td>NaN</td>\n      <td>Kyrgyzstan</td>\n      <td>41.204380</td>\n      <td>74.766098</td>\n      <td>0</td>\n      <td>0</td>\n      <td>0</td>\n      <td>0</td>\n      <td>0</td>\n      <td>0</td>\n      <td>...</td>\n      <td>44135</td>\n      <td>44199</td>\n      <td>44293</td>\n      <td>44403</td>\n      <td>44458</td>\n      <td>44487</td>\n      <td>44613</td>\n      <td>44684</td>\n      <td>44761</td>\n      <td>44828</td>\n    </tr>\n    <tr>\n      <th>159</th>\n      <td>NaN</td>\n      <td>Laos</td>\n      <td>19.856270</td>\n      <td>102.495496</td>\n      <td>0</td>\n      <td>0</td>\n      <td>0</td>\n      <td>0</td>\n      <td>0</td>\n      <td>0</td>\n      <td>...</td>\n      <td>22</td>\n      <td>22</td>\n      <td>22</td>\n      <td>22</td>\n      <td>22</td>\n      <td>22</td>\n      <td>22</td>\n      <td>22</td>\n      <td>23</td>\n      <td>23</td>\n    </tr>\n    <tr>\n      <th>160</th>\n      <td>NaN</td>\n      <td>Latvia</td>\n      <td>56.879600</td>\n      <td>24.603200</td>\n      <td>0</td>\n      <td>0</td>\n      <td>0</td>\n      <td>0</td>\n      <td>0</td>\n      <td>0</td>\n      <td>...</td>\n      <td>1410</td>\n      <td>1416</td>\n      <td>1425</td>\n      <td>1428</td>\n      <td>1429</td>\n      <td>1432</td>\n      <td>1443</td>\n      <td>1448</td>\n      <td>1459</td>\n      <td>1464</td>\n    </tr>\n    <tr>\n      <th>161</th>\n      <td>NaN</td>\n      <td>Lebanon</td>\n      <td>33.854700</td>\n      <td>35.862300</td>\n      <td>0</td>\n      <td>0</td>\n      <td>0</td>\n      <td>0</td>\n      <td>0</td>\n      <td>0</td>\n      <td>...</td>\n      <td>18963</td>\n      <td>19490</td>\n      <td>20011</td>\n      <td>20426</td>\n      <td>20826</td>\n      <td>21324</td>\n      <td>21877</td>\n      <td>22437</td>\n      <td>22983</td>\n      <td>23669</td>\n    </tr>\n    <tr>\n      <th>162</th>\n      <td>NaN</td>\n      <td>Lesotho</td>\n      <td>-29.610000</td>\n      <td>28.233600</td>\n      <td>0</td>\n      <td>0</td>\n      <td>0</td>\n      <td>0</td>\n      <td>0</td>\n      <td>0</td>\n      <td>...</td>\n      <td>1085</td>\n      <td>1148</td>\n      <td>1148</td>\n      <td>1148</td>\n      <td>1148</td>\n      <td>1148</td>\n      <td>1164</td>\n      <td>1164</td>\n      <td>1245</td>\n      <td>1245</td>\n    </tr>\n    <tr>\n      <th>163</th>\n      <td>NaN</td>\n      <td>Liberia</td>\n      <td>6.428055</td>\n      <td>-9.429499</td>\n      <td>0</td>\n      <td>0</td>\n      <td>0</td>\n      <td>0</td>\n      <td>0</td>\n      <td>0</td>\n      <td>...</td>\n      <td>1306</td>\n      <td>1306</td>\n      <td>1306</td>\n      <td>1307</td>\n      <td>1311</td>\n      <td>1311</td>\n      <td>1313</td>\n      <td>1315</td>\n      <td>1315</td>\n      <td>1316</td>\n    </tr>\n    <tr>\n      <th>164</th>\n      <td>NaN</td>\n      <td>Libya</td>\n      <td>26.335100</td>\n      <td>17.228331</td>\n      <td>0</td>\n      <td>0</td>\n      <td>0</td>\n      <td>0</td>\n      <td>0</td>\n      <td>0</td>\n      <td>...</td>\n      <td>15773</td>\n      <td>16445</td>\n      <td>17094</td>\n      <td>17749</td>\n      <td>18834</td>\n      <td>19583</td>\n      <td>20462</td>\n      <td>20939</td>\n      <td>21908</td>\n      <td>22348</td>\n    </tr>\n    <tr>\n      <th>165</th>\n      <td>NaN</td>\n      <td>Liechtenstein</td>\n      <td>47.140000</td>\n      <td>9.550000</td>\n      <td>0</td>\n      <td>0</td>\n      <td>0</td>\n      <td>0</td>\n      <td>0</td>\n      <td>0</td>\n      <td>...</td>\n      <td>107</td>\n      <td>107</td>\n      <td>107</td>\n      <td>107</td>\n      <td>107</td>\n      <td>107</td>\n      <td>108</td>\n      <td>109</td>\n      <td>109</td>\n      <td>111</td>\n    </tr>\n    <tr>\n      <th>166</th>\n      <td>NaN</td>\n      <td>Lithuania</td>\n      <td>55.169400</td>\n      <td>23.881300</td>\n      <td>0</td>\n      <td>0</td>\n      <td>0</td>\n      <td>0</td>\n      <td>0</td>\n      <td>0</td>\n      <td>...</td>\n      <td>2978</td>\n      <td>3004</td>\n      <td>3040</td>\n      <td>3083</td>\n      <td>3100</td>\n      <td>3131</td>\n      <td>3163</td>\n      <td>3199</td>\n      <td>3243</td>\n      <td>3296</td>\n    </tr>\n    <tr>\n      <th>167</th>\n      <td>NaN</td>\n      <td>Luxembourg</td>\n      <td>49.815300</td>\n      <td>6.129600</td>\n      <td>0</td>\n      <td>0</td>\n      <td>0</td>\n      <td>0</td>\n      <td>0</td>\n      <td>0</td>\n      <td>...</td>\n      <td>6811</td>\n      <td>6854</td>\n      <td>6896</td>\n      <td>6950</td>\n      <td>6960</td>\n      <td>6974</td>\n      <td>7023</td>\n      <td>7088</td>\n      <td>7088</td>\n      <td>7159</td>\n    </tr>\n    <tr>\n      <th>168</th>\n      <td>NaN</td>\n      <td>MS Zaandam</td>\n      <td>0.000000</td>\n      <td>0.000000</td>\n      <td>0</td>\n      <td>0</td>\n      <td>0</td>\n      <td>0</td>\n      <td>0</td>\n      <td>0</td>\n      <td>...</td>\n      <td>9</td>\n      <td>9</td>\n      <td>9</td>\n      <td>9</td>\n      <td>9</td>\n      <td>9</td>\n      <td>9</td>\n      <td>9</td>\n      <td>9</td>\n      <td>9</td>\n    </tr>\n    <tr>\n      <th>169</th>\n      <td>NaN</td>\n      <td>Madagascar</td>\n      <td>-18.766947</td>\n      <td>46.869107</td>\n      <td>0</td>\n      <td>0</td>\n      <td>0</td>\n      <td>0</td>\n      <td>0</td>\n      <td>0</td>\n      <td>...</td>\n      <td>15106</td>\n      <td>15187</td>\n      <td>15269</td>\n      <td>15319</td>\n      <td>15352</td>\n      <td>15435</td>\n      <td>15520</td>\n      <td>15624</td>\n      <td>15669</td>\n      <td>15737</td>\n    </tr>\n    <tr>\n      <th>170</th>\n      <td>NaN</td>\n      <td>Malawi</td>\n      <td>-13.254300</td>\n      <td>34.301500</td>\n      <td>0</td>\n      <td>0</td>\n      <td>0</td>\n      <td>0</td>\n      <td>0</td>\n      <td>0</td>\n      <td>...</td>\n      <td>5593</td>\n      <td>5608</td>\n      <td>5611</td>\n      <td>5614</td>\n      <td>5621</td>\n      <td>5630</td>\n      <td>5653</td>\n      <td>5655</td>\n      <td>5669</td>\n      <td>5678</td>\n    </tr>\n    <tr>\n      <th>171</th>\n      <td>NaN</td>\n      <td>Malaysia</td>\n      <td>4.210484</td>\n      <td>101.975766</td>\n      <td>0</td>\n      <td>0</td>\n      <td>0</td>\n      <td>3</td>\n      <td>4</td>\n      <td>4</td>\n      <td>...</td>\n      <td>9374</td>\n      <td>9385</td>\n      <td>9391</td>\n      <td>9397</td>\n      <td>9459</td>\n      <td>9559</td>\n      <td>9583</td>\n      <td>9628</td>\n      <td>9810</td>\n      <td>9868</td>\n    </tr>\n    <tr>\n      <th>172</th>\n      <td>NaN</td>\n      <td>Maldives</td>\n      <td>3.202800</td>\n      <td>73.220700</td>\n      <td>0</td>\n      <td>0</td>\n      <td>0</td>\n      <td>0</td>\n      <td>0</td>\n      <td>0</td>\n      <td>...</td>\n      <td>8281</td>\n      <td>8361</td>\n      <td>8486</td>\n      <td>8584</td>\n      <td>8667</td>\n      <td>8741</td>\n      <td>8834</td>\n      <td>8900</td>\n      <td>8990</td>\n      <td>9052</td>\n    </tr>\n    <tr>\n      <th>173</th>\n      <td>NaN</td>\n      <td>Mali</td>\n      <td>17.570692</td>\n      <td>-3.996166</td>\n      <td>0</td>\n      <td>0</td>\n      <td>0</td>\n      <td>0</td>\n      <td>0</td>\n      <td>0</td>\n      <td>...</td>\n      <td>2807</td>\n      <td>2814</td>\n      <td>2833</td>\n      <td>2842</td>\n      <td>2870</td>\n      <td>2882</td>\n      <td>2898</td>\n      <td>2909</td>\n      <td>2912</td>\n      <td>2916</td>\n    </tr>\n    <tr>\n      <th>174</th>\n      <td>NaN</td>\n      <td>Malta</td>\n      <td>35.937500</td>\n      <td>14.375400</td>\n      <td>0</td>\n      <td>0</td>\n      <td>0</td>\n      <td>0</td>\n      <td>0</td>\n      <td>0</td>\n      <td>...</td>\n      <td>1965</td>\n      <td>1984</td>\n      <td>2014</td>\n      <td>2039</td>\n      <td>2076</td>\n      <td>2099</td>\n      <td>2162</td>\n      <td>2204</td>\n      <td>2247</td>\n      <td>2274</td>\n    </tr>\n    <tr>\n      <th>175</th>\n      <td>NaN</td>\n      <td>Mauritania</td>\n      <td>21.007900</td>\n      <td>-10.940800</td>\n      <td>0</td>\n      <td>0</td>\n      <td>0</td>\n      <td>0</td>\n      <td>0</td>\n      <td>0</td>\n      <td>...</td>\n      <td>7106</td>\n      <td>7126</td>\n      <td>7134</td>\n      <td>7142</td>\n      <td>7165</td>\n      <td>7165</td>\n      <td>7191</td>\n      <td>7222</td>\n      <td>7266</td>\n      <td>7274</td>\n    </tr>\n    <tr>\n      <th>176</th>\n      <td>NaN</td>\n      <td>Mauritius</td>\n      <td>-20.348404</td>\n      <td>57.552152</td>\n      <td>0</td>\n      <td>0</td>\n      <td>0</td>\n      <td>0</td>\n      <td>0</td>\n      <td>0</td>\n      <td>...</td>\n      <td>356</td>\n      <td>356</td>\n      <td>356</td>\n      <td>356</td>\n      <td>356</td>\n      <td>361</td>\n      <td>361</td>\n      <td>361</td>\n      <td>361</td>\n      <td>361</td>\n    </tr>\n    <tr>\n      <th>177</th>\n      <td>NaN</td>\n      <td>Mexico</td>\n      <td>23.634500</td>\n      <td>-102.552800</td>\n      <td>0</td>\n      <td>0</td>\n      <td>0</td>\n      <td>0</td>\n      <td>0</td>\n      <td>0</td>\n      <td>...</td>\n      <td>616894</td>\n      <td>623090</td>\n      <td>629409</td>\n      <td>634023</td>\n      <td>637509</td>\n      <td>642860</td>\n      <td>647321</td>\n      <td>652364</td>\n      <td>658299</td>\n      <td>663973</td>\n    </tr>\n    <tr>\n      <th>178</th>\n      <td>NaN</td>\n      <td>Moldova</td>\n      <td>47.411600</td>\n      <td>28.369900</td>\n      <td>0</td>\n      <td>0</td>\n      <td>0</td>\n      <td>0</td>\n      <td>0</td>\n      <td>0</td>\n      <td>...</td>\n      <td>38372</td>\n      <td>38906</td>\n      <td>39473</td>\n      <td>39797</td>\n      <td>40055</td>\n      <td>40556</td>\n      <td>41144</td>\n      <td>41704</td>\n      <td>42183</td>\n      <td>42714</td>\n    </tr>\n    <tr>\n      <th>179</th>\n      <td>NaN</td>\n      <td>Monaco</td>\n      <td>43.733300</td>\n      <td>7.416700</td>\n      <td>0</td>\n      <td>0</td>\n      <td>0</td>\n      <td>0</td>\n      <td>0</td>\n      <td>0</td>\n      <td>...</td>\n      <td>143</td>\n      <td>147</td>\n      <td>147</td>\n      <td>147</td>\n      <td>153</td>\n      <td>156</td>\n      <td>161</td>\n      <td>165</td>\n      <td>168</td>\n      <td>169</td>\n    </tr>\n    <tr>\n      <th>180</th>\n      <td>NaN</td>\n      <td>Mongolia</td>\n      <td>46.862500</td>\n      <td>103.846700</td>\n      <td>0</td>\n      <td>0</td>\n      <td>0</td>\n      <td>0</td>\n      <td>0</td>\n      <td>0</td>\n      <td>...</td>\n      <td>310</td>\n      <td>310</td>\n      <td>310</td>\n      <td>310</td>\n      <td>310</td>\n      <td>310</td>\n      <td>310</td>\n      <td>311</td>\n      <td>311</td>\n      <td>311</td>\n    </tr>\n    <tr>\n      <th>181</th>\n      <td>NaN</td>\n      <td>Montenegro</td>\n      <td>42.708678</td>\n      <td>19.374390</td>\n      <td>0</td>\n      <td>0</td>\n      <td>0</td>\n      <td>0</td>\n      <td>0</td>\n      <td>0</td>\n      <td>...</td>\n      <td>5165</td>\n      <td>5275</td>\n      <td>5422</td>\n      <td>5553</td>\n      <td>5659</td>\n      <td>5875</td>\n      <td>6094</td>\n      <td>6222</td>\n      <td>6385</td>\n      <td>6530</td>\n    </tr>\n    <tr>\n      <th>182</th>\n      <td>NaN</td>\n      <td>Morocco</td>\n      <td>31.791700</td>\n      <td>-7.092600</td>\n      <td>0</td>\n      <td>0</td>\n      <td>0</td>\n      <td>0</td>\n      <td>0</td>\n      <td>0</td>\n      <td>...</td>\n      <td>66855</td>\n      <td>68605</td>\n      <td>70160</td>\n      <td>72394</td>\n      <td>73780</td>\n      <td>75721</td>\n      <td>77878</td>\n      <td>79767</td>\n      <td>82197</td>\n      <td>84435</td>\n    </tr>\n    <tr>\n      <th>183</th>\n      <td>NaN</td>\n      <td>Mozambique</td>\n      <td>-18.665695</td>\n      <td>35.529562</td>\n      <td>0</td>\n      <td>0</td>\n      <td>0</td>\n      <td>0</td>\n      <td>0</td>\n      <td>0</td>\n      <td>...</td>\n      <td>4207</td>\n      <td>4265</td>\n      <td>4341</td>\n      <td>4444</td>\n      <td>4557</td>\n      <td>4647</td>\n      <td>4764</td>\n      <td>4832</td>\n      <td>4918</td>\n      <td>5040</td>\n    </tr>\n    <tr>\n      <th>184</th>\n      <td>NaN</td>\n      <td>Namibia</td>\n      <td>-22.957600</td>\n      <td>18.490400</td>\n      <td>0</td>\n      <td>0</td>\n      <td>0</td>\n      <td>0</td>\n      <td>0</td>\n      <td>0</td>\n      <td>...</td>\n      <td>8082</td>\n      <td>8323</td>\n      <td>8514</td>\n      <td>8685</td>\n      <td>8810</td>\n      <td>8928</td>\n      <td>9108</td>\n      <td>9256</td>\n      <td>9437</td>\n      <td>9604</td>\n    </tr>\n    <tr>\n      <th>185</th>\n      <td>NaN</td>\n      <td>Nepal</td>\n      <td>28.166700</td>\n      <td>84.250000</td>\n      <td>0</td>\n      <td>0</td>\n      <td>0</td>\n      <td>1</td>\n      <td>1</td>\n      <td>1</td>\n      <td>...</td>\n      <td>42877</td>\n      <td>44236</td>\n      <td>45277</td>\n      <td>46257</td>\n      <td>47236</td>\n      <td>48138</td>\n      <td>49219</td>\n      <td>50465</td>\n      <td>51919</td>\n      <td>53120</td>\n    </tr>\n    <tr>\n      <th>186</th>\n      <td>Aruba</td>\n      <td>Netherlands</td>\n      <td>12.521100</td>\n      <td>-69.968300</td>\n      <td>0</td>\n      <td>0</td>\n      <td>0</td>\n      <td>0</td>\n      <td>0</td>\n      <td>0</td>\n      <td>...</td>\n      <td>2292</td>\n      <td>2358</td>\n      <td>2428</td>\n      <td>2449</td>\n      <td>2482</td>\n      <td>2589</td>\n      <td>2730</td>\n      <td>2819</td>\n      <td>2898</td>\n      <td>2994</td>\n    </tr>\n    <tr>\n      <th>187</th>\n      <td>Bonaire, Sint Eustatius and Saba</td>\n      <td>Netherlands</td>\n      <td>12.178400</td>\n      <td>-68.238500</td>\n      <td>0</td>\n      <td>0</td>\n      <td>0</td>\n      <td>0</td>\n      <td>0</td>\n      <td>0</td>\n      <td>...</td>\n      <td>18</td>\n      <td>18</td>\n      <td>18</td>\n      <td>18</td>\n      <td>18</td>\n      <td>21</td>\n      <td>21</td>\n      <td>25</td>\n      <td>25</td>\n      <td>25</td>\n    </tr>\n    <tr>\n      <th>188</th>\n      <td>Curacao</td>\n      <td>Netherlands</td>\n      <td>12.169600</td>\n      <td>-68.990000</td>\n      <td>0</td>\n      <td>0</td>\n      <td>0</td>\n      <td>0</td>\n      <td>0</td>\n      <td>0</td>\n      <td>...</td>\n      <td>78</td>\n      <td>78</td>\n      <td>88</td>\n      <td>92</td>\n      <td>102</td>\n      <td>107</td>\n      <td>116</td>\n      <td>131</td>\n      <td>135</td>\n      <td>145</td>\n    </tr>\n    <tr>\n      <th>189</th>\n      <td>Sint Maarten</td>\n      <td>Netherlands</td>\n      <td>18.042500</td>\n      <td>-63.054800</td>\n      <td>0</td>\n      <td>0</td>\n      <td>0</td>\n      <td>0</td>\n      <td>0</td>\n      <td>0</td>\n      <td>...</td>\n      <td>504</td>\n      <td>511</td>\n      <td>511</td>\n      <td>511</td>\n      <td>516</td>\n      <td>527</td>\n      <td>530</td>\n      <td>530</td>\n      <td>531</td>\n      <td>533</td>\n    </tr>\n    <tr>\n      <th>190</th>\n      <td>NaN</td>\n      <td>Netherlands</td>\n      <td>52.132600</td>\n      <td>5.291300</td>\n      <td>0</td>\n      <td>0</td>\n      <td>0</td>\n      <td>0</td>\n      <td>0</td>\n      <td>0</td>\n      <td>...</td>\n      <td>72464</td>\n      <td>73208</td>\n      <td>73862</td>\n      <td>74787</td>\n      <td>75584</td>\n      <td>76548</td>\n      <td>77688</td>\n      <td>78511</td>\n      <td>79781</td>\n      <td>81012</td>\n    </tr>\n    <tr>\n      <th>191</th>\n      <td>NaN</td>\n      <td>New Zealand</td>\n      <td>-40.900600</td>\n      <td>174.886000</td>\n      <td>0</td>\n      <td>0</td>\n      <td>0</td>\n      <td>0</td>\n      <td>0</td>\n      <td>0</td>\n      <td>...</td>\n      <td>1764</td>\n      <td>1767</td>\n      <td>1772</td>\n      <td>1776</td>\n      <td>1782</td>\n      <td>1788</td>\n      <td>1792</td>\n      <td>1793</td>\n      <td>1795</td>\n      <td>1797</td>\n    </tr>\n    <tr>\n      <th>192</th>\n      <td>NaN</td>\n      <td>Nicaragua</td>\n      <td>12.865416</td>\n      <td>-85.207229</td>\n      <td>0</td>\n      <td>0</td>\n      <td>0</td>\n      <td>0</td>\n      <td>0</td>\n      <td>0</td>\n      <td>...</td>\n      <td>4668</td>\n      <td>4668</td>\n      <td>4668</td>\n      <td>4668</td>\n      <td>4668</td>\n      <td>4818</td>\n      <td>4818</td>\n      <td>4818</td>\n      <td>4818</td>\n      <td>4818</td>\n    </tr>\n    <tr>\n      <th>193</th>\n      <td>NaN</td>\n      <td>Niger</td>\n      <td>17.607789</td>\n      <td>8.081666</td>\n      <td>0</td>\n      <td>0</td>\n      <td>0</td>\n      <td>0</td>\n      <td>0</td>\n      <td>0</td>\n      <td>...</td>\n      <td>1177</td>\n      <td>1177</td>\n      <td>1177</td>\n      <td>1177</td>\n      <td>1177</td>\n      <td>1178</td>\n      <td>1178</td>\n      <td>1178</td>\n      <td>1178</td>\n      <td>1178</td>\n    </tr>\n    <tr>\n      <th>194</th>\n      <td>NaN</td>\n      <td>Nigeria</td>\n      <td>9.082000</td>\n      <td>8.675300</td>\n      <td>0</td>\n      <td>0</td>\n      <td>0</td>\n      <td>0</td>\n      <td>0</td>\n      <td>0</td>\n      <td>...</td>\n      <td>54588</td>\n      <td>54743</td>\n      <td>54905</td>\n      <td>55005</td>\n      <td>55160</td>\n      <td>55456</td>\n      <td>55632</td>\n      <td>55829</td>\n      <td>56017</td>\n      <td>56177</td>\n    </tr>\n    <tr>\n      <th>195</th>\n      <td>NaN</td>\n      <td>North Macedonia</td>\n      <td>41.608600</td>\n      <td>21.745300</td>\n      <td>0</td>\n      <td>0</td>\n      <td>0</td>\n      <td>0</td>\n      <td>0</td>\n      <td>0</td>\n      <td>...</td>\n      <td>14762</td>\n      <td>14871</td>\n      <td>14998</td>\n      <td>15090</td>\n      <td>15127</td>\n      <td>15226</td>\n      <td>15293</td>\n      <td>15414</td>\n      <td>15555</td>\n      <td>15694</td>\n    </tr>\n    <tr>\n      <th>196</th>\n      <td>NaN</td>\n      <td>Norway</td>\n      <td>60.472000</td>\n      <td>8.468900</td>\n      <td>0</td>\n      <td>0</td>\n      <td>0</td>\n      <td>0</td>\n      <td>0</td>\n      <td>0</td>\n      <td>...</td>\n      <td>11120</td>\n      <td>11231</td>\n      <td>11296</td>\n      <td>11388</td>\n      <td>11521</td>\n      <td>11623</td>\n      <td>11746</td>\n      <td>11867</td>\n      <td>12003</td>\n      <td>12079</td>\n    </tr>\n    <tr>\n      <th>197</th>\n      <td>NaN</td>\n      <td>Oman</td>\n      <td>21.512583</td>\n      <td>55.923255</td>\n      <td>0</td>\n      <td>0</td>\n      <td>0</td>\n      <td>0</td>\n      <td>0</td>\n      <td>0</td>\n      <td>...</td>\n      <td>86380</td>\n      <td>86380</td>\n      <td>86380</td>\n      <td>87072</td>\n      <td>87328</td>\n      <td>87590</td>\n      <td>87939</td>\n      <td>88337</td>\n      <td>88337</td>\n      <td>88337</td>\n    </tr>\n    <tr>\n      <th>198</th>\n      <td>NaN</td>\n      <td>Pakistan</td>\n      <td>30.375300</td>\n      <td>69.345100</td>\n      <td>0</td>\n      <td>0</td>\n      <td>0</td>\n      <td>0</td>\n      <td>0</td>\n      <td>0</td>\n      <td>...</td>\n      <td>297512</td>\n      <td>298025</td>\n      <td>298025</td>\n      <td>298903</td>\n      <td>299233</td>\n      <td>299659</td>\n      <td>300030</td>\n      <td>300371</td>\n      <td>300955</td>\n      <td>301481</td>\n    </tr>\n    <tr>\n      <th>199</th>\n      <td>NaN</td>\n      <td>Panama</td>\n      <td>8.538000</td>\n      <td>-80.782100</td>\n      <td>0</td>\n      <td>0</td>\n      <td>0</td>\n      <td>0</td>\n      <td>0</td>\n      <td>0</td>\n      <td>...</td>\n      <td>94914</td>\n      <td>95596</td>\n      <td>96305</td>\n      <td>97043</td>\n      <td>97578</td>\n      <td>98407</td>\n      <td>99042</td>\n      <td>99715</td>\n      <td>100330</td>\n      <td>101041</td>\n    </tr>\n    <tr>\n      <th>200</th>\n      <td>NaN</td>\n      <td>Papua New Guinea</td>\n      <td>-6.314993</td>\n      <td>143.955550</td>\n      <td>0</td>\n      <td>0</td>\n      <td>0</td>\n      <td>0</td>\n      <td>0</td>\n      <td>0</td>\n      <td>...</td>\n      <td>471</td>\n      <td>479</td>\n      <td>488</td>\n      <td>497</td>\n      <td>497</td>\n      <td>503</td>\n      <td>504</td>\n      <td>507</td>\n      <td>508</td>\n      <td>508</td>\n    </tr>\n    <tr>\n      <th>201</th>\n      <td>NaN</td>\n      <td>Paraguay</td>\n      <td>-23.442500</td>\n      <td>-58.443800</td>\n      <td>0</td>\n      <td>0</td>\n      <td>0</td>\n      <td>0</td>\n      <td>0</td>\n      <td>0</td>\n      <td>...</td>\n      <td>19959</td>\n      <td>20654</td>\n      <td>21871</td>\n      <td>22486</td>\n      <td>23353</td>\n      <td>24214</td>\n      <td>25026</td>\n      <td>25631</td>\n      <td>26512</td>\n      <td>27324</td>\n    </tr>\n    <tr>\n      <th>202</th>\n      <td>NaN</td>\n      <td>Peru</td>\n      <td>-9.190000</td>\n      <td>-75.015200</td>\n      <td>0</td>\n      <td>0</td>\n      <td>0</td>\n      <td>0</td>\n      <td>0</td>\n      <td>0</td>\n      <td>...</td>\n      <td>657129</td>\n      <td>670145</td>\n      <td>676848</td>\n      <td>683702</td>\n      <td>689977</td>\n      <td>691575</td>\n      <td>696190</td>\n      <td>702776</td>\n      <td>710067</td>\n      <td>716670</td>\n    </tr>\n    <tr>\n      <th>203</th>\n      <td>NaN</td>\n      <td>Philippines</td>\n      <td>12.879721</td>\n      <td>121.774017</td>\n      <td>0</td>\n      <td>0</td>\n      <td>0</td>\n      <td>0</td>\n      <td>0</td>\n      <td>0</td>\n      <td>...</td>\n      <td>228403</td>\n      <td>232072</td>\n      <td>234570</td>\n      <td>237365</td>\n      <td>238727</td>\n      <td>241987</td>\n      <td>245143</td>\n      <td>248947</td>\n      <td>252964</td>\n      <td>257863</td>\n    </tr>\n    <tr>\n      <th>204</th>\n      <td>NaN</td>\n      <td>Poland</td>\n      <td>51.919400</td>\n      <td>19.145100</td>\n      <td>0</td>\n      <td>0</td>\n      <td>0</td>\n      <td>0</td>\n      <td>0</td>\n      <td>0</td>\n      <td>...</td>\n      <td>69129</td>\n      <td>69820</td>\n      <td>70387</td>\n      <td>70824</td>\n      <td>71126</td>\n      <td>71526</td>\n      <td>71947</td>\n      <td>72453</td>\n      <td>73047</td>\n      <td>73650</td>\n    </tr>\n    <tr>\n      <th>205</th>\n      <td>NaN</td>\n      <td>Portugal</td>\n      <td>39.399900</td>\n      <td>-8.224500</td>\n      <td>0</td>\n      <td>0</td>\n      <td>0</td>\n      <td>0</td>\n      <td>0</td>\n      <td>0</td>\n      <td>...</td>\n      <td>59051</td>\n      <td>59457</td>\n      <td>59943</td>\n      <td>60258</td>\n      <td>60507</td>\n      <td>60895</td>\n      <td>61541</td>\n      <td>62126</td>\n      <td>62813</td>\n      <td>63310</td>\n    </tr>\n    <tr>\n      <th>206</th>\n      <td>NaN</td>\n      <td>Qatar</td>\n      <td>25.354800</td>\n      <td>51.183900</td>\n      <td>0</td>\n      <td>0</td>\n      <td>0</td>\n      <td>0</td>\n      <td>0</td>\n      <td>0</td>\n      <td>...</td>\n      <td>119420</td>\n      <td>119637</td>\n      <td>119864</td>\n      <td>120095</td>\n      <td>120348</td>\n      <td>120579</td>\n      <td>120846</td>\n      <td>121052</td>\n      <td>121287</td>\n      <td>121523</td>\n    </tr>\n    <tr>\n      <th>207</th>\n      <td>NaN</td>\n      <td>Romania</td>\n      <td>45.943200</td>\n      <td>24.966800</td>\n      <td>0</td>\n      <td>0</td>\n      <td>0</td>\n      <td>0</td>\n      <td>0</td>\n      <td>0</td>\n      <td>...</td>\n      <td>91256</td>\n      <td>92595</td>\n      <td>93864</td>\n      <td>95014</td>\n      <td>95897</td>\n      <td>97033</td>\n      <td>98304</td>\n      <td>99684</td>\n      <td>101075</td>\n      <td>102386</td>\n    </tr>\n    <tr>\n      <th>208</th>\n      <td>NaN</td>\n      <td>Russia</td>\n      <td>61.524010</td>\n      <td>105.318756</td>\n      <td>0</td>\n      <td>0</td>\n      <td>0</td>\n      <td>0</td>\n      <td>0</td>\n      <td>0</td>\n      <td>...</td>\n      <td>1006923</td>\n      <td>1011987</td>\n      <td>1017131</td>\n      <td>1022228</td>\n      <td>1027334</td>\n      <td>1032354</td>\n      <td>1037526</td>\n      <td>1042836</td>\n      <td>1048257</td>\n      <td>1053663</td>\n    </tr>\n    <tr>\n      <th>209</th>\n      <td>NaN</td>\n      <td>Rwanda</td>\n      <td>-1.940300</td>\n      <td>29.873900</td>\n      <td>0</td>\n      <td>0</td>\n      <td>0</td>\n      <td>0</td>\n      <td>0</td>\n      <td>0</td>\n      <td>...</td>\n      <td>4255</td>\n      <td>4304</td>\n      <td>4349</td>\n      <td>4374</td>\n      <td>4409</td>\n      <td>4439</td>\n      <td>4460</td>\n      <td>4479</td>\n      <td>4534</td>\n      <td>4565</td>\n    </tr>\n    <tr>\n      <th>210</th>\n      <td>NaN</td>\n      <td>Saint Kitts and Nevis</td>\n      <td>17.357822</td>\n      <td>-62.782998</td>\n      <td>0</td>\n      <td>0</td>\n      <td>0</td>\n      <td>0</td>\n      <td>0</td>\n      <td>0</td>\n      <td>...</td>\n      <td>17</td>\n      <td>17</td>\n      <td>17</td>\n      <td>17</td>\n      <td>17</td>\n      <td>17</td>\n      <td>17</td>\n      <td>17</td>\n      <td>17</td>\n      <td>17</td>\n    </tr>\n    <tr>\n      <th>211</th>\n      <td>NaN</td>\n      <td>Saint Lucia</td>\n      <td>13.909400</td>\n      <td>-60.978900</td>\n      <td>0</td>\n      <td>0</td>\n      <td>0</td>\n      <td>0</td>\n      <td>0</td>\n      <td>0</td>\n      <td>...</td>\n      <td>26</td>\n      <td>26</td>\n      <td>26</td>\n      <td>26</td>\n      <td>26</td>\n      <td>26</td>\n      <td>27</td>\n      <td>27</td>\n      <td>27</td>\n      <td>27</td>\n    </tr>\n    <tr>\n      <th>212</th>\n      <td>NaN</td>\n      <td>Saint Vincent and the Grenadines</td>\n      <td>12.984300</td>\n      <td>-61.287200</td>\n      <td>0</td>\n      <td>0</td>\n      <td>0</td>\n      <td>0</td>\n      <td>0</td>\n      <td>0</td>\n      <td>...</td>\n      <td>61</td>\n      <td>61</td>\n      <td>61</td>\n      <td>61</td>\n      <td>62</td>\n      <td>62</td>\n      <td>62</td>\n      <td>62</td>\n      <td>64</td>\n      <td>64</td>\n    </tr>\n    <tr>\n      <th>213</th>\n      <td>NaN</td>\n      <td>San Marino</td>\n      <td>43.942400</td>\n      <td>12.457800</td>\n      <td>0</td>\n      <td>0</td>\n      <td>0</td>\n      <td>0</td>\n      <td>0</td>\n      <td>0</td>\n      <td>...</td>\n      <td>735</td>\n      <td>735</td>\n      <td>716</td>\n      <td>716</td>\n      <td>716</td>\n      <td>716</td>\n      <td>722</td>\n      <td>722</td>\n      <td>722</td>\n      <td>722</td>\n    </tr>\n    <tr>\n      <th>214</th>\n      <td>NaN</td>\n      <td>Sao Tome and Principe</td>\n      <td>0.186400</td>\n      <td>6.613100</td>\n      <td>0</td>\n      <td>0</td>\n      <td>0</td>\n      <td>0</td>\n      <td>0</td>\n      <td>0</td>\n      <td>...</td>\n      <td>897</td>\n      <td>897</td>\n      <td>898</td>\n      <td>898</td>\n      <td>898</td>\n      <td>898</td>\n      <td>898</td>\n      <td>901</td>\n      <td>906</td>\n      <td>906</td>\n    </tr>\n    <tr>\n      <th>215</th>\n      <td>NaN</td>\n      <td>Saudi Arabia</td>\n      <td>23.885942</td>\n      <td>45.079162</td>\n      <td>0</td>\n      <td>0</td>\n      <td>0</td>\n      <td>0</td>\n      <td>0</td>\n      <td>0</td>\n      <td>...</td>\n      <td>318319</td>\n      <td>319141</td>\n      <td>319932</td>\n      <td>320688</td>\n      <td>321456</td>\n      <td>322237</td>\n      <td>323012</td>\n      <td>323720</td>\n      <td>324407</td>\n      <td>325050</td>\n    </tr>\n    <tr>\n      <th>216</th>\n      <td>NaN</td>\n      <td>Senegal</td>\n      <td>14.497400</td>\n      <td>-14.452400</td>\n      <td>0</td>\n      <td>0</td>\n      <td>0</td>\n      <td>0</td>\n      <td>0</td>\n      <td>0</td>\n      <td>...</td>\n      <td>13826</td>\n      <td>13881</td>\n      <td>13948</td>\n      <td>13987</td>\n      <td>14014</td>\n      <td>14044</td>\n      <td>14102</td>\n      <td>14150</td>\n      <td>14193</td>\n      <td>14237</td>\n    </tr>\n    <tr>\n      <th>217</th>\n      <td>NaN</td>\n      <td>Serbia</td>\n      <td>44.016500</td>\n      <td>21.005900</td>\n      <td>0</td>\n      <td>0</td>\n      <td>0</td>\n      <td>0</td>\n      <td>0</td>\n      <td>0</td>\n      <td>...</td>\n      <td>31676</td>\n      <td>31772</td>\n      <td>31849</td>\n      <td>31905</td>\n      <td>31941</td>\n      <td>31994</td>\n      <td>32078</td>\n      <td>32136</td>\n      <td>32228</td>\n      <td>32300</td>\n    </tr>\n    <tr>\n      <th>218</th>\n      <td>NaN</td>\n      <td>Seychelles</td>\n      <td>-4.679600</td>\n      <td>55.492000</td>\n      <td>0</td>\n      <td>0</td>\n      <td>0</td>\n      <td>0</td>\n      <td>0</td>\n      <td>0</td>\n      <td>...</td>\n      <td>136</td>\n      <td>136</td>\n      <td>136</td>\n      <td>136</td>\n      <td>137</td>\n      <td>137</td>\n      <td>137</td>\n      <td>137</td>\n      <td>138</td>\n      <td>139</td>\n    </tr>\n    <tr>\n      <th>219</th>\n      <td>NaN</td>\n      <td>Sierra Leone</td>\n      <td>8.460555</td>\n      <td>-11.779889</td>\n      <td>0</td>\n      <td>0</td>\n      <td>0</td>\n      <td>0</td>\n      <td>0</td>\n      <td>0</td>\n      <td>...</td>\n      <td>2035</td>\n      <td>2041</td>\n      <td>2041</td>\n      <td>2054</td>\n      <td>2055</td>\n      <td>2064</td>\n      <td>2067</td>\n      <td>2069</td>\n      <td>2087</td>\n      <td>2096</td>\n    </tr>\n    <tr>\n      <th>220</th>\n      <td>NaN</td>\n      <td>Singapore</td>\n      <td>1.283300</td>\n      <td>103.833300</td>\n      <td>0</td>\n      <td>1</td>\n      <td>3</td>\n      <td>3</td>\n      <td>4</td>\n      <td>5</td>\n      <td>...</td>\n      <td>56908</td>\n      <td>56948</td>\n      <td>56982</td>\n      <td>57022</td>\n      <td>57044</td>\n      <td>57091</td>\n      <td>57166</td>\n      <td>57229</td>\n      <td>57315</td>\n      <td>57357</td>\n    </tr>\n    <tr>\n      <th>221</th>\n      <td>NaN</td>\n      <td>Slovakia</td>\n      <td>48.669000</td>\n      <td>19.699000</td>\n      <td>0</td>\n      <td>0</td>\n      <td>0</td>\n      <td>0</td>\n      <td>0</td>\n      <td>0</td>\n      <td>...</td>\n      <td>4163</td>\n      <td>4300</td>\n      <td>4526</td>\n      <td>4614</td>\n      <td>4636</td>\n      <td>4727</td>\n      <td>4888</td>\n      <td>5066</td>\n      <td>5252</td>\n      <td>5453</td>\n    </tr>\n    <tr>\n      <th>222</th>\n      <td>NaN</td>\n      <td>Slovenia</td>\n      <td>46.151200</td>\n      <td>14.995500</td>\n      <td>0</td>\n      <td>0</td>\n      <td>0</td>\n      <td>0</td>\n      <td>0</td>\n      <td>0</td>\n      <td>...</td>\n      <td>3032</td>\n      <td>3079</td>\n      <td>3122</td>\n      <td>3165</td>\n      <td>3190</td>\n      <td>3232</td>\n      <td>3312</td>\n      <td>3389</td>\n      <td>3497</td>\n      <td>3603</td>\n    </tr>\n    <tr>\n      <th>223</th>\n      <td>NaN</td>\n      <td>Somalia</td>\n      <td>5.152149</td>\n      <td>46.199616</td>\n      <td>0</td>\n      <td>0</td>\n      <td>0</td>\n      <td>0</td>\n      <td>0</td>\n      <td>0</td>\n      <td>...</td>\n      <td>3310</td>\n      <td>3332</td>\n      <td>3332</td>\n      <td>3362</td>\n      <td>3362</td>\n      <td>3371</td>\n      <td>3371</td>\n      <td>3371</td>\n      <td>3376</td>\n      <td>3376</td>\n    </tr>\n    <tr>\n      <th>224</th>\n      <td>NaN</td>\n      <td>South Africa</td>\n      <td>-30.559500</td>\n      <td>22.937500</td>\n      <td>0</td>\n      <td>0</td>\n      <td>0</td>\n      <td>0</td>\n      <td>0</td>\n      <td>0</td>\n      <td>...</td>\n      <td>633015</td>\n      <td>635078</td>\n      <td>636884</td>\n      <td>638517</td>\n      <td>639362</td>\n      <td>640441</td>\n      <td>642431</td>\n      <td>644438</td>\n      <td>646398</td>\n      <td>648214</td>\n    </tr>\n    <tr>\n      <th>225</th>\n      <td>NaN</td>\n      <td>South Sudan</td>\n      <td>6.877000</td>\n      <td>31.307000</td>\n      <td>0</td>\n      <td>0</td>\n      <td>0</td>\n      <td>0</td>\n      <td>0</td>\n      <td>0</td>\n      <td>...</td>\n      <td>2533</td>\n      <td>2536</td>\n      <td>2544</td>\n      <td>2544</td>\n      <td>2545</td>\n      <td>2552</td>\n      <td>2555</td>\n      <td>2555</td>\n      <td>2568</td>\n      <td>2578</td>\n    </tr>\n    <tr>\n      <th>226</th>\n      <td>NaN</td>\n      <td>Spain</td>\n      <td>40.463667</td>\n      <td>-3.749220</td>\n      <td>0</td>\n      <td>0</td>\n      <td>0</td>\n      <td>0</td>\n      <td>0</td>\n      <td>0</td>\n      <td>...</td>\n      <td>488513</td>\n      <td>498989</td>\n      <td>498989</td>\n      <td>498989</td>\n      <td>525549</td>\n      <td>534513</td>\n      <td>543379</td>\n      <td>554143</td>\n      <td>566326</td>\n      <td>566326</td>\n    </tr>\n    <tr>\n      <th>227</th>\n      <td>NaN</td>\n      <td>Sri Lanka</td>\n      <td>7.873054</td>\n      <td>80.771797</td>\n      <td>0</td>\n      <td>0</td>\n      <td>0</td>\n      <td>0</td>\n      <td>0</td>\n      <td>1</td>\n      <td>...</td>\n      <td>3111</td>\n      <td>3115</td>\n      <td>3121</td>\n      <td>3123</td>\n      <td>3123</td>\n      <td>3140</td>\n      <td>3147</td>\n      <td>3155</td>\n      <td>3169</td>\n      <td>3195</td>\n    </tr>\n    <tr>\n      <th>228</th>\n      <td>NaN</td>\n      <td>Sudan</td>\n      <td>12.862800</td>\n      <td>30.217600</td>\n      <td>0</td>\n      <td>0</td>\n      <td>0</td>\n      <td>0</td>\n      <td>0</td>\n      <td>0</td>\n      <td>...</td>\n      <td>13189</td>\n      <td>13189</td>\n      <td>13407</td>\n      <td>13437</td>\n      <td>13437</td>\n      <td>13437</td>\n      <td>13437</td>\n      <td>13437</td>\n      <td>13470</td>\n      <td>13470</td>\n    </tr>\n    <tr>\n      <th>229</th>\n      <td>NaN</td>\n      <td>Suriname</td>\n      <td>3.919300</td>\n      <td>-56.027800</td>\n      <td>0</td>\n      <td>0</td>\n      <td>0</td>\n      <td>0</td>\n      <td>0</td>\n      <td>0</td>\n      <td>...</td>\n      <td>4215</td>\n      <td>4252</td>\n      <td>4320</td>\n      <td>4346</td>\n      <td>4360</td>\n      <td>4419</td>\n      <td>4447</td>\n      <td>4477</td>\n      <td>4529</td>\n      <td>4579</td>\n    </tr>\n    <tr>\n      <th>230</th>\n      <td>NaN</td>\n      <td>Sweden</td>\n      <td>60.128161</td>\n      <td>18.643501</td>\n      <td>0</td>\n      <td>0</td>\n      <td>0</td>\n      <td>0</td>\n      <td>0</td>\n      <td>0</td>\n      <td>...</td>\n      <td>84729</td>\n      <td>84985</td>\n      <td>84985</td>\n      <td>84985</td>\n      <td>85558</td>\n      <td>85707</td>\n      <td>85880</td>\n      <td>86194</td>\n      <td>86505</td>\n      <td>86505</td>\n    </tr>\n    <tr>\n      <th>231</th>\n      <td>NaN</td>\n      <td>Switzerland</td>\n      <td>46.818200</td>\n      <td>8.227500</td>\n      <td>0</td>\n      <td>0</td>\n      <td>0</td>\n      <td>0</td>\n      <td>0</td>\n      <td>0</td>\n      <td>...</td>\n      <td>43127</td>\n      <td>43532</td>\n      <td>43957</td>\n      <td>44401</td>\n      <td>44592</td>\n      <td>44837</td>\n      <td>45306</td>\n      <td>45711</td>\n      <td>46239</td>\n      <td>46704</td>\n    </tr>\n    <tr>\n      <th>232</th>\n      <td>NaN</td>\n      <td>Syria</td>\n      <td>34.802075</td>\n      <td>38.996815</td>\n      <td>0</td>\n      <td>0</td>\n      <td>0</td>\n      <td>0</td>\n      <td>0</td>\n      <td>0</td>\n      <td>...</td>\n      <td>2973</td>\n      <td>3041</td>\n      <td>3104</td>\n      <td>3171</td>\n      <td>3229</td>\n      <td>3289</td>\n      <td>3351</td>\n      <td>3416</td>\n      <td>3476</td>\n      <td>3506</td>\n    </tr>\n    <tr>\n      <th>233</th>\n      <td>NaN</td>\n      <td>Taiwan*</td>\n      <td>23.700000</td>\n      <td>121.000000</td>\n      <td>1</td>\n      <td>1</td>\n      <td>3</td>\n      <td>3</td>\n      <td>4</td>\n      <td>5</td>\n      <td>...</td>\n      <td>489</td>\n      <td>490</td>\n      <td>492</td>\n      <td>493</td>\n      <td>494</td>\n      <td>495</td>\n      <td>495</td>\n      <td>496</td>\n      <td>498</td>\n      <td>498</td>\n    </tr>\n    <tr>\n      <th>234</th>\n      <td>NaN</td>\n      <td>Tajikistan</td>\n      <td>38.861000</td>\n      <td>71.276100</td>\n      <td>0</td>\n      <td>0</td>\n      <td>0</td>\n      <td>0</td>\n      <td>0</td>\n      <td>0</td>\n      <td>...</td>\n      <td>8690</td>\n      <td>8724</td>\n      <td>8757</td>\n      <td>8792</td>\n      <td>8824</td>\n      <td>8860</td>\n      <td>8899</td>\n      <td>8939</td>\n      <td>8977</td>\n      <td>9014</td>\n    </tr>\n    <tr>\n      <th>235</th>\n      <td>NaN</td>\n      <td>Tanzania</td>\n      <td>-6.369028</td>\n      <td>34.888822</td>\n      <td>0</td>\n      <td>0</td>\n      <td>0</td>\n      <td>0</td>\n      <td>0</td>\n      <td>0</td>\n      <td>...</td>\n      <td>509</td>\n      <td>509</td>\n      <td>509</td>\n      <td>509</td>\n      <td>509</td>\n      <td>509</td>\n      <td>509</td>\n      <td>509</td>\n      <td>509</td>\n      <td>509</td>\n    </tr>\n    <tr>\n      <th>236</th>\n      <td>NaN</td>\n      <td>Thailand</td>\n      <td>15.870032</td>\n      <td>100.992541</td>\n      <td>2</td>\n      <td>3</td>\n      <td>5</td>\n      <td>7</td>\n      <td>8</td>\n      <td>8</td>\n      <td>...</td>\n      <td>3431</td>\n      <td>3431</td>\n      <td>3444</td>\n      <td>3445</td>\n      <td>3446</td>\n      <td>3447</td>\n      <td>3454</td>\n      <td>3461</td>\n      <td>3461</td>\n      <td>3473</td>\n    </tr>\n    <tr>\n      <th>237</th>\n      <td>NaN</td>\n      <td>Timor-Leste</td>\n      <td>-8.874217</td>\n      <td>125.727539</td>\n      <td>0</td>\n      <td>0</td>\n      <td>0</td>\n      <td>0</td>\n      <td>0</td>\n      <td>0</td>\n      <td>...</td>\n      <td>27</td>\n      <td>27</td>\n      <td>27</td>\n      <td>27</td>\n      <td>27</td>\n      <td>27</td>\n      <td>27</td>\n      <td>27</td>\n      <td>27</td>\n      <td>27</td>\n    </tr>\n    <tr>\n      <th>238</th>\n      <td>NaN</td>\n      <td>Togo</td>\n      <td>8.619500</td>\n      <td>0.824800</td>\n      <td>0</td>\n      <td>0</td>\n      <td>0</td>\n      <td>0</td>\n      <td>0</td>\n      <td>0</td>\n      <td>...</td>\n      <td>1443</td>\n      <td>1457</td>\n      <td>1477</td>\n      <td>1488</td>\n      <td>1493</td>\n      <td>1513</td>\n      <td>1528</td>\n      <td>1537</td>\n      <td>1548</td>\n      <td>1555</td>\n    </tr>\n    <tr>\n      <th>239</th>\n      <td>NaN</td>\n      <td>Trinidad and Tobago</td>\n      <td>10.691800</td>\n      <td>-61.222500</td>\n      <td>0</td>\n      <td>0</td>\n      <td>0</td>\n      <td>0</td>\n      <td>0</td>\n      <td>0</td>\n      <td>...</td>\n      <td>1984</td>\n      <td>2040</td>\n      <td>2230</td>\n      <td>2250</td>\n      <td>2277</td>\n      <td>2391</td>\n      <td>2588</td>\n      <td>2698</td>\n      <td>2825</td>\n      <td>2993</td>\n    </tr>\n    <tr>\n      <th>240</th>\n      <td>NaN</td>\n      <td>Tunisia</td>\n      <td>33.886917</td>\n      <td>9.537499</td>\n      <td>0</td>\n      <td>0</td>\n      <td>0</td>\n      <td>0</td>\n      <td>0</td>\n      <td>0</td>\n      <td>...</td>\n      <td>4394</td>\n      <td>4542</td>\n      <td>4776</td>\n      <td>5041</td>\n      <td>5124</td>\n      <td>5417</td>\n      <td>5417</td>\n      <td>5882</td>\n      <td>6259</td>\n      <td>6635</td>\n    </tr>\n    <tr>\n      <th>241</th>\n      <td>NaN</td>\n      <td>Turkey</td>\n      <td>38.963700</td>\n      <td>35.243300</td>\n      <td>0</td>\n      <td>0</td>\n      <td>0</td>\n      <td>0</td>\n      <td>0</td>\n      <td>0</td>\n      <td>...</td>\n      <td>274943</td>\n      <td>276555</td>\n      <td>278228</td>\n      <td>279806</td>\n      <td>281509</td>\n      <td>283270</td>\n      <td>284943</td>\n      <td>286455</td>\n      <td>288126</td>\n      <td>289635</td>\n    </tr>\n    <tr>\n      <th>242</th>\n      <td>NaN</td>\n      <td>US</td>\n      <td>40.000000</td>\n      <td>-100.000000</td>\n      <td>1</td>\n      <td>1</td>\n      <td>2</td>\n      <td>2</td>\n      <td>5</td>\n      <td>5</td>\n      <td>...</td>\n      <td>6150016</td>\n      <td>6200518</td>\n      <td>6244970</td>\n      <td>6276365</td>\n      <td>6300622</td>\n      <td>6327009</td>\n      <td>6360212</td>\n      <td>6396100</td>\n      <td>6443652</td>\n      <td>6485123</td>\n    </tr>\n    <tr>\n      <th>243</th>\n      <td>NaN</td>\n      <td>Uganda</td>\n      <td>1.373333</td>\n      <td>32.290275</td>\n      <td>0</td>\n      <td>0</td>\n      <td>0</td>\n      <td>0</td>\n      <td>0</td>\n      <td>0</td>\n      <td>...</td>\n      <td>3288</td>\n      <td>3353</td>\n      <td>3539</td>\n      <td>3667</td>\n      <td>3776</td>\n      <td>3900</td>\n      <td>4101</td>\n      <td>4291</td>\n      <td>4377</td>\n      <td>4703</td>\n    </tr>\n    <tr>\n      <th>244</th>\n      <td>NaN</td>\n      <td>Ukraine</td>\n      <td>48.379400</td>\n      <td>31.165600</td>\n      <td>0</td>\n      <td>0</td>\n      <td>0</td>\n      <td>0</td>\n      <td>0</td>\n      <td>0</td>\n      <td>...</td>\n      <td>131300</td>\n      <td>134069</td>\n      <td>136966</td>\n      <td>139171</td>\n      <td>141424</td>\n      <td>143914</td>\n      <td>146511</td>\n      <td>149146</td>\n      <td>152373</td>\n      <td>155558</td>\n    </tr>\n    <tr>\n      <th>245</th>\n      <td>NaN</td>\n      <td>United Arab Emirates</td>\n      <td>23.424076</td>\n      <td>53.847818</td>\n      <td>0</td>\n      <td>0</td>\n      <td>0</td>\n      <td>0</td>\n      <td>0</td>\n      <td>0</td>\n      <td>...</td>\n      <td>72154</td>\n      <td>72766</td>\n      <td>73471</td>\n      <td>73984</td>\n      <td>74454</td>\n      <td>75098</td>\n      <td>75981</td>\n      <td>76911</td>\n      <td>77842</td>\n      <td>78849</td>\n    </tr>\n    <tr>\n      <th>246</th>\n      <td>Anguilla</td>\n      <td>United Kingdom</td>\n      <td>18.220600</td>\n      <td>-63.068600</td>\n      <td>0</td>\n      <td>0</td>\n      <td>0</td>\n      <td>0</td>\n      <td>0</td>\n      <td>0</td>\n      <td>...</td>\n      <td>3</td>\n      <td>3</td>\n      <td>3</td>\n      <td>3</td>\n      <td>3</td>\n      <td>3</td>\n      <td>3</td>\n      <td>3</td>\n      <td>3</td>\n      <td>3</td>\n    </tr>\n    <tr>\n      <th>247</th>\n      <td>Bermuda</td>\n      <td>United Kingdom</td>\n      <td>32.307800</td>\n      <td>-64.750500</td>\n      <td>0</td>\n      <td>0</td>\n      <td>0</td>\n      <td>0</td>\n      <td>0</td>\n      <td>0</td>\n      <td>...</td>\n      <td>174</td>\n      <td>175</td>\n      <td>175</td>\n      <td>175</td>\n      <td>175</td>\n      <td>175</td>\n      <td>177</td>\n      <td>177</td>\n      <td>177</td>\n      <td>177</td>\n    </tr>\n    <tr>\n      <th>248</th>\n      <td>British Virgin Islands</td>\n      <td>United Kingdom</td>\n      <td>18.420700</td>\n      <td>-64.640000</td>\n      <td>0</td>\n      <td>0</td>\n      <td>0</td>\n      <td>0</td>\n      <td>0</td>\n      <td>0</td>\n      <td>...</td>\n      <td>47</td>\n      <td>63</td>\n      <td>63</td>\n      <td>63</td>\n      <td>63</td>\n      <td>63</td>\n      <td>63</td>\n      <td>63</td>\n      <td>63</td>\n      <td>66</td>\n    </tr>\n    <tr>\n      <th>249</th>\n      <td>Cayman Islands</td>\n      <td>United Kingdom</td>\n      <td>19.313300</td>\n      <td>-81.254600</td>\n      <td>0</td>\n      <td>0</td>\n      <td>0</td>\n      <td>0</td>\n      <td>0</td>\n      <td>0</td>\n      <td>...</td>\n      <td>205</td>\n      <td>205</td>\n      <td>205</td>\n      <td>205</td>\n      <td>205</td>\n      <td>205</td>\n      <td>207</td>\n      <td>208</td>\n      <td>208</td>\n      <td>208</td>\n    </tr>\n    <tr>\n      <th>250</th>\n      <td>Channel Islands</td>\n      <td>United Kingdom</td>\n      <td>49.372300</td>\n      <td>-2.364400</td>\n      <td>0</td>\n      <td>0</td>\n      <td>0</td>\n      <td>0</td>\n      <td>0</td>\n      <td>0</td>\n      <td>...</td>\n      <td>631</td>\n      <td>631</td>\n      <td>631</td>\n      <td>626</td>\n      <td>628</td>\n      <td>629</td>\n      <td>631</td>\n      <td>631</td>\n      <td>633</td>\n      <td>633</td>\n    </tr>\n    <tr>\n      <th>251</th>\n      <td>Falkland Islands (Malvinas)</td>\n      <td>United Kingdom</td>\n      <td>-51.796300</td>\n      <td>-59.523600</td>\n      <td>0</td>\n      <td>0</td>\n      <td>0</td>\n      <td>0</td>\n      <td>0</td>\n      <td>0</td>\n      <td>...</td>\n      <td>13</td>\n      <td>13</td>\n      <td>13</td>\n      <td>13</td>\n      <td>13</td>\n      <td>13</td>\n      <td>13</td>\n      <td>13</td>\n      <td>13</td>\n      <td>13</td>\n    </tr>\n    <tr>\n      <th>252</th>\n      <td>Gibraltar</td>\n      <td>United Kingdom</td>\n      <td>36.140800</td>\n      <td>-5.353600</td>\n      <td>0</td>\n      <td>0</td>\n      <td>0</td>\n      <td>0</td>\n      <td>0</td>\n      <td>0</td>\n      <td>...</td>\n      <td>298</td>\n      <td>305</td>\n      <td>312</td>\n      <td>315</td>\n      <td>315</td>\n      <td>320</td>\n      <td>322</td>\n      <td>323</td>\n      <td>323</td>\n      <td>327</td>\n    </tr>\n    <tr>\n      <th>253</th>\n      <td>Isle of Man</td>\n      <td>United Kingdom</td>\n      <td>54.236100</td>\n      <td>-4.548100</td>\n      <td>0</td>\n      <td>0</td>\n      <td>0</td>\n      <td>0</td>\n      <td>0</td>\n      <td>0</td>\n      <td>...</td>\n      <td>336</td>\n      <td>336</td>\n      <td>336</td>\n      <td>337</td>\n      <td>337</td>\n      <td>337</td>\n      <td>337</td>\n      <td>337</td>\n      <td>337</td>\n      <td>337</td>\n    </tr>\n    <tr>\n      <th>254</th>\n      <td>Montserrat</td>\n      <td>United Kingdom</td>\n      <td>16.742498</td>\n      <td>-62.187366</td>\n      <td>0</td>\n      <td>0</td>\n      <td>0</td>\n      <td>0</td>\n      <td>0</td>\n      <td>0</td>\n      <td>...</td>\n      <td>13</td>\n      <td>13</td>\n      <td>13</td>\n      <td>13</td>\n      <td>13</td>\n      <td>13</td>\n      <td>13</td>\n      <td>13</td>\n      <td>13</td>\n      <td>13</td>\n    </tr>\n    <tr>\n      <th>255</th>\n      <td>Turks and Caicos Islands</td>\n      <td>United Kingdom</td>\n      <td>21.694000</td>\n      <td>-71.797900</td>\n      <td>0</td>\n      <td>0</td>\n      <td>0</td>\n      <td>0</td>\n      <td>0</td>\n      <td>0</td>\n      <td>...</td>\n      <td>577</td>\n      <td>591</td>\n      <td>598</td>\n      <td>598</td>\n      <td>599</td>\n      <td>614</td>\n      <td>628</td>\n      <td>638</td>\n      <td>641</td>\n      <td>641</td>\n    </tr>\n    <tr>\n      <th>256</th>\n      <td>NaN</td>\n      <td>United Kingdom</td>\n      <td>55.378100</td>\n      <td>-3.436000</td>\n      <td>0</td>\n      <td>0</td>\n      <td>0</td>\n      <td>0</td>\n      <td>0</td>\n      <td>0</td>\n      <td>...</td>\n      <td>340411</td>\n      <td>342351</td>\n      <td>344164</td>\n      <td>347152</td>\n      <td>350100</td>\n      <td>352560</td>\n      <td>355219</td>\n      <td>358138</td>\n      <td>361677</td>\n      <td>365174</td>\n    </tr>\n    <tr>\n      <th>257</th>\n      <td>NaN</td>\n      <td>Uruguay</td>\n      <td>-32.522800</td>\n      <td>-55.765800</td>\n      <td>0</td>\n      <td>0</td>\n      <td>0</td>\n      <td>0</td>\n      <td>0</td>\n      <td>0</td>\n      <td>...</td>\n      <td>1636</td>\n      <td>1653</td>\n      <td>1669</td>\n      <td>1679</td>\n      <td>1693</td>\n      <td>1712</td>\n      <td>1741</td>\n      <td>1759</td>\n      <td>1773</td>\n      <td>1780</td>\n    </tr>\n    <tr>\n      <th>258</th>\n      <td>NaN</td>\n      <td>Uzbekistan</td>\n      <td>41.377491</td>\n      <td>64.585262</td>\n      <td>0</td>\n      <td>0</td>\n      <td>0</td>\n      <td>0</td>\n      <td>0</td>\n      <td>0</td>\n      <td>...</td>\n      <td>42688</td>\n      <td>42998</td>\n      <td>43293</td>\n      <td>43587</td>\n      <td>43893</td>\n      <td>44281</td>\n      <td>44930</td>\n      <td>45473</td>\n      <td>46160</td>\n      <td>46721</td>\n    </tr>\n    <tr>\n      <th>259</th>\n      <td>NaN</td>\n      <td>Venezuela</td>\n      <td>6.423800</td>\n      <td>-66.589700</td>\n      <td>0</td>\n      <td>0</td>\n      <td>0</td>\n      <td>0</td>\n      <td>0</td>\n      <td>0</td>\n      <td>...</td>\n      <td>49877</td>\n      <td>50973</td>\n      <td>52165</td>\n      <td>53289</td>\n      <td>54350</td>\n      <td>55563</td>\n      <td>56751</td>\n      <td>57823</td>\n      <td>58663</td>\n      <td>59630</td>\n    </tr>\n    <tr>\n      <th>260</th>\n      <td>NaN</td>\n      <td>Vietnam</td>\n      <td>14.058324</td>\n      <td>108.277199</td>\n      <td>0</td>\n      <td>2</td>\n      <td>2</td>\n      <td>2</td>\n      <td>2</td>\n      <td>2</td>\n      <td>...</td>\n      <td>1046</td>\n      <td>1049</td>\n      <td>1049</td>\n      <td>1049</td>\n      <td>1049</td>\n      <td>1054</td>\n      <td>1059</td>\n      <td>1059</td>\n      <td>1060</td>\n      <td>1060</td>\n    </tr>\n    <tr>\n      <th>261</th>\n      <td>NaN</td>\n      <td>West Bank and Gaza</td>\n      <td>31.952200</td>\n      <td>35.233200</td>\n      <td>0</td>\n      <td>0</td>\n      <td>0</td>\n      <td>0</td>\n      <td>0</td>\n      <td>0</td>\n      <td>...</td>\n      <td>24471</td>\n      <td>25142</td>\n      <td>25575</td>\n      <td>26127</td>\n      <td>26779</td>\n      <td>27363</td>\n      <td>27919</td>\n      <td>28664</td>\n      <td>29256</td>\n      <td>29906</td>\n    </tr>\n    <tr>\n      <th>262</th>\n      <td>NaN</td>\n      <td>Western Sahara</td>\n      <td>24.215500</td>\n      <td>-12.885800</td>\n      <td>0</td>\n      <td>0</td>\n      <td>0</td>\n      <td>0</td>\n      <td>0</td>\n      <td>0</td>\n      <td>...</td>\n      <td>10</td>\n      <td>10</td>\n      <td>10</td>\n      <td>10</td>\n      <td>10</td>\n      <td>10</td>\n      <td>10</td>\n      <td>10</td>\n      <td>10</td>\n      <td>10</td>\n    </tr>\n    <tr>\n      <th>263</th>\n      <td>NaN</td>\n      <td>Yemen</td>\n      <td>15.552727</td>\n      <td>48.516388</td>\n      <td>0</td>\n      <td>0</td>\n      <td>0</td>\n      <td>0</td>\n      <td>0</td>\n      <td>0</td>\n      <td>...</td>\n      <td>1979</td>\n      <td>1983</td>\n      <td>1983</td>\n      <td>1987</td>\n      <td>1989</td>\n      <td>1994</td>\n      <td>1999</td>\n      <td>2003</td>\n      <td>2007</td>\n      <td>2009</td>\n    </tr>\n    <tr>\n      <th>264</th>\n      <td>NaN</td>\n      <td>Zambia</td>\n      <td>-13.133897</td>\n      <td>27.849332</td>\n      <td>0</td>\n      <td>0</td>\n      <td>0</td>\n      <td>0</td>\n      <td>0</td>\n      <td>0</td>\n      <td>...</td>\n      <td>12523</td>\n      <td>12639</td>\n      <td>12709</td>\n      <td>12776</td>\n      <td>12836</td>\n      <td>12952</td>\n      <td>13112</td>\n      <td>13214</td>\n      <td>13323</td>\n      <td>13466</td>\n    </tr>\n    <tr>\n      <th>265</th>\n      <td>NaN</td>\n      <td>Zimbabwe</td>\n      <td>-19.015438</td>\n      <td>29.154857</td>\n      <td>0</td>\n      <td>0</td>\n      <td>0</td>\n      <td>0</td>\n      <td>0</td>\n      <td>0</td>\n      <td>...</td>\n      <td>6678</td>\n      <td>6837</td>\n      <td>6837</td>\n      <td>6837</td>\n      <td>7298</td>\n      <td>7388</td>\n      <td>7429</td>\n      <td>7453</td>\n      <td>7479</td>\n      <td>7508</td>\n    </tr>\n  </tbody>\n</table>\n<p>266 rows × 239 columns</p>\n</div>"
     },
     "metadata": {},
     "execution_count": 150
    }
   ],
   "source": [
    "abc"
   ]
  }
 ],
 "metadata": {
  "kernelspec": {
   "display_name": "Python 3",
   "language": "python",
   "name": "python3"
  },
  "language_info": {
   "codemirror_mode": {
    "name": "ipython",
    "version": 3
   },
   "file_extension": ".py",
   "mimetype": "text/x-python",
   "name": "python",
   "nbconvert_exporter": "python",
   "pygments_lexer": "ipython3",
   "version": "3.7.4-final"
  }
 },
 "nbformat": 4,
 "nbformat_minor": 2
}